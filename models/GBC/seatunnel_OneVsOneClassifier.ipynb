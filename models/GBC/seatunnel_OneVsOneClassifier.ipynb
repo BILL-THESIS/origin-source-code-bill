{
 "cells": [
  {
   "cell_type": "code",
   "execution_count": 14,
   "metadata": {
    "ExecuteTime": {
     "end_time": "2023-11-26T09:16:37.923475600Z",
     "start_time": "2023-11-26T09:16:37.891026600Z"
    }
   },
   "outputs": [],
   "source": [
    "import pandas as pd\n",
    "import numpy as np\n",
    "from pandas import Timedelta\n",
    "from datetime import timedelta\n",
    "from sklearn.datasets import load_wine\n",
    "from sklearn.ensemble import GradientBoostingClassifier"
   ]
  },
  {
   "cell_type": "code",
   "execution_count": 15,
   "metadata": {
    "ExecuteTime": {
     "end_time": "2023-11-26T09:16:37.943459500Z",
     "start_time": "2023-11-26T09:16:37.907965600Z"
    }
   },
   "outputs": [],
   "source": [
    "# df = pd.read_pickle(\"../seatunnel.pkl\")\n",
    "df = pd.read_pickle(r\"../../models/data_train/'begin_Bloaters', 'begin_Couplers', 'begin_Object-Orientation Abusers'_3.pkl\")\n",
    "df = df.drop_duplicates()"
   ]
  },
  {
   "cell_type": "code",
   "execution_count": 16,
   "metadata": {
    "ExecuteTime": {
     "end_time": "2023-11-26T09:16:37.954735100Z",
     "start_time": "2023-11-26T09:16:37.942458900Z"
    }
   },
   "outputs": [
    {
     "data": {
      "text/plain": "                                     begin_sha  \\\n0     84be0f9fd057b1680d001de38802ce1c28d79f04   \n1     84be0f9fd057b1680d001de38802ce1c28d79f04   \n2     84be0f9fd057b1680d001de38802ce1c28d79f04   \n3     84be0f9fd057b1680d001de38802ce1c28d79f04   \n4     1b918160214a0b20ce1ae8f9e02f8e0dce243b53   \n...                                        ...   \n1063  1afed83b2c4ae750ee8159ae359924e6f8e471e4   \n1064  4bfd6cb1c97a0ffa75e0cd8a0ff8fc758de5f9d6   \n1065  5fa746466941d871d4b1246b451f398416952541   \n1066  04addef64bbd2567d47acbb7f434245fba7ac8a5   \n1067  79339df3455c88ba606847d79b3b3a1682c97a67   \n\n                                       end_sha  commits  additions  deletions  \\\n0     9a2efa51c7180b369ecfea17efaae813d9d0bfc5        1         10          4   \n1     5e03d22d6cb5bfdaf941b7749e0a313bd6ab2f86        1          2          1   \n2     e0d8519a9d7b6dfac29c1daf4199b6fe87781d0a        1         36         67   \n3     d0a47b9811a30f5de6d59334bb4fcc8c74ef640b        1         21          2   \n4     988d2f0c4ef3ba8db0e701ab2105555996def4f7        8        211        212   \n...                                        ...      ...        ...        ...   \n1063  28c87ce9911a7fc8d0fc50ff94d8351824056335        4        191         40   \n1064  e03ff8b09c54470023a87f9e615cf689fc9234da        6        470         42   \n1065  4bfd6cb1c97a0ffa75e0cd8a0ff8fc758de5f9d6        2         69         49   \n1066  3b6a8b4058593b1ff11c44560ebcc56142cda830        1         11       1128   \n1067  04addef64bbd2567d47acbb7f434245fba7ac8a5        1         36          0   \n\n      changed_files       total_time            begin_time  \\\n0                 3  3 days 01:27:48  2023-06-02T07:22:03Z   \n1                 1  3 days 04:15:10  2023-06-02T05:07:40Z   \n2                 9  0 days 05:24:03  2023-06-02T03:16:04Z   \n3                 3  4 days 00:22:26  2023-06-01T08:30:26Z   \n4                80 12 days 00:39:27  2023-06-01T07:45:26Z   \n...             ...              ...                   ...   \n1063             12  0 days 00:43:10  2019-10-30T01:18:36Z   \n1064             16  0 days 19:01:39  2019-09-19T11:01:45Z   \n1065              9  0 days 00:16:22  2019-09-19T09:50:27Z   \n1066             27  0 days 00:33:35  2019-08-13T15:14:02Z   \n1067              1  0 days 00:09:14  2019-08-13T02:16:57Z   \n\n                  end_time begin_Dispensables  ...  end_Bloaters  \\\n0     2023-06-05T08:49:51Z              500.0  ...         261.0   \n1     2023-06-05T09:22:50Z              500.0  ...         262.0   \n2     2023-06-02T08:40:07Z              500.0  ...         261.0   \n3     2023-06-05T08:52:52Z              500.0  ...         261.0   \n4     2023-06-13T08:24:53Z              499.0  ...         262.0   \n...                    ...                ...  ...           ...   \n1063  2019-10-30T02:01:46Z               16.0  ...          15.0   \n1064  2019-09-20T06:03:24Z               14.0  ...          14.0   \n1065  2019-09-19T10:06:49Z               14.0  ...          14.0   \n1066  2019-08-13T15:47:37Z                2.0  ...          14.0   \n1067  2019-08-13T02:26:11Z                2.0  ...          12.0   \n\n      end_Change Preventers  end_Couplers  end_Object-Orientation Abusers  \\\n0                     261.0         304.0                           693.0   \n1                     262.0         304.0                           693.0   \n2                     261.0         304.0                           693.0   \n3                     261.0         304.0                           693.0   \n4                     262.0         304.0                           693.0   \n...                     ...           ...                             ...   \n1063                   15.0           7.0                           102.0   \n1064                   14.0           7.0                            89.0   \n1065                   14.0           7.0                            89.0   \n1066                   14.0           7.0                            89.0   \n1067                   12.0           8.0                            89.0   \n\n      begin_Bloaters  begin_Couplers  begin_Object-Orientation Abusers  \\\n0              262.0           304.0                             304.0   \n1              262.0           304.0                             304.0   \n2              262.0           304.0                             304.0   \n3              262.0           304.0                             304.0   \n4              261.0           304.0                             304.0   \n...              ...             ...                               ...   \n1063            14.0             7.0                               7.0   \n1064            12.0             8.0                               8.0   \n1065            12.0             8.0                               8.0   \n1066             3.0             3.0                               3.0   \n1067             3.0             3.0                               3.0   \n\n      ['begin_Bloaters', 'begin_Couplers', 'begin_Object-Orientation Abusers']_3  \\\n0                                                     2                            \n1                                                     2                            \n2                                                     2                            \n3                                                     2                            \n4                                                     2                            \n...                                                 ...                            \n1063                                                  1                            \n1064                                                  1                            \n1065                                                  1                            \n1066                                                  1                            \n1067                                                  1                            \n\n      scored  clusters  \n0     0.6835         3  \n1     0.6835         3  \n2     0.6835         3  \n3     0.6835         3  \n4     0.6835         3  \n...      ...       ...  \n1063  0.6835         3  \n1064  0.6835         3  \n1065  0.6835         3  \n1066  0.6835         3  \n1067  0.6835         3  \n\n[1066 rows x 25 columns]",
      "text/html": "<div>\n<style scoped>\n    .dataframe tbody tr th:only-of-type {\n        vertical-align: middle;\n    }\n\n    .dataframe tbody tr th {\n        vertical-align: top;\n    }\n\n    .dataframe thead th {\n        text-align: right;\n    }\n</style>\n<table border=\"1\" class=\"dataframe\">\n  <thead>\n    <tr style=\"text-align: right;\">\n      <th></th>\n      <th>begin_sha</th>\n      <th>end_sha</th>\n      <th>commits</th>\n      <th>additions</th>\n      <th>deletions</th>\n      <th>changed_files</th>\n      <th>total_time</th>\n      <th>begin_time</th>\n      <th>end_time</th>\n      <th>begin_Dispensables</th>\n      <th>...</th>\n      <th>end_Bloaters</th>\n      <th>end_Change Preventers</th>\n      <th>end_Couplers</th>\n      <th>end_Object-Orientation Abusers</th>\n      <th>begin_Bloaters</th>\n      <th>begin_Couplers</th>\n      <th>begin_Object-Orientation Abusers</th>\n      <th>['begin_Bloaters', 'begin_Couplers', 'begin_Object-Orientation Abusers']_3</th>\n      <th>scored</th>\n      <th>clusters</th>\n    </tr>\n  </thead>\n  <tbody>\n    <tr>\n      <th>0</th>\n      <td>84be0f9fd057b1680d001de38802ce1c28d79f04</td>\n      <td>9a2efa51c7180b369ecfea17efaae813d9d0bfc5</td>\n      <td>1</td>\n      <td>10</td>\n      <td>4</td>\n      <td>3</td>\n      <td>3 days 01:27:48</td>\n      <td>2023-06-02T07:22:03Z</td>\n      <td>2023-06-05T08:49:51Z</td>\n      <td>500.0</td>\n      <td>...</td>\n      <td>261.0</td>\n      <td>261.0</td>\n      <td>304.0</td>\n      <td>693.0</td>\n      <td>262.0</td>\n      <td>304.0</td>\n      <td>304.0</td>\n      <td>2</td>\n      <td>0.6835</td>\n      <td>3</td>\n    </tr>\n    <tr>\n      <th>1</th>\n      <td>84be0f9fd057b1680d001de38802ce1c28d79f04</td>\n      <td>5e03d22d6cb5bfdaf941b7749e0a313bd6ab2f86</td>\n      <td>1</td>\n      <td>2</td>\n      <td>1</td>\n      <td>1</td>\n      <td>3 days 04:15:10</td>\n      <td>2023-06-02T05:07:40Z</td>\n      <td>2023-06-05T09:22:50Z</td>\n      <td>500.0</td>\n      <td>...</td>\n      <td>262.0</td>\n      <td>262.0</td>\n      <td>304.0</td>\n      <td>693.0</td>\n      <td>262.0</td>\n      <td>304.0</td>\n      <td>304.0</td>\n      <td>2</td>\n      <td>0.6835</td>\n      <td>3</td>\n    </tr>\n    <tr>\n      <th>2</th>\n      <td>84be0f9fd057b1680d001de38802ce1c28d79f04</td>\n      <td>e0d8519a9d7b6dfac29c1daf4199b6fe87781d0a</td>\n      <td>1</td>\n      <td>36</td>\n      <td>67</td>\n      <td>9</td>\n      <td>0 days 05:24:03</td>\n      <td>2023-06-02T03:16:04Z</td>\n      <td>2023-06-02T08:40:07Z</td>\n      <td>500.0</td>\n      <td>...</td>\n      <td>261.0</td>\n      <td>261.0</td>\n      <td>304.0</td>\n      <td>693.0</td>\n      <td>262.0</td>\n      <td>304.0</td>\n      <td>304.0</td>\n      <td>2</td>\n      <td>0.6835</td>\n      <td>3</td>\n    </tr>\n    <tr>\n      <th>3</th>\n      <td>84be0f9fd057b1680d001de38802ce1c28d79f04</td>\n      <td>d0a47b9811a30f5de6d59334bb4fcc8c74ef640b</td>\n      <td>1</td>\n      <td>21</td>\n      <td>2</td>\n      <td>3</td>\n      <td>4 days 00:22:26</td>\n      <td>2023-06-01T08:30:26Z</td>\n      <td>2023-06-05T08:52:52Z</td>\n      <td>500.0</td>\n      <td>...</td>\n      <td>261.0</td>\n      <td>261.0</td>\n      <td>304.0</td>\n      <td>693.0</td>\n      <td>262.0</td>\n      <td>304.0</td>\n      <td>304.0</td>\n      <td>2</td>\n      <td>0.6835</td>\n      <td>3</td>\n    </tr>\n    <tr>\n      <th>4</th>\n      <td>1b918160214a0b20ce1ae8f9e02f8e0dce243b53</td>\n      <td>988d2f0c4ef3ba8db0e701ab2105555996def4f7</td>\n      <td>8</td>\n      <td>211</td>\n      <td>212</td>\n      <td>80</td>\n      <td>12 days 00:39:27</td>\n      <td>2023-06-01T07:45:26Z</td>\n      <td>2023-06-13T08:24:53Z</td>\n      <td>499.0</td>\n      <td>...</td>\n      <td>262.0</td>\n      <td>262.0</td>\n      <td>304.0</td>\n      <td>693.0</td>\n      <td>261.0</td>\n      <td>304.0</td>\n      <td>304.0</td>\n      <td>2</td>\n      <td>0.6835</td>\n      <td>3</td>\n    </tr>\n    <tr>\n      <th>...</th>\n      <td>...</td>\n      <td>...</td>\n      <td>...</td>\n      <td>...</td>\n      <td>...</td>\n      <td>...</td>\n      <td>...</td>\n      <td>...</td>\n      <td>...</td>\n      <td>...</td>\n      <td>...</td>\n      <td>...</td>\n      <td>...</td>\n      <td>...</td>\n      <td>...</td>\n      <td>...</td>\n      <td>...</td>\n      <td>...</td>\n      <td>...</td>\n      <td>...</td>\n      <td>...</td>\n    </tr>\n    <tr>\n      <th>1063</th>\n      <td>1afed83b2c4ae750ee8159ae359924e6f8e471e4</td>\n      <td>28c87ce9911a7fc8d0fc50ff94d8351824056335</td>\n      <td>4</td>\n      <td>191</td>\n      <td>40</td>\n      <td>12</td>\n      <td>0 days 00:43:10</td>\n      <td>2019-10-30T01:18:36Z</td>\n      <td>2019-10-30T02:01:46Z</td>\n      <td>16.0</td>\n      <td>...</td>\n      <td>15.0</td>\n      <td>15.0</td>\n      <td>7.0</td>\n      <td>102.0</td>\n      <td>14.0</td>\n      <td>7.0</td>\n      <td>7.0</td>\n      <td>1</td>\n      <td>0.6835</td>\n      <td>3</td>\n    </tr>\n    <tr>\n      <th>1064</th>\n      <td>4bfd6cb1c97a0ffa75e0cd8a0ff8fc758de5f9d6</td>\n      <td>e03ff8b09c54470023a87f9e615cf689fc9234da</td>\n      <td>6</td>\n      <td>470</td>\n      <td>42</td>\n      <td>16</td>\n      <td>0 days 19:01:39</td>\n      <td>2019-09-19T11:01:45Z</td>\n      <td>2019-09-20T06:03:24Z</td>\n      <td>14.0</td>\n      <td>...</td>\n      <td>14.0</td>\n      <td>14.0</td>\n      <td>7.0</td>\n      <td>89.0</td>\n      <td>12.0</td>\n      <td>8.0</td>\n      <td>8.0</td>\n      <td>1</td>\n      <td>0.6835</td>\n      <td>3</td>\n    </tr>\n    <tr>\n      <th>1065</th>\n      <td>5fa746466941d871d4b1246b451f398416952541</td>\n      <td>4bfd6cb1c97a0ffa75e0cd8a0ff8fc758de5f9d6</td>\n      <td>2</td>\n      <td>69</td>\n      <td>49</td>\n      <td>9</td>\n      <td>0 days 00:16:22</td>\n      <td>2019-09-19T09:50:27Z</td>\n      <td>2019-09-19T10:06:49Z</td>\n      <td>14.0</td>\n      <td>...</td>\n      <td>14.0</td>\n      <td>14.0</td>\n      <td>7.0</td>\n      <td>89.0</td>\n      <td>12.0</td>\n      <td>8.0</td>\n      <td>8.0</td>\n      <td>1</td>\n      <td>0.6835</td>\n      <td>3</td>\n    </tr>\n    <tr>\n      <th>1066</th>\n      <td>04addef64bbd2567d47acbb7f434245fba7ac8a5</td>\n      <td>3b6a8b4058593b1ff11c44560ebcc56142cda830</td>\n      <td>1</td>\n      <td>11</td>\n      <td>1128</td>\n      <td>27</td>\n      <td>0 days 00:33:35</td>\n      <td>2019-08-13T15:14:02Z</td>\n      <td>2019-08-13T15:47:37Z</td>\n      <td>2.0</td>\n      <td>...</td>\n      <td>14.0</td>\n      <td>14.0</td>\n      <td>7.0</td>\n      <td>89.0</td>\n      <td>3.0</td>\n      <td>3.0</td>\n      <td>3.0</td>\n      <td>1</td>\n      <td>0.6835</td>\n      <td>3</td>\n    </tr>\n    <tr>\n      <th>1067</th>\n      <td>79339df3455c88ba606847d79b3b3a1682c97a67</td>\n      <td>04addef64bbd2567d47acbb7f434245fba7ac8a5</td>\n      <td>1</td>\n      <td>36</td>\n      <td>0</td>\n      <td>1</td>\n      <td>0 days 00:09:14</td>\n      <td>2019-08-13T02:16:57Z</td>\n      <td>2019-08-13T02:26:11Z</td>\n      <td>2.0</td>\n      <td>...</td>\n      <td>12.0</td>\n      <td>12.0</td>\n      <td>8.0</td>\n      <td>89.0</td>\n      <td>3.0</td>\n      <td>3.0</td>\n      <td>3.0</td>\n      <td>1</td>\n      <td>0.6835</td>\n      <td>3</td>\n    </tr>\n  </tbody>\n</table>\n<p>1066 rows × 25 columns</p>\n</div>"
     },
     "execution_count": 16,
     "metadata": {},
     "output_type": "execute_result"
    }
   ],
   "source": [
    "df"
   ]
  },
  {
   "cell_type": "code",
   "execution_count": 17,
   "outputs": [],
   "source": [
    "date = pd.to_timedelta(df['total_time'])\n",
    "time_hours = date.dt.total_seconds() / 3600\n",
    "\n",
    "df['hours'] = time_hours"
   ],
   "metadata": {
    "collapsed": false,
    "ExecuteTime": {
     "end_time": "2023-11-26T09:16:37.974842200Z",
     "start_time": "2023-11-26T09:16:37.956663200Z"
    }
   }
  },
  {
   "cell_type": "code",
   "execution_count": 18,
   "outputs": [],
   "source": [
    "result_time  = []\n",
    "\n",
    "for i in df['hours']:\n",
    "    if i > 153.70 :\n",
    "        result_time.append(0)\n",
    "    elif (i>=48.54) & (i<=153.70):\n",
    "        result_time.append(1)\n",
    "    else:\n",
    "        i <= 48.54\n",
    "        result_time.append(2)\n",
    "df['time_class'] = result_time"
   ],
   "metadata": {
    "collapsed": false,
    "ExecuteTime": {
     "end_time": "2023-11-26T09:16:38.032137900Z",
     "start_time": "2023-11-26T09:16:37.971150900Z"
    }
   }
  },
  {
   "cell_type": "code",
   "execution_count": 19,
   "outputs": [],
   "source": [
    "X = df[['begin_Bloaters', 'begin_Couplers', 'begin_Object-Orientation Abusers']]\n",
    "y = df['time_class']"
   ],
   "metadata": {
    "collapsed": false,
    "ExecuteTime": {
     "end_time": "2023-11-26T09:16:38.071882500Z",
     "start_time": "2023-11-26T09:16:37.988083800Z"
    }
   }
  },
  {
   "cell_type": "code",
   "execution_count": 20,
   "metadata": {
    "ExecuteTime": {
     "end_time": "2023-11-26T09:16:38.071882500Z",
     "start_time": "2023-11-26T09:16:38.005767Z"
    }
   },
   "outputs": [],
   "source": [
    "X_train, X_test = X[:int(0.7 * len(X))], X[int(0.7 * len(X)):]\n",
    "y_train, y_test = y[:int(0.7 * len(X))], y[int(0.7 * len(X)):]"
   ]
  },
  {
   "cell_type": "code",
   "execution_count": 21,
   "outputs": [
    {
     "data": {
      "text/plain": "746"
     },
     "execution_count": 21,
     "metadata": {},
     "output_type": "execute_result"
    }
   ],
   "source": [
    "int(0.7 * len(X))"
   ],
   "metadata": {
    "collapsed": false,
    "ExecuteTime": {
     "end_time": "2023-11-26T09:16:38.072882Z",
     "start_time": "2023-11-26T09:16:38.020307300Z"
    }
   }
  },
  {
   "cell_type": "code",
   "execution_count": 27,
   "outputs": [
    {
     "name": "stderr",
     "output_type": "stream",
     "text": [
      "C:\\Users\\patcharaprapa_k\\AppData\\Local\\anaconda3\\lib\\site-packages\\sklearn\\svm\\_base.py:1244: ConvergenceWarning: Liblinear failed to converge, increase the number of iterations.\n",
      "  warnings.warn(\n",
      "C:\\Users\\patcharaprapa_k\\AppData\\Local\\anaconda3\\lib\\site-packages\\sklearn\\svm\\_base.py:1244: ConvergenceWarning: Liblinear failed to converge, increase the number of iterations.\n",
      "  warnings.warn(\n"
     ]
    },
    {
     "data": {
      "text/plain": "array([2, 1, 0, 2, 0, 2, 0, 1, 1, 1, 2, 1, 1, 1, 1, 0, 1, 1, 0, 0, 2, 1,\n       0, 0, 2, 0, 0, 1, 1, 0])"
     },
     "execution_count": 27,
     "metadata": {},
     "output_type": "execute_result"
    }
   ],
   "source": [
    "from sklearn.datasets import load_iris\n",
    "from sklearn.model_selection import train_test_split\n",
    "from sklearn.multiclass import OneVsOneClassifier\n",
    "from sklearn.svm import LinearSVC\n",
    "\n",
    "X, y = load_iris(return_X_y=True)\n",
    "\n",
    "X_train, X_test, y_train, y_test = train_test_split(X, y, test_size=0.33, shuffle=True, random_state=0)\n",
    "\n",
    "clf = OneVsOneClassifier(LinearSVC(random_state=0, tol=1e-05)).fit(X_train, y_train)\n",
    "clf.predict(X_test[:30])"
   ],
   "metadata": {
    "collapsed": false,
    "ExecuteTime": {
     "end_time": "2023-11-26T09:18:07.851202100Z",
     "start_time": "2023-11-26T09:18:07.793499300Z"
    }
   }
  },
  {
   "cell_type": "code",
   "execution_count": 28,
   "outputs": [
    {
     "data": {
      "text/plain": "array([2, 1, 0, 2, 0, 2, 0, 1, 1, 1, 2, 1, 1, 1, 1, 0, 1, 1, 0, 0, 2, 1,\n       0, 0, 1, 0, 0, 1, 1, 0, 2, 1, 0, 2, 2, 1, 0, 2, 1, 1, 2, 0, 2, 0,\n       0, 1, 2, 2, 1, 2])"
     },
     "execution_count": 28,
     "metadata": {},
     "output_type": "execute_result"
    }
   ],
   "source": [
    "import numpy as np\n",
    "from sklearn.multiclass import OneVsRestClassifier\n",
    "from sklearn.svm import SVC\n",
    "\n",
    "clf2 = OneVsRestClassifier(SVC()).fit(X, y)\n",
    "clf2.predict(X_test)"
   ],
   "metadata": {
    "collapsed": false,
    "ExecuteTime": {
     "end_time": "2023-11-26T09:23:56.930854900Z",
     "start_time": "2023-11-26T09:23:56.907982600Z"
    }
   }
  },
  {
   "cell_type": "code",
   "execution_count": null,
   "outputs": [],
   "source": [],
   "metadata": {
    "collapsed": false,
    "ExecuteTime": {
     "start_time": "2023-11-26T09:16:38.088420300Z"
    }
   }
  }
 ],
 "metadata": {
  "kernelspec": {
   "display_name": "Python 3 (ipykernel)",
   "language": "python",
   "name": "python3"
  },
  "language_info": {
   "codemirror_mode": {
    "name": "ipython",
    "version": 3
   },
   "file_extension": ".py",
   "mimetype": "text/x-python",
   "name": "python",
   "nbconvert_exporter": "python",
   "pygments_lexer": "ipython3",
   "version": "3.10.9"
  }
 },
 "nbformat": 4,
 "nbformat_minor": 1
}
