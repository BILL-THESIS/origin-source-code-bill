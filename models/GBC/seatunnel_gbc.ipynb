{
 "cells": [
  {
   "cell_type": "code",
   "metadata": {
    "ExecuteTime": {
     "end_time": "2024-05-03T10:20:35.248892Z",
     "start_time": "2024-05-03T10:20:35.193074Z"
    }
   },
   "source": [
    "import pandas as pd\n",
    "import numpy as np\n",
    "from pandas import Timedelta\n",
    "from datetime import timedelta\n",
    "from sklearn.datasets import load_wine\n",
    "from sklearn.ensemble import GradientBoostingClassifier"
   ],
   "outputs": [],
   "execution_count": 30
  },
  {
   "cell_type": "code",
   "metadata": {
    "ExecuteTime": {
     "end_time": "2024-05-03T10:20:35.453083Z",
     "start_time": "2024-05-03T10:20:35.252766Z"
    }
   },
   "source": [
    "df_20_col = pd.read_parquet('../../models/KMeans/output/seatunnal_20col.parquet')\n",
    "df_original = pd.read_parquet('../../Sonar/seatunnel_all_information.parquet')"
   ],
   "outputs": [],
   "execution_count": 31
  },
  {
   "cell_type": "code",
   "metadata": {
    "ExecuteTime": {
     "end_time": "2024-05-03T10:20:35.463120Z",
     "start_time": "2024-05-03T10:20:35.454153Z"
    }
   },
   "source": "df = pd.concat([df_20_col, df_original['total_time']], axis=1)",
   "outputs": [],
   "execution_count": 32
  },
  {
   "cell_type": "code",
   "source": [
    "date = pd.to_timedelta(df['total_time'])\n",
    "time_hours = date.dt.total_seconds() / 3600\n",
    "\n",
    "df['hours'] = time_hours"
   ],
   "metadata": {
    "collapsed": false,
    "ExecuteTime": {
     "end_time": "2024-05-03T10:20:35.490488Z",
     "start_time": "2024-05-03T10:20:35.464516Z"
    }
   },
   "outputs": [],
   "execution_count": 33
  },
  {
   "cell_type": "code",
   "source": [
    "result_time  = []\n",
    "\n",
    "for i in df['hours']:\n",
    "    if i > 153.70 :\n",
    "        result_time.append(0)\n",
    "    elif (i>=48.54) & (i<=153.70):\n",
    "        result_time.append(1)\n",
    "    else:\n",
    "        i <= 48.54\n",
    "        result_time.append(2)\n",
    "df['time_class'] = result_time"
   ],
   "metadata": {
    "collapsed": false,
    "ExecuteTime": {
     "end_time": "2024-05-03T10:20:35.497709Z",
     "start_time": "2024-05-03T10:20:35.492752Z"
    }
   },
   "outputs": [],
   "execution_count": 34
  },
  {
   "cell_type": "code",
   "source": [
    "df.head(5)"
   ],
   "metadata": {
    "collapsed": false,
    "ExecuteTime": {
     "end_time": "2024-05-03T10:20:35.520799Z",
     "start_time": "2024-05-03T10:20:35.499539Z"
    }
   },
   "outputs": [
    {
     "data": {
      "text/plain": [
       "   begin_D  begin_B  begin_CP  begin_C  begin_OOA  end_D  end_B  end_CP  \\\n",
       "0    500.0    262.0     262.0    304.0      304.0  500.0  261.0   261.0   \n",
       "1    500.0    262.0     262.0    304.0      304.0  501.0  262.0   262.0   \n",
       "2    500.0    262.0     262.0    304.0      304.0  499.0  261.0   261.0   \n",
       "3    500.0    262.0     262.0    304.0      304.0  500.0  261.0   261.0   \n",
       "4    499.0    261.0     261.0    304.0      304.0  500.0  262.0   262.0   \n",
       "\n",
       "   end_C  end_OOA  ...  C_change  OOA_change  D_percent  B_percent  \\\n",
       "0  304.0    693.0  ...       0.0      -389.0   0.000000   0.381679   \n",
       "1  304.0    693.0  ...       0.0      -389.0  -0.200000   0.000000   \n",
       "2  304.0    693.0  ...       0.0      -389.0   0.200000   0.381679   \n",
       "3  304.0    693.0  ...       0.0      -389.0   0.000000   0.381679   \n",
       "4  304.0    693.0  ...       0.0      -389.0  -0.200401  -0.383142   \n",
       "\n",
       "   CP_percent  C_percent  OOA_percent       total_time       hours  time_class  \n",
       "0    0.381679        0.0  -127.960526  3 days 01:27:48   73.463333           1  \n",
       "1    0.000000        0.0  -127.960526  3 days 04:15:10   76.252778           1  \n",
       "2    0.381679        0.0  -127.960526  0 days 05:24:03    5.400833           2  \n",
       "3    0.381679        0.0  -127.960526  4 days 00:22:26   96.373889           1  \n",
       "4   -0.383142        0.0  -127.960526 12 days 00:39:27  288.657500           0  \n",
       "\n",
       "[5 rows x 23 columns]"
      ],
      "text/html": [
       "<div>\n",
       "<style scoped>\n",
       "    .dataframe tbody tr th:only-of-type {\n",
       "        vertical-align: middle;\n",
       "    }\n",
       "\n",
       "    .dataframe tbody tr th {\n",
       "        vertical-align: top;\n",
       "    }\n",
       "\n",
       "    .dataframe thead th {\n",
       "        text-align: right;\n",
       "    }\n",
       "</style>\n",
       "<table border=\"1\" class=\"dataframe\">\n",
       "  <thead>\n",
       "    <tr style=\"text-align: right;\">\n",
       "      <th></th>\n",
       "      <th>begin_D</th>\n",
       "      <th>begin_B</th>\n",
       "      <th>begin_CP</th>\n",
       "      <th>begin_C</th>\n",
       "      <th>begin_OOA</th>\n",
       "      <th>end_D</th>\n",
       "      <th>end_B</th>\n",
       "      <th>end_CP</th>\n",
       "      <th>end_C</th>\n",
       "      <th>end_OOA</th>\n",
       "      <th>...</th>\n",
       "      <th>C_change</th>\n",
       "      <th>OOA_change</th>\n",
       "      <th>D_percent</th>\n",
       "      <th>B_percent</th>\n",
       "      <th>CP_percent</th>\n",
       "      <th>C_percent</th>\n",
       "      <th>OOA_percent</th>\n",
       "      <th>total_time</th>\n",
       "      <th>hours</th>\n",
       "      <th>time_class</th>\n",
       "    </tr>\n",
       "  </thead>\n",
       "  <tbody>\n",
       "    <tr>\n",
       "      <th>0</th>\n",
       "      <td>500.0</td>\n",
       "      <td>262.0</td>\n",
       "      <td>262.0</td>\n",
       "      <td>304.0</td>\n",
       "      <td>304.0</td>\n",
       "      <td>500.0</td>\n",
       "      <td>261.0</td>\n",
       "      <td>261.0</td>\n",
       "      <td>304.0</td>\n",
       "      <td>693.0</td>\n",
       "      <td>...</td>\n",
       "      <td>0.0</td>\n",
       "      <td>-389.0</td>\n",
       "      <td>0.000000</td>\n",
       "      <td>0.381679</td>\n",
       "      <td>0.381679</td>\n",
       "      <td>0.0</td>\n",
       "      <td>-127.960526</td>\n",
       "      <td>3 days 01:27:48</td>\n",
       "      <td>73.463333</td>\n",
       "      <td>1</td>\n",
       "    </tr>\n",
       "    <tr>\n",
       "      <th>1</th>\n",
       "      <td>500.0</td>\n",
       "      <td>262.0</td>\n",
       "      <td>262.0</td>\n",
       "      <td>304.0</td>\n",
       "      <td>304.0</td>\n",
       "      <td>501.0</td>\n",
       "      <td>262.0</td>\n",
       "      <td>262.0</td>\n",
       "      <td>304.0</td>\n",
       "      <td>693.0</td>\n",
       "      <td>...</td>\n",
       "      <td>0.0</td>\n",
       "      <td>-389.0</td>\n",
       "      <td>-0.200000</td>\n",
       "      <td>0.000000</td>\n",
       "      <td>0.000000</td>\n",
       "      <td>0.0</td>\n",
       "      <td>-127.960526</td>\n",
       "      <td>3 days 04:15:10</td>\n",
       "      <td>76.252778</td>\n",
       "      <td>1</td>\n",
       "    </tr>\n",
       "    <tr>\n",
       "      <th>2</th>\n",
       "      <td>500.0</td>\n",
       "      <td>262.0</td>\n",
       "      <td>262.0</td>\n",
       "      <td>304.0</td>\n",
       "      <td>304.0</td>\n",
       "      <td>499.0</td>\n",
       "      <td>261.0</td>\n",
       "      <td>261.0</td>\n",
       "      <td>304.0</td>\n",
       "      <td>693.0</td>\n",
       "      <td>...</td>\n",
       "      <td>0.0</td>\n",
       "      <td>-389.0</td>\n",
       "      <td>0.200000</td>\n",
       "      <td>0.381679</td>\n",
       "      <td>0.381679</td>\n",
       "      <td>0.0</td>\n",
       "      <td>-127.960526</td>\n",
       "      <td>0 days 05:24:03</td>\n",
       "      <td>5.400833</td>\n",
       "      <td>2</td>\n",
       "    </tr>\n",
       "    <tr>\n",
       "      <th>3</th>\n",
       "      <td>500.0</td>\n",
       "      <td>262.0</td>\n",
       "      <td>262.0</td>\n",
       "      <td>304.0</td>\n",
       "      <td>304.0</td>\n",
       "      <td>500.0</td>\n",
       "      <td>261.0</td>\n",
       "      <td>261.0</td>\n",
       "      <td>304.0</td>\n",
       "      <td>693.0</td>\n",
       "      <td>...</td>\n",
       "      <td>0.0</td>\n",
       "      <td>-389.0</td>\n",
       "      <td>0.000000</td>\n",
       "      <td>0.381679</td>\n",
       "      <td>0.381679</td>\n",
       "      <td>0.0</td>\n",
       "      <td>-127.960526</td>\n",
       "      <td>4 days 00:22:26</td>\n",
       "      <td>96.373889</td>\n",
       "      <td>1</td>\n",
       "    </tr>\n",
       "    <tr>\n",
       "      <th>4</th>\n",
       "      <td>499.0</td>\n",
       "      <td>261.0</td>\n",
       "      <td>261.0</td>\n",
       "      <td>304.0</td>\n",
       "      <td>304.0</td>\n",
       "      <td>500.0</td>\n",
       "      <td>262.0</td>\n",
       "      <td>262.0</td>\n",
       "      <td>304.0</td>\n",
       "      <td>693.0</td>\n",
       "      <td>...</td>\n",
       "      <td>0.0</td>\n",
       "      <td>-389.0</td>\n",
       "      <td>-0.200401</td>\n",
       "      <td>-0.383142</td>\n",
       "      <td>-0.383142</td>\n",
       "      <td>0.0</td>\n",
       "      <td>-127.960526</td>\n",
       "      <td>12 days 00:39:27</td>\n",
       "      <td>288.657500</td>\n",
       "      <td>0</td>\n",
       "    </tr>\n",
       "  </tbody>\n",
       "</table>\n",
       "<p>5 rows × 23 columns</p>\n",
       "</div>"
      ]
     },
     "execution_count": 35,
     "metadata": {},
     "output_type": "execute_result"
    }
   ],
   "execution_count": 35
  },
  {
   "cell_type": "code",
   "source": [
    "X = df.drop(['total_time', 'hours', 'time_class'], axis=1)\n",
    "y = df['time_class']"
   ],
   "metadata": {
    "collapsed": false,
    "ExecuteTime": {
     "end_time": "2024-05-03T10:20:35.526230Z",
     "start_time": "2024-05-03T10:20:35.521641Z"
    }
   },
   "outputs": [],
   "execution_count": 36
  },
  {
   "cell_type": "code",
   "metadata": {
    "ExecuteTime": {
     "end_time": "2024-05-03T10:20:35.528904Z",
     "start_time": "2024-05-03T10:20:35.526960Z"
    }
   },
   "source": [
    "# X = df.loc[:, ~df.columns.isin([\n",
    "#                                 'hours', 'scored' , 'clusters' , \n",
    "#                                 r'[\\'begin_Bloaters\\', \\'begin_Couplers\\', \\'begin_Object-Orientation Abusers\\']_3' ,\n",
    "#                                 'total_time' ,\n",
    "#                                 'begin_sha', 'end_sha', 'begin_time' , 'begin_key', 'begin_revision', 'end_time', 'end_key', 'end_revision'\n",
    "#                                 ])]\n",
    "# y = df['time_class']"
   ],
   "outputs": [],
   "execution_count": 37
  },
  {
   "cell_type": "code",
   "source": [
    "# x_drop = X.columns[-2]"
   ],
   "metadata": {
    "collapsed": false,
    "ExecuteTime": {
     "end_time": "2024-05-03T10:20:35.532088Z",
     "start_time": "2024-05-03T10:20:35.529642Z"
    }
   },
   "outputs": [],
   "execution_count": 38
  },
  {
   "cell_type": "code",
   "source": [
    "# X.drop(x_drop, axis=1)"
   ],
   "metadata": {
    "collapsed": false,
    "ExecuteTime": {
     "end_time": "2024-05-03T10:20:35.534551Z",
     "start_time": "2024-05-03T10:20:35.532775Z"
    }
   },
   "outputs": [],
   "execution_count": 39
  },
  {
   "cell_type": "code",
   "metadata": {
    "ExecuteTime": {
     "end_time": "2024-05-03T10:20:35.543865Z",
     "start_time": "2024-05-03T10:20:35.535194Z"
    }
   },
   "source": [
    "X_train, X_test = X[:int(0.7 * len(X))], X[int(0.7 * len(X)):]\n",
    "y_train, y_test = y[:int(0.7 * len(X))], y[int(0.7 * len(X)):]"
   ],
   "outputs": [],
   "execution_count": 40
  },
  {
   "cell_type": "code",
   "source": [
    "int(0.7 * len(X))"
   ],
   "metadata": {
    "collapsed": false,
    "ExecuteTime": {
     "end_time": "2024-05-03T10:20:35.550068Z",
     "start_time": "2024-05-03T10:20:35.545711Z"
    }
   },
   "outputs": [
    {
     "data": {
      "text/plain": [
       "747"
      ]
     },
     "execution_count": 41,
     "metadata": {},
     "output_type": "execute_result"
    }
   ],
   "execution_count": 41
  },
  {
   "cell_type": "code",
   "metadata": {
    "ExecuteTime": {
     "end_time": "2024-05-03T10:20:37.958451Z",
     "start_time": "2024-05-03T10:20:35.551128Z"
    }
   },
   "source": [
    "clf = GradientBoostingClassifier(n_estimators=100, learning_rate=0.1 , max_depth=10 , random_state=3).fit(X_train , y_train)"
   ],
   "outputs": [],
   "execution_count": 42
  },
  {
   "cell_type": "code",
   "metadata": {
    "ExecuteTime": {
     "end_time": "2024-05-03T10:20:48.400909Z",
     "start_time": "2024-05-03T10:20:37.962051Z"
    }
   },
   "source": [
    "from sklearn.model_selection import cross_val_score\n",
    "cross_val_score(clf , X , y , cv=5 , scoring= \"accuracy\")"
   ],
   "outputs": [
    {
     "data": {
      "text/plain": [
       "array([0.15420561, 0.06542056, 0.06542056, 0.25821596, 0.657277  ])"
      ]
     },
     "execution_count": 43,
     "metadata": {},
     "output_type": "execute_result"
    }
   ],
   "execution_count": 43
  },
  {
   "cell_type": "code",
   "metadata": {
    "ExecuteTime": {
     "end_time": "2024-05-03T10:20:58.418225Z",
     "start_time": "2024-05-03T10:20:48.402173Z"
    }
   },
   "source": [
    "from sklearn.model_selection import cross_val_predict\n",
    "y_pred = cross_val_predict(clf,X,y,cv=5)\n",
    "y_pred"
   ],
   "outputs": [
    {
     "data": {
      "text/plain": [
       "array([0, 0, 0, ..., 2, 2, 2])"
      ]
     },
     "execution_count": 44,
     "metadata": {},
     "output_type": "execute_result"
    }
   ],
   "execution_count": 44
  },
  {
   "cell_type": "code",
   "metadata": {
    "ExecuteTime": {
     "end_time": "2024-05-03T10:20:58.427748Z",
     "start_time": "2024-05-03T10:20:58.419588Z"
    }
   },
   "source": [
    "from sklearn.metrics import confusion_matrix\n",
    "confusion_matrix(y , y_pred)"
   ],
   "outputs": [
    {
     "data": {
      "text/plain": [
       "array([[ 40,   9, 109],\n",
       "       [ 74,   7, 113],\n",
       "       [287, 220, 209]])"
      ]
     },
     "execution_count": 45,
     "metadata": {},
     "output_type": "execute_result"
    }
   ],
   "execution_count": 45
  },
  {
   "cell_type": "code",
   "metadata": {
    "ExecuteTime": {
     "end_time": "2024-05-03T10:20:58.457086Z",
     "start_time": "2024-05-03T10:20:58.428786Z"
    }
   },
   "source": [
    "clf.predict(X)"
   ],
   "outputs": [
    {
     "data": {
      "text/plain": [
       "array([1, 1, 2, ..., 2, 2, 2])"
      ]
     },
     "execution_count": 46,
     "metadata": {},
     "output_type": "execute_result"
    }
   ],
   "execution_count": 46
  },
  {
   "cell_type": "code",
   "metadata": {
    "ExecuteTime": {
     "end_time": "2024-05-03T10:20:58.471455Z",
     "start_time": "2024-05-03T10:20:58.458621Z"
    }
   },
   "source": [
    "clf.predict(X_train)"
   ],
   "outputs": [
    {
     "data": {
      "text/plain": [
       "array([1, 1, 2, 1, 0, 1, 1, 1, 1, 2, 2, 0, 2, 2, 2, 2, 2, 2, 1, 0, 2, 2,\n",
       "       2, 1, 2, 2, 2, 2, 2, 2, 0, 2, 1, 1, 1, 1, 1, 1, 1, 1, 1, 1, 0, 2,\n",
       "       0, 2, 2, 0, 1, 0, 2, 2, 0, 2, 0, 2, 2, 2, 0, 2, 2, 2, 1, 2, 0, 0,\n",
       "       2, 2, 2, 2, 2, 2, 0, 0, 2, 0, 0, 2, 1, 2, 2, 2, 2, 2, 1, 2, 2, 2,\n",
       "       1, 1, 2, 1, 1, 1, 1, 2, 2, 2, 0, 2, 2, 2, 0, 2, 2, 2, 2, 2, 2, 0,\n",
       "       2, 2, 0, 0, 2, 2, 0, 2, 0, 0, 1, 2, 0, 2, 2, 2, 2, 2, 2, 2, 2, 0,\n",
       "       2, 0, 2, 2, 2, 2, 2, 2, 2, 2, 2, 2, 2, 2, 0, 2, 2, 2, 2, 2, 2, 2,\n",
       "       2, 2, 2, 0, 0, 0, 1, 1, 1, 2, 0, 1, 2, 0, 2, 0, 2, 0, 1, 2, 2, 2,\n",
       "       2, 2, 2, 2, 2, 1, 2, 0, 1, 2, 2, 2, 2, 2, 0, 1, 2, 2, 2, 2, 2, 0,\n",
       "       2, 2, 1, 2, 0, 1, 0, 2, 1, 0, 0, 0, 0, 0, 2, 2, 2, 2, 0, 0, 2, 2,\n",
       "       1, 1, 2, 2, 1, 1, 1, 2, 2, 2, 2, 2, 0, 0, 1, 1, 0, 0, 2, 2, 1, 1,\n",
       "       0, 0, 2, 0, 0, 0, 2, 0, 2, 2, 1, 2, 2, 1, 2, 2, 0, 2, 2, 1, 2, 2,\n",
       "       2, 2, 0, 2, 0, 2, 0, 0, 2, 2, 2, 2, 2, 2, 2, 2, 2, 1, 2, 2, 2, 0,\n",
       "       0, 1, 2, 2, 2, 2, 2, 1, 2, 1, 0, 1, 1, 1, 2, 1, 1, 1, 2, 0, 0, 2,\n",
       "       2, 1, 2, 1, 2, 2, 2, 2, 1, 2, 2, 2, 2, 2, 1, 2, 2, 2, 2, 1, 2, 1,\n",
       "       2, 2, 2, 2, 1, 2, 0, 2, 2, 2, 2, 2, 2, 2, 1, 2, 2, 2, 2, 2, 2, 2,\n",
       "       1, 0, 2, 2, 2, 2, 2, 2, 2, 0, 2, 2, 0, 2, 2, 2, 2, 2, 1, 2, 2, 2,\n",
       "       0, 2, 0, 2, 2, 2, 0, 2, 2, 0, 0, 2, 2, 2, 2, 2, 2, 2, 2, 1, 2, 0,\n",
       "       0, 2, 2, 2, 2, 2, 2, 2, 2, 2, 2, 2, 2, 2, 2, 2, 2, 2, 2, 2, 2, 2,\n",
       "       2, 2, 1, 0, 2, 2, 1, 2, 1, 0, 2, 2, 2, 0, 0, 0, 2, 2, 2, 2, 2, 2,\n",
       "       2, 1, 0, 2, 0, 2, 0, 2, 1, 2, 2, 2, 2, 0, 2, 2, 2, 2, 0, 2, 0, 2,\n",
       "       2, 2, 2, 0, 0, 2, 2, 2, 2, 2, 2, 2, 2, 2, 2, 0, 0, 2, 2, 2, 2, 2,\n",
       "       0, 2, 1, 2, 1, 1, 1, 2, 1, 2, 0, 2, 2, 1, 2, 2, 2, 0, 2, 0, 2, 2,\n",
       "       2, 2, 1, 2, 2, 2, 1, 2, 2, 2, 1, 0, 1, 2, 2, 2, 2, 2, 0, 2, 1, 2,\n",
       "       1, 0, 2, 1, 1, 2, 1, 1, 2, 2, 2, 2, 2, 2, 2, 1, 2, 2, 1, 2, 1, 2,\n",
       "       2, 2, 2, 0, 2, 2, 2, 1, 2, 2, 1, 2, 2, 0, 2, 1, 2, 2, 2, 2, 1, 2,\n",
       "       0, 2, 1, 1, 2, 1, 2, 1, 2, 1, 1, 2, 2, 0, 2, 2, 2, 2, 0, 1, 1, 2,\n",
       "       2, 2, 2, 2, 2, 0, 2, 1, 0, 2, 2, 2, 1, 2, 0, 2, 1, 1, 2, 2, 2, 0,\n",
       "       2, 0, 2, 2, 2, 2, 2, 0, 2, 2, 1, 2, 2, 2, 2, 1, 2, 2, 2, 1, 2, 0,\n",
       "       2, 2, 1, 1, 2, 1, 2, 1, 2, 2, 1, 1, 2, 1, 2, 2, 2, 2, 2, 2, 1, 2,\n",
       "       2, 2, 2, 2, 2, 2, 0, 2, 2, 2, 2, 2, 2, 2, 2, 2, 2, 2, 2, 2, 2, 0,\n",
       "       2, 2, 0, 2, 2, 2, 2, 2, 2, 2, 2, 1, 2, 2, 2, 2, 2, 2, 2, 2, 2, 2,\n",
       "       2, 1, 2, 1, 2, 2, 1, 2, 1, 2, 1, 2, 0, 2, 2, 2, 2, 1, 1, 2, 2, 1,\n",
       "       2, 2, 2, 2, 2, 2, 2, 2, 1, 2, 2, 2, 2, 2, 2, 2, 2, 2, 2, 2, 2])"
      ]
     },
     "execution_count": 47,
     "metadata": {},
     "output_type": "execute_result"
    }
   ],
   "execution_count": 47
  },
  {
   "cell_type": "code",
   "metadata": {
    "ExecuteTime": {
     "end_time": "2024-05-03T10:20:58.483541Z",
     "start_time": "2024-05-03T10:20:58.472548Z"
    }
   },
   "source": [
    "from sklearn.metrics import precision_score, recall_score, f1_score\n",
    "print('precision = ', precision_score(y,y_pred ,average='macro'))\n",
    "print('recall_score = ', recall_score(y,y_pred ,average='macro'))\n",
    "print('f1_score',f1_score(y,y_pred ,average='macro'))"
   ],
   "outputs": [
    {
     "name": "stdout",
     "output_type": "stream",
     "text": [
      "precision =  0.20477681129800976\n",
      "recall_score =  0.19371549084320386\n",
      "f1_score 0.18003326195374206\n"
     ]
    }
   ],
   "execution_count": 48
  },
  {
   "metadata": {},
   "cell_type": "markdown",
   "source": ""
  },
  {
   "cell_type": "code",
   "metadata": {
    "ExecuteTime": {
     "end_time": "2024-05-03T10:20:58.491399Z",
     "start_time": "2024-05-03T10:20:58.484905Z"
    }
   },
   "source": [
    "frame={\"y\":y,\"y_pred\": y_pred}\n",
    "pd.DataFrame(frame).sum()"
   ],
   "outputs": [
    {
     "data": {
      "text/plain": [
       "y         1626\n",
       "y_pred    1098\n",
       "dtype: int64"
      ]
     },
     "execution_count": 49,
     "metadata": {},
     "output_type": "execute_result"
    }
   ],
   "execution_count": 49
  },
  {
   "cell_type": "code",
   "metadata": {
    "ExecuteTime": {
     "end_time": "2024-05-03T10:21:00.176996Z",
     "start_time": "2024-05-03T10:20:58.492106Z"
    }
   },
   "source": [
    "from sklearn.model_selection import GridSearchCV\n",
    "\n",
    "parameters = {\n",
    "\n",
    "    'learning_rate': [0.01 , 0.1 ,1.0],\n",
    "    'n_estimators': [1,12,14,16],\n",
    "    'subsample' : [0.7],\n",
    "    'max_depth' : [1,2] ,\n",
    "    'random_state':[2]\n",
    "\n",
    "}\n",
    "GradientBoosting = GradientBoostingClassifier()\n",
    "clf = GridSearchCV(GradientBoosting, parameters , cv=3 , scoring='f1_macro')\n",
    "clf.fit(X_train,y_train)"
   ],
   "outputs": [
    {
     "data": {
      "text/plain": [
       "GridSearchCV(cv=3, estimator=GradientBoostingClassifier(),\n",
       "             param_grid={'learning_rate': [0.01, 0.1, 1.0], 'max_depth': [1, 2],\n",
       "                         'n_estimators': [1, 12, 14, 16], 'random_state': [2],\n",
       "                         'subsample': [0.7]},\n",
       "             scoring='f1_macro')"
      ],
      "text/html": [
       "<style>#sk-container-id-3 {color: black;}#sk-container-id-3 pre{padding: 0;}#sk-container-id-3 div.sk-toggleable {background-color: white;}#sk-container-id-3 label.sk-toggleable__label {cursor: pointer;display: block;width: 100%;margin-bottom: 0;padding: 0.3em;box-sizing: border-box;text-align: center;}#sk-container-id-3 label.sk-toggleable__label-arrow:before {content: \"▸\";float: left;margin-right: 0.25em;color: #696969;}#sk-container-id-3 label.sk-toggleable__label-arrow:hover:before {color: black;}#sk-container-id-3 div.sk-estimator:hover label.sk-toggleable__label-arrow:before {color: black;}#sk-container-id-3 div.sk-toggleable__content {max-height: 0;max-width: 0;overflow: hidden;text-align: left;background-color: #f0f8ff;}#sk-container-id-3 div.sk-toggleable__content pre {margin: 0.2em;color: black;border-radius: 0.25em;background-color: #f0f8ff;}#sk-container-id-3 input.sk-toggleable__control:checked~div.sk-toggleable__content {max-height: 200px;max-width: 100%;overflow: auto;}#sk-container-id-3 input.sk-toggleable__control:checked~label.sk-toggleable__label-arrow:before {content: \"▾\";}#sk-container-id-3 div.sk-estimator input.sk-toggleable__control:checked~label.sk-toggleable__label {background-color: #d4ebff;}#sk-container-id-3 div.sk-label input.sk-toggleable__control:checked~label.sk-toggleable__label {background-color: #d4ebff;}#sk-container-id-3 input.sk-hidden--visually {border: 0;clip: rect(1px 1px 1px 1px);clip: rect(1px, 1px, 1px, 1px);height: 1px;margin: -1px;overflow: hidden;padding: 0;position: absolute;width: 1px;}#sk-container-id-3 div.sk-estimator {font-family: monospace;background-color: #f0f8ff;border: 1px dotted black;border-radius: 0.25em;box-sizing: border-box;margin-bottom: 0.5em;}#sk-container-id-3 div.sk-estimator:hover {background-color: #d4ebff;}#sk-container-id-3 div.sk-parallel-item::after {content: \"\";width: 100%;border-bottom: 1px solid gray;flex-grow: 1;}#sk-container-id-3 div.sk-label:hover label.sk-toggleable__label {background-color: #d4ebff;}#sk-container-id-3 div.sk-serial::before {content: \"\";position: absolute;border-left: 1px solid gray;box-sizing: border-box;top: 0;bottom: 0;left: 50%;z-index: 0;}#sk-container-id-3 div.sk-serial {display: flex;flex-direction: column;align-items: center;background-color: white;padding-right: 0.2em;padding-left: 0.2em;position: relative;}#sk-container-id-3 div.sk-item {position: relative;z-index: 1;}#sk-container-id-3 div.sk-parallel {display: flex;align-items: stretch;justify-content: center;background-color: white;position: relative;}#sk-container-id-3 div.sk-item::before, #sk-container-id-3 div.sk-parallel-item::before {content: \"\";position: absolute;border-left: 1px solid gray;box-sizing: border-box;top: 0;bottom: 0;left: 50%;z-index: -1;}#sk-container-id-3 div.sk-parallel-item {display: flex;flex-direction: column;z-index: 1;position: relative;background-color: white;}#sk-container-id-3 div.sk-parallel-item:first-child::after {align-self: flex-end;width: 50%;}#sk-container-id-3 div.sk-parallel-item:last-child::after {align-self: flex-start;width: 50%;}#sk-container-id-3 div.sk-parallel-item:only-child::after {width: 0;}#sk-container-id-3 div.sk-dashed-wrapped {border: 1px dashed gray;margin: 0 0.4em 0.5em 0.4em;box-sizing: border-box;padding-bottom: 0.4em;background-color: white;}#sk-container-id-3 div.sk-label label {font-family: monospace;font-weight: bold;display: inline-block;line-height: 1.2em;}#sk-container-id-3 div.sk-label-container {text-align: center;}#sk-container-id-3 div.sk-container {/* jupyter's `normalize.less` sets `[hidden] { display: none; }` but bootstrap.min.css set `[hidden] { display: none !important; }` so we also need the `!important` here to be able to override the default hidden behavior on the sphinx rendered scikit-learn.org. See: https://github.com/scikit-learn/scikit-learn/issues/21755 */display: inline-block !important;position: relative;}#sk-container-id-3 div.sk-text-repr-fallback {display: none;}</style><div id=\"sk-container-id-3\" class=\"sk-top-container\"><div class=\"sk-text-repr-fallback\"><pre>GridSearchCV(cv=3, estimator=GradientBoostingClassifier(),\n",
       "             param_grid={&#x27;learning_rate&#x27;: [0.01, 0.1, 1.0], &#x27;max_depth&#x27;: [1, 2],\n",
       "                         &#x27;n_estimators&#x27;: [1, 12, 14, 16], &#x27;random_state&#x27;: [2],\n",
       "                         &#x27;subsample&#x27;: [0.7]},\n",
       "             scoring=&#x27;f1_macro&#x27;)</pre><b>In a Jupyter environment, please rerun this cell to show the HTML representation or trust the notebook. <br />On GitHub, the HTML representation is unable to render, please try loading this page with nbviewer.org.</b></div><div class=\"sk-container\" hidden><div class=\"sk-item sk-dashed-wrapped\"><div class=\"sk-label-container\"><div class=\"sk-label sk-toggleable\"><input class=\"sk-toggleable__control sk-hidden--visually\" id=\"sk-estimator-id-7\" type=\"checkbox\" ><label for=\"sk-estimator-id-7\" class=\"sk-toggleable__label sk-toggleable__label-arrow\">GridSearchCV</label><div class=\"sk-toggleable__content\"><pre>GridSearchCV(cv=3, estimator=GradientBoostingClassifier(),\n",
       "             param_grid={&#x27;learning_rate&#x27;: [0.01, 0.1, 1.0], &#x27;max_depth&#x27;: [1, 2],\n",
       "                         &#x27;n_estimators&#x27;: [1, 12, 14, 16], &#x27;random_state&#x27;: [2],\n",
       "                         &#x27;subsample&#x27;: [0.7]},\n",
       "             scoring=&#x27;f1_macro&#x27;)</pre></div></div></div><div class=\"sk-parallel\"><div class=\"sk-parallel-item\"><div class=\"sk-item\"><div class=\"sk-label-container\"><div class=\"sk-label sk-toggleable\"><input class=\"sk-toggleable__control sk-hidden--visually\" id=\"sk-estimator-id-8\" type=\"checkbox\" ><label for=\"sk-estimator-id-8\" class=\"sk-toggleable__label sk-toggleable__label-arrow\">estimator: GradientBoostingClassifier</label><div class=\"sk-toggleable__content\"><pre>GradientBoostingClassifier()</pre></div></div></div><div class=\"sk-serial\"><div class=\"sk-item\"><div class=\"sk-estimator sk-toggleable\"><input class=\"sk-toggleable__control sk-hidden--visually\" id=\"sk-estimator-id-9\" type=\"checkbox\" ><label for=\"sk-estimator-id-9\" class=\"sk-toggleable__label sk-toggleable__label-arrow\">GradientBoostingClassifier</label><div class=\"sk-toggleable__content\"><pre>GradientBoostingClassifier()</pre></div></div></div></div></div></div></div></div></div></div>"
      ]
     },
     "execution_count": 50,
     "metadata": {},
     "output_type": "execute_result"
    }
   ],
   "execution_count": 50
  },
  {
   "cell_type": "code",
   "metadata": {
    "ExecuteTime": {
     "end_time": "2024-05-03T10:21:00.195297Z",
     "start_time": "2024-05-03T10:21:00.177578Z"
    }
   },
   "source": [
    "y_pred = cross_val_predict(clf.best_estimator_,X_test,y_test)\n",
    "y_pred"
   ],
   "outputs": [
    {
     "data": {
      "text/plain": [
       "array([2, 2, 2, 2, 2, 2, 2, 2, 2, 2, 2, 2, 2, 2, 2, 2, 2, 2, 2, 2, 2, 2,\n",
       "       2, 2, 2, 2, 2, 2, 2, 2, 2, 2, 2, 2, 2, 2, 2, 2, 2, 2, 2, 2, 2, 2,\n",
       "       2, 2, 2, 2, 2, 2, 2, 2, 2, 2, 2, 2, 2, 2, 2, 2, 2, 2, 2, 2, 2, 2,\n",
       "       2, 2, 2, 2, 2, 2, 2, 2, 2, 2, 2, 2, 2, 2, 2, 2, 2, 2, 2, 2, 2, 2,\n",
       "       2, 2, 2, 2, 2, 2, 2, 2, 2, 2, 2, 2, 2, 2, 2, 2, 2, 2, 2, 2, 2, 2,\n",
       "       2, 2, 2, 2, 2, 2, 2, 2, 2, 2, 2, 2, 2, 2, 2, 2, 2, 2, 2, 2, 2, 2,\n",
       "       2, 2, 2, 2, 2, 2, 2, 2, 2, 2, 2, 2, 2, 2, 2, 2, 2, 2, 2, 2, 2, 2,\n",
       "       2, 2, 2, 2, 2, 2, 2, 2, 2, 2, 2, 2, 2, 2, 2, 2, 2, 2, 2, 2, 2, 2,\n",
       "       2, 2, 2, 2, 2, 2, 2, 2, 2, 2, 2, 2, 2, 2, 2, 2, 2, 2, 2, 2, 2, 2,\n",
       "       2, 2, 2, 2, 2, 2, 2, 2, 2, 2, 2, 2, 2, 2, 2, 2, 2, 2, 2, 2, 2, 2,\n",
       "       2, 2, 2, 2, 2, 2, 2, 2, 2, 2, 2, 2, 2, 2, 2, 2, 2, 2, 2, 2, 2, 2,\n",
       "       2, 2, 2, 2, 2, 2, 2, 2, 2, 2, 2, 2, 2, 2, 2, 2, 2, 2, 2, 2, 2, 2,\n",
       "       2, 2, 2, 2, 2, 2, 2, 2, 2, 2, 2, 2, 2, 2, 2, 2, 2, 2, 2, 2, 2, 2,\n",
       "       2, 2, 2, 2, 2, 2, 2, 2, 2, 2, 2, 2, 2, 2, 2, 2, 2, 2, 2, 2, 2, 2,\n",
       "       2, 2, 2, 2, 2, 2, 2, 2, 2, 2, 2, 2, 2])"
      ]
     },
     "execution_count": 51,
     "metadata": {},
     "output_type": "execute_result"
    }
   ],
   "execution_count": 51
  },
  {
   "cell_type": "code",
   "metadata": {
    "ExecuteTime": {
     "end_time": "2024-05-03T10:21:00.200702Z",
     "start_time": "2024-05-03T10:21:00.196482Z"
    }
   },
   "source": [
    "y_pred_clf = clf.best_estimator_.predict(X_test)\n",
    "y_pred_clf"
   ],
   "outputs": [
    {
     "data": {
      "text/plain": [
       "array([2, 2, 2, 2, 2, 2, 2, 2, 2, 2, 2, 2, 2, 2, 2, 2, 2, 2, 2, 2, 2, 2,\n",
       "       2, 2, 2, 2, 2, 2, 2, 2, 2, 2, 2, 2, 2, 2, 2, 2, 2, 2, 2, 2, 2, 2,\n",
       "       2, 2, 2, 2, 2, 2, 2, 2, 2, 2, 2, 2, 2, 2, 2, 2, 2, 2, 2, 2, 2, 2,\n",
       "       2, 2, 2, 2, 2, 2, 2, 2, 2, 2, 2, 2, 2, 2, 2, 2, 2, 2, 2, 2, 2, 2,\n",
       "       2, 2, 2, 2, 2, 2, 2, 2, 2, 2, 2, 2, 2, 2, 2, 2, 2, 2, 2, 2, 2, 2,\n",
       "       2, 2, 2, 2, 2, 2, 2, 2, 2, 2, 2, 2, 2, 2, 2, 2, 2, 2, 2, 2, 2, 2,\n",
       "       2, 2, 2, 2, 2, 2, 2, 2, 2, 2, 2, 2, 2, 2, 2, 2, 2, 2, 2, 2, 2, 2,\n",
       "       2, 2, 2, 2, 2, 2, 2, 2, 2, 2, 2, 2, 2, 2, 2, 2, 2, 2, 2, 2, 2, 2,\n",
       "       2, 2, 2, 2, 2, 2, 2, 2, 2, 2, 2, 2, 2, 2, 2, 2, 2, 2, 2, 2, 2, 2,\n",
       "       2, 2, 2, 2, 2, 2, 2, 2, 2, 2, 2, 2, 2, 2, 2, 2, 2, 2, 2, 2, 2, 2,\n",
       "       2, 2, 2, 2, 2, 2, 2, 2, 2, 2, 2, 2, 2, 2, 2, 2, 2, 2, 2, 2, 2, 2,\n",
       "       2, 2, 2, 2, 2, 2, 2, 2, 2, 2, 2, 2, 2, 2, 2, 2, 2, 2, 2, 2, 2, 2,\n",
       "       2, 2, 2, 2, 2, 2, 2, 2, 2, 2, 2, 2, 2, 2, 2, 2, 2, 2, 2, 2, 2, 2,\n",
       "       2, 2, 2, 2, 2, 2, 2, 2, 2, 2, 2, 2, 2, 2, 2, 2, 2, 2, 2, 2, 2, 2,\n",
       "       2, 2, 2, 2, 2, 2, 2, 2, 2, 2, 2, 2, 2])"
      ]
     },
     "execution_count": 52,
     "metadata": {},
     "output_type": "execute_result"
    }
   ],
   "execution_count": 52
  },
  {
   "cell_type": "code",
   "metadata": {
    "ExecuteTime": {
     "end_time": "2024-05-03T10:21:00.207786Z",
     "start_time": "2024-05-03T10:21:00.201713Z"
    }
   },
   "source": [
    "from sklearn.metrics import precision_score, recall_score, f1_score\n",
    "print('precision = ', precision_score(y_test,y_pred_clf ,average='macro'))\n",
    "print('recall_score = ', recall_score(y_test,y_pred_clf ,average='macro'))\n",
    "print('f1_score',f1_score(y_test,y_pred_clf ,average='macro'))"
   ],
   "outputs": [
    {
     "name": "stdout",
     "output_type": "stream",
     "text": [
      "precision =  0.26375908618899274\n",
      "recall_score =  0.3333333333333333\n",
      "f1_score 0.29449275362318844\n"
     ]
    },
    {
     "name": "stderr",
     "output_type": "stream",
     "text": [
      "/Users/bill/anaconda3/lib/python3.11/site-packages/sklearn/metrics/_classification.py:1469: UndefinedMetricWarning: Precision is ill-defined and being set to 0.0 in labels with no predicted samples. Use `zero_division` parameter to control this behavior.\n",
      "  _warn_prf(average, modifier, msg_start, len(result))\n"
     ]
    }
   ],
   "execution_count": 53
  },
  {
   "cell_type": "code",
   "metadata": {
    "ExecuteTime": {
     "end_time": "2024-05-03T10:21:01.216167Z",
     "start_time": "2024-05-03T10:21:01.213595Z"
    }
   },
   "source": [
    "import itertools"
   ],
   "outputs": [],
   "execution_count": 55
  },
  {
   "cell_type": "code",
   "metadata": {
    "ExecuteTime": {
     "end_time": "2024-05-03T10:21:01.220314Z",
     "start_time": "2024-05-03T10:21:01.217123Z"
    }
   },
   "source": [
    "# result = itertools.combinations(X ,2)\n",
    "# \n",
    "# for item in result:\n",
    "#     df  = pd.DataFrame(item)\n",
    "#     X[list (item)]\n",
    "#     parameters = {\n",
    "#     'learning_rate': [0.01 , 0.1 ,1],\n",
    "#     'n_estimators': [12,14,16],\n",
    "#     'subsample' : [0.7],\n",
    "#     'max_depth' : [2] ,\n",
    "#     'random_state':[2]\n",
    "#     }\n",
    "#     GradientBoosting = GradientBoostingClassifier()\n",
    "#     clf = GridSearchCV(GradientBoosting , parameters , cv=3 , scoring='f1_macro')\n",
    "#     clf.fit(X_train[list (item)],y_train)\n",
    "#     clf.predict(X_test[list (item)])\n",
    "#     print('predict=',clf.predict(X_test[list (item)]))\n",
    "#     print(X_test)\n",
    "#     print(\"y_train = \",y_train)\n",
    "#     print(item)\n",
    "#     print(\"precision_score =\",precision_score(clf.predict(X[list(item)]),y))\n",
    "#     print(\"recall_score =\", recall_score(clf.predict(X[list(item)]),y))\n",
    "#     print(\"f_1=\",f1_score(clf.predict(X[list(item)]),y,average='macro'))\n",
    "#     print(\"f_1_X-test=\",f1_score(clf.predict(X_test[list(item)]),y_test,average='macro'))"
   ],
   "outputs": [],
   "execution_count": 56
  },
  {
   "cell_type": "code",
   "metadata": {
    "ExecuteTime": {
     "end_time": "2024-05-03T10:21:01.227039Z",
     "start_time": "2024-05-03T10:21:01.223378Z"
    }
   },
   "source": [
    "import numpy as np\n",
    "import matplotlib.pyplot as plt\n",
    "from sklearn.linear_model import LinearRegression"
   ],
   "outputs": [],
   "execution_count": 57
  },
  {
   "cell_type": "code",
   "source": [
    "from sklearn.linear_model import LinearRegression\n",
    "from sklearn.metrics import r2_score\n",
    "reg_nnls = LinearRegression(positive=True)\n",
    "y_pred_nnls = reg_nnls.fit(X_train, y_train).predict(X_test)\n",
    "r2_score_nnls = r2_score(y_test, y_pred_nnls)\n",
    "print(\"NNLS R2 score\", r2_score_nnls)"
   ],
   "metadata": {
    "collapsed": false,
    "ExecuteTime": {
     "end_time": "2024-05-03T10:21:01.239624Z",
     "start_time": "2024-05-03T10:21:01.227882Z"
    }
   },
   "outputs": [
    {
     "name": "stdout",
     "output_type": "stream",
     "text": [
      "NNLS R2 score -0.033463583087028015\n"
     ]
    }
   ],
   "execution_count": 58
  }
 ],
 "metadata": {
  "kernelspec": {
   "display_name": "Python 3 (ipykernel)",
   "language": "python",
   "name": "python3"
  },
  "language_info": {
   "codemirror_mode": {
    "name": "ipython",
    "version": 3
   },
   "file_extension": ".py",
   "mimetype": "text/x-python",
   "name": "python",
   "nbconvert_exporter": "python",
   "pygments_lexer": "ipython3",
   "version": "3.10.9"
  }
 },
 "nbformat": 4,
 "nbformat_minor": 1
}
