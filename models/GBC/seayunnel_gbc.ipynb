{
 "cells": [
  {
   "cell_type": "code",
   "execution_count": 194,
   "metadata": {
    "ExecuteTime": {
     "end_time": "2023-06-27T06:29:55.634596Z",
     "start_time": "2023-06-27T06:29:55.394372700Z"
    }
   },
   "outputs": [],
   "source": [
    "import pandas as pd\n",
    "import numpy as np\n",
    "from pandas import Timedelta\n",
    "from datetime import timedelta\n",
    "from sklearn.datasets import load_wine\n",
    "from sklearn.ensemble import GradientBoostingClassifier"
   ]
  },
  {
   "cell_type": "code",
   "execution_count": 195,
   "metadata": {
    "ExecuteTime": {
     "end_time": "2023-06-27T06:29:55.637099800Z",
     "start_time": "2023-06-27T06:29:55.415431900Z"
    }
   },
   "outputs": [],
   "source": [
    "df = pd.read_pickle(\"../seatunnel.pkl\")\n",
    "df = df.drop_duplicates()"
   ]
  },
  {
   "cell_type": "code",
   "execution_count": 196,
   "metadata": {
    "ExecuteTime": {
     "end_time": "2023-06-27T06:29:55.663753800Z",
     "start_time": "2023-06-27T06:29:55.523105900Z"
    }
   },
   "outputs": [
    {
     "data": {
      "text/plain": "                                     begin_sha  \\\n0     c203ef5f8d6ad8bfb7f284e32a9ce5f2bc1fe142   \n1     c203ef5f8d6ad8bfb7f284e32a9ce5f2bc1fe142   \n2     c203ef5f8d6ad8bfb7f284e32a9ce5f2bc1fe142   \n3     c203ef5f8d6ad8bfb7f284e32a9ce5f2bc1fe142   \n4     bde19b6377f7b2fb7a34b94bd06d6ce0cc44f348   \n...                                        ...   \n5215  04addef64bbd2567d47acbb7f434245fba7ac8a5   \n5216  79339df3455c88ba606847d79b3b3a1682c97a67   \n5217  a475a8082b030af51a03e61457ed78b7cf17ab56   \n5218  96d0637c8471ec9370f15a522db0b23ff5dc7669   \n5219  b35ec02811bf7ef58bc8d831418c468ecc0a36b6   \n\n                                       end_sha  commits  additions  deletions  \\\n0     4d429cab55482986b4d8a24c699d315631c8242a        1         64          1   \n1     4d429cab55482986b4d8a24c699d315631c8242a        1         64          1   \n2     c30a2a1b1c989d71082e7d501752f0d2d2c3601f        2         11         19   \n3     c30a2a1b1c989d71082e7d501752f0d2d2c3601f        2         11         19   \n4     c7745e63373c0fc92884982844bf55e22dd38af5        1          6          2   \n...                                        ...      ...        ...        ...   \n5215  3b6a8b4058593b1ff11c44560ebcc56142cda830        1         11       1128   \n5216  04addef64bbd2567d47acbb7f434245fba7ac8a5        1         36          0   \n5217  a26d21b7d28704facbfbbecfb501b958dd59d826        6        997       1045   \n5218  5fa746466941d871d4b1246b451f398416952541       14        964        122   \n5219  305ec511da05ba519fe4b04b46f7898b650b06c5        1         97         28   \n\n      changed_files       total_time            begin_time  \\\n0                 1  0 days 00:33:23  2023-06-06T08:28:39Z   \n1                 1  0 days 00:33:23  2023-06-02T07:23:42Z   \n2                 3  4 days 01:37:00  2023-06-06T08:28:39Z   \n3                 3  4 days 01:37:00  2023-06-02T07:23:42Z   \n4                 1  0 days 17:17:51  2023-06-05T08:59:42Z   \n...             ...              ...                   ...   \n5215             27  0 days 00:33:35  2019-08-13T15:14:02Z   \n5216              1  0 days 00:09:14  2019-08-13T02:16:57Z   \n5217             81  0 days 23:14:31  2019-08-13T01:54:31Z   \n5218             64 31 days 01:05:35  2019-08-10T13:15:19Z   \n5219             56  0 days 17:01:00  2019-07-19T10:36:13Z   \n\n                                              begin_key  \\\n0     seatunnel-c203ef5f8d6ad8bfb7f284e32a9ce5f2bc1f...   \n1     seatunnel-c203ef5f8d6ad8bfb7f284e32a9ce5f2bc1f...   \n2     seatunnel-c203ef5f8d6ad8bfb7f284e32a9ce5f2bc1f...   \n3     seatunnel-c203ef5f8d6ad8bfb7f284e32a9ce5f2bc1f...   \n4     seatunnel-bde19b6377f7b2fb7a34b94bd06d6ce0cc44...   \n...                                                 ...   \n5215  seatunnel-04addef64bbd2567d47acbb7f434245fba7a...   \n5216  seatunnel-79339df3455c88ba606847d79b3b3a1682c9...   \n5217  seatunnel-a475a8082b030af51a03e61457ed78b7cf17...   \n5218  seatunnel-96d0637c8471ec9370f15a522db0b23ff5dc...   \n5219  seatunnel-b35ec02811bf7ef58bc8d831418c468ecc0a...   \n\n                                begin_revision  ...  end_java:S5411  \\\n0     c203ef5f8d6ad8bfb7f284e32a9ce5f2bc1fe142  ...              13   \n1     c203ef5f8d6ad8bfb7f284e32a9ce5f2bc1fe142  ...              13   \n2     c203ef5f8d6ad8bfb7f284e32a9ce5f2bc1fe142  ...              13   \n3     c203ef5f8d6ad8bfb7f284e32a9ce5f2bc1fe142  ...              13   \n4     bde19b6377f7b2fb7a34b94bd06d6ce0cc44f348  ...              13   \n...                                        ...  ...             ...   \n5215  04addef64bbd2567d47acbb7f434245fba7ac8a5  ...               0   \n5216  79339df3455c88ba606847d79b3b3a1682c97a67  ...               0   \n5217  a475a8082b030af51a03e61457ed78b7cf17ab56  ...               0   \n5218  96d0637c8471ec9370f15a522db0b23ff5dc7669  ...               0   \n5219  b35ec02811bf7ef58bc8d831418c468ecc0a36b6  ...               0   \n\n      end_java:S5413  end_java:S5803  end_java:S5869  end_java:S5993  \\\n0                  0               1               2              42   \n1                  0               1               2              42   \n2                  0               1               2              42   \n3                  0               1               2              42   \n4                  0               1               2              42   \n...              ...             ...             ...             ...   \n5215               0               0               0               0   \n5216               0               0               0               0   \n5217               0               0               0               0   \n5218               0               0               0               0   \n5219               0               0               0               0   \n\n      end_java:S6202  end_java:S6213  end_java:S6244  end_java:S6353  \\\n0                  0             106               1               0   \n1                  0             106               1               0   \n2                  0             106               1               0   \n3                  0             106               1               0   \n4                  0             106               1               0   \n...              ...             ...             ...             ...   \n5215               0               0               0               0   \n5216               0               0               0               0   \n5217               0               0               0               0   \n5218               0               3               0               0   \n5219               0               1               0               0   \n\n      end_java:S6355  \n0                  0  \n1                  0  \n2                  0  \n3                  0  \n4                  0  \n...              ...  \n5215               0  \n5216               0  \n5217               0  \n5218               0  \n5219               0  \n\n[5208 rows x 321 columns]",
      "text/html": "<div>\n<style scoped>\n    .dataframe tbody tr th:only-of-type {\n        vertical-align: middle;\n    }\n\n    .dataframe tbody tr th {\n        vertical-align: top;\n    }\n\n    .dataframe thead th {\n        text-align: right;\n    }\n</style>\n<table border=\"1\" class=\"dataframe\">\n  <thead>\n    <tr style=\"text-align: right;\">\n      <th></th>\n      <th>begin_sha</th>\n      <th>end_sha</th>\n      <th>commits</th>\n      <th>additions</th>\n      <th>deletions</th>\n      <th>changed_files</th>\n      <th>total_time</th>\n      <th>begin_time</th>\n      <th>begin_key</th>\n      <th>begin_revision</th>\n      <th>...</th>\n      <th>end_java:S5411</th>\n      <th>end_java:S5413</th>\n      <th>end_java:S5803</th>\n      <th>end_java:S5869</th>\n      <th>end_java:S5993</th>\n      <th>end_java:S6202</th>\n      <th>end_java:S6213</th>\n      <th>end_java:S6244</th>\n      <th>end_java:S6353</th>\n      <th>end_java:S6355</th>\n    </tr>\n  </thead>\n  <tbody>\n    <tr>\n      <th>0</th>\n      <td>c203ef5f8d6ad8bfb7f284e32a9ce5f2bc1fe142</td>\n      <td>4d429cab55482986b4d8a24c699d315631c8242a</td>\n      <td>1</td>\n      <td>64</td>\n      <td>1</td>\n      <td>1</td>\n      <td>0 days 00:33:23</td>\n      <td>2023-06-06T08:28:39Z</td>\n      <td>seatunnel-c203ef5f8d6ad8bfb7f284e32a9ce5f2bc1f...</td>\n      <td>c203ef5f8d6ad8bfb7f284e32a9ce5f2bc1fe142</td>\n      <td>...</td>\n      <td>13</td>\n      <td>0</td>\n      <td>1</td>\n      <td>2</td>\n      <td>42</td>\n      <td>0</td>\n      <td>106</td>\n      <td>1</td>\n      <td>0</td>\n      <td>0</td>\n    </tr>\n    <tr>\n      <th>1</th>\n      <td>c203ef5f8d6ad8bfb7f284e32a9ce5f2bc1fe142</td>\n      <td>4d429cab55482986b4d8a24c699d315631c8242a</td>\n      <td>1</td>\n      <td>64</td>\n      <td>1</td>\n      <td>1</td>\n      <td>0 days 00:33:23</td>\n      <td>2023-06-02T07:23:42Z</td>\n      <td>seatunnel-c203ef5f8d6ad8bfb7f284e32a9ce5f2bc1f...</td>\n      <td>c203ef5f8d6ad8bfb7f284e32a9ce5f2bc1fe142</td>\n      <td>...</td>\n      <td>13</td>\n      <td>0</td>\n      <td>1</td>\n      <td>2</td>\n      <td>42</td>\n      <td>0</td>\n      <td>106</td>\n      <td>1</td>\n      <td>0</td>\n      <td>0</td>\n    </tr>\n    <tr>\n      <th>2</th>\n      <td>c203ef5f8d6ad8bfb7f284e32a9ce5f2bc1fe142</td>\n      <td>c30a2a1b1c989d71082e7d501752f0d2d2c3601f</td>\n      <td>2</td>\n      <td>11</td>\n      <td>19</td>\n      <td>3</td>\n      <td>4 days 01:37:00</td>\n      <td>2023-06-06T08:28:39Z</td>\n      <td>seatunnel-c203ef5f8d6ad8bfb7f284e32a9ce5f2bc1f...</td>\n      <td>c203ef5f8d6ad8bfb7f284e32a9ce5f2bc1fe142</td>\n      <td>...</td>\n      <td>13</td>\n      <td>0</td>\n      <td>1</td>\n      <td>2</td>\n      <td>42</td>\n      <td>0</td>\n      <td>106</td>\n      <td>1</td>\n      <td>0</td>\n      <td>0</td>\n    </tr>\n    <tr>\n      <th>3</th>\n      <td>c203ef5f8d6ad8bfb7f284e32a9ce5f2bc1fe142</td>\n      <td>c30a2a1b1c989d71082e7d501752f0d2d2c3601f</td>\n      <td>2</td>\n      <td>11</td>\n      <td>19</td>\n      <td>3</td>\n      <td>4 days 01:37:00</td>\n      <td>2023-06-02T07:23:42Z</td>\n      <td>seatunnel-c203ef5f8d6ad8bfb7f284e32a9ce5f2bc1f...</td>\n      <td>c203ef5f8d6ad8bfb7f284e32a9ce5f2bc1fe142</td>\n      <td>...</td>\n      <td>13</td>\n      <td>0</td>\n      <td>1</td>\n      <td>2</td>\n      <td>42</td>\n      <td>0</td>\n      <td>106</td>\n      <td>1</td>\n      <td>0</td>\n      <td>0</td>\n    </tr>\n    <tr>\n      <th>4</th>\n      <td>bde19b6377f7b2fb7a34b94bd06d6ce0cc44f348</td>\n      <td>c7745e63373c0fc92884982844bf55e22dd38af5</td>\n      <td>1</td>\n      <td>6</td>\n      <td>2</td>\n      <td>1</td>\n      <td>0 days 17:17:51</td>\n      <td>2023-06-05T08:59:42Z</td>\n      <td>seatunnel-bde19b6377f7b2fb7a34b94bd06d6ce0cc44...</td>\n      <td>bde19b6377f7b2fb7a34b94bd06d6ce0cc44f348</td>\n      <td>...</td>\n      <td>13</td>\n      <td>0</td>\n      <td>1</td>\n      <td>2</td>\n      <td>42</td>\n      <td>0</td>\n      <td>106</td>\n      <td>1</td>\n      <td>0</td>\n      <td>0</td>\n    </tr>\n    <tr>\n      <th>...</th>\n      <td>...</td>\n      <td>...</td>\n      <td>...</td>\n      <td>...</td>\n      <td>...</td>\n      <td>...</td>\n      <td>...</td>\n      <td>...</td>\n      <td>...</td>\n      <td>...</td>\n      <td>...</td>\n      <td>...</td>\n      <td>...</td>\n      <td>...</td>\n      <td>...</td>\n      <td>...</td>\n      <td>...</td>\n      <td>...</td>\n      <td>...</td>\n      <td>...</td>\n      <td>...</td>\n    </tr>\n    <tr>\n      <th>5215</th>\n      <td>04addef64bbd2567d47acbb7f434245fba7ac8a5</td>\n      <td>3b6a8b4058593b1ff11c44560ebcc56142cda830</td>\n      <td>1</td>\n      <td>11</td>\n      <td>1128</td>\n      <td>27</td>\n      <td>0 days 00:33:35</td>\n      <td>2019-08-13T15:14:02Z</td>\n      <td>seatunnel-04addef64bbd2567d47acbb7f434245fba7a...</td>\n      <td>04addef64bbd2567d47acbb7f434245fba7ac8a5</td>\n      <td>...</td>\n      <td>0</td>\n      <td>0</td>\n      <td>0</td>\n      <td>0</td>\n      <td>0</td>\n      <td>0</td>\n      <td>0</td>\n      <td>0</td>\n      <td>0</td>\n      <td>0</td>\n    </tr>\n    <tr>\n      <th>5216</th>\n      <td>79339df3455c88ba606847d79b3b3a1682c97a67</td>\n      <td>04addef64bbd2567d47acbb7f434245fba7ac8a5</td>\n      <td>1</td>\n      <td>36</td>\n      <td>0</td>\n      <td>1</td>\n      <td>0 days 00:09:14</td>\n      <td>2019-08-13T02:16:57Z</td>\n      <td>seatunnel-79339df3455c88ba606847d79b3b3a1682c9...</td>\n      <td>79339df3455c88ba606847d79b3b3a1682c97a67</td>\n      <td>...</td>\n      <td>0</td>\n      <td>0</td>\n      <td>0</td>\n      <td>0</td>\n      <td>0</td>\n      <td>0</td>\n      <td>0</td>\n      <td>0</td>\n      <td>0</td>\n      <td>0</td>\n    </tr>\n    <tr>\n      <th>5217</th>\n      <td>a475a8082b030af51a03e61457ed78b7cf17ab56</td>\n      <td>a26d21b7d28704facbfbbecfb501b958dd59d826</td>\n      <td>6</td>\n      <td>997</td>\n      <td>1045</td>\n      <td>81</td>\n      <td>0 days 23:14:31</td>\n      <td>2019-08-13T01:54:31Z</td>\n      <td>seatunnel-a475a8082b030af51a03e61457ed78b7cf17...</td>\n      <td>a475a8082b030af51a03e61457ed78b7cf17ab56</td>\n      <td>...</td>\n      <td>0</td>\n      <td>0</td>\n      <td>0</td>\n      <td>0</td>\n      <td>0</td>\n      <td>0</td>\n      <td>0</td>\n      <td>0</td>\n      <td>0</td>\n      <td>0</td>\n    </tr>\n    <tr>\n      <th>5218</th>\n      <td>96d0637c8471ec9370f15a522db0b23ff5dc7669</td>\n      <td>5fa746466941d871d4b1246b451f398416952541</td>\n      <td>14</td>\n      <td>964</td>\n      <td>122</td>\n      <td>64</td>\n      <td>31 days 01:05:35</td>\n      <td>2019-08-10T13:15:19Z</td>\n      <td>seatunnel-96d0637c8471ec9370f15a522db0b23ff5dc...</td>\n      <td>96d0637c8471ec9370f15a522db0b23ff5dc7669</td>\n      <td>...</td>\n      <td>0</td>\n      <td>0</td>\n      <td>0</td>\n      <td>0</td>\n      <td>0</td>\n      <td>0</td>\n      <td>3</td>\n      <td>0</td>\n      <td>0</td>\n      <td>0</td>\n    </tr>\n    <tr>\n      <th>5219</th>\n      <td>b35ec02811bf7ef58bc8d831418c468ecc0a36b6</td>\n      <td>305ec511da05ba519fe4b04b46f7898b650b06c5</td>\n      <td>1</td>\n      <td>97</td>\n      <td>28</td>\n      <td>56</td>\n      <td>0 days 17:01:00</td>\n      <td>2019-07-19T10:36:13Z</td>\n      <td>seatunnel-b35ec02811bf7ef58bc8d831418c468ecc0a...</td>\n      <td>b35ec02811bf7ef58bc8d831418c468ecc0a36b6</td>\n      <td>...</td>\n      <td>0</td>\n      <td>0</td>\n      <td>0</td>\n      <td>0</td>\n      <td>0</td>\n      <td>0</td>\n      <td>1</td>\n      <td>0</td>\n      <td>0</td>\n      <td>0</td>\n    </tr>\n  </tbody>\n</table>\n<p>5208 rows × 321 columns</p>\n</div>"
     },
     "execution_count": 196,
     "metadata": {},
     "output_type": "execute_result"
    }
   ],
   "source": [
    "df"
   ]
  },
  {
   "cell_type": "code",
   "execution_count": 197,
   "metadata": {
    "ExecuteTime": {
     "end_time": "2023-06-27T06:29:55.664754400Z",
     "start_time": "2023-06-27T06:29:55.572803300Z"
    }
   },
   "outputs": [],
   "source": [
    "# time_median= df['total_time'].median()\n",
    "# time_median\n",
    "# Timedelta('1 days 00:38:47')"
   ]
  },
  {
   "cell_type": "code",
   "execution_count": 198,
   "metadata": {
    "ExecuteTime": {
     "end_time": "2023-06-27T06:29:55.666754Z",
     "start_time": "2023-06-27T06:29:55.593885700Z"
    }
   },
   "outputs": [
    {
     "data": {
      "text/plain": "Timedelta('3 days 01:27:48')"
     },
     "execution_count": 198,
     "metadata": {},
     "output_type": "execute_result"
    }
   ],
   "source": [
    "df['total_time'][0:20].median()"
   ]
  },
  {
   "cell_type": "code",
   "execution_count": 199,
   "metadata": {
    "ExecuteTime": {
     "end_time": "2023-06-27T06:29:55.683868300Z",
     "start_time": "2023-06-27T06:29:55.615449Z"
    }
   },
   "outputs": [],
   "source": [
    "df['total_time'] = pd.to_datetime(df['end_time']) - pd.to_datetime(df['begin_time'])"
   ]
  },
  {
   "cell_type": "code",
   "execution_count": 200,
   "metadata": {
    "ExecuteTime": {
     "end_time": "2023-06-27T06:29:55.783672200Z",
     "start_time": "2023-06-27T06:29:55.648165700Z"
    }
   },
   "outputs": [
    {
     "data": {
      "text/plain": "0       False\n1       False\n2       False\n3       False\n4       False\n        ...  \n5215    False\n5216    False\n5217    False\n5218    False\n5219    False\nName: total_time, Length: 5208, dtype: bool"
     },
     "execution_count": 200,
     "metadata": {},
     "output_type": "execute_result"
    }
   ],
   "source": [
    "df['total_time'] < timedelta(minutes=3)"
   ]
  },
  {
   "cell_type": "code",
   "execution_count": 201,
   "metadata": {
    "ExecuteTime": {
     "end_time": "2023-06-27T06:29:55.805477200Z",
     "start_time": "2023-06-27T06:29:55.666754Z"
    }
   },
   "outputs": [],
   "source": [
    "# time_median > timedelta(minutes=0)"
   ]
  },
  {
   "cell_type": "code",
   "execution_count": 202,
   "metadata": {
    "ExecuteTime": {
     "end_time": "2023-06-27T06:29:55.859278800Z",
     "start_time": "2023-06-27T06:29:55.736793800Z"
    }
   },
   "outputs": [],
   "source": [
    "df['time_binary'] = df['total_time'].apply(lambda x:  0 if x < timedelta (days = 3) else 1)"
   ]
  },
  {
   "cell_type": "code",
   "execution_count": 203,
   "metadata": {
    "ExecuteTime": {
     "end_time": "2023-06-27T06:29:56.105498400Z",
     "start_time": "2023-06-27T06:29:55.806478700Z"
    }
   },
   "outputs": [
    {
     "data": {
      "text/plain": "                                     begin_sha  \\\n0     c203ef5f8d6ad8bfb7f284e32a9ce5f2bc1fe142   \n1     c203ef5f8d6ad8bfb7f284e32a9ce5f2bc1fe142   \n2     c203ef5f8d6ad8bfb7f284e32a9ce5f2bc1fe142   \n3     c203ef5f8d6ad8bfb7f284e32a9ce5f2bc1fe142   \n4     bde19b6377f7b2fb7a34b94bd06d6ce0cc44f348   \n...                                        ...   \n5215  04addef64bbd2567d47acbb7f434245fba7ac8a5   \n5216  79339df3455c88ba606847d79b3b3a1682c97a67   \n5217  a475a8082b030af51a03e61457ed78b7cf17ab56   \n5218  96d0637c8471ec9370f15a522db0b23ff5dc7669   \n5219  b35ec02811bf7ef58bc8d831418c468ecc0a36b6   \n\n                                       end_sha  commits  additions  deletions  \\\n0     4d429cab55482986b4d8a24c699d315631c8242a        1         64          1   \n1     4d429cab55482986b4d8a24c699d315631c8242a        1         64          1   \n2     c30a2a1b1c989d71082e7d501752f0d2d2c3601f        2         11         19   \n3     c30a2a1b1c989d71082e7d501752f0d2d2c3601f        2         11         19   \n4     c7745e63373c0fc92884982844bf55e22dd38af5        1          6          2   \n...                                        ...      ...        ...        ...   \n5215  3b6a8b4058593b1ff11c44560ebcc56142cda830        1         11       1128   \n5216  04addef64bbd2567d47acbb7f434245fba7ac8a5        1         36          0   \n5217  a26d21b7d28704facbfbbecfb501b958dd59d826        6        997       1045   \n5218  5fa746466941d871d4b1246b451f398416952541       14        964        122   \n5219  305ec511da05ba519fe4b04b46f7898b650b06c5        1         97         28   \n\n      changed_files       total_time            begin_time  \\\n0                 1  0 days 00:33:23  2023-06-06T08:28:39Z   \n1                 1  4 days 01:38:20  2023-06-02T07:23:42Z   \n2                 3  0 days 00:32:03  2023-06-06T08:28:39Z   \n3                 3  4 days 01:37:00  2023-06-02T07:23:42Z   \n4                 1  0 days 17:17:51  2023-06-05T08:59:42Z   \n...             ...              ...                   ...   \n5215             27  0 days 00:33:35  2019-08-13T15:14:02Z   \n5216              1  0 days 00:09:14  2019-08-13T02:16:57Z   \n5217             81  0 days 23:14:31  2019-08-13T01:54:31Z   \n5218             64 31 days 01:05:35  2019-08-10T13:15:19Z   \n5219             56  0 days 17:01:00  2019-07-19T10:36:13Z   \n\n                                              begin_key  \\\n0     seatunnel-c203ef5f8d6ad8bfb7f284e32a9ce5f2bc1f...   \n1     seatunnel-c203ef5f8d6ad8bfb7f284e32a9ce5f2bc1f...   \n2     seatunnel-c203ef5f8d6ad8bfb7f284e32a9ce5f2bc1f...   \n3     seatunnel-c203ef5f8d6ad8bfb7f284e32a9ce5f2bc1f...   \n4     seatunnel-bde19b6377f7b2fb7a34b94bd06d6ce0cc44...   \n...                                                 ...   \n5215  seatunnel-04addef64bbd2567d47acbb7f434245fba7a...   \n5216  seatunnel-79339df3455c88ba606847d79b3b3a1682c9...   \n5217  seatunnel-a475a8082b030af51a03e61457ed78b7cf17...   \n5218  seatunnel-96d0637c8471ec9370f15a522db0b23ff5dc...   \n5219  seatunnel-b35ec02811bf7ef58bc8d831418c468ecc0a...   \n\n                                begin_revision  ...  end_java:S5413  \\\n0     c203ef5f8d6ad8bfb7f284e32a9ce5f2bc1fe142  ...               0   \n1     c203ef5f8d6ad8bfb7f284e32a9ce5f2bc1fe142  ...               0   \n2     c203ef5f8d6ad8bfb7f284e32a9ce5f2bc1fe142  ...               0   \n3     c203ef5f8d6ad8bfb7f284e32a9ce5f2bc1fe142  ...               0   \n4     bde19b6377f7b2fb7a34b94bd06d6ce0cc44f348  ...               0   \n...                                        ...  ...             ...   \n5215  04addef64bbd2567d47acbb7f434245fba7ac8a5  ...               0   \n5216  79339df3455c88ba606847d79b3b3a1682c97a67  ...               0   \n5217  a475a8082b030af51a03e61457ed78b7cf17ab56  ...               0   \n5218  96d0637c8471ec9370f15a522db0b23ff5dc7669  ...               0   \n5219  b35ec02811bf7ef58bc8d831418c468ecc0a36b6  ...               0   \n\n      end_java:S5803  end_java:S5869  end_java:S5993  end_java:S6202  \\\n0                  1               2              42               0   \n1                  1               2              42               0   \n2                  1               2              42               0   \n3                  1               2              42               0   \n4                  1               2              42               0   \n...              ...             ...             ...             ...   \n5215               0               0               0               0   \n5216               0               0               0               0   \n5217               0               0               0               0   \n5218               0               0               0               0   \n5219               0               0               0               0   \n\n      end_java:S6213  end_java:S6244  end_java:S6353  end_java:S6355  \\\n0                106               1               0               0   \n1                106               1               0               0   \n2                106               1               0               0   \n3                106               1               0               0   \n4                106               1               0               0   \n...              ...             ...             ...             ...   \n5215               0               0               0               0   \n5216               0               0               0               0   \n5217               0               0               0               0   \n5218               3               0               0               0   \n5219               1               0               0               0   \n\n      time_binary  \n0               0  \n1               1  \n2               0  \n3               1  \n4               0  \n...           ...  \n5215            0  \n5216            0  \n5217            0  \n5218            1  \n5219            0  \n\n[5208 rows x 322 columns]",
      "text/html": "<div>\n<style scoped>\n    .dataframe tbody tr th:only-of-type {\n        vertical-align: middle;\n    }\n\n    .dataframe tbody tr th {\n        vertical-align: top;\n    }\n\n    .dataframe thead th {\n        text-align: right;\n    }\n</style>\n<table border=\"1\" class=\"dataframe\">\n  <thead>\n    <tr style=\"text-align: right;\">\n      <th></th>\n      <th>begin_sha</th>\n      <th>end_sha</th>\n      <th>commits</th>\n      <th>additions</th>\n      <th>deletions</th>\n      <th>changed_files</th>\n      <th>total_time</th>\n      <th>begin_time</th>\n      <th>begin_key</th>\n      <th>begin_revision</th>\n      <th>...</th>\n      <th>end_java:S5413</th>\n      <th>end_java:S5803</th>\n      <th>end_java:S5869</th>\n      <th>end_java:S5993</th>\n      <th>end_java:S6202</th>\n      <th>end_java:S6213</th>\n      <th>end_java:S6244</th>\n      <th>end_java:S6353</th>\n      <th>end_java:S6355</th>\n      <th>time_binary</th>\n    </tr>\n  </thead>\n  <tbody>\n    <tr>\n      <th>0</th>\n      <td>c203ef5f8d6ad8bfb7f284e32a9ce5f2bc1fe142</td>\n      <td>4d429cab55482986b4d8a24c699d315631c8242a</td>\n      <td>1</td>\n      <td>64</td>\n      <td>1</td>\n      <td>1</td>\n      <td>0 days 00:33:23</td>\n      <td>2023-06-06T08:28:39Z</td>\n      <td>seatunnel-c203ef5f8d6ad8bfb7f284e32a9ce5f2bc1f...</td>\n      <td>c203ef5f8d6ad8bfb7f284e32a9ce5f2bc1fe142</td>\n      <td>...</td>\n      <td>0</td>\n      <td>1</td>\n      <td>2</td>\n      <td>42</td>\n      <td>0</td>\n      <td>106</td>\n      <td>1</td>\n      <td>0</td>\n      <td>0</td>\n      <td>0</td>\n    </tr>\n    <tr>\n      <th>1</th>\n      <td>c203ef5f8d6ad8bfb7f284e32a9ce5f2bc1fe142</td>\n      <td>4d429cab55482986b4d8a24c699d315631c8242a</td>\n      <td>1</td>\n      <td>64</td>\n      <td>1</td>\n      <td>1</td>\n      <td>4 days 01:38:20</td>\n      <td>2023-06-02T07:23:42Z</td>\n      <td>seatunnel-c203ef5f8d6ad8bfb7f284e32a9ce5f2bc1f...</td>\n      <td>c203ef5f8d6ad8bfb7f284e32a9ce5f2bc1fe142</td>\n      <td>...</td>\n      <td>0</td>\n      <td>1</td>\n      <td>2</td>\n      <td>42</td>\n      <td>0</td>\n      <td>106</td>\n      <td>1</td>\n      <td>0</td>\n      <td>0</td>\n      <td>1</td>\n    </tr>\n    <tr>\n      <th>2</th>\n      <td>c203ef5f8d6ad8bfb7f284e32a9ce5f2bc1fe142</td>\n      <td>c30a2a1b1c989d71082e7d501752f0d2d2c3601f</td>\n      <td>2</td>\n      <td>11</td>\n      <td>19</td>\n      <td>3</td>\n      <td>0 days 00:32:03</td>\n      <td>2023-06-06T08:28:39Z</td>\n      <td>seatunnel-c203ef5f8d6ad8bfb7f284e32a9ce5f2bc1f...</td>\n      <td>c203ef5f8d6ad8bfb7f284e32a9ce5f2bc1fe142</td>\n      <td>...</td>\n      <td>0</td>\n      <td>1</td>\n      <td>2</td>\n      <td>42</td>\n      <td>0</td>\n      <td>106</td>\n      <td>1</td>\n      <td>0</td>\n      <td>0</td>\n      <td>0</td>\n    </tr>\n    <tr>\n      <th>3</th>\n      <td>c203ef5f8d6ad8bfb7f284e32a9ce5f2bc1fe142</td>\n      <td>c30a2a1b1c989d71082e7d501752f0d2d2c3601f</td>\n      <td>2</td>\n      <td>11</td>\n      <td>19</td>\n      <td>3</td>\n      <td>4 days 01:37:00</td>\n      <td>2023-06-02T07:23:42Z</td>\n      <td>seatunnel-c203ef5f8d6ad8bfb7f284e32a9ce5f2bc1f...</td>\n      <td>c203ef5f8d6ad8bfb7f284e32a9ce5f2bc1fe142</td>\n      <td>...</td>\n      <td>0</td>\n      <td>1</td>\n      <td>2</td>\n      <td>42</td>\n      <td>0</td>\n      <td>106</td>\n      <td>1</td>\n      <td>0</td>\n      <td>0</td>\n      <td>1</td>\n    </tr>\n    <tr>\n      <th>4</th>\n      <td>bde19b6377f7b2fb7a34b94bd06d6ce0cc44f348</td>\n      <td>c7745e63373c0fc92884982844bf55e22dd38af5</td>\n      <td>1</td>\n      <td>6</td>\n      <td>2</td>\n      <td>1</td>\n      <td>0 days 17:17:51</td>\n      <td>2023-06-05T08:59:42Z</td>\n      <td>seatunnel-bde19b6377f7b2fb7a34b94bd06d6ce0cc44...</td>\n      <td>bde19b6377f7b2fb7a34b94bd06d6ce0cc44f348</td>\n      <td>...</td>\n      <td>0</td>\n      <td>1</td>\n      <td>2</td>\n      <td>42</td>\n      <td>0</td>\n      <td>106</td>\n      <td>1</td>\n      <td>0</td>\n      <td>0</td>\n      <td>0</td>\n    </tr>\n    <tr>\n      <th>...</th>\n      <td>...</td>\n      <td>...</td>\n      <td>...</td>\n      <td>...</td>\n      <td>...</td>\n      <td>...</td>\n      <td>...</td>\n      <td>...</td>\n      <td>...</td>\n      <td>...</td>\n      <td>...</td>\n      <td>...</td>\n      <td>...</td>\n      <td>...</td>\n      <td>...</td>\n      <td>...</td>\n      <td>...</td>\n      <td>...</td>\n      <td>...</td>\n      <td>...</td>\n      <td>...</td>\n    </tr>\n    <tr>\n      <th>5215</th>\n      <td>04addef64bbd2567d47acbb7f434245fba7ac8a5</td>\n      <td>3b6a8b4058593b1ff11c44560ebcc56142cda830</td>\n      <td>1</td>\n      <td>11</td>\n      <td>1128</td>\n      <td>27</td>\n      <td>0 days 00:33:35</td>\n      <td>2019-08-13T15:14:02Z</td>\n      <td>seatunnel-04addef64bbd2567d47acbb7f434245fba7a...</td>\n      <td>04addef64bbd2567d47acbb7f434245fba7ac8a5</td>\n      <td>...</td>\n      <td>0</td>\n      <td>0</td>\n      <td>0</td>\n      <td>0</td>\n      <td>0</td>\n      <td>0</td>\n      <td>0</td>\n      <td>0</td>\n      <td>0</td>\n      <td>0</td>\n    </tr>\n    <tr>\n      <th>5216</th>\n      <td>79339df3455c88ba606847d79b3b3a1682c97a67</td>\n      <td>04addef64bbd2567d47acbb7f434245fba7ac8a5</td>\n      <td>1</td>\n      <td>36</td>\n      <td>0</td>\n      <td>1</td>\n      <td>0 days 00:09:14</td>\n      <td>2019-08-13T02:16:57Z</td>\n      <td>seatunnel-79339df3455c88ba606847d79b3b3a1682c9...</td>\n      <td>79339df3455c88ba606847d79b3b3a1682c97a67</td>\n      <td>...</td>\n      <td>0</td>\n      <td>0</td>\n      <td>0</td>\n      <td>0</td>\n      <td>0</td>\n      <td>0</td>\n      <td>0</td>\n      <td>0</td>\n      <td>0</td>\n      <td>0</td>\n    </tr>\n    <tr>\n      <th>5217</th>\n      <td>a475a8082b030af51a03e61457ed78b7cf17ab56</td>\n      <td>a26d21b7d28704facbfbbecfb501b958dd59d826</td>\n      <td>6</td>\n      <td>997</td>\n      <td>1045</td>\n      <td>81</td>\n      <td>0 days 23:14:31</td>\n      <td>2019-08-13T01:54:31Z</td>\n      <td>seatunnel-a475a8082b030af51a03e61457ed78b7cf17...</td>\n      <td>a475a8082b030af51a03e61457ed78b7cf17ab56</td>\n      <td>...</td>\n      <td>0</td>\n      <td>0</td>\n      <td>0</td>\n      <td>0</td>\n      <td>0</td>\n      <td>0</td>\n      <td>0</td>\n      <td>0</td>\n      <td>0</td>\n      <td>0</td>\n    </tr>\n    <tr>\n      <th>5218</th>\n      <td>96d0637c8471ec9370f15a522db0b23ff5dc7669</td>\n      <td>5fa746466941d871d4b1246b451f398416952541</td>\n      <td>14</td>\n      <td>964</td>\n      <td>122</td>\n      <td>64</td>\n      <td>31 days 01:05:35</td>\n      <td>2019-08-10T13:15:19Z</td>\n      <td>seatunnel-96d0637c8471ec9370f15a522db0b23ff5dc...</td>\n      <td>96d0637c8471ec9370f15a522db0b23ff5dc7669</td>\n      <td>...</td>\n      <td>0</td>\n      <td>0</td>\n      <td>0</td>\n      <td>0</td>\n      <td>0</td>\n      <td>3</td>\n      <td>0</td>\n      <td>0</td>\n      <td>0</td>\n      <td>1</td>\n    </tr>\n    <tr>\n      <th>5219</th>\n      <td>b35ec02811bf7ef58bc8d831418c468ecc0a36b6</td>\n      <td>305ec511da05ba519fe4b04b46f7898b650b06c5</td>\n      <td>1</td>\n      <td>97</td>\n      <td>28</td>\n      <td>56</td>\n      <td>0 days 17:01:00</td>\n      <td>2019-07-19T10:36:13Z</td>\n      <td>seatunnel-b35ec02811bf7ef58bc8d831418c468ecc0a...</td>\n      <td>b35ec02811bf7ef58bc8d831418c468ecc0a36b6</td>\n      <td>...</td>\n      <td>0</td>\n      <td>0</td>\n      <td>0</td>\n      <td>0</td>\n      <td>0</td>\n      <td>1</td>\n      <td>0</td>\n      <td>0</td>\n      <td>0</td>\n      <td>0</td>\n    </tr>\n  </tbody>\n</table>\n<p>5208 rows × 322 columns</p>\n</div>"
     },
     "execution_count": 203,
     "metadata": {},
     "output_type": "execute_result"
    }
   ],
   "source": [
    "df"
   ]
  },
  {
   "cell_type": "code",
   "execution_count": 204,
   "outputs": [
    {
     "data": {
      "text/plain": "0       0 days 00:33:23\n1       4 days 01:38:20\n2       0 days 00:32:03\n3       4 days 01:37:00\n4       0 days 17:17:51\n             ...       \n5215    0 days 00:33:35\n5216    0 days 00:09:14\n5217    0 days 23:14:31\n5218   31 days 01:05:35\n5219    0 days 17:01:00\nName: total_time, Length: 5208, dtype: timedelta64[ns]"
     },
     "execution_count": 204,
     "metadata": {},
     "output_type": "execute_result"
    }
   ],
   "source": [
    "df['total_time']"
   ],
   "metadata": {
    "collapsed": false,
    "ExecuteTime": {
     "end_time": "2023-06-27T06:29:56.191934600Z",
     "start_time": "2023-06-27T06:29:55.868800900Z"
    }
   }
  },
  {
   "cell_type": "code",
   "execution_count": 205,
   "metadata": {
    "ExecuteTime": {
     "end_time": "2023-06-27T06:29:56.208010Z",
     "start_time": "2023-06-27T06:29:55.885368100Z"
    }
   },
   "outputs": [],
   "source": [
    "X = df.loc[:, ~df.columns.isin(['time_binary',\n",
    "                                'total_time' ,\n",
    "                                'begin_sha', 'end_sha', 'begin_time' , 'begin_key', 'begin_revision', 'end_time', 'end_key', 'end_revision'])]\n",
    "y = df['time_binary']"
   ]
  },
  {
   "cell_type": "code",
   "execution_count": 206,
   "metadata": {
    "ExecuteTime": {
     "end_time": "2023-06-27T06:29:56.211009700Z",
     "start_time": "2023-06-27T06:29:56.063171600Z"
    }
   },
   "outputs": [
    {
     "data": {
      "text/plain": "      commits  additions  deletions  changed_files  begin_java:S100  \\\n0           1         64          1              1                0   \n1           1         64          1              1                0   \n2           2         11         19              3                0   \n3           2         11         19              3                0   \n4           1          6          2              1                0   \n...       ...        ...        ...            ...              ...   \n5215        1         11       1128             27                0   \n5216        1         36          0              1                0   \n5217        6        997       1045             81                0   \n5218       14        964        122             64                0   \n5219        1         97         28             56                0   \n\n      begin_java:S101  begin_java:S106  begin_java:S1066  begin_java:S1068  \\\n0                   0                8                16                64   \n1                   0                8                16                64   \n2                   0                8                16                64   \n3                   0                8                16                64   \n4                   0                8                16                64   \n...               ...              ...               ...               ...   \n5215                0                0                 0                 2   \n5216                0                0                 0                 2   \n5217                0                0                 0                 0   \n5218                0                1                 0                 0   \n5219                0                0                 0                 0   \n\n      begin_java:S107  ...  end_java:S5411  end_java:S5413  end_java:S5803  \\\n0                  27  ...              13               0               1   \n1                  27  ...              13               0               1   \n2                  27  ...              13               0               1   \n3                  27  ...              13               0               1   \n4                  27  ...              13               0               1   \n...               ...  ...             ...             ...             ...   \n5215                0  ...               0               0               0   \n5216                0  ...               0               0               0   \n5217                0  ...               0               0               0   \n5218                0  ...               0               0               0   \n5219                0  ...               0               0               0   \n\n      end_java:S5869  end_java:S5993  end_java:S6202  end_java:S6213  \\\n0                  2              42               0             106   \n1                  2              42               0             106   \n2                  2              42               0             106   \n3                  2              42               0             106   \n4                  2              42               0             106   \n...              ...             ...             ...             ...   \n5215               0               0               0               0   \n5216               0               0               0               0   \n5217               0               0               0               0   \n5218               0               0               0               3   \n5219               0               0               0               1   \n\n      end_java:S6244  end_java:S6353  end_java:S6355  \n0                  1               0               0  \n1                  1               0               0  \n2                  1               0               0  \n3                  1               0               0  \n4                  1               0               0  \n...              ...             ...             ...  \n5215               0               0               0  \n5216               0               0               0  \n5217               0               0               0  \n5218               0               0               0  \n5219               0               0               0  \n\n[5208 rows x 312 columns]",
      "text/html": "<div>\n<style scoped>\n    .dataframe tbody tr th:only-of-type {\n        vertical-align: middle;\n    }\n\n    .dataframe tbody tr th {\n        vertical-align: top;\n    }\n\n    .dataframe thead th {\n        text-align: right;\n    }\n</style>\n<table border=\"1\" class=\"dataframe\">\n  <thead>\n    <tr style=\"text-align: right;\">\n      <th></th>\n      <th>commits</th>\n      <th>additions</th>\n      <th>deletions</th>\n      <th>changed_files</th>\n      <th>begin_java:S100</th>\n      <th>begin_java:S101</th>\n      <th>begin_java:S106</th>\n      <th>begin_java:S1066</th>\n      <th>begin_java:S1068</th>\n      <th>begin_java:S107</th>\n      <th>...</th>\n      <th>end_java:S5411</th>\n      <th>end_java:S5413</th>\n      <th>end_java:S5803</th>\n      <th>end_java:S5869</th>\n      <th>end_java:S5993</th>\n      <th>end_java:S6202</th>\n      <th>end_java:S6213</th>\n      <th>end_java:S6244</th>\n      <th>end_java:S6353</th>\n      <th>end_java:S6355</th>\n    </tr>\n  </thead>\n  <tbody>\n    <tr>\n      <th>0</th>\n      <td>1</td>\n      <td>64</td>\n      <td>1</td>\n      <td>1</td>\n      <td>0</td>\n      <td>0</td>\n      <td>8</td>\n      <td>16</td>\n      <td>64</td>\n      <td>27</td>\n      <td>...</td>\n      <td>13</td>\n      <td>0</td>\n      <td>1</td>\n      <td>2</td>\n      <td>42</td>\n      <td>0</td>\n      <td>106</td>\n      <td>1</td>\n      <td>0</td>\n      <td>0</td>\n    </tr>\n    <tr>\n      <th>1</th>\n      <td>1</td>\n      <td>64</td>\n      <td>1</td>\n      <td>1</td>\n      <td>0</td>\n      <td>0</td>\n      <td>8</td>\n      <td>16</td>\n      <td>64</td>\n      <td>27</td>\n      <td>...</td>\n      <td>13</td>\n      <td>0</td>\n      <td>1</td>\n      <td>2</td>\n      <td>42</td>\n      <td>0</td>\n      <td>106</td>\n      <td>1</td>\n      <td>0</td>\n      <td>0</td>\n    </tr>\n    <tr>\n      <th>2</th>\n      <td>2</td>\n      <td>11</td>\n      <td>19</td>\n      <td>3</td>\n      <td>0</td>\n      <td>0</td>\n      <td>8</td>\n      <td>16</td>\n      <td>64</td>\n      <td>27</td>\n      <td>...</td>\n      <td>13</td>\n      <td>0</td>\n      <td>1</td>\n      <td>2</td>\n      <td>42</td>\n      <td>0</td>\n      <td>106</td>\n      <td>1</td>\n      <td>0</td>\n      <td>0</td>\n    </tr>\n    <tr>\n      <th>3</th>\n      <td>2</td>\n      <td>11</td>\n      <td>19</td>\n      <td>3</td>\n      <td>0</td>\n      <td>0</td>\n      <td>8</td>\n      <td>16</td>\n      <td>64</td>\n      <td>27</td>\n      <td>...</td>\n      <td>13</td>\n      <td>0</td>\n      <td>1</td>\n      <td>2</td>\n      <td>42</td>\n      <td>0</td>\n      <td>106</td>\n      <td>1</td>\n      <td>0</td>\n      <td>0</td>\n    </tr>\n    <tr>\n      <th>4</th>\n      <td>1</td>\n      <td>6</td>\n      <td>2</td>\n      <td>1</td>\n      <td>0</td>\n      <td>0</td>\n      <td>8</td>\n      <td>16</td>\n      <td>64</td>\n      <td>27</td>\n      <td>...</td>\n      <td>13</td>\n      <td>0</td>\n      <td>1</td>\n      <td>2</td>\n      <td>42</td>\n      <td>0</td>\n      <td>106</td>\n      <td>1</td>\n      <td>0</td>\n      <td>0</td>\n    </tr>\n    <tr>\n      <th>...</th>\n      <td>...</td>\n      <td>...</td>\n      <td>...</td>\n      <td>...</td>\n      <td>...</td>\n      <td>...</td>\n      <td>...</td>\n      <td>...</td>\n      <td>...</td>\n      <td>...</td>\n      <td>...</td>\n      <td>...</td>\n      <td>...</td>\n      <td>...</td>\n      <td>...</td>\n      <td>...</td>\n      <td>...</td>\n      <td>...</td>\n      <td>...</td>\n      <td>...</td>\n      <td>...</td>\n    </tr>\n    <tr>\n      <th>5215</th>\n      <td>1</td>\n      <td>11</td>\n      <td>1128</td>\n      <td>27</td>\n      <td>0</td>\n      <td>0</td>\n      <td>0</td>\n      <td>0</td>\n      <td>2</td>\n      <td>0</td>\n      <td>...</td>\n      <td>0</td>\n      <td>0</td>\n      <td>0</td>\n      <td>0</td>\n      <td>0</td>\n      <td>0</td>\n      <td>0</td>\n      <td>0</td>\n      <td>0</td>\n      <td>0</td>\n    </tr>\n    <tr>\n      <th>5216</th>\n      <td>1</td>\n      <td>36</td>\n      <td>0</td>\n      <td>1</td>\n      <td>0</td>\n      <td>0</td>\n      <td>0</td>\n      <td>0</td>\n      <td>2</td>\n      <td>0</td>\n      <td>...</td>\n      <td>0</td>\n      <td>0</td>\n      <td>0</td>\n      <td>0</td>\n      <td>0</td>\n      <td>0</td>\n      <td>0</td>\n      <td>0</td>\n      <td>0</td>\n      <td>0</td>\n    </tr>\n    <tr>\n      <th>5217</th>\n      <td>6</td>\n      <td>997</td>\n      <td>1045</td>\n      <td>81</td>\n      <td>0</td>\n      <td>0</td>\n      <td>0</td>\n      <td>0</td>\n      <td>0</td>\n      <td>0</td>\n      <td>...</td>\n      <td>0</td>\n      <td>0</td>\n      <td>0</td>\n      <td>0</td>\n      <td>0</td>\n      <td>0</td>\n      <td>0</td>\n      <td>0</td>\n      <td>0</td>\n      <td>0</td>\n    </tr>\n    <tr>\n      <th>5218</th>\n      <td>14</td>\n      <td>964</td>\n      <td>122</td>\n      <td>64</td>\n      <td>0</td>\n      <td>0</td>\n      <td>1</td>\n      <td>0</td>\n      <td>0</td>\n      <td>0</td>\n      <td>...</td>\n      <td>0</td>\n      <td>0</td>\n      <td>0</td>\n      <td>0</td>\n      <td>0</td>\n      <td>0</td>\n      <td>3</td>\n      <td>0</td>\n      <td>0</td>\n      <td>0</td>\n    </tr>\n    <tr>\n      <th>5219</th>\n      <td>1</td>\n      <td>97</td>\n      <td>28</td>\n      <td>56</td>\n      <td>0</td>\n      <td>0</td>\n      <td>0</td>\n      <td>0</td>\n      <td>0</td>\n      <td>0</td>\n      <td>...</td>\n      <td>0</td>\n      <td>0</td>\n      <td>0</td>\n      <td>0</td>\n      <td>0</td>\n      <td>0</td>\n      <td>1</td>\n      <td>0</td>\n      <td>0</td>\n      <td>0</td>\n    </tr>\n  </tbody>\n</table>\n<p>5208 rows × 312 columns</p>\n</div>"
     },
     "execution_count": 206,
     "metadata": {},
     "output_type": "execute_result"
    }
   ],
   "source": [
    "X"
   ]
  },
  {
   "cell_type": "code",
   "execution_count": 207,
   "metadata": {
    "ExecuteTime": {
     "end_time": "2023-06-27T06:29:56.226585800Z",
     "start_time": "2023-06-27T06:29:56.064171800Z"
    }
   },
   "outputs": [
    {
     "data": {
      "text/plain": "0       0\n1       1\n2       0\n3       1\n4       0\n       ..\n5215    0\n5216    0\n5217    0\n5218    1\n5219    0\nName: time_binary, Length: 5208, dtype: int64"
     },
     "execution_count": 207,
     "metadata": {},
     "output_type": "execute_result"
    }
   ],
   "source": [
    "y"
   ]
  },
  {
   "cell_type": "code",
   "execution_count": 208,
   "metadata": {
    "ExecuteTime": {
     "end_time": "2023-06-27T06:29:56.226585800Z",
     "start_time": "2023-06-27T06:29:56.064171800Z"
    }
   },
   "outputs": [],
   "source": [
    "X_train, X_test = X[:int(0.7 * len(X))], X[int(0.7 * len(X)):]\n",
    "y_train, y_test = y[:int(0.7 * len(X))], y[int(0.7 * len(X)):]"
   ]
  },
  {
   "cell_type": "code",
   "execution_count": 209,
   "outputs": [
    {
     "data": {
      "text/plain": "3645"
     },
     "execution_count": 209,
     "metadata": {},
     "output_type": "execute_result"
    }
   ],
   "source": [
    "int(0.7 * len(X))"
   ],
   "metadata": {
    "collapsed": false,
    "ExecuteTime": {
     "end_time": "2023-06-27T06:29:56.227584800Z",
     "start_time": "2023-06-27T06:29:56.064171800Z"
    }
   }
  },
  {
   "cell_type": "code",
   "execution_count": 210,
   "metadata": {
    "ExecuteTime": {
     "end_time": "2023-06-27T06:30:09.274390100Z",
     "start_time": "2023-06-27T06:29:56.064171800Z"
    }
   },
   "outputs": [],
   "source": [
    "clf = GradientBoostingClassifier(n_estimators=100, learning_rate=0.1 , max_depth=10 , random_state=3).fit(X_train , y_train)"
   ]
  },
  {
   "cell_type": "code",
   "execution_count": 211,
   "metadata": {
    "ExecuteTime": {
     "end_time": "2023-06-27T06:31:09.696106300Z",
     "start_time": "2023-06-27T06:30:09.278903400Z"
    }
   },
   "outputs": [
    {
     "data": {
      "text/plain": "array([0.29270633, 0.11228407, 0.00767754, 0.129683  , 0.70989433])"
     },
     "execution_count": 211,
     "metadata": {},
     "output_type": "execute_result"
    }
   ],
   "source": [
    "from sklearn.model_selection import cross_val_score\n",
    "cross_val_score(clf , X , y , cv=5 , scoring= \"accuracy\")"
   ]
  },
  {
   "cell_type": "code",
   "execution_count": 212,
   "metadata": {
    "ExecuteTime": {
     "end_time": "2023-06-27T06:32:04.084292600Z",
     "start_time": "2023-06-27T06:31:09.698611400Z"
    }
   },
   "outputs": [
    {
     "data": {
      "text/plain": "array([1, 1, 1, ..., 0, 0, 0], dtype=int64)"
     },
     "execution_count": 212,
     "metadata": {},
     "output_type": "execute_result"
    }
   ],
   "source": [
    "from sklearn.model_selection import cross_val_predict\n",
    "y_pred = cross_val_predict(clf,X,y,cv=5)\n",
    "y_pred"
   ]
  },
  {
   "cell_type": "code",
   "execution_count": 213,
   "metadata": {
    "ExecuteTime": {
     "end_time": "2023-06-27T06:32:04.112165Z",
     "start_time": "2023-06-27T06:32:04.087307900Z"
    }
   },
   "outputs": [
    {
     "data": {
      "text/plain": "array([[ 913, 2773],\n       [1131,  391]], dtype=int64)"
     },
     "execution_count": 213,
     "metadata": {},
     "output_type": "execute_result"
    }
   ],
   "source": [
    "from sklearn.metrics import confusion_matrix\n",
    "confusion_matrix(y , y_pred)"
   ]
  },
  {
   "cell_type": "code",
   "execution_count": 214,
   "metadata": {
    "ExecuteTime": {
     "end_time": "2023-06-27T06:32:04.161472200Z",
     "start_time": "2023-06-27T06:32:04.100021200Z"
    }
   },
   "outputs": [
    {
     "data": {
      "text/plain": "array([1, 1, 0, ..., 0, 0, 0], dtype=int64)"
     },
     "execution_count": 214,
     "metadata": {},
     "output_type": "execute_result"
    }
   ],
   "source": [
    "clf.predict(X)"
   ]
  },
  {
   "cell_type": "code",
   "execution_count": 215,
   "metadata": {
    "ExecuteTime": {
     "end_time": "2023-06-27T06:32:04.212601400Z",
     "start_time": "2023-06-27T06:32:04.162471Z"
    }
   },
   "outputs": [
    {
     "data": {
      "text/plain": "array([1, 1, 0, ..., 0, 0, 0], dtype=int64)"
     },
     "execution_count": 215,
     "metadata": {},
     "output_type": "execute_result"
    }
   ],
   "source": [
    "clf.predict(X_train)"
   ]
  },
  {
   "cell_type": "code",
   "execution_count": 216,
   "metadata": {
    "ExecuteTime": {
     "end_time": "2023-06-27T06:32:04.239497800Z",
     "start_time": "2023-06-27T06:32:04.211601400Z"
    }
   },
   "outputs": [
    {
     "name": "stdout",
     "output_type": "stream",
     "text": [
      "precision =  0.28512546975390957\n",
      "recall_score =  0.2522963972783334\n",
      "f1_score 0.24277685787898898\n"
     ]
    }
   ],
   "source": [
    "from sklearn.metrics import precision_score, recall_score, f1_score\n",
    "print('precision = ', precision_score(y,y_pred ,average='macro'))\n",
    "print('recall_score = ', recall_score(y,y_pred ,average='macro'))\n",
    "print('f1_score',f1_score(y,y_pred ,average='macro'))\n"
   ]
  },
  {
   "cell_type": "code",
   "execution_count": 217,
   "metadata": {
    "ExecuteTime": {
     "end_time": "2023-06-27T06:32:04.261652800Z",
     "start_time": "2023-06-27T06:32:04.225477900Z"
    }
   },
   "outputs": [
    {
     "data": {
      "text/plain": "y         1522\ny_pred    3164\ndtype: int64"
     },
     "execution_count": 217,
     "metadata": {},
     "output_type": "execute_result"
    }
   ],
   "source": [
    "frame={\"y\":y,\"y_pred\": y_pred}\n",
    "pd.DataFrame(frame).sum()"
   ]
  },
  {
   "cell_type": "code",
   "execution_count": 218,
   "metadata": {
    "ExecuteTime": {
     "end_time": "2023-06-27T06:32:11.395497800Z",
     "start_time": "2023-06-27T06:32:04.252653Z"
    }
   },
   "outputs": [
    {
     "data": {
      "text/plain": "GridSearchCV(cv=3, estimator=GradientBoostingClassifier(),\n             param_grid={'learning_rate': [0.01, 0.1, 1.0], 'max_depth': [1, 2],\n                         'n_estimators': [1, 12, 14, 16], 'random_state': [2],\n                         'subsample': [0.7]},\n             scoring='f1_macro')",
      "text/html": "<style>#sk-container-id-9 {color: black;background-color: white;}#sk-container-id-9 pre{padding: 0;}#sk-container-id-9 div.sk-toggleable {background-color: white;}#sk-container-id-9 label.sk-toggleable__label {cursor: pointer;display: block;width: 100%;margin-bottom: 0;padding: 0.3em;box-sizing: border-box;text-align: center;}#sk-container-id-9 label.sk-toggleable__label-arrow:before {content: \"▸\";float: left;margin-right: 0.25em;color: #696969;}#sk-container-id-9 label.sk-toggleable__label-arrow:hover:before {color: black;}#sk-container-id-9 div.sk-estimator:hover label.sk-toggleable__label-arrow:before {color: black;}#sk-container-id-9 div.sk-toggleable__content {max-height: 0;max-width: 0;overflow: hidden;text-align: left;background-color: #f0f8ff;}#sk-container-id-9 div.sk-toggleable__content pre {margin: 0.2em;color: black;border-radius: 0.25em;background-color: #f0f8ff;}#sk-container-id-9 input.sk-toggleable__control:checked~div.sk-toggleable__content {max-height: 200px;max-width: 100%;overflow: auto;}#sk-container-id-9 input.sk-toggleable__control:checked~label.sk-toggleable__label-arrow:before {content: \"▾\";}#sk-container-id-9 div.sk-estimator input.sk-toggleable__control:checked~label.sk-toggleable__label {background-color: #d4ebff;}#sk-container-id-9 div.sk-label input.sk-toggleable__control:checked~label.sk-toggleable__label {background-color: #d4ebff;}#sk-container-id-9 input.sk-hidden--visually {border: 0;clip: rect(1px 1px 1px 1px);clip: rect(1px, 1px, 1px, 1px);height: 1px;margin: -1px;overflow: hidden;padding: 0;position: absolute;width: 1px;}#sk-container-id-9 div.sk-estimator {font-family: monospace;background-color: #f0f8ff;border: 1px dotted black;border-radius: 0.25em;box-sizing: border-box;margin-bottom: 0.5em;}#sk-container-id-9 div.sk-estimator:hover {background-color: #d4ebff;}#sk-container-id-9 div.sk-parallel-item::after {content: \"\";width: 100%;border-bottom: 1px solid gray;flex-grow: 1;}#sk-container-id-9 div.sk-label:hover label.sk-toggleable__label {background-color: #d4ebff;}#sk-container-id-9 div.sk-serial::before {content: \"\";position: absolute;border-left: 1px solid gray;box-sizing: border-box;top: 0;bottom: 0;left: 50%;z-index: 0;}#sk-container-id-9 div.sk-serial {display: flex;flex-direction: column;align-items: center;background-color: white;padding-right: 0.2em;padding-left: 0.2em;position: relative;}#sk-container-id-9 div.sk-item {position: relative;z-index: 1;}#sk-container-id-9 div.sk-parallel {display: flex;align-items: stretch;justify-content: center;background-color: white;position: relative;}#sk-container-id-9 div.sk-item::before, #sk-container-id-9 div.sk-parallel-item::before {content: \"\";position: absolute;border-left: 1px solid gray;box-sizing: border-box;top: 0;bottom: 0;left: 50%;z-index: -1;}#sk-container-id-9 div.sk-parallel-item {display: flex;flex-direction: column;z-index: 1;position: relative;background-color: white;}#sk-container-id-9 div.sk-parallel-item:first-child::after {align-self: flex-end;width: 50%;}#sk-container-id-9 div.sk-parallel-item:last-child::after {align-self: flex-start;width: 50%;}#sk-container-id-9 div.sk-parallel-item:only-child::after {width: 0;}#sk-container-id-9 div.sk-dashed-wrapped {border: 1px dashed gray;margin: 0 0.4em 0.5em 0.4em;box-sizing: border-box;padding-bottom: 0.4em;background-color: white;}#sk-container-id-9 div.sk-label label {font-family: monospace;font-weight: bold;display: inline-block;line-height: 1.2em;}#sk-container-id-9 div.sk-label-container {text-align: center;}#sk-container-id-9 div.sk-container {/* jupyter's `normalize.less` sets `[hidden] { display: none; }` but bootstrap.min.css set `[hidden] { display: none !important; }` so we also need the `!important` here to be able to override the default hidden behavior on the sphinx rendered scikit-learn.org. See: https://github.com/scikit-learn/scikit-learn/issues/21755 */display: inline-block !important;position: relative;}#sk-container-id-9 div.sk-text-repr-fallback {display: none;}</style><div id=\"sk-container-id-9\" class=\"sk-top-container\"><div class=\"sk-text-repr-fallback\"><pre>GridSearchCV(cv=3, estimator=GradientBoostingClassifier(),\n             param_grid={&#x27;learning_rate&#x27;: [0.01, 0.1, 1.0], &#x27;max_depth&#x27;: [1, 2],\n                         &#x27;n_estimators&#x27;: [1, 12, 14, 16], &#x27;random_state&#x27;: [2],\n                         &#x27;subsample&#x27;: [0.7]},\n             scoring=&#x27;f1_macro&#x27;)</pre><b>In a Jupyter environment, please rerun this cell to show the HTML representation or trust the notebook. <br />On GitHub, the HTML representation is unable to render, please try loading this page with nbviewer.org.</b></div><div class=\"sk-container\" hidden><div class=\"sk-item sk-dashed-wrapped\"><div class=\"sk-label-container\"><div class=\"sk-label sk-toggleable\"><input class=\"sk-toggleable__control sk-hidden--visually\" id=\"sk-estimator-id-25\" type=\"checkbox\" ><label for=\"sk-estimator-id-25\" class=\"sk-toggleable__label sk-toggleable__label-arrow\">GridSearchCV</label><div class=\"sk-toggleable__content\"><pre>GridSearchCV(cv=3, estimator=GradientBoostingClassifier(),\n             param_grid={&#x27;learning_rate&#x27;: [0.01, 0.1, 1.0], &#x27;max_depth&#x27;: [1, 2],\n                         &#x27;n_estimators&#x27;: [1, 12, 14, 16], &#x27;random_state&#x27;: [2],\n                         &#x27;subsample&#x27;: [0.7]},\n             scoring=&#x27;f1_macro&#x27;)</pre></div></div></div><div class=\"sk-parallel\"><div class=\"sk-parallel-item\"><div class=\"sk-item\"><div class=\"sk-label-container\"><div class=\"sk-label sk-toggleable\"><input class=\"sk-toggleable__control sk-hidden--visually\" id=\"sk-estimator-id-26\" type=\"checkbox\" ><label for=\"sk-estimator-id-26\" class=\"sk-toggleable__label sk-toggleable__label-arrow\">estimator: GradientBoostingClassifier</label><div class=\"sk-toggleable__content\"><pre>GradientBoostingClassifier()</pre></div></div></div><div class=\"sk-serial\"><div class=\"sk-item\"><div class=\"sk-estimator sk-toggleable\"><input class=\"sk-toggleable__control sk-hidden--visually\" id=\"sk-estimator-id-27\" type=\"checkbox\" ><label for=\"sk-estimator-id-27\" class=\"sk-toggleable__label sk-toggleable__label-arrow\">GradientBoostingClassifier</label><div class=\"sk-toggleable__content\"><pre>GradientBoostingClassifier()</pre></div></div></div></div></div></div></div></div></div></div>"
     },
     "execution_count": 218,
     "metadata": {},
     "output_type": "execute_result"
    }
   ],
   "source": [
    "from sklearn.model_selection import GridSearchCV\n",
    "\n",
    "parameters = {\n",
    "\n",
    "    'learning_rate': [0.01 , 0.1 ,1.0],\n",
    "    'n_estimators': [1,12,14,16],\n",
    "    'subsample' : [0.7],\n",
    "    'max_depth' : [1,2] ,\n",
    "    'random_state':[2]\n",
    "\n",
    "}\n",
    "GradientBoosting = GradientBoostingClassifier()\n",
    "clf = GridSearchCV(GradientBoosting, parameters , cv=3 , scoring='f1_macro')\n",
    "clf.fit(X_train,y_train)"
   ]
  },
  {
   "cell_type": "code",
   "execution_count": 219,
   "metadata": {
    "ExecuteTime": {
     "end_time": "2023-06-27T06:32:11.490964900Z",
     "start_time": "2023-06-27T06:32:11.397504300Z"
    }
   },
   "outputs": [
    {
     "data": {
      "text/plain": "array([0, 0, 0, ..., 0, 0, 0], dtype=int64)"
     },
     "execution_count": 219,
     "metadata": {},
     "output_type": "execute_result"
    }
   ],
   "source": [
    "y_pred = cross_val_predict(clf.best_estimator_,X_test,y_test)\n",
    "y_pred"
   ]
  },
  {
   "cell_type": "code",
   "execution_count": 220,
   "metadata": {
    "ExecuteTime": {
     "end_time": "2023-06-27T06:32:11.521161300Z",
     "start_time": "2023-06-27T06:32:11.498008600Z"
    }
   },
   "outputs": [
    {
     "data": {
      "text/plain": "array([0, 0, 0, ..., 0, 0, 0], dtype=int64)"
     },
     "execution_count": 220,
     "metadata": {},
     "output_type": "execute_result"
    }
   ],
   "source": [
    "y_pred_clf = clf.best_estimator_.predict(X_test)\n",
    "y_pred_clf"
   ]
  },
  {
   "cell_type": "code",
   "execution_count": 221,
   "metadata": {
    "ExecuteTime": {
     "end_time": "2023-06-27T06:32:11.523161700Z",
     "start_time": "2023-06-27T06:32:11.508521600Z"
    }
   },
   "outputs": [
    {
     "name": "stdout",
     "output_type": "stream",
     "text": [
      "precision =  0.4049904030710173\n",
      "recall_score =  0.5\n",
      "f1_score 0.447507953340403\n"
     ]
    },
    {
     "name": "stderr",
     "output_type": "stream",
     "text": [
      "C:\\Users\\patcharaprapa_k\\AppData\\Local\\anaconda3\\lib\\site-packages\\sklearn\\metrics\\_classification.py:1344: UndefinedMetricWarning: Precision is ill-defined and being set to 0.0 in labels with no predicted samples. Use `zero_division` parameter to control this behavior.\n",
      "  _warn_prf(average, modifier, msg_start, len(result))\n"
     ]
    }
   ],
   "source": [
    "from sklearn.metrics import precision_score, recall_score, f1_score\n",
    "print('precision = ', precision_score(y_test,y_pred_clf ,average='macro'))\n",
    "print('recall_score = ', recall_score(y_test,y_pred_clf ,average='macro'))\n",
    "print('f1_score',f1_score(y_test,y_pred_clf ,average='macro'))"
   ]
  },
  {
   "cell_type": "code",
   "execution_count": 222,
   "metadata": {
    "ExecuteTime": {
     "end_time": "2023-06-27T06:32:16.155142800Z",
     "start_time": "2023-06-27T06:32:11.528159500Z"
    }
   },
   "outputs": [
    {
     "data": {
      "text/plain": "GridSearchCV(cv=3, estimator=GradientBoostingClassifier(),\n             param_grid={'learning_rate': [0.01, 0.1, 1], 'max_depth': [2],\n                         'n_estimators': [12, 14, 16], 'random_state': [2],\n                         'subsample': [0.7]},\n             scoring='f1_macro')",
      "text/html": "<style>#sk-container-id-10 {color: black;background-color: white;}#sk-container-id-10 pre{padding: 0;}#sk-container-id-10 div.sk-toggleable {background-color: white;}#sk-container-id-10 label.sk-toggleable__label {cursor: pointer;display: block;width: 100%;margin-bottom: 0;padding: 0.3em;box-sizing: border-box;text-align: center;}#sk-container-id-10 label.sk-toggleable__label-arrow:before {content: \"▸\";float: left;margin-right: 0.25em;color: #696969;}#sk-container-id-10 label.sk-toggleable__label-arrow:hover:before {color: black;}#sk-container-id-10 div.sk-estimator:hover label.sk-toggleable__label-arrow:before {color: black;}#sk-container-id-10 div.sk-toggleable__content {max-height: 0;max-width: 0;overflow: hidden;text-align: left;background-color: #f0f8ff;}#sk-container-id-10 div.sk-toggleable__content pre {margin: 0.2em;color: black;border-radius: 0.25em;background-color: #f0f8ff;}#sk-container-id-10 input.sk-toggleable__control:checked~div.sk-toggleable__content {max-height: 200px;max-width: 100%;overflow: auto;}#sk-container-id-10 input.sk-toggleable__control:checked~label.sk-toggleable__label-arrow:before {content: \"▾\";}#sk-container-id-10 div.sk-estimator input.sk-toggleable__control:checked~label.sk-toggleable__label {background-color: #d4ebff;}#sk-container-id-10 div.sk-label input.sk-toggleable__control:checked~label.sk-toggleable__label {background-color: #d4ebff;}#sk-container-id-10 input.sk-hidden--visually {border: 0;clip: rect(1px 1px 1px 1px);clip: rect(1px, 1px, 1px, 1px);height: 1px;margin: -1px;overflow: hidden;padding: 0;position: absolute;width: 1px;}#sk-container-id-10 div.sk-estimator {font-family: monospace;background-color: #f0f8ff;border: 1px dotted black;border-radius: 0.25em;box-sizing: border-box;margin-bottom: 0.5em;}#sk-container-id-10 div.sk-estimator:hover {background-color: #d4ebff;}#sk-container-id-10 div.sk-parallel-item::after {content: \"\";width: 100%;border-bottom: 1px solid gray;flex-grow: 1;}#sk-container-id-10 div.sk-label:hover label.sk-toggleable__label {background-color: #d4ebff;}#sk-container-id-10 div.sk-serial::before {content: \"\";position: absolute;border-left: 1px solid gray;box-sizing: border-box;top: 0;bottom: 0;left: 50%;z-index: 0;}#sk-container-id-10 div.sk-serial {display: flex;flex-direction: column;align-items: center;background-color: white;padding-right: 0.2em;padding-left: 0.2em;position: relative;}#sk-container-id-10 div.sk-item {position: relative;z-index: 1;}#sk-container-id-10 div.sk-parallel {display: flex;align-items: stretch;justify-content: center;background-color: white;position: relative;}#sk-container-id-10 div.sk-item::before, #sk-container-id-10 div.sk-parallel-item::before {content: \"\";position: absolute;border-left: 1px solid gray;box-sizing: border-box;top: 0;bottom: 0;left: 50%;z-index: -1;}#sk-container-id-10 div.sk-parallel-item {display: flex;flex-direction: column;z-index: 1;position: relative;background-color: white;}#sk-container-id-10 div.sk-parallel-item:first-child::after {align-self: flex-end;width: 50%;}#sk-container-id-10 div.sk-parallel-item:last-child::after {align-self: flex-start;width: 50%;}#sk-container-id-10 div.sk-parallel-item:only-child::after {width: 0;}#sk-container-id-10 div.sk-dashed-wrapped {border: 1px dashed gray;margin: 0 0.4em 0.5em 0.4em;box-sizing: border-box;padding-bottom: 0.4em;background-color: white;}#sk-container-id-10 div.sk-label label {font-family: monospace;font-weight: bold;display: inline-block;line-height: 1.2em;}#sk-container-id-10 div.sk-label-container {text-align: center;}#sk-container-id-10 div.sk-container {/* jupyter's `normalize.less` sets `[hidden] { display: none; }` but bootstrap.min.css set `[hidden] { display: none !important; }` so we also need the `!important` here to be able to override the default hidden behavior on the sphinx rendered scikit-learn.org. See: https://github.com/scikit-learn/scikit-learn/issues/21755 */display: inline-block !important;position: relative;}#sk-container-id-10 div.sk-text-repr-fallback {display: none;}</style><div id=\"sk-container-id-10\" class=\"sk-top-container\"><div class=\"sk-text-repr-fallback\"><pre>GridSearchCV(cv=3, estimator=GradientBoostingClassifier(),\n             param_grid={&#x27;learning_rate&#x27;: [0.01, 0.1, 1], &#x27;max_depth&#x27;: [2],\n                         &#x27;n_estimators&#x27;: [12, 14, 16], &#x27;random_state&#x27;: [2],\n                         &#x27;subsample&#x27;: [0.7]},\n             scoring=&#x27;f1_macro&#x27;)</pre><b>In a Jupyter environment, please rerun this cell to show the HTML representation or trust the notebook. <br />On GitHub, the HTML representation is unable to render, please try loading this page with nbviewer.org.</b></div><div class=\"sk-container\" hidden><div class=\"sk-item sk-dashed-wrapped\"><div class=\"sk-label-container\"><div class=\"sk-label sk-toggleable\"><input class=\"sk-toggleable__control sk-hidden--visually\" id=\"sk-estimator-id-28\" type=\"checkbox\" ><label for=\"sk-estimator-id-28\" class=\"sk-toggleable__label sk-toggleable__label-arrow\">GridSearchCV</label><div class=\"sk-toggleable__content\"><pre>GridSearchCV(cv=3, estimator=GradientBoostingClassifier(),\n             param_grid={&#x27;learning_rate&#x27;: [0.01, 0.1, 1], &#x27;max_depth&#x27;: [2],\n                         &#x27;n_estimators&#x27;: [12, 14, 16], &#x27;random_state&#x27;: [2],\n                         &#x27;subsample&#x27;: [0.7]},\n             scoring=&#x27;f1_macro&#x27;)</pre></div></div></div><div class=\"sk-parallel\"><div class=\"sk-parallel-item\"><div class=\"sk-item\"><div class=\"sk-label-container\"><div class=\"sk-label sk-toggleable\"><input class=\"sk-toggleable__control sk-hidden--visually\" id=\"sk-estimator-id-29\" type=\"checkbox\" ><label for=\"sk-estimator-id-29\" class=\"sk-toggleable__label sk-toggleable__label-arrow\">estimator: GradientBoostingClassifier</label><div class=\"sk-toggleable__content\"><pre>GradientBoostingClassifier()</pre></div></div></div><div class=\"sk-serial\"><div class=\"sk-item\"><div class=\"sk-estimator sk-toggleable\"><input class=\"sk-toggleable__control sk-hidden--visually\" id=\"sk-estimator-id-30\" type=\"checkbox\" ><label for=\"sk-estimator-id-30\" class=\"sk-toggleable__label sk-toggleable__label-arrow\">GradientBoostingClassifier</label><div class=\"sk-toggleable__content\"><pre>GradientBoostingClassifier()</pre></div></div></div></div></div></div></div></div></div></div>"
     },
     "execution_count": 222,
     "metadata": {},
     "output_type": "execute_result"
    }
   ],
   "source": [
    "from sklearn.model_selection import GridSearchCV\n",
    "\n",
    "parameters = {\n",
    "\n",
    "    'learning_rate': [0.01 , 0.1 ,1],\n",
    "    'n_estimators': [12,14,16],\n",
    "    'subsample' : [0.7],\n",
    "    'max_depth' : [2] ,\n",
    "    'random_state':[2]\n",
    "\n",
    "}\n",
    "GradientBoosting = GradientBoostingClassifier()\n",
    "clf = GridSearchCV(GradientBoosting, parameters , cv=3 , scoring='f1_macro')\n",
    "clf.fit(X_train,y_train)"
   ]
  },
  {
   "cell_type": "code",
   "execution_count": 223,
   "metadata": {
    "ExecuteTime": {
     "end_time": "2023-06-27T06:32:16.171294600Z",
     "start_time": "2023-06-27T06:32:16.157144200Z"
    }
   },
   "outputs": [],
   "source": [
    "import itertools"
   ]
  },
  {
   "cell_type": "code",
   "execution_count": 224,
   "metadata": {
    "ExecuteTime": {
     "end_time": "2023-06-27T06:32:16.194491800Z",
     "start_time": "2023-06-27T06:32:16.173492400Z"
    }
   },
   "outputs": [],
   "source": [
    "# result = itertools.combinations(X ,2)\n",
    "#\n",
    "# for item in result:\n",
    "#     df  = pd.DataFrame(item)\n",
    "#     X[list (item)]\n",
    "#     parameters = {\n",
    "#     'learning_rate': [0.01 , 0.1 ,1],\n",
    "#     'n_estimators': [12,14,16],\n",
    "#     'subsample' : [0.7],\n",
    "#     'max_depth' : [2] ,\n",
    "#     'random_state':[2]\n",
    "#     }\n",
    "#     GradientBoosting = GradientBoostingClassifier()\n",
    "#     clf = GridSearchCV(GradientBoosting , parameters , cv=3 , scoring='f1_macro')\n",
    "#     clf.fit(X_train[list (item)],y_train)\n",
    "#     clf.predict(X_test[list (item)])\n",
    "    #print('predict=',clf.predict(X_test[list (item)]))\n",
    "    #print(X_test)\n",
    "    #print(\"y_train = \",y_train)\n",
    "    # print(item)\n",
    "    # print(\"precision_score =\",precision_score(clf.predict(X[list(item)]),y))\n",
    "    #print(\"recall_score =\", recall_score(clf.predict(X[list(item)]),y))\n",
    "    #print(\"f_1=\",f1_score(clf.predict(X[list(item)]),y,average='macro'))\n",
    "    #print(\"f_1_X-test=\",f1_score(clf.predict(X_test[list(item)]),y_test,average='macro'))"
   ]
  },
  {
   "cell_type": "code",
   "execution_count": 225,
   "metadata": {
    "ExecuteTime": {
     "end_time": "2023-06-27T06:32:16.203063900Z",
     "start_time": "2023-06-27T06:32:16.188491600Z"
    }
   },
   "outputs": [],
   "source": [
    "import numpy as np\n",
    "import matplotlib.pyplot as plt\n",
    "from sklearn.linear_model import LinearRegression"
   ]
  },
  {
   "cell_type": "code",
   "execution_count": 226,
   "outputs": [
    {
     "ename": "ValueError",
     "evalue": "x and y must be the same size",
     "output_type": "error",
     "traceback": [
      "\u001B[1;31m---------------------------------------------------------------------------\u001B[0m",
      "\u001B[1;31mValueError\u001B[0m                                Traceback (most recent call last)",
      "Cell \u001B[1;32mIn[226], line 1\u001B[0m\n\u001B[1;32m----> 1\u001B[0m \u001B[43mplt\u001B[49m\u001B[38;5;241;43m.\u001B[39;49m\u001B[43mscatter\u001B[49m\u001B[43m(\u001B[49m\u001B[43mX\u001B[49m\u001B[43m \u001B[49m\u001B[43m,\u001B[49m\u001B[43m \u001B[49m\u001B[43my\u001B[49m\u001B[43m)\u001B[49m\n",
      "File \u001B[1;32m~\\AppData\\Local\\anaconda3\\lib\\site-packages\\matplotlib\\pyplot.py:2835\u001B[0m, in \u001B[0;36mscatter\u001B[1;34m(x, y, s, c, marker, cmap, norm, vmin, vmax, alpha, linewidths, edgecolors, plotnonfinite, data, **kwargs)\u001B[0m\n\u001B[0;32m   2830\u001B[0m \u001B[38;5;129m@_copy_docstring_and_deprecators\u001B[39m(Axes\u001B[38;5;241m.\u001B[39mscatter)\n\u001B[0;32m   2831\u001B[0m \u001B[38;5;28;01mdef\u001B[39;00m \u001B[38;5;21mscatter\u001B[39m(\n\u001B[0;32m   2832\u001B[0m         x, y, s\u001B[38;5;241m=\u001B[39m\u001B[38;5;28;01mNone\u001B[39;00m, c\u001B[38;5;241m=\u001B[39m\u001B[38;5;28;01mNone\u001B[39;00m, marker\u001B[38;5;241m=\u001B[39m\u001B[38;5;28;01mNone\u001B[39;00m, cmap\u001B[38;5;241m=\u001B[39m\u001B[38;5;28;01mNone\u001B[39;00m, norm\u001B[38;5;241m=\u001B[39m\u001B[38;5;28;01mNone\u001B[39;00m,\n\u001B[0;32m   2833\u001B[0m         vmin\u001B[38;5;241m=\u001B[39m\u001B[38;5;28;01mNone\u001B[39;00m, vmax\u001B[38;5;241m=\u001B[39m\u001B[38;5;28;01mNone\u001B[39;00m, alpha\u001B[38;5;241m=\u001B[39m\u001B[38;5;28;01mNone\u001B[39;00m, linewidths\u001B[38;5;241m=\u001B[39m\u001B[38;5;28;01mNone\u001B[39;00m, \u001B[38;5;241m*\u001B[39m,\n\u001B[0;32m   2834\u001B[0m         edgecolors\u001B[38;5;241m=\u001B[39m\u001B[38;5;28;01mNone\u001B[39;00m, plotnonfinite\u001B[38;5;241m=\u001B[39m\u001B[38;5;28;01mFalse\u001B[39;00m, data\u001B[38;5;241m=\u001B[39m\u001B[38;5;28;01mNone\u001B[39;00m, \u001B[38;5;241m*\u001B[39m\u001B[38;5;241m*\u001B[39mkwargs):\n\u001B[1;32m-> 2835\u001B[0m     __ret \u001B[38;5;241m=\u001B[39m gca()\u001B[38;5;241m.\u001B[39mscatter(\n\u001B[0;32m   2836\u001B[0m         x, y, s\u001B[38;5;241m=\u001B[39ms, c\u001B[38;5;241m=\u001B[39mc, marker\u001B[38;5;241m=\u001B[39mmarker, cmap\u001B[38;5;241m=\u001B[39mcmap, norm\u001B[38;5;241m=\u001B[39mnorm,\n\u001B[0;32m   2837\u001B[0m         vmin\u001B[38;5;241m=\u001B[39mvmin, vmax\u001B[38;5;241m=\u001B[39mvmax, alpha\u001B[38;5;241m=\u001B[39malpha, linewidths\u001B[38;5;241m=\u001B[39mlinewidths,\n\u001B[0;32m   2838\u001B[0m         edgecolors\u001B[38;5;241m=\u001B[39medgecolors, plotnonfinite\u001B[38;5;241m=\u001B[39mplotnonfinite,\n\u001B[0;32m   2839\u001B[0m         \u001B[38;5;241m*\u001B[39m\u001B[38;5;241m*\u001B[39m({\u001B[38;5;124m\"\u001B[39m\u001B[38;5;124mdata\u001B[39m\u001B[38;5;124m\"\u001B[39m: data} \u001B[38;5;28;01mif\u001B[39;00m data \u001B[38;5;129;01mis\u001B[39;00m \u001B[38;5;129;01mnot\u001B[39;00m \u001B[38;5;28;01mNone\u001B[39;00m \u001B[38;5;28;01melse\u001B[39;00m {}), \u001B[38;5;241m*\u001B[39m\u001B[38;5;241m*\u001B[39mkwargs)\n\u001B[0;32m   2840\u001B[0m     sci(__ret)\n\u001B[0;32m   2841\u001B[0m     \u001B[38;5;28;01mreturn\u001B[39;00m __ret\n",
      "File \u001B[1;32m~\\AppData\\Local\\anaconda3\\lib\\site-packages\\matplotlib\\__init__.py:1442\u001B[0m, in \u001B[0;36m_preprocess_data.<locals>.inner\u001B[1;34m(ax, data, *args, **kwargs)\u001B[0m\n\u001B[0;32m   1439\u001B[0m \u001B[38;5;129m@functools\u001B[39m\u001B[38;5;241m.\u001B[39mwraps(func)\n\u001B[0;32m   1440\u001B[0m \u001B[38;5;28;01mdef\u001B[39;00m \u001B[38;5;21minner\u001B[39m(ax, \u001B[38;5;241m*\u001B[39margs, data\u001B[38;5;241m=\u001B[39m\u001B[38;5;28;01mNone\u001B[39;00m, \u001B[38;5;241m*\u001B[39m\u001B[38;5;241m*\u001B[39mkwargs):\n\u001B[0;32m   1441\u001B[0m     \u001B[38;5;28;01mif\u001B[39;00m data \u001B[38;5;129;01mis\u001B[39;00m \u001B[38;5;28;01mNone\u001B[39;00m:\n\u001B[1;32m-> 1442\u001B[0m         \u001B[38;5;28;01mreturn\u001B[39;00m func(ax, \u001B[38;5;241m*\u001B[39m\u001B[38;5;28mmap\u001B[39m(sanitize_sequence, args), \u001B[38;5;241m*\u001B[39m\u001B[38;5;241m*\u001B[39mkwargs)\n\u001B[0;32m   1444\u001B[0m     bound \u001B[38;5;241m=\u001B[39m new_sig\u001B[38;5;241m.\u001B[39mbind(ax, \u001B[38;5;241m*\u001B[39margs, \u001B[38;5;241m*\u001B[39m\u001B[38;5;241m*\u001B[39mkwargs)\n\u001B[0;32m   1445\u001B[0m     auto_label \u001B[38;5;241m=\u001B[39m (bound\u001B[38;5;241m.\u001B[39marguments\u001B[38;5;241m.\u001B[39mget(label_namer)\n\u001B[0;32m   1446\u001B[0m                   \u001B[38;5;129;01mor\u001B[39;00m bound\u001B[38;5;241m.\u001B[39mkwargs\u001B[38;5;241m.\u001B[39mget(label_namer))\n",
      "File \u001B[1;32m~\\AppData\\Local\\anaconda3\\lib\\site-packages\\matplotlib\\axes\\_axes.py:4584\u001B[0m, in \u001B[0;36mAxes.scatter\u001B[1;34m(self, x, y, s, c, marker, cmap, norm, vmin, vmax, alpha, linewidths, edgecolors, plotnonfinite, **kwargs)\u001B[0m\n\u001B[0;32m   4582\u001B[0m y \u001B[38;5;241m=\u001B[39m np\u001B[38;5;241m.\u001B[39mma\u001B[38;5;241m.\u001B[39mravel(y)\n\u001B[0;32m   4583\u001B[0m \u001B[38;5;28;01mif\u001B[39;00m x\u001B[38;5;241m.\u001B[39msize \u001B[38;5;241m!=\u001B[39m y\u001B[38;5;241m.\u001B[39msize:\n\u001B[1;32m-> 4584\u001B[0m     \u001B[38;5;28;01mraise\u001B[39;00m \u001B[38;5;167;01mValueError\u001B[39;00m(\u001B[38;5;124m\"\u001B[39m\u001B[38;5;124mx and y must be the same size\u001B[39m\u001B[38;5;124m\"\u001B[39m)\n\u001B[0;32m   4586\u001B[0m \u001B[38;5;28;01mif\u001B[39;00m s \u001B[38;5;129;01mis\u001B[39;00m \u001B[38;5;28;01mNone\u001B[39;00m:\n\u001B[0;32m   4587\u001B[0m     s \u001B[38;5;241m=\u001B[39m (\u001B[38;5;241m20\u001B[39m \u001B[38;5;28;01mif\u001B[39;00m mpl\u001B[38;5;241m.\u001B[39mrcParams[\u001B[38;5;124m'\u001B[39m\u001B[38;5;124m_internal.classic_mode\u001B[39m\u001B[38;5;124m'\u001B[39m] \u001B[38;5;28;01melse\u001B[39;00m\n\u001B[0;32m   4588\u001B[0m          mpl\u001B[38;5;241m.\u001B[39mrcParams[\u001B[38;5;124m'\u001B[39m\u001B[38;5;124mlines.markersize\u001B[39m\u001B[38;5;124m'\u001B[39m] \u001B[38;5;241m*\u001B[39m\u001B[38;5;241m*\u001B[39m \u001B[38;5;241m2.0\u001B[39m)\n",
      "\u001B[1;31mValueError\u001B[0m: x and y must be the same size"
     ]
    },
    {
     "data": {
      "text/plain": "<Figure size 640x480 with 1 Axes>",
      "image/png": "[encoded data removed]"
     },
     "metadata": {},
     "output_type": "display_data"
    }
   ],
   "source": [
    "plt.scatter(X , y)"
   ],
   "metadata": {
    "collapsed": false,
    "ExecuteTime": {
     "end_time": "2023-06-27T06:32:16.404287Z",
     "start_time": "2023-06-27T06:32:16.205064Z"
    }
   }
  },
  {
   "cell_type": "code",
   "execution_count": 227,
   "outputs": [
    {
     "data": {
      "text/plain": "[<matplotlib.lines.Line2D at 0x13622d9c7c0>,\n <matplotlib.lines.Line2D at 0x1361c0827d0>,\n <matplotlib.lines.Line2D at 0x1361c0826e0>,\n <matplotlib.lines.Line2D at 0x13626d88c10>,\n <matplotlib.lines.Line2D at 0x13626d889d0>,\n <matplotlib.lines.Line2D at 0x13626de1e10>,\n <matplotlib.lines.Line2D at 0x13626de1c30>,\n <matplotlib.lines.Line2D at 0x1361c09fa00>,\n <matplotlib.lines.Line2D at 0x13626e546d0>,\n <matplotlib.lines.Line2D at 0x13626e547c0>,\n <matplotlib.lines.Line2D at 0x13613aea530>,\n <matplotlib.lines.Line2D at 0x13626e548b0>,\n <matplotlib.lines.Line2D at 0x13626e549a0>,\n <matplotlib.lines.Line2D at 0x13626e54b50>,\n <matplotlib.lines.Line2D at 0x13626e54c40>,\n <matplotlib.lines.Line2D at 0x13626e54d30>,\n <matplotlib.lines.Line2D at 0x13626e54e20>,\n <matplotlib.lines.Line2D at 0x13626e54f10>,\n <matplotlib.lines.Line2D at 0x13626e55000>,\n <matplotlib.lines.Line2D at 0x13626e550f0>,\n <matplotlib.lines.Line2D at 0x13626e551e0>,\n <matplotlib.lines.Line2D at 0x13626e552d0>,\n <matplotlib.lines.Line2D at 0x13626e553c0>,\n <matplotlib.lines.Line2D at 0x13626e554b0>,\n <matplotlib.lines.Line2D at 0x13626e555a0>,\n <matplotlib.lines.Line2D at 0x13626e55690>,\n <matplotlib.lines.Line2D at 0x13626e55780>,\n <matplotlib.lines.Line2D at 0x13626e55870>,\n <matplotlib.lines.Line2D at 0x13626e55960>,\n <matplotlib.lines.Line2D at 0x13626e55a50>,\n <matplotlib.lines.Line2D at 0x13626e55b40>,\n <matplotlib.lines.Line2D at 0x13626e55c30>,\n <matplotlib.lines.Line2D at 0x13626e55d20>,\n <matplotlib.lines.Line2D at 0x13626e55e10>,\n <matplotlib.lines.Line2D at 0x13626e55f00>,\n <matplotlib.lines.Line2D at 0x13626e55ff0>,\n <matplotlib.lines.Line2D at 0x13626e560e0>,\n <matplotlib.lines.Line2D at 0x13626e561d0>,\n <matplotlib.lines.Line2D at 0x13626e562c0>,\n <matplotlib.lines.Line2D at 0x13626e563b0>,\n <matplotlib.lines.Line2D at 0x13626e564a0>,\n <matplotlib.lines.Line2D at 0x13626e56590>,\n <matplotlib.lines.Line2D at 0x13626e56680>,\n <matplotlib.lines.Line2D at 0x13626e56770>,\n <matplotlib.lines.Line2D at 0x13626e56860>,\n <matplotlib.lines.Line2D at 0x13626e56950>,\n <matplotlib.lines.Line2D at 0x13626e56a40>,\n <matplotlib.lines.Line2D at 0x13626e56b30>,\n <matplotlib.lines.Line2D at 0x13626e56c20>,\n <matplotlib.lines.Line2D at 0x13626e56d10>,\n <matplotlib.lines.Line2D at 0x13626e56e00>,\n <matplotlib.lines.Line2D at 0x13626e56ef0>,\n <matplotlib.lines.Line2D at 0x13626e56fe0>,\n <matplotlib.lines.Line2D at 0x13626e570d0>,\n <matplotlib.lines.Line2D at 0x13626e571c0>,\n <matplotlib.lines.Line2D at 0x13626e572b0>,\n <matplotlib.lines.Line2D at 0x13626e573a0>,\n <matplotlib.lines.Line2D at 0x13626e57490>,\n <matplotlib.lines.Line2D at 0x13626e57580>,\n <matplotlib.lines.Line2D at 0x13626e57670>,\n <matplotlib.lines.Line2D at 0x13626e57760>,\n <matplotlib.lines.Line2D at 0x13626e57850>,\n <matplotlib.lines.Line2D at 0x13626e57940>,\n <matplotlib.lines.Line2D at 0x13626e57a30>,\n <matplotlib.lines.Line2D at 0x13626e57b20>,\n <matplotlib.lines.Line2D at 0x13626e57c10>,\n <matplotlib.lines.Line2D at 0x13626e57d00>,\n <matplotlib.lines.Line2D at 0x13626e57df0>,\n <matplotlib.lines.Line2D at 0x13626e57ee0>,\n <matplotlib.lines.Line2D at 0x13626e57fd0>,\n <matplotlib.lines.Line2D at 0x13626e4c100>,\n <matplotlib.lines.Line2D at 0x13626e4c1f0>,\n <matplotlib.lines.Line2D at 0x13626e4c2e0>,\n <matplotlib.lines.Line2D at 0x13626e4c3d0>,\n <matplotlib.lines.Line2D at 0x13626e4c4c0>,\n <matplotlib.lines.Line2D at 0x13626e4c5b0>,\n <matplotlib.lines.Line2D at 0x13626e4c6a0>,\n <matplotlib.lines.Line2D at 0x13626e4c790>,\n <matplotlib.lines.Line2D at 0x13626e4c880>,\n <matplotlib.lines.Line2D at 0x13626e4c970>,\n <matplotlib.lines.Line2D at 0x13626e4ca60>,\n <matplotlib.lines.Line2D at 0x13626e4cb50>,\n <matplotlib.lines.Line2D at 0x13626e4cc40>,\n <matplotlib.lines.Line2D at 0x13626e4cd30>,\n <matplotlib.lines.Line2D at 0x13626e4ce20>,\n <matplotlib.lines.Line2D at 0x13626e4cf10>,\n <matplotlib.lines.Line2D at 0x13626e4d000>,\n <matplotlib.lines.Line2D at 0x13626e4d0f0>,\n <matplotlib.lines.Line2D at 0x13626e4d1e0>,\n <matplotlib.lines.Line2D at 0x13626e4d2d0>,\n <matplotlib.lines.Line2D at 0x13626e4d3c0>,\n <matplotlib.lines.Line2D at 0x13626e4d4b0>,\n <matplotlib.lines.Line2D at 0x13626e4d5a0>,\n <matplotlib.lines.Line2D at 0x13626e4d690>,\n <matplotlib.lines.Line2D at 0x13626e4d780>,\n <matplotlib.lines.Line2D at 0x13626e4d870>,\n <matplotlib.lines.Line2D at 0x13626e4d960>,\n <matplotlib.lines.Line2D at 0x13626e4da50>,\n <matplotlib.lines.Line2D at 0x13626e4db40>,\n <matplotlib.lines.Line2D at 0x13626e4dc30>,\n <matplotlib.lines.Line2D at 0x13626e4dd20>,\n <matplotlib.lines.Line2D at 0x13626e4de10>,\n <matplotlib.lines.Line2D at 0x13626e4df00>,\n <matplotlib.lines.Line2D at 0x13626e4dff0>,\n <matplotlib.lines.Line2D at 0x13626e4e0e0>,\n <matplotlib.lines.Line2D at 0x13626e4e1d0>,\n <matplotlib.lines.Line2D at 0x13626e4e2c0>,\n <matplotlib.lines.Line2D at 0x13626e4e3b0>,\n <matplotlib.lines.Line2D at 0x13626e4e4a0>,\n <matplotlib.lines.Line2D at 0x13626e4e590>,\n <matplotlib.lines.Line2D at 0x13626e4e680>,\n <matplotlib.lines.Line2D at 0x13626e4e770>,\n <matplotlib.lines.Line2D at 0x13626e4e860>,\n <matplotlib.lines.Line2D at 0x13626e4e950>,\n <matplotlib.lines.Line2D at 0x13626e4ea40>,\n <matplotlib.lines.Line2D at 0x13626e4eb30>,\n <matplotlib.lines.Line2D at 0x13626e4ec20>,\n <matplotlib.lines.Line2D at 0x13626e4ed10>,\n <matplotlib.lines.Line2D at 0x13626e4ee00>,\n <matplotlib.lines.Line2D at 0x13626e4eef0>,\n <matplotlib.lines.Line2D at 0x13626e4efe0>,\n <matplotlib.lines.Line2D at 0x13626e4f0d0>,\n <matplotlib.lines.Line2D at 0x13626e4f1c0>,\n <matplotlib.lines.Line2D at 0x13626e4f2b0>,\n <matplotlib.lines.Line2D at 0x13626e4f3a0>,\n <matplotlib.lines.Line2D at 0x13626e4f490>,\n <matplotlib.lines.Line2D at 0x13626e4f580>,\n <matplotlib.lines.Line2D at 0x13626e4f670>,\n <matplotlib.lines.Line2D at 0x13626e4f760>,\n <matplotlib.lines.Line2D at 0x13626e4f850>,\n <matplotlib.lines.Line2D at 0x13626e4f940>,\n <matplotlib.lines.Line2D at 0x13626e4fa30>,\n <matplotlib.lines.Line2D at 0x13626e4fb20>,\n <matplotlib.lines.Line2D at 0x13626e4fc10>,\n <matplotlib.lines.Line2D at 0x13626e4fd00>,\n <matplotlib.lines.Line2D at 0x13626e4fdf0>,\n <matplotlib.lines.Line2D at 0x13626e4fee0>,\n <matplotlib.lines.Line2D at 0x13626e4ffd0>,\n <matplotlib.lines.Line2D at 0x13626ecc100>,\n <matplotlib.lines.Line2D at 0x13626ecc1f0>,\n <matplotlib.lines.Line2D at 0x13626ecc2e0>,\n <matplotlib.lines.Line2D at 0x13626ecc3d0>,\n <matplotlib.lines.Line2D at 0x13626ecc4c0>,\n <matplotlib.lines.Line2D at 0x13626ecc5b0>,\n <matplotlib.lines.Line2D at 0x13626ecc6a0>,\n <matplotlib.lines.Line2D at 0x13626ecc790>,\n <matplotlib.lines.Line2D at 0x13626ecc880>,\n <matplotlib.lines.Line2D at 0x13626ecc970>,\n <matplotlib.lines.Line2D at 0x13626ecca60>,\n <matplotlib.lines.Line2D at 0x13626eccb50>,\n <matplotlib.lines.Line2D at 0x13626eccc40>,\n <matplotlib.lines.Line2D at 0x13626eccd30>,\n <matplotlib.lines.Line2D at 0x13626ecce20>,\n <matplotlib.lines.Line2D at 0x13626eccf10>,\n <matplotlib.lines.Line2D at 0x13626ecd000>,\n <matplotlib.lines.Line2D at 0x13626ecd0f0>,\n <matplotlib.lines.Line2D at 0x13626ecd1e0>,\n <matplotlib.lines.Line2D at 0x13626ecd2d0>,\n <matplotlib.lines.Line2D at 0x13626ecd3c0>,\n <matplotlib.lines.Line2D at 0x13626ecd4b0>,\n <matplotlib.lines.Line2D at 0x13626ecd5a0>,\n <matplotlib.lines.Line2D at 0x13626ecd690>,\n <matplotlib.lines.Line2D at 0x13626ecd780>,\n <matplotlib.lines.Line2D at 0x13626ecd870>,\n <matplotlib.lines.Line2D at 0x13626ecd960>,\n <matplotlib.lines.Line2D at 0x13626ecda50>,\n <matplotlib.lines.Line2D at 0x13626ecdb40>,\n <matplotlib.lines.Line2D at 0x13626ecdc30>,\n <matplotlib.lines.Line2D at 0x13626ecdd20>,\n <matplotlib.lines.Line2D at 0x13626ecde10>,\n <matplotlib.lines.Line2D at 0x13626ecdf00>,\n <matplotlib.lines.Line2D at 0x13626ecdff0>,\n <matplotlib.lines.Line2D at 0x13626ece0e0>,\n <matplotlib.lines.Line2D at 0x13626ece1d0>,\n <matplotlib.lines.Line2D at 0x13626ece2c0>,\n <matplotlib.lines.Line2D at 0x13626ece3b0>,\n <matplotlib.lines.Line2D at 0x13626ece4a0>,\n <matplotlib.lines.Line2D at 0x13626ece590>,\n <matplotlib.lines.Line2D at 0x13626ece680>,\n <matplotlib.lines.Line2D at 0x13626ece770>,\n <matplotlib.lines.Line2D at 0x13626ece860>,\n <matplotlib.lines.Line2D at 0x13626ece950>,\n <matplotlib.lines.Line2D at 0x13626ecea40>,\n <matplotlib.lines.Line2D at 0x13626eceb30>,\n <matplotlib.lines.Line2D at 0x13626ecec20>,\n <matplotlib.lines.Line2D at 0x13626eced10>,\n <matplotlib.lines.Line2D at 0x13626ecee00>,\n <matplotlib.lines.Line2D at 0x13626eceef0>,\n <matplotlib.lines.Line2D at 0x13626ecefe0>,\n <matplotlib.lines.Line2D at 0x13626ecf0d0>,\n <matplotlib.lines.Line2D at 0x13626ecf1c0>,\n <matplotlib.lines.Line2D at 0x13626ecf2b0>,\n <matplotlib.lines.Line2D at 0x13626ecf3a0>,\n <matplotlib.lines.Line2D at 0x13626ecf490>,\n <matplotlib.lines.Line2D at 0x13626ecf580>,\n <matplotlib.lines.Line2D at 0x13626ecf670>,\n <matplotlib.lines.Line2D at 0x13626ecf760>,\n <matplotlib.lines.Line2D at 0x13626ecf850>,\n <matplotlib.lines.Line2D at 0x13626ecf940>,\n <matplotlib.lines.Line2D at 0x13626ecfa30>,\n <matplotlib.lines.Line2D at 0x13626ecfb20>,\n <matplotlib.lines.Line2D at 0x13626ecfc10>,\n <matplotlib.lines.Line2D at 0x13626ecfd00>,\n <matplotlib.lines.Line2D at 0x13626ecfdf0>,\n <matplotlib.lines.Line2D at 0x13626ecfee0>,\n <matplotlib.lines.Line2D at 0x13626ecffd0>,\n <matplotlib.lines.Line2D at 0x13626eb8100>,\n <matplotlib.lines.Line2D at 0x13626eb81f0>,\n <matplotlib.lines.Line2D at 0x13626eb82e0>,\n <matplotlib.lines.Line2D at 0x13626eb83d0>,\n <matplotlib.lines.Line2D at 0x13626eb84c0>,\n <matplotlib.lines.Line2D at 0x13626eb85b0>,\n <matplotlib.lines.Line2D at 0x13626eb86a0>,\n <matplotlib.lines.Line2D at 0x13626eb8790>,\n <matplotlib.lines.Line2D at 0x13626eb8880>,\n <matplotlib.lines.Line2D at 0x13626eb8970>,\n <matplotlib.lines.Line2D at 0x13626eb8a60>,\n <matplotlib.lines.Line2D at 0x13626eb8b50>,\n <matplotlib.lines.Line2D at 0x13626eb8c40>,\n <matplotlib.lines.Line2D at 0x13626eb8d30>,\n <matplotlib.lines.Line2D at 0x13626eb8e20>,\n <matplotlib.lines.Line2D at 0x13626eb8f10>,\n <matplotlib.lines.Line2D at 0x13626eb9000>,\n <matplotlib.lines.Line2D at 0x13626eb90f0>,\n <matplotlib.lines.Line2D at 0x13626eb91e0>,\n <matplotlib.lines.Line2D at 0x13626eb92d0>,\n <matplotlib.lines.Line2D at 0x13626eb93c0>,\n <matplotlib.lines.Line2D at 0x13626eb94b0>,\n <matplotlib.lines.Line2D at 0x13626eb95a0>,\n <matplotlib.lines.Line2D at 0x13626eb9690>,\n <matplotlib.lines.Line2D at 0x13626eb9780>,\n <matplotlib.lines.Line2D at 0x13626eb9870>,\n <matplotlib.lines.Line2D at 0x13626eb9960>,\n <matplotlib.lines.Line2D at 0x13626eb9a50>,\n <matplotlib.lines.Line2D at 0x13626eb9b40>,\n <matplotlib.lines.Line2D at 0x13626eb9c30>,\n <matplotlib.lines.Line2D at 0x13626eb9d20>,\n <matplotlib.lines.Line2D at 0x13626eb9e10>,\n <matplotlib.lines.Line2D at 0x13626eb9f00>,\n <matplotlib.lines.Line2D at 0x13626eb9ff0>,\n <matplotlib.lines.Line2D at 0x13626eba0e0>,\n <matplotlib.lines.Line2D at 0x13626eba1d0>,\n <matplotlib.lines.Line2D at 0x13626eba2c0>,\n <matplotlib.lines.Line2D at 0x13626eba3b0>,\n <matplotlib.lines.Line2D at 0x13626eba4a0>,\n <matplotlib.lines.Line2D at 0x13626eba590>,\n <matplotlib.lines.Line2D at 0x13626eba680>,\n <matplotlib.lines.Line2D at 0x13626eba770>,\n <matplotlib.lines.Line2D at 0x13626eba860>,\n <matplotlib.lines.Line2D at 0x13626eba950>,\n <matplotlib.lines.Line2D at 0x13626ebaa40>,\n <matplotlib.lines.Line2D at 0x13626ebab30>,\n <matplotlib.lines.Line2D at 0x13626ebac20>,\n <matplotlib.lines.Line2D at 0x13626ebad10>,\n <matplotlib.lines.Line2D at 0x13626ebae00>,\n <matplotlib.lines.Line2D at 0x13626ebaef0>,\n <matplotlib.lines.Line2D at 0x13626ebafe0>,\n <matplotlib.lines.Line2D at 0x13626ebb0d0>,\n <matplotlib.lines.Line2D at 0x13626ebb1c0>,\n <matplotlib.lines.Line2D at 0x13626ebb2b0>,\n <matplotlib.lines.Line2D at 0x13626ebb3a0>,\n <matplotlib.lines.Line2D at 0x13626ebb490>,\n <matplotlib.lines.Line2D at 0x13626ebb580>,\n <matplotlib.lines.Line2D at 0x13626ebb670>,\n <matplotlib.lines.Line2D at 0x13626ebb760>,\n <matplotlib.lines.Line2D at 0x13626ebb850>,\n <matplotlib.lines.Line2D at 0x13626ebb940>,\n <matplotlib.lines.Line2D at 0x13626ebba30>,\n <matplotlib.lines.Line2D at 0x13626ebbb20>,\n <matplotlib.lines.Line2D at 0x13626ebbc10>,\n <matplotlib.lines.Line2D at 0x13626ebbd00>,\n <matplotlib.lines.Line2D at 0x13626ebbdf0>,\n <matplotlib.lines.Line2D at 0x13626ebbee0>,\n <matplotlib.lines.Line2D at 0x13626ebbfd0>,\n <matplotlib.lines.Line2D at 0x13626e50100>,\n <matplotlib.lines.Line2D at 0x13626e501f0>,\n <matplotlib.lines.Line2D at 0x13626e502e0>,\n <matplotlib.lines.Line2D at 0x13626e503d0>,\n <matplotlib.lines.Line2D at 0x13626e504c0>,\n <matplotlib.lines.Line2D at 0x13626e505b0>,\n <matplotlib.lines.Line2D at 0x13626e506a0>,\n <matplotlib.lines.Line2D at 0x13626e50790>,\n <matplotlib.lines.Line2D at 0x13626e50880>,\n <matplotlib.lines.Line2D at 0x13626e50970>,\n <matplotlib.lines.Line2D at 0x13626e50a60>,\n <matplotlib.lines.Line2D at 0x13626e50b50>,\n <matplotlib.lines.Line2D at 0x13626e50c40>,\n <matplotlib.lines.Line2D at 0x13626e50d30>,\n <matplotlib.lines.Line2D at 0x13626e50e20>,\n <matplotlib.lines.Line2D at 0x13626e50f10>,\n <matplotlib.lines.Line2D at 0x13626e51000>,\n <matplotlib.lines.Line2D at 0x13626e510f0>,\n <matplotlib.lines.Line2D at 0x13626e511e0>,\n <matplotlib.lines.Line2D at 0x13626e512d0>,\n <matplotlib.lines.Line2D at 0x13626e513c0>,\n <matplotlib.lines.Line2D at 0x13626e514b0>,\n <matplotlib.lines.Line2D at 0x13626e515a0>,\n <matplotlib.lines.Line2D at 0x13626e51690>,\n <matplotlib.lines.Line2D at 0x13626e51780>,\n <matplotlib.lines.Line2D at 0x13626e51870>,\n <matplotlib.lines.Line2D at 0x13626e51960>,\n <matplotlib.lines.Line2D at 0x13626e51a50>,\n <matplotlib.lines.Line2D at 0x13626e51b40>,\n <matplotlib.lines.Line2D at 0x13626e51c30>,\n <matplotlib.lines.Line2D at 0x13626e51d20>,\n <matplotlib.lines.Line2D at 0x13626e51e10>,\n <matplotlib.lines.Line2D at 0x13626e51f00>,\n <matplotlib.lines.Line2D at 0x13626e51ff0>,\n <matplotlib.lines.Line2D at 0x13626e520e0>,\n <matplotlib.lines.Line2D at 0x13626e521d0>,\n <matplotlib.lines.Line2D at 0x13626e522c0>,\n <matplotlib.lines.Line2D at 0x13626e523b0>]"
     },
     "execution_count": 227,
     "metadata": {},
     "output_type": "execute_result"
    },
    {
     "data": {
      "text/plain": "<Figure size 640x480 with 1 Axes>",
      "image/png": "[encoded data removed]"
     },
     "metadata": {},
     "output_type": "display_data"
    }
   ],
   "source": [
    "plt.plot(X_test,y_test)"
   ],
   "metadata": {
    "collapsed": false,
    "ExecuteTime": {
     "end_time": "2023-06-27T06:53:59.570178200Z",
     "start_time": "2023-06-27T06:53:58.937319400Z"
    }
   }
  },
  {
   "cell_type": "code",
   "execution_count": 228,
   "outputs": [
    {
     "name": "stdout",
     "output_type": "stream",
     "text": [
      "NNLS R2 score -1.8052383630847597\n"
     ]
    }
   ],
   "source": [
    "from sklearn.linear_model import LinearRegression\n",
    "from sklearn.metrics import r2_score\n",
    "reg_nnls = LinearRegression(positive=True)\n",
    "y_pred_nnls = reg_nnls.fit(X_train, y_train).predict(X_test)\n",
    "r2_score_nnls = r2_score(y_test, y_pred_nnls)\n",
    "print(\"NNLS R2 score\", r2_score_nnls)"
   ],
   "metadata": {
    "collapsed": false,
    "ExecuteTime": {
     "end_time": "2023-06-27T06:54:03.379543300Z",
     "start_time": "2023-06-27T06:54:03.158056800Z"
    }
   }
  },
  {
   "cell_type": "code",
   "execution_count": null,
   "outputs": [],
   "source": [],
   "metadata": {
    "collapsed": false
   }
  }
 ],
 "metadata": {
  "kernelspec": {
   "display_name": "Python 3 (ipykernel)",
   "language": "python",
   "name": "python3"
  },
  "language_info": {
   "codemirror_mode": {
    "name": "ipython",
    "version": 3
   },
   "file_extension": ".py",
   "mimetype": "text/x-python",
   "name": "python",
   "nbconvert_exporter": "python",
   "pygments_lexer": "ipython3",
   "version": "3.10.9"
  }
 },
 "nbformat": 4,
 "nbformat_minor": 1
}
