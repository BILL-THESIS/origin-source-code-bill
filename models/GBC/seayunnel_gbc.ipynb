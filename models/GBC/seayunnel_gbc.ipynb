{
 "cells": [
  {
   "cell_type": "code",
   "execution_count": 196,
   "metadata": {
    "ExecuteTime": {
     "end_time": "2023-11-25T08:56:52.556581300Z",
     "start_time": "2023-11-25T08:56:52.422601700Z"
    }
   },
   "outputs": [],
   "source": [
    "import pandas as pd\n",
    "import numpy as np\n",
    "from pandas import Timedelta\n",
    "from datetime import timedelta\n",
    "from sklearn.datasets import load_wine\n",
    "from sklearn.ensemble import GradientBoostingClassifier"
   ]
  },
  {
   "cell_type": "code",
   "execution_count": 197,
   "metadata": {
    "ExecuteTime": {
     "end_time": "2023-11-25T08:56:52.624210800Z",
     "start_time": "2023-11-25T08:56:52.431066500Z"
    }
   },
   "outputs": [],
   "source": [
    "# df = pd.read_pickle(\"../seatunnel.pkl\")\n",
    "df = pd.read_pickle(r\"../../models/data_train/'begin_Bloaters', 'begin_Couplers', 'begin_Object-Orientation Abusers'_3.pkl\")\n",
    "df = df.drop_duplicates()"
   ]
  },
  {
   "cell_type": "code",
   "execution_count": 198,
   "metadata": {
    "ExecuteTime": {
     "end_time": "2023-11-25T08:56:52.625724800Z",
     "start_time": "2023-11-25T08:56:52.445620500Z"
    }
   },
   "outputs": [
    {
     "data": {
      "text/plain": "                                     begin_sha  \\\n0     84be0f9fd057b1680d001de38802ce1c28d79f04   \n1     84be0f9fd057b1680d001de38802ce1c28d79f04   \n2     84be0f9fd057b1680d001de38802ce1c28d79f04   \n3     84be0f9fd057b1680d001de38802ce1c28d79f04   \n4     1b918160214a0b20ce1ae8f9e02f8e0dce243b53   \n...                                        ...   \n1063  1afed83b2c4ae750ee8159ae359924e6f8e471e4   \n1064  4bfd6cb1c97a0ffa75e0cd8a0ff8fc758de5f9d6   \n1065  5fa746466941d871d4b1246b451f398416952541   \n1066  04addef64bbd2567d47acbb7f434245fba7ac8a5   \n1067  79339df3455c88ba606847d79b3b3a1682c97a67   \n\n                                       end_sha  commits  additions  deletions  \\\n0     9a2efa51c7180b369ecfea17efaae813d9d0bfc5        1         10          4   \n1     5e03d22d6cb5bfdaf941b7749e0a313bd6ab2f86        1          2          1   \n2     e0d8519a9d7b6dfac29c1daf4199b6fe87781d0a        1         36         67   \n3     d0a47b9811a30f5de6d59334bb4fcc8c74ef640b        1         21          2   \n4     988d2f0c4ef3ba8db0e701ab2105555996def4f7        8        211        212   \n...                                        ...      ...        ...        ...   \n1063  28c87ce9911a7fc8d0fc50ff94d8351824056335        4        191         40   \n1064  e03ff8b09c54470023a87f9e615cf689fc9234da        6        470         42   \n1065  4bfd6cb1c97a0ffa75e0cd8a0ff8fc758de5f9d6        2         69         49   \n1066  3b6a8b4058593b1ff11c44560ebcc56142cda830        1         11       1128   \n1067  04addef64bbd2567d47acbb7f434245fba7ac8a5        1         36          0   \n\n      changed_files       total_time            begin_time  \\\n0                 3  3 days 01:27:48  2023-06-02T07:22:03Z   \n1                 1  3 days 04:15:10  2023-06-02T05:07:40Z   \n2                 9  0 days 05:24:03  2023-06-02T03:16:04Z   \n3                 3  4 days 00:22:26  2023-06-01T08:30:26Z   \n4                80 12 days 00:39:27  2023-06-01T07:45:26Z   \n...             ...              ...                   ...   \n1063             12  0 days 00:43:10  2019-10-30T01:18:36Z   \n1064             16  0 days 19:01:39  2019-09-19T11:01:45Z   \n1065              9  0 days 00:16:22  2019-09-19T09:50:27Z   \n1066             27  0 days 00:33:35  2019-08-13T15:14:02Z   \n1067              1  0 days 00:09:14  2019-08-13T02:16:57Z   \n\n                  end_time begin_Dispensables  ...  end_Bloaters  \\\n0     2023-06-05T08:49:51Z              500.0  ...         261.0   \n1     2023-06-05T09:22:50Z              500.0  ...         262.0   \n2     2023-06-02T08:40:07Z              500.0  ...         261.0   \n3     2023-06-05T08:52:52Z              500.0  ...         261.0   \n4     2023-06-13T08:24:53Z              499.0  ...         262.0   \n...                    ...                ...  ...           ...   \n1063  2019-10-30T02:01:46Z               16.0  ...          15.0   \n1064  2019-09-20T06:03:24Z               14.0  ...          14.0   \n1065  2019-09-19T10:06:49Z               14.0  ...          14.0   \n1066  2019-08-13T15:47:37Z                2.0  ...          14.0   \n1067  2019-08-13T02:26:11Z                2.0  ...          12.0   \n\n      end_Change Preventers  end_Couplers  end_Object-Orientation Abusers  \\\n0                     261.0         304.0                           693.0   \n1                     262.0         304.0                           693.0   \n2                     261.0         304.0                           693.0   \n3                     261.0         304.0                           693.0   \n4                     262.0         304.0                           693.0   \n...                     ...           ...                             ...   \n1063                   15.0           7.0                           102.0   \n1064                   14.0           7.0                            89.0   \n1065                   14.0           7.0                            89.0   \n1066                   14.0           7.0                            89.0   \n1067                   12.0           8.0                            89.0   \n\n      begin_Bloaters  begin_Couplers  begin_Object-Orientation Abusers  \\\n0              262.0           304.0                             304.0   \n1              262.0           304.0                             304.0   \n2              262.0           304.0                             304.0   \n3              262.0           304.0                             304.0   \n4              261.0           304.0                             304.0   \n...              ...             ...                               ...   \n1063            14.0             7.0                               7.0   \n1064            12.0             8.0                               8.0   \n1065            12.0             8.0                               8.0   \n1066             3.0             3.0                               3.0   \n1067             3.0             3.0                               3.0   \n\n      ['begin_Bloaters', 'begin_Couplers', 'begin_Object-Orientation Abusers']_3  \\\n0                                                     2                            \n1                                                     2                            \n2                                                     2                            \n3                                                     2                            \n4                                                     2                            \n...                                                 ...                            \n1063                                                  1                            \n1064                                                  1                            \n1065                                                  1                            \n1066                                                  1                            \n1067                                                  1                            \n\n      scored  clusters  \n0     0.6835         3  \n1     0.6835         3  \n2     0.6835         3  \n3     0.6835         3  \n4     0.6835         3  \n...      ...       ...  \n1063  0.6835         3  \n1064  0.6835         3  \n1065  0.6835         3  \n1066  0.6835         3  \n1067  0.6835         3  \n\n[1066 rows x 25 columns]",
      "text/html": "<div>\n<style scoped>\n    .dataframe tbody tr th:only-of-type {\n        vertical-align: middle;\n    }\n\n    .dataframe tbody tr th {\n        vertical-align: top;\n    }\n\n    .dataframe thead th {\n        text-align: right;\n    }\n</style>\n<table border=\"1\" class=\"dataframe\">\n  <thead>\n    <tr style=\"text-align: right;\">\n      <th></th>\n      <th>begin_sha</th>\n      <th>end_sha</th>\n      <th>commits</th>\n      <th>additions</th>\n      <th>deletions</th>\n      <th>changed_files</th>\n      <th>total_time</th>\n      <th>begin_time</th>\n      <th>end_time</th>\n      <th>begin_Dispensables</th>\n      <th>...</th>\n      <th>end_Bloaters</th>\n      <th>end_Change Preventers</th>\n      <th>end_Couplers</th>\n      <th>end_Object-Orientation Abusers</th>\n      <th>begin_Bloaters</th>\n      <th>begin_Couplers</th>\n      <th>begin_Object-Orientation Abusers</th>\n      <th>['begin_Bloaters', 'begin_Couplers', 'begin_Object-Orientation Abusers']_3</th>\n      <th>scored</th>\n      <th>clusters</th>\n    </tr>\n  </thead>\n  <tbody>\n    <tr>\n      <th>0</th>\n      <td>84be0f9fd057b1680d001de38802ce1c28d79f04</td>\n      <td>9a2efa51c7180b369ecfea17efaae813d9d0bfc5</td>\n      <td>1</td>\n      <td>10</td>\n      <td>4</td>\n      <td>3</td>\n      <td>3 days 01:27:48</td>\n      <td>2023-06-02T07:22:03Z</td>\n      <td>2023-06-05T08:49:51Z</td>\n      <td>500.0</td>\n      <td>...</td>\n      <td>261.0</td>\n      <td>261.0</td>\n      <td>304.0</td>\n      <td>693.0</td>\n      <td>262.0</td>\n      <td>304.0</td>\n      <td>304.0</td>\n      <td>2</td>\n      <td>0.6835</td>\n      <td>3</td>\n    </tr>\n    <tr>\n      <th>1</th>\n      <td>84be0f9fd057b1680d001de38802ce1c28d79f04</td>\n      <td>5e03d22d6cb5bfdaf941b7749e0a313bd6ab2f86</td>\n      <td>1</td>\n      <td>2</td>\n      <td>1</td>\n      <td>1</td>\n      <td>3 days 04:15:10</td>\n      <td>2023-06-02T05:07:40Z</td>\n      <td>2023-06-05T09:22:50Z</td>\n      <td>500.0</td>\n      <td>...</td>\n      <td>262.0</td>\n      <td>262.0</td>\n      <td>304.0</td>\n      <td>693.0</td>\n      <td>262.0</td>\n      <td>304.0</td>\n      <td>304.0</td>\n      <td>2</td>\n      <td>0.6835</td>\n      <td>3</td>\n    </tr>\n    <tr>\n      <th>2</th>\n      <td>84be0f9fd057b1680d001de38802ce1c28d79f04</td>\n      <td>e0d8519a9d7b6dfac29c1daf4199b6fe87781d0a</td>\n      <td>1</td>\n      <td>36</td>\n      <td>67</td>\n      <td>9</td>\n      <td>0 days 05:24:03</td>\n      <td>2023-06-02T03:16:04Z</td>\n      <td>2023-06-02T08:40:07Z</td>\n      <td>500.0</td>\n      <td>...</td>\n      <td>261.0</td>\n      <td>261.0</td>\n      <td>304.0</td>\n      <td>693.0</td>\n      <td>262.0</td>\n      <td>304.0</td>\n      <td>304.0</td>\n      <td>2</td>\n      <td>0.6835</td>\n      <td>3</td>\n    </tr>\n    <tr>\n      <th>3</th>\n      <td>84be0f9fd057b1680d001de38802ce1c28d79f04</td>\n      <td>d0a47b9811a30f5de6d59334bb4fcc8c74ef640b</td>\n      <td>1</td>\n      <td>21</td>\n      <td>2</td>\n      <td>3</td>\n      <td>4 days 00:22:26</td>\n      <td>2023-06-01T08:30:26Z</td>\n      <td>2023-06-05T08:52:52Z</td>\n      <td>500.0</td>\n      <td>...</td>\n      <td>261.0</td>\n      <td>261.0</td>\n      <td>304.0</td>\n      <td>693.0</td>\n      <td>262.0</td>\n      <td>304.0</td>\n      <td>304.0</td>\n      <td>2</td>\n      <td>0.6835</td>\n      <td>3</td>\n    </tr>\n    <tr>\n      <th>4</th>\n      <td>1b918160214a0b20ce1ae8f9e02f8e0dce243b53</td>\n      <td>988d2f0c4ef3ba8db0e701ab2105555996def4f7</td>\n      <td>8</td>\n      <td>211</td>\n      <td>212</td>\n      <td>80</td>\n      <td>12 days 00:39:27</td>\n      <td>2023-06-01T07:45:26Z</td>\n      <td>2023-06-13T08:24:53Z</td>\n      <td>499.0</td>\n      <td>...</td>\n      <td>262.0</td>\n      <td>262.0</td>\n      <td>304.0</td>\n      <td>693.0</td>\n      <td>261.0</td>\n      <td>304.0</td>\n      <td>304.0</td>\n      <td>2</td>\n      <td>0.6835</td>\n      <td>3</td>\n    </tr>\n    <tr>\n      <th>...</th>\n      <td>...</td>\n      <td>...</td>\n      <td>...</td>\n      <td>...</td>\n      <td>...</td>\n      <td>...</td>\n      <td>...</td>\n      <td>...</td>\n      <td>...</td>\n      <td>...</td>\n      <td>...</td>\n      <td>...</td>\n      <td>...</td>\n      <td>...</td>\n      <td>...</td>\n      <td>...</td>\n      <td>...</td>\n      <td>...</td>\n      <td>...</td>\n      <td>...</td>\n      <td>...</td>\n    </tr>\n    <tr>\n      <th>1063</th>\n      <td>1afed83b2c4ae750ee8159ae359924e6f8e471e4</td>\n      <td>28c87ce9911a7fc8d0fc50ff94d8351824056335</td>\n      <td>4</td>\n      <td>191</td>\n      <td>40</td>\n      <td>12</td>\n      <td>0 days 00:43:10</td>\n      <td>2019-10-30T01:18:36Z</td>\n      <td>2019-10-30T02:01:46Z</td>\n      <td>16.0</td>\n      <td>...</td>\n      <td>15.0</td>\n      <td>15.0</td>\n      <td>7.0</td>\n      <td>102.0</td>\n      <td>14.0</td>\n      <td>7.0</td>\n      <td>7.0</td>\n      <td>1</td>\n      <td>0.6835</td>\n      <td>3</td>\n    </tr>\n    <tr>\n      <th>1064</th>\n      <td>4bfd6cb1c97a0ffa75e0cd8a0ff8fc758de5f9d6</td>\n      <td>e03ff8b09c54470023a87f9e615cf689fc9234da</td>\n      <td>6</td>\n      <td>470</td>\n      <td>42</td>\n      <td>16</td>\n      <td>0 days 19:01:39</td>\n      <td>2019-09-19T11:01:45Z</td>\n      <td>2019-09-20T06:03:24Z</td>\n      <td>14.0</td>\n      <td>...</td>\n      <td>14.0</td>\n      <td>14.0</td>\n      <td>7.0</td>\n      <td>89.0</td>\n      <td>12.0</td>\n      <td>8.0</td>\n      <td>8.0</td>\n      <td>1</td>\n      <td>0.6835</td>\n      <td>3</td>\n    </tr>\n    <tr>\n      <th>1065</th>\n      <td>5fa746466941d871d4b1246b451f398416952541</td>\n      <td>4bfd6cb1c97a0ffa75e0cd8a0ff8fc758de5f9d6</td>\n      <td>2</td>\n      <td>69</td>\n      <td>49</td>\n      <td>9</td>\n      <td>0 days 00:16:22</td>\n      <td>2019-09-19T09:50:27Z</td>\n      <td>2019-09-19T10:06:49Z</td>\n      <td>14.0</td>\n      <td>...</td>\n      <td>14.0</td>\n      <td>14.0</td>\n      <td>7.0</td>\n      <td>89.0</td>\n      <td>12.0</td>\n      <td>8.0</td>\n      <td>8.0</td>\n      <td>1</td>\n      <td>0.6835</td>\n      <td>3</td>\n    </tr>\n    <tr>\n      <th>1066</th>\n      <td>04addef64bbd2567d47acbb7f434245fba7ac8a5</td>\n      <td>3b6a8b4058593b1ff11c44560ebcc56142cda830</td>\n      <td>1</td>\n      <td>11</td>\n      <td>1128</td>\n      <td>27</td>\n      <td>0 days 00:33:35</td>\n      <td>2019-08-13T15:14:02Z</td>\n      <td>2019-08-13T15:47:37Z</td>\n      <td>2.0</td>\n      <td>...</td>\n      <td>14.0</td>\n      <td>14.0</td>\n      <td>7.0</td>\n      <td>89.0</td>\n      <td>3.0</td>\n      <td>3.0</td>\n      <td>3.0</td>\n      <td>1</td>\n      <td>0.6835</td>\n      <td>3</td>\n    </tr>\n    <tr>\n      <th>1067</th>\n      <td>79339df3455c88ba606847d79b3b3a1682c97a67</td>\n      <td>04addef64bbd2567d47acbb7f434245fba7ac8a5</td>\n      <td>1</td>\n      <td>36</td>\n      <td>0</td>\n      <td>1</td>\n      <td>0 days 00:09:14</td>\n      <td>2019-08-13T02:16:57Z</td>\n      <td>2019-08-13T02:26:11Z</td>\n      <td>2.0</td>\n      <td>...</td>\n      <td>12.0</td>\n      <td>12.0</td>\n      <td>8.0</td>\n      <td>89.0</td>\n      <td>3.0</td>\n      <td>3.0</td>\n      <td>3.0</td>\n      <td>1</td>\n      <td>0.6835</td>\n      <td>3</td>\n    </tr>\n  </tbody>\n</table>\n<p>1066 rows × 25 columns</p>\n</div>"
     },
     "execution_count": 198,
     "metadata": {},
     "output_type": "execute_result"
    }
   ],
   "source": [
    "df"
   ]
  },
  {
   "cell_type": "code",
   "execution_count": 199,
   "outputs": [],
   "source": [
    "date = pd.to_timedelta(df['total_time'])\n",
    "time_hours = date.dt.total_seconds() / 3600\n",
    "\n",
    "df['hours'] = time_hours"
   ],
   "metadata": {
    "collapsed": false,
    "ExecuteTime": {
     "end_time": "2023-11-25T08:56:52.625724800Z",
     "start_time": "2023-11-25T08:56:52.478002600Z"
    }
   }
  },
  {
   "cell_type": "code",
   "execution_count": 200,
   "outputs": [],
   "source": [
    "result_time  = []\n",
    "\n",
    "for i in df['hours']:\n",
    "    if i > 153.70 :\n",
    "        result_time.append(0)\n",
    "    elif (i>=48.54) & (i<=153.70):\n",
    "        result_time.append(1)\n",
    "    else:\n",
    "        i <= 48.54\n",
    "        result_time.append(2)\n",
    "df['time_class'] = result_time"
   ],
   "metadata": {
    "collapsed": false,
    "ExecuteTime": {
     "end_time": "2023-11-25T08:56:52.625724800Z",
     "start_time": "2023-11-25T08:56:52.492526300Z"
    }
   }
  },
  {
   "cell_type": "code",
   "execution_count": 201,
   "outputs": [
    {
     "data": {
      "text/plain": "                                  begin_sha  \\\n0  84be0f9fd057b1680d001de38802ce1c28d79f04   \n1  84be0f9fd057b1680d001de38802ce1c28d79f04   \n2  84be0f9fd057b1680d001de38802ce1c28d79f04   \n3  84be0f9fd057b1680d001de38802ce1c28d79f04   \n4  1b918160214a0b20ce1ae8f9e02f8e0dce243b53   \n\n                                    end_sha  commits  additions  deletions  \\\n0  9a2efa51c7180b369ecfea17efaae813d9d0bfc5        1         10          4   \n1  5e03d22d6cb5bfdaf941b7749e0a313bd6ab2f86        1          2          1   \n2  e0d8519a9d7b6dfac29c1daf4199b6fe87781d0a        1         36         67   \n3  d0a47b9811a30f5de6d59334bb4fcc8c74ef640b        1         21          2   \n4  988d2f0c4ef3ba8db0e701ab2105555996def4f7        8        211        212   \n\n   changed_files       total_time            begin_time              end_time  \\\n0              3  3 days 01:27:48  2023-06-02T07:22:03Z  2023-06-05T08:49:51Z   \n1              1  3 days 04:15:10  2023-06-02T05:07:40Z  2023-06-05T09:22:50Z   \n2              9  0 days 05:24:03  2023-06-02T03:16:04Z  2023-06-02T08:40:07Z   \n3              3  4 days 00:22:26  2023-06-01T08:30:26Z  2023-06-05T08:52:52Z   \n4             80 12 days 00:39:27  2023-06-01T07:45:26Z  2023-06-13T08:24:53Z   \n\n  begin_Dispensables  ...  end_Couplers  end_Object-Orientation Abusers  \\\n0              500.0  ...         304.0                           693.0   \n1              500.0  ...         304.0                           693.0   \n2              500.0  ...         304.0                           693.0   \n3              500.0  ...         304.0                           693.0   \n4              499.0  ...         304.0                           693.0   \n\n   begin_Bloaters  begin_Couplers  begin_Object-Orientation Abusers  \\\n0           262.0           304.0                             304.0   \n1           262.0           304.0                             304.0   \n2           262.0           304.0                             304.0   \n3           262.0           304.0                             304.0   \n4           261.0           304.0                             304.0   \n\n   ['begin_Bloaters', 'begin_Couplers', 'begin_Object-Orientation Abusers']_3  \\\n0                                                  2                            \n1                                                  2                            \n2                                                  2                            \n3                                                  2                            \n4                                                  2                            \n\n   scored  clusters       hours  time_class  \n0  0.6835         3   73.463333           1  \n1  0.6835         3   76.252778           1  \n2  0.6835         3    5.400833           2  \n3  0.6835         3   96.373889           1  \n4  0.6835         3  288.657500           0  \n\n[5 rows x 27 columns]",
      "text/html": "<div>\n<style scoped>\n    .dataframe tbody tr th:only-of-type {\n        vertical-align: middle;\n    }\n\n    .dataframe tbody tr th {\n        vertical-align: top;\n    }\n\n    .dataframe thead th {\n        text-align: right;\n    }\n</style>\n<table border=\"1\" class=\"dataframe\">\n  <thead>\n    <tr style=\"text-align: right;\">\n      <th></th>\n      <th>begin_sha</th>\n      <th>end_sha</th>\n      <th>commits</th>\n      <th>additions</th>\n      <th>deletions</th>\n      <th>changed_files</th>\n      <th>total_time</th>\n      <th>begin_time</th>\n      <th>end_time</th>\n      <th>begin_Dispensables</th>\n      <th>...</th>\n      <th>end_Couplers</th>\n      <th>end_Object-Orientation Abusers</th>\n      <th>begin_Bloaters</th>\n      <th>begin_Couplers</th>\n      <th>begin_Object-Orientation Abusers</th>\n      <th>['begin_Bloaters', 'begin_Couplers', 'begin_Object-Orientation Abusers']_3</th>\n      <th>scored</th>\n      <th>clusters</th>\n      <th>hours</th>\n      <th>time_class</th>\n    </tr>\n  </thead>\n  <tbody>\n    <tr>\n      <th>0</th>\n      <td>84be0f9fd057b1680d001de38802ce1c28d79f04</td>\n      <td>9a2efa51c7180b369ecfea17efaae813d9d0bfc5</td>\n      <td>1</td>\n      <td>10</td>\n      <td>4</td>\n      <td>3</td>\n      <td>3 days 01:27:48</td>\n      <td>2023-06-02T07:22:03Z</td>\n      <td>2023-06-05T08:49:51Z</td>\n      <td>500.0</td>\n      <td>...</td>\n      <td>304.0</td>\n      <td>693.0</td>\n      <td>262.0</td>\n      <td>304.0</td>\n      <td>304.0</td>\n      <td>2</td>\n      <td>0.6835</td>\n      <td>3</td>\n      <td>73.463333</td>\n      <td>1</td>\n    </tr>\n    <tr>\n      <th>1</th>\n      <td>84be0f9fd057b1680d001de38802ce1c28d79f04</td>\n      <td>5e03d22d6cb5bfdaf941b7749e0a313bd6ab2f86</td>\n      <td>1</td>\n      <td>2</td>\n      <td>1</td>\n      <td>1</td>\n      <td>3 days 04:15:10</td>\n      <td>2023-06-02T05:07:40Z</td>\n      <td>2023-06-05T09:22:50Z</td>\n      <td>500.0</td>\n      <td>...</td>\n      <td>304.0</td>\n      <td>693.0</td>\n      <td>262.0</td>\n      <td>304.0</td>\n      <td>304.0</td>\n      <td>2</td>\n      <td>0.6835</td>\n      <td>3</td>\n      <td>76.252778</td>\n      <td>1</td>\n    </tr>\n    <tr>\n      <th>2</th>\n      <td>84be0f9fd057b1680d001de38802ce1c28d79f04</td>\n      <td>e0d8519a9d7b6dfac29c1daf4199b6fe87781d0a</td>\n      <td>1</td>\n      <td>36</td>\n      <td>67</td>\n      <td>9</td>\n      <td>0 days 05:24:03</td>\n      <td>2023-06-02T03:16:04Z</td>\n      <td>2023-06-02T08:40:07Z</td>\n      <td>500.0</td>\n      <td>...</td>\n      <td>304.0</td>\n      <td>693.0</td>\n      <td>262.0</td>\n      <td>304.0</td>\n      <td>304.0</td>\n      <td>2</td>\n      <td>0.6835</td>\n      <td>3</td>\n      <td>5.400833</td>\n      <td>2</td>\n    </tr>\n    <tr>\n      <th>3</th>\n      <td>84be0f9fd057b1680d001de38802ce1c28d79f04</td>\n      <td>d0a47b9811a30f5de6d59334bb4fcc8c74ef640b</td>\n      <td>1</td>\n      <td>21</td>\n      <td>2</td>\n      <td>3</td>\n      <td>4 days 00:22:26</td>\n      <td>2023-06-01T08:30:26Z</td>\n      <td>2023-06-05T08:52:52Z</td>\n      <td>500.0</td>\n      <td>...</td>\n      <td>304.0</td>\n      <td>693.0</td>\n      <td>262.0</td>\n      <td>304.0</td>\n      <td>304.0</td>\n      <td>2</td>\n      <td>0.6835</td>\n      <td>3</td>\n      <td>96.373889</td>\n      <td>1</td>\n    </tr>\n    <tr>\n      <th>4</th>\n      <td>1b918160214a0b20ce1ae8f9e02f8e0dce243b53</td>\n      <td>988d2f0c4ef3ba8db0e701ab2105555996def4f7</td>\n      <td>8</td>\n      <td>211</td>\n      <td>212</td>\n      <td>80</td>\n      <td>12 days 00:39:27</td>\n      <td>2023-06-01T07:45:26Z</td>\n      <td>2023-06-13T08:24:53Z</td>\n      <td>499.0</td>\n      <td>...</td>\n      <td>304.0</td>\n      <td>693.0</td>\n      <td>261.0</td>\n      <td>304.0</td>\n      <td>304.0</td>\n      <td>2</td>\n      <td>0.6835</td>\n      <td>3</td>\n      <td>288.657500</td>\n      <td>0</td>\n    </tr>\n  </tbody>\n</table>\n<p>5 rows × 27 columns</p>\n</div>"
     },
     "execution_count": 201,
     "metadata": {},
     "output_type": "execute_result"
    }
   ],
   "source": [
    "df.head(5)"
   ],
   "metadata": {
    "collapsed": false,
    "ExecuteTime": {
     "end_time": "2023-11-25T08:56:52.626693500Z",
     "start_time": "2023-11-25T08:56:52.507035Z"
    }
   }
  },
  {
   "cell_type": "code",
   "execution_count": 202,
   "metadata": {
    "ExecuteTime": {
     "end_time": "2023-11-25T08:56:52.626693500Z",
     "start_time": "2023-11-25T08:56:52.540977Z"
    }
   },
   "outputs": [],
   "source": [
    "X = df.loc[:, ~df.columns.isin([\n",
    "                                'hours', 'scored' , 'clusters' , \n",
    "                                r'[\\'begin_Bloaters\\', \\'begin_Couplers\\', \\'begin_Object-Orientation Abusers\\']_3' ,\n",
    "                                'total_time' ,\n",
    "                                'begin_sha', 'end_sha', 'begin_time' , 'begin_key', 'begin_revision', 'end_time', 'end_key', 'end_revision'\n",
    "                                ])]\n",
    "y = df['time_class']"
   ]
  },
  {
   "cell_type": "code",
   "execution_count": 203,
   "outputs": [],
   "source": [
    "x_drop = X.columns[-2]"
   ],
   "metadata": {
    "collapsed": false,
    "ExecuteTime": {
     "end_time": "2023-11-25T08:56:52.626693500Z",
     "start_time": "2023-11-25T08:56:52.555555800Z"
    }
   }
  },
  {
   "cell_type": "code",
   "execution_count": 204,
   "outputs": [
    {
     "data": {
      "text/plain": "      commits  additions  deletions  changed_files begin_Dispensables  \\\n0           1         10          4              3              500.0   \n1           1          2          1              1              500.0   \n2           1         36         67              9              500.0   \n3           1         21          2              3              500.0   \n4           8        211        212             80              499.0   \n...       ...        ...        ...            ...                ...   \n1063        4        191         40             12               16.0   \n1064        6        470         42             16               14.0   \n1065        2         69         49              9               14.0   \n1066        1         11       1128             27                2.0   \n1067        1         36          0              1                2.0   \n\n      begin_Bloaters  begin_Change Preventers  begin_Couplers  \\\n0              262.0                    262.0           304.0   \n1              262.0                    262.0           304.0   \n2              262.0                    262.0           304.0   \n3              262.0                    262.0           304.0   \n4              261.0                    261.0           304.0   \n...              ...                      ...             ...   \n1063            14.0                     14.0             7.0   \n1064            12.0                     12.0             8.0   \n1065            12.0                     12.0             8.0   \n1066             3.0                      3.0             3.0   \n1067             3.0                      3.0             3.0   \n\n      begin_Object-Orientation Abusers  end_Dispensables  end_Bloaters  \\\n0                                304.0             500.0         261.0   \n1                                304.0             501.0         262.0   \n2                                304.0             499.0         261.0   \n3                                304.0             500.0         261.0   \n4                                304.0             500.0         262.0   \n...                                ...               ...           ...   \n1063                               7.0              16.0          15.0   \n1064                               8.0              16.0          14.0   \n1065                               8.0              16.0          14.0   \n1066                               3.0              16.0          14.0   \n1067                               3.0              14.0          12.0   \n\n      end_Change Preventers  end_Couplers  end_Object-Orientation Abusers  \\\n0                     261.0         304.0                           693.0   \n1                     262.0         304.0                           693.0   \n2                     261.0         304.0                           693.0   \n3                     261.0         304.0                           693.0   \n4                     262.0         304.0                           693.0   \n...                     ...           ...                             ...   \n1063                   15.0           7.0                           102.0   \n1064                   14.0           7.0                            89.0   \n1065                   14.0           7.0                            89.0   \n1066                   14.0           7.0                            89.0   \n1067                   12.0           8.0                            89.0   \n\n      begin_Bloaters  begin_Couplers  begin_Object-Orientation Abusers  \\\n0              262.0           304.0                             304.0   \n1              262.0           304.0                             304.0   \n2              262.0           304.0                             304.0   \n3              262.0           304.0                             304.0   \n4              261.0           304.0                             304.0   \n...              ...             ...                               ...   \n1063            14.0             7.0                               7.0   \n1064            12.0             8.0                               8.0   \n1065            12.0             8.0                               8.0   \n1066             3.0             3.0                               3.0   \n1067             3.0             3.0                               3.0   \n\n      time_class  \n0              1  \n1              1  \n2              2  \n3              1  \n4              0  \n...          ...  \n1063           2  \n1064           2  \n1065           2  \n1066           2  \n1067           2  \n\n[1066 rows x 18 columns]",
      "text/html": "<div>\n<style scoped>\n    .dataframe tbody tr th:only-of-type {\n        vertical-align: middle;\n    }\n\n    .dataframe tbody tr th {\n        vertical-align: top;\n    }\n\n    .dataframe thead th {\n        text-align: right;\n    }\n</style>\n<table border=\"1\" class=\"dataframe\">\n  <thead>\n    <tr style=\"text-align: right;\">\n      <th></th>\n      <th>commits</th>\n      <th>additions</th>\n      <th>deletions</th>\n      <th>changed_files</th>\n      <th>begin_Dispensables</th>\n      <th>begin_Bloaters</th>\n      <th>begin_Change Preventers</th>\n      <th>begin_Couplers</th>\n      <th>begin_Object-Orientation Abusers</th>\n      <th>end_Dispensables</th>\n      <th>end_Bloaters</th>\n      <th>end_Change Preventers</th>\n      <th>end_Couplers</th>\n      <th>end_Object-Orientation Abusers</th>\n      <th>begin_Bloaters</th>\n      <th>begin_Couplers</th>\n      <th>begin_Object-Orientation Abusers</th>\n      <th>time_class</th>\n    </tr>\n  </thead>\n  <tbody>\n    <tr>\n      <th>0</th>\n      <td>1</td>\n      <td>10</td>\n      <td>4</td>\n      <td>3</td>\n      <td>500.0</td>\n      <td>262.0</td>\n      <td>262.0</td>\n      <td>304.0</td>\n      <td>304.0</td>\n      <td>500.0</td>\n      <td>261.0</td>\n      <td>261.0</td>\n      <td>304.0</td>\n      <td>693.0</td>\n      <td>262.0</td>\n      <td>304.0</td>\n      <td>304.0</td>\n      <td>1</td>\n    </tr>\n    <tr>\n      <th>1</th>\n      <td>1</td>\n      <td>2</td>\n      <td>1</td>\n      <td>1</td>\n      <td>500.0</td>\n      <td>262.0</td>\n      <td>262.0</td>\n      <td>304.0</td>\n      <td>304.0</td>\n      <td>501.0</td>\n      <td>262.0</td>\n      <td>262.0</td>\n      <td>304.0</td>\n      <td>693.0</td>\n      <td>262.0</td>\n      <td>304.0</td>\n      <td>304.0</td>\n      <td>1</td>\n    </tr>\n    <tr>\n      <th>2</th>\n      <td>1</td>\n      <td>36</td>\n      <td>67</td>\n      <td>9</td>\n      <td>500.0</td>\n      <td>262.0</td>\n      <td>262.0</td>\n      <td>304.0</td>\n      <td>304.0</td>\n      <td>499.0</td>\n      <td>261.0</td>\n      <td>261.0</td>\n      <td>304.0</td>\n      <td>693.0</td>\n      <td>262.0</td>\n      <td>304.0</td>\n      <td>304.0</td>\n      <td>2</td>\n    </tr>\n    <tr>\n      <th>3</th>\n      <td>1</td>\n      <td>21</td>\n      <td>2</td>\n      <td>3</td>\n      <td>500.0</td>\n      <td>262.0</td>\n      <td>262.0</td>\n      <td>304.0</td>\n      <td>304.0</td>\n      <td>500.0</td>\n      <td>261.0</td>\n      <td>261.0</td>\n      <td>304.0</td>\n      <td>693.0</td>\n      <td>262.0</td>\n      <td>304.0</td>\n      <td>304.0</td>\n      <td>1</td>\n    </tr>\n    <tr>\n      <th>4</th>\n      <td>8</td>\n      <td>211</td>\n      <td>212</td>\n      <td>80</td>\n      <td>499.0</td>\n      <td>261.0</td>\n      <td>261.0</td>\n      <td>304.0</td>\n      <td>304.0</td>\n      <td>500.0</td>\n      <td>262.0</td>\n      <td>262.0</td>\n      <td>304.0</td>\n      <td>693.0</td>\n      <td>261.0</td>\n      <td>304.0</td>\n      <td>304.0</td>\n      <td>0</td>\n    </tr>\n    <tr>\n      <th>...</th>\n      <td>...</td>\n      <td>...</td>\n      <td>...</td>\n      <td>...</td>\n      <td>...</td>\n      <td>...</td>\n      <td>...</td>\n      <td>...</td>\n      <td>...</td>\n      <td>...</td>\n      <td>...</td>\n      <td>...</td>\n      <td>...</td>\n      <td>...</td>\n      <td>...</td>\n      <td>...</td>\n      <td>...</td>\n      <td>...</td>\n    </tr>\n    <tr>\n      <th>1063</th>\n      <td>4</td>\n      <td>191</td>\n      <td>40</td>\n      <td>12</td>\n      <td>16.0</td>\n      <td>14.0</td>\n      <td>14.0</td>\n      <td>7.0</td>\n      <td>7.0</td>\n      <td>16.0</td>\n      <td>15.0</td>\n      <td>15.0</td>\n      <td>7.0</td>\n      <td>102.0</td>\n      <td>14.0</td>\n      <td>7.0</td>\n      <td>7.0</td>\n      <td>2</td>\n    </tr>\n    <tr>\n      <th>1064</th>\n      <td>6</td>\n      <td>470</td>\n      <td>42</td>\n      <td>16</td>\n      <td>14.0</td>\n      <td>12.0</td>\n      <td>12.0</td>\n      <td>8.0</td>\n      <td>8.0</td>\n      <td>16.0</td>\n      <td>14.0</td>\n      <td>14.0</td>\n      <td>7.0</td>\n      <td>89.0</td>\n      <td>12.0</td>\n      <td>8.0</td>\n      <td>8.0</td>\n      <td>2</td>\n    </tr>\n    <tr>\n      <th>1065</th>\n      <td>2</td>\n      <td>69</td>\n      <td>49</td>\n      <td>9</td>\n      <td>14.0</td>\n      <td>12.0</td>\n      <td>12.0</td>\n      <td>8.0</td>\n      <td>8.0</td>\n      <td>16.0</td>\n      <td>14.0</td>\n      <td>14.0</td>\n      <td>7.0</td>\n      <td>89.0</td>\n      <td>12.0</td>\n      <td>8.0</td>\n      <td>8.0</td>\n      <td>2</td>\n    </tr>\n    <tr>\n      <th>1066</th>\n      <td>1</td>\n      <td>11</td>\n      <td>1128</td>\n      <td>27</td>\n      <td>2.0</td>\n      <td>3.0</td>\n      <td>3.0</td>\n      <td>3.0</td>\n      <td>3.0</td>\n      <td>16.0</td>\n      <td>14.0</td>\n      <td>14.0</td>\n      <td>7.0</td>\n      <td>89.0</td>\n      <td>3.0</td>\n      <td>3.0</td>\n      <td>3.0</td>\n      <td>2</td>\n    </tr>\n    <tr>\n      <th>1067</th>\n      <td>1</td>\n      <td>36</td>\n      <td>0</td>\n      <td>1</td>\n      <td>2.0</td>\n      <td>3.0</td>\n      <td>3.0</td>\n      <td>3.0</td>\n      <td>3.0</td>\n      <td>14.0</td>\n      <td>12.0</td>\n      <td>12.0</td>\n      <td>8.0</td>\n      <td>89.0</td>\n      <td>3.0</td>\n      <td>3.0</td>\n      <td>3.0</td>\n      <td>2</td>\n    </tr>\n  </tbody>\n</table>\n<p>1066 rows × 18 columns</p>\n</div>"
     },
     "execution_count": 204,
     "metadata": {},
     "output_type": "execute_result"
    }
   ],
   "source": [
    "X.drop(x_drop, axis=1)"
   ],
   "metadata": {
    "collapsed": false,
    "ExecuteTime": {
     "end_time": "2023-11-25T08:56:52.628281700Z",
     "start_time": "2023-11-25T08:56:52.570920100Z"
    }
   }
  },
  {
   "cell_type": "code",
   "execution_count": 205,
   "metadata": {
    "ExecuteTime": {
     "end_time": "2023-11-25T08:56:52.629205300Z",
     "start_time": "2023-11-25T08:56:52.601458500Z"
    }
   },
   "outputs": [],
   "source": [
    "X_train, X_test = X[:int(0.7 * len(X))], X[int(0.7 * len(X)):]\n",
    "y_train, y_test = y[:int(0.7 * len(X))], y[int(0.7 * len(X)):]"
   ]
  },
  {
   "cell_type": "code",
   "execution_count": 206,
   "outputs": [
    {
     "data": {
      "text/plain": "746"
     },
     "execution_count": 206,
     "metadata": {},
     "output_type": "execute_result"
    }
   ],
   "source": [
    "int(0.7 * len(X))"
   ],
   "metadata": {
    "collapsed": false,
    "ExecuteTime": {
     "end_time": "2023-11-25T08:56:52.659889100Z",
     "start_time": "2023-11-25T08:56:52.618046800Z"
    }
   }
  },
  {
   "cell_type": "code",
   "execution_count": 207,
   "metadata": {
    "ExecuteTime": {
     "end_time": "2023-11-25T08:56:53.131813100Z",
     "start_time": "2023-11-25T08:56:52.635203800Z"
    }
   },
   "outputs": [],
   "source": [
    "clf = GradientBoostingClassifier(n_estimators=100, learning_rate=0.1 , max_depth=10 , random_state=3).fit(X_train , y_train)"
   ]
  },
  {
   "cell_type": "code",
   "execution_count": 208,
   "metadata": {
    "ExecuteTime": {
     "end_time": "2023-11-25T08:56:55.830029500Z",
     "start_time": "2023-11-25T08:56:53.133812400Z"
    }
   },
   "outputs": [
    {
     "data": {
      "text/plain": "array([1., 1., 1., 1., 1.])"
     },
     "execution_count": 208,
     "metadata": {},
     "output_type": "execute_result"
    }
   ],
   "source": [
    "from sklearn.model_selection import cross_val_score\n",
    "cross_val_score(clf , X , y , cv=5 , scoring= \"accuracy\")"
   ]
  },
  {
   "cell_type": "code",
   "execution_count": 209,
   "metadata": {
    "ExecuteTime": {
     "end_time": "2023-11-25T08:56:58.431124300Z",
     "start_time": "2023-11-25T08:56:55.834045500Z"
    }
   },
   "outputs": [
    {
     "data": {
      "text/plain": "array([1, 1, 2, ..., 2, 2, 2], dtype=int64)"
     },
     "execution_count": 209,
     "metadata": {},
     "output_type": "execute_result"
    }
   ],
   "source": [
    "from sklearn.model_selection import cross_val_predict\n",
    "y_pred = cross_val_predict(clf,X,y,cv=5)\n",
    "y_pred"
   ]
  },
  {
   "cell_type": "code",
   "execution_count": 210,
   "metadata": {
    "ExecuteTime": {
     "end_time": "2023-11-25T08:56:58.446082300Z",
     "start_time": "2023-11-25T08:56:58.430604800Z"
    }
   },
   "outputs": [
    {
     "data": {
      "text/plain": "array([[158,   0,   0],\n       [  0, 194,   0],\n       [  0,   0, 714]], dtype=int64)"
     },
     "execution_count": 210,
     "metadata": {},
     "output_type": "execute_result"
    }
   ],
   "source": [
    "from sklearn.metrics import confusion_matrix\n",
    "confusion_matrix(y , y_pred)"
   ]
  },
  {
   "cell_type": "code",
   "execution_count": 211,
   "metadata": {
    "ExecuteTime": {
     "end_time": "2023-11-25T08:56:58.484445400Z",
     "start_time": "2023-11-25T08:56:58.444082600Z"
    }
   },
   "outputs": [
    {
     "data": {
      "text/plain": "array([1, 1, 2, ..., 2, 2, 2], dtype=int64)"
     },
     "execution_count": 211,
     "metadata": {},
     "output_type": "execute_result"
    }
   ],
   "source": [
    "clf.predict(X)"
   ]
  },
  {
   "cell_type": "code",
   "execution_count": 212,
   "metadata": {
    "ExecuteTime": {
     "end_time": "2023-11-25T08:56:58.485446100Z",
     "start_time": "2023-11-25T08:56:58.463427400Z"
    }
   },
   "outputs": [
    {
     "data": {
      "text/plain": "array([1, 1, 2, 1, 0, 1, 1, 2, 1, 2, 2, 0, 1, 2, 1, 2, 2, 2, 1, 0, 2, 2,\n       2, 1, 2, 0, 2, 2, 2, 1, 0, 2, 0, 1, 2, 1, 0, 1, 1, 1, 1, 0, 0, 2,\n       0, 2, 0, 0, 0, 0, 2, 0, 1, 2, 0, 2, 2, 2, 0, 2, 2, 2, 1, 0, 0, 0,\n       2, 0, 2, 0, 2, 1, 2, 0, 1, 0, 1, 2, 1, 2, 2, 2, 2, 2, 1, 2, 2, 2,\n       1, 1, 2, 1, 2, 1, 1, 2, 0, 2, 1, 2, 2, 2, 0, 1, 2, 2, 2, 0, 2, 2,\n       1, 0, 2, 2, 0, 2, 1, 0, 1, 2, 0, 2, 2, 2, 2, 2, 2, 2, 2, 0, 0, 0,\n       2, 2, 2, 2, 2, 2, 2, 2, 2, 2, 2, 2, 0, 2, 2, 2, 2, 2, 2, 2, 2, 2,\n       2, 0, 0, 0, 1, 1, 1, 2, 0, 1, 2, 0, 2, 0, 2, 0, 1, 2, 2, 2, 2, 2,\n       2, 2, 2, 1, 2, 0, 1, 2, 2, 2, 1, 2, 0, 1, 2, 2, 2, 2, 2, 0, 2, 2,\n       1, 2, 1, 1, 0, 2, 0, 0, 0, 0, 0, 0, 2, 2, 2, 2, 0, 0, 2, 2, 1, 1,\n       2, 2, 1, 1, 2, 2, 2, 2, 2, 2, 0, 1, 1, 1, 0, 0, 0, 2, 1, 1, 0, 0,\n       2, 2, 1, 0, 2, 0, 0, 2, 1, 2, 2, 1, 2, 1, 0, 2, 2, 1, 2, 2, 2, 2,\n       1, 2, 0, 2, 0, 0, 2, 2, 2, 2, 2, 0, 2, 2, 2, 1, 2, 2, 2, 0, 0, 1,\n       2, 2, 2, 2, 2, 1, 2, 1, 0, 1, 1, 1, 2, 1, 1, 1, 2, 0, 0, 2, 2, 0,\n       2, 1, 2, 2, 2, 2, 1, 2, 2, 2, 1, 2, 1, 2, 2, 2, 2, 1, 2, 1, 2, 2,\n       2, 2, 1, 2, 0, 2, 2, 2, 2, 2, 2, 2, 1, 2, 2, 2, 2, 2, 2, 2, 1, 0,\n       2, 2, 2, 2, 2, 0, 2, 0, 2, 2, 0, 2, 2, 2, 2, 1, 1, 2, 2, 2, 0, 2,\n       0, 2, 2, 2, 0, 2, 2, 0, 0, 2, 2, 2, 2, 2, 2, 2, 2, 1, 0, 0, 0, 2,\n       1, 1, 2, 2, 2, 2, 2, 2, 2, 2, 2, 2, 2, 2, 2, 2, 2, 2, 2, 2, 2, 2,\n       1, 0, 2, 2, 1, 1, 1, 0, 2, 2, 2, 0, 0, 0, 2, 2, 2, 2, 2, 2, 2, 1,\n       0, 1, 2, 0, 0, 2, 1, 2, 2, 2, 2, 0, 2, 2, 2, 2, 0, 2, 0, 2, 1, 2,\n       2, 0, 0, 2, 2, 2, 2, 2, 2, 2, 2, 2, 2, 0, 0, 2, 2, 1, 2, 2, 0, 1,\n       1, 2, 1, 1, 1, 2, 2, 2, 0, 2, 2, 1, 2, 2, 2, 0, 2, 0, 2, 2, 2, 2,\n       1, 2, 2, 2, 1, 2, 2, 2, 1, 0, 1, 2, 2, 2, 1, 2, 0, 2, 1, 2, 1, 0,\n       2, 1, 1, 2, 1, 1, 2, 2, 2, 2, 2, 2, 2, 1, 2, 2, 1, 2, 1, 2, 2, 2,\n       2, 0, 2, 0, 2, 1, 2, 2, 1, 2, 1, 0, 2, 1, 2, 2, 2, 2, 1, 2, 0, 2,\n       1, 1, 1, 1, 2, 1, 2, 2, 1, 2, 2, 0, 2, 2, 2, 1, 0, 1, 1, 2, 2, 2,\n       2, 2, 2, 0, 2, 1, 0, 2, 2, 2, 1, 2, 0, 2, 1, 1, 2, 2, 2, 0, 2, 0,\n       2, 2, 2, 2, 2, 0, 2, 2, 1, 2, 2, 2, 2, 2, 2, 2, 2, 1, 2, 0, 2, 2,\n       1, 1, 2, 1, 2, 2, 2, 2, 1, 1, 1, 2, 2, 2, 2, 2, 2, 2, 0, 2, 1, 2,\n       2, 2, 2, 2, 0, 2, 2, 2, 2, 0, 2, 2, 2, 2, 1, 2, 2, 2, 2, 0, 2, 1,\n       0, 2, 2, 0, 2, 2, 2, 1, 2, 1, 2, 2, 2, 2, 2, 2, 2, 2, 2, 2, 2, 1,\n       2, 1, 2, 2, 1, 2, 1, 2, 1, 2, 0, 2, 2, 2, 2, 1, 1, 2, 2, 1, 2, 2,\n       2, 2, 2, 2, 0, 2, 1, 2, 1, 2, 2, 2, 2, 2, 2, 2, 2, 2, 2, 2],\n      dtype=int64)"
     },
     "execution_count": 212,
     "metadata": {},
     "output_type": "execute_result"
    }
   ],
   "source": [
    "clf.predict(X_train)"
   ]
  },
  {
   "cell_type": "code",
   "execution_count": 213,
   "metadata": {
    "ExecuteTime": {
     "end_time": "2023-11-25T08:56:58.488955Z",
     "start_time": "2023-11-25T08:56:58.475938100Z"
    }
   },
   "outputs": [
    {
     "name": "stdout",
     "output_type": "stream",
     "text": [
      "precision =  1.0\n",
      "recall_score =  1.0\n",
      "f1_score 1.0\n"
     ]
    }
   ],
   "source": [
    "from sklearn.metrics import precision_score, recall_score, f1_score\n",
    "print('precision = ', precision_score(y,y_pred ,average='macro'))\n",
    "print('recall_score = ', recall_score(y,y_pred ,average='macro'))\n",
    "print('f1_score',f1_score(y,y_pred ,average='macro'))\n"
   ]
  },
  {
   "cell_type": "code",
   "execution_count": 214,
   "metadata": {
    "ExecuteTime": {
     "end_time": "2023-11-25T08:56:58.511004500Z",
     "start_time": "2023-11-25T08:56:58.494959900Z"
    }
   },
   "outputs": [
    {
     "data": {
      "text/plain": "y         1622\ny_pred    1622\ndtype: int64"
     },
     "execution_count": 214,
     "metadata": {},
     "output_type": "execute_result"
    }
   ],
   "source": [
    "frame={\"y\":y,\"y_pred\": y_pred}\n",
    "pd.DataFrame(frame).sum()"
   ]
  },
  {
   "cell_type": "code",
   "execution_count": 215,
   "metadata": {
    "ExecuteTime": {
     "end_time": "2023-11-25T08:57:01.537738Z",
     "start_time": "2023-11-25T08:56:58.507997100Z"
    }
   },
   "outputs": [
    {
     "data": {
      "text/plain": "GridSearchCV(cv=3, estimator=GradientBoostingClassifier(),\n             param_grid={'learning_rate': [0.01, 0.1, 1.0], 'max_depth': [1, 2],\n                         'n_estimators': [1, 12, 14, 16], 'random_state': [2],\n                         'subsample': [0.7]},\n             scoring='f1_macro')",
      "text/html": "<style>#sk-container-id-11 {color: black;background-color: white;}#sk-container-id-11 pre{padding: 0;}#sk-container-id-11 div.sk-toggleable {background-color: white;}#sk-container-id-11 label.sk-toggleable__label {cursor: pointer;display: block;width: 100%;margin-bottom: 0;padding: 0.3em;box-sizing: border-box;text-align: center;}#sk-container-id-11 label.sk-toggleable__label-arrow:before {content: \"▸\";float: left;margin-right: 0.25em;color: #696969;}#sk-container-id-11 label.sk-toggleable__label-arrow:hover:before {color: black;}#sk-container-id-11 div.sk-estimator:hover label.sk-toggleable__label-arrow:before {color: black;}#sk-container-id-11 div.sk-toggleable__content {max-height: 0;max-width: 0;overflow: hidden;text-align: left;background-color: #f0f8ff;}#sk-container-id-11 div.sk-toggleable__content pre {margin: 0.2em;color: black;border-radius: 0.25em;background-color: #f0f8ff;}#sk-container-id-11 input.sk-toggleable__control:checked~div.sk-toggleable__content {max-height: 200px;max-width: 100%;overflow: auto;}#sk-container-id-11 input.sk-toggleable__control:checked~label.sk-toggleable__label-arrow:before {content: \"▾\";}#sk-container-id-11 div.sk-estimator input.sk-toggleable__control:checked~label.sk-toggleable__label {background-color: #d4ebff;}#sk-container-id-11 div.sk-label input.sk-toggleable__control:checked~label.sk-toggleable__label {background-color: #d4ebff;}#sk-container-id-11 input.sk-hidden--visually {border: 0;clip: rect(1px 1px 1px 1px);clip: rect(1px, 1px, 1px, 1px);height: 1px;margin: -1px;overflow: hidden;padding: 0;position: absolute;width: 1px;}#sk-container-id-11 div.sk-estimator {font-family: monospace;background-color: #f0f8ff;border: 1px dotted black;border-radius: 0.25em;box-sizing: border-box;margin-bottom: 0.5em;}#sk-container-id-11 div.sk-estimator:hover {background-color: #d4ebff;}#sk-container-id-11 div.sk-parallel-item::after {content: \"\";width: 100%;border-bottom: 1px solid gray;flex-grow: 1;}#sk-container-id-11 div.sk-label:hover label.sk-toggleable__label {background-color: #d4ebff;}#sk-container-id-11 div.sk-serial::before {content: \"\";position: absolute;border-left: 1px solid gray;box-sizing: border-box;top: 0;bottom: 0;left: 50%;z-index: 0;}#sk-container-id-11 div.sk-serial {display: flex;flex-direction: column;align-items: center;background-color: white;padding-right: 0.2em;padding-left: 0.2em;position: relative;}#sk-container-id-11 div.sk-item {position: relative;z-index: 1;}#sk-container-id-11 div.sk-parallel {display: flex;align-items: stretch;justify-content: center;background-color: white;position: relative;}#sk-container-id-11 div.sk-item::before, #sk-container-id-11 div.sk-parallel-item::before {content: \"\";position: absolute;border-left: 1px solid gray;box-sizing: border-box;top: 0;bottom: 0;left: 50%;z-index: -1;}#sk-container-id-11 div.sk-parallel-item {display: flex;flex-direction: column;z-index: 1;position: relative;background-color: white;}#sk-container-id-11 div.sk-parallel-item:first-child::after {align-self: flex-end;width: 50%;}#sk-container-id-11 div.sk-parallel-item:last-child::after {align-self: flex-start;width: 50%;}#sk-container-id-11 div.sk-parallel-item:only-child::after {width: 0;}#sk-container-id-11 div.sk-dashed-wrapped {border: 1px dashed gray;margin: 0 0.4em 0.5em 0.4em;box-sizing: border-box;padding-bottom: 0.4em;background-color: white;}#sk-container-id-11 div.sk-label label {font-family: monospace;font-weight: bold;display: inline-block;line-height: 1.2em;}#sk-container-id-11 div.sk-label-container {text-align: center;}#sk-container-id-11 div.sk-container {/* jupyter's `normalize.less` sets `[hidden] { display: none; }` but bootstrap.min.css set `[hidden] { display: none !important; }` so we also need the `!important` here to be able to override the default hidden behavior on the sphinx rendered scikit-learn.org. See: https://github.com/scikit-learn/scikit-learn/issues/21755 */display: inline-block !important;position: relative;}#sk-container-id-11 div.sk-text-repr-fallback {display: none;}</style><div id=\"sk-container-id-11\" class=\"sk-top-container\"><div class=\"sk-text-repr-fallback\"><pre>GridSearchCV(cv=3, estimator=GradientBoostingClassifier(),\n             param_grid={&#x27;learning_rate&#x27;: [0.01, 0.1, 1.0], &#x27;max_depth&#x27;: [1, 2],\n                         &#x27;n_estimators&#x27;: [1, 12, 14, 16], &#x27;random_state&#x27;: [2],\n                         &#x27;subsample&#x27;: [0.7]},\n             scoring=&#x27;f1_macro&#x27;)</pre><b>In a Jupyter environment, please rerun this cell to show the HTML representation or trust the notebook. <br />On GitHub, the HTML representation is unable to render, please try loading this page with nbviewer.org.</b></div><div class=\"sk-container\" hidden><div class=\"sk-item sk-dashed-wrapped\"><div class=\"sk-label-container\"><div class=\"sk-label sk-toggleable\"><input class=\"sk-toggleable__control sk-hidden--visually\" id=\"sk-estimator-id-31\" type=\"checkbox\" ><label for=\"sk-estimator-id-31\" class=\"sk-toggleable__label sk-toggleable__label-arrow\">GridSearchCV</label><div class=\"sk-toggleable__content\"><pre>GridSearchCV(cv=3, estimator=GradientBoostingClassifier(),\n             param_grid={&#x27;learning_rate&#x27;: [0.01, 0.1, 1.0], &#x27;max_depth&#x27;: [1, 2],\n                         &#x27;n_estimators&#x27;: [1, 12, 14, 16], &#x27;random_state&#x27;: [2],\n                         &#x27;subsample&#x27;: [0.7]},\n             scoring=&#x27;f1_macro&#x27;)</pre></div></div></div><div class=\"sk-parallel\"><div class=\"sk-parallel-item\"><div class=\"sk-item\"><div class=\"sk-label-container\"><div class=\"sk-label sk-toggleable\"><input class=\"sk-toggleable__control sk-hidden--visually\" id=\"sk-estimator-id-32\" type=\"checkbox\" ><label for=\"sk-estimator-id-32\" class=\"sk-toggleable__label sk-toggleable__label-arrow\">estimator: GradientBoostingClassifier</label><div class=\"sk-toggleable__content\"><pre>GradientBoostingClassifier()</pre></div></div></div><div class=\"sk-serial\"><div class=\"sk-item\"><div class=\"sk-estimator sk-toggleable\"><input class=\"sk-toggleable__control sk-hidden--visually\" id=\"sk-estimator-id-33\" type=\"checkbox\" ><label for=\"sk-estimator-id-33\" class=\"sk-toggleable__label sk-toggleable__label-arrow\">GradientBoostingClassifier</label><div class=\"sk-toggleable__content\"><pre>GradientBoostingClassifier()</pre></div></div></div></div></div></div></div></div></div></div>"
     },
     "execution_count": 215,
     "metadata": {},
     "output_type": "execute_result"
    }
   ],
   "source": [
    "from sklearn.model_selection import GridSearchCV\n",
    "\n",
    "parameters = {\n",
    "\n",
    "    'learning_rate': [0.01 , 0.1 ,1.0],\n",
    "    'n_estimators': [1,12,14,16],\n",
    "    'subsample' : [0.7],\n",
    "    'max_depth' : [1,2] ,\n",
    "    'random_state':[2]\n",
    "\n",
    "}\n",
    "GradientBoosting = GradientBoostingClassifier()\n",
    "clf = GridSearchCV(GradientBoosting, parameters , cv=3 , scoring='f1_macro')\n",
    "clf.fit(X_train,y_train)"
   ]
  },
  {
   "cell_type": "code",
   "execution_count": 216,
   "metadata": {
    "ExecuteTime": {
     "end_time": "2023-11-25T08:57:01.708011300Z",
     "start_time": "2023-11-25T08:57:01.538707800Z"
    }
   },
   "outputs": [
    {
     "data": {
      "text/plain": "array([2, 2, 2, 2, 2, 2, 2, 2, 2, 2, 2, 2, 2, 2, 2, 2, 2, 2, 2, 2, 2, 2,\n       2, 2, 2, 2, 2, 2, 2, 1, 2, 2, 2, 2, 2, 2, 2, 2, 1, 2, 2, 1, 1, 2,\n       2, 2, 2, 2, 2, 2, 0, 2, 2, 2, 1, 2, 2, 2, 2, 2, 2, 2, 0, 2, 2, 1,\n       2, 2, 2, 2, 2, 2, 2, 1, 2, 2, 2, 2, 2, 2, 2, 2, 2, 2, 2, 2, 2, 2,\n       2, 2, 2, 2, 2, 2, 2, 2, 1, 2, 2, 2, 2, 1, 2, 2, 2, 2, 2, 1, 2, 2,\n       2, 1, 2, 2, 2, 2, 2, 1, 2, 2, 0, 2, 2, 2, 0, 2, 1, 2, 2, 0, 0, 1,\n       2, 0, 2, 0, 1, 1, 1, 2, 0, 1, 2, 2, 2, 1, 2, 2, 2, 2, 2, 2, 1, 2,\n       2, 1, 0, 2, 1, 2, 2, 2, 2, 2, 0, 2, 2, 2, 2, 2, 2, 2, 0, 2, 2, 1,\n       0, 1, 2, 2, 2, 2, 2, 2, 0, 2, 1, 1, 1, 0, 2, 2, 2, 2, 1, 2, 0, 2,\n       2, 2, 2, 2, 2, 2, 2, 2, 2, 2, 1, 2, 2, 2, 2, 2, 2, 2, 2, 1, 2, 2,\n       2, 2, 2, 2, 2, 2, 0, 2, 2, 0, 1, 2, 1, 2, 2, 2, 2, 2, 2, 2, 2, 2,\n       1, 2, 1, 2, 0, 2, 2, 2, 2, 2, 2, 2, 2, 2, 1, 0, 2, 2, 2, 2, 2, 2,\n       2, 2, 2, 2, 2, 0, 2, 0, 0, 2, 2, 2, 2, 2, 2, 2, 2, 2, 0, 2, 2, 2,\n       1, 2, 2, 2, 2, 2, 2, 2, 0, 0, 2, 0, 2, 2, 2, 2, 2, 1, 2, 2, 2, 2,\n       2, 1, 2, 1, 0, 2, 2, 2, 2, 2, 2, 2], dtype=int64)"
     },
     "execution_count": 216,
     "metadata": {},
     "output_type": "execute_result"
    }
   ],
   "source": [
    "y_pred = cross_val_predict(clf.best_estimator_,X_test,y_test)\n",
    "y_pred"
   ]
  },
  {
   "cell_type": "code",
   "execution_count": 217,
   "metadata": {
    "ExecuteTime": {
     "end_time": "2023-11-25T08:57:01.741769700Z",
     "start_time": "2023-11-25T08:57:01.712964Z"
    }
   },
   "outputs": [
    {
     "data": {
      "text/plain": "array([2, 2, 2, 2, 2, 2, 2, 2, 2, 2, 2, 2, 2, 2, 2, 2, 2, 2, 2, 2, 2, 2,\n       2, 2, 2, 2, 2, 2, 2, 1, 2, 2, 2, 2, 2, 2, 2, 2, 1, 2, 2, 1, 1, 2,\n       2, 2, 2, 2, 2, 2, 0, 2, 2, 2, 1, 2, 2, 2, 2, 2, 2, 2, 0, 2, 2, 1,\n       2, 2, 2, 2, 2, 2, 2, 1, 2, 2, 2, 2, 2, 2, 2, 2, 2, 2, 2, 2, 2, 2,\n       2, 2, 2, 2, 2, 2, 2, 2, 1, 2, 2, 2, 2, 1, 2, 2, 2, 2, 2, 1, 2, 2,\n       2, 1, 2, 2, 2, 2, 2, 1, 2, 2, 0, 2, 2, 2, 0, 2, 1, 2, 2, 0, 0, 1,\n       2, 0, 2, 0, 1, 1, 1, 2, 0, 1, 2, 2, 2, 1, 2, 2, 2, 2, 2, 2, 1, 2,\n       2, 1, 0, 2, 1, 2, 2, 2, 2, 2, 0, 2, 2, 2, 2, 2, 2, 2, 0, 2, 2, 1,\n       0, 1, 2, 2, 2, 2, 2, 2, 0, 2, 1, 1, 1, 0, 2, 2, 2, 2, 1, 2, 0, 2,\n       2, 2, 2, 2, 2, 2, 2, 2, 2, 2, 1, 2, 2, 2, 2, 2, 2, 2, 2, 1, 2, 2,\n       2, 2, 2, 2, 2, 2, 0, 2, 2, 0, 1, 2, 1, 2, 2, 2, 2, 2, 2, 2, 2, 2,\n       1, 2, 1, 2, 0, 2, 2, 2, 2, 2, 2, 2, 2, 2, 1, 0, 2, 2, 2, 2, 2, 2,\n       2, 2, 2, 2, 2, 0, 2, 0, 0, 2, 2, 2, 2, 2, 2, 2, 2, 2, 0, 2, 2, 2,\n       1, 2, 2, 2, 2, 2, 2, 2, 0, 0, 2, 0, 2, 2, 2, 2, 2, 1, 2, 2, 2, 2,\n       2, 1, 2, 1, 0, 2, 2, 2, 2, 2, 2, 2], dtype=int64)"
     },
     "execution_count": 217,
     "metadata": {},
     "output_type": "execute_result"
    }
   ],
   "source": [
    "y_pred_clf = clf.best_estimator_.predict(X_test)\n",
    "y_pred_clf"
   ]
  },
  {
   "cell_type": "code",
   "execution_count": 218,
   "metadata": {
    "ExecuteTime": {
     "end_time": "2023-11-25T08:57:01.741769700Z",
     "start_time": "2023-11-25T08:57:01.728963100Z"
    }
   },
   "outputs": [
    {
     "name": "stdout",
     "output_type": "stream",
     "text": [
      "precision =  1.0\n",
      "recall_score =  1.0\n",
      "f1_score 1.0\n"
     ]
    }
   ],
   "source": [
    "from sklearn.metrics import precision_score, recall_score, f1_score\n",
    "print('precision = ', precision_score(y_test,y_pred_clf ,average='macro'))\n",
    "print('recall_score = ', recall_score(y_test,y_pred_clf ,average='macro'))\n",
    "print('f1_score',f1_score(y_test,y_pred_clf ,average='macro'))"
   ]
  },
  {
   "cell_type": "code",
   "execution_count": 219,
   "metadata": {
    "ExecuteTime": {
     "end_time": "2023-11-25T08:57:03.299159400Z",
     "start_time": "2023-11-25T08:57:01.744769400Z"
    }
   },
   "outputs": [
    {
     "data": {
      "text/plain": "GridSearchCV(cv=3, estimator=GradientBoostingClassifier(),\n             param_grid={'learning_rate': [0.01, 0.1, 1], 'max_depth': [2],\n                         'n_estimators': [12, 14, 16], 'random_state': [2],\n                         'subsample': [0.7]},\n             scoring='f1_macro')",
      "text/html": "<style>#sk-container-id-12 {color: black;background-color: white;}#sk-container-id-12 pre{padding: 0;}#sk-container-id-12 div.sk-toggleable {background-color: white;}#sk-container-id-12 label.sk-toggleable__label {cursor: pointer;display: block;width: 100%;margin-bottom: 0;padding: 0.3em;box-sizing: border-box;text-align: center;}#sk-container-id-12 label.sk-toggleable__label-arrow:before {content: \"▸\";float: left;margin-right: 0.25em;color: #696969;}#sk-container-id-12 label.sk-toggleable__label-arrow:hover:before {color: black;}#sk-container-id-12 div.sk-estimator:hover label.sk-toggleable__label-arrow:before {color: black;}#sk-container-id-12 div.sk-toggleable__content {max-height: 0;max-width: 0;overflow: hidden;text-align: left;background-color: #f0f8ff;}#sk-container-id-12 div.sk-toggleable__content pre {margin: 0.2em;color: black;border-radius: 0.25em;background-color: #f0f8ff;}#sk-container-id-12 input.sk-toggleable__control:checked~div.sk-toggleable__content {max-height: 200px;max-width: 100%;overflow: auto;}#sk-container-id-12 input.sk-toggleable__control:checked~label.sk-toggleable__label-arrow:before {content: \"▾\";}#sk-container-id-12 div.sk-estimator input.sk-toggleable__control:checked~label.sk-toggleable__label {background-color: #d4ebff;}#sk-container-id-12 div.sk-label input.sk-toggleable__control:checked~label.sk-toggleable__label {background-color: #d4ebff;}#sk-container-id-12 input.sk-hidden--visually {border: 0;clip: rect(1px 1px 1px 1px);clip: rect(1px, 1px, 1px, 1px);height: 1px;margin: -1px;overflow: hidden;padding: 0;position: absolute;width: 1px;}#sk-container-id-12 div.sk-estimator {font-family: monospace;background-color: #f0f8ff;border: 1px dotted black;border-radius: 0.25em;box-sizing: border-box;margin-bottom: 0.5em;}#sk-container-id-12 div.sk-estimator:hover {background-color: #d4ebff;}#sk-container-id-12 div.sk-parallel-item::after {content: \"\";width: 100%;border-bottom: 1px solid gray;flex-grow: 1;}#sk-container-id-12 div.sk-label:hover label.sk-toggleable__label {background-color: #d4ebff;}#sk-container-id-12 div.sk-serial::before {content: \"\";position: absolute;border-left: 1px solid gray;box-sizing: border-box;top: 0;bottom: 0;left: 50%;z-index: 0;}#sk-container-id-12 div.sk-serial {display: flex;flex-direction: column;align-items: center;background-color: white;padding-right: 0.2em;padding-left: 0.2em;position: relative;}#sk-container-id-12 div.sk-item {position: relative;z-index: 1;}#sk-container-id-12 div.sk-parallel {display: flex;align-items: stretch;justify-content: center;background-color: white;position: relative;}#sk-container-id-12 div.sk-item::before, #sk-container-id-12 div.sk-parallel-item::before {content: \"\";position: absolute;border-left: 1px solid gray;box-sizing: border-box;top: 0;bottom: 0;left: 50%;z-index: -1;}#sk-container-id-12 div.sk-parallel-item {display: flex;flex-direction: column;z-index: 1;position: relative;background-color: white;}#sk-container-id-12 div.sk-parallel-item:first-child::after {align-self: flex-end;width: 50%;}#sk-container-id-12 div.sk-parallel-item:last-child::after {align-self: flex-start;width: 50%;}#sk-container-id-12 div.sk-parallel-item:only-child::after {width: 0;}#sk-container-id-12 div.sk-dashed-wrapped {border: 1px dashed gray;margin: 0 0.4em 0.5em 0.4em;box-sizing: border-box;padding-bottom: 0.4em;background-color: white;}#sk-container-id-12 div.sk-label label {font-family: monospace;font-weight: bold;display: inline-block;line-height: 1.2em;}#sk-container-id-12 div.sk-label-container {text-align: center;}#sk-container-id-12 div.sk-container {/* jupyter's `normalize.less` sets `[hidden] { display: none; }` but bootstrap.min.css set `[hidden] { display: none !important; }` so we also need the `!important` here to be able to override the default hidden behavior on the sphinx rendered scikit-learn.org. See: https://github.com/scikit-learn/scikit-learn/issues/21755 */display: inline-block !important;position: relative;}#sk-container-id-12 div.sk-text-repr-fallback {display: none;}</style><div id=\"sk-container-id-12\" class=\"sk-top-container\"><div class=\"sk-text-repr-fallback\"><pre>GridSearchCV(cv=3, estimator=GradientBoostingClassifier(),\n             param_grid={&#x27;learning_rate&#x27;: [0.01, 0.1, 1], &#x27;max_depth&#x27;: [2],\n                         &#x27;n_estimators&#x27;: [12, 14, 16], &#x27;random_state&#x27;: [2],\n                         &#x27;subsample&#x27;: [0.7]},\n             scoring=&#x27;f1_macro&#x27;)</pre><b>In a Jupyter environment, please rerun this cell to show the HTML representation or trust the notebook. <br />On GitHub, the HTML representation is unable to render, please try loading this page with nbviewer.org.</b></div><div class=\"sk-container\" hidden><div class=\"sk-item sk-dashed-wrapped\"><div class=\"sk-label-container\"><div class=\"sk-label sk-toggleable\"><input class=\"sk-toggleable__control sk-hidden--visually\" id=\"sk-estimator-id-34\" type=\"checkbox\" ><label for=\"sk-estimator-id-34\" class=\"sk-toggleable__label sk-toggleable__label-arrow\">GridSearchCV</label><div class=\"sk-toggleable__content\"><pre>GridSearchCV(cv=3, estimator=GradientBoostingClassifier(),\n             param_grid={&#x27;learning_rate&#x27;: [0.01, 0.1, 1], &#x27;max_depth&#x27;: [2],\n                         &#x27;n_estimators&#x27;: [12, 14, 16], &#x27;random_state&#x27;: [2],\n                         &#x27;subsample&#x27;: [0.7]},\n             scoring=&#x27;f1_macro&#x27;)</pre></div></div></div><div class=\"sk-parallel\"><div class=\"sk-parallel-item\"><div class=\"sk-item\"><div class=\"sk-label-container\"><div class=\"sk-label sk-toggleable\"><input class=\"sk-toggleable__control sk-hidden--visually\" id=\"sk-estimator-id-35\" type=\"checkbox\" ><label for=\"sk-estimator-id-35\" class=\"sk-toggleable__label sk-toggleable__label-arrow\">estimator: GradientBoostingClassifier</label><div class=\"sk-toggleable__content\"><pre>GradientBoostingClassifier()</pre></div></div></div><div class=\"sk-serial\"><div class=\"sk-item\"><div class=\"sk-estimator sk-toggleable\"><input class=\"sk-toggleable__control sk-hidden--visually\" id=\"sk-estimator-id-36\" type=\"checkbox\" ><label for=\"sk-estimator-id-36\" class=\"sk-toggleable__label sk-toggleable__label-arrow\">GradientBoostingClassifier</label><div class=\"sk-toggleable__content\"><pre>GradientBoostingClassifier()</pre></div></div></div></div></div></div></div></div></div></div>"
     },
     "execution_count": 219,
     "metadata": {},
     "output_type": "execute_result"
    }
   ],
   "source": [
    "from sklearn.model_selection import GridSearchCV\n",
    "\n",
    "parameters = {\n",
    "\n",
    "    'learning_rate': [0.01 , 0.1 ,1],\n",
    "    'n_estimators': [12,14,16],\n",
    "    'subsample' : [0.7],\n",
    "    'max_depth' : [2] ,\n",
    "    'random_state':[2]\n",
    "\n",
    "}\n",
    "GradientBoosting = GradientBoostingClassifier()\n",
    "clf = GridSearchCV(GradientBoosting, parameters , cv=3 , scoring='f1_macro')\n",
    "clf.fit(X_train,y_train)"
   ]
  },
  {
   "cell_type": "code",
   "execution_count": 220,
   "metadata": {
    "ExecuteTime": {
     "end_time": "2023-11-25T08:57:03.313240100Z",
     "start_time": "2023-11-25T08:57:03.300168100Z"
    }
   },
   "outputs": [],
   "source": [
    "import itertools"
   ]
  },
  {
   "cell_type": "code",
   "execution_count": 221,
   "metadata": {
    "ExecuteTime": {
     "end_time": "2023-11-25T08:57:03.339781600Z",
     "start_time": "2023-11-25T08:57:03.316214900Z"
    }
   },
   "outputs": [],
   "source": [
    "# result = itertools.combinations(X ,2)\n",
    "#\n",
    "# for item in result:\n",
    "#     df  = pd.DataFrame(item)\n",
    "#     X[list (item)]\n",
    "#     parameters = {\n",
    "#     'learning_rate': [0.01 , 0.1 ,1],\n",
    "#     'n_estimators': [12,14,16],\n",
    "#     'subsample' : [0.7],\n",
    "#     'max_depth' : [2] ,\n",
    "#     'random_state':[2]\n",
    "#     }\n",
    "#     GradientBoosting = GradientBoostingClassifier()\n",
    "#     clf = GridSearchCV(GradientBoosting , parameters , cv=3 , scoring='f1_macro')\n",
    "#     clf.fit(X_train[list (item)],y_train)\n",
    "#     clf.predict(X_test[list (item)])\n",
    "    #print('predict=',clf.predict(X_test[list (item)]))\n",
    "    #print(X_test)\n",
    "    #print(\"y_train = \",y_train)\n",
    "    # print(item)\n",
    "    # print(\"precision_score =\",precision_score(clf.predict(X[list(item)]),y))\n",
    "    #print(\"recall_score =\", recall_score(clf.predict(X[list(item)]),y))\n",
    "    #print(\"f_1=\",f1_score(clf.predict(X[list(item)]),y,average='macro'))\n",
    "    #print(\"f_1_X-test=\",f1_score(clf.predict(X_test[list(item)]),y_test,average='macro'))"
   ]
  },
  {
   "cell_type": "code",
   "execution_count": 222,
   "metadata": {
    "ExecuteTime": {
     "end_time": "2023-11-25T08:57:03.348939200Z",
     "start_time": "2023-11-25T08:57:03.332114700Z"
    }
   },
   "outputs": [],
   "source": [
    "import numpy as np\n",
    "import matplotlib.pyplot as plt\n",
    "from sklearn.linear_model import LinearRegression"
   ]
  },
  {
   "cell_type": "code",
   "execution_count": 223,
   "outputs": [
    {
     "ename": "ValueError",
     "evalue": "x and y must be the same size",
     "output_type": "error",
     "traceback": [
      "\u001B[1;31m---------------------------------------------------------------------------\u001B[0m",
      "\u001B[1;31mValueError\u001B[0m                                Traceback (most recent call last)",
      "Cell \u001B[1;32mIn[223], line 1\u001B[0m\n\u001B[1;32m----> 1\u001B[0m \u001B[43mplt\u001B[49m\u001B[38;5;241;43m.\u001B[39;49m\u001B[43mscatter\u001B[49m\u001B[43m(\u001B[49m\u001B[43mX\u001B[49m\u001B[43m \u001B[49m\u001B[43m,\u001B[49m\u001B[43m \u001B[49m\u001B[43my\u001B[49m\u001B[43m)\u001B[49m\n",
      "File \u001B[1;32m~\\AppData\\Local\\anaconda3\\lib\\site-packages\\matplotlib\\pyplot.py:2835\u001B[0m, in \u001B[0;36mscatter\u001B[1;34m(x, y, s, c, marker, cmap, norm, vmin, vmax, alpha, linewidths, edgecolors, plotnonfinite, data, **kwargs)\u001B[0m\n\u001B[0;32m   2830\u001B[0m \u001B[38;5;129m@_copy_docstring_and_deprecators\u001B[39m(Axes\u001B[38;5;241m.\u001B[39mscatter)\n\u001B[0;32m   2831\u001B[0m \u001B[38;5;28;01mdef\u001B[39;00m \u001B[38;5;21mscatter\u001B[39m(\n\u001B[0;32m   2832\u001B[0m         x, y, s\u001B[38;5;241m=\u001B[39m\u001B[38;5;28;01mNone\u001B[39;00m, c\u001B[38;5;241m=\u001B[39m\u001B[38;5;28;01mNone\u001B[39;00m, marker\u001B[38;5;241m=\u001B[39m\u001B[38;5;28;01mNone\u001B[39;00m, cmap\u001B[38;5;241m=\u001B[39m\u001B[38;5;28;01mNone\u001B[39;00m, norm\u001B[38;5;241m=\u001B[39m\u001B[38;5;28;01mNone\u001B[39;00m,\n\u001B[0;32m   2833\u001B[0m         vmin\u001B[38;5;241m=\u001B[39m\u001B[38;5;28;01mNone\u001B[39;00m, vmax\u001B[38;5;241m=\u001B[39m\u001B[38;5;28;01mNone\u001B[39;00m, alpha\u001B[38;5;241m=\u001B[39m\u001B[38;5;28;01mNone\u001B[39;00m, linewidths\u001B[38;5;241m=\u001B[39m\u001B[38;5;28;01mNone\u001B[39;00m, \u001B[38;5;241m*\u001B[39m,\n\u001B[0;32m   2834\u001B[0m         edgecolors\u001B[38;5;241m=\u001B[39m\u001B[38;5;28;01mNone\u001B[39;00m, plotnonfinite\u001B[38;5;241m=\u001B[39m\u001B[38;5;28;01mFalse\u001B[39;00m, data\u001B[38;5;241m=\u001B[39m\u001B[38;5;28;01mNone\u001B[39;00m, \u001B[38;5;241m*\u001B[39m\u001B[38;5;241m*\u001B[39mkwargs):\n\u001B[1;32m-> 2835\u001B[0m     __ret \u001B[38;5;241m=\u001B[39m gca()\u001B[38;5;241m.\u001B[39mscatter(\n\u001B[0;32m   2836\u001B[0m         x, y, s\u001B[38;5;241m=\u001B[39ms, c\u001B[38;5;241m=\u001B[39mc, marker\u001B[38;5;241m=\u001B[39mmarker, cmap\u001B[38;5;241m=\u001B[39mcmap, norm\u001B[38;5;241m=\u001B[39mnorm,\n\u001B[0;32m   2837\u001B[0m         vmin\u001B[38;5;241m=\u001B[39mvmin, vmax\u001B[38;5;241m=\u001B[39mvmax, alpha\u001B[38;5;241m=\u001B[39malpha, linewidths\u001B[38;5;241m=\u001B[39mlinewidths,\n\u001B[0;32m   2838\u001B[0m         edgecolors\u001B[38;5;241m=\u001B[39medgecolors, plotnonfinite\u001B[38;5;241m=\u001B[39mplotnonfinite,\n\u001B[0;32m   2839\u001B[0m         \u001B[38;5;241m*\u001B[39m\u001B[38;5;241m*\u001B[39m({\u001B[38;5;124m\"\u001B[39m\u001B[38;5;124mdata\u001B[39m\u001B[38;5;124m\"\u001B[39m: data} \u001B[38;5;28;01mif\u001B[39;00m data \u001B[38;5;129;01mis\u001B[39;00m \u001B[38;5;129;01mnot\u001B[39;00m \u001B[38;5;28;01mNone\u001B[39;00m \u001B[38;5;28;01melse\u001B[39;00m {}), \u001B[38;5;241m*\u001B[39m\u001B[38;5;241m*\u001B[39mkwargs)\n\u001B[0;32m   2840\u001B[0m     sci(__ret)\n\u001B[0;32m   2841\u001B[0m     \u001B[38;5;28;01mreturn\u001B[39;00m __ret\n",
      "File \u001B[1;32m~\\AppData\\Local\\anaconda3\\lib\\site-packages\\matplotlib\\__init__.py:1442\u001B[0m, in \u001B[0;36m_preprocess_data.<locals>.inner\u001B[1;34m(ax, data, *args, **kwargs)\u001B[0m\n\u001B[0;32m   1439\u001B[0m \u001B[38;5;129m@functools\u001B[39m\u001B[38;5;241m.\u001B[39mwraps(func)\n\u001B[0;32m   1440\u001B[0m \u001B[38;5;28;01mdef\u001B[39;00m \u001B[38;5;21minner\u001B[39m(ax, \u001B[38;5;241m*\u001B[39margs, data\u001B[38;5;241m=\u001B[39m\u001B[38;5;28;01mNone\u001B[39;00m, \u001B[38;5;241m*\u001B[39m\u001B[38;5;241m*\u001B[39mkwargs):\n\u001B[0;32m   1441\u001B[0m     \u001B[38;5;28;01mif\u001B[39;00m data \u001B[38;5;129;01mis\u001B[39;00m \u001B[38;5;28;01mNone\u001B[39;00m:\n\u001B[1;32m-> 1442\u001B[0m         \u001B[38;5;28;01mreturn\u001B[39;00m func(ax, \u001B[38;5;241m*\u001B[39m\u001B[38;5;28mmap\u001B[39m(sanitize_sequence, args), \u001B[38;5;241m*\u001B[39m\u001B[38;5;241m*\u001B[39mkwargs)\n\u001B[0;32m   1444\u001B[0m     bound \u001B[38;5;241m=\u001B[39m new_sig\u001B[38;5;241m.\u001B[39mbind(ax, \u001B[38;5;241m*\u001B[39margs, \u001B[38;5;241m*\u001B[39m\u001B[38;5;241m*\u001B[39mkwargs)\n\u001B[0;32m   1445\u001B[0m     auto_label \u001B[38;5;241m=\u001B[39m (bound\u001B[38;5;241m.\u001B[39marguments\u001B[38;5;241m.\u001B[39mget(label_namer)\n\u001B[0;32m   1446\u001B[0m                   \u001B[38;5;129;01mor\u001B[39;00m bound\u001B[38;5;241m.\u001B[39mkwargs\u001B[38;5;241m.\u001B[39mget(label_namer))\n",
      "File \u001B[1;32m~\\AppData\\Local\\anaconda3\\lib\\site-packages\\matplotlib\\axes\\_axes.py:4584\u001B[0m, in \u001B[0;36mAxes.scatter\u001B[1;34m(self, x, y, s, c, marker, cmap, norm, vmin, vmax, alpha, linewidths, edgecolors, plotnonfinite, **kwargs)\u001B[0m\n\u001B[0;32m   4582\u001B[0m y \u001B[38;5;241m=\u001B[39m np\u001B[38;5;241m.\u001B[39mma\u001B[38;5;241m.\u001B[39mravel(y)\n\u001B[0;32m   4583\u001B[0m \u001B[38;5;28;01mif\u001B[39;00m x\u001B[38;5;241m.\u001B[39msize \u001B[38;5;241m!=\u001B[39m y\u001B[38;5;241m.\u001B[39msize:\n\u001B[1;32m-> 4584\u001B[0m     \u001B[38;5;28;01mraise\u001B[39;00m \u001B[38;5;167;01mValueError\u001B[39;00m(\u001B[38;5;124m\"\u001B[39m\u001B[38;5;124mx and y must be the same size\u001B[39m\u001B[38;5;124m\"\u001B[39m)\n\u001B[0;32m   4586\u001B[0m \u001B[38;5;28;01mif\u001B[39;00m s \u001B[38;5;129;01mis\u001B[39;00m \u001B[38;5;28;01mNone\u001B[39;00m:\n\u001B[0;32m   4587\u001B[0m     s \u001B[38;5;241m=\u001B[39m (\u001B[38;5;241m20\u001B[39m \u001B[38;5;28;01mif\u001B[39;00m mpl\u001B[38;5;241m.\u001B[39mrcParams[\u001B[38;5;124m'\u001B[39m\u001B[38;5;124m_internal.classic_mode\u001B[39m\u001B[38;5;124m'\u001B[39m] \u001B[38;5;28;01melse\u001B[39;00m\n\u001B[0;32m   4588\u001B[0m          mpl\u001B[38;5;241m.\u001B[39mrcParams[\u001B[38;5;124m'\u001B[39m\u001B[38;5;124mlines.markersize\u001B[39m\u001B[38;5;124m'\u001B[39m] \u001B[38;5;241m*\u001B[39m\u001B[38;5;241m*\u001B[39m \u001B[38;5;241m2.0\u001B[39m)\n",
      "\u001B[1;31mValueError\u001B[0m: x and y must be the same size"
     ]
    },
    {
     "data": {
      "text/plain": "<Figure size 640x480 with 1 Axes>",
      "image/png": "[encoded data removed]"
     },
     "metadata": {},
     "output_type": "display_data"
    }
   ],
   "source": [
    "plt.scatter(X , y)"
   ],
   "metadata": {
    "collapsed": false,
    "ExecuteTime": {
     "end_time": "2023-11-25T08:57:03.581939900Z",
     "start_time": "2023-11-25T08:57:03.350945Z"
    }
   }
  },
  {
   "cell_type": "code",
   "execution_count": null,
   "outputs": [],
   "source": [
    "plt.plot(X_test,y_test)"
   ],
   "metadata": {
    "collapsed": false,
    "ExecuteTime": {
     "end_time": "2023-11-25T08:57:03.582940400Z",
     "start_time": "2023-11-25T08:57:03.582940400Z"
    }
   }
  },
  {
   "cell_type": "code",
   "execution_count": null,
   "outputs": [],
   "source": [
    "from sklearn.linear_model import LinearRegression\n",
    "from sklearn.metrics import r2_score\n",
    "reg_nnls = LinearRegression(positive=True)\n",
    "y_pred_nnls = reg_nnls.fit(X_train, y_train).predict(X_test)\n",
    "r2_score_nnls = r2_score(y_test, y_pred_nnls)\n",
    "print(\"NNLS R2 score\", r2_score_nnls)"
   ],
   "metadata": {
    "collapsed": false,
    "ExecuteTime": {
     "start_time": "2023-11-25T08:57:03.584941Z"
    }
   }
  },
  {
   "cell_type": "code",
   "execution_count": null,
   "outputs": [],
   "source": [],
   "metadata": {
    "collapsed": false,
    "ExecuteTime": {
     "start_time": "2023-11-25T08:57:03.585940600Z"
    }
   }
  }
 ],
 "metadata": {
  "kernelspec": {
   "display_name": "Python 3 (ipykernel)",
   "language": "python",
   "name": "python3"
  },
  "language_info": {
   "codemirror_mode": {
    "name": "ipython",
    "version": 3
   },
   "file_extension": ".py",
   "mimetype": "text/x-python",
   "name": "python",
   "nbconvert_exporter": "python",
   "pygments_lexer": "ipython3",
   "version": "3.10.9"
  }
 },
 "nbformat": 4,
 "nbformat_minor": 1
}
