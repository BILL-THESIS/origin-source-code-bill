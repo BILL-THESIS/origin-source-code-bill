{
 "cells": [
  {
   "cell_type": "code",
   "execution_count": 1,
   "metadata": {
    "collapsed": true,
    "ExecuteTime": {
     "end_time": "2023-08-07T11:30:17.041988100Z",
     "start_time": "2023-08-07T11:30:16.026876700Z"
    }
   },
   "outputs": [],
   "source": [
    "import pandas as pd\n",
    "from datetime import timedelta\n",
    "#Data processing\n",
    "from sklearn import preprocessing"
   ]
  },
  {
   "cell_type": "code",
   "execution_count": 2,
   "metadata": {
    "collapsed": false,
    "ExecuteTime": {
     "end_time": "2023-08-07T11:30:17.120796800Z",
     "start_time": "2023-08-07T11:30:17.044970Z"
    }
   },
   "outputs": [],
   "source": [
    "df = pd.read_parquet('../../Sonar/seatunnel_all_information.parquet')"
   ]
  },
  {
   "cell_type": "code",
   "execution_count": 3,
   "metadata": {
    "ExecuteTime": {
     "end_time": "2023-08-07T11:30:17.136017200Z",
     "start_time": "2023-08-07T11:30:17.121830300Z"
    }
   },
   "outputs": [
    {
     "data": {
      "text/plain": "0       3 days 01:27:48\n1       3 days 04:15:10\n2       0 days 05:24:03\n3       4 days 00:22:26\n4      12 days 00:39:27\n             ...       \n1063    0 days 00:43:10\n1064    0 days 19:01:39\n1065    0 days 00:16:22\n1066    0 days 00:33:35\n1067    0 days 00:09:14\nName: total_time, Length: 1068, dtype: timedelta64[ns]"
     },
     "execution_count": 3,
     "metadata": {},
     "output_type": "execute_result"
    }
   ],
   "source": [
    "df['total_time']"
   ]
  },
  {
   "cell_type": "code",
   "execution_count": 4,
   "metadata": {
    "collapsed": false,
    "ExecuteTime": {
     "end_time": "2023-08-07T11:30:17.194113500Z",
     "start_time": "2023-08-07T11:30:17.139214700Z"
    }
   },
   "outputs": [],
   "source": [
    "df['time'] = df['total_time'].astype('int64')"
   ]
  },
  {
   "cell_type": "code",
   "execution_count": 5,
   "metadata": {
    "ExecuteTime": {
     "end_time": "2023-08-07T11:30:17.209084900Z",
     "start_time": "2023-08-07T11:30:17.171949Z"
    }
   },
   "outputs": [
    {
     "data": {
      "text/plain": "0        264468000000000\n1        274510000000000\n2         19443000000000\n3        346946000000000\n4       1039167000000000\n              ...       \n1063       2590000000000\n1064      68499000000000\n1065        982000000000\n1066       2015000000000\n1067        554000000000\nName: time, Length: 1068, dtype: int64"
     },
     "execution_count": 5,
     "metadata": {},
     "output_type": "execute_result"
    }
   ],
   "source": [
    "df['time']"
   ]
  },
  {
   "cell_type": "code",
   "execution_count": 6,
   "metadata": {
    "collapsed": false,
    "ExecuteTime": {
     "end_time": "2023-08-07T11:30:17.210082400Z",
     "start_time": "2023-08-07T11:30:17.195133500Z"
    }
   },
   "outputs": [],
   "source": [
    "X = df.loc[:, ~df.columns.isin(['begin_sha', 'end_sha', 'begin_time', 'end_time', 'total_time'])]"
   ]
  },
  {
   "cell_type": "code",
   "execution_count": 7,
   "metadata": {
    "ExecuteTime": {
     "end_time": "2023-08-07T11:30:17.217592800Z",
     "start_time": "2023-08-07T11:30:17.208079300Z"
    }
   },
   "outputs": [],
   "source": [
    "cl = list(df['total_time'])\n"
   ]
  },
  {
   "cell_type": "code",
   "execution_count": 8,
   "metadata": {
    "collapsed": false,
    "ExecuteTime": {
     "end_time": "2023-08-07T11:30:17.244367900Z",
     "start_time": "2023-08-07T11:30:17.215078700Z"
    }
   },
   "outputs": [],
   "source": [
    "scaler = preprocessing.StandardScaler()\n",
    "df_scaler = scaler.fit_transform(X)\n",
    "df_scaler_col = pd.DataFrame(df_scaler)\n",
    "df_scaler = df_scaler.T"
   ]
  },
  {
   "cell_type": "code",
   "execution_count": 9,
   "metadata": {
    "ExecuteTime": {
     "end_time": "2023-08-07T11:30:17.244367900Z",
     "start_time": "2023-08-07T11:30:17.231107700Z"
    }
   },
   "outputs": [
    {
     "data": {
      "text/plain": "(15, 1068)"
     },
     "execution_count": 9,
     "metadata": {},
     "output_type": "execute_result"
    }
   ],
   "source": [
    "df_scaler.shape"
   ]
  },
  {
   "cell_type": "code",
   "execution_count": 10,
   "metadata": {
    "collapsed": false,
    "ExecuteTime": {
     "end_time": "2023-08-07T11:30:17.258756600Z",
     "start_time": "2023-08-07T11:30:17.246878Z"
    }
   },
   "outputs": [
    {
     "data": {
      "text/plain": "MinMaxScaler()",
      "text/html": "<style>#sk-container-id-1 {color: black;background-color: white;}#sk-container-id-1 pre{padding: 0;}#sk-container-id-1 div.sk-toggleable {background-color: white;}#sk-container-id-1 label.sk-toggleable__label {cursor: pointer;display: block;width: 100%;margin-bottom: 0;padding: 0.3em;box-sizing: border-box;text-align: center;}#sk-container-id-1 label.sk-toggleable__label-arrow:before {content: \"▸\";float: left;margin-right: 0.25em;color: #696969;}#sk-container-id-1 label.sk-toggleable__label-arrow:hover:before {color: black;}#sk-container-id-1 div.sk-estimator:hover label.sk-toggleable__label-arrow:before {color: black;}#sk-container-id-1 div.sk-toggleable__content {max-height: 0;max-width: 0;overflow: hidden;text-align: left;background-color: #f0f8ff;}#sk-container-id-1 div.sk-toggleable__content pre {margin: 0.2em;color: black;border-radius: 0.25em;background-color: #f0f8ff;}#sk-container-id-1 input.sk-toggleable__control:checked~div.sk-toggleable__content {max-height: 200px;max-width: 100%;overflow: auto;}#sk-container-id-1 input.sk-toggleable__control:checked~label.sk-toggleable__label-arrow:before {content: \"▾\";}#sk-container-id-1 div.sk-estimator input.sk-toggleable__control:checked~label.sk-toggleable__label {background-color: #d4ebff;}#sk-container-id-1 div.sk-label input.sk-toggleable__control:checked~label.sk-toggleable__label {background-color: #d4ebff;}#sk-container-id-1 input.sk-hidden--visually {border: 0;clip: rect(1px 1px 1px 1px);clip: rect(1px, 1px, 1px, 1px);height: 1px;margin: -1px;overflow: hidden;padding: 0;position: absolute;width: 1px;}#sk-container-id-1 div.sk-estimator {font-family: monospace;background-color: #f0f8ff;border: 1px dotted black;border-radius: 0.25em;box-sizing: border-box;margin-bottom: 0.5em;}#sk-container-id-1 div.sk-estimator:hover {background-color: #d4ebff;}#sk-container-id-1 div.sk-parallel-item::after {content: \"\";width: 100%;border-bottom: 1px solid gray;flex-grow: 1;}#sk-container-id-1 div.sk-label:hover label.sk-toggleable__label {background-color: #d4ebff;}#sk-container-id-1 div.sk-serial::before {content: \"\";position: absolute;border-left: 1px solid gray;box-sizing: border-box;top: 0;bottom: 0;left: 50%;z-index: 0;}#sk-container-id-1 div.sk-serial {display: flex;flex-direction: column;align-items: center;background-color: white;padding-right: 0.2em;padding-left: 0.2em;position: relative;}#sk-container-id-1 div.sk-item {position: relative;z-index: 1;}#sk-container-id-1 div.sk-parallel {display: flex;align-items: stretch;justify-content: center;background-color: white;position: relative;}#sk-container-id-1 div.sk-item::before, #sk-container-id-1 div.sk-parallel-item::before {content: \"\";position: absolute;border-left: 1px solid gray;box-sizing: border-box;top: 0;bottom: 0;left: 50%;z-index: -1;}#sk-container-id-1 div.sk-parallel-item {display: flex;flex-direction: column;z-index: 1;position: relative;background-color: white;}#sk-container-id-1 div.sk-parallel-item:first-child::after {align-self: flex-end;width: 50%;}#sk-container-id-1 div.sk-parallel-item:last-child::after {align-self: flex-start;width: 50%;}#sk-container-id-1 div.sk-parallel-item:only-child::after {width: 0;}#sk-container-id-1 div.sk-dashed-wrapped {border: 1px dashed gray;margin: 0 0.4em 0.5em 0.4em;box-sizing: border-box;padding-bottom: 0.4em;background-color: white;}#sk-container-id-1 div.sk-label label {font-family: monospace;font-weight: bold;display: inline-block;line-height: 1.2em;}#sk-container-id-1 div.sk-label-container {text-align: center;}#sk-container-id-1 div.sk-container {/* jupyter's `normalize.less` sets `[hidden] { display: none; }` but bootstrap.min.css set `[hidden] { display: none !important; }` so we also need the `!important` here to be able to override the default hidden behavior on the sphinx rendered scikit-learn.org. See: https://github.com/scikit-learn/scikit-learn/issues/21755 */display: inline-block !important;position: relative;}#sk-container-id-1 div.sk-text-repr-fallback {display: none;}</style><div id=\"sk-container-id-1\" class=\"sk-top-container\"><div class=\"sk-text-repr-fallback\"><pre>MinMaxScaler()</pre><b>In a Jupyter environment, please rerun this cell to show the HTML representation or trust the notebook. <br />On GitHub, the HTML representation is unable to render, please try loading this page with nbviewer.org.</b></div><div class=\"sk-container\" hidden><div class=\"sk-item\"><div class=\"sk-estimator sk-toggleable\"><input class=\"sk-toggleable__control sk-hidden--visually\" id=\"sk-estimator-id-1\" type=\"checkbox\" checked><label for=\"sk-estimator-id-1\" class=\"sk-toggleable__label sk-toggleable__label-arrow\">MinMaxScaler</label><div class=\"sk-toggleable__content\"><pre>MinMaxScaler()</pre></div></div></div></div></div>"
     },
     "execution_count": 10,
     "metadata": {},
     "output_type": "execute_result"
    }
   ],
   "source": [
    "scaler_1 = preprocessing.MinMaxScaler()\n",
    "scaler_1"
   ]
  },
  {
   "cell_type": "code",
   "execution_count": 11,
   "metadata": {
    "collapsed": false,
    "ExecuteTime": {
     "end_time": "2023-08-07T11:30:17.303958100Z",
     "start_time": "2023-08-07T11:30:17.260758400Z"
    }
   },
   "outputs": [
    {
     "data": {
      "text/plain": "array([[-0.42596475, -0.42596475, -0.42596475, ..., -0.3000499 ,\n        -0.42596475, -0.42596475],\n       [-0.18637973, -0.19174952, -0.1689279 , ..., -0.1467775 ,\n        -0.1857085 , -0.1689279 ],\n       [-0.10965006, -0.11246059, -0.05062898, ..., -0.06749214,\n         0.94336106, -0.11339743],\n       ...,\n       [ 1.61264794,  1.61264794,  1.61264794, ..., -1.25918689,\n        -1.25918689, -1.24951741],\n       [ 1.49403151,  1.49403151,  1.49403151, ..., -1.44065797,\n        -1.44065797, -1.44065797],\n       [-0.06703928, -0.05292508, -0.41142581, ..., -0.43737304,\n        -0.43592114, -0.4379746 ]])"
     },
     "execution_count": 11,
     "metadata": {},
     "output_type": "execute_result"
    }
   ],
   "source": [
    "df_scaler"
   ]
  },
  {
   "cell_type": "code",
   "execution_count": 12,
   "metadata": {
    "collapsed": false,
    "ExecuteTime": {
     "end_time": "2023-08-07T11:30:17.430920700Z",
     "start_time": "2023-08-07T11:30:17.276822500Z"
    }
   },
   "outputs": [],
   "source": [
    "#Silhouette analysis\n",
    "from sklearn.cluster import KMeans\n",
    "from sklearn.metrics import silhouette_score"
   ]
  },
  {
   "cell_type": "code",
   "execution_count": 13,
   "metadata": {
    "collapsed": false,
    "ExecuteTime": {
     "end_time": "2023-08-07T11:30:21.926726700Z",
     "start_time": "2023-08-07T11:30:17.434922200Z"
    }
   },
   "outputs": [
    {
     "name": "stderr",
     "output_type": "stream",
     "text": [
      "C:\\Users\\patcharaprapa_k\\AppData\\Local\\anaconda3\\lib\\site-packages\\sklearn\\cluster\\_kmeans.py:870: FutureWarning: The default value of `n_init` will change from 10 to 'auto' in 1.4. Set the value of `n_init` explicitly to suppress the warning\n",
      "  warnings.warn(\n",
      "C:\\Users\\patcharaprapa_k\\AppData\\Local\\anaconda3\\lib\\site-packages\\sklearn\\cluster\\_kmeans.py:1382: UserWarning: KMeans is known to have a memory leak on Windows with MKL, when there are less chunks than available threads. You can avoid it by setting the environment variable OMP_NUM_THREADS=1.\n",
      "  warnings.warn(\n",
      "C:\\Users\\patcharaprapa_k\\AppData\\Local\\anaconda3\\lib\\site-packages\\sklearn\\cluster\\_kmeans.py:870: FutureWarning: The default value of `n_init` will change from 10 to 'auto' in 1.4. Set the value of `n_init` explicitly to suppress the warning\n",
      "  warnings.warn(\n",
      "C:\\Users\\patcharaprapa_k\\AppData\\Local\\anaconda3\\lib\\site-packages\\sklearn\\cluster\\_kmeans.py:1382: UserWarning: KMeans is known to have a memory leak on Windows with MKL, when there are less chunks than available threads. You can avoid it by setting the environment variable OMP_NUM_THREADS=1.\n",
      "  warnings.warn(\n",
      "C:\\Users\\patcharaprapa_k\\AppData\\Local\\anaconda3\\lib\\site-packages\\sklearn\\cluster\\_kmeans.py:870: FutureWarning: The default value of `n_init` will change from 10 to 'auto' in 1.4. Set the value of `n_init` explicitly to suppress the warning\n",
      "  warnings.warn(\n",
      "C:\\Users\\patcharaprapa_k\\AppData\\Local\\anaconda3\\lib\\site-packages\\sklearn\\cluster\\_kmeans.py:1382: UserWarning: KMeans is known to have a memory leak on Windows with MKL, when there are less chunks than available threads. You can avoid it by setting the environment variable OMP_NUM_THREADS=1.\n",
      "  warnings.warn(\n",
      "C:\\Users\\patcharaprapa_k\\AppData\\Local\\anaconda3\\lib\\site-packages\\sklearn\\cluster\\_kmeans.py:870: FutureWarning: The default value of `n_init` will change from 10 to 'auto' in 1.4. Set the value of `n_init` explicitly to suppress the warning\n",
      "  warnings.warn(\n",
      "C:\\Users\\patcharaprapa_k\\AppData\\Local\\anaconda3\\lib\\site-packages\\sklearn\\cluster\\_kmeans.py:1382: UserWarning: KMeans is known to have a memory leak on Windows with MKL, when there are less chunks than available threads. You can avoid it by setting the environment variable OMP_NUM_THREADS=1.\n",
      "  warnings.warn(\n",
      "C:\\Users\\patcharaprapa_k\\AppData\\Local\\anaconda3\\lib\\site-packages\\sklearn\\cluster\\_kmeans.py:870: FutureWarning: The default value of `n_init` will change from 10 to 'auto' in 1.4. Set the value of `n_init` explicitly to suppress the warning\n",
      "  warnings.warn(\n",
      "C:\\Users\\patcharaprapa_k\\AppData\\Local\\anaconda3\\lib\\site-packages\\sklearn\\cluster\\_kmeans.py:1382: UserWarning: KMeans is known to have a memory leak on Windows with MKL, when there are less chunks than available threads. You can avoid it by setting the environment variable OMP_NUM_THREADS=1.\n",
      "  warnings.warn(\n",
      "C:\\Users\\patcharaprapa_k\\AppData\\Local\\anaconda3\\lib\\site-packages\\sklearn\\cluster\\_kmeans.py:870: FutureWarning: The default value of `n_init` will change from 10 to 'auto' in 1.4. Set the value of `n_init` explicitly to suppress the warning\n",
      "  warnings.warn(\n",
      "C:\\Users\\patcharaprapa_k\\AppData\\Local\\anaconda3\\lib\\site-packages\\sklearn\\cluster\\_kmeans.py:1382: UserWarning: KMeans is known to have a memory leak on Windows with MKL, when there are less chunks than available threads. You can avoid it by setting the environment variable OMP_NUM_THREADS=1.\n",
      "  warnings.warn(\n",
      "C:\\Users\\patcharaprapa_k\\AppData\\Local\\anaconda3\\lib\\site-packages\\sklearn\\cluster\\_kmeans.py:870: FutureWarning: The default value of `n_init` will change from 10 to 'auto' in 1.4. Set the value of `n_init` explicitly to suppress the warning\n",
      "  warnings.warn(\n",
      "C:\\Users\\patcharaprapa_k\\AppData\\Local\\anaconda3\\lib\\site-packages\\sklearn\\cluster\\_kmeans.py:1382: UserWarning: KMeans is known to have a memory leak on Windows with MKL, when there are less chunks than available threads. You can avoid it by setting the environment variable OMP_NUM_THREADS=1.\n",
      "  warnings.warn(\n",
      "C:\\Users\\patcharaprapa_k\\AppData\\Local\\anaconda3\\lib\\site-packages\\sklearn\\cluster\\_kmeans.py:870: FutureWarning: The default value of `n_init` will change from 10 to 'auto' in 1.4. Set the value of `n_init` explicitly to suppress the warning\n",
      "  warnings.warn(\n",
      "C:\\Users\\patcharaprapa_k\\AppData\\Local\\anaconda3\\lib\\site-packages\\sklearn\\cluster\\_kmeans.py:1382: UserWarning: KMeans is known to have a memory leak on Windows with MKL, when there are less chunks than available threads. You can avoid it by setting the environment variable OMP_NUM_THREADS=1.\n",
      "  warnings.warn(\n",
      "C:\\Users\\patcharaprapa_k\\AppData\\Local\\anaconda3\\lib\\site-packages\\sklearn\\cluster\\_kmeans.py:870: FutureWarning: The default value of `n_init` will change from 10 to 'auto' in 1.4. Set the value of `n_init` explicitly to suppress the warning\n",
      "  warnings.warn(\n",
      "C:\\Users\\patcharaprapa_k\\AppData\\Local\\anaconda3\\lib\\site-packages\\sklearn\\cluster\\_kmeans.py:1382: UserWarning: KMeans is known to have a memory leak on Windows with MKL, when there are less chunks than available threads. You can avoid it by setting the environment variable OMP_NUM_THREADS=1.\n",
      "  warnings.warn(\n",
      "C:\\Users\\patcharaprapa_k\\AppData\\Local\\anaconda3\\lib\\site-packages\\sklearn\\cluster\\_kmeans.py:870: FutureWarning: The default value of `n_init` will change from 10 to 'auto' in 1.4. Set the value of `n_init` explicitly to suppress the warning\n",
      "  warnings.warn(\n",
      "C:\\Users\\patcharaprapa_k\\AppData\\Local\\anaconda3\\lib\\site-packages\\sklearn\\cluster\\_kmeans.py:1382: UserWarning: KMeans is known to have a memory leak on Windows with MKL, when there are less chunks than available threads. You can avoid it by setting the environment variable OMP_NUM_THREADS=1.\n",
      "  warnings.warn(\n",
      "C:\\Users\\patcharaprapa_k\\AppData\\Local\\anaconda3\\lib\\site-packages\\sklearn\\cluster\\_kmeans.py:870: FutureWarning: The default value of `n_init` will change from 10 to 'auto' in 1.4. Set the value of `n_init` explicitly to suppress the warning\n",
      "  warnings.warn(\n",
      "C:\\Users\\patcharaprapa_k\\AppData\\Local\\anaconda3\\lib\\site-packages\\sklearn\\cluster\\_kmeans.py:1382: UserWarning: KMeans is known to have a memory leak on Windows with MKL, when there are less chunks than available threads. You can avoid it by setting the environment variable OMP_NUM_THREADS=1.\n",
      "  warnings.warn(\n",
      "C:\\Users\\patcharaprapa_k\\AppData\\Local\\anaconda3\\lib\\site-packages\\sklearn\\cluster\\_kmeans.py:870: FutureWarning: The default value of `n_init` will change from 10 to 'auto' in 1.4. Set the value of `n_init` explicitly to suppress the warning\n",
      "  warnings.warn(\n",
      "C:\\Users\\patcharaprapa_k\\AppData\\Local\\anaconda3\\lib\\site-packages\\sklearn\\cluster\\_kmeans.py:1382: UserWarning: KMeans is known to have a memory leak on Windows with MKL, when there are less chunks than available threads. You can avoid it by setting the environment variable OMP_NUM_THREADS=1.\n",
      "  warnings.warn(\n",
      "C:\\Users\\patcharaprapa_k\\AppData\\Local\\Temp\\ipykernel_15816\\1243137686.py:5: ConvergenceWarning: Number of distinct clusters (12) found smaller than n_clusters (13). Possibly due to duplicate points in X.\n",
      "  km.fit(df_scaler)\n",
      "C:\\Users\\patcharaprapa_k\\AppData\\Local\\anaconda3\\lib\\site-packages\\sklearn\\cluster\\_kmeans.py:870: FutureWarning: The default value of `n_init` will change from 10 to 'auto' in 1.4. Set the value of `n_init` explicitly to suppress the warning\n",
      "  warnings.warn(\n",
      "C:\\Users\\patcharaprapa_k\\AppData\\Local\\anaconda3\\lib\\site-packages\\sklearn\\cluster\\_kmeans.py:1382: UserWarning: KMeans is known to have a memory leak on Windows with MKL, when there are less chunks than available threads. You can avoid it by setting the environment variable OMP_NUM_THREADS=1.\n",
      "  warnings.warn(\n",
      "C:\\Users\\patcharaprapa_k\\AppData\\Local\\Temp\\ipykernel_15816\\1243137686.py:5: ConvergenceWarning: Number of distinct clusters (12) found smaller than n_clusters (14). Possibly due to duplicate points in X.\n",
      "  km.fit(df_scaler)\n"
     ]
    }
   ],
   "source": [
    "number_of_cluster = []\n",
    "\n",
    "for i in range(2, len(df_scaler)):\n",
    "    km = KMeans(n_clusters = i)\n",
    "    km.fit(df_scaler)\n",
    "    sil_avg = silhouette_score(df_scaler, km.labels_).round(4)\n",
    "    number_of_cluster.append([sil_avg , i])"
   ]
  },
  {
   "cell_type": "code",
   "execution_count": 14,
   "metadata": {
    "collapsed": false,
    "ExecuteTime": {
     "end_time": "2023-08-07T11:30:21.972788300Z",
     "start_time": "2023-08-07T11:30:21.932732400Z"
    }
   },
   "outputs": [
    {
     "name": "stdout",
     "output_type": "stream",
     "text": [
      "Optimum number of cluster: 3\n"
     ]
    }
   ],
   "source": [
    "print(f'Optimum number of cluster: {max(number_of_cluster)[1]}')"
   ]
  },
  {
   "cell_type": "code",
   "execution_count": 15,
   "metadata": {
    "collapsed": false,
    "ExecuteTime": {
     "end_time": "2023-08-07T11:30:21.979302300Z",
     "start_time": "2023-08-07T11:30:21.944245700Z"
    }
   },
   "outputs": [
    {
     "data": {
      "text/plain": "KMeans(n_clusters=14)",
      "text/html": "<style>#sk-container-id-2 {color: black;background-color: white;}#sk-container-id-2 pre{padding: 0;}#sk-container-id-2 div.sk-toggleable {background-color: white;}#sk-container-id-2 label.sk-toggleable__label {cursor: pointer;display: block;width: 100%;margin-bottom: 0;padding: 0.3em;box-sizing: border-box;text-align: center;}#sk-container-id-2 label.sk-toggleable__label-arrow:before {content: \"▸\";float: left;margin-right: 0.25em;color: #696969;}#sk-container-id-2 label.sk-toggleable__label-arrow:hover:before {color: black;}#sk-container-id-2 div.sk-estimator:hover label.sk-toggleable__label-arrow:before {color: black;}#sk-container-id-2 div.sk-toggleable__content {max-height: 0;max-width: 0;overflow: hidden;text-align: left;background-color: #f0f8ff;}#sk-container-id-2 div.sk-toggleable__content pre {margin: 0.2em;color: black;border-radius: 0.25em;background-color: #f0f8ff;}#sk-container-id-2 input.sk-toggleable__control:checked~div.sk-toggleable__content {max-height: 200px;max-width: 100%;overflow: auto;}#sk-container-id-2 input.sk-toggleable__control:checked~label.sk-toggleable__label-arrow:before {content: \"▾\";}#sk-container-id-2 div.sk-estimator input.sk-toggleable__control:checked~label.sk-toggleable__label {background-color: #d4ebff;}#sk-container-id-2 div.sk-label input.sk-toggleable__control:checked~label.sk-toggleable__label {background-color: #d4ebff;}#sk-container-id-2 input.sk-hidden--visually {border: 0;clip: rect(1px 1px 1px 1px);clip: rect(1px, 1px, 1px, 1px);height: 1px;margin: -1px;overflow: hidden;padding: 0;position: absolute;width: 1px;}#sk-container-id-2 div.sk-estimator {font-family: monospace;background-color: #f0f8ff;border: 1px dotted black;border-radius: 0.25em;box-sizing: border-box;margin-bottom: 0.5em;}#sk-container-id-2 div.sk-estimator:hover {background-color: #d4ebff;}#sk-container-id-2 div.sk-parallel-item::after {content: \"\";width: 100%;border-bottom: 1px solid gray;flex-grow: 1;}#sk-container-id-2 div.sk-label:hover label.sk-toggleable__label {background-color: #d4ebff;}#sk-container-id-2 div.sk-serial::before {content: \"\";position: absolute;border-left: 1px solid gray;box-sizing: border-box;top: 0;bottom: 0;left: 50%;z-index: 0;}#sk-container-id-2 div.sk-serial {display: flex;flex-direction: column;align-items: center;background-color: white;padding-right: 0.2em;padding-left: 0.2em;position: relative;}#sk-container-id-2 div.sk-item {position: relative;z-index: 1;}#sk-container-id-2 div.sk-parallel {display: flex;align-items: stretch;justify-content: center;background-color: white;position: relative;}#sk-container-id-2 div.sk-item::before, #sk-container-id-2 div.sk-parallel-item::before {content: \"\";position: absolute;border-left: 1px solid gray;box-sizing: border-box;top: 0;bottom: 0;left: 50%;z-index: -1;}#sk-container-id-2 div.sk-parallel-item {display: flex;flex-direction: column;z-index: 1;position: relative;background-color: white;}#sk-container-id-2 div.sk-parallel-item:first-child::after {align-self: flex-end;width: 50%;}#sk-container-id-2 div.sk-parallel-item:last-child::after {align-self: flex-start;width: 50%;}#sk-container-id-2 div.sk-parallel-item:only-child::after {width: 0;}#sk-container-id-2 div.sk-dashed-wrapped {border: 1px dashed gray;margin: 0 0.4em 0.5em 0.4em;box-sizing: border-box;padding-bottom: 0.4em;background-color: white;}#sk-container-id-2 div.sk-label label {font-family: monospace;font-weight: bold;display: inline-block;line-height: 1.2em;}#sk-container-id-2 div.sk-label-container {text-align: center;}#sk-container-id-2 div.sk-container {/* jupyter's `normalize.less` sets `[hidden] { display: none; }` but bootstrap.min.css set `[hidden] { display: none !important; }` so we also need the `!important` here to be able to override the default hidden behavior on the sphinx rendered scikit-learn.org. See: https://github.com/scikit-learn/scikit-learn/issues/21755 */display: inline-block !important;position: relative;}#sk-container-id-2 div.sk-text-repr-fallback {display: none;}</style><div id=\"sk-container-id-2\" class=\"sk-top-container\"><div class=\"sk-text-repr-fallback\"><pre>KMeans(n_clusters=14)</pre><b>In a Jupyter environment, please rerun this cell to show the HTML representation or trust the notebook. <br />On GitHub, the HTML representation is unable to render, please try loading this page with nbviewer.org.</b></div><div class=\"sk-container\" hidden><div class=\"sk-item\"><div class=\"sk-estimator sk-toggleable\"><input class=\"sk-toggleable__control sk-hidden--visually\" id=\"sk-estimator-id-2\" type=\"checkbox\" checked><label for=\"sk-estimator-id-2\" class=\"sk-toggleable__label sk-toggleable__label-arrow\">KMeans</label><div class=\"sk-toggleable__content\"><pre>KMeans(n_clusters=14)</pre></div></div></div></div></div>"
     },
     "execution_count": 15,
     "metadata": {},
     "output_type": "execute_result"
    }
   ],
   "source": [
    "km"
   ]
  },
  {
   "cell_type": "code",
   "execution_count": 16,
   "metadata": {
    "collapsed": false,
    "ExecuteTime": {
     "end_time": "2023-08-07T11:30:22.028876300Z",
     "start_time": "2023-08-07T11:30:21.959274200Z"
    }
   },
   "outputs": [],
   "source": [
    "import numpy as np\n",
    "\n",
    "from sklearn.datasets import make_blobs\n",
    "\n",
    "np.random.seed(0)\n",
    "\n",
    "batch_size = 45\n",
    "centers = number_of_cluster\n",
    "n_clusters = len(centers)\n",
    "X , labels_true = make_blobs(n_samples=1068, centers=centers, cluster_std=0.7)"
   ]
  },
  {
   "cell_type": "code",
   "execution_count": 17,
   "metadata": {
    "ExecuteTime": {
     "end_time": "2023-08-07T11:30:22.305605900Z",
     "start_time": "2023-08-07T11:30:22.025863100Z"
    }
   },
   "outputs": [
    {
     "name": "stderr",
     "output_type": "stream",
     "text": [
      "C:\\Users\\patcharaprapa_k\\AppData\\Local\\anaconda3\\lib\\site-packages\\sklearn\\cluster\\_kmeans.py:1382: UserWarning: KMeans is known to have a memory leak on Windows with MKL, when there are less chunks than available threads. You can avoid it by setting the environment variable OMP_NUM_THREADS=5.\n",
      "  warnings.warn(\n"
     ]
    }
   ],
   "source": [
    "import time\n",
    "\n",
    "from sklearn.cluster import KMeans\n",
    "\n",
    "k_means = KMeans(init=\"k-means++\", n_clusters=max(number_of_cluster)[1], n_init=10)\n",
    "t0 = time.time()\n",
    "k_means.fit(X)\n",
    "t_batch = time.time() - t0"
   ]
  },
  {
   "cell_type": "code",
   "execution_count": 18,
   "metadata": {
    "ExecuteTime": {
     "end_time": "2023-08-07T11:30:22.648953200Z",
     "start_time": "2023-08-07T11:30:22.306109800Z"
    }
   },
   "outputs": [
    {
     "name": "stderr",
     "output_type": "stream",
     "text": [
      "C:\\Users\\patcharaprapa_k\\AppData\\Local\\anaconda3\\lib\\site-packages\\sklearn\\cluster\\_kmeans.py:1902: UserWarning: MiniBatchKMeans is known to have a memory leak on Windows with MKL, when there are less chunks than available threads. You can prevent it by setting batch_size >= 2048 or by setting the environment variable OMP_NUM_THREADS=1\n",
      "  warnings.warn(\n"
     ]
    }
   ],
   "source": [
    "from sklearn.cluster import MiniBatchKMeans\n",
    "\n",
    "mbk = MiniBatchKMeans(\n",
    "    init=\"k-means++\",\n",
    "    n_clusters=max(number_of_cluster)[1],\n",
    "    batch_size=batch_size,\n",
    "    n_init=10,\n",
    "    max_no_improvement=10,\n",
    "    verbose=0,\n",
    ")\n",
    "t0 = time.time()\n",
    "mbk.fit(X)\n",
    "t_mini_batch = time.time() - t0"
   ]
  },
  {
   "cell_type": "code",
   "execution_count": 19,
   "metadata": {
    "ExecuteTime": {
     "end_time": "2023-08-07T11:30:22.742041400Z",
     "start_time": "2023-08-07T11:30:22.650954500Z"
    }
   },
   "outputs": [],
   "source": [
    "from sklearn.metrics.pairwise import pairwise_distances_argmin\n",
    "\n",
    "k_means_cluster_centers = k_means.cluster_centers_\n",
    "order = pairwise_distances_argmin(k_means.cluster_centers_, mbk.cluster_centers_)\n",
    "mbk_means_cluster_centers = mbk.cluster_centers_[order]\n",
    "\n",
    "k_means_labels = pairwise_distances_argmin(X, k_means_cluster_centers)\n",
    "mbk_means_labels = pairwise_distances_argmin(X, mbk_means_cluster_centers)"
   ]
  },
  {
   "cell_type": "code",
   "execution_count": 20,
   "metadata": {
    "ExecuteTime": {
     "end_time": "2023-08-07T11:30:22.758059900Z",
     "start_time": "2023-08-07T11:30:22.743043100Z"
    }
   },
   "outputs": [
    {
     "data": {
      "text/plain": "array([0, 0, 0, ..., 0, 2, 2], dtype=int64)"
     },
     "execution_count": 20,
     "metadata": {},
     "output_type": "execute_result"
    }
   ],
   "source": [
    "k_means_labels"
   ]
  },
  {
   "cell_type": "code",
   "execution_count": 21,
   "metadata": {
    "collapsed": false,
    "ExecuteTime": {
     "end_time": "2023-08-07T11:30:23.354151200Z",
     "start_time": "2023-08-07T11:30:22.766563500Z"
    }
   },
   "outputs": [
    {
     "data": {
      "text/plain": "<Figure size 800x300 with 3 Axes>",
      "image/png": "[encoded data removed]"
     },
     "metadata": {},
     "output_type": "display_data"
    }
   ],
   "source": [
    "import matplotlib.pyplot as plt\n",
    "\n",
    "fig = plt.figure(figsize=(8, 3))\n",
    "fig.subplots_adjust(left=0.02, right=0.98, bottom=0.05, top=0.9)\n",
    "colors = [\"#4EACC5\", \"#FF9C34\", \"#4E9A06\"]\n",
    "\n",
    "# KMeans\n",
    "ax = fig.add_subplot(1, 3, 1)\n",
    "for k, col in zip(range(n_clusters), colors):\n",
    "    my_members = k_means_labels == k\n",
    "    cluster_center = k_means_cluster_centers[k]\n",
    "    ax.plot(X[my_members, 0], X[my_members, 1], \"w\", markerfacecolor=col, marker=\".\")\n",
    "    ax.plot(\n",
    "        cluster_center[0],\n",
    "        cluster_center[1],\n",
    "        \"o\",\n",
    "        markerfacecolor=col,\n",
    "        markeredgecolor=\"k\",\n",
    "        markersize=6,\n",
    "    )\n",
    "ax.set_title(\"KMeans\")\n",
    "ax.set_xticks(())\n",
    "ax.set_yticks(())\n",
    "plt.text(-3.5, 1.8, \"train time: %.2fs\\ninertia: %f\" % (t_batch, k_means.inertia_))\n",
    "\n",
    "# MiniBatchKMeans\n",
    "ax = fig.add_subplot(1, 3, 2)\n",
    "for k, col in zip(range(n_clusters), colors):\n",
    "    my_members = mbk_means_labels == k\n",
    "    cluster_center = mbk_means_cluster_centers[k]\n",
    "    ax.plot(X[my_members, 0], X[my_members, 1], \"w\", markerfacecolor=col, marker=\".\")\n",
    "    ax.plot(\n",
    "        cluster_center[0],\n",
    "        cluster_center[1],\n",
    "        \"o\",\n",
    "        markerfacecolor=col,\n",
    "        markeredgecolor=\"k\",\n",
    "        markersize=6,\n",
    "    )\n",
    "ax.set_title(\"MiniBatchKMeans\")\n",
    "ax.set_xticks(())\n",
    "ax.set_yticks(())\n",
    "plt.text(-3.5, 1.8, \"train time: %.2fs\\ninertia: %f\" % (t_mini_batch, mbk.inertia_))\n",
    "\n",
    "# Initialize the different array to all False\n",
    "different = mbk_means_labels == 4\n",
    "ax = fig.add_subplot(1, 3, 3)\n",
    "\n",
    "for k in range(n_clusters):\n",
    "    different += (k_means_labels == k) != (mbk_means_labels == k)\n",
    "\n",
    "identical = np.logical_not(different)\n",
    "ax.plot(X[identical, 0], X[identical, 1], \"w\", markerfacecolor=\"#bbbbbb\", marker=\".\")\n",
    "ax.plot(X[different, 0], X[different, 1], \"w\", markerfacecolor=\"m\", marker=\".\")\n",
    "ax.set_title(\"Difference\")\n",
    "ax.set_xticks(())\n",
    "ax.set_yticks(())\n",
    "\n",
    "plt.show()"
   ]
  },
  {
   "cell_type": "code",
   "execution_count": 22,
   "metadata": {
    "ExecuteTime": {
     "end_time": "2023-08-07T11:30:23.381499900Z",
     "start_time": "2023-08-07T11:30:23.364761200Z"
    }
   },
   "outputs": [
    {
     "data": {
      "text/plain": "array([False, False, False, ..., False,  True,  True])"
     },
     "execution_count": 22,
     "metadata": {},
     "output_type": "execute_result"
    }
   ],
   "source": [
    "my_members"
   ]
  },
  {
   "cell_type": "code",
   "execution_count": 23,
   "metadata": {
    "ExecuteTime": {
     "end_time": "2023-08-07T11:30:23.382467900Z",
     "start_time": "2023-08-07T11:30:23.369205700Z"
    }
   },
   "outputs": [
    {
     "data": {
      "text/plain": "array([0.4313684 , 7.98435298])"
     },
     "execution_count": 23,
     "metadata": {},
     "output_type": "execute_result"
    }
   ],
   "source": [
    "cluster_center"
   ]
  },
  {
   "cell_type": "code",
   "execution_count": 24,
   "metadata": {
    "ExecuteTime": {
     "end_time": "2023-08-07T11:30:23.402040700Z",
     "start_time": "2023-08-07T11:30:23.386977300Z"
    }
   },
   "outputs": [],
   "source": [
    "import matplotlib.pyplot as plt\n",
    "import numpy as np\n",
    "from sklearn.cluster import KMeans\n",
    "from sklearn.metrics import silhouette_score\n",
    "\n",
    "def silhouette(data, n):\n",
    "\tk= range(2,len(df_scaler)) \n",
    "\ts = []\n",
    "\t# for i in range(2, len(df_scaler)):\n",
    "    # km = KMeans(n_clusters = i)\n",
    "    # km.fit(df_scaler)\n",
    "    # sil_avg = silhouette_score(df_scaler, km.labels_).round(4)\n",
    "    # number_of_cluster.append([sil_avg , i])\n",
    "\n",
    "\tfor n_clusters in k:\n",
    "\t\tclusters = KMeans(n_clusters = n_clusters, init = 'k-means++')\n",
    "\t\tclusters.fit(data)\n",
    "\t\tlabels = clusters.labels_\n",
    "\t\tcentroids = clusters.cluster_centers_\n",
    "\t\ts.append(silhouette_score(data, labels, metric='euclidean'))\n",
    "\t\tprint(\"Silhouette Coefficient for k == %s: %s\" % (\n",
    "\t\tn_clusters, round(silhouette_score(data, clusters.labels_), 4)))\n",
    "\n",
    "\tfig = plt.figure()\n",
    "\tax = fig.add_subplot(111)\n",
    "\tax.plot(k,s,'b*-')\n",
    "\tax.plot(k[np.argmax(s)], s[np.argmax(s)], marker='o', markersize=12,markeredgewidth=2, markeredgecolor='r', markerfacecolor='None')\n",
    "\tplt.ylabel(\"Silouette Score\")\n",
    "\tplt.xlabel(\"Number of clusters\")\n",
    "\tplt.title(\"Silouette for KMeans clustering\")\n",
    "\tplt.show()\n"
   ]
  },
  {
   "cell_type": "code",
   "execution_count": 25,
   "metadata": {
    "ExecuteTime": {
     "end_time": "2023-08-07T11:30:23.433502Z",
     "start_time": "2023-08-07T11:30:23.399881200Z"
    }
   },
   "outputs": [],
   "source": [
    "cluster1 = np.random.uniform(0.5, 1.5, (2, 10))\n",
    "cluster2 = np.random.uniform(3.5, 4.5, (2, 10))\n",
    "cluster3 = np.random.uniform(6.5, 7.5, (2, 10))"
   ]
  },
  {
   "cell_type": "code",
   "execution_count": 26,
   "metadata": {
    "ExecuteTime": {
     "end_time": "2023-08-07T11:30:27.296868700Z",
     "start_time": "2023-08-07T11:30:23.417897300Z"
    }
   },
   "outputs": [
    {
     "name": "stdout",
     "output_type": "stream",
     "text": [
      "[[1.23383998 1.26688868]\n",
      " [0.56320482 1.03768803]\n",
      " [0.87905445 1.29992882]\n",
      " [0.84243352 0.90886803]\n",
      " [1.14682152 1.16550279]\n",
      " [1.38792077 0.69880421]\n",
      " [0.64298979 0.69184457]\n",
      " [1.31625375 0.84026241]\n",
      " [1.1097234  1.01944051]\n",
      " [0.52924269 1.21652679]\n",
      " [4.16680482 3.56840085]\n",
      " [4.32134456 4.49147111]\n",
      " [3.92639692 4.36258931]\n",
      " [4.41252925 4.36825775]\n",
      " [3.60916772 4.12871306]\n",
      " [3.68720331 3.72485568]\n",
      " [4.18371758 4.29809155]\n",
      " [3.75377268 3.55380057]\n",
      " [3.66459055 4.08211534]\n",
      " [4.38649374 3.93915964]\n",
      " [7.25040683 6.56084243]\n",
      " [6.52376813 6.79426854]\n",
      " [6.8867855  7.28363674]\n",
      " [6.9770944  7.14191425]\n",
      " [6.65235923 6.52398485]\n",
      " [6.91472019 7.069876  ]\n",
      " [7.41047769 6.71734008]\n",
      " [6.96863422 7.47574982]\n",
      " [6.75177618 7.283687  ]\n",
      " [7.03233506 6.6279081 ]]\n"
     ]
    },
    {
     "name": "stderr",
     "output_type": "stream",
     "text": [
      "C:\\Users\\patcharaprapa_k\\AppData\\Local\\anaconda3\\lib\\site-packages\\sklearn\\cluster\\_kmeans.py:870: FutureWarning: The default value of `n_init` will change from 10 to 'auto' in 1.4. Set the value of `n_init` explicitly to suppress the warning\n",
      "  warnings.warn(\n",
      "C:\\Users\\patcharaprapa_k\\AppData\\Local\\anaconda3\\lib\\site-packages\\sklearn\\cluster\\_kmeans.py:1382: UserWarning: KMeans is known to have a memory leak on Windows with MKL, when there are less chunks than available threads. You can avoid it by setting the environment variable OMP_NUM_THREADS=1.\n",
      "  warnings.warn(\n"
     ]
    },
    {
     "name": "stdout",
     "output_type": "stream",
     "text": [
      "Silhouette Coefficient for k == 2: 0.6839\n"
     ]
    },
    {
     "name": "stderr",
     "output_type": "stream",
     "text": [
      "C:\\Users\\patcharaprapa_k\\AppData\\Local\\anaconda3\\lib\\site-packages\\sklearn\\cluster\\_kmeans.py:870: FutureWarning: The default value of `n_init` will change from 10 to 'auto' in 1.4. Set the value of `n_init` explicitly to suppress the warning\n",
      "  warnings.warn(\n",
      "C:\\Users\\patcharaprapa_k\\AppData\\Local\\anaconda3\\lib\\site-packages\\sklearn\\cluster\\_kmeans.py:1382: UserWarning: KMeans is known to have a memory leak on Windows with MKL, when there are less chunks than available threads. You can avoid it by setting the environment variable OMP_NUM_THREADS=1.\n",
      "  warnings.warn(\n"
     ]
    },
    {
     "name": "stdout",
     "output_type": "stream",
     "text": [
      "Silhouette Coefficient for k == 3: 0.8627\n"
     ]
    },
    {
     "name": "stderr",
     "output_type": "stream",
     "text": [
      "C:\\Users\\patcharaprapa_k\\AppData\\Local\\anaconda3\\lib\\site-packages\\sklearn\\cluster\\_kmeans.py:870: FutureWarning: The default value of `n_init` will change from 10 to 'auto' in 1.4. Set the value of `n_init` explicitly to suppress the warning\n",
      "  warnings.warn(\n",
      "C:\\Users\\patcharaprapa_k\\AppData\\Local\\anaconda3\\lib\\site-packages\\sklearn\\cluster\\_kmeans.py:1382: UserWarning: KMeans is known to have a memory leak on Windows with MKL, when there are less chunks than available threads. You can avoid it by setting the environment variable OMP_NUM_THREADS=1.\n",
      "  warnings.warn(\n"
     ]
    },
    {
     "name": "stdout",
     "output_type": "stream",
     "text": [
      "Silhouette Coefficient for k == 4: 0.7198\n"
     ]
    },
    {
     "name": "stderr",
     "output_type": "stream",
     "text": [
      "C:\\Users\\patcharaprapa_k\\AppData\\Local\\anaconda3\\lib\\site-packages\\sklearn\\cluster\\_kmeans.py:870: FutureWarning: The default value of `n_init` will change from 10 to 'auto' in 1.4. Set the value of `n_init` explicitly to suppress the warning\n",
      "  warnings.warn(\n",
      "C:\\Users\\patcharaprapa_k\\AppData\\Local\\anaconda3\\lib\\site-packages\\sklearn\\cluster\\_kmeans.py:1382: UserWarning: KMeans is known to have a memory leak on Windows with MKL, when there are less chunks than available threads. You can avoid it by setting the environment variable OMP_NUM_THREADS=1.\n",
      "  warnings.warn(\n"
     ]
    },
    {
     "name": "stdout",
     "output_type": "stream",
     "text": [
      "Silhouette Coefficient for k == 5: 0.5905\n"
     ]
    },
    {
     "name": "stderr",
     "output_type": "stream",
     "text": [
      "C:\\Users\\patcharaprapa_k\\AppData\\Local\\anaconda3\\lib\\site-packages\\sklearn\\cluster\\_kmeans.py:870: FutureWarning: The default value of `n_init` will change from 10 to 'auto' in 1.4. Set the value of `n_init` explicitly to suppress the warning\n",
      "  warnings.warn(\n",
      "C:\\Users\\patcharaprapa_k\\AppData\\Local\\anaconda3\\lib\\site-packages\\sklearn\\cluster\\_kmeans.py:1382: UserWarning: KMeans is known to have a memory leak on Windows with MKL, when there are less chunks than available threads. You can avoid it by setting the environment variable OMP_NUM_THREADS=1.\n",
      "  warnings.warn(\n"
     ]
    },
    {
     "name": "stdout",
     "output_type": "stream",
     "text": [
      "Silhouette Coefficient for k == 6: 0.4325\n"
     ]
    },
    {
     "name": "stderr",
     "output_type": "stream",
     "text": [
      "C:\\Users\\patcharaprapa_k\\AppData\\Local\\anaconda3\\lib\\site-packages\\sklearn\\cluster\\_kmeans.py:870: FutureWarning: The default value of `n_init` will change from 10 to 'auto' in 1.4. Set the value of `n_init` explicitly to suppress the warning\n",
      "  warnings.warn(\n",
      "C:\\Users\\patcharaprapa_k\\AppData\\Local\\anaconda3\\lib\\site-packages\\sklearn\\cluster\\_kmeans.py:1382: UserWarning: KMeans is known to have a memory leak on Windows with MKL, when there are less chunks than available threads. You can avoid it by setting the environment variable OMP_NUM_THREADS=1.\n",
      "  warnings.warn(\n"
     ]
    },
    {
     "name": "stdout",
     "output_type": "stream",
     "text": [
      "Silhouette Coefficient for k == 7: 0.4712\n"
     ]
    },
    {
     "name": "stderr",
     "output_type": "stream",
     "text": [
      "C:\\Users\\patcharaprapa_k\\AppData\\Local\\anaconda3\\lib\\site-packages\\sklearn\\cluster\\_kmeans.py:870: FutureWarning: The default value of `n_init` will change from 10 to 'auto' in 1.4. Set the value of `n_init` explicitly to suppress the warning\n",
      "  warnings.warn(\n",
      "C:\\Users\\patcharaprapa_k\\AppData\\Local\\anaconda3\\lib\\site-packages\\sklearn\\cluster\\_kmeans.py:1382: UserWarning: KMeans is known to have a memory leak on Windows with MKL, when there are less chunks than available threads. You can avoid it by setting the environment variable OMP_NUM_THREADS=1.\n",
      "  warnings.warn(\n"
     ]
    },
    {
     "name": "stdout",
     "output_type": "stream",
     "text": [
      "Silhouette Coefficient for k == 8: 0.4643\n"
     ]
    },
    {
     "name": "stderr",
     "output_type": "stream",
     "text": [
      "C:\\Users\\patcharaprapa_k\\AppData\\Local\\anaconda3\\lib\\site-packages\\sklearn\\cluster\\_kmeans.py:870: FutureWarning: The default value of `n_init` will change from 10 to 'auto' in 1.4. Set the value of `n_init` explicitly to suppress the warning\n",
      "  warnings.warn(\n",
      "C:\\Users\\patcharaprapa_k\\AppData\\Local\\anaconda3\\lib\\site-packages\\sklearn\\cluster\\_kmeans.py:1382: UserWarning: KMeans is known to have a memory leak on Windows with MKL, when there are less chunks than available threads. You can avoid it by setting the environment variable OMP_NUM_THREADS=1.\n",
      "  warnings.warn(\n"
     ]
    },
    {
     "name": "stdout",
     "output_type": "stream",
     "text": [
      "Silhouette Coefficient for k == 9: 0.4802\n"
     ]
    },
    {
     "name": "stderr",
     "output_type": "stream",
     "text": [
      "C:\\Users\\patcharaprapa_k\\AppData\\Local\\anaconda3\\lib\\site-packages\\sklearn\\cluster\\_kmeans.py:870: FutureWarning: The default value of `n_init` will change from 10 to 'auto' in 1.4. Set the value of `n_init` explicitly to suppress the warning\n",
      "  warnings.warn(\n",
      "C:\\Users\\patcharaprapa_k\\AppData\\Local\\anaconda3\\lib\\site-packages\\sklearn\\cluster\\_kmeans.py:1382: UserWarning: KMeans is known to have a memory leak on Windows with MKL, when there are less chunks than available threads. You can avoid it by setting the environment variable OMP_NUM_THREADS=1.\n",
      "  warnings.warn(\n"
     ]
    },
    {
     "name": "stdout",
     "output_type": "stream",
     "text": [
      "Silhouette Coefficient for k == 10: 0.482\n"
     ]
    },
    {
     "name": "stderr",
     "output_type": "stream",
     "text": [
      "C:\\Users\\patcharaprapa_k\\AppData\\Local\\anaconda3\\lib\\site-packages\\sklearn\\cluster\\_kmeans.py:870: FutureWarning: The default value of `n_init` will change from 10 to 'auto' in 1.4. Set the value of `n_init` explicitly to suppress the warning\n",
      "  warnings.warn(\n",
      "C:\\Users\\patcharaprapa_k\\AppData\\Local\\anaconda3\\lib\\site-packages\\sklearn\\cluster\\_kmeans.py:1382: UserWarning: KMeans is known to have a memory leak on Windows with MKL, when there are less chunks than available threads. You can avoid it by setting the environment variable OMP_NUM_THREADS=1.\n",
      "  warnings.warn(\n"
     ]
    },
    {
     "name": "stdout",
     "output_type": "stream",
     "text": [
      "Silhouette Coefficient for k == 11: 0.4474\n"
     ]
    },
    {
     "name": "stderr",
     "output_type": "stream",
     "text": [
      "C:\\Users\\patcharaprapa_k\\AppData\\Local\\anaconda3\\lib\\site-packages\\sklearn\\cluster\\_kmeans.py:870: FutureWarning: The default value of `n_init` will change from 10 to 'auto' in 1.4. Set the value of `n_init` explicitly to suppress the warning\n",
      "  warnings.warn(\n",
      "C:\\Users\\patcharaprapa_k\\AppData\\Local\\anaconda3\\lib\\site-packages\\sklearn\\cluster\\_kmeans.py:1382: UserWarning: KMeans is known to have a memory leak on Windows with MKL, when there are less chunks than available threads. You can avoid it by setting the environment variable OMP_NUM_THREADS=1.\n",
      "  warnings.warn(\n"
     ]
    },
    {
     "name": "stdout",
     "output_type": "stream",
     "text": [
      "Silhouette Coefficient for k == 12: 0.4673\n"
     ]
    },
    {
     "name": "stderr",
     "output_type": "stream",
     "text": [
      "C:\\Users\\patcharaprapa_k\\AppData\\Local\\anaconda3\\lib\\site-packages\\sklearn\\cluster\\_kmeans.py:870: FutureWarning: The default value of `n_init` will change from 10 to 'auto' in 1.4. Set the value of `n_init` explicitly to suppress the warning\n",
      "  warnings.warn(\n",
      "C:\\Users\\patcharaprapa_k\\AppData\\Local\\anaconda3\\lib\\site-packages\\sklearn\\cluster\\_kmeans.py:1382: UserWarning: KMeans is known to have a memory leak on Windows with MKL, when there are less chunks than available threads. You can avoid it by setting the environment variable OMP_NUM_THREADS=1.\n",
      "  warnings.warn(\n"
     ]
    },
    {
     "name": "stdout",
     "output_type": "stream",
     "text": [
      "Silhouette Coefficient for k == 13: 0.4695\n"
     ]
    },
    {
     "name": "stderr",
     "output_type": "stream",
     "text": [
      "C:\\Users\\patcharaprapa_k\\AppData\\Local\\anaconda3\\lib\\site-packages\\sklearn\\cluster\\_kmeans.py:870: FutureWarning: The default value of `n_init` will change from 10 to 'auto' in 1.4. Set the value of `n_init` explicitly to suppress the warning\n",
      "  warnings.warn(\n",
      "C:\\Users\\patcharaprapa_k\\AppData\\Local\\anaconda3\\lib\\site-packages\\sklearn\\cluster\\_kmeans.py:1382: UserWarning: KMeans is known to have a memory leak on Windows with MKL, when there are less chunks than available threads. You can avoid it by setting the environment variable OMP_NUM_THREADS=1.\n",
      "  warnings.warn(\n"
     ]
    },
    {
     "name": "stdout",
     "output_type": "stream",
     "text": [
      "Silhouette Coefficient for k == 14: 0.3832\n"
     ]
    },
    {
     "data": {
      "text/plain": "<Figure size 640x480 with 1 Axes>",
      "image/png": "[encoded data removed]"
     },
     "metadata": {},
     "output_type": "display_data"
    }
   ],
   "source": [
    "data = np.hstack((cluster1, cluster2,cluster3)).T\n",
    "print(data)\n",
    "silhouette(data, 10)"
   ]
  },
  {
   "cell_type": "code",
   "execution_count": 27,
   "metadata": {
    "ExecuteTime": {
     "end_time": "2023-08-07T11:30:27.339754Z",
     "start_time": "2023-08-07T11:30:27.297895400Z"
    }
   },
   "outputs": [
    {
     "data": {
      "text/plain": "3"
     },
     "execution_count": 27,
     "metadata": {},
     "output_type": "execute_result"
    }
   ],
   "source": [
    "max(number_of_cluster)[1]"
   ]
  },
  {
   "cell_type": "code",
   "execution_count": 28,
   "metadata": {
    "ExecuteTime": {
     "end_time": "2023-08-07T11:30:27.340752900Z",
     "start_time": "2023-08-07T11:30:27.314528600Z"
    }
   },
   "outputs": [],
   "source": [
    "# Perform KMeans clustering\n",
    "num_clusters = max(number_of_cluster)[1]\n",
    "kmeans = KMeans(n_clusters=num_clusters)"
   ]
  },
  {
   "cell_type": "code",
   "execution_count": 29,
   "metadata": {
    "ExecuteTime": {
     "end_time": "2023-08-07T11:30:27.640488900Z",
     "start_time": "2023-08-07T11:30:27.330144700Z"
    }
   },
   "outputs": [
    {
     "name": "stderr",
     "output_type": "stream",
     "text": [
      "C:\\Users\\patcharaprapa_k\\AppData\\Local\\anaconda3\\lib\\site-packages\\sklearn\\cluster\\_kmeans.py:870: FutureWarning: The default value of `n_init` will change from 10 to 'auto' in 1.4. Set the value of `n_init` explicitly to suppress the warning\n",
      "  warnings.warn(\n",
      "C:\\Users\\patcharaprapa_k\\AppData\\Local\\anaconda3\\lib\\site-packages\\sklearn\\cluster\\_kmeans.py:1382: UserWarning: KMeans is known to have a memory leak on Windows with MKL, when there are less chunks than available threads. You can avoid it by setting the environment variable OMP_NUM_THREADS=5.\n",
      "  warnings.warn(\n"
     ]
    }
   ],
   "source": [
    "cluster_labels = kmeans.fit_predict(X)"
   ]
  },
  {
   "cell_type": "code",
   "execution_count": 30,
   "metadata": {
    "ExecuteTime": {
     "end_time": "2023-08-07T11:30:27.655997400Z",
     "start_time": "2023-08-07T11:30:27.641489400Z"
    }
   },
   "outputs": [],
   "source": [
    "df['cluster'] = cluster_labels"
   ]
  },
  {
   "cell_type": "code",
   "execution_count": 31,
   "metadata": {
    "ExecuteTime": {
     "end_time": "2023-08-07T11:30:27.688039Z",
     "start_time": "2023-08-07T11:30:27.656501700Z"
    }
   },
   "outputs": [
    {
     "data": {
      "text/plain": "                                  begin_sha  \\\n0  84be0f9fd057b1680d001de38802ce1c28d79f04   \n1  84be0f9fd057b1680d001de38802ce1c28d79f04   \n2  84be0f9fd057b1680d001de38802ce1c28d79f04   \n\n                                    end_sha  commits  additions  deletions  \\\n0  9a2efa51c7180b369ecfea17efaae813d9d0bfc5        1         10          4   \n1  5e03d22d6cb5bfdaf941b7749e0a313bd6ab2f86        1          2          1   \n2  e0d8519a9d7b6dfac29c1daf4199b6fe87781d0a        1         36         67   \n\n   changed_files      total_time            begin_time              end_time  \\\n0              3 3 days 01:27:48  2023-06-02T07:22:03Z  2023-06-05T08:49:51Z   \n1              1 3 days 04:15:10  2023-06-02T05:07:40Z  2023-06-05T09:22:50Z   \n2              9 0 days 05:24:03  2023-06-02T03:16:04Z  2023-06-02T08:40:07Z   \n\n  begin_Dispensables  ...  begin_Change Preventers  begin_Couplers  \\\n0              500.0  ...                    262.0           304.0   \n1              500.0  ...                    262.0           304.0   \n2              500.0  ...                    262.0           304.0   \n\n   begin_Object-Orientation Abusers  end_Dispensables  end_Bloaters  \\\n0                             304.0             500.0         261.0   \n1                             304.0             501.0         262.0   \n2                             304.0             499.0         261.0   \n\n   end_Change Preventers  end_Couplers  end_Object-Orientation Abusers  \\\n0                  261.0         304.0                           693.0   \n1                  262.0         304.0                           693.0   \n2                  261.0         304.0                           693.0   \n\n              time  cluster  \n0  264468000000000        1  \n1  274510000000000        1  \n2   19443000000000        1  \n\n[3 rows x 21 columns]",
      "text/html": "<div>\n<style scoped>\n    .dataframe tbody tr th:only-of-type {\n        vertical-align: middle;\n    }\n\n    .dataframe tbody tr th {\n        vertical-align: top;\n    }\n\n    .dataframe thead th {\n        text-align: right;\n    }\n</style>\n<table border=\"1\" class=\"dataframe\">\n  <thead>\n    <tr style=\"text-align: right;\">\n      <th></th>\n      <th>begin_sha</th>\n      <th>end_sha</th>\n      <th>commits</th>\n      <th>additions</th>\n      <th>deletions</th>\n      <th>changed_files</th>\n      <th>total_time</th>\n      <th>begin_time</th>\n      <th>end_time</th>\n      <th>begin_Dispensables</th>\n      <th>...</th>\n      <th>begin_Change Preventers</th>\n      <th>begin_Couplers</th>\n      <th>begin_Object-Orientation Abusers</th>\n      <th>end_Dispensables</th>\n      <th>end_Bloaters</th>\n      <th>end_Change Preventers</th>\n      <th>end_Couplers</th>\n      <th>end_Object-Orientation Abusers</th>\n      <th>time</th>\n      <th>cluster</th>\n    </tr>\n  </thead>\n  <tbody>\n    <tr>\n      <th>0</th>\n      <td>84be0f9fd057b1680d001de38802ce1c28d79f04</td>\n      <td>9a2efa51c7180b369ecfea17efaae813d9d0bfc5</td>\n      <td>1</td>\n      <td>10</td>\n      <td>4</td>\n      <td>3</td>\n      <td>3 days 01:27:48</td>\n      <td>2023-06-02T07:22:03Z</td>\n      <td>2023-06-05T08:49:51Z</td>\n      <td>500.0</td>\n      <td>...</td>\n      <td>262.0</td>\n      <td>304.0</td>\n      <td>304.0</td>\n      <td>500.0</td>\n      <td>261.0</td>\n      <td>261.0</td>\n      <td>304.0</td>\n      <td>693.0</td>\n      <td>264468000000000</td>\n      <td>1</td>\n    </tr>\n    <tr>\n      <th>1</th>\n      <td>84be0f9fd057b1680d001de38802ce1c28d79f04</td>\n      <td>5e03d22d6cb5bfdaf941b7749e0a313bd6ab2f86</td>\n      <td>1</td>\n      <td>2</td>\n      <td>1</td>\n      <td>1</td>\n      <td>3 days 04:15:10</td>\n      <td>2023-06-02T05:07:40Z</td>\n      <td>2023-06-05T09:22:50Z</td>\n      <td>500.0</td>\n      <td>...</td>\n      <td>262.0</td>\n      <td>304.0</td>\n      <td>304.0</td>\n      <td>501.0</td>\n      <td>262.0</td>\n      <td>262.0</td>\n      <td>304.0</td>\n      <td>693.0</td>\n      <td>274510000000000</td>\n      <td>1</td>\n    </tr>\n    <tr>\n      <th>2</th>\n      <td>84be0f9fd057b1680d001de38802ce1c28d79f04</td>\n      <td>e0d8519a9d7b6dfac29c1daf4199b6fe87781d0a</td>\n      <td>1</td>\n      <td>36</td>\n      <td>67</td>\n      <td>9</td>\n      <td>0 days 05:24:03</td>\n      <td>2023-06-02T03:16:04Z</td>\n      <td>2023-06-02T08:40:07Z</td>\n      <td>500.0</td>\n      <td>...</td>\n      <td>262.0</td>\n      <td>304.0</td>\n      <td>304.0</td>\n      <td>499.0</td>\n      <td>261.0</td>\n      <td>261.0</td>\n      <td>304.0</td>\n      <td>693.0</td>\n      <td>19443000000000</td>\n      <td>1</td>\n    </tr>\n  </tbody>\n</table>\n<p>3 rows × 21 columns</p>\n</div>"
     },
     "execution_count": 31,
     "metadata": {},
     "output_type": "execute_result"
    }
   ],
   "source": [
    "df.head(3)"
   ]
  },
  {
   "cell_type": "code",
   "execution_count": 32,
   "metadata": {
    "ExecuteTime": {
     "end_time": "2023-08-07T11:30:27.735113600Z",
     "start_time": "2023-08-07T11:30:27.689039700Z"
    }
   },
   "outputs": [
    {
     "data": {
      "text/plain": "(1068, 21)"
     },
     "execution_count": 32,
     "metadata": {},
     "output_type": "execute_result"
    }
   ],
   "source": [
    "df.shape"
   ]
  },
  {
   "cell_type": "code",
   "execution_count": 33,
   "metadata": {
    "ExecuteTime": {
     "end_time": "2023-08-07T11:30:27.780766500Z",
     "start_time": "2023-08-07T11:30:27.707568400Z"
    }
   },
   "outputs": [],
   "source": [
    "df['timedelta'] = pd.to_timedelta(df['time'])"
   ]
  },
  {
   "cell_type": "code",
   "execution_count": 34,
   "metadata": {
    "ExecuteTime": {
     "end_time": "2023-08-07T11:30:27.795861500Z",
     "start_time": "2023-08-07T11:30:27.723087800Z"
    }
   },
   "outputs": [],
   "source": [
    "df['formatted_duration'] = df['timedelta'].apply(lambda x: f\"{x.days} days {x.seconds // 3600:02d}:{(x.seconds // 60) % 60:02d}:{x.seconds % 60:02d}\")"
   ]
  },
  {
   "cell_type": "code",
   "execution_count": 35,
   "metadata": {
    "ExecuteTime": {
     "end_time": "2023-08-07T11:30:27.921759300Z",
     "start_time": "2023-08-07T11:30:27.744592200Z"
    }
   },
   "outputs": [
    {
     "name": "stdout",
     "output_type": "stream",
     "text": [
      "0 days 00:00:06\n",
      "110 days 16:44:58\n"
     ]
    },
    {
     "data": {
      "text/plain": "(352, 23)"
     },
     "execution_count": 35,
     "metadata": {},
     "output_type": "execute_result"
    }
   ],
   "source": [
    "cluster_0 = df[df['cluster'] == 0]\n",
    "print(cluster_0['timedelta'].min())\n",
    "print(cluster_0['timedelta'].max())\n",
    "cluster_0.shape"
   ]
  },
  {
   "cell_type": "code",
   "execution_count": 36,
   "metadata": {
    "ExecuteTime": {
     "end_time": "2023-08-07T11:30:27.935882400Z",
     "start_time": "2023-08-07T11:30:27.780766500Z"
    }
   },
   "outputs": [
    {
     "name": "stdout",
     "output_type": "stream",
     "text": [
      "0 days 00:00:06\n",
      "75 days 03:54:20\n"
     ]
    },
    {
     "data": {
      "text/plain": "(362, 23)"
     },
     "execution_count": 36,
     "metadata": {},
     "output_type": "execute_result"
    }
   ],
   "source": [
    "cluster_1 = df[df['cluster'] == 1]\n",
    "print(cluster_1['timedelta'].min())\n",
    "print(cluster_1['timedelta'].max())\n",
    "cluster_1.shape"
   ]
  },
  {
   "cell_type": "code",
   "execution_count": 37,
   "metadata": {
    "ExecuteTime": {
     "end_time": "2023-08-07T11:30:27.936386Z",
     "start_time": "2023-08-07T11:30:27.790264500Z"
    }
   },
   "outputs": [
    {
     "name": "stdout",
     "output_type": "stream",
     "text": [
      "0 days 00:00:05\n",
      "52 days 17:08:12\n"
     ]
    },
    {
     "data": {
      "text/plain": "(354, 23)"
     },
     "execution_count": 37,
     "metadata": {},
     "output_type": "execute_result"
    }
   ],
   "source": [
    "cluster_2 = df[df['cluster'] == 2]\n",
    "print(cluster_2['timedelta'].min())\n",
    "print(cluster_2['timedelta'].max())\n",
    "cluster_2.shape"
   ]
  }
 ],
 "metadata": {
  "kernelspec": {
   "display_name": "Python 3",
   "language": "python",
   "name": "python3"
  },
  "language_info": {
   "codemirror_mode": {
    "name": "ipython",
    "version": 3
   },
   "file_extension": ".py",
   "mimetype": "text/x-python",
   "name": "python",
   "nbconvert_exporter": "python",
   "pygments_lexer": "ipython3",
   "version": "3.10.9"
  }
 },
 "nbformat": 4,
 "nbformat_minor": 0
}
