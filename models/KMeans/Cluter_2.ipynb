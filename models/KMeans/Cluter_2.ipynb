{
 "cells": [
  {
   "cell_type": "code",
   "execution_count": 1,
   "metadata": {
    "ExecuteTime": {
     "end_time": "2023-07-12T08:12:16.980757500Z",
     "start_time": "2023-07-12T08:12:16.783556200Z"
    },
    "collapsed": true
   },
   "outputs": [],
   "source": [
    "import pandas as pd\n",
    "from datetime import timedelta\n",
    "#Data processing\n",
    "from sklearn import preprocessing"
   ]
  },
  {
   "cell_type": "code",
   "execution_count": 2,
   "metadata": {
    "ExecuteTime": {
     "end_time": "2023-07-12T08:12:17.064891700Z",
     "start_time": "2023-07-12T08:12:16.980955100Z"
    },
    "collapsed": false
   },
   "outputs": [],
   "source": [
    "df = pd.read_csv('../seatunnel_full.csv')"
   ]
  },
  {
   "cell_type": "code",
   "execution_count": 3,
   "metadata": {
    "ExecuteTime": {
     "end_time": "2023-07-12T08:12:17.100988400Z",
     "start_time": "2023-07-12T08:12:17.068956Z"
    },
    "collapsed": false
   },
   "outputs": [
    {
     "data": {
      "text/html": [
       "<div>\n",
       "<style scoped>\n",
       "    .dataframe tbody tr th:only-of-type {\n",
       "        vertical-align: middle;\n",
       "    }\n",
       "\n",
       "    .dataframe tbody tr th {\n",
       "        vertical-align: top;\n",
       "    }\n",
       "\n",
       "    .dataframe thead th {\n",
       "        text-align: right;\n",
       "    }\n",
       "</style>\n",
       "<table border=\"1\" class=\"dataframe\">\n",
       "  <thead>\n",
       "    <tr style=\"text-align: right;\">\n",
       "      <th></th>\n",
       "      <th>url</th>\n",
       "      <th>begin_sha</th>\n",
       "      <th>end_sha</th>\n",
       "      <th>commits</th>\n",
       "      <th>additions</th>\n",
       "      <th>deletions</th>\n",
       "      <th>changed_files</th>\n",
       "      <th>begin_url</th>\n",
       "      <th>begin_time</th>\n",
       "      <th>begin_key</th>\n",
       "      <th>...</th>\n",
       "      <th>end_java:S5411</th>\n",
       "      <th>end_java:S5413</th>\n",
       "      <th>end_java:S5803</th>\n",
       "      <th>end_java:S5869</th>\n",
       "      <th>end_java:S5993</th>\n",
       "      <th>end_java:S6202</th>\n",
       "      <th>end_java:S6213</th>\n",
       "      <th>end_java:S6244</th>\n",
       "      <th>end_java:S6353</th>\n",
       "      <th>end_java:S6355</th>\n",
       "    </tr>\n",
       "  </thead>\n",
       "  <tbody>\n",
       "    <tr>\n",
       "      <th>0</th>\n",
       "      <td>https://api.github.com/repos/apache/seatunnel/...</td>\n",
       "      <td>c203ef5f8d6ad8bfb7f284e32a9ce5f2bc1fe142</td>\n",
       "      <td>4d429cab55482986b4d8a24c699d315631c8242a</td>\n",
       "      <td>1</td>\n",
       "      <td>64</td>\n",
       "      <td>1</td>\n",
       "      <td>1</td>\n",
       "      <td>https://api.github.com/repos/apache/seatunnel/...</td>\n",
       "      <td>2023-06-06T08:28:39Z</td>\n",
       "      <td>seatunnel-c203ef5f8d6ad8bfb7f284e32a9ce5f2bc1f...</td>\n",
       "      <td>...</td>\n",
       "      <td>13</td>\n",
       "      <td>0</td>\n",
       "      <td>1</td>\n",
       "      <td>2</td>\n",
       "      <td>42</td>\n",
       "      <td>0</td>\n",
       "      <td>106</td>\n",
       "      <td>1</td>\n",
       "      <td>0</td>\n",
       "      <td>0</td>\n",
       "    </tr>\n",
       "    <tr>\n",
       "      <th>1</th>\n",
       "      <td>https://api.github.com/repos/apache/seatunnel/...</td>\n",
       "      <td>bde19b6377f7b2fb7a34b94bd06d6ce0cc44f348</td>\n",
       "      <td>c7745e63373c0fc92884982844bf55e22dd38af5</td>\n",
       "      <td>1</td>\n",
       "      <td>6</td>\n",
       "      <td>2</td>\n",
       "      <td>1</td>\n",
       "      <td>https://api.github.com/repos/apache/seatunnel/...</td>\n",
       "      <td>2023-06-05T08:59:42Z</td>\n",
       "      <td>seatunnel-bde19b6377f7b2fb7a34b94bd06d6ce0cc44...</td>\n",
       "      <td>...</td>\n",
       "      <td>13</td>\n",
       "      <td>0</td>\n",
       "      <td>1</td>\n",
       "      <td>2</td>\n",
       "      <td>42</td>\n",
       "      <td>0</td>\n",
       "      <td>106</td>\n",
       "      <td>1</td>\n",
       "      <td>0</td>\n",
       "      <td>0</td>\n",
       "    </tr>\n",
       "    <tr>\n",
       "      <th>2</th>\n",
       "      <td>https://api.github.com/repos/apache/seatunnel/...</td>\n",
       "      <td>e0d8519a9d7b6dfac29c1daf4199b6fe87781d0a</td>\n",
       "      <td>f4077cbbbbe5ea518073ee0035134ba0890e52b7</td>\n",
       "      <td>1</td>\n",
       "      <td>7</td>\n",
       "      <td>7</td>\n",
       "      <td>1</td>\n",
       "      <td>https://api.github.com/repos/apache/seatunnel/...</td>\n",
       "      <td>2023-06-02T15:08:41Z</td>\n",
       "      <td>seatunnel-e0d8519a9d7b6dfac29c1daf4199b6fe8778...</td>\n",
       "      <td>...</td>\n",
       "      <td>13</td>\n",
       "      <td>0</td>\n",
       "      <td>1</td>\n",
       "      <td>2</td>\n",
       "      <td>42</td>\n",
       "      <td>0</td>\n",
       "      <td>106</td>\n",
       "      <td>1</td>\n",
       "      <td>0</td>\n",
       "      <td>0</td>\n",
       "    </tr>\n",
       "    <tr>\n",
       "      <th>3</th>\n",
       "      <td>https://api.github.com/repos/apache/seatunnel/...</td>\n",
       "      <td>e0d8519a9d7b6dfac29c1daf4199b6fe87781d0a</td>\n",
       "      <td>0360e7e5185bd016458a20d3b597b4ccee83dfeb</td>\n",
       "      <td>1</td>\n",
       "      <td>3</td>\n",
       "      <td>2</td>\n",
       "      <td>1</td>\n",
       "      <td>https://api.github.com/repos/apache/seatunnel/...</td>\n",
       "      <td>2023-06-02T14:17:39Z</td>\n",
       "      <td>seatunnel-e0d8519a9d7b6dfac29c1daf4199b6fe8778...</td>\n",
       "      <td>...</td>\n",
       "      <td>13</td>\n",
       "      <td>0</td>\n",
       "      <td>1</td>\n",
       "      <td>2</td>\n",
       "      <td>42</td>\n",
       "      <td>0</td>\n",
       "      <td>106</td>\n",
       "      <td>1</td>\n",
       "      <td>0</td>\n",
       "      <td>0</td>\n",
       "    </tr>\n",
       "    <tr>\n",
       "      <th>4</th>\n",
       "      <td>https://api.github.com/repos/apache/seatunnel/...</td>\n",
       "      <td>e0d8519a9d7b6dfac29c1daf4199b6fe87781d0a</td>\n",
       "      <td>1b918160214a0b20ce1ae8f9e02f8e0dce243b53</td>\n",
       "      <td>1</td>\n",
       "      <td>1</td>\n",
       "      <td>0</td>\n",
       "      <td>1</td>\n",
       "      <td>https://api.github.com/repos/apache/seatunnel/...</td>\n",
       "      <td>2023-06-02T10:57:16Z</td>\n",
       "      <td>seatunnel-e0d8519a9d7b6dfac29c1daf4199b6fe8778...</td>\n",
       "      <td>...</td>\n",
       "      <td>13</td>\n",
       "      <td>0</td>\n",
       "      <td>1</td>\n",
       "      <td>2</td>\n",
       "      <td>42</td>\n",
       "      <td>0</td>\n",
       "      <td>106</td>\n",
       "      <td>1</td>\n",
       "      <td>0</td>\n",
       "      <td>0</td>\n",
       "    </tr>\n",
       "    <tr>\n",
       "      <th>...</th>\n",
       "      <td>...</td>\n",
       "      <td>...</td>\n",
       "      <td>...</td>\n",
       "      <td>...</td>\n",
       "      <td>...</td>\n",
       "      <td>...</td>\n",
       "      <td>...</td>\n",
       "      <td>...</td>\n",
       "      <td>...</td>\n",
       "      <td>...</td>\n",
       "      <td>...</td>\n",
       "      <td>...</td>\n",
       "      <td>...</td>\n",
       "      <td>...</td>\n",
       "      <td>...</td>\n",
       "      <td>...</td>\n",
       "      <td>...</td>\n",
       "      <td>...</td>\n",
       "      <td>...</td>\n",
       "      <td>...</td>\n",
       "      <td>...</td>\n",
       "    </tr>\n",
       "    <tr>\n",
       "      <th>2092</th>\n",
       "      <td>https://api.github.com/repos/apache/seatunnel/...</td>\n",
       "      <td>04addef64bbd2567d47acbb7f434245fba7ac8a5</td>\n",
       "      <td>3b6a8b4058593b1ff11c44560ebcc56142cda830</td>\n",
       "      <td>1</td>\n",
       "      <td>11</td>\n",
       "      <td>1128</td>\n",
       "      <td>27</td>\n",
       "      <td>https://api.github.com/repos/apache/seatunnel/...</td>\n",
       "      <td>2019-08-13T15:14:02Z</td>\n",
       "      <td>seatunnel-04addef64bbd2567d47acbb7f434245fba7a...</td>\n",
       "      <td>...</td>\n",
       "      <td>0</td>\n",
       "      <td>0</td>\n",
       "      <td>0</td>\n",
       "      <td>0</td>\n",
       "      <td>0</td>\n",
       "      <td>0</td>\n",
       "      <td>0</td>\n",
       "      <td>0</td>\n",
       "      <td>0</td>\n",
       "      <td>0</td>\n",
       "    </tr>\n",
       "    <tr>\n",
       "      <th>2093</th>\n",
       "      <td>https://api.github.com/repos/apache/seatunnel/...</td>\n",
       "      <td>79339df3455c88ba606847d79b3b3a1682c97a67</td>\n",
       "      <td>04addef64bbd2567d47acbb7f434245fba7ac8a5</td>\n",
       "      <td>1</td>\n",
       "      <td>36</td>\n",
       "      <td>0</td>\n",
       "      <td>1</td>\n",
       "      <td>https://api.github.com/repos/apache/seatunnel/...</td>\n",
       "      <td>2019-08-13T02:16:57Z</td>\n",
       "      <td>seatunnel-79339df3455c88ba606847d79b3b3a1682c9...</td>\n",
       "      <td>...</td>\n",
       "      <td>0</td>\n",
       "      <td>0</td>\n",
       "      <td>0</td>\n",
       "      <td>0</td>\n",
       "      <td>0</td>\n",
       "      <td>0</td>\n",
       "      <td>0</td>\n",
       "      <td>0</td>\n",
       "      <td>0</td>\n",
       "      <td>0</td>\n",
       "    </tr>\n",
       "    <tr>\n",
       "      <th>2094</th>\n",
       "      <td>https://api.github.com/repos/apache/seatunnel/...</td>\n",
       "      <td>a475a8082b030af51a03e61457ed78b7cf17ab56</td>\n",
       "      <td>a26d21b7d28704facbfbbecfb501b958dd59d826</td>\n",
       "      <td>6</td>\n",
       "      <td>997</td>\n",
       "      <td>1045</td>\n",
       "      <td>81</td>\n",
       "      <td>https://api.github.com/repos/apache/seatunnel/...</td>\n",
       "      <td>2019-08-13T01:54:31Z</td>\n",
       "      <td>seatunnel-a475a8082b030af51a03e61457ed78b7cf17...</td>\n",
       "      <td>...</td>\n",
       "      <td>0</td>\n",
       "      <td>0</td>\n",
       "      <td>0</td>\n",
       "      <td>0</td>\n",
       "      <td>0</td>\n",
       "      <td>0</td>\n",
       "      <td>0</td>\n",
       "      <td>0</td>\n",
       "      <td>0</td>\n",
       "      <td>0</td>\n",
       "    </tr>\n",
       "    <tr>\n",
       "      <th>2095</th>\n",
       "      <td>https://api.github.com/repos/apache/seatunnel/...</td>\n",
       "      <td>96d0637c8471ec9370f15a522db0b23ff5dc7669</td>\n",
       "      <td>5fa746466941d871d4b1246b451f398416952541</td>\n",
       "      <td>14</td>\n",
       "      <td>964</td>\n",
       "      <td>122</td>\n",
       "      <td>64</td>\n",
       "      <td>https://api.github.com/repos/apache/seatunnel/...</td>\n",
       "      <td>2019-08-10T13:15:19Z</td>\n",
       "      <td>seatunnel-96d0637c8471ec9370f15a522db0b23ff5dc...</td>\n",
       "      <td>...</td>\n",
       "      <td>0</td>\n",
       "      <td>0</td>\n",
       "      <td>0</td>\n",
       "      <td>0</td>\n",
       "      <td>0</td>\n",
       "      <td>0</td>\n",
       "      <td>3</td>\n",
       "      <td>0</td>\n",
       "      <td>0</td>\n",
       "      <td>0</td>\n",
       "    </tr>\n",
       "    <tr>\n",
       "      <th>2096</th>\n",
       "      <td>https://api.github.com/repos/apache/seatunnel/...</td>\n",
       "      <td>b35ec02811bf7ef58bc8d831418c468ecc0a36b6</td>\n",
       "      <td>305ec511da05ba519fe4b04b46f7898b650b06c5</td>\n",
       "      <td>1</td>\n",
       "      <td>97</td>\n",
       "      <td>28</td>\n",
       "      <td>56</td>\n",
       "      <td>https://api.github.com/repos/apache/seatunnel/...</td>\n",
       "      <td>2019-07-19T10:36:13Z</td>\n",
       "      <td>seatunnel-b35ec02811bf7ef58bc8d831418c468ecc0a...</td>\n",
       "      <td>...</td>\n",
       "      <td>0</td>\n",
       "      <td>0</td>\n",
       "      <td>0</td>\n",
       "      <td>0</td>\n",
       "      <td>0</td>\n",
       "      <td>0</td>\n",
       "      <td>1</td>\n",
       "      <td>0</td>\n",
       "      <td>0</td>\n",
       "      <td>0</td>\n",
       "    </tr>\n",
       "  </tbody>\n",
       "</table>\n",
       "<p>2097 rows × 323 columns</p>\n",
       "</div>"
      ],
      "text/plain": [
       "                                                    url  \\\n",
       "0     https://api.github.com/repos/apache/seatunnel/...   \n",
       "1     https://api.github.com/repos/apache/seatunnel/...   \n",
       "2     https://api.github.com/repos/apache/seatunnel/...   \n",
       "3     https://api.github.com/repos/apache/seatunnel/...   \n",
       "4     https://api.github.com/repos/apache/seatunnel/...   \n",
       "...                                                 ...   \n",
       "2092  https://api.github.com/repos/apache/seatunnel/...   \n",
       "2093  https://api.github.com/repos/apache/seatunnel/...   \n",
       "2094  https://api.github.com/repos/apache/seatunnel/...   \n",
       "2095  https://api.github.com/repos/apache/seatunnel/...   \n",
       "2096  https://api.github.com/repos/apache/seatunnel/...   \n",
       "\n",
       "                                     begin_sha  \\\n",
       "0     c203ef5f8d6ad8bfb7f284e32a9ce5f2bc1fe142   \n",
       "1     bde19b6377f7b2fb7a34b94bd06d6ce0cc44f348   \n",
       "2     e0d8519a9d7b6dfac29c1daf4199b6fe87781d0a   \n",
       "3     e0d8519a9d7b6dfac29c1daf4199b6fe87781d0a   \n",
       "4     e0d8519a9d7b6dfac29c1daf4199b6fe87781d0a   \n",
       "...                                        ...   \n",
       "2092  04addef64bbd2567d47acbb7f434245fba7ac8a5   \n",
       "2093  79339df3455c88ba606847d79b3b3a1682c97a67   \n",
       "2094  a475a8082b030af51a03e61457ed78b7cf17ab56   \n",
       "2095  96d0637c8471ec9370f15a522db0b23ff5dc7669   \n",
       "2096  b35ec02811bf7ef58bc8d831418c468ecc0a36b6   \n",
       "\n",
       "                                       end_sha  commits  additions  deletions  \\\n",
       "0     4d429cab55482986b4d8a24c699d315631c8242a        1         64          1   \n",
       "1     c7745e63373c0fc92884982844bf55e22dd38af5        1          6          2   \n",
       "2     f4077cbbbbe5ea518073ee0035134ba0890e52b7        1          7          7   \n",
       "3     0360e7e5185bd016458a20d3b597b4ccee83dfeb        1          3          2   \n",
       "4     1b918160214a0b20ce1ae8f9e02f8e0dce243b53        1          1          0   \n",
       "...                                        ...      ...        ...        ...   \n",
       "2092  3b6a8b4058593b1ff11c44560ebcc56142cda830        1         11       1128   \n",
       "2093  04addef64bbd2567d47acbb7f434245fba7ac8a5        1         36          0   \n",
       "2094  a26d21b7d28704facbfbbecfb501b958dd59d826        6        997       1045   \n",
       "2095  5fa746466941d871d4b1246b451f398416952541       14        964        122   \n",
       "2096  305ec511da05ba519fe4b04b46f7898b650b06c5        1         97         28   \n",
       "\n",
       "      changed_files                                          begin_url  \\\n",
       "0                 1  https://api.github.com/repos/apache/seatunnel/...   \n",
       "1                 1  https://api.github.com/repos/apache/seatunnel/...   \n",
       "2                 1  https://api.github.com/repos/apache/seatunnel/...   \n",
       "3                 1  https://api.github.com/repos/apache/seatunnel/...   \n",
       "4                 1  https://api.github.com/repos/apache/seatunnel/...   \n",
       "...             ...                                                ...   \n",
       "2092             27  https://api.github.com/repos/apache/seatunnel/...   \n",
       "2093              1  https://api.github.com/repos/apache/seatunnel/...   \n",
       "2094             81  https://api.github.com/repos/apache/seatunnel/...   \n",
       "2095             64  https://api.github.com/repos/apache/seatunnel/...   \n",
       "2096             56  https://api.github.com/repos/apache/seatunnel/...   \n",
       "\n",
       "                begin_time                                          begin_key  \\\n",
       "0     2023-06-06T08:28:39Z  seatunnel-c203ef5f8d6ad8bfb7f284e32a9ce5f2bc1f...   \n",
       "1     2023-06-05T08:59:42Z  seatunnel-bde19b6377f7b2fb7a34b94bd06d6ce0cc44...   \n",
       "2     2023-06-02T15:08:41Z  seatunnel-e0d8519a9d7b6dfac29c1daf4199b6fe8778...   \n",
       "3     2023-06-02T14:17:39Z  seatunnel-e0d8519a9d7b6dfac29c1daf4199b6fe8778...   \n",
       "4     2023-06-02T10:57:16Z  seatunnel-e0d8519a9d7b6dfac29c1daf4199b6fe8778...   \n",
       "...                    ...                                                ...   \n",
       "2092  2019-08-13T15:14:02Z  seatunnel-04addef64bbd2567d47acbb7f434245fba7a...   \n",
       "2093  2019-08-13T02:16:57Z  seatunnel-79339df3455c88ba606847d79b3b3a1682c9...   \n",
       "2094  2019-08-13T01:54:31Z  seatunnel-a475a8082b030af51a03e61457ed78b7cf17...   \n",
       "2095  2019-08-10T13:15:19Z  seatunnel-96d0637c8471ec9370f15a522db0b23ff5dc...   \n",
       "2096  2019-07-19T10:36:13Z  seatunnel-b35ec02811bf7ef58bc8d831418c468ecc0a...   \n",
       "\n",
       "      ... end_java:S5411  end_java:S5413  end_java:S5803  end_java:S5869  \\\n",
       "0     ...             13               0               1               2   \n",
       "1     ...             13               0               1               2   \n",
       "2     ...             13               0               1               2   \n",
       "3     ...             13               0               1               2   \n",
       "4     ...             13               0               1               2   \n",
       "...   ...            ...             ...             ...             ...   \n",
       "2092  ...              0               0               0               0   \n",
       "2093  ...              0               0               0               0   \n",
       "2094  ...              0               0               0               0   \n",
       "2095  ...              0               0               0               0   \n",
       "2096  ...              0               0               0               0   \n",
       "\n",
       "      end_java:S5993  end_java:S6202  end_java:S6213  end_java:S6244  \\\n",
       "0                 42               0             106               1   \n",
       "1                 42               0             106               1   \n",
       "2                 42               0             106               1   \n",
       "3                 42               0             106               1   \n",
       "4                 42               0             106               1   \n",
       "...              ...             ...             ...             ...   \n",
       "2092               0               0               0               0   \n",
       "2093               0               0               0               0   \n",
       "2094               0               0               0               0   \n",
       "2095               0               0               3               0   \n",
       "2096               0               0               1               0   \n",
       "\n",
       "      end_java:S6353  end_java:S6355  \n",
       "0                  0               0  \n",
       "1                  0               0  \n",
       "2                  0               0  \n",
       "3                  0               0  \n",
       "4                  0               0  \n",
       "...              ...             ...  \n",
       "2092               0               0  \n",
       "2093               0               0  \n",
       "2094               0               0  \n",
       "2095               0               0  \n",
       "2096               0               0  \n",
       "\n",
       "[2097 rows x 323 columns]"
      ]
     },
     "execution_count": 3,
     "metadata": {},
     "output_type": "execute_result"
    }
   ],
   "source": [
    "df"
   ]
  },
  {
   "cell_type": "code",
   "execution_count": 4,
   "metadata": {
    "ExecuteTime": {
     "end_time": "2023-07-12T08:12:17.112284400Z",
     "start_time": "2023-07-12T08:12:17.103986900Z"
    },
    "collapsed": false
   },
   "outputs": [],
   "source": [
    "df['total_time'] = pd.to_datetime(df['end_time']) - pd.to_datetime(df['begin_time'])"
   ]
  },
  {
   "cell_type": "code",
   "execution_count": 5,
   "metadata": {
    "ExecuteTime": {
     "end_time": "2023-07-12T08:12:17.137486200Z",
     "start_time": "2023-07-12T08:12:17.113284Z"
    },
    "collapsed": false
   },
   "outputs": [],
   "source": [
    "df['median_time'] = df['total_time'][:178].median()"
   ]
  },
  {
   "cell_type": "code",
   "execution_count": 6,
   "metadata": {
    "ExecuteTime": {
     "end_time": "2023-07-12T08:12:17.281394600Z",
     "start_time": "2023-07-12T08:12:17.128444Z"
    },
    "collapsed": false
   },
   "outputs": [
    {
     "data": {
      "text/plain": [
       "0       False\n",
       "1       False\n",
       "2       False\n",
       "3       False\n",
       "4       False\n",
       "        ...  \n",
       "2092    False\n",
       "2093    False\n",
       "2094    False\n",
       "2095    False\n",
       "2096    False\n",
       "Name: total_time, Length: 2097, dtype: bool"
      ]
     },
     "execution_count": 6,
     "metadata": {},
     "output_type": "execute_result"
    }
   ],
   "source": [
    "df['total_time'] < timedelta(minutes=2)"
   ]
  },
  {
   "cell_type": "code",
   "execution_count": 7,
   "metadata": {
    "ExecuteTime": {
     "end_time": "2023-07-12T08:12:17.313394400Z",
     "start_time": "2023-07-12T08:12:17.160619200Z"
    },
    "collapsed": false
   },
   "outputs": [],
   "source": [
    "df['time_binary'] = df['total_time'].apply(lambda x:  0 if x < timedelta (days = 3) else 1)"
   ]
  },
  {
   "cell_type": "code",
   "execution_count": 8,
   "metadata": {
    "ExecuteTime": {
     "end_time": "2023-07-12T08:12:17.314393500Z",
     "start_time": "2023-07-12T08:12:17.206394300Z"
    },
    "collapsed": false
   },
   "outputs": [
    {
     "data": {
      "text/html": [
       "<div>\n",
       "<style scoped>\n",
       "    .dataframe tbody tr th:only-of-type {\n",
       "        vertical-align: middle;\n",
       "    }\n",
       "\n",
       "    .dataframe tbody tr th {\n",
       "        vertical-align: top;\n",
       "    }\n",
       "\n",
       "    .dataframe thead th {\n",
       "        text-align: right;\n",
       "    }\n",
       "</style>\n",
       "<table border=\"1\" class=\"dataframe\">\n",
       "  <thead>\n",
       "    <tr style=\"text-align: right;\">\n",
       "      <th></th>\n",
       "      <th>commits</th>\n",
       "      <th>additions</th>\n",
       "      <th>deletions</th>\n",
       "      <th>changed_files</th>\n",
       "      <th>begin_java:S100</th>\n",
       "      <th>begin_java:S101</th>\n",
       "      <th>begin_java:S106</th>\n",
       "      <th>begin_java:S1066</th>\n",
       "      <th>begin_java:S1068</th>\n",
       "      <th>begin_java:S107</th>\n",
       "      <th>...</th>\n",
       "      <th>end_java:S5869</th>\n",
       "      <th>end_java:S5993</th>\n",
       "      <th>end_java:S6202</th>\n",
       "      <th>end_java:S6213</th>\n",
       "      <th>end_java:S6244</th>\n",
       "      <th>end_java:S6353</th>\n",
       "      <th>end_java:S6355</th>\n",
       "      <th>total_time</th>\n",
       "      <th>median_time</th>\n",
       "      <th>time_binary</th>\n",
       "    </tr>\n",
       "  </thead>\n",
       "  <tbody>\n",
       "    <tr>\n",
       "      <th>0</th>\n",
       "      <td>1</td>\n",
       "      <td>64</td>\n",
       "      <td>1</td>\n",
       "      <td>1</td>\n",
       "      <td>0</td>\n",
       "      <td>0</td>\n",
       "      <td>8</td>\n",
       "      <td>16</td>\n",
       "      <td>64</td>\n",
       "      <td>27</td>\n",
       "      <td>...</td>\n",
       "      <td>2</td>\n",
       "      <td>42</td>\n",
       "      <td>0</td>\n",
       "      <td>106</td>\n",
       "      <td>1</td>\n",
       "      <td>0</td>\n",
       "      <td>0</td>\n",
       "      <td>0 days 00:33:23</td>\n",
       "      <td>1 days 22:44:23.500000</td>\n",
       "      <td>0</td>\n",
       "    </tr>\n",
       "    <tr>\n",
       "      <th>1</th>\n",
       "      <td>1</td>\n",
       "      <td>6</td>\n",
       "      <td>2</td>\n",
       "      <td>1</td>\n",
       "      <td>0</td>\n",
       "      <td>0</td>\n",
       "      <td>8</td>\n",
       "      <td>16</td>\n",
       "      <td>64</td>\n",
       "      <td>27</td>\n",
       "      <td>...</td>\n",
       "      <td>2</td>\n",
       "      <td>42</td>\n",
       "      <td>0</td>\n",
       "      <td>106</td>\n",
       "      <td>1</td>\n",
       "      <td>0</td>\n",
       "      <td>0</td>\n",
       "      <td>0 days 17:17:51</td>\n",
       "      <td>1 days 22:44:23.500000</td>\n",
       "      <td>0</td>\n",
       "    </tr>\n",
       "    <tr>\n",
       "      <th>2</th>\n",
       "      <td>1</td>\n",
       "      <td>7</td>\n",
       "      <td>7</td>\n",
       "      <td>1</td>\n",
       "      <td>0</td>\n",
       "      <td>0</td>\n",
       "      <td>8</td>\n",
       "      <td>16</td>\n",
       "      <td>64</td>\n",
       "      <td>26</td>\n",
       "      <td>...</td>\n",
       "      <td>2</td>\n",
       "      <td>42</td>\n",
       "      <td>0</td>\n",
       "      <td>106</td>\n",
       "      <td>1</td>\n",
       "      <td>0</td>\n",
       "      <td>0</td>\n",
       "      <td>2 days 15:18:17</td>\n",
       "      <td>1 days 22:44:23.500000</td>\n",
       "      <td>0</td>\n",
       "    </tr>\n",
       "    <tr>\n",
       "      <th>3</th>\n",
       "      <td>1</td>\n",
       "      <td>3</td>\n",
       "      <td>2</td>\n",
       "      <td>1</td>\n",
       "      <td>0</td>\n",
       "      <td>0</td>\n",
       "      <td>8</td>\n",
       "      <td>16</td>\n",
       "      <td>64</td>\n",
       "      <td>26</td>\n",
       "      <td>...</td>\n",
       "      <td>2</td>\n",
       "      <td>42</td>\n",
       "      <td>0</td>\n",
       "      <td>106</td>\n",
       "      <td>1</td>\n",
       "      <td>0</td>\n",
       "      <td>0</td>\n",
       "      <td>2 days 00:57:53</td>\n",
       "      <td>1 days 22:44:23.500000</td>\n",
       "      <td>0</td>\n",
       "    </tr>\n",
       "    <tr>\n",
       "      <th>4</th>\n",
       "      <td>1</td>\n",
       "      <td>1</td>\n",
       "      <td>0</td>\n",
       "      <td>1</td>\n",
       "      <td>0</td>\n",
       "      <td>0</td>\n",
       "      <td>8</td>\n",
       "      <td>16</td>\n",
       "      <td>64</td>\n",
       "      <td>26</td>\n",
       "      <td>...</td>\n",
       "      <td>2</td>\n",
       "      <td>42</td>\n",
       "      <td>0</td>\n",
       "      <td>106</td>\n",
       "      <td>1</td>\n",
       "      <td>0</td>\n",
       "      <td>0</td>\n",
       "      <td>5 days 15:08:24</td>\n",
       "      <td>1 days 22:44:23.500000</td>\n",
       "      <td>1</td>\n",
       "    </tr>\n",
       "    <tr>\n",
       "      <th>...</th>\n",
       "      <td>...</td>\n",
       "      <td>...</td>\n",
       "      <td>...</td>\n",
       "      <td>...</td>\n",
       "      <td>...</td>\n",
       "      <td>...</td>\n",
       "      <td>...</td>\n",
       "      <td>...</td>\n",
       "      <td>...</td>\n",
       "      <td>...</td>\n",
       "      <td>...</td>\n",
       "      <td>...</td>\n",
       "      <td>...</td>\n",
       "      <td>...</td>\n",
       "      <td>...</td>\n",
       "      <td>...</td>\n",
       "      <td>...</td>\n",
       "      <td>...</td>\n",
       "      <td>...</td>\n",
       "      <td>...</td>\n",
       "      <td>...</td>\n",
       "    </tr>\n",
       "    <tr>\n",
       "      <th>2092</th>\n",
       "      <td>1</td>\n",
       "      <td>11</td>\n",
       "      <td>1128</td>\n",
       "      <td>27</td>\n",
       "      <td>0</td>\n",
       "      <td>0</td>\n",
       "      <td>0</td>\n",
       "      <td>0</td>\n",
       "      <td>2</td>\n",
       "      <td>0</td>\n",
       "      <td>...</td>\n",
       "      <td>0</td>\n",
       "      <td>0</td>\n",
       "      <td>0</td>\n",
       "      <td>0</td>\n",
       "      <td>0</td>\n",
       "      <td>0</td>\n",
       "      <td>0</td>\n",
       "      <td>0 days 00:33:35</td>\n",
       "      <td>1 days 22:44:23.500000</td>\n",
       "      <td>0</td>\n",
       "    </tr>\n",
       "    <tr>\n",
       "      <th>2093</th>\n",
       "      <td>1</td>\n",
       "      <td>36</td>\n",
       "      <td>0</td>\n",
       "      <td>1</td>\n",
       "      <td>0</td>\n",
       "      <td>0</td>\n",
       "      <td>0</td>\n",
       "      <td>0</td>\n",
       "      <td>2</td>\n",
       "      <td>0</td>\n",
       "      <td>...</td>\n",
       "      <td>0</td>\n",
       "      <td>0</td>\n",
       "      <td>0</td>\n",
       "      <td>0</td>\n",
       "      <td>0</td>\n",
       "      <td>0</td>\n",
       "      <td>0</td>\n",
       "      <td>0 days 00:09:14</td>\n",
       "      <td>1 days 22:44:23.500000</td>\n",
       "      <td>0</td>\n",
       "    </tr>\n",
       "    <tr>\n",
       "      <th>2094</th>\n",
       "      <td>6</td>\n",
       "      <td>997</td>\n",
       "      <td>1045</td>\n",
       "      <td>81</td>\n",
       "      <td>0</td>\n",
       "      <td>0</td>\n",
       "      <td>0</td>\n",
       "      <td>0</td>\n",
       "      <td>0</td>\n",
       "      <td>0</td>\n",
       "      <td>...</td>\n",
       "      <td>0</td>\n",
       "      <td>0</td>\n",
       "      <td>0</td>\n",
       "      <td>0</td>\n",
       "      <td>0</td>\n",
       "      <td>0</td>\n",
       "      <td>0</td>\n",
       "      <td>0 days 23:14:31</td>\n",
       "      <td>1 days 22:44:23.500000</td>\n",
       "      <td>0</td>\n",
       "    </tr>\n",
       "    <tr>\n",
       "      <th>2095</th>\n",
       "      <td>14</td>\n",
       "      <td>964</td>\n",
       "      <td>122</td>\n",
       "      <td>64</td>\n",
       "      <td>0</td>\n",
       "      <td>0</td>\n",
       "      <td>1</td>\n",
       "      <td>0</td>\n",
       "      <td>0</td>\n",
       "      <td>0</td>\n",
       "      <td>...</td>\n",
       "      <td>0</td>\n",
       "      <td>0</td>\n",
       "      <td>0</td>\n",
       "      <td>3</td>\n",
       "      <td>0</td>\n",
       "      <td>0</td>\n",
       "      <td>0</td>\n",
       "      <td>31 days 01:05:35</td>\n",
       "      <td>1 days 22:44:23.500000</td>\n",
       "      <td>1</td>\n",
       "    </tr>\n",
       "    <tr>\n",
       "      <th>2096</th>\n",
       "      <td>1</td>\n",
       "      <td>97</td>\n",
       "      <td>28</td>\n",
       "      <td>56</td>\n",
       "      <td>0</td>\n",
       "      <td>0</td>\n",
       "      <td>0</td>\n",
       "      <td>0</td>\n",
       "      <td>0</td>\n",
       "      <td>0</td>\n",
       "      <td>...</td>\n",
       "      <td>0</td>\n",
       "      <td>0</td>\n",
       "      <td>0</td>\n",
       "      <td>1</td>\n",
       "      <td>0</td>\n",
       "      <td>0</td>\n",
       "      <td>0</td>\n",
       "      <td>0 days 17:01:00</td>\n",
       "      <td>1 days 22:44:23.500000</td>\n",
       "      <td>0</td>\n",
       "    </tr>\n",
       "  </tbody>\n",
       "</table>\n",
       "<p>2097 rows × 315 columns</p>\n",
       "</div>"
      ],
      "text/plain": [
       "      commits  additions  deletions  changed_files  begin_java:S100  \\\n",
       "0           1         64          1              1                0   \n",
       "1           1          6          2              1                0   \n",
       "2           1          7          7              1                0   \n",
       "3           1          3          2              1                0   \n",
       "4           1          1          0              1                0   \n",
       "...       ...        ...        ...            ...              ...   \n",
       "2092        1         11       1128             27                0   \n",
       "2093        1         36          0              1                0   \n",
       "2094        6        997       1045             81                0   \n",
       "2095       14        964        122             64                0   \n",
       "2096        1         97         28             56                0   \n",
       "\n",
       "      begin_java:S101  begin_java:S106  begin_java:S1066  begin_java:S1068  \\\n",
       "0                   0                8                16                64   \n",
       "1                   0                8                16                64   \n",
       "2                   0                8                16                64   \n",
       "3                   0                8                16                64   \n",
       "4                   0                8                16                64   \n",
       "...               ...              ...               ...               ...   \n",
       "2092                0                0                 0                 2   \n",
       "2093                0                0                 0                 2   \n",
       "2094                0                0                 0                 0   \n",
       "2095                0                1                 0                 0   \n",
       "2096                0                0                 0                 0   \n",
       "\n",
       "      begin_java:S107  ...  end_java:S5869  end_java:S5993  end_java:S6202  \\\n",
       "0                  27  ...               2              42               0   \n",
       "1                  27  ...               2              42               0   \n",
       "2                  26  ...               2              42               0   \n",
       "3                  26  ...               2              42               0   \n",
       "4                  26  ...               2              42               0   \n",
       "...               ...  ...             ...             ...             ...   \n",
       "2092                0  ...               0               0               0   \n",
       "2093                0  ...               0               0               0   \n",
       "2094                0  ...               0               0               0   \n",
       "2095                0  ...               0               0               0   \n",
       "2096                0  ...               0               0               0   \n",
       "\n",
       "      end_java:S6213  end_java:S6244  end_java:S6353  end_java:S6355  \\\n",
       "0                106               1               0               0   \n",
       "1                106               1               0               0   \n",
       "2                106               1               0               0   \n",
       "3                106               1               0               0   \n",
       "4                106               1               0               0   \n",
       "...              ...             ...             ...             ...   \n",
       "2092               0               0               0               0   \n",
       "2093               0               0               0               0   \n",
       "2094               0               0               0               0   \n",
       "2095               3               0               0               0   \n",
       "2096               1               0               0               0   \n",
       "\n",
       "           total_time            median_time  time_binary  \n",
       "0     0 days 00:33:23 1 days 22:44:23.500000            0  \n",
       "1     0 days 17:17:51 1 days 22:44:23.500000            0  \n",
       "2     2 days 15:18:17 1 days 22:44:23.500000            0  \n",
       "3     2 days 00:57:53 1 days 22:44:23.500000            0  \n",
       "4     5 days 15:08:24 1 days 22:44:23.500000            1  \n",
       "...               ...                    ...          ...  \n",
       "2092  0 days 00:33:35 1 days 22:44:23.500000            0  \n",
       "2093  0 days 00:09:14 1 days 22:44:23.500000            0  \n",
       "2094  0 days 23:14:31 1 days 22:44:23.500000            0  \n",
       "2095 31 days 01:05:35 1 days 22:44:23.500000            1  \n",
       "2096  0 days 17:01:00 1 days 22:44:23.500000            0  \n",
       "\n",
       "[2097 rows x 315 columns]"
      ]
     },
     "execution_count": 8,
     "metadata": {},
     "output_type": "execute_result"
    }
   ],
   "source": [
    "df.loc[:, ~df.columns.isin([\n",
    "                                'url', 'begin_url', 'end_url',\n",
    "                                # 'time_binary',\n",
    "                                # 'total_time' ,\n",
    "                                'begin_sha', 'end_sha', 'begin_time' , 'begin_key', 'begin_revision', 'end_time', 'end_key', 'end_revision'])]"
   ]
  },
  {
   "attachments": {},
   "cell_type": "markdown",
   "metadata": {
    "collapsed": false
   },
   "source": [
    "Visualize the Data"
   ]
  },
  {
   "cell_type": "code",
   "execution_count": 9,
   "metadata": {
    "ExecuteTime": {
     "end_time": "2023-07-12T08:12:17.904776300Z",
     "start_time": "2023-07-12T08:12:17.253396200Z"
    },
    "collapsed": false
   },
   "outputs": [
    {
     "data": {
      "text/plain": [
       "<Axes: xlabel='additions', ylabel='time_binary'>"
      ]
     },
     "execution_count": 9,
     "metadata": {},
     "output_type": "execute_result"
    },
    {
     "data": {
      "image/png": "[encoded data removed]",
      "text/plain": [
       "<Figure size 640x480 with 1 Axes>"
      ]
     },
     "metadata": {},
     "output_type": "display_data"
    }
   ],
   "source": [
    "import seaborn as sns\n",
    "\n",
    "sns.scatterplot(data = df, x = 'additions' ,y = 'time_binary' , hue = 'begin_java:S106')"
   ]
  },
  {
   "attachments": {},
   "cell_type": "markdown",
   "metadata": {
    "collapsed": false
   },
   "source": [
    "Normalizing the Data"
   ]
  },
  {
   "cell_type": "code",
   "execution_count": 10,
   "metadata": {
    "ExecuteTime": {
     "end_time": "2023-07-12T08:12:17.971128100Z",
     "start_time": "2023-07-12T08:12:17.905775900Z"
    },
    "collapsed": false
   },
   "outputs": [],
   "source": [
    "from sklearn.model_selection import train_test_split\n",
    "\n",
    "X_train, X_test, y_train, y_test = train_test_split(df[['additions', 'time_binary']], df[['begin_java:S106']], test_size=0.33, random_state=0)"
   ]
  },
  {
   "cell_type": "code",
   "execution_count": 11,
   "metadata": {
    "ExecuteTime": {
     "end_time": "2023-07-12T08:12:17.971128100Z",
     "start_time": "2023-07-12T08:12:17.952760500Z"
    },
    "collapsed": false
   },
   "outputs": [],
   "source": [
    "from sklearn import preprocessing\n",
    "\n",
    "X_train_norm = preprocessing.normalize(X_train)\n",
    "X_test_norm = preprocessing.normalize(X_test)"
   ]
  },
  {
   "attachments": {},
   "cell_type": "markdown",
   "metadata": {
    "collapsed": false
   },
   "source": [
    "Fitting and Evaluating the Model"
   ]
  },
  {
   "cell_type": "code",
   "execution_count": 12,
   "metadata": {
    "ExecuteTime": {
     "end_time": "2023-07-12T08:12:18.189673300Z",
     "start_time": "2023-07-12T08:12:17.971128100Z"
    },
    "collapsed": false
   },
   "outputs": [
    {
     "data": {
      "text/html": [
       "<style>#sk-container-id-1 {color: black;background-color: white;}#sk-container-id-1 pre{padding: 0;}#sk-container-id-1 div.sk-toggleable {background-color: white;}#sk-container-id-1 label.sk-toggleable__label {cursor: pointer;display: block;width: 100%;margin-bottom: 0;padding: 0.3em;box-sizing: border-box;text-align: center;}#sk-container-id-1 label.sk-toggleable__label-arrow:before {content: \"▸\";float: left;margin-right: 0.25em;color: #696969;}#sk-container-id-1 label.sk-toggleable__label-arrow:hover:before {color: black;}#sk-container-id-1 div.sk-estimator:hover label.sk-toggleable__label-arrow:before {color: black;}#sk-container-id-1 div.sk-toggleable__content {max-height: 0;max-width: 0;overflow: hidden;text-align: left;background-color: #f0f8ff;}#sk-container-id-1 div.sk-toggleable__content pre {margin: 0.2em;color: black;border-radius: 0.25em;background-color: #f0f8ff;}#sk-container-id-1 input.sk-toggleable__control:checked~div.sk-toggleable__content {max-height: 200px;max-width: 100%;overflow: auto;}#sk-container-id-1 input.sk-toggleable__control:checked~label.sk-toggleable__label-arrow:before {content: \"▾\";}#sk-container-id-1 div.sk-estimator input.sk-toggleable__control:checked~label.sk-toggleable__label {background-color: #d4ebff;}#sk-container-id-1 div.sk-label input.sk-toggleable__control:checked~label.sk-toggleable__label {background-color: #d4ebff;}#sk-container-id-1 input.sk-hidden--visually {border: 0;clip: rect(1px 1px 1px 1px);clip: rect(1px, 1px, 1px, 1px);height: 1px;margin: -1px;overflow: hidden;padding: 0;position: absolute;width: 1px;}#sk-container-id-1 div.sk-estimator {font-family: monospace;background-color: #f0f8ff;border: 1px dotted black;border-radius: 0.25em;box-sizing: border-box;margin-bottom: 0.5em;}#sk-container-id-1 div.sk-estimator:hover {background-color: #d4ebff;}#sk-container-id-1 div.sk-parallel-item::after {content: \"\";width: 100%;border-bottom: 1px solid gray;flex-grow: 1;}#sk-container-id-1 div.sk-label:hover label.sk-toggleable__label {background-color: #d4ebff;}#sk-container-id-1 div.sk-serial::before {content: \"\";position: absolute;border-left: 1px solid gray;box-sizing: border-box;top: 0;bottom: 0;left: 50%;z-index: 0;}#sk-container-id-1 div.sk-serial {display: flex;flex-direction: column;align-items: center;background-color: white;padding-right: 0.2em;padding-left: 0.2em;position: relative;}#sk-container-id-1 div.sk-item {position: relative;z-index: 1;}#sk-container-id-1 div.sk-parallel {display: flex;align-items: stretch;justify-content: center;background-color: white;position: relative;}#sk-container-id-1 div.sk-item::before, #sk-container-id-1 div.sk-parallel-item::before {content: \"\";position: absolute;border-left: 1px solid gray;box-sizing: border-box;top: 0;bottom: 0;left: 50%;z-index: -1;}#sk-container-id-1 div.sk-parallel-item {display: flex;flex-direction: column;z-index: 1;position: relative;background-color: white;}#sk-container-id-1 div.sk-parallel-item:first-child::after {align-self: flex-end;width: 50%;}#sk-container-id-1 div.sk-parallel-item:last-child::after {align-self: flex-start;width: 50%;}#sk-container-id-1 div.sk-parallel-item:only-child::after {width: 0;}#sk-container-id-1 div.sk-dashed-wrapped {border: 1px dashed gray;margin: 0 0.4em 0.5em 0.4em;box-sizing: border-box;padding-bottom: 0.4em;background-color: white;}#sk-container-id-1 div.sk-label label {font-family: monospace;font-weight: bold;display: inline-block;line-height: 1.2em;}#sk-container-id-1 div.sk-label-container {text-align: center;}#sk-container-id-1 div.sk-container {/* jupyter's `normalize.less` sets `[hidden] { display: none; }` but bootstrap.min.css set `[hidden] { display: none !important; }` so we also need the `!important` here to be able to override the default hidden behavior on the sphinx rendered scikit-learn.org. See: https://github.com/scikit-learn/scikit-learn/issues/21755 */display: inline-block !important;position: relative;}#sk-container-id-1 div.sk-text-repr-fallback {display: none;}</style><div id=\"sk-container-id-1\" class=\"sk-top-container\"><div class=\"sk-text-repr-fallback\"><pre>KMeans(n_clusters=3, n_init=&#x27;auto&#x27;, random_state=0)</pre><b>In a Jupyter environment, please rerun this cell to show the HTML representation or trust the notebook. <br />On GitHub, the HTML representation is unable to render, please try loading this page with nbviewer.org.</b></div><div class=\"sk-container\" hidden><div class=\"sk-item\"><div class=\"sk-estimator sk-toggleable\"><input class=\"sk-toggleable__control sk-hidden--visually\" id=\"sk-estimator-id-1\" type=\"checkbox\" checked><label for=\"sk-estimator-id-1\" class=\"sk-toggleable__label sk-toggleable__label-arrow\">KMeans</label><div class=\"sk-toggleable__content\"><pre>KMeans(n_clusters=3, n_init=&#x27;auto&#x27;, random_state=0)</pre></div></div></div></div></div>"
      ],
      "text/plain": [
       "KMeans(n_clusters=3, n_init='auto', random_state=0)"
      ]
     },
     "execution_count": 12,
     "metadata": {},
     "output_type": "execute_result"
    }
   ],
   "source": [
    "from sklearn.cluster import KMeans\n",
    "\n",
    "kmeans = KMeans(n_clusters = 3, random_state = 0, n_init='auto')\n",
    "kmeans.fit(X_train_norm)"
   ]
  },
  {
   "attachments": {},
   "cell_type": "markdown",
   "metadata": {
    "collapsed": false
   },
   "source": []
  },
  {
   "cell_type": "code",
   "execution_count": 13,
   "metadata": {
    "ExecuteTime": {
     "end_time": "2023-07-12T08:12:18.655216600Z",
     "start_time": "2023-07-12T08:12:18.189673300Z"
    },
    "collapsed": false
   },
   "outputs": [
    {
     "data": {
      "text/plain": [
       "<Axes: xlabel='additions', ylabel='time_binary'>"
      ]
     },
     "execution_count": 13,
     "metadata": {},
     "output_type": "execute_result"
    },
    {
     "data": {
      "image/png": "[encoded data removed]",
      "text/plain": [
       "<Figure size 640x480 with 1 Axes>"
      ]
     },
     "metadata": {},
     "output_type": "display_data"
    }
   ],
   "source": [
    "sns.scatterplot(data = X_train, x = 'additions', y = 'time_binary', hue = kmeans.labels_)"
   ]
  },
  {
   "cell_type": "code",
   "execution_count": 14,
   "metadata": {
    "ExecuteTime": {
     "end_time": "2023-07-12T08:12:18.841002300Z",
     "start_time": "2023-07-12T08:12:18.656218300Z"
    },
    "collapsed": false
   },
   "outputs": [
    {
     "data": {
      "text/plain": [
       "<Axes: ylabel='begin_java:S106'>"
      ]
     },
     "execution_count": 14,
     "metadata": {},
     "output_type": "execute_result"
    },
    {
     "data": {
      "image/png": "[encoded data removed]",
      "text/plain": [
       "<Figure size 640x480 with 1 Axes>"
      ]
     },
     "metadata": {},
     "output_type": "display_data"
    }
   ],
   "source": [
    "sns.boxplot(x = kmeans.labels_, y = y_train['begin_java:S106'])"
   ]
  },
  {
   "cell_type": "code",
   "execution_count": 15,
   "metadata": {
    "ExecuteTime": {
     "end_time": "2023-07-12T08:12:18.910211800Z",
     "start_time": "2023-07-12T08:12:18.842520900Z"
    },
    "collapsed": false
   },
   "outputs": [
    {
     "data": {
      "text/plain": [
       "0.9688973041024881"
      ]
     },
     "execution_count": 15,
     "metadata": {},
     "output_type": "execute_result"
    }
   ],
   "source": [
    "from sklearn.metrics import silhouette_score\n",
    "\n",
    "silhouette_score(X_train_norm, kmeans.labels_, metric='euclidean')"
   ]
  },
  {
   "attachments": {},
   "cell_type": "markdown",
   "metadata": {
    "collapsed": false
   },
   "source": [
    "Choosing the best number of clusters"
   ]
  },
  {
   "cell_type": "code",
   "execution_count": 16,
   "metadata": {
    "ExecuteTime": {
     "end_time": "2023-07-12T08:12:19.378299900Z",
     "start_time": "2023-07-12T08:12:18.904163700Z"
    },
    "collapsed": false
   },
   "outputs": [],
   "source": [
    "K = range(2, 8)\n",
    "fits = []\n",
    "score = []\n",
    "\n",
    "\n",
    "for k in K:\n",
    "    # train the model for current value of k on training data\n",
    "    model = KMeans(n_clusters = k, random_state = 0, n_init='auto').fit(X_train_norm)\n",
    "\n",
    "    # append the model to fits\n",
    "    fits.append(model)\n",
    "\n",
    "    # Append the silhouette score to scores\n",
    "    score.append(silhouette_score(X_train_norm, model.labels_, metric='euclidean'))"
   ]
  },
  {
   "cell_type": "code",
   "execution_count": 17,
   "metadata": {
    "ExecuteTime": {
     "end_time": "2023-07-12T08:12:19.799689300Z",
     "start_time": "2023-07-12T08:12:19.378299900Z"
    },
    "collapsed": false
   },
   "outputs": [
    {
     "data": {
      "text/plain": [
       "<Axes: xlabel='additions', ylabel='time_binary'>"
      ]
     },
     "execution_count": 17,
     "metadata": {},
     "output_type": "execute_result"
    },
    {
     "data": {
      "image/png": "[encoded data removed]",
      "text/plain": [
       "<Figure size 640x480 with 1 Axes>"
      ]
     },
     "metadata": {},
     "output_type": "display_data"
    }
   ],
   "source": [
    "sns.scatterplot(data = X_train, x = 'additions', y = 'time_binary', hue = fits[0].labels_)"
   ]
  },
  {
   "cell_type": "code",
   "execution_count": 18,
   "metadata": {
    "ExecuteTime": {
     "end_time": "2023-07-12T08:12:20.338605900Z",
     "start_time": "2023-07-12T08:12:19.799689300Z"
    },
    "collapsed": false
   },
   "outputs": [
    {
     "data": {
      "text/plain": [
       "<Axes: xlabel='additions', ylabel='time_binary'>"
      ]
     },
     "execution_count": 18,
     "metadata": {},
     "output_type": "execute_result"
    },
    {
     "data": {
      "image/png": "[encoded data removed]",
      "text/plain": [
       "<Figure size 640x480 with 1 Axes>"
      ]
     },
     "metadata": {},
     "output_type": "display_data"
    }
   ],
   "source": [
    "sns.scatterplot(data = X_train, x = 'additions', y = 'time_binary', hue = fits[2].labels_)"
   ]
  },
  {
   "cell_type": "code",
   "execution_count": 19,
   "metadata": {
    "ExecuteTime": {
     "end_time": "2023-07-12T08:12:20.664417400Z",
     "start_time": "2023-07-12T08:12:20.338605900Z"
    },
    "collapsed": false
   },
   "outputs": [
    {
     "data": {
      "text/plain": [
       "<Axes: >"
      ]
     },
     "execution_count": 19,
     "metadata": {},
     "output_type": "execute_result"
    },
    {
     "data": {
      "image/png": "[encoded data removed]",
      "text/plain": [
       "<Figure size 640x480 with 1 Axes>"
      ]
     },
     "metadata": {},
     "output_type": "display_data"
    }
   ],
   "source": [
    "sns.lineplot(x = K, y = score)"
   ]
  },
  {
   "cell_type": "code",
   "execution_count": 20,
   "metadata": {
    "ExecuteTime": {
     "end_time": "2023-07-12T08:12:21.269156200Z",
     "start_time": "2023-07-12T08:12:20.632831Z"
    },
    "collapsed": false
   },
   "outputs": [
    {
     "data": {
      "text/plain": [
       "<Axes: xlabel='additions', ylabel='time_binary'>"
      ]
     },
     "execution_count": 20,
     "metadata": {},
     "output_type": "execute_result"
    },
    {
     "data": {
      "image/png": "[encoded data removed]",
      "text/plain": [
       "<Figure size 640x480 with 1 Axes>"
      ]
     },
     "metadata": {},
     "output_type": "display_data"
    }
   ],
   "source": [
    "sns.scatterplot(data = X_train, x = 'additions', y = 'time_binary', hue = fits[3].labels_)"
   ]
  },
  {
   "cell_type": "code",
   "execution_count": 21,
   "metadata": {
    "ExecuteTime": {
     "end_time": "2023-07-12T08:12:21.492234100Z",
     "start_time": "2023-07-12T08:12:21.269156200Z"
    },
    "collapsed": false
   },
   "outputs": [
    {
     "data": {
      "text/plain": [
       "<Axes: ylabel='begin_java:S106'>"
      ]
     },
     "execution_count": 21,
     "metadata": {},
     "output_type": "execute_result"
    },
    {
     "data": {
      "image/png": "[encoded data removed]",
      "text/plain": [
       "<Figure size 640x480 with 1 Axes>"
      ]
     },
     "metadata": {},
     "output_type": "display_data"
    }
   ],
   "source": [
    "sns.boxplot(x = fits[3].labels_, y = y_train['begin_java:S106'])"
   ]
  },
  {
   "cell_type": "code",
   "execution_count": null,
   "metadata": {
    "ExecuteTime": {
     "end_time": "2023-07-12T08:12:21.519444400Z",
     "start_time": "2023-07-12T08:12:21.493237400Z"
    },
    "collapsed": false
   },
   "outputs": [],
   "source": []
  }
 ],
 "metadata": {
  "kernelspec": {
   "display_name": "Python 3",
   "language": "python",
   "name": "python3"
  },
  "language_info": {
   "codemirror_mode": {
    "name": "ipython",
    "version": 3
   },
   "file_extension": ".py",
   "mimetype": "text/x-python",
   "name": "python",
   "nbconvert_exporter": "python",
   "pygments_lexer": "ipython3",
   "version": "3.10.9"
  }
 },
 "nbformat": 4,
 "nbformat_minor": 0
}
