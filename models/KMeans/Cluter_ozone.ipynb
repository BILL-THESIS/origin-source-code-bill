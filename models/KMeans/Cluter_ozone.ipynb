{
 "cells": [
  {
   "cell_type": "code",
   "execution_count": 1,
   "metadata": {
    "collapsed": true,
    "ExecuteTime": {
     "end_time": "2023-08-07T11:39:30.395607400Z",
     "start_time": "2023-08-07T11:39:29.369618100Z"
    }
   },
   "outputs": [],
   "source": [
    "import pandas as pd\n",
    "from sklearn import preprocessing"
   ]
  },
  {
   "cell_type": "code",
   "execution_count": 2,
   "metadata": {
    "collapsed": false,
    "ExecuteTime": {
     "end_time": "2023-08-07T11:39:30.414401400Z",
     "start_time": "2023-08-07T11:39:30.398203200Z"
    }
   },
   "outputs": [],
   "source": [
    "df = pd.read_csv('../../Github/ozone/ozone_model_times.csv')"
   ]
  },
  {
   "cell_type": "code",
   "execution_count": 3,
   "metadata": {
    "collapsed": false,
    "ExecuteTime": {
     "end_time": "2023-08-07T11:39:30.435515400Z",
     "start_time": "2023-08-07T11:39:30.418913600Z"
    }
   },
   "outputs": [],
   "source": [
    "X = df.loc[:, ~df.columns.isin(['begin_sha', 'end_sha', 'begin_time', 'end_time'])]"
   ]
  },
  {
   "cell_type": "code",
   "execution_count": 4,
   "metadata": {
    "collapsed": false,
    "ExecuteTime": {
     "end_time": "2023-08-07T11:39:30.469420500Z",
     "start_time": "2023-08-07T11:39:30.430479Z"
    }
   },
   "outputs": [
    {
     "data": {
      "text/plain": "      commits  additions  deletions  changed_files         total_time  \\\n0           1          6          3              1     24978000000000   \n1           4         60          0              6     27174000000000   \n2           3         72          3              2     43727000000000   \n3           3        393        107              7    116274000000000   \n4          38        132         23              7    193769000000000   \n...       ...        ...        ...            ...                ...   \n1800        3          3          2              1   9439818000000000   \n1801        7        428         47              8   5353469000000000   \n1802       20         39         35             21  10442829000000000   \n1803        7         69          0              1  29549932000000000   \n1804        3        166          4             16  25333529000000000   \n\n      begin_Dispensables  begin_Bloaters  begin_Change Preventers  \\\n0                   2006          1130.0                   1130.0   \n1                   1002           565.0                    565.0   \n2                   1001           565.0                    565.0   \n3                   2006          1130.0                   1130.0   \n4                    996           563.0                    563.0   \n...                  ...             ...                      ...   \n1800                 734           428.0                    428.0   \n1801                1462           854.0                    854.0   \n1802                 727           427.0                    427.0   \n1803                 886           506.0                    506.0   \n1804                 751           428.0                    428.0   \n\n      begin_Couplers  begin_Object-Orientation Abusers  end_Dispensables  \\\n0              734.0                             734.0            1003.0   \n1              367.0                             367.0             990.0   \n2              365.0                             365.0             983.0   \n3              734.0                             734.0             998.0   \n4              365.0                             365.0             990.0   \n...              ...                               ...               ...   \n1800           241.0                             241.0               0.0   \n1801           482.0                             482.0               0.0   \n1802           233.0                             233.0               0.0   \n1803           298.0                             298.0               0.0   \n1804           241.0                             241.0               0.0   \n\n      end_Bloaters  end_Change Preventers  end_Couplers  \\\n0            566.0                  566.0         367.0   \n1            563.0                  563.0         365.0   \n2            568.0                  568.0         366.0   \n3            565.0                  565.0         365.0   \n4            563.0                  563.0         365.0   \n...            ...                    ...           ...   \n1800           0.0                    0.0           0.0   \n1801           0.0                    0.0           0.0   \n1802           0.0                    0.0           0.0   \n1803           0.0                    0.0           0.0   \n1804           0.0                    0.0           0.0   \n\n      end_Object-Orientation Abusers  \n0                              910.0  \n1                              891.0  \n2                              900.0  \n3                              907.0  \n4                              891.0  \n...                              ...  \n1800                             0.0  \n1801                             0.0  \n1802                             0.0  \n1803                             0.0  \n1804                             0.0  \n\n[1805 rows x 15 columns]",
      "text/html": "<div>\n<style scoped>\n    .dataframe tbody tr th:only-of-type {\n        vertical-align: middle;\n    }\n\n    .dataframe tbody tr th {\n        vertical-align: top;\n    }\n\n    .dataframe thead th {\n        text-align: right;\n    }\n</style>\n<table border=\"1\" class=\"dataframe\">\n  <thead>\n    <tr style=\"text-align: right;\">\n      <th></th>\n      <th>commits</th>\n      <th>additions</th>\n      <th>deletions</th>\n      <th>changed_files</th>\n      <th>total_time</th>\n      <th>begin_Dispensables</th>\n      <th>begin_Bloaters</th>\n      <th>begin_Change Preventers</th>\n      <th>begin_Couplers</th>\n      <th>begin_Object-Orientation Abusers</th>\n      <th>end_Dispensables</th>\n      <th>end_Bloaters</th>\n      <th>end_Change Preventers</th>\n      <th>end_Couplers</th>\n      <th>end_Object-Orientation Abusers</th>\n    </tr>\n  </thead>\n  <tbody>\n    <tr>\n      <th>0</th>\n      <td>1</td>\n      <td>6</td>\n      <td>3</td>\n      <td>1</td>\n      <td>24978000000000</td>\n      <td>2006</td>\n      <td>1130.0</td>\n      <td>1130.0</td>\n      <td>734.0</td>\n      <td>734.0</td>\n      <td>1003.0</td>\n      <td>566.0</td>\n      <td>566.0</td>\n      <td>367.0</td>\n      <td>910.0</td>\n    </tr>\n    <tr>\n      <th>1</th>\n      <td>4</td>\n      <td>60</td>\n      <td>0</td>\n      <td>6</td>\n      <td>27174000000000</td>\n      <td>1002</td>\n      <td>565.0</td>\n      <td>565.0</td>\n      <td>367.0</td>\n      <td>367.0</td>\n      <td>990.0</td>\n      <td>563.0</td>\n      <td>563.0</td>\n      <td>365.0</td>\n      <td>891.0</td>\n    </tr>\n    <tr>\n      <th>2</th>\n      <td>3</td>\n      <td>72</td>\n      <td>3</td>\n      <td>2</td>\n      <td>43727000000000</td>\n      <td>1001</td>\n      <td>565.0</td>\n      <td>565.0</td>\n      <td>365.0</td>\n      <td>365.0</td>\n      <td>983.0</td>\n      <td>568.0</td>\n      <td>568.0</td>\n      <td>366.0</td>\n      <td>900.0</td>\n    </tr>\n    <tr>\n      <th>3</th>\n      <td>3</td>\n      <td>393</td>\n      <td>107</td>\n      <td>7</td>\n      <td>116274000000000</td>\n      <td>2006</td>\n      <td>1130.0</td>\n      <td>1130.0</td>\n      <td>734.0</td>\n      <td>734.0</td>\n      <td>998.0</td>\n      <td>565.0</td>\n      <td>565.0</td>\n      <td>365.0</td>\n      <td>907.0</td>\n    </tr>\n    <tr>\n      <th>4</th>\n      <td>38</td>\n      <td>132</td>\n      <td>23</td>\n      <td>7</td>\n      <td>193769000000000</td>\n      <td>996</td>\n      <td>563.0</td>\n      <td>563.0</td>\n      <td>365.0</td>\n      <td>365.0</td>\n      <td>990.0</td>\n      <td>563.0</td>\n      <td>563.0</td>\n      <td>365.0</td>\n      <td>891.0</td>\n    </tr>\n    <tr>\n      <th>...</th>\n      <td>...</td>\n      <td>...</td>\n      <td>...</td>\n      <td>...</td>\n      <td>...</td>\n      <td>...</td>\n      <td>...</td>\n      <td>...</td>\n      <td>...</td>\n      <td>...</td>\n      <td>...</td>\n      <td>...</td>\n      <td>...</td>\n      <td>...</td>\n      <td>...</td>\n    </tr>\n    <tr>\n      <th>1800</th>\n      <td>3</td>\n      <td>3</td>\n      <td>2</td>\n      <td>1</td>\n      <td>9439818000000000</td>\n      <td>734</td>\n      <td>428.0</td>\n      <td>428.0</td>\n      <td>241.0</td>\n      <td>241.0</td>\n      <td>0.0</td>\n      <td>0.0</td>\n      <td>0.0</td>\n      <td>0.0</td>\n      <td>0.0</td>\n    </tr>\n    <tr>\n      <th>1801</th>\n      <td>7</td>\n      <td>428</td>\n      <td>47</td>\n      <td>8</td>\n      <td>5353469000000000</td>\n      <td>1462</td>\n      <td>854.0</td>\n      <td>854.0</td>\n      <td>482.0</td>\n      <td>482.0</td>\n      <td>0.0</td>\n      <td>0.0</td>\n      <td>0.0</td>\n      <td>0.0</td>\n      <td>0.0</td>\n    </tr>\n    <tr>\n      <th>1802</th>\n      <td>20</td>\n      <td>39</td>\n      <td>35</td>\n      <td>21</td>\n      <td>10442829000000000</td>\n      <td>727</td>\n      <td>427.0</td>\n      <td>427.0</td>\n      <td>233.0</td>\n      <td>233.0</td>\n      <td>0.0</td>\n      <td>0.0</td>\n      <td>0.0</td>\n      <td>0.0</td>\n      <td>0.0</td>\n    </tr>\n    <tr>\n      <th>1803</th>\n      <td>7</td>\n      <td>69</td>\n      <td>0</td>\n      <td>1</td>\n      <td>29549932000000000</td>\n      <td>886</td>\n      <td>506.0</td>\n      <td>506.0</td>\n      <td>298.0</td>\n      <td>298.0</td>\n      <td>0.0</td>\n      <td>0.0</td>\n      <td>0.0</td>\n      <td>0.0</td>\n      <td>0.0</td>\n    </tr>\n    <tr>\n      <th>1804</th>\n      <td>3</td>\n      <td>166</td>\n      <td>4</td>\n      <td>16</td>\n      <td>25333529000000000</td>\n      <td>751</td>\n      <td>428.0</td>\n      <td>428.0</td>\n      <td>241.0</td>\n      <td>241.0</td>\n      <td>0.0</td>\n      <td>0.0</td>\n      <td>0.0</td>\n      <td>0.0</td>\n      <td>0.0</td>\n    </tr>\n  </tbody>\n</table>\n<p>1805 rows × 15 columns</p>\n</div>"
     },
     "execution_count": 4,
     "metadata": {},
     "output_type": "execute_result"
    }
   ],
   "source": [
    "X"
   ]
  },
  {
   "cell_type": "code",
   "execution_count": 5,
   "metadata": {
    "collapsed": false,
    "ExecuteTime": {
     "end_time": "2023-08-07T11:39:30.523205700Z",
     "start_time": "2023-08-07T11:39:30.463881500Z"
    }
   },
   "outputs": [],
   "source": [
    "scaler = preprocessing.StandardScaler()\n",
    "df_scaler = scaler.fit_transform(X)\n",
    "df_scaler_col = pd.DataFrame(df_scaler)\n",
    "df_scaler = df_scaler.T"
   ]
  },
  {
   "cell_type": "code",
   "execution_count": 6,
   "metadata": {
    "collapsed": false,
    "ExecuteTime": {
     "end_time": "2023-08-07T11:39:30.528240400Z",
     "start_time": "2023-08-07T11:39:30.475389600Z"
    }
   },
   "outputs": [
    {
     "data": {
      "text/plain": "(15, 1805)"
     },
     "execution_count": 6,
     "metadata": {},
     "output_type": "execute_result"
    }
   ],
   "source": [
    "df_scaler.shape"
   ]
  },
  {
   "cell_type": "code",
   "execution_count": 7,
   "metadata": {
    "collapsed": false,
    "ExecuteTime": {
     "end_time": "2023-08-07T11:39:30.663777Z",
     "start_time": "2023-08-07T11:39:30.510633500Z"
    }
   },
   "outputs": [],
   "source": [
    "#Silhouette analysis\n",
    "from sklearn.cluster import KMeans\n",
    "from sklearn.metrics import silhouette_score"
   ]
  },
  {
   "cell_type": "code",
   "execution_count": 8,
   "metadata": {
    "collapsed": false,
    "ExecuteTime": {
     "end_time": "2023-08-07T11:39:36.086214Z",
     "start_time": "2023-08-07T11:39:30.665740Z"
    }
   },
   "outputs": [
    {
     "name": "stderr",
     "output_type": "stream",
     "text": [
      "C:\\Users\\patcharaprapa_k\\AppData\\Local\\anaconda3\\lib\\site-packages\\sklearn\\cluster\\_kmeans.py:870: FutureWarning: The default value of `n_init` will change from 10 to 'auto' in 1.4. Set the value of `n_init` explicitly to suppress the warning\n",
      "  warnings.warn(\n",
      "C:\\Users\\patcharaprapa_k\\AppData\\Local\\anaconda3\\lib\\site-packages\\sklearn\\cluster\\_kmeans.py:1382: UserWarning: KMeans is known to have a memory leak on Windows with MKL, when there are less chunks than available threads. You can avoid it by setting the environment variable OMP_NUM_THREADS=1.\n",
      "  warnings.warn(\n",
      "C:\\Users\\patcharaprapa_k\\AppData\\Local\\anaconda3\\lib\\site-packages\\sklearn\\cluster\\_kmeans.py:870: FutureWarning: The default value of `n_init` will change from 10 to 'auto' in 1.4. Set the value of `n_init` explicitly to suppress the warning\n",
      "  warnings.warn(\n",
      "C:\\Users\\patcharaprapa_k\\AppData\\Local\\anaconda3\\lib\\site-packages\\sklearn\\cluster\\_kmeans.py:1382: UserWarning: KMeans is known to have a memory leak on Windows with MKL, when there are less chunks than available threads. You can avoid it by setting the environment variable OMP_NUM_THREADS=1.\n",
      "  warnings.warn(\n",
      "C:\\Users\\patcharaprapa_k\\AppData\\Local\\anaconda3\\lib\\site-packages\\sklearn\\cluster\\_kmeans.py:870: FutureWarning: The default value of `n_init` will change from 10 to 'auto' in 1.4. Set the value of `n_init` explicitly to suppress the warning\n",
      "  warnings.warn(\n",
      "C:\\Users\\patcharaprapa_k\\AppData\\Local\\anaconda3\\lib\\site-packages\\sklearn\\cluster\\_kmeans.py:1382: UserWarning: KMeans is known to have a memory leak on Windows with MKL, when there are less chunks than available threads. You can avoid it by setting the environment variable OMP_NUM_THREADS=1.\n",
      "  warnings.warn(\n",
      "C:\\Users\\patcharaprapa_k\\AppData\\Local\\anaconda3\\lib\\site-packages\\sklearn\\cluster\\_kmeans.py:870: FutureWarning: The default value of `n_init` will change from 10 to 'auto' in 1.4. Set the value of `n_init` explicitly to suppress the warning\n",
      "  warnings.warn(\n",
      "C:\\Users\\patcharaprapa_k\\AppData\\Local\\anaconda3\\lib\\site-packages\\sklearn\\cluster\\_kmeans.py:1382: UserWarning: KMeans is known to have a memory leak on Windows with MKL, when there are less chunks than available threads. You can avoid it by setting the environment variable OMP_NUM_THREADS=1.\n",
      "  warnings.warn(\n",
      "C:\\Users\\patcharaprapa_k\\AppData\\Local\\anaconda3\\lib\\site-packages\\sklearn\\cluster\\_kmeans.py:870: FutureWarning: The default value of `n_init` will change from 10 to 'auto' in 1.4. Set the value of `n_init` explicitly to suppress the warning\n",
      "  warnings.warn(\n",
      "C:\\Users\\patcharaprapa_k\\AppData\\Local\\anaconda3\\lib\\site-packages\\sklearn\\cluster\\_kmeans.py:1382: UserWarning: KMeans is known to have a memory leak on Windows with MKL, when there are less chunks than available threads. You can avoid it by setting the environment variable OMP_NUM_THREADS=1.\n",
      "  warnings.warn(\n",
      "C:\\Users\\patcharaprapa_k\\AppData\\Local\\anaconda3\\lib\\site-packages\\sklearn\\cluster\\_kmeans.py:870: FutureWarning: The default value of `n_init` will change from 10 to 'auto' in 1.4. Set the value of `n_init` explicitly to suppress the warning\n",
      "  warnings.warn(\n",
      "C:\\Users\\patcharaprapa_k\\AppData\\Local\\anaconda3\\lib\\site-packages\\sklearn\\cluster\\_kmeans.py:1382: UserWarning: KMeans is known to have a memory leak on Windows with MKL, when there are less chunks than available threads. You can avoid it by setting the environment variable OMP_NUM_THREADS=1.\n",
      "  warnings.warn(\n",
      "C:\\Users\\patcharaprapa_k\\AppData\\Local\\anaconda3\\lib\\site-packages\\sklearn\\cluster\\_kmeans.py:870: FutureWarning: The default value of `n_init` will change from 10 to 'auto' in 1.4. Set the value of `n_init` explicitly to suppress the warning\n",
      "  warnings.warn(\n",
      "C:\\Users\\patcharaprapa_k\\AppData\\Local\\anaconda3\\lib\\site-packages\\sklearn\\cluster\\_kmeans.py:1382: UserWarning: KMeans is known to have a memory leak on Windows with MKL, when there are less chunks than available threads. You can avoid it by setting the environment variable OMP_NUM_THREADS=1.\n",
      "  warnings.warn(\n",
      "C:\\Users\\patcharaprapa_k\\AppData\\Local\\anaconda3\\lib\\site-packages\\sklearn\\cluster\\_kmeans.py:870: FutureWarning: The default value of `n_init` will change from 10 to 'auto' in 1.4. Set the value of `n_init` explicitly to suppress the warning\n",
      "  warnings.warn(\n",
      "C:\\Users\\patcharaprapa_k\\AppData\\Local\\anaconda3\\lib\\site-packages\\sklearn\\cluster\\_kmeans.py:1382: UserWarning: KMeans is known to have a memory leak on Windows with MKL, when there are less chunks than available threads. You can avoid it by setting the environment variable OMP_NUM_THREADS=1.\n",
      "  warnings.warn(\n",
      "C:\\Users\\patcharaprapa_k\\AppData\\Local\\anaconda3\\lib\\site-packages\\sklearn\\cluster\\_kmeans.py:870: FutureWarning: The default value of `n_init` will change from 10 to 'auto' in 1.4. Set the value of `n_init` explicitly to suppress the warning\n",
      "  warnings.warn(\n",
      "C:\\Users\\patcharaprapa_k\\AppData\\Local\\anaconda3\\lib\\site-packages\\sklearn\\cluster\\_kmeans.py:1382: UserWarning: KMeans is known to have a memory leak on Windows with MKL, when there are less chunks than available threads. You can avoid it by setting the environment variable OMP_NUM_THREADS=1.\n",
      "  warnings.warn(\n",
      "C:\\Users\\patcharaprapa_k\\AppData\\Local\\anaconda3\\lib\\site-packages\\sklearn\\cluster\\_kmeans.py:870: FutureWarning: The default value of `n_init` will change from 10 to 'auto' in 1.4. Set the value of `n_init` explicitly to suppress the warning\n",
      "  warnings.warn(\n",
      "C:\\Users\\patcharaprapa_k\\AppData\\Local\\anaconda3\\lib\\site-packages\\sklearn\\cluster\\_kmeans.py:1382: UserWarning: KMeans is known to have a memory leak on Windows with MKL, when there are less chunks than available threads. You can avoid it by setting the environment variable OMP_NUM_THREADS=1.\n",
      "  warnings.warn(\n",
      "C:\\Users\\patcharaprapa_k\\AppData\\Local\\anaconda3\\lib\\site-packages\\sklearn\\cluster\\_kmeans.py:870: FutureWarning: The default value of `n_init` will change from 10 to 'auto' in 1.4. Set the value of `n_init` explicitly to suppress the warning\n",
      "  warnings.warn(\n",
      "C:\\Users\\patcharaprapa_k\\AppData\\Local\\anaconda3\\lib\\site-packages\\sklearn\\cluster\\_kmeans.py:1382: UserWarning: KMeans is known to have a memory leak on Windows with MKL, when there are less chunks than available threads. You can avoid it by setting the environment variable OMP_NUM_THREADS=1.\n",
      "  warnings.warn(\n",
      "C:\\Users\\patcharaprapa_k\\AppData\\Local\\anaconda3\\lib\\site-packages\\sklearn\\cluster\\_kmeans.py:870: FutureWarning: The default value of `n_init` will change from 10 to 'auto' in 1.4. Set the value of `n_init` explicitly to suppress the warning\n",
      "  warnings.warn(\n",
      "C:\\Users\\patcharaprapa_k\\AppData\\Local\\anaconda3\\lib\\site-packages\\sklearn\\cluster\\_kmeans.py:1382: UserWarning: KMeans is known to have a memory leak on Windows with MKL, when there are less chunks than available threads. You can avoid it by setting the environment variable OMP_NUM_THREADS=1.\n",
      "  warnings.warn(\n",
      "C:\\Users\\patcharaprapa_k\\AppData\\Local\\Temp\\ipykernel_19912\\1243137686.py:5: ConvergenceWarning: Number of distinct clusters (12) found smaller than n_clusters (13). Possibly due to duplicate points in X.\n",
      "  km.fit(df_scaler)\n",
      "C:\\Users\\patcharaprapa_k\\AppData\\Local\\anaconda3\\lib\\site-packages\\sklearn\\cluster\\_kmeans.py:870: FutureWarning: The default value of `n_init` will change from 10 to 'auto' in 1.4. Set the value of `n_init` explicitly to suppress the warning\n",
      "  warnings.warn(\n",
      "C:\\Users\\patcharaprapa_k\\AppData\\Local\\anaconda3\\lib\\site-packages\\sklearn\\cluster\\_kmeans.py:1382: UserWarning: KMeans is known to have a memory leak on Windows with MKL, when there are less chunks than available threads. You can avoid it by setting the environment variable OMP_NUM_THREADS=1.\n",
      "  warnings.warn(\n",
      "C:\\Users\\patcharaprapa_k\\AppData\\Local\\Temp\\ipykernel_19912\\1243137686.py:5: ConvergenceWarning: Number of distinct clusters (12) found smaller than n_clusters (14). Possibly due to duplicate points in X.\n",
      "  km.fit(df_scaler)\n"
     ]
    }
   ],
   "source": [
    "number_of_cluster = []\n",
    "\n",
    "for i in range(2, len(df_scaler)):\n",
    "    km = KMeans(n_clusters = i)\n",
    "    km.fit(df_scaler)\n",
    "    sil_avg = silhouette_score(df_scaler, km.labels_).round(4)\n",
    "    number_of_cluster.append([sil_avg , i])"
   ]
  },
  {
   "cell_type": "code",
   "execution_count": 9,
   "metadata": {
    "collapsed": false,
    "ExecuteTime": {
     "end_time": "2023-08-07T11:39:36.102243300Z",
     "start_time": "2023-08-07T11:39:36.085214100Z"
    }
   },
   "outputs": [
    {
     "name": "stdout",
     "output_type": "stream",
     "text": [
      "Optimum number of cluster: 4\n"
     ]
    }
   ],
   "source": [
    "print(f'Optimum number of cluster: {max(number_of_cluster)[1]}')"
   ]
  },
  {
   "cell_type": "code",
   "execution_count": 10,
   "metadata": {
    "ExecuteTime": {
     "end_time": "2023-08-07T11:39:36.145818300Z",
     "start_time": "2023-08-07T11:39:36.100238800Z"
    }
   },
   "outputs": [],
   "source": [
    "# Perform KMeans clustering\n",
    "num_clusters = max(number_of_cluster)[1]\n",
    "kmeans = KMeans(n_clusters=num_clusters)"
   ]
  },
  {
   "cell_type": "code",
   "execution_count": 11,
   "metadata": {
    "ExecuteTime": {
     "end_time": "2023-08-07T11:39:36.151332700Z",
     "start_time": "2023-08-07T11:39:36.117271300Z"
    }
   },
   "outputs": [],
   "source": [
    "from sklearn.cluster import KMeans"
   ]
  },
  {
   "cell_type": "code",
   "execution_count": 12,
   "metadata": {
    "ExecuteTime": {
     "end_time": "2023-08-07T11:39:36.383619800Z",
     "start_time": "2023-08-07T11:39:36.145818300Z"
    }
   },
   "outputs": [
    {
     "name": "stderr",
     "output_type": "stream",
     "text": [
      "C:\\Users\\patcharaprapa_k\\AppData\\Local\\anaconda3\\lib\\site-packages\\sklearn\\cluster\\_kmeans.py:870: FutureWarning: The default value of `n_init` will change from 10 to 'auto' in 1.4. Set the value of `n_init` explicitly to suppress the warning\n",
      "  warnings.warn(\n"
     ]
    }
   ],
   "source": [
    "cluster_labels = kmeans.fit_predict(X)"
   ]
  },
  {
   "cell_type": "code",
   "execution_count": 13,
   "metadata": {
    "ExecuteTime": {
     "end_time": "2023-08-07T11:39:36.399641600Z",
     "start_time": "2023-08-07T11:39:36.384620200Z"
    }
   },
   "outputs": [],
   "source": [
    "df['cluster'] = cluster_labels"
   ]
  },
  {
   "cell_type": "code",
   "execution_count": 14,
   "metadata": {
    "ExecuteTime": {
     "end_time": "2023-08-07T11:39:36.427178700Z",
     "start_time": "2023-08-07T11:39:36.401646Z"
    }
   },
   "outputs": [
    {
     "data": {
      "text/plain": "0          24978000000000\n1          27174000000000\n2          43727000000000\n3         116274000000000\n4         193769000000000\n              ...        \n1800     9439818000000000\n1801     5353469000000000\n1802    10442829000000000\n1803    29549932000000000\n1804    25333529000000000\nName: total_time, Length: 1805, dtype: int64"
     },
     "execution_count": 14,
     "metadata": {},
     "output_type": "execute_result"
    }
   ],
   "source": [
    "df['total_time']"
   ]
  },
  {
   "cell_type": "code",
   "execution_count": 15,
   "metadata": {
    "ExecuteTime": {
     "end_time": "2023-08-07T11:39:36.431692700Z",
     "start_time": "2023-08-07T11:39:36.416663100Z"
    }
   },
   "outputs": [],
   "source": [
    "df['timedelta'] = pd.to_timedelta(df['total_time'])"
   ]
  },
  {
   "cell_type": "code",
   "execution_count": 16,
   "outputs": [
    {
     "data": {
      "text/plain": "Timedelta('3 days 02:04:47')"
     },
     "execution_count": 16,
     "metadata": {},
     "output_type": "execute_result"
    }
   ],
   "source": [
    "df['timedelta'][:int(0.7 * len(df))].median()"
   ],
   "metadata": {
    "collapsed": false,
    "ExecuteTime": {
     "end_time": "2023-08-07T11:39:36.447203400Z",
     "start_time": "2023-08-07T11:39:36.431692700Z"
    }
   }
  },
  {
   "cell_type": "code",
   "execution_count": 17,
   "metadata": {
    "ExecuteTime": {
     "end_time": "2023-08-07T11:39:36.490716700Z",
     "start_time": "2023-08-07T11:39:36.446203100Z"
    }
   },
   "outputs": [],
   "source": [
    "df['formatted_duration'] = df['timedelta'].apply(lambda x: f\"{x.days} days {x.seconds // 3600:02d}:{(x.seconds // 60) % 60:02d}:{x.seconds % 60:02d}\")"
   ]
  },
  {
   "cell_type": "code",
   "execution_count": 18,
   "metadata": {
    "ExecuteTime": {
     "end_time": "2023-08-07T11:39:36.496718700Z",
     "start_time": "2023-08-07T11:39:36.464595Z"
    }
   },
   "outputs": [
    {
     "name": "stdout",
     "output_type": "stream",
     "text": [
      "16 days 17:17:56\n",
      "56 days 23:52:17\n"
     ]
    },
    {
     "data": {
      "text/plain": "(261, 20)"
     },
     "execution_count": 18,
     "metadata": {},
     "output_type": "execute_result"
    }
   ],
   "source": [
    "cluster_0 = df[df['cluster'] == 0]\n",
    "print(cluster_0['timedelta'].min())\n",
    "print(cluster_0['timedelta'].max())\n",
    "cluster_0.shape"
   ]
  },
  {
   "cell_type": "code",
   "execution_count": 19,
   "metadata": {
    "ExecuteTime": {
     "end_time": "2023-08-07T11:39:36.496718700Z",
     "start_time": "2023-08-07T11:39:36.490716700Z"
    }
   },
   "outputs": [
    {
     "name": "stdout",
     "output_type": "stream",
     "text": [
      "61 days 02:35:36\n",
      "136 days 22:16:09\n"
     ]
    },
    {
     "data": {
      "text/plain": "(60, 20)"
     },
     "execution_count": 19,
     "metadata": {},
     "output_type": "execute_result"
    }
   ],
   "source": [
    "cluster_1 = df[df['cluster'] == 1]\n",
    "print(cluster_1['timedelta'].min())\n",
    "print(cluster_1['timedelta'].max())\n",
    "cluster_1.shape"
   ]
  },
  {
   "cell_type": "code",
   "execution_count": 20,
   "metadata": {
    "ExecuteTime": {
     "end_time": "2023-08-07T11:39:36.508230800Z",
     "start_time": "2023-08-07T11:39:36.492719300Z"
    }
   },
   "outputs": [
    {
     "name": "stdout",
     "output_type": "stream",
     "text": [
      "157 days 18:13:46\n",
      "342 days 00:18:52\n"
     ]
    },
    {
     "data": {
      "text/plain": "(17, 20)"
     },
     "execution_count": 20,
     "metadata": {},
     "output_type": "execute_result"
    }
   ],
   "source": [
    "cluster_2 = df[df['cluster'] == 2]\n",
    "print(cluster_2['timedelta'].min())\n",
    "print(cluster_2['timedelta'].max())\n",
    "cluster_2.shape"
   ]
  },
  {
   "cell_type": "code",
   "execution_count": 21,
   "metadata": {
    "ExecuteTime": {
     "end_time": "2023-08-07T11:39:36.569712300Z",
     "start_time": "2023-08-07T11:39:36.508734100Z"
    }
   },
   "outputs": [
    {
     "name": "stdout",
     "output_type": "stream",
     "text": [
      "0 days 00:00:09\n",
      "16 days 14:27:13\n"
     ]
    },
    {
     "data": {
      "text/plain": "(1467, 20)"
     },
     "execution_count": 21,
     "metadata": {},
     "output_type": "execute_result"
    }
   ],
   "source": [
    "cluster_3 = df[df['cluster'] == 3]\n",
    "print(cluster_3['timedelta'].min())\n",
    "print(cluster_3['timedelta'].max())\n",
    "cluster_3.shape"
   ]
  },
  {
   "cell_type": "code",
   "execution_count": 27,
   "outputs": [
    {
     "data": {
      "text/plain": "(15, 1805)"
     },
     "execution_count": 27,
     "metadata": {},
     "output_type": "execute_result"
    }
   ],
   "source": [
    "df_scaler.shape"
   ],
   "metadata": {
    "collapsed": false,
    "ExecuteTime": {
     "end_time": "2023-08-07T14:33:14.582176800Z",
     "start_time": "2023-08-07T14:33:14.564426800Z"
    }
   }
  },
  {
   "cell_type": "code",
   "execution_count": 31,
   "outputs": [
    {
     "name": "stdout",
     "output_type": "stream",
     "text": [
      "[0.4641814  0.38330708]\n",
      "[91.3936618  83.05114592]\n"
     ]
    }
   ],
   "source": [
    "from sklearn.decomposition import PCA\n",
    "\n",
    "pca = PCA(n_components=2)\n",
    "pca.fit(df_scaler)\n",
    "print(pca.explained_variance_ratio_)\n",
    "print(pca.singular_values_)"
   ],
   "metadata": {
    "collapsed": false,
    "ExecuteTime": {
     "end_time": "2023-08-07T15:53:16.726960900Z",
     "start_time": "2023-08-07T15:53:16.674169Z"
    }
   }
  },
  {
   "cell_type": "code",
   "execution_count": 32,
   "outputs": [
    {
     "name": "stdout",
     "output_type": "stream",
     "text": [
      "[0.4641814]\n",
      "[596.6286726]\n",
      "[91.3936618]\n"
     ]
    }
   ],
   "source": [
    "pca3 = PCA(n_components=1, svd_solver='arpack')\n",
    "pca3.fit(df_scaler)\n",
    "print(pca3.explained_variance_ratio_)\n",
    "print(pca3.explained_variance_)\n",
    "print(pca3.singular_values_)"
   ],
   "metadata": {
    "collapsed": false,
    "ExecuteTime": {
     "end_time": "2023-08-07T15:53:28.865175Z",
     "start_time": "2023-08-07T15:53:28.822356100Z"
    }
   }
  },
  {
   "cell_type": "code",
   "execution_count": 28,
   "outputs": [],
   "source": [
    "import numpy as np\n",
    "import matplotlib.pyplot as plt\n",
    "from sklearn.cluster import KMeans"
   ],
   "metadata": {
    "collapsed": false,
    "ExecuteTime": {
     "end_time": "2023-08-07T14:34:03.944897200Z",
     "start_time": "2023-08-07T14:34:03.912055800Z"
    }
   }
  },
  {
   "cell_type": "code",
   "execution_count": 29,
   "outputs": [
    {
     "name": "stderr",
     "output_type": "stream",
     "text": [
      "C:\\Users\\patcharaprapa_k\\AppData\\Local\\anaconda3\\lib\\site-packages\\sklearn\\cluster\\_kmeans.py:870: FutureWarning: The default value of `n_init` will change from 10 to 'auto' in 1.4. Set the value of `n_init` explicitly to suppress the warning\n",
      "  warnings.warn(\n",
      "C:\\Users\\patcharaprapa_k\\AppData\\Local\\anaconda3\\lib\\site-packages\\sklearn\\cluster\\_kmeans.py:1382: UserWarning: KMeans is known to have a memory leak on Windows with MKL, when there are less chunks than available threads. You can avoid it by setting the environment variable OMP_NUM_THREADS=1.\n",
      "  warnings.warn(\n"
     ]
    },
    {
     "data": {
      "text/plain": "<Figure size 640x480 with 1 Axes>",
      "image/png": "[encoded data removed]"
     },
     "metadata": {},
     "output_type": "display_data"
    }
   ],
   "source": [
    "np.random.seed(0)\n",
    "n_samples = 1805\n",
    "n_clusters = 3\n",
    "\n",
    "kmeans = KMeans(n_clusters=n_clusters)\n",
    "kmeans.fit(df_scaler)\n",
    "labels = kmeans.labels_\n",
    "\n",
    "colors = ['r', 'g', 'b', 'c', 'm', 'y']\n",
    "for i in range(n_clusters):\n",
    "    cluster_points = df_scaler[labels == i]\n",
    "    plt.scatter(cluster_points[:, 0], cluster_points[:, 1], c=colors[i], label=f'Cluster {i + 1}')\n",
    "\n",
    "# Plot the cluster centroids\n",
    "plt.scatter(kmeans.cluster_centers_[:, 0], kmeans.cluster_centers_[:, 1], s=100, color='black', marker='X', label='Centroids')\n",
    "\n",
    "plt.xlabel('Feature 1')\n",
    "plt.ylabel('Feature 2')\n",
    "plt.title('K-Means Clustering')\n",
    "plt.legend()\n",
    "plt.show()"
   ],
   "metadata": {
    "collapsed": false,
    "ExecuteTime": {
     "end_time": "2023-08-07T14:34:05.196185600Z",
     "start_time": "2023-08-07T14:34:04.648704400Z"
    }
   }
  },
  {
   "cell_type": "code",
   "execution_count": null,
   "outputs": [],
   "source": [],
   "metadata": {
    "collapsed": false
   }
  }
 ],
 "metadata": {
  "kernelspec": {
   "display_name": "Python 3",
   "language": "python",
   "name": "python3"
  },
  "language_info": {
   "codemirror_mode": {
    "name": "ipython",
    "version": 3
   },
   "file_extension": ".py",
   "mimetype": "text/x-python",
   "name": "python",
   "nbconvert_exporter": "python",
   "pygments_lexer": "ipython3",
   "version": "3.10.9"
  }
 },
 "nbformat": 4,
 "nbformat_minor": 0
}
