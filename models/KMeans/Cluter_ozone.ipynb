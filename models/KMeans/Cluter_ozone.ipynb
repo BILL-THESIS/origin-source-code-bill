{
 "cells": [
  {
   "cell_type": "code",
   "execution_count": 55,
   "metadata": {
    "collapsed": true,
    "ExecuteTime": {
     "end_time": "2023-08-04T08:18:20.263280300Z",
     "start_time": "2023-08-04T08:18:20.241621900Z"
    }
   },
   "outputs": [],
   "source": [
    "import pandas as pd\n",
    "from sklearn import preprocessing"
   ]
  },
  {
   "cell_type": "code",
   "execution_count": 56,
   "outputs": [],
   "source": [
    "df = pd.read_csv('../../Github/ozone/ozone_model_times.csv')"
   ],
   "metadata": {
    "collapsed": false,
    "ExecuteTime": {
     "end_time": "2023-08-04T08:18:20.308042600Z",
     "start_time": "2023-08-04T08:18:20.264606100Z"
    }
   }
  },
  {
   "cell_type": "code",
   "execution_count": 57,
   "outputs": [],
   "source": [
    "X = df.loc[:, ~df.columns.isin(['begin_sha', 'end_sha', 'begin_time', 'end_time'\n",
    "                                # 'total_time'\n",
    "                                ])]"
   ],
   "metadata": {
    "collapsed": false,
    "ExecuteTime": {
     "end_time": "2023-08-04T08:18:20.323041Z",
     "start_time": "2023-08-04T08:18:20.313590100Z"
    }
   }
  },
  {
   "cell_type": "code",
   "execution_count": 58,
   "outputs": [
    {
     "data": {
      "text/plain": "      commits  additions  deletions  changed_files         total_time  \\\n0           1          6          3              1     24978000000000   \n1           4         60          0              6     27174000000000   \n2           3         72          3              2     43727000000000   \n3           3        393        107              7    116274000000000   \n4          38        132         23              7    193769000000000   \n...       ...        ...        ...            ...                ...   \n1800        3          3          2              1   9439818000000000   \n1801        7        428         47              8   5353469000000000   \n1802       20         39         35             21  10442829000000000   \n1803        7         69          0              1  29549932000000000   \n1804        3        166          4             16  25333529000000000   \n\n      begin_Dispensables  begin_Bloaters  begin_Change Preventers  \\\n0                   2006          1130.0                   1130.0   \n1                   1002           565.0                    565.0   \n2                   1001           565.0                    565.0   \n3                   2006          1130.0                   1130.0   \n4                    996           563.0                    563.0   \n...                  ...             ...                      ...   \n1800                 734           428.0                    428.0   \n1801                1462           854.0                    854.0   \n1802                 727           427.0                    427.0   \n1803                 886           506.0                    506.0   \n1804                 751           428.0                    428.0   \n\n      begin_Couplers  begin_Object-Orientation Abusers  end_Dispensables  \\\n0              734.0                             734.0            1003.0   \n1              367.0                             367.0             990.0   \n2              365.0                             365.0             983.0   \n3              734.0                             734.0             998.0   \n4              365.0                             365.0             990.0   \n...              ...                               ...               ...   \n1800           241.0                             241.0               0.0   \n1801           482.0                             482.0               0.0   \n1802           233.0                             233.0               0.0   \n1803           298.0                             298.0               0.0   \n1804           241.0                             241.0               0.0   \n\n      end_Bloaters  end_Change Preventers  end_Couplers  \\\n0            566.0                  566.0         367.0   \n1            563.0                  563.0         365.0   \n2            568.0                  568.0         366.0   \n3            565.0                  565.0         365.0   \n4            563.0                  563.0         365.0   \n...            ...                    ...           ...   \n1800           0.0                    0.0           0.0   \n1801           0.0                    0.0           0.0   \n1802           0.0                    0.0           0.0   \n1803           0.0                    0.0           0.0   \n1804           0.0                    0.0           0.0   \n\n      end_Object-Orientation Abusers  \n0                              910.0  \n1                              891.0  \n2                              900.0  \n3                              907.0  \n4                              891.0  \n...                              ...  \n1800                             0.0  \n1801                             0.0  \n1802                             0.0  \n1803                             0.0  \n1804                             0.0  \n\n[1805 rows x 15 columns]",
      "text/html": "<div>\n<style scoped>\n    .dataframe tbody tr th:only-of-type {\n        vertical-align: middle;\n    }\n\n    .dataframe tbody tr th {\n        vertical-align: top;\n    }\n\n    .dataframe thead th {\n        text-align: right;\n    }\n</style>\n<table border=\"1\" class=\"dataframe\">\n  <thead>\n    <tr style=\"text-align: right;\">\n      <th></th>\n      <th>commits</th>\n      <th>additions</th>\n      <th>deletions</th>\n      <th>changed_files</th>\n      <th>total_time</th>\n      <th>begin_Dispensables</th>\n      <th>begin_Bloaters</th>\n      <th>begin_Change Preventers</th>\n      <th>begin_Couplers</th>\n      <th>begin_Object-Orientation Abusers</th>\n      <th>end_Dispensables</th>\n      <th>end_Bloaters</th>\n      <th>end_Change Preventers</th>\n      <th>end_Couplers</th>\n      <th>end_Object-Orientation Abusers</th>\n    </tr>\n  </thead>\n  <tbody>\n    <tr>\n      <th>0</th>\n      <td>1</td>\n      <td>6</td>\n      <td>3</td>\n      <td>1</td>\n      <td>24978000000000</td>\n      <td>2006</td>\n      <td>1130.0</td>\n      <td>1130.0</td>\n      <td>734.0</td>\n      <td>734.0</td>\n      <td>1003.0</td>\n      <td>566.0</td>\n      <td>566.0</td>\n      <td>367.0</td>\n      <td>910.0</td>\n    </tr>\n    <tr>\n      <th>1</th>\n      <td>4</td>\n      <td>60</td>\n      <td>0</td>\n      <td>6</td>\n      <td>27174000000000</td>\n      <td>1002</td>\n      <td>565.0</td>\n      <td>565.0</td>\n      <td>367.0</td>\n      <td>367.0</td>\n      <td>990.0</td>\n      <td>563.0</td>\n      <td>563.0</td>\n      <td>365.0</td>\n      <td>891.0</td>\n    </tr>\n    <tr>\n      <th>2</th>\n      <td>3</td>\n      <td>72</td>\n      <td>3</td>\n      <td>2</td>\n      <td>43727000000000</td>\n      <td>1001</td>\n      <td>565.0</td>\n      <td>565.0</td>\n      <td>365.0</td>\n      <td>365.0</td>\n      <td>983.0</td>\n      <td>568.0</td>\n      <td>568.0</td>\n      <td>366.0</td>\n      <td>900.0</td>\n    </tr>\n    <tr>\n      <th>3</th>\n      <td>3</td>\n      <td>393</td>\n      <td>107</td>\n      <td>7</td>\n      <td>116274000000000</td>\n      <td>2006</td>\n      <td>1130.0</td>\n      <td>1130.0</td>\n      <td>734.0</td>\n      <td>734.0</td>\n      <td>998.0</td>\n      <td>565.0</td>\n      <td>565.0</td>\n      <td>365.0</td>\n      <td>907.0</td>\n    </tr>\n    <tr>\n      <th>4</th>\n      <td>38</td>\n      <td>132</td>\n      <td>23</td>\n      <td>7</td>\n      <td>193769000000000</td>\n      <td>996</td>\n      <td>563.0</td>\n      <td>563.0</td>\n      <td>365.0</td>\n      <td>365.0</td>\n      <td>990.0</td>\n      <td>563.0</td>\n      <td>563.0</td>\n      <td>365.0</td>\n      <td>891.0</td>\n    </tr>\n    <tr>\n      <th>...</th>\n      <td>...</td>\n      <td>...</td>\n      <td>...</td>\n      <td>...</td>\n      <td>...</td>\n      <td>...</td>\n      <td>...</td>\n      <td>...</td>\n      <td>...</td>\n      <td>...</td>\n      <td>...</td>\n      <td>...</td>\n      <td>...</td>\n      <td>...</td>\n      <td>...</td>\n    </tr>\n    <tr>\n      <th>1800</th>\n      <td>3</td>\n      <td>3</td>\n      <td>2</td>\n      <td>1</td>\n      <td>9439818000000000</td>\n      <td>734</td>\n      <td>428.0</td>\n      <td>428.0</td>\n      <td>241.0</td>\n      <td>241.0</td>\n      <td>0.0</td>\n      <td>0.0</td>\n      <td>0.0</td>\n      <td>0.0</td>\n      <td>0.0</td>\n    </tr>\n    <tr>\n      <th>1801</th>\n      <td>7</td>\n      <td>428</td>\n      <td>47</td>\n      <td>8</td>\n      <td>5353469000000000</td>\n      <td>1462</td>\n      <td>854.0</td>\n      <td>854.0</td>\n      <td>482.0</td>\n      <td>482.0</td>\n      <td>0.0</td>\n      <td>0.0</td>\n      <td>0.0</td>\n      <td>0.0</td>\n      <td>0.0</td>\n    </tr>\n    <tr>\n      <th>1802</th>\n      <td>20</td>\n      <td>39</td>\n      <td>35</td>\n      <td>21</td>\n      <td>10442829000000000</td>\n      <td>727</td>\n      <td>427.0</td>\n      <td>427.0</td>\n      <td>233.0</td>\n      <td>233.0</td>\n      <td>0.0</td>\n      <td>0.0</td>\n      <td>0.0</td>\n      <td>0.0</td>\n      <td>0.0</td>\n    </tr>\n    <tr>\n      <th>1803</th>\n      <td>7</td>\n      <td>69</td>\n      <td>0</td>\n      <td>1</td>\n      <td>29549932000000000</td>\n      <td>886</td>\n      <td>506.0</td>\n      <td>506.0</td>\n      <td>298.0</td>\n      <td>298.0</td>\n      <td>0.0</td>\n      <td>0.0</td>\n      <td>0.0</td>\n      <td>0.0</td>\n      <td>0.0</td>\n    </tr>\n    <tr>\n      <th>1804</th>\n      <td>3</td>\n      <td>166</td>\n      <td>4</td>\n      <td>16</td>\n      <td>25333529000000000</td>\n      <td>751</td>\n      <td>428.0</td>\n      <td>428.0</td>\n      <td>241.0</td>\n      <td>241.0</td>\n      <td>0.0</td>\n      <td>0.0</td>\n      <td>0.0</td>\n      <td>0.0</td>\n      <td>0.0</td>\n    </tr>\n  </tbody>\n</table>\n<p>1805 rows × 15 columns</p>\n</div>"
     },
     "execution_count": 58,
     "metadata": {},
     "output_type": "execute_result"
    }
   ],
   "source": [
    "X"
   ],
   "metadata": {
    "collapsed": false,
    "ExecuteTime": {
     "end_time": "2023-08-04T08:18:20.353415Z",
     "start_time": "2023-08-04T08:18:20.325074200Z"
    }
   }
  },
  {
   "cell_type": "code",
   "execution_count": 59,
   "outputs": [],
   "source": [
    "scaler = preprocessing.StandardScaler()\n",
    "df_scaler = scaler.fit_transform(X)\n",
    "df_scaler_col = pd.DataFrame(df_scaler)\n",
    "df_scaler = df_scaler.T"
   ],
   "metadata": {
    "collapsed": false,
    "ExecuteTime": {
     "end_time": "2023-08-04T08:18:20.383292600Z",
     "start_time": "2023-08-04T08:18:20.364958200Z"
    }
   }
  },
  {
   "cell_type": "code",
   "execution_count": 60,
   "outputs": [
    {
     "data": {
      "text/plain": "(15, 1805)"
     },
     "execution_count": 60,
     "metadata": {},
     "output_type": "execute_result"
    }
   ],
   "source": [
    "df_scaler.shape"
   ],
   "metadata": {
    "collapsed": false,
    "ExecuteTime": {
     "end_time": "2023-08-04T08:18:20.414457300Z",
     "start_time": "2023-08-04T08:18:20.374438Z"
    }
   }
  },
  {
   "cell_type": "code",
   "execution_count": 61,
   "outputs": [
    {
     "data": {
      "text/plain": "array([[-0.19394313, -0.08415826, -0.12075322, ...,  0.50136103,\n         0.02562661, -0.12075322],\n       [-0.08567562, -0.07283269, -0.06997871, ..., -0.07782716,\n        -0.07069221, -0.04762251],\n       [-0.11148829, -0.11447711, -0.11148829, ..., -0.07960753,\n        -0.11447711, -0.11049202],\n       ...,\n       [ 0.91879258,  0.9091053 ,  0.92525077, ..., -0.90887452,\n        -0.90887452, -0.90887452],\n       [ 0.97526197,  0.96503295,  0.97014746, ..., -0.9017632 ,\n        -0.9017632 , -0.9017632 ],\n       [ 1.06417687,  1.02319123,  1.04260548, ..., -0.89881934,\n        -0.89881934, -0.89881934]])"
     },
     "execution_count": 61,
     "metadata": {},
     "output_type": "execute_result"
    }
   ],
   "source": [
    "df_scaler"
   ],
   "metadata": {
    "collapsed": false,
    "ExecuteTime": {
     "end_time": "2023-08-04T08:18:20.455447700Z",
     "start_time": "2023-08-04T08:18:20.387242900Z"
    }
   }
  },
  {
   "cell_type": "code",
   "execution_count": 62,
   "outputs": [],
   "source": [
    "#Silhouette analysis\n",
    "from sklearn.cluster import KMeans\n",
    "from sklearn.metrics import silhouette_score"
   ],
   "metadata": {
    "collapsed": false,
    "ExecuteTime": {
     "end_time": "2023-08-04T08:18:20.493430900Z",
     "start_time": "2023-08-04T08:18:20.414457300Z"
    }
   }
  },
  {
   "cell_type": "code",
   "execution_count": 63,
   "outputs": [
    {
     "name": "stderr",
     "output_type": "stream",
     "text": [
      "C:\\Users\\patcharaprapa_k\\AppData\\Local\\anaconda3\\lib\\site-packages\\sklearn\\cluster\\_kmeans.py:870: FutureWarning: The default value of `n_init` will change from 10 to 'auto' in 1.4. Set the value of `n_init` explicitly to suppress the warning\n",
      "  warnings.warn(\n",
      "C:\\Users\\patcharaprapa_k\\AppData\\Local\\anaconda3\\lib\\site-packages\\sklearn\\cluster\\_kmeans.py:1382: UserWarning: KMeans is known to have a memory leak on Windows with MKL, when there are less chunks than available threads. You can avoid it by setting the environment variable OMP_NUM_THREADS=1.\n",
      "  warnings.warn(\n",
      "C:\\Users\\patcharaprapa_k\\AppData\\Local\\anaconda3\\lib\\site-packages\\sklearn\\cluster\\_kmeans.py:870: FutureWarning: The default value of `n_init` will change from 10 to 'auto' in 1.4. Set the value of `n_init` explicitly to suppress the warning\n",
      "  warnings.warn(\n",
      "C:\\Users\\patcharaprapa_k\\AppData\\Local\\anaconda3\\lib\\site-packages\\sklearn\\cluster\\_kmeans.py:1382: UserWarning: KMeans is known to have a memory leak on Windows with MKL, when there are less chunks than available threads. You can avoid it by setting the environment variable OMP_NUM_THREADS=1.\n",
      "  warnings.warn(\n",
      "C:\\Users\\patcharaprapa_k\\AppData\\Local\\anaconda3\\lib\\site-packages\\sklearn\\cluster\\_kmeans.py:870: FutureWarning: The default value of `n_init` will change from 10 to 'auto' in 1.4. Set the value of `n_init` explicitly to suppress the warning\n",
      "  warnings.warn(\n",
      "C:\\Users\\patcharaprapa_k\\AppData\\Local\\anaconda3\\lib\\site-packages\\sklearn\\cluster\\_kmeans.py:1382: UserWarning: KMeans is known to have a memory leak on Windows with MKL, when there are less chunks than available threads. You can avoid it by setting the environment variable OMP_NUM_THREADS=1.\n",
      "  warnings.warn(\n",
      "C:\\Users\\patcharaprapa_k\\AppData\\Local\\anaconda3\\lib\\site-packages\\sklearn\\cluster\\_kmeans.py:870: FutureWarning: The default value of `n_init` will change from 10 to 'auto' in 1.4. Set the value of `n_init` explicitly to suppress the warning\n",
      "  warnings.warn(\n",
      "C:\\Users\\patcharaprapa_k\\AppData\\Local\\anaconda3\\lib\\site-packages\\sklearn\\cluster\\_kmeans.py:1382: UserWarning: KMeans is known to have a memory leak on Windows with MKL, when there are less chunks than available threads. You can avoid it by setting the environment variable OMP_NUM_THREADS=1.\n",
      "  warnings.warn(\n",
      "C:\\Users\\patcharaprapa_k\\AppData\\Local\\anaconda3\\lib\\site-packages\\sklearn\\cluster\\_kmeans.py:870: FutureWarning: The default value of `n_init` will change from 10 to 'auto' in 1.4. Set the value of `n_init` explicitly to suppress the warning\n",
      "  warnings.warn(\n",
      "C:\\Users\\patcharaprapa_k\\AppData\\Local\\anaconda3\\lib\\site-packages\\sklearn\\cluster\\_kmeans.py:1382: UserWarning: KMeans is known to have a memory leak on Windows with MKL, when there are less chunks than available threads. You can avoid it by setting the environment variable OMP_NUM_THREADS=1.\n",
      "  warnings.warn(\n",
      "C:\\Users\\patcharaprapa_k\\AppData\\Local\\anaconda3\\lib\\site-packages\\sklearn\\cluster\\_kmeans.py:870: FutureWarning: The default value of `n_init` will change from 10 to 'auto' in 1.4. Set the value of `n_init` explicitly to suppress the warning\n",
      "  warnings.warn(\n",
      "C:\\Users\\patcharaprapa_k\\AppData\\Local\\anaconda3\\lib\\site-packages\\sklearn\\cluster\\_kmeans.py:1382: UserWarning: KMeans is known to have a memory leak on Windows with MKL, when there are less chunks than available threads. You can avoid it by setting the environment variable OMP_NUM_THREADS=1.\n",
      "  warnings.warn(\n",
      "C:\\Users\\patcharaprapa_k\\AppData\\Local\\anaconda3\\lib\\site-packages\\sklearn\\cluster\\_kmeans.py:870: FutureWarning: The default value of `n_init` will change from 10 to 'auto' in 1.4. Set the value of `n_init` explicitly to suppress the warning\n",
      "  warnings.warn(\n",
      "C:\\Users\\patcharaprapa_k\\AppData\\Local\\anaconda3\\lib\\site-packages\\sklearn\\cluster\\_kmeans.py:1382: UserWarning: KMeans is known to have a memory leak on Windows with MKL, when there are less chunks than available threads. You can avoid it by setting the environment variable OMP_NUM_THREADS=1.\n",
      "  warnings.warn(\n",
      "C:\\Users\\patcharaprapa_k\\AppData\\Local\\anaconda3\\lib\\site-packages\\sklearn\\cluster\\_kmeans.py:870: FutureWarning: The default value of `n_init` will change from 10 to 'auto' in 1.4. Set the value of `n_init` explicitly to suppress the warning\n",
      "  warnings.warn(\n",
      "C:\\Users\\patcharaprapa_k\\AppData\\Local\\anaconda3\\lib\\site-packages\\sklearn\\cluster\\_kmeans.py:1382: UserWarning: KMeans is known to have a memory leak on Windows with MKL, when there are less chunks than available threads. You can avoid it by setting the environment variable OMP_NUM_THREADS=1.\n",
      "  warnings.warn(\n",
      "C:\\Users\\patcharaprapa_k\\AppData\\Local\\anaconda3\\lib\\site-packages\\sklearn\\cluster\\_kmeans.py:870: FutureWarning: The default value of `n_init` will change from 10 to 'auto' in 1.4. Set the value of `n_init` explicitly to suppress the warning\n",
      "  warnings.warn(\n",
      "C:\\Users\\patcharaprapa_k\\AppData\\Local\\anaconda3\\lib\\site-packages\\sklearn\\cluster\\_kmeans.py:1382: UserWarning: KMeans is known to have a memory leak on Windows with MKL, when there are less chunks than available threads. You can avoid it by setting the environment variable OMP_NUM_THREADS=1.\n",
      "  warnings.warn(\n",
      "C:\\Users\\patcharaprapa_k\\AppData\\Local\\anaconda3\\lib\\site-packages\\sklearn\\cluster\\_kmeans.py:870: FutureWarning: The default value of `n_init` will change from 10 to 'auto' in 1.4. Set the value of `n_init` explicitly to suppress the warning\n",
      "  warnings.warn(\n",
      "C:\\Users\\patcharaprapa_k\\AppData\\Local\\anaconda3\\lib\\site-packages\\sklearn\\cluster\\_kmeans.py:1382: UserWarning: KMeans is known to have a memory leak on Windows with MKL, when there are less chunks than available threads. You can avoid it by setting the environment variable OMP_NUM_THREADS=1.\n",
      "  warnings.warn(\n",
      "C:\\Users\\patcharaprapa_k\\AppData\\Local\\anaconda3\\lib\\site-packages\\sklearn\\cluster\\_kmeans.py:870: FutureWarning: The default value of `n_init` will change from 10 to 'auto' in 1.4. Set the value of `n_init` explicitly to suppress the warning\n",
      "  warnings.warn(\n",
      "C:\\Users\\patcharaprapa_k\\AppData\\Local\\anaconda3\\lib\\site-packages\\sklearn\\cluster\\_kmeans.py:1382: UserWarning: KMeans is known to have a memory leak on Windows with MKL, when there are less chunks than available threads. You can avoid it by setting the environment variable OMP_NUM_THREADS=1.\n",
      "  warnings.warn(\n",
      "C:\\Users\\patcharaprapa_k\\AppData\\Local\\anaconda3\\lib\\site-packages\\sklearn\\cluster\\_kmeans.py:870: FutureWarning: The default value of `n_init` will change from 10 to 'auto' in 1.4. Set the value of `n_init` explicitly to suppress the warning\n",
      "  warnings.warn(\n",
      "C:\\Users\\patcharaprapa_k\\AppData\\Local\\anaconda3\\lib\\site-packages\\sklearn\\cluster\\_kmeans.py:1382: UserWarning: KMeans is known to have a memory leak on Windows with MKL, when there are less chunks than available threads. You can avoid it by setting the environment variable OMP_NUM_THREADS=1.\n",
      "  warnings.warn(\n",
      "C:\\Users\\patcharaprapa_k\\AppData\\Local\\Temp\\ipykernel_34504\\1243137686.py:5: ConvergenceWarning: Number of distinct clusters (12) found smaller than n_clusters (13). Possibly due to duplicate points in X.\n",
      "  km.fit(df_scaler)\n",
      "C:\\Users\\patcharaprapa_k\\AppData\\Local\\anaconda3\\lib\\site-packages\\sklearn\\cluster\\_kmeans.py:870: FutureWarning: The default value of `n_init` will change from 10 to 'auto' in 1.4. Set the value of `n_init` explicitly to suppress the warning\n",
      "  warnings.warn(\n",
      "C:\\Users\\patcharaprapa_k\\AppData\\Local\\anaconda3\\lib\\site-packages\\sklearn\\cluster\\_kmeans.py:1382: UserWarning: KMeans is known to have a memory leak on Windows with MKL, when there are less chunks than available threads. You can avoid it by setting the environment variable OMP_NUM_THREADS=1.\n",
      "  warnings.warn(\n",
      "C:\\Users\\patcharaprapa_k\\AppData\\Local\\Temp\\ipykernel_34504\\1243137686.py:5: ConvergenceWarning: Number of distinct clusters (12) found smaller than n_clusters (14). Possibly due to duplicate points in X.\n",
      "  km.fit(df_scaler)\n"
     ]
    }
   ],
   "source": [
    "number_of_cluster = []\n",
    "\n",
    "for i in range(2, len(df_scaler)):\n",
    "    km = KMeans(n_clusters = i)\n",
    "    km.fit(df_scaler)\n",
    "    sil_avg = silhouette_score(df_scaler, km.labels_).round(4)\n",
    "    number_of_cluster.append([sil_avg , i])"
   ],
   "metadata": {
    "collapsed": false,
    "ExecuteTime": {
     "end_time": "2023-08-04T08:18:25.715814100Z",
     "start_time": "2023-08-04T08:18:20.419461500Z"
    }
   }
  },
  {
   "cell_type": "code",
   "execution_count": 64,
   "outputs": [
    {
     "name": "stdout",
     "output_type": "stream",
     "text": [
      "Optimum number of cluster: 4\n"
     ]
    }
   ],
   "source": [
    "print(f'Optimum number of cluster: {max(number_of_cluster)[1]}')"
   ],
   "metadata": {
    "collapsed": false,
    "ExecuteTime": {
     "end_time": "2023-08-04T08:18:25.731328700Z",
     "start_time": "2023-08-04T08:18:25.717814800Z"
    }
   }
  }
 ],
 "metadata": {
  "kernelspec": {
   "display_name": "Python 3",
   "language": "python",
   "name": "python3"
  },
  "language_info": {
   "codemirror_mode": {
    "name": "ipython",
    "version": 2
   },
   "file_extension": ".py",
   "mimetype": "text/x-python",
   "name": "python",
   "nbconvert_exporter": "python",
   "pygments_lexer": "ipython2",
   "version": "2.7.6"
  }
 },
 "nbformat": 4,
 "nbformat_minor": 0
}
