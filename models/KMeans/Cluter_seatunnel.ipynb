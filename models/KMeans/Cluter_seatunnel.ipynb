{
 "cells": [
  {
   "cell_type": "code",
   "execution_count": 38,
   "metadata": {
    "collapsed": true,
    "ExecuteTime": {
     "end_time": "2023-08-07T11:35:31.685069800Z",
     "start_time": "2023-08-07T11:35:31.599211200Z"
    }
   },
   "outputs": [],
   "source": [
    "import pandas as pd\n",
    "from datetime import timedelta\n",
    "#Data processing\n",
    "from sklearn import preprocessing"
   ]
  },
  {
   "cell_type": "code",
   "execution_count": 39,
   "metadata": {
    "collapsed": false,
    "ExecuteTime": {
     "end_time": "2023-08-07T11:35:31.686069500Z",
     "start_time": "2023-08-07T11:35:31.619840400Z"
    }
   },
   "outputs": [],
   "source": [
    "df = pd.read_parquet('../../Sonar/seatunnel_all_information.parquet')"
   ]
  },
  {
   "cell_type": "code",
   "execution_count": 40,
   "metadata": {
    "ExecuteTime": {
     "end_time": "2023-08-07T11:35:31.686069500Z",
     "start_time": "2023-08-07T11:35:31.637406900Z"
    }
   },
   "outputs": [
    {
     "data": {
      "text/plain": "0       3 days 01:27:48\n1       3 days 04:15:10\n2       0 days 05:24:03\n3       4 days 00:22:26\n4      12 days 00:39:27\n             ...       \n1063    0 days 00:43:10\n1064    0 days 19:01:39\n1065    0 days 00:16:22\n1066    0 days 00:33:35\n1067    0 days 00:09:14\nName: total_time, Length: 1068, dtype: timedelta64[ns]"
     },
     "execution_count": 40,
     "metadata": {},
     "output_type": "execute_result"
    }
   ],
   "source": [
    "df['total_time']"
   ]
  },
  {
   "cell_type": "code",
   "execution_count": 41,
   "metadata": {
    "collapsed": false,
    "ExecuteTime": {
     "end_time": "2023-08-07T11:35:31.686069500Z",
     "start_time": "2023-08-07T11:35:31.649666600Z"
    }
   },
   "outputs": [],
   "source": [
    "df['time'] = df['total_time'].astype('int64')"
   ]
  },
  {
   "cell_type": "code",
   "execution_count": 42,
   "metadata": {
    "ExecuteTime": {
     "end_time": "2023-08-07T11:35:31.686069500Z",
     "start_time": "2023-08-07T11:35:31.662804900Z"
    }
   },
   "outputs": [
    {
     "data": {
      "text/plain": "0        264468000000000\n1        274510000000000\n2         19443000000000\n3        346946000000000\n4       1039167000000000\n              ...       \n1063       2590000000000\n1064      68499000000000\n1065        982000000000\n1066       2015000000000\n1067        554000000000\nName: time, Length: 1068, dtype: int64"
     },
     "execution_count": 42,
     "metadata": {},
     "output_type": "execute_result"
    }
   ],
   "source": [
    "df['time']"
   ]
  },
  {
   "cell_type": "code",
   "execution_count": 43,
   "metadata": {
    "collapsed": false,
    "ExecuteTime": {
     "end_time": "2023-08-07T11:35:31.694947200Z",
     "start_time": "2023-08-07T11:35:31.682071200Z"
    }
   },
   "outputs": [],
   "source": [
    "X = df.loc[:, ~df.columns.isin(['begin_sha', 'end_sha', 'begin_time', 'end_time', 'total_time'])]"
   ]
  },
  {
   "cell_type": "code",
   "execution_count": 44,
   "metadata": {
    "ExecuteTime": {
     "end_time": "2023-08-07T11:35:31.738170500Z",
     "start_time": "2023-08-07T11:35:31.694947200Z"
    }
   },
   "outputs": [],
   "source": [
    "cl = list(df['total_time'])\n"
   ]
  },
  {
   "cell_type": "code",
   "execution_count": 45,
   "metadata": {
    "collapsed": false,
    "ExecuteTime": {
     "end_time": "2023-08-07T11:35:31.747680600Z",
     "start_time": "2023-08-07T11:35:31.710273500Z"
    }
   },
   "outputs": [],
   "source": [
    "scaler = preprocessing.StandardScaler()\n",
    "df_scaler = scaler.fit_transform(X)\n",
    "df_scaler_col = pd.DataFrame(df_scaler)\n",
    "df_scaler = df_scaler.T"
   ]
  },
  {
   "cell_type": "code",
   "execution_count": 46,
   "metadata": {
    "ExecuteTime": {
     "end_time": "2023-08-07T11:35:31.748685Z",
     "start_time": "2023-08-07T11:35:31.725595400Z"
    }
   },
   "outputs": [
    {
     "data": {
      "text/plain": "(15, 1068)"
     },
     "execution_count": 46,
     "metadata": {},
     "output_type": "execute_result"
    }
   ],
   "source": [
    "df_scaler.shape"
   ]
  },
  {
   "cell_type": "code",
   "execution_count": 47,
   "metadata": {
    "collapsed": false,
    "ExecuteTime": {
     "end_time": "2023-08-07T11:35:31.755692500Z",
     "start_time": "2023-08-07T11:35:31.744176800Z"
    }
   },
   "outputs": [],
   "source": [
    "#Silhouette analysis\n",
    "from sklearn.cluster import KMeans\n",
    "from sklearn.metrics import silhouette_score"
   ]
  },
  {
   "cell_type": "code",
   "execution_count": 48,
   "metadata": {
    "collapsed": false,
    "ExecuteTime": {
     "end_time": "2023-08-07T11:35:36.592769600Z",
     "start_time": "2023-08-07T11:35:31.761220800Z"
    }
   },
   "outputs": [
    {
     "name": "stderr",
     "output_type": "stream",
     "text": [
      "C:\\Users\\patcharaprapa_k\\AppData\\Local\\anaconda3\\lib\\site-packages\\sklearn\\cluster\\_kmeans.py:870: FutureWarning: The default value of `n_init` will change from 10 to 'auto' in 1.4. Set the value of `n_init` explicitly to suppress the warning\n",
      "  warnings.warn(\n",
      "C:\\Users\\patcharaprapa_k\\AppData\\Local\\anaconda3\\lib\\site-packages\\sklearn\\cluster\\_kmeans.py:1382: UserWarning: KMeans is known to have a memory leak on Windows with MKL, when there are less chunks than available threads. You can avoid it by setting the environment variable OMP_NUM_THREADS=1.\n",
      "  warnings.warn(\n",
      "C:\\Users\\patcharaprapa_k\\AppData\\Local\\anaconda3\\lib\\site-packages\\sklearn\\cluster\\_kmeans.py:870: FutureWarning: The default value of `n_init` will change from 10 to 'auto' in 1.4. Set the value of `n_init` explicitly to suppress the warning\n",
      "  warnings.warn(\n",
      "C:\\Users\\patcharaprapa_k\\AppData\\Local\\anaconda3\\lib\\site-packages\\sklearn\\cluster\\_kmeans.py:1382: UserWarning: KMeans is known to have a memory leak on Windows with MKL, when there are less chunks than available threads. You can avoid it by setting the environment variable OMP_NUM_THREADS=1.\n",
      "  warnings.warn(\n",
      "C:\\Users\\patcharaprapa_k\\AppData\\Local\\anaconda3\\lib\\site-packages\\sklearn\\cluster\\_kmeans.py:870: FutureWarning: The default value of `n_init` will change from 10 to 'auto' in 1.4. Set the value of `n_init` explicitly to suppress the warning\n",
      "  warnings.warn(\n",
      "C:\\Users\\patcharaprapa_k\\AppData\\Local\\anaconda3\\lib\\site-packages\\sklearn\\cluster\\_kmeans.py:1382: UserWarning: KMeans is known to have a memory leak on Windows with MKL, when there are less chunks than available threads. You can avoid it by setting the environment variable OMP_NUM_THREADS=1.\n",
      "  warnings.warn(\n",
      "C:\\Users\\patcharaprapa_k\\AppData\\Local\\anaconda3\\lib\\site-packages\\sklearn\\cluster\\_kmeans.py:870: FutureWarning: The default value of `n_init` will change from 10 to 'auto' in 1.4. Set the value of `n_init` explicitly to suppress the warning\n",
      "  warnings.warn(\n",
      "C:\\Users\\patcharaprapa_k\\AppData\\Local\\anaconda3\\lib\\site-packages\\sklearn\\cluster\\_kmeans.py:1382: UserWarning: KMeans is known to have a memory leak on Windows with MKL, when there are less chunks than available threads. You can avoid it by setting the environment variable OMP_NUM_THREADS=1.\n",
      "  warnings.warn(\n",
      "C:\\Users\\patcharaprapa_k\\AppData\\Local\\anaconda3\\lib\\site-packages\\sklearn\\cluster\\_kmeans.py:870: FutureWarning: The default value of `n_init` will change from 10 to 'auto' in 1.4. Set the value of `n_init` explicitly to suppress the warning\n",
      "  warnings.warn(\n",
      "C:\\Users\\patcharaprapa_k\\AppData\\Local\\anaconda3\\lib\\site-packages\\sklearn\\cluster\\_kmeans.py:1382: UserWarning: KMeans is known to have a memory leak on Windows with MKL, when there are less chunks than available threads. You can avoid it by setting the environment variable OMP_NUM_THREADS=1.\n",
      "  warnings.warn(\n",
      "C:\\Users\\patcharaprapa_k\\AppData\\Local\\anaconda3\\lib\\site-packages\\sklearn\\cluster\\_kmeans.py:870: FutureWarning: The default value of `n_init` will change from 10 to 'auto' in 1.4. Set the value of `n_init` explicitly to suppress the warning\n",
      "  warnings.warn(\n",
      "C:\\Users\\patcharaprapa_k\\AppData\\Local\\anaconda3\\lib\\site-packages\\sklearn\\cluster\\_kmeans.py:1382: UserWarning: KMeans is known to have a memory leak on Windows with MKL, when there are less chunks than available threads. You can avoid it by setting the environment variable OMP_NUM_THREADS=1.\n",
      "  warnings.warn(\n",
      "C:\\Users\\patcharaprapa_k\\AppData\\Local\\anaconda3\\lib\\site-packages\\sklearn\\cluster\\_kmeans.py:870: FutureWarning: The default value of `n_init` will change from 10 to 'auto' in 1.4. Set the value of `n_init` explicitly to suppress the warning\n",
      "  warnings.warn(\n",
      "C:\\Users\\patcharaprapa_k\\AppData\\Local\\anaconda3\\lib\\site-packages\\sklearn\\cluster\\_kmeans.py:1382: UserWarning: KMeans is known to have a memory leak on Windows with MKL, when there are less chunks than available threads. You can avoid it by setting the environment variable OMP_NUM_THREADS=1.\n",
      "  warnings.warn(\n",
      "C:\\Users\\patcharaprapa_k\\AppData\\Local\\anaconda3\\lib\\site-packages\\sklearn\\cluster\\_kmeans.py:870: FutureWarning: The default value of `n_init` will change from 10 to 'auto' in 1.4. Set the value of `n_init` explicitly to suppress the warning\n",
      "  warnings.warn(\n",
      "C:\\Users\\patcharaprapa_k\\AppData\\Local\\anaconda3\\lib\\site-packages\\sklearn\\cluster\\_kmeans.py:1382: UserWarning: KMeans is known to have a memory leak on Windows with MKL, when there are less chunks than available threads. You can avoid it by setting the environment variable OMP_NUM_THREADS=1.\n",
      "  warnings.warn(\n",
      "C:\\Users\\patcharaprapa_k\\AppData\\Local\\anaconda3\\lib\\site-packages\\sklearn\\cluster\\_kmeans.py:870: FutureWarning: The default value of `n_init` will change from 10 to 'auto' in 1.4. Set the value of `n_init` explicitly to suppress the warning\n",
      "  warnings.warn(\n",
      "C:\\Users\\patcharaprapa_k\\AppData\\Local\\anaconda3\\lib\\site-packages\\sklearn\\cluster\\_kmeans.py:1382: UserWarning: KMeans is known to have a memory leak on Windows with MKL, when there are less chunks than available threads. You can avoid it by setting the environment variable OMP_NUM_THREADS=1.\n",
      "  warnings.warn(\n",
      "C:\\Users\\patcharaprapa_k\\AppData\\Local\\anaconda3\\lib\\site-packages\\sklearn\\cluster\\_kmeans.py:870: FutureWarning: The default value of `n_init` will change from 10 to 'auto' in 1.4. Set the value of `n_init` explicitly to suppress the warning\n",
      "  warnings.warn(\n",
      "C:\\Users\\patcharaprapa_k\\AppData\\Local\\anaconda3\\lib\\site-packages\\sklearn\\cluster\\_kmeans.py:1382: UserWarning: KMeans is known to have a memory leak on Windows with MKL, when there are less chunks than available threads. You can avoid it by setting the environment variable OMP_NUM_THREADS=1.\n",
      "  warnings.warn(\n",
      "C:\\Users\\patcharaprapa_k\\AppData\\Local\\anaconda3\\lib\\site-packages\\sklearn\\cluster\\_kmeans.py:870: FutureWarning: The default value of `n_init` will change from 10 to 'auto' in 1.4. Set the value of `n_init` explicitly to suppress the warning\n",
      "  warnings.warn(\n",
      "C:\\Users\\patcharaprapa_k\\AppData\\Local\\anaconda3\\lib\\site-packages\\sklearn\\cluster\\_kmeans.py:1382: UserWarning: KMeans is known to have a memory leak on Windows with MKL, when there are less chunks than available threads. You can avoid it by setting the environment variable OMP_NUM_THREADS=1.\n",
      "  warnings.warn(\n",
      "C:\\Users\\patcharaprapa_k\\AppData\\Local\\anaconda3\\lib\\site-packages\\sklearn\\cluster\\_kmeans.py:870: FutureWarning: The default value of `n_init` will change from 10 to 'auto' in 1.4. Set the value of `n_init` explicitly to suppress the warning\n",
      "  warnings.warn(\n",
      "C:\\Users\\patcharaprapa_k\\AppData\\Local\\anaconda3\\lib\\site-packages\\sklearn\\cluster\\_kmeans.py:1382: UserWarning: KMeans is known to have a memory leak on Windows with MKL, when there are less chunks than available threads. You can avoid it by setting the environment variable OMP_NUM_THREADS=1.\n",
      "  warnings.warn(\n",
      "C:\\Users\\patcharaprapa_k\\AppData\\Local\\Temp\\ipykernel_15816\\1243137686.py:5: ConvergenceWarning: Number of distinct clusters (12) found smaller than n_clusters (13). Possibly due to duplicate points in X.\n",
      "  km.fit(df_scaler)\n",
      "C:\\Users\\patcharaprapa_k\\AppData\\Local\\anaconda3\\lib\\site-packages\\sklearn\\cluster\\_kmeans.py:870: FutureWarning: The default value of `n_init` will change from 10 to 'auto' in 1.4. Set the value of `n_init` explicitly to suppress the warning\n",
      "  warnings.warn(\n",
      "C:\\Users\\patcharaprapa_k\\AppData\\Local\\anaconda3\\lib\\site-packages\\sklearn\\cluster\\_kmeans.py:1382: UserWarning: KMeans is known to have a memory leak on Windows with MKL, when there are less chunks than available threads. You can avoid it by setting the environment variable OMP_NUM_THREADS=1.\n",
      "  warnings.warn(\n",
      "C:\\Users\\patcharaprapa_k\\AppData\\Local\\Temp\\ipykernel_15816\\1243137686.py:5: ConvergenceWarning: Number of distinct clusters (12) found smaller than n_clusters (14). Possibly due to duplicate points in X.\n",
      "  km.fit(df_scaler)\n"
     ]
    }
   ],
   "source": [
    "number_of_cluster = []\n",
    "\n",
    "for i in range(2, len(df_scaler)):\n",
    "    km = KMeans(n_clusters = i)\n",
    "    km.fit(df_scaler)\n",
    "    sil_avg = silhouette_score(df_scaler, km.labels_).round(4)\n",
    "    number_of_cluster.append([sil_avg , i])"
   ]
  },
  {
   "cell_type": "code",
   "execution_count": 49,
   "metadata": {
    "collapsed": false,
    "ExecuteTime": {
     "end_time": "2023-08-07T11:35:36.610719100Z",
     "start_time": "2023-08-07T11:35:36.593769200Z"
    }
   },
   "outputs": [
    {
     "name": "stdout",
     "output_type": "stream",
     "text": [
      "Optimum number of cluster: 3\n"
     ]
    }
   ],
   "source": [
    "print(f'Optimum number of cluster: {max(number_of_cluster)[1]}')"
   ]
  },
  {
   "cell_type": "code",
   "execution_count": 50,
   "metadata": {
    "ExecuteTime": {
     "end_time": "2023-08-07T11:35:36.654375800Z",
     "start_time": "2023-08-07T11:35:36.611247900Z"
    }
   },
   "outputs": [],
   "source": [
    "# Perform KMeans clustering\n",
    "num_clusters = max(number_of_cluster)[1]\n",
    "kmeans = KMeans(n_clusters=num_clusters)"
   ]
  },
  {
   "cell_type": "code",
   "execution_count": 51,
   "metadata": {
    "ExecuteTime": {
     "end_time": "2023-08-07T11:35:36.940920200Z",
     "start_time": "2023-08-07T11:35:36.628237700Z"
    }
   },
   "outputs": [
    {
     "name": "stderr",
     "output_type": "stream",
     "text": [
      "C:\\Users\\patcharaprapa_k\\AppData\\Local\\anaconda3\\lib\\site-packages\\sklearn\\cluster\\_kmeans.py:870: FutureWarning: The default value of `n_init` will change from 10 to 'auto' in 1.4. Set the value of `n_init` explicitly to suppress the warning\n",
      "  warnings.warn(\n",
      "C:\\Users\\patcharaprapa_k\\AppData\\Local\\anaconda3\\lib\\site-packages\\sklearn\\cluster\\_kmeans.py:1382: UserWarning: KMeans is known to have a memory leak on Windows with MKL, when there are less chunks than available threads. You can avoid it by setting the environment variable OMP_NUM_THREADS=5.\n",
      "  warnings.warn(\n"
     ]
    }
   ],
   "source": [
    "cluster_labels = kmeans.fit_predict(X)"
   ]
  },
  {
   "cell_type": "code",
   "execution_count": 52,
   "metadata": {
    "ExecuteTime": {
     "end_time": "2023-08-07T11:35:36.955938100Z",
     "start_time": "2023-08-07T11:35:36.940920200Z"
    }
   },
   "outputs": [],
   "source": [
    "df['cluster'] = cluster_labels"
   ]
  },
  {
   "cell_type": "code",
   "execution_count": 53,
   "metadata": {
    "ExecuteTime": {
     "end_time": "2023-08-07T11:35:36.978475100Z",
     "start_time": "2023-08-07T11:35:36.957443500Z"
    }
   },
   "outputs": [
    {
     "data": {
      "text/plain": "                                  begin_sha  \\\n0  84be0f9fd057b1680d001de38802ce1c28d79f04   \n1  84be0f9fd057b1680d001de38802ce1c28d79f04   \n2  84be0f9fd057b1680d001de38802ce1c28d79f04   \n\n                                    end_sha  commits  additions  deletions  \\\n0  9a2efa51c7180b369ecfea17efaae813d9d0bfc5        1         10          4   \n1  5e03d22d6cb5bfdaf941b7749e0a313bd6ab2f86        1          2          1   \n2  e0d8519a9d7b6dfac29c1daf4199b6fe87781d0a        1         36         67   \n\n   changed_files      total_time            begin_time              end_time  \\\n0              3 3 days 01:27:48  2023-06-02T07:22:03Z  2023-06-05T08:49:51Z   \n1              1 3 days 04:15:10  2023-06-02T05:07:40Z  2023-06-05T09:22:50Z   \n2              9 0 days 05:24:03  2023-06-02T03:16:04Z  2023-06-02T08:40:07Z   \n\n  begin_Dispensables  ...  begin_Change Preventers  begin_Couplers  \\\n0              500.0  ...                    262.0           304.0   \n1              500.0  ...                    262.0           304.0   \n2              500.0  ...                    262.0           304.0   \n\n   begin_Object-Orientation Abusers  end_Dispensables  end_Bloaters  \\\n0                             304.0             500.0         261.0   \n1                             304.0             501.0         262.0   \n2                             304.0             499.0         261.0   \n\n   end_Change Preventers  end_Couplers  end_Object-Orientation Abusers  \\\n0                  261.0         304.0                           693.0   \n1                  262.0         304.0                           693.0   \n2                  261.0         304.0                           693.0   \n\n              time  cluster  \n0  264468000000000        0  \n1  274510000000000        0  \n2   19443000000000        0  \n\n[3 rows x 21 columns]",
      "text/html": "<div>\n<style scoped>\n    .dataframe tbody tr th:only-of-type {\n        vertical-align: middle;\n    }\n\n    .dataframe tbody tr th {\n        vertical-align: top;\n    }\n\n    .dataframe thead th {\n        text-align: right;\n    }\n</style>\n<table border=\"1\" class=\"dataframe\">\n  <thead>\n    <tr style=\"text-align: right;\">\n      <th></th>\n      <th>begin_sha</th>\n      <th>end_sha</th>\n      <th>commits</th>\n      <th>additions</th>\n      <th>deletions</th>\n      <th>changed_files</th>\n      <th>total_time</th>\n      <th>begin_time</th>\n      <th>end_time</th>\n      <th>begin_Dispensables</th>\n      <th>...</th>\n      <th>begin_Change Preventers</th>\n      <th>begin_Couplers</th>\n      <th>begin_Object-Orientation Abusers</th>\n      <th>end_Dispensables</th>\n      <th>end_Bloaters</th>\n      <th>end_Change Preventers</th>\n      <th>end_Couplers</th>\n      <th>end_Object-Orientation Abusers</th>\n      <th>time</th>\n      <th>cluster</th>\n    </tr>\n  </thead>\n  <tbody>\n    <tr>\n      <th>0</th>\n      <td>84be0f9fd057b1680d001de38802ce1c28d79f04</td>\n      <td>9a2efa51c7180b369ecfea17efaae813d9d0bfc5</td>\n      <td>1</td>\n      <td>10</td>\n      <td>4</td>\n      <td>3</td>\n      <td>3 days 01:27:48</td>\n      <td>2023-06-02T07:22:03Z</td>\n      <td>2023-06-05T08:49:51Z</td>\n      <td>500.0</td>\n      <td>...</td>\n      <td>262.0</td>\n      <td>304.0</td>\n      <td>304.0</td>\n      <td>500.0</td>\n      <td>261.0</td>\n      <td>261.0</td>\n      <td>304.0</td>\n      <td>693.0</td>\n      <td>264468000000000</td>\n      <td>0</td>\n    </tr>\n    <tr>\n      <th>1</th>\n      <td>84be0f9fd057b1680d001de38802ce1c28d79f04</td>\n      <td>5e03d22d6cb5bfdaf941b7749e0a313bd6ab2f86</td>\n      <td>1</td>\n      <td>2</td>\n      <td>1</td>\n      <td>1</td>\n      <td>3 days 04:15:10</td>\n      <td>2023-06-02T05:07:40Z</td>\n      <td>2023-06-05T09:22:50Z</td>\n      <td>500.0</td>\n      <td>...</td>\n      <td>262.0</td>\n      <td>304.0</td>\n      <td>304.0</td>\n      <td>501.0</td>\n      <td>262.0</td>\n      <td>262.0</td>\n      <td>304.0</td>\n      <td>693.0</td>\n      <td>274510000000000</td>\n      <td>0</td>\n    </tr>\n    <tr>\n      <th>2</th>\n      <td>84be0f9fd057b1680d001de38802ce1c28d79f04</td>\n      <td>e0d8519a9d7b6dfac29c1daf4199b6fe87781d0a</td>\n      <td>1</td>\n      <td>36</td>\n      <td>67</td>\n      <td>9</td>\n      <td>0 days 05:24:03</td>\n      <td>2023-06-02T03:16:04Z</td>\n      <td>2023-06-02T08:40:07Z</td>\n      <td>500.0</td>\n      <td>...</td>\n      <td>262.0</td>\n      <td>304.0</td>\n      <td>304.0</td>\n      <td>499.0</td>\n      <td>261.0</td>\n      <td>261.0</td>\n      <td>304.0</td>\n      <td>693.0</td>\n      <td>19443000000000</td>\n      <td>0</td>\n    </tr>\n  </tbody>\n</table>\n<p>3 rows × 21 columns</p>\n</div>"
     },
     "execution_count": 53,
     "metadata": {},
     "output_type": "execute_result"
    }
   ],
   "source": [
    "df.head(3)"
   ]
  },
  {
   "cell_type": "code",
   "execution_count": 54,
   "metadata": {
    "ExecuteTime": {
     "end_time": "2023-08-07T11:35:36.987981Z",
     "start_time": "2023-08-07T11:35:36.973966500Z"
    }
   },
   "outputs": [
    {
     "data": {
      "text/plain": "(1068, 21)"
     },
     "execution_count": 54,
     "metadata": {},
     "output_type": "execute_result"
    }
   ],
   "source": [
    "df.shape"
   ]
  },
  {
   "cell_type": "code",
   "execution_count": 55,
   "metadata": {
    "ExecuteTime": {
     "end_time": "2023-08-07T11:35:37.021527400Z",
     "start_time": "2023-08-07T11:35:36.988986Z"
    }
   },
   "outputs": [],
   "source": [
    "df['timedelta'] = pd.to_timedelta(df['time'])"
   ]
  },
  {
   "cell_type": "code",
   "execution_count": 56,
   "metadata": {
    "ExecuteTime": {
     "end_time": "2023-08-07T11:35:37.111717800Z",
     "start_time": "2023-08-07T11:35:37.005500100Z"
    }
   },
   "outputs": [],
   "source": [
    "df['formatted_duration'] = df['timedelta'].apply(lambda x: f\"{x.days} days {x.seconds // 3600:02d}:{(x.seconds // 60) % 60:02d}:{x.seconds % 60:02d}\")"
   ]
  },
  {
   "cell_type": "code",
   "execution_count": 63,
   "outputs": [
    {
     "data": {
      "text/plain": "Timedelta('1 days 00:17:13')"
     },
     "execution_count": 63,
     "metadata": {},
     "output_type": "execute_result"
    }
   ],
   "source": [
    "df['timedelta'][:int(0.7 * len(df))].median()"
   ],
   "metadata": {
    "collapsed": false,
    "ExecuteTime": {
     "end_time": "2023-08-07T11:39:57.251221400Z",
     "start_time": "2023-08-07T11:39:57.236186900Z"
    }
   }
  },
  {
   "cell_type": "code",
   "execution_count": 65,
   "outputs": [
    {
     "data": {
      "text/plain": "Timedelta('0 days 00:00:05')"
     },
     "execution_count": 65,
     "metadata": {},
     "output_type": "execute_result"
    }
   ],
   "source": [
    "df['timedelta'].min()"
   ],
   "metadata": {
    "collapsed": false,
    "ExecuteTime": {
     "end_time": "2023-08-07T11:40:50.545676800Z",
     "start_time": "2023-08-07T11:40:50.535095800Z"
    }
   }
  },
  {
   "cell_type": "code",
   "execution_count": 64,
   "outputs": [
    {
     "data": {
      "text/plain": "Timedelta('110 days 16:44:58')"
     },
     "execution_count": 64,
     "metadata": {},
     "output_type": "execute_result"
    }
   ],
   "source": [
    "df['timedelta'].max()"
   ],
   "metadata": {
    "collapsed": false,
    "ExecuteTime": {
     "end_time": "2023-08-07T11:40:23.614601Z",
     "start_time": "2023-08-07T11:40:23.606065500Z"
    }
   }
  },
  {
   "cell_type": "code",
   "execution_count": 57,
   "metadata": {
    "ExecuteTime": {
     "end_time": "2023-08-07T11:35:37.111717800Z",
     "start_time": "2023-08-07T11:35:37.084709600Z"
    }
   },
   "outputs": [
    {
     "name": "stdout",
     "output_type": "stream",
     "text": [
      "0 days 00:00:05\n",
      "7 days 09:20:19\n"
     ]
    },
    {
     "data": {
      "text/plain": "(931, 23)"
     },
     "execution_count": 57,
     "metadata": {},
     "output_type": "execute_result"
    }
   ],
   "source": [
    "cluster_0 = df[df['cluster'] == 0]\n",
    "print(cluster_0['timedelta'].min())\n",
    "print(cluster_0['timedelta'].max())\n",
    "cluster_0.shape"
   ]
  },
  {
   "cell_type": "code",
   "execution_count": 69,
   "outputs": [
    {
     "data": {
      "text/plain": "          total_time  begin_Bloaters  end_Bloaters\n0    3 days 01:27:48           262.0         261.0\n1    3 days 04:15:10           262.0         262.0\n2    0 days 05:24:03           262.0         261.0\n3    4 days 00:22:26           262.0         261.0\n5    4 days 01:57:26           262.0         261.0\n...              ...             ...           ...\n1063 0 days 00:43:10            14.0          15.0\n1064 0 days 19:01:39            12.0          14.0\n1065 0 days 00:16:22            12.0          14.0\n1066 0 days 00:33:35             3.0          14.0\n1067 0 days 00:09:14             3.0          12.0\n\n[931 rows x 3 columns]",
      "text/html": "<div>\n<style scoped>\n    .dataframe tbody tr th:only-of-type {\n        vertical-align: middle;\n    }\n\n    .dataframe tbody tr th {\n        vertical-align: top;\n    }\n\n    .dataframe thead th {\n        text-align: right;\n    }\n</style>\n<table border=\"1\" class=\"dataframe\">\n  <thead>\n    <tr style=\"text-align: right;\">\n      <th></th>\n      <th>total_time</th>\n      <th>begin_Bloaters</th>\n      <th>end_Bloaters</th>\n    </tr>\n  </thead>\n  <tbody>\n    <tr>\n      <th>0</th>\n      <td>3 days 01:27:48</td>\n      <td>262.0</td>\n      <td>261.0</td>\n    </tr>\n    <tr>\n      <th>1</th>\n      <td>3 days 04:15:10</td>\n      <td>262.0</td>\n      <td>262.0</td>\n    </tr>\n    <tr>\n      <th>2</th>\n      <td>0 days 05:24:03</td>\n      <td>262.0</td>\n      <td>261.0</td>\n    </tr>\n    <tr>\n      <th>3</th>\n      <td>4 days 00:22:26</td>\n      <td>262.0</td>\n      <td>261.0</td>\n    </tr>\n    <tr>\n      <th>5</th>\n      <td>4 days 01:57:26</td>\n      <td>262.0</td>\n      <td>261.0</td>\n    </tr>\n    <tr>\n      <th>...</th>\n      <td>...</td>\n      <td>...</td>\n      <td>...</td>\n    </tr>\n    <tr>\n      <th>1063</th>\n      <td>0 days 00:43:10</td>\n      <td>14.0</td>\n      <td>15.0</td>\n    </tr>\n    <tr>\n      <th>1064</th>\n      <td>0 days 19:01:39</td>\n      <td>12.0</td>\n      <td>14.0</td>\n    </tr>\n    <tr>\n      <th>1065</th>\n      <td>0 days 00:16:22</td>\n      <td>12.0</td>\n      <td>14.0</td>\n    </tr>\n    <tr>\n      <th>1066</th>\n      <td>0 days 00:33:35</td>\n      <td>3.0</td>\n      <td>14.0</td>\n    </tr>\n    <tr>\n      <th>1067</th>\n      <td>0 days 00:09:14</td>\n      <td>3.0</td>\n      <td>12.0</td>\n    </tr>\n  </tbody>\n</table>\n<p>931 rows × 3 columns</p>\n</div>"
     },
     "execution_count": 69,
     "metadata": {},
     "output_type": "execute_result"
    }
   ],
   "source": [
    "cluster_0[['total_time','begin_Bloaters', 'end_Bloaters']]"
   ],
   "metadata": {
    "collapsed": false,
    "ExecuteTime": {
     "end_time": "2023-08-07T11:46:13.891564500Z",
     "start_time": "2023-08-07T11:46:13.870554700Z"
    }
   }
  },
  {
   "cell_type": "code",
   "execution_count": 71,
   "outputs": [
    {
     "data": {
      "text/plain": "          total_time  begin_Couplers  end_Couplers\n0    3 days 01:27:48           304.0         304.0\n1    3 days 04:15:10           304.0         304.0\n2    0 days 05:24:03           304.0         304.0\n3    4 days 00:22:26           304.0         304.0\n5    4 days 01:57:26           304.0         304.0\n...              ...             ...           ...\n1063 0 days 00:43:10             7.0           7.0\n1064 0 days 19:01:39             8.0           7.0\n1065 0 days 00:16:22             8.0           7.0\n1066 0 days 00:33:35             3.0           7.0\n1067 0 days 00:09:14             3.0           8.0\n\n[931 rows x 3 columns]",
      "text/html": "<div>\n<style scoped>\n    .dataframe tbody tr th:only-of-type {\n        vertical-align: middle;\n    }\n\n    .dataframe tbody tr th {\n        vertical-align: top;\n    }\n\n    .dataframe thead th {\n        text-align: right;\n    }\n</style>\n<table border=\"1\" class=\"dataframe\">\n  <thead>\n    <tr style=\"text-align: right;\">\n      <th></th>\n      <th>total_time</th>\n      <th>begin_Couplers</th>\n      <th>end_Couplers</th>\n    </tr>\n  </thead>\n  <tbody>\n    <tr>\n      <th>0</th>\n      <td>3 days 01:27:48</td>\n      <td>304.0</td>\n      <td>304.0</td>\n    </tr>\n    <tr>\n      <th>1</th>\n      <td>3 days 04:15:10</td>\n      <td>304.0</td>\n      <td>304.0</td>\n    </tr>\n    <tr>\n      <th>2</th>\n      <td>0 days 05:24:03</td>\n      <td>304.0</td>\n      <td>304.0</td>\n    </tr>\n    <tr>\n      <th>3</th>\n      <td>4 days 00:22:26</td>\n      <td>304.0</td>\n      <td>304.0</td>\n    </tr>\n    <tr>\n      <th>5</th>\n      <td>4 days 01:57:26</td>\n      <td>304.0</td>\n      <td>304.0</td>\n    </tr>\n    <tr>\n      <th>...</th>\n      <td>...</td>\n      <td>...</td>\n      <td>...</td>\n    </tr>\n    <tr>\n      <th>1063</th>\n      <td>0 days 00:43:10</td>\n      <td>7.0</td>\n      <td>7.0</td>\n    </tr>\n    <tr>\n      <th>1064</th>\n      <td>0 days 19:01:39</td>\n      <td>8.0</td>\n      <td>7.0</td>\n    </tr>\n    <tr>\n      <th>1065</th>\n      <td>0 days 00:16:22</td>\n      <td>8.0</td>\n      <td>7.0</td>\n    </tr>\n    <tr>\n      <th>1066</th>\n      <td>0 days 00:33:35</td>\n      <td>3.0</td>\n      <td>7.0</td>\n    </tr>\n    <tr>\n      <th>1067</th>\n      <td>0 days 00:09:14</td>\n      <td>3.0</td>\n      <td>8.0</td>\n    </tr>\n  </tbody>\n</table>\n<p>931 rows × 3 columns</p>\n</div>"
     },
     "execution_count": 71,
     "metadata": {},
     "output_type": "execute_result"
    }
   ],
   "source": [
    "cluster_0[['total_time', 'begin_Couplers', 'end_Couplers']]"
   ],
   "metadata": {
    "collapsed": false,
    "ExecuteTime": {
     "end_time": "2023-08-07T11:48:04.133603800Z",
     "start_time": "2023-08-07T11:48:04.100369500Z"
    }
   }
  },
  {
   "cell_type": "code",
   "execution_count": 58,
   "metadata": {
    "ExecuteTime": {
     "end_time": "2023-08-07T11:35:37.115693200Z",
     "start_time": "2023-08-07T11:35:37.102438600Z"
    }
   },
   "outputs": [
    {
     "name": "stdout",
     "output_type": "stream",
     "text": [
      "30 days 19:11:30\n",
      "110 days 16:44:58\n"
     ]
    },
    {
     "data": {
      "text/plain": "(24, 23)"
     },
     "execution_count": 58,
     "metadata": {},
     "output_type": "execute_result"
    }
   ],
   "source": [
    "cluster_1 = df[df['cluster'] == 1]\n",
    "print(cluster_1['timedelta'].min())\n",
    "print(cluster_1['timedelta'].max())\n",
    "cluster_1.shape"
   ]
  },
  {
   "cell_type": "code",
   "execution_count": 59,
   "metadata": {
    "ExecuteTime": {
     "end_time": "2023-08-07T11:35:37.131056200Z",
     "start_time": "2023-08-07T11:35:37.115693200Z"
    }
   },
   "outputs": [
    {
     "name": "stdout",
     "output_type": "stream",
     "text": [
      "7 days 12:04:52\n",
      "29 days 12:33:22\n"
     ]
    },
    {
     "data": {
      "text/plain": "(113, 23)"
     },
     "execution_count": 59,
     "metadata": {},
     "output_type": "execute_result"
    }
   ],
   "source": [
    "cluster_2 = df[df['cluster'] == 2]\n",
    "print(cluster_2['timedelta'].min())\n",
    "print(cluster_2['timedelta'].max())\n",
    "cluster_2.shape"
   ]
  }
 ],
 "metadata": {
  "kernelspec": {
   "display_name": "Python 3",
   "language": "python",
   "name": "python3"
  },
  "language_info": {
   "codemirror_mode": {
    "name": "ipython",
    "version": 3
   },
   "file_extension": ".py",
   "mimetype": "text/x-python",
   "name": "python",
   "nbconvert_exporter": "python",
   "pygments_lexer": "ipython3",
   "version": "3.10.9"
  }
 },
 "nbformat": 4,
 "nbformat_minor": 0
}
