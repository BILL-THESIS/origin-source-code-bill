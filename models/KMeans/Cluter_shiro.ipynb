{
 "cells": [
  {
   "cell_type": "code",
   "execution_count": 2,
   "metadata": {
    "collapsed": true,
    "ExecuteTime": {
     "end_time": "2023-08-07T11:26:33.455878100Z",
     "start_time": "2023-08-07T11:26:32.149340100Z"
    }
   },
   "outputs": [],
   "source": [
    "import pandas as pd\n",
    "from sklearn import preprocessing"
   ]
  },
  {
   "cell_type": "code",
   "execution_count": 3,
   "outputs": [],
   "source": [
    "df = pd.read_csv('../../Github/shiro/shiro_model.csv')"
   ],
   "metadata": {
    "collapsed": false,
    "ExecuteTime": {
     "end_time": "2023-08-07T11:26:33.471147900Z",
     "start_time": "2023-08-07T11:26:33.459200400Z"
    }
   }
  },
  {
   "cell_type": "code",
   "execution_count": 4,
   "outputs": [
    {
     "data": {
      "text/plain": "                                    begin_sha  \\\n0    ffde5e8cb99ae70723b40b7e8ea70131773db333   \n1    ffde5e8cb99ae70723b40b7e8ea70131773db333   \n2    96599e71c3cca3044f34ba2093d358133d39746a   \n3    96599e71c3cca3044f34ba2093d358133d39746a   \n4    420ccf82a4d7b39326e7e0d53103e77e5e324c57   \n..                                        ...   \n620  64480fc03e24c71c7d8ae16709273f2c4743a6d9   \n621  0aec373400bd5306d75537c4a2edd31954bcd1d4   \n622  6d738af363bb8cf0ea8fbe345a7bcbcbe92b302a   \n623  03927e2f85edd4c53c1a55ef659410fad59adeda   \n624  a4b5f418cdad1414fe412f172ddf3e75e529a3ae   \n\n                                      end_sha  commits  additions  deletions  \\\n0    ffebeb42a0821eef1747c34cd1a7d8abad52b1ea        1          1          1   \n1    c00020c95f25810aaed144086370282511eaf506        1          1          1   \n2    ad1cc72b44b7943ec873607eb08ae7a117f8540e        1          1          1   \n3    ab4da42313185f2394090c767f0c5d3cf4a55af0        1          1          1   \n4    96599e71c3cca3044f34ba2093d358133d39746a        1          4          4   \n..                                        ...      ...        ...        ...   \n620  4c2027adafff48f09937d06da643ee0cc4551b20        1         20          1   \n621  4aa4e3eca17aa6524171c273c08157a0430ce688        3        201          2   \n622  9cc88cb60aec982ee06b08a857997b0147c0a0e7        1         34          5   \n623  28c95ee33531fb9b573836d92e4ebee0a30cb554        1          8          2   \n624  c7e0f854caa6e0ab7d9f0508fb580a59dce49436        1         29          0   \n\n     changed_files          total_time  begin_Dispensables  begin_Bloaters  \\\n0                1       4519000000000                 165           185.0   \n1                1       6597000000000                 165           185.0   \n2                1       4556000000000                 162           196.0   \n3                1       4561000000000                 162           196.0   \n4                2       1105000000000                 162           196.0   \n..             ...                 ...                 ...             ...   \n620              1   78114357000000000                 148           177.0   \n621              2  113522586000000000                 147           177.0   \n622              1    1119087000000000                 148           177.0   \n623              2     143705000000000                 142           173.0   \n624              2     942785000000000                 122           146.0   \n\n     begin_Change Preventers  begin_Couplers  \\\n0                      185.0            62.0   \n1                      185.0            62.0   \n2                      196.0           122.0   \n3                      196.0           122.0   \n4                      196.0           122.0   \n..                       ...             ...   \n620                    177.0            55.0   \n621                    177.0            55.0   \n622                    177.0            54.0   \n623                    173.0            66.0   \n624                    146.0            53.0   \n\n     begin_Object-Orientation Abusers  end_Dispensables  end_Bloaters  \\\n0                                62.0             224.0         208.0   \n1                                62.0             165.0         185.0   \n2                               122.0             162.0         196.0   \n3                               122.0             162.0         196.0   \n4                               122.0             162.0         196.0   \n..                                ...               ...           ...   \n620                              55.0             159.0         182.0   \n621                              55.0             175.0         203.0   \n622                              54.0             147.0         177.0   \n623                              66.0             142.0         173.0   \n624                              53.0             122.0         146.0   \n\n     end_Change Preventers  end_Couplers  end_Object-Orientation Abusers  \n0                    208.0          89.0                           530.0  \n1                    185.0          62.0                           427.0  \n2                    196.0         122.0                           443.0  \n3                    196.0         122.0                           443.0  \n4                    196.0         122.0                           443.0  \n..                     ...           ...                             ...  \n620                  182.0          61.0                           431.0  \n621                  203.0          69.0                           434.0  \n622                  177.0          54.0                           418.0  \n623                  173.0          66.0                           468.0  \n624                  146.0          53.0                           384.0  \n\n[625 rows x 17 columns]",
      "text/html": "<div>\n<style scoped>\n    .dataframe tbody tr th:only-of-type {\n        vertical-align: middle;\n    }\n\n    .dataframe tbody tr th {\n        vertical-align: top;\n    }\n\n    .dataframe thead th {\n        text-align: right;\n    }\n</style>\n<table border=\"1\" class=\"dataframe\">\n  <thead>\n    <tr style=\"text-align: right;\">\n      <th></th>\n      <th>begin_sha</th>\n      <th>end_sha</th>\n      <th>commits</th>\n      <th>additions</th>\n      <th>deletions</th>\n      <th>changed_files</th>\n      <th>total_time</th>\n      <th>begin_Dispensables</th>\n      <th>begin_Bloaters</th>\n      <th>begin_Change Preventers</th>\n      <th>begin_Couplers</th>\n      <th>begin_Object-Orientation Abusers</th>\n      <th>end_Dispensables</th>\n      <th>end_Bloaters</th>\n      <th>end_Change Preventers</th>\n      <th>end_Couplers</th>\n      <th>end_Object-Orientation Abusers</th>\n    </tr>\n  </thead>\n  <tbody>\n    <tr>\n      <th>0</th>\n      <td>ffde5e8cb99ae70723b40b7e8ea70131773db333</td>\n      <td>ffebeb42a0821eef1747c34cd1a7d8abad52b1ea</td>\n      <td>1</td>\n      <td>1</td>\n      <td>1</td>\n      <td>1</td>\n      <td>4519000000000</td>\n      <td>165</td>\n      <td>185.0</td>\n      <td>185.0</td>\n      <td>62.0</td>\n      <td>62.0</td>\n      <td>224.0</td>\n      <td>208.0</td>\n      <td>208.0</td>\n      <td>89.0</td>\n      <td>530.0</td>\n    </tr>\n    <tr>\n      <th>1</th>\n      <td>ffde5e8cb99ae70723b40b7e8ea70131773db333</td>\n      <td>c00020c95f25810aaed144086370282511eaf506</td>\n      <td>1</td>\n      <td>1</td>\n      <td>1</td>\n      <td>1</td>\n      <td>6597000000000</td>\n      <td>165</td>\n      <td>185.0</td>\n      <td>185.0</td>\n      <td>62.0</td>\n      <td>62.0</td>\n      <td>165.0</td>\n      <td>185.0</td>\n      <td>185.0</td>\n      <td>62.0</td>\n      <td>427.0</td>\n    </tr>\n    <tr>\n      <th>2</th>\n      <td>96599e71c3cca3044f34ba2093d358133d39746a</td>\n      <td>ad1cc72b44b7943ec873607eb08ae7a117f8540e</td>\n      <td>1</td>\n      <td>1</td>\n      <td>1</td>\n      <td>1</td>\n      <td>4556000000000</td>\n      <td>162</td>\n      <td>196.0</td>\n      <td>196.0</td>\n      <td>122.0</td>\n      <td>122.0</td>\n      <td>162.0</td>\n      <td>196.0</td>\n      <td>196.0</td>\n      <td>122.0</td>\n      <td>443.0</td>\n    </tr>\n    <tr>\n      <th>3</th>\n      <td>96599e71c3cca3044f34ba2093d358133d39746a</td>\n      <td>ab4da42313185f2394090c767f0c5d3cf4a55af0</td>\n      <td>1</td>\n      <td>1</td>\n      <td>1</td>\n      <td>1</td>\n      <td>4561000000000</td>\n      <td>162</td>\n      <td>196.0</td>\n      <td>196.0</td>\n      <td>122.0</td>\n      <td>122.0</td>\n      <td>162.0</td>\n      <td>196.0</td>\n      <td>196.0</td>\n      <td>122.0</td>\n      <td>443.0</td>\n    </tr>\n    <tr>\n      <th>4</th>\n      <td>420ccf82a4d7b39326e7e0d53103e77e5e324c57</td>\n      <td>96599e71c3cca3044f34ba2093d358133d39746a</td>\n      <td>1</td>\n      <td>4</td>\n      <td>4</td>\n      <td>2</td>\n      <td>1105000000000</td>\n      <td>162</td>\n      <td>196.0</td>\n      <td>196.0</td>\n      <td>122.0</td>\n      <td>122.0</td>\n      <td>162.0</td>\n      <td>196.0</td>\n      <td>196.0</td>\n      <td>122.0</td>\n      <td>443.0</td>\n    </tr>\n    <tr>\n      <th>...</th>\n      <td>...</td>\n      <td>...</td>\n      <td>...</td>\n      <td>...</td>\n      <td>...</td>\n      <td>...</td>\n      <td>...</td>\n      <td>...</td>\n      <td>...</td>\n      <td>...</td>\n      <td>...</td>\n      <td>...</td>\n      <td>...</td>\n      <td>...</td>\n      <td>...</td>\n      <td>...</td>\n      <td>...</td>\n    </tr>\n    <tr>\n      <th>620</th>\n      <td>64480fc03e24c71c7d8ae16709273f2c4743a6d9</td>\n      <td>4c2027adafff48f09937d06da643ee0cc4551b20</td>\n      <td>1</td>\n      <td>20</td>\n      <td>1</td>\n      <td>1</td>\n      <td>78114357000000000</td>\n      <td>148</td>\n      <td>177.0</td>\n      <td>177.0</td>\n      <td>55.0</td>\n      <td>55.0</td>\n      <td>159.0</td>\n      <td>182.0</td>\n      <td>182.0</td>\n      <td>61.0</td>\n      <td>431.0</td>\n    </tr>\n    <tr>\n      <th>621</th>\n      <td>0aec373400bd5306d75537c4a2edd31954bcd1d4</td>\n      <td>4aa4e3eca17aa6524171c273c08157a0430ce688</td>\n      <td>3</td>\n      <td>201</td>\n      <td>2</td>\n      <td>2</td>\n      <td>113522586000000000</td>\n      <td>147</td>\n      <td>177.0</td>\n      <td>177.0</td>\n      <td>55.0</td>\n      <td>55.0</td>\n      <td>175.0</td>\n      <td>203.0</td>\n      <td>203.0</td>\n      <td>69.0</td>\n      <td>434.0</td>\n    </tr>\n    <tr>\n      <th>622</th>\n      <td>6d738af363bb8cf0ea8fbe345a7bcbcbe92b302a</td>\n      <td>9cc88cb60aec982ee06b08a857997b0147c0a0e7</td>\n      <td>1</td>\n      <td>34</td>\n      <td>5</td>\n      <td>1</td>\n      <td>1119087000000000</td>\n      <td>148</td>\n      <td>177.0</td>\n      <td>177.0</td>\n      <td>54.0</td>\n      <td>54.0</td>\n      <td>147.0</td>\n      <td>177.0</td>\n      <td>177.0</td>\n      <td>54.0</td>\n      <td>418.0</td>\n    </tr>\n    <tr>\n      <th>623</th>\n      <td>03927e2f85edd4c53c1a55ef659410fad59adeda</td>\n      <td>28c95ee33531fb9b573836d92e4ebee0a30cb554</td>\n      <td>1</td>\n      <td>8</td>\n      <td>2</td>\n      <td>2</td>\n      <td>143705000000000</td>\n      <td>142</td>\n      <td>173.0</td>\n      <td>173.0</td>\n      <td>66.0</td>\n      <td>66.0</td>\n      <td>142.0</td>\n      <td>173.0</td>\n      <td>173.0</td>\n      <td>66.0</td>\n      <td>468.0</td>\n    </tr>\n    <tr>\n      <th>624</th>\n      <td>a4b5f418cdad1414fe412f172ddf3e75e529a3ae</td>\n      <td>c7e0f854caa6e0ab7d9f0508fb580a59dce49436</td>\n      <td>1</td>\n      <td>29</td>\n      <td>0</td>\n      <td>2</td>\n      <td>942785000000000</td>\n      <td>122</td>\n      <td>146.0</td>\n      <td>146.0</td>\n      <td>53.0</td>\n      <td>53.0</td>\n      <td>122.0</td>\n      <td>146.0</td>\n      <td>146.0</td>\n      <td>53.0</td>\n      <td>384.0</td>\n    </tr>\n  </tbody>\n</table>\n<p>625 rows × 17 columns</p>\n</div>"
     },
     "execution_count": 4,
     "metadata": {},
     "output_type": "execute_result"
    }
   ],
   "source": [
    "df"
   ],
   "metadata": {
    "collapsed": false,
    "ExecuteTime": {
     "end_time": "2023-08-07T11:26:33.502268Z",
     "start_time": "2023-08-07T11:26:33.475725100Z"
    }
   }
  },
  {
   "cell_type": "code",
   "execution_count": 5,
   "outputs": [],
   "source": [
    "X = df.loc[:, ~df.columns.isin(['begin_sha', 'end_sha', 'begin_time', 'end_time'])]"
   ],
   "metadata": {
    "collapsed": false,
    "ExecuteTime": {
     "end_time": "2023-08-07T11:26:33.548268600Z",
     "start_time": "2023-08-07T11:26:33.503286300Z"
    }
   }
  },
  {
   "cell_type": "code",
   "execution_count": 6,
   "outputs": [
    {
     "data": {
      "text/plain": "     commits  additions  deletions  changed_files          total_time  \\\n0          1          1          1              1       4519000000000   \n1          1          1          1              1       6597000000000   \n2          1          1          1              1       4556000000000   \n3          1          1          1              1       4561000000000   \n4          1          4          4              2       1105000000000   \n..       ...        ...        ...            ...                 ...   \n620        1         20          1              1   78114357000000000   \n621        3        201          2              2  113522586000000000   \n622        1         34          5              1    1119087000000000   \n623        1          8          2              2     143705000000000   \n624        1         29          0              2     942785000000000   \n\n     begin_Dispensables  begin_Bloaters  begin_Change Preventers  \\\n0                   165           185.0                    185.0   \n1                   165           185.0                    185.0   \n2                   162           196.0                    196.0   \n3                   162           196.0                    196.0   \n4                   162           196.0                    196.0   \n..                  ...             ...                      ...   \n620                 148           177.0                    177.0   \n621                 147           177.0                    177.0   \n622                 148           177.0                    177.0   \n623                 142           173.0                    173.0   \n624                 122           146.0                    146.0   \n\n     begin_Couplers  begin_Object-Orientation Abusers  end_Dispensables  \\\n0              62.0                              62.0             224.0   \n1              62.0                              62.0             165.0   \n2             122.0                             122.0             162.0   \n3             122.0                             122.0             162.0   \n4             122.0                             122.0             162.0   \n..              ...                               ...               ...   \n620            55.0                              55.0             159.0   \n621            55.0                              55.0             175.0   \n622            54.0                              54.0             147.0   \n623            66.0                              66.0             142.0   \n624            53.0                              53.0             122.0   \n\n     end_Bloaters  end_Change Preventers  end_Couplers  \\\n0           208.0                  208.0          89.0   \n1           185.0                  185.0          62.0   \n2           196.0                  196.0         122.0   \n3           196.0                  196.0         122.0   \n4           196.0                  196.0         122.0   \n..            ...                    ...           ...   \n620         182.0                  182.0          61.0   \n621         203.0                  203.0          69.0   \n622         177.0                  177.0          54.0   \n623         173.0                  173.0          66.0   \n624         146.0                  146.0          53.0   \n\n     end_Object-Orientation Abusers  \n0                             530.0  \n1                             427.0  \n2                             443.0  \n3                             443.0  \n4                             443.0  \n..                              ...  \n620                           431.0  \n621                           434.0  \n622                           418.0  \n623                           468.0  \n624                           384.0  \n\n[625 rows x 15 columns]",
      "text/html": "<div>\n<style scoped>\n    .dataframe tbody tr th:only-of-type {\n        vertical-align: middle;\n    }\n\n    .dataframe tbody tr th {\n        vertical-align: top;\n    }\n\n    .dataframe thead th {\n        text-align: right;\n    }\n</style>\n<table border=\"1\" class=\"dataframe\">\n  <thead>\n    <tr style=\"text-align: right;\">\n      <th></th>\n      <th>commits</th>\n      <th>additions</th>\n      <th>deletions</th>\n      <th>changed_files</th>\n      <th>total_time</th>\n      <th>begin_Dispensables</th>\n      <th>begin_Bloaters</th>\n      <th>begin_Change Preventers</th>\n      <th>begin_Couplers</th>\n      <th>begin_Object-Orientation Abusers</th>\n      <th>end_Dispensables</th>\n      <th>end_Bloaters</th>\n      <th>end_Change Preventers</th>\n      <th>end_Couplers</th>\n      <th>end_Object-Orientation Abusers</th>\n    </tr>\n  </thead>\n  <tbody>\n    <tr>\n      <th>0</th>\n      <td>1</td>\n      <td>1</td>\n      <td>1</td>\n      <td>1</td>\n      <td>4519000000000</td>\n      <td>165</td>\n      <td>185.0</td>\n      <td>185.0</td>\n      <td>62.0</td>\n      <td>62.0</td>\n      <td>224.0</td>\n      <td>208.0</td>\n      <td>208.0</td>\n      <td>89.0</td>\n      <td>530.0</td>\n    </tr>\n    <tr>\n      <th>1</th>\n      <td>1</td>\n      <td>1</td>\n      <td>1</td>\n      <td>1</td>\n      <td>6597000000000</td>\n      <td>165</td>\n      <td>185.0</td>\n      <td>185.0</td>\n      <td>62.0</td>\n      <td>62.0</td>\n      <td>165.0</td>\n      <td>185.0</td>\n      <td>185.0</td>\n      <td>62.0</td>\n      <td>427.0</td>\n    </tr>\n    <tr>\n      <th>2</th>\n      <td>1</td>\n      <td>1</td>\n      <td>1</td>\n      <td>1</td>\n      <td>4556000000000</td>\n      <td>162</td>\n      <td>196.0</td>\n      <td>196.0</td>\n      <td>122.0</td>\n      <td>122.0</td>\n      <td>162.0</td>\n      <td>196.0</td>\n      <td>196.0</td>\n      <td>122.0</td>\n      <td>443.0</td>\n    </tr>\n    <tr>\n      <th>3</th>\n      <td>1</td>\n      <td>1</td>\n      <td>1</td>\n      <td>1</td>\n      <td>4561000000000</td>\n      <td>162</td>\n      <td>196.0</td>\n      <td>196.0</td>\n      <td>122.0</td>\n      <td>122.0</td>\n      <td>162.0</td>\n      <td>196.0</td>\n      <td>196.0</td>\n      <td>122.0</td>\n      <td>443.0</td>\n    </tr>\n    <tr>\n      <th>4</th>\n      <td>1</td>\n      <td>4</td>\n      <td>4</td>\n      <td>2</td>\n      <td>1105000000000</td>\n      <td>162</td>\n      <td>196.0</td>\n      <td>196.0</td>\n      <td>122.0</td>\n      <td>122.0</td>\n      <td>162.0</td>\n      <td>196.0</td>\n      <td>196.0</td>\n      <td>122.0</td>\n      <td>443.0</td>\n    </tr>\n    <tr>\n      <th>...</th>\n      <td>...</td>\n      <td>...</td>\n      <td>...</td>\n      <td>...</td>\n      <td>...</td>\n      <td>...</td>\n      <td>...</td>\n      <td>...</td>\n      <td>...</td>\n      <td>...</td>\n      <td>...</td>\n      <td>...</td>\n      <td>...</td>\n      <td>...</td>\n      <td>...</td>\n    </tr>\n    <tr>\n      <th>620</th>\n      <td>1</td>\n      <td>20</td>\n      <td>1</td>\n      <td>1</td>\n      <td>78114357000000000</td>\n      <td>148</td>\n      <td>177.0</td>\n      <td>177.0</td>\n      <td>55.0</td>\n      <td>55.0</td>\n      <td>159.0</td>\n      <td>182.0</td>\n      <td>182.0</td>\n      <td>61.0</td>\n      <td>431.0</td>\n    </tr>\n    <tr>\n      <th>621</th>\n      <td>3</td>\n      <td>201</td>\n      <td>2</td>\n      <td>2</td>\n      <td>113522586000000000</td>\n      <td>147</td>\n      <td>177.0</td>\n      <td>177.0</td>\n      <td>55.0</td>\n      <td>55.0</td>\n      <td>175.0</td>\n      <td>203.0</td>\n      <td>203.0</td>\n      <td>69.0</td>\n      <td>434.0</td>\n    </tr>\n    <tr>\n      <th>622</th>\n      <td>1</td>\n      <td>34</td>\n      <td>5</td>\n      <td>1</td>\n      <td>1119087000000000</td>\n      <td>148</td>\n      <td>177.0</td>\n      <td>177.0</td>\n      <td>54.0</td>\n      <td>54.0</td>\n      <td>147.0</td>\n      <td>177.0</td>\n      <td>177.0</td>\n      <td>54.0</td>\n      <td>418.0</td>\n    </tr>\n    <tr>\n      <th>623</th>\n      <td>1</td>\n      <td>8</td>\n      <td>2</td>\n      <td>2</td>\n      <td>143705000000000</td>\n      <td>142</td>\n      <td>173.0</td>\n      <td>173.0</td>\n      <td>66.0</td>\n      <td>66.0</td>\n      <td>142.0</td>\n      <td>173.0</td>\n      <td>173.0</td>\n      <td>66.0</td>\n      <td>468.0</td>\n    </tr>\n    <tr>\n      <th>624</th>\n      <td>1</td>\n      <td>29</td>\n      <td>0</td>\n      <td>2</td>\n      <td>942785000000000</td>\n      <td>122</td>\n      <td>146.0</td>\n      <td>146.0</td>\n      <td>53.0</td>\n      <td>53.0</td>\n      <td>122.0</td>\n      <td>146.0</td>\n      <td>146.0</td>\n      <td>53.0</td>\n      <td>384.0</td>\n    </tr>\n  </tbody>\n</table>\n<p>625 rows × 15 columns</p>\n</div>"
     },
     "execution_count": 6,
     "metadata": {},
     "output_type": "execute_result"
    }
   ],
   "source": [
    "X"
   ],
   "metadata": {
    "collapsed": false,
    "ExecuteTime": {
     "end_time": "2023-08-07T11:26:33.627685700Z",
     "start_time": "2023-08-07T11:26:33.534725500Z"
    }
   }
  },
  {
   "cell_type": "code",
   "execution_count": 7,
   "outputs": [],
   "source": [
    "scaler = preprocessing.StandardScaler()\n",
    "df_scaler = scaler.fit_transform(X)\n",
    "df_scaler_col = pd.DataFrame(df_scaler)\n",
    "df_scaler = df_scaler.T"
   ],
   "metadata": {
    "collapsed": false,
    "ExecuteTime": {
     "end_time": "2023-08-07T11:26:33.658840800Z",
     "start_time": "2023-08-07T11:26:33.569907500Z"
    }
   }
  },
  {
   "cell_type": "code",
   "execution_count": 8,
   "outputs": [
    {
     "data": {
      "text/plain": "(15, 625)"
     },
     "execution_count": 8,
     "metadata": {},
     "output_type": "execute_result"
    }
   ],
   "source": [
    "df_scaler.shape"
   ],
   "metadata": {
    "collapsed": false,
    "ExecuteTime": {
     "end_time": "2023-08-07T11:26:33.659840600Z",
     "start_time": "2023-08-07T11:26:33.592153500Z"
    }
   }
  },
  {
   "cell_type": "code",
   "execution_count": 9,
   "outputs": [
    {
     "data": {
      "text/plain": "array([[-0.22113766, -0.22113766, -0.22113766, ..., -0.22113766,\n        -0.22113766, -0.22113766],\n       [-0.15798239, -0.15798239, -0.15798239, ..., -0.05145042,\n        -0.1353847 , -0.06759163],\n       [-0.17110085, -0.17110085, -0.17110085, ..., -0.13652943,\n        -0.162458  , -0.1797437 ],\n       ...,\n       [ 2.73257068, -0.33983476,  1.12957654, ..., -1.40849752,\n        -1.9428289 , -5.54956571],\n       [ 0.47437498, -0.67149932,  1.87488802, ..., -1.01101763,\n        -0.50174016, -1.05345742],\n       [12.69411624, -0.56432025,  1.4952427 , ..., -1.72282441,\n         4.71330981, -6.09939567]])"
     },
     "execution_count": 9,
     "metadata": {},
     "output_type": "execute_result"
    }
   ],
   "source": [
    "df_scaler"
   ],
   "metadata": {
    "collapsed": false,
    "ExecuteTime": {
     "end_time": "2023-08-07T11:26:33.659840600Z",
     "start_time": "2023-08-07T11:26:33.597974100Z"
    }
   }
  },
  {
   "cell_type": "code",
   "execution_count": 10,
   "outputs": [],
   "source": [
    "#Silhouette analysis\n",
    "from sklearn.cluster import KMeans\n",
    "from sklearn.metrics import silhouette_score"
   ],
   "metadata": {
    "collapsed": false,
    "ExecuteTime": {
     "end_time": "2023-08-07T11:26:33.828427800Z",
     "start_time": "2023-08-07T11:26:33.623601400Z"
    }
   }
  },
  {
   "cell_type": "code",
   "execution_count": 11,
   "outputs": [
    {
     "name": "stderr",
     "output_type": "stream",
     "text": [
      "C:\\Users\\patcharaprapa_k\\AppData\\Local\\anaconda3\\lib\\site-packages\\sklearn\\cluster\\_kmeans.py:870: FutureWarning: The default value of `n_init` will change from 10 to 'auto' in 1.4. Set the value of `n_init` explicitly to suppress the warning\n",
      "  warnings.warn(\n",
      "C:\\Users\\patcharaprapa_k\\AppData\\Local\\anaconda3\\lib\\site-packages\\sklearn\\cluster\\_kmeans.py:1382: UserWarning: KMeans is known to have a memory leak on Windows with MKL, when there are less chunks than available threads. You can avoid it by setting the environment variable OMP_NUM_THREADS=1.\n",
      "  warnings.warn(\n",
      "C:\\Users\\patcharaprapa_k\\AppData\\Local\\anaconda3\\lib\\site-packages\\sklearn\\cluster\\_kmeans.py:870: FutureWarning: The default value of `n_init` will change from 10 to 'auto' in 1.4. Set the value of `n_init` explicitly to suppress the warning\n",
      "  warnings.warn(\n",
      "C:\\Users\\patcharaprapa_k\\AppData\\Local\\anaconda3\\lib\\site-packages\\sklearn\\cluster\\_kmeans.py:1382: UserWarning: KMeans is known to have a memory leak on Windows with MKL, when there are less chunks than available threads. You can avoid it by setting the environment variable OMP_NUM_THREADS=1.\n",
      "  warnings.warn(\n",
      "C:\\Users\\patcharaprapa_k\\AppData\\Local\\anaconda3\\lib\\site-packages\\sklearn\\cluster\\_kmeans.py:870: FutureWarning: The default value of `n_init` will change from 10 to 'auto' in 1.4. Set the value of `n_init` explicitly to suppress the warning\n",
      "  warnings.warn(\n",
      "C:\\Users\\patcharaprapa_k\\AppData\\Local\\anaconda3\\lib\\site-packages\\sklearn\\cluster\\_kmeans.py:1382: UserWarning: KMeans is known to have a memory leak on Windows with MKL, when there are less chunks than available threads. You can avoid it by setting the environment variable OMP_NUM_THREADS=1.\n",
      "  warnings.warn(\n",
      "C:\\Users\\patcharaprapa_k\\AppData\\Local\\anaconda3\\lib\\site-packages\\sklearn\\cluster\\_kmeans.py:870: FutureWarning: The default value of `n_init` will change from 10 to 'auto' in 1.4. Set the value of `n_init` explicitly to suppress the warning\n",
      "  warnings.warn(\n",
      "C:\\Users\\patcharaprapa_k\\AppData\\Local\\anaconda3\\lib\\site-packages\\sklearn\\cluster\\_kmeans.py:1382: UserWarning: KMeans is known to have a memory leak on Windows with MKL, when there are less chunks than available threads. You can avoid it by setting the environment variable OMP_NUM_THREADS=1.\n",
      "  warnings.warn(\n",
      "C:\\Users\\patcharaprapa_k\\AppData\\Local\\anaconda3\\lib\\site-packages\\sklearn\\cluster\\_kmeans.py:870: FutureWarning: The default value of `n_init` will change from 10 to 'auto' in 1.4. Set the value of `n_init` explicitly to suppress the warning\n",
      "  warnings.warn(\n",
      "C:\\Users\\patcharaprapa_k\\AppData\\Local\\anaconda3\\lib\\site-packages\\sklearn\\cluster\\_kmeans.py:1382: UserWarning: KMeans is known to have a memory leak on Windows with MKL, when there are less chunks than available threads. You can avoid it by setting the environment variable OMP_NUM_THREADS=1.\n",
      "  warnings.warn(\n",
      "C:\\Users\\patcharaprapa_k\\AppData\\Local\\anaconda3\\lib\\site-packages\\sklearn\\cluster\\_kmeans.py:870: FutureWarning: The default value of `n_init` will change from 10 to 'auto' in 1.4. Set the value of `n_init` explicitly to suppress the warning\n",
      "  warnings.warn(\n",
      "C:\\Users\\patcharaprapa_k\\AppData\\Local\\anaconda3\\lib\\site-packages\\sklearn\\cluster\\_kmeans.py:1382: UserWarning: KMeans is known to have a memory leak on Windows with MKL, when there are less chunks than available threads. You can avoid it by setting the environment variable OMP_NUM_THREADS=1.\n",
      "  warnings.warn(\n",
      "C:\\Users\\patcharaprapa_k\\AppData\\Local\\anaconda3\\lib\\site-packages\\sklearn\\cluster\\_kmeans.py:870: FutureWarning: The default value of `n_init` will change from 10 to 'auto' in 1.4. Set the value of `n_init` explicitly to suppress the warning\n",
      "  warnings.warn(\n",
      "C:\\Users\\patcharaprapa_k\\AppData\\Local\\anaconda3\\lib\\site-packages\\sklearn\\cluster\\_kmeans.py:1382: UserWarning: KMeans is known to have a memory leak on Windows with MKL, when there are less chunks than available threads. You can avoid it by setting the environment variable OMP_NUM_THREADS=1.\n",
      "  warnings.warn(\n",
      "C:\\Users\\patcharaprapa_k\\AppData\\Local\\anaconda3\\lib\\site-packages\\sklearn\\cluster\\_kmeans.py:870: FutureWarning: The default value of `n_init` will change from 10 to 'auto' in 1.4. Set the value of `n_init` explicitly to suppress the warning\n",
      "  warnings.warn(\n",
      "C:\\Users\\patcharaprapa_k\\AppData\\Local\\anaconda3\\lib\\site-packages\\sklearn\\cluster\\_kmeans.py:1382: UserWarning: KMeans is known to have a memory leak on Windows with MKL, when there are less chunks than available threads. You can avoid it by setting the environment variable OMP_NUM_THREADS=1.\n",
      "  warnings.warn(\n",
      "C:\\Users\\patcharaprapa_k\\AppData\\Local\\anaconda3\\lib\\site-packages\\sklearn\\cluster\\_kmeans.py:870: FutureWarning: The default value of `n_init` will change from 10 to 'auto' in 1.4. Set the value of `n_init` explicitly to suppress the warning\n",
      "  warnings.warn(\n",
      "C:\\Users\\patcharaprapa_k\\AppData\\Local\\anaconda3\\lib\\site-packages\\sklearn\\cluster\\_kmeans.py:1382: UserWarning: KMeans is known to have a memory leak on Windows with MKL, when there are less chunks than available threads. You can avoid it by setting the environment variable OMP_NUM_THREADS=1.\n",
      "  warnings.warn(\n",
      "C:\\Users\\patcharaprapa_k\\AppData\\Local\\anaconda3\\lib\\site-packages\\sklearn\\cluster\\_kmeans.py:870: FutureWarning: The default value of `n_init` will change from 10 to 'auto' in 1.4. Set the value of `n_init` explicitly to suppress the warning\n",
      "  warnings.warn(\n",
      "C:\\Users\\patcharaprapa_k\\AppData\\Local\\anaconda3\\lib\\site-packages\\sklearn\\cluster\\_kmeans.py:1382: UserWarning: KMeans is known to have a memory leak on Windows with MKL, when there are less chunks than available threads. You can avoid it by setting the environment variable OMP_NUM_THREADS=1.\n",
      "  warnings.warn(\n",
      "C:\\Users\\patcharaprapa_k\\AppData\\Local\\anaconda3\\lib\\site-packages\\sklearn\\cluster\\_kmeans.py:870: FutureWarning: The default value of `n_init` will change from 10 to 'auto' in 1.4. Set the value of `n_init` explicitly to suppress the warning\n",
      "  warnings.warn(\n",
      "C:\\Users\\patcharaprapa_k\\AppData\\Local\\anaconda3\\lib\\site-packages\\sklearn\\cluster\\_kmeans.py:1382: UserWarning: KMeans is known to have a memory leak on Windows with MKL, when there are less chunks than available threads. You can avoid it by setting the environment variable OMP_NUM_THREADS=1.\n",
      "  warnings.warn(\n",
      "C:\\Users\\patcharaprapa_k\\AppData\\Local\\anaconda3\\lib\\site-packages\\sklearn\\cluster\\_kmeans.py:870: FutureWarning: The default value of `n_init` will change from 10 to 'auto' in 1.4. Set the value of `n_init` explicitly to suppress the warning\n",
      "  warnings.warn(\n",
      "C:\\Users\\patcharaprapa_k\\AppData\\Local\\anaconda3\\lib\\site-packages\\sklearn\\cluster\\_kmeans.py:1382: UserWarning: KMeans is known to have a memory leak on Windows with MKL, when there are less chunks than available threads. You can avoid it by setting the environment variable OMP_NUM_THREADS=1.\n",
      "  warnings.warn(\n",
      "C:\\Users\\patcharaprapa_k\\AppData\\Local\\Temp\\ipykernel_15936\\1243137686.py:5: ConvergenceWarning: Number of distinct clusters (12) found smaller than n_clusters (13). Possibly due to duplicate points in X.\n",
      "  km.fit(df_scaler)\n",
      "C:\\Users\\patcharaprapa_k\\AppData\\Local\\anaconda3\\lib\\site-packages\\sklearn\\cluster\\_kmeans.py:870: FutureWarning: The default value of `n_init` will change from 10 to 'auto' in 1.4. Set the value of `n_init` explicitly to suppress the warning\n",
      "  warnings.warn(\n",
      "C:\\Users\\patcharaprapa_k\\AppData\\Local\\anaconda3\\lib\\site-packages\\sklearn\\cluster\\_kmeans.py:1382: UserWarning: KMeans is known to have a memory leak on Windows with MKL, when there are less chunks than available threads. You can avoid it by setting the environment variable OMP_NUM_THREADS=1.\n",
      "  warnings.warn(\n",
      "C:\\Users\\patcharaprapa_k\\AppData\\Local\\Temp\\ipykernel_15936\\1243137686.py:5: ConvergenceWarning: Number of distinct clusters (12) found smaller than n_clusters (14). Possibly due to duplicate points in X.\n",
      "  km.fit(df_scaler)\n"
     ]
    }
   ],
   "source": [
    "number_of_cluster = []\n",
    "\n",
    "for i in range(2, len(df_scaler)):\n",
    "    km = KMeans(n_clusters = i)\n",
    "    km.fit(df_scaler)\n",
    "    sil_avg = silhouette_score(df_scaler, km.labels_).round(4)\n",
    "    number_of_cluster.append([sil_avg , i])"
   ],
   "metadata": {
    "collapsed": false,
    "ExecuteTime": {
     "end_time": "2023-08-07T11:26:38.030798200Z",
     "start_time": "2023-08-07T11:26:33.831428200Z"
    }
   }
  },
  {
   "cell_type": "code",
   "execution_count": 12,
   "outputs": [
    {
     "name": "stdout",
     "output_type": "stream",
     "text": [
      "Optimum number of cluster: 11\n"
     ]
    }
   ],
   "source": [
    "print(f'Optimum number of cluster: {max(number_of_cluster)[1]}')"
   ],
   "metadata": {
    "collapsed": false,
    "ExecuteTime": {
     "end_time": "2023-08-07T11:26:38.076354700Z",
     "start_time": "2023-08-07T11:26:38.031798Z"
    }
   }
  },
  {
   "cell_type": "code",
   "execution_count": 13,
   "outputs": [],
   "source": [
    "# Perform KMeans clustering\n",
    "num_clusters = max(number_of_cluster)[1]\n",
    "kmeans = KMeans(n_clusters=num_clusters)"
   ],
   "metadata": {
    "collapsed": false,
    "ExecuteTime": {
     "end_time": "2023-08-07T11:26:38.082358900Z",
     "start_time": "2023-08-07T11:26:38.047822700Z"
    }
   }
  },
  {
   "cell_type": "code",
   "execution_count": 14,
   "outputs": [
    {
     "name": "stderr",
     "output_type": "stream",
     "text": [
      "C:\\Users\\patcharaprapa_k\\AppData\\Local\\anaconda3\\lib\\site-packages\\sklearn\\cluster\\_kmeans.py:870: FutureWarning: The default value of `n_init` will change from 10 to 'auto' in 1.4. Set the value of `n_init` explicitly to suppress the warning\n",
      "  warnings.warn(\n",
      "C:\\Users\\patcharaprapa_k\\AppData\\Local\\anaconda3\\lib\\site-packages\\sklearn\\cluster\\_kmeans.py:1382: UserWarning: KMeans is known to have a memory leak on Windows with MKL, when there are less chunks than available threads. You can avoid it by setting the environment variable OMP_NUM_THREADS=3.\n",
      "  warnings.warn(\n"
     ]
    }
   ],
   "source": [
    "cluster_labels = kmeans.fit_predict(X)"
   ],
   "metadata": {
    "collapsed": false,
    "ExecuteTime": {
     "end_time": "2023-08-07T11:26:57.250941300Z",
     "start_time": "2023-08-07T11:26:56.971655500Z"
    }
   }
  },
  {
   "cell_type": "code",
   "execution_count": 15,
   "outputs": [],
   "source": [
    "df['cluster'] = cluster_labels"
   ],
   "metadata": {
    "collapsed": false,
    "ExecuteTime": {
     "end_time": "2023-08-07T11:27:04.895186600Z",
     "start_time": "2023-08-07T11:27:04.883865500Z"
    }
   }
  },
  {
   "cell_type": "code",
   "execution_count": 16,
   "outputs": [
    {
     "data": {
      "text/plain": "(625, 18)"
     },
     "execution_count": 16,
     "metadata": {},
     "output_type": "execute_result"
    }
   ],
   "source": [
    "df.shape"
   ],
   "metadata": {
    "collapsed": false,
    "ExecuteTime": {
     "end_time": "2023-08-07T11:27:17.276568600Z",
     "start_time": "2023-08-07T11:27:17.267058700Z"
    }
   }
  },
  {
   "cell_type": "code",
   "execution_count": 17,
   "outputs": [
    {
     "data": {
      "text/plain": "                                  begin_sha  \\\n0  ffde5e8cb99ae70723b40b7e8ea70131773db333   \n1  ffde5e8cb99ae70723b40b7e8ea70131773db333   \n\n                                    end_sha  commits  additions  deletions  \\\n0  ffebeb42a0821eef1747c34cd1a7d8abad52b1ea        1          1          1   \n1  c00020c95f25810aaed144086370282511eaf506        1          1          1   \n\n   changed_files     total_time  begin_Dispensables  begin_Bloaters  \\\n0              1  4519000000000                 165           185.0   \n1              1  6597000000000                 165           185.0   \n\n   begin_Change Preventers  begin_Couplers  begin_Object-Orientation Abusers  \\\n0                    185.0            62.0                              62.0   \n1                    185.0            62.0                              62.0   \n\n   end_Dispensables  end_Bloaters  end_Change Preventers  end_Couplers  \\\n0             224.0         208.0                  208.0          89.0   \n1             165.0         185.0                  185.0          62.0   \n\n   end_Object-Orientation Abusers  cluster  \n0                           530.0        0  \n1                           427.0        0  ",
      "text/html": "<div>\n<style scoped>\n    .dataframe tbody tr th:only-of-type {\n        vertical-align: middle;\n    }\n\n    .dataframe tbody tr th {\n        vertical-align: top;\n    }\n\n    .dataframe thead th {\n        text-align: right;\n    }\n</style>\n<table border=\"1\" class=\"dataframe\">\n  <thead>\n    <tr style=\"text-align: right;\">\n      <th></th>\n      <th>begin_sha</th>\n      <th>end_sha</th>\n      <th>commits</th>\n      <th>additions</th>\n      <th>deletions</th>\n      <th>changed_files</th>\n      <th>total_time</th>\n      <th>begin_Dispensables</th>\n      <th>begin_Bloaters</th>\n      <th>begin_Change Preventers</th>\n      <th>begin_Couplers</th>\n      <th>begin_Object-Orientation Abusers</th>\n      <th>end_Dispensables</th>\n      <th>end_Bloaters</th>\n      <th>end_Change Preventers</th>\n      <th>end_Couplers</th>\n      <th>end_Object-Orientation Abusers</th>\n      <th>cluster</th>\n    </tr>\n  </thead>\n  <tbody>\n    <tr>\n      <th>0</th>\n      <td>ffde5e8cb99ae70723b40b7e8ea70131773db333</td>\n      <td>ffebeb42a0821eef1747c34cd1a7d8abad52b1ea</td>\n      <td>1</td>\n      <td>1</td>\n      <td>1</td>\n      <td>1</td>\n      <td>4519000000000</td>\n      <td>165</td>\n      <td>185.0</td>\n      <td>185.0</td>\n      <td>62.0</td>\n      <td>62.0</td>\n      <td>224.0</td>\n      <td>208.0</td>\n      <td>208.0</td>\n      <td>89.0</td>\n      <td>530.0</td>\n      <td>0</td>\n    </tr>\n    <tr>\n      <th>1</th>\n      <td>ffde5e8cb99ae70723b40b7e8ea70131773db333</td>\n      <td>c00020c95f25810aaed144086370282511eaf506</td>\n      <td>1</td>\n      <td>1</td>\n      <td>1</td>\n      <td>1</td>\n      <td>6597000000000</td>\n      <td>165</td>\n      <td>185.0</td>\n      <td>185.0</td>\n      <td>62.0</td>\n      <td>62.0</td>\n      <td>165.0</td>\n      <td>185.0</td>\n      <td>185.0</td>\n      <td>62.0</td>\n      <td>427.0</td>\n      <td>0</td>\n    </tr>\n  </tbody>\n</table>\n</div>"
     },
     "execution_count": 17,
     "metadata": {},
     "output_type": "execute_result"
    }
   ],
   "source": [
    "df.head(2)"
   ],
   "metadata": {
    "collapsed": false,
    "ExecuteTime": {
     "end_time": "2023-08-07T11:27:30.517704700Z",
     "start_time": "2023-08-07T11:27:30.488632600Z"
    }
   }
  },
  {
   "cell_type": "code",
   "execution_count": 18,
   "outputs": [],
   "source": [
    "df['timedelta'] = pd.to_timedelta(df['total_time'])"
   ],
   "metadata": {
    "collapsed": false,
    "ExecuteTime": {
     "end_time": "2023-08-07T11:27:53.425190Z",
     "start_time": "2023-08-07T11:27:53.411013900Z"
    }
   }
  },
  {
   "cell_type": "code",
   "execution_count": 29,
   "outputs": [
    {
     "data": {
      "text/plain": "Timedelta('0 days 01:44:13')"
     },
     "execution_count": 29,
     "metadata": {},
     "output_type": "execute_result"
    }
   ],
   "source": [
    "df['timedelta'][:int(0.7 * len(df))].median()"
   ],
   "metadata": {
    "collapsed": false,
    "ExecuteTime": {
     "end_time": "2023-08-07T11:38:40.798113800Z",
     "start_time": "2023-08-07T11:38:40.783864700Z"
    }
   }
  },
  {
   "cell_type": "code",
   "execution_count": 19,
   "outputs": [
    {
     "name": "stdout",
     "output_type": "stream",
     "text": [
      "0 days 00:00:16\n",
      "9 days 01:45:29\n"
     ]
    },
    {
     "data": {
      "text/plain": "(524, 19)"
     },
     "execution_count": 19,
     "metadata": {},
     "output_type": "execute_result"
    }
   ],
   "source": [
    "cluster_0 = df[df['cluster'] == 0]\n",
    "print(cluster_0['timedelta'].min())\n",
    "print(cluster_0['timedelta'].max())\n",
    "cluster_0.shape"
   ],
   "metadata": {
    "collapsed": false,
    "ExecuteTime": {
     "end_time": "2023-08-07T11:28:08.623900600Z",
     "start_time": "2023-08-07T11:28:08.617380900Z"
    }
   }
  },
  {
   "cell_type": "code",
   "execution_count": 20,
   "outputs": [
    {
     "name": "stdout",
     "output_type": "stream",
     "text": [
      "904 days 02:25:57\n",
      "904 days 02:25:57\n"
     ]
    },
    {
     "data": {
      "text/plain": "(1, 19)"
     },
     "execution_count": 20,
     "metadata": {},
     "output_type": "execute_result"
    }
   ],
   "source": [
    "cluster_1 = df[df['cluster'] == 1]\n",
    "print(cluster_1['timedelta'].min())\n",
    "print(cluster_1['timedelta'].max())\n",
    "cluster_1.shape"
   ],
   "metadata": {
    "collapsed": false,
    "ExecuteTime": {
     "end_time": "2023-08-07T11:28:22.848320100Z",
     "start_time": "2023-08-07T11:28:22.830847900Z"
    }
   }
  },
  {
   "cell_type": "code",
   "execution_count": 21,
   "outputs": [
    {
     "name": "stdout",
     "output_type": "stream",
     "text": [
      "126 days 04:32:15\n",
      "190 days 12:35:13\n"
     ]
    },
    {
     "data": {
      "text/plain": "(7, 19)"
     },
     "execution_count": 21,
     "metadata": {},
     "output_type": "execute_result"
    }
   ],
   "source": [
    "cluster_2 = df[df['cluster'] == 2]\n",
    "print(cluster_2['timedelta'].min())\n",
    "print(cluster_2['timedelta'].max())\n",
    "cluster_2.shape"
   ],
   "metadata": {
    "collapsed": false,
    "ExecuteTime": {
     "end_time": "2023-08-07T11:28:35.935606900Z",
     "start_time": "2023-08-07T11:28:35.887979600Z"
    }
   }
  },
  {
   "cell_type": "code",
   "execution_count": 22,
   "outputs": [
    {
     "name": "stdout",
     "output_type": "stream",
     "text": [
      "490 days 22:20:04\n",
      "496 days 15:36:52\n"
     ]
    },
    {
     "data": {
      "text/plain": "(2, 19)"
     },
     "execution_count": 22,
     "metadata": {},
     "output_type": "execute_result"
    }
   ],
   "source": [
    "cluster_3 = df[df['cluster'] == 3]\n",
    "print(cluster_3['timedelta'].min())\n",
    "print(cluster_3['timedelta'].max())\n",
    "cluster_3.shape"
   ],
   "metadata": {
    "collapsed": false,
    "ExecuteTime": {
     "end_time": "2023-08-07T11:28:42.258298400Z",
     "start_time": "2023-08-07T11:28:42.213765800Z"
    }
   }
  },
  {
   "cell_type": "code",
   "execution_count": 23,
   "outputs": [
    {
     "name": "stdout",
     "output_type": "stream",
     "text": [
      "1313 days 22:03:06\n",
      "1313 days 22:03:06\n"
     ]
    },
    {
     "data": {
      "text/plain": "(1, 19)"
     },
     "execution_count": 23,
     "metadata": {},
     "output_type": "execute_result"
    }
   ],
   "source": [
    "cluster_4 = df[df['cluster'] == 4]\n",
    "print(cluster_4['timedelta'].min())\n",
    "print(cluster_4['timedelta'].max())\n",
    "cluster_4.shape"
   ],
   "metadata": {
    "collapsed": false,
    "ExecuteTime": {
     "end_time": "2023-08-07T11:28:50.989114700Z",
     "start_time": "2023-08-07T11:28:50.943683900Z"
    }
   }
  },
  {
   "cell_type": "code",
   "execution_count": 24,
   "outputs": [
    {
     "name": "stdout",
     "output_type": "stream",
     "text": [
      "29 days 13:57:59\n",
      "58 days 09:22:36\n"
     ]
    },
    {
     "data": {
      "text/plain": "(25, 19)"
     },
     "execution_count": 24,
     "metadata": {},
     "output_type": "execute_result"
    }
   ],
   "source": [
    "cluster_5 = df[df['cluster'] == 5]\n",
    "print(cluster_5['timedelta'].min())\n",
    "print(cluster_5['timedelta'].max())\n",
    "cluster_5.shape"
   ],
   "metadata": {
    "collapsed": false,
    "ExecuteTime": {
     "end_time": "2023-08-07T11:28:58.064461900Z",
     "start_time": "2023-08-07T11:28:58.046932900Z"
    }
   }
  },
  {
   "cell_type": "code",
   "execution_count": 25,
   "outputs": [
    {
     "name": "stdout",
     "output_type": "stream",
     "text": [
      "215 days 02:49:25\n",
      "266 days 00:37:27\n"
     ]
    },
    {
     "data": {
      "text/plain": "(4, 19)"
     },
     "execution_count": 25,
     "metadata": {},
     "output_type": "execute_result"
    }
   ],
   "source": [
    "cluster_6 = df[df['cluster'] == 6]\n",
    "print(cluster_6['timedelta'].min())\n",
    "print(cluster_6['timedelta'].max())\n",
    "cluster_6.shape"
   ],
   "metadata": {
    "collapsed": false,
    "ExecuteTime": {
     "end_time": "2023-08-07T11:29:06.490858Z",
     "start_time": "2023-08-07T11:29:06.481753400Z"
    }
   }
  },
  {
   "cell_type": "code",
   "execution_count": 26,
   "outputs": [
    {
     "name": "stdout",
     "output_type": "stream",
     "text": [
      "60 days 15:11:04\n",
      "96 days 17:35:22\n"
     ]
    },
    {
     "data": {
      "text/plain": "(19, 19)"
     },
     "execution_count": 26,
     "metadata": {},
     "output_type": "execute_result"
    }
   ],
   "source": [
    "cluster_7 = df[df['cluster'] == 7]\n",
    "print(cluster_7['timedelta'].min())\n",
    "print(cluster_7['timedelta'].max())\n",
    "cluster_7.shape"
   ],
   "metadata": {
    "collapsed": false,
    "ExecuteTime": {
     "end_time": "2023-08-07T11:29:14.803993200Z",
     "start_time": "2023-08-07T11:29:14.756943200Z"
    }
   }
  },
  {
   "cell_type": "code",
   "execution_count": 27,
   "outputs": [
    {
     "name": "stdout",
     "output_type": "stream",
     "text": [
      "9 days 17:10:26\n",
      "27 days 17:01:57\n"
     ]
    },
    {
     "data": {
      "text/plain": "(40, 19)"
     },
     "execution_count": 27,
     "metadata": {},
     "output_type": "execute_result"
    }
   ],
   "source": [
    "cluster_8 = df[df['cluster'] == 8]\n",
    "print(cluster_8['timedelta'].min())\n",
    "print(cluster_8['timedelta'].max())\n",
    "cluster_8.shape"
   ],
   "metadata": {
    "collapsed": false,
    "ExecuteTime": {
     "end_time": "2023-08-07T11:29:24.210013700Z",
     "start_time": "2023-08-07T11:29:24.160788400Z"
    }
   }
  },
  {
   "cell_type": "code",
   "execution_count": 28,
   "outputs": [
    {
     "name": "stdout",
     "output_type": "stream",
     "text": [
      "815 days 00:31:01\n",
      "815 days 00:31:01\n"
     ]
    },
    {
     "data": {
      "text/plain": "(1, 19)"
     },
     "execution_count": 28,
     "metadata": {},
     "output_type": "execute_result"
    }
   ],
   "source": [
    "cluster_9 = df[df['cluster'] == 9]\n",
    "print(cluster_9['timedelta'].min())\n",
    "print(cluster_9['timedelta'].max())\n",
    "cluster_9.shape"
   ],
   "metadata": {
    "collapsed": false,
    "ExecuteTime": {
     "end_time": "2023-08-07T11:29:41.981876400Z",
     "start_time": "2023-08-07T11:29:41.967809200Z"
    }
   }
  },
  {
   "cell_type": "code",
   "execution_count": null,
   "outputs": [],
   "source": [],
   "metadata": {
    "collapsed": false
   }
  }
 ],
 "metadata": {
  "kernelspec": {
   "display_name": "Python 3",
   "language": "python",
   "name": "python3"
  },
  "language_info": {
   "codemirror_mode": {
    "name": "ipython",
    "version": 2
   },
   "file_extension": ".py",
   "mimetype": "text/x-python",
   "name": "python",
   "nbconvert_exporter": "python",
   "pygments_lexer": "ipython2",
   "version": "2.7.6"
  }
 },
 "nbformat": 4,
 "nbformat_minor": 0
}
