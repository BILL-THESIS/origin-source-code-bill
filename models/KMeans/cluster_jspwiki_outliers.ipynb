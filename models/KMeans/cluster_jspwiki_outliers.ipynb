{
 "cells": [
  {
   "cell_type": "code",
   "execution_count": 1,
   "outputs": [],
   "source": [
    "import pandas as pd\n",
    "from sklearn import preprocessing\n",
    "import numpy as np\n",
    "import matplotlib.pyplot as plt"
   ],
   "metadata": {
    "collapsed": false,
    "ExecuteTime": {
     "end_time": "2023-08-24T01:22:09.212546200Z",
     "start_time": "2023-08-24T01:22:06.839912500Z"
    }
   }
  },
  {
   "cell_type": "code",
   "execution_count": 2,
   "outputs": [],
   "source": [
    "df = pd.read_csv('../../Github/jspwiki/jspwiki_model.csv')"
   ],
   "metadata": {
    "collapsed": false,
    "ExecuteTime": {
     "end_time": "2023-08-24T01:22:09.261075300Z",
     "start_time": "2023-08-24T01:22:09.215550300Z"
    }
   }
  },
  {
   "cell_type": "code",
   "execution_count": 3,
   "outputs": [],
   "source": [
    "df['time'] = df['total_time'].astype('int64')"
   ],
   "metadata": {
    "collapsed": false,
    "ExecuteTime": {
     "end_time": "2023-08-24T01:22:09.272168500Z",
     "start_time": "2023-08-24T01:22:09.258076500Z"
    }
   }
  },
  {
   "cell_type": "code",
   "execution_count": 4,
   "outputs": [],
   "source": [
    "X = df.loc[:, ~df.columns.isin(['begin_sha', 'end_sha', 'begin_time', 'end_time'\n",
    "                                'total_time'\n",
    "                                ])]"
   ],
   "metadata": {
    "collapsed": false,
    "ExecuteTime": {
     "end_time": "2023-08-24T01:22:09.307600200Z",
     "start_time": "2023-08-24T01:22:09.274221200Z"
    }
   }
  },
  {
   "cell_type": "code",
   "execution_count": 5,
   "outputs": [],
   "source": [
    "scaler = preprocessing.StandardScaler()\n",
    "df_scaler = scaler.fit_transform(X)\n",
    "df_scaler_col = pd.DataFrame(df_scaler)\n",
    "df_scaler = df_scaler.T"
   ],
   "metadata": {
    "collapsed": false,
    "ExecuteTime": {
     "end_time": "2023-08-24T01:22:09.307600200Z",
     "start_time": "2023-08-24T01:22:09.290367400Z"
    }
   }
  },
  {
   "cell_type": "code",
   "execution_count": 6,
   "outputs": [],
   "source": [
    "#Silhouette analysis\n",
    "from sklearn.cluster import KMeans\n",
    "from sklearn.metrics import silhouette_score"
   ],
   "metadata": {
    "collapsed": false,
    "ExecuteTime": {
     "end_time": "2023-08-24T01:22:10.811544200Z",
     "start_time": "2023-08-24T01:22:09.304542400Z"
    }
   }
  },
  {
   "cell_type": "code",
   "execution_count": 7,
   "outputs": [
    {
     "name": "stderr",
     "output_type": "stream",
     "text": [
      "C:\\Users\\patcharaprapa_k\\AppData\\Local\\anaconda3\\lib\\site-packages\\sklearn\\cluster\\_kmeans.py:870: FutureWarning: The default value of `n_init` will change from 10 to 'auto' in 1.4. Set the value of `n_init` explicitly to suppress the warning\n",
      "  warnings.warn(\n",
      "C:\\Users\\patcharaprapa_k\\AppData\\Local\\anaconda3\\lib\\site-packages\\sklearn\\cluster\\_kmeans.py:1382: UserWarning: KMeans is known to have a memory leak on Windows with MKL, when there are less chunks than available threads. You can avoid it by setting the environment variable OMP_NUM_THREADS=1.\n",
      "  warnings.warn(\n",
      "C:\\Users\\patcharaprapa_k\\AppData\\Local\\anaconda3\\lib\\site-packages\\sklearn\\cluster\\_kmeans.py:870: FutureWarning: The default value of `n_init` will change from 10 to 'auto' in 1.4. Set the value of `n_init` explicitly to suppress the warning\n",
      "  warnings.warn(\n",
      "C:\\Users\\patcharaprapa_k\\AppData\\Local\\anaconda3\\lib\\site-packages\\sklearn\\cluster\\_kmeans.py:1382: UserWarning: KMeans is known to have a memory leak on Windows with MKL, when there are less chunks than available threads. You can avoid it by setting the environment variable OMP_NUM_THREADS=1.\n",
      "  warnings.warn(\n",
      "C:\\Users\\patcharaprapa_k\\AppData\\Local\\anaconda3\\lib\\site-packages\\sklearn\\cluster\\_kmeans.py:870: FutureWarning: The default value of `n_init` will change from 10 to 'auto' in 1.4. Set the value of `n_init` explicitly to suppress the warning\n",
      "  warnings.warn(\n",
      "C:\\Users\\patcharaprapa_k\\AppData\\Local\\anaconda3\\lib\\site-packages\\sklearn\\cluster\\_kmeans.py:1382: UserWarning: KMeans is known to have a memory leak on Windows with MKL, when there are less chunks than available threads. You can avoid it by setting the environment variable OMP_NUM_THREADS=1.\n",
      "  warnings.warn(\n",
      "C:\\Users\\patcharaprapa_k\\AppData\\Local\\anaconda3\\lib\\site-packages\\sklearn\\cluster\\_kmeans.py:870: FutureWarning: The default value of `n_init` will change from 10 to 'auto' in 1.4. Set the value of `n_init` explicitly to suppress the warning\n",
      "  warnings.warn(\n",
      "C:\\Users\\patcharaprapa_k\\AppData\\Local\\anaconda3\\lib\\site-packages\\sklearn\\cluster\\_kmeans.py:1382: UserWarning: KMeans is known to have a memory leak on Windows with MKL, when there are less chunks than available threads. You can avoid it by setting the environment variable OMP_NUM_THREADS=1.\n",
      "  warnings.warn(\n",
      "C:\\Users\\patcharaprapa_k\\AppData\\Local\\anaconda3\\lib\\site-packages\\sklearn\\cluster\\_kmeans.py:870: FutureWarning: The default value of `n_init` will change from 10 to 'auto' in 1.4. Set the value of `n_init` explicitly to suppress the warning\n",
      "  warnings.warn(\n",
      "C:\\Users\\patcharaprapa_k\\AppData\\Local\\anaconda3\\lib\\site-packages\\sklearn\\cluster\\_kmeans.py:1382: UserWarning: KMeans is known to have a memory leak on Windows with MKL, when there are less chunks than available threads. You can avoid it by setting the environment variable OMP_NUM_THREADS=1.\n",
      "  warnings.warn(\n",
      "C:\\Users\\patcharaprapa_k\\AppData\\Local\\anaconda3\\lib\\site-packages\\sklearn\\cluster\\_kmeans.py:870: FutureWarning: The default value of `n_init` will change from 10 to 'auto' in 1.4. Set the value of `n_init` explicitly to suppress the warning\n",
      "  warnings.warn(\n",
      "C:\\Users\\patcharaprapa_k\\AppData\\Local\\anaconda3\\lib\\site-packages\\sklearn\\cluster\\_kmeans.py:1382: UserWarning: KMeans is known to have a memory leak on Windows with MKL, when there are less chunks than available threads. You can avoid it by setting the environment variable OMP_NUM_THREADS=1.\n",
      "  warnings.warn(\n",
      "C:\\Users\\patcharaprapa_k\\AppData\\Local\\anaconda3\\lib\\site-packages\\sklearn\\cluster\\_kmeans.py:870: FutureWarning: The default value of `n_init` will change from 10 to 'auto' in 1.4. Set the value of `n_init` explicitly to suppress the warning\n",
      "  warnings.warn(\n",
      "C:\\Users\\patcharaprapa_k\\AppData\\Local\\anaconda3\\lib\\site-packages\\sklearn\\cluster\\_kmeans.py:1382: UserWarning: KMeans is known to have a memory leak on Windows with MKL, when there are less chunks than available threads. You can avoid it by setting the environment variable OMP_NUM_THREADS=1.\n",
      "  warnings.warn(\n",
      "C:\\Users\\patcharaprapa_k\\AppData\\Local\\anaconda3\\lib\\site-packages\\sklearn\\cluster\\_kmeans.py:870: FutureWarning: The default value of `n_init` will change from 10 to 'auto' in 1.4. Set the value of `n_init` explicitly to suppress the warning\n",
      "  warnings.warn(\n",
      "C:\\Users\\patcharaprapa_k\\AppData\\Local\\anaconda3\\lib\\site-packages\\sklearn\\cluster\\_kmeans.py:1382: UserWarning: KMeans is known to have a memory leak on Windows with MKL, when there are less chunks than available threads. You can avoid it by setting the environment variable OMP_NUM_THREADS=1.\n",
      "  warnings.warn(\n",
      "C:\\Users\\patcharaprapa_k\\AppData\\Local\\anaconda3\\lib\\site-packages\\sklearn\\cluster\\_kmeans.py:870: FutureWarning: The default value of `n_init` will change from 10 to 'auto' in 1.4. Set the value of `n_init` explicitly to suppress the warning\n",
      "  warnings.warn(\n",
      "C:\\Users\\patcharaprapa_k\\AppData\\Local\\anaconda3\\lib\\site-packages\\sklearn\\cluster\\_kmeans.py:1382: UserWarning: KMeans is known to have a memory leak on Windows with MKL, when there are less chunks than available threads. You can avoid it by setting the environment variable OMP_NUM_THREADS=1.\n",
      "  warnings.warn(\n",
      "C:\\Users\\patcharaprapa_k\\AppData\\Local\\anaconda3\\lib\\site-packages\\sklearn\\cluster\\_kmeans.py:870: FutureWarning: The default value of `n_init` will change from 10 to 'auto' in 1.4. Set the value of `n_init` explicitly to suppress the warning\n",
      "  warnings.warn(\n",
      "C:\\Users\\patcharaprapa_k\\AppData\\Local\\anaconda3\\lib\\site-packages\\sklearn\\cluster\\_kmeans.py:1382: UserWarning: KMeans is known to have a memory leak on Windows with MKL, when there are less chunks than available threads. You can avoid it by setting the environment variable OMP_NUM_THREADS=1.\n",
      "  warnings.warn(\n",
      "C:\\Users\\patcharaprapa_k\\AppData\\Local\\anaconda3\\lib\\site-packages\\sklearn\\cluster\\_kmeans.py:870: FutureWarning: The default value of `n_init` will change from 10 to 'auto' in 1.4. Set the value of `n_init` explicitly to suppress the warning\n",
      "  warnings.warn(\n",
      "C:\\Users\\patcharaprapa_k\\AppData\\Local\\anaconda3\\lib\\site-packages\\sklearn\\cluster\\_kmeans.py:1382: UserWarning: KMeans is known to have a memory leak on Windows with MKL, when there are less chunks than available threads. You can avoid it by setting the environment variable OMP_NUM_THREADS=1.\n",
      "  warnings.warn(\n",
      "C:\\Users\\patcharaprapa_k\\AppData\\Local\\anaconda3\\lib\\site-packages\\sklearn\\cluster\\_kmeans.py:870: FutureWarning: The default value of `n_init` will change from 10 to 'auto' in 1.4. Set the value of `n_init` explicitly to suppress the warning\n",
      "  warnings.warn(\n",
      "C:\\Users\\patcharaprapa_k\\AppData\\Local\\anaconda3\\lib\\site-packages\\sklearn\\cluster\\_kmeans.py:1382: UserWarning: KMeans is known to have a memory leak on Windows with MKL, when there are less chunks than available threads. You can avoid it by setting the environment variable OMP_NUM_THREADS=1.\n",
      "  warnings.warn(\n",
      "C:\\Users\\patcharaprapa_k\\AppData\\Local\\Temp\\ipykernel_8616\\1243137686.py:5: ConvergenceWarning: Number of distinct clusters (12) found smaller than n_clusters (13). Possibly due to duplicate points in X.\n",
      "  km.fit(df_scaler)\n",
      "C:\\Users\\patcharaprapa_k\\AppData\\Local\\anaconda3\\lib\\site-packages\\sklearn\\cluster\\_kmeans.py:870: FutureWarning: The default value of `n_init` will change from 10 to 'auto' in 1.4. Set the value of `n_init` explicitly to suppress the warning\n",
      "  warnings.warn(\n",
      "C:\\Users\\patcharaprapa_k\\AppData\\Local\\anaconda3\\lib\\site-packages\\sklearn\\cluster\\_kmeans.py:1382: UserWarning: KMeans is known to have a memory leak on Windows with MKL, when there are less chunks than available threads. You can avoid it by setting the environment variable OMP_NUM_THREADS=1.\n",
      "  warnings.warn(\n",
      "C:\\Users\\patcharaprapa_k\\AppData\\Local\\Temp\\ipykernel_8616\\1243137686.py:5: ConvergenceWarning: Number of distinct clusters (12) found smaller than n_clusters (14). Possibly due to duplicate points in X.\n",
      "  km.fit(df_scaler)\n",
      "C:\\Users\\patcharaprapa_k\\AppData\\Local\\anaconda3\\lib\\site-packages\\sklearn\\cluster\\_kmeans.py:870: FutureWarning: The default value of `n_init` will change from 10 to 'auto' in 1.4. Set the value of `n_init` explicitly to suppress the warning\n",
      "  warnings.warn(\n",
      "C:\\Users\\patcharaprapa_k\\AppData\\Local\\anaconda3\\lib\\site-packages\\sklearn\\cluster\\_kmeans.py:1382: UserWarning: KMeans is known to have a memory leak on Windows with MKL, when there are less chunks than available threads. You can avoid it by setting the environment variable OMP_NUM_THREADS=1.\n",
      "  warnings.warn(\n",
      "C:\\Users\\patcharaprapa_k\\AppData\\Local\\Temp\\ipykernel_8616\\1243137686.py:5: ConvergenceWarning: Number of distinct clusters (12) found smaller than n_clusters (15). Possibly due to duplicate points in X.\n",
      "  km.fit(df_scaler)\n"
     ]
    }
   ],
   "source": [
    "number_of_cluster = []\n",
    "\n",
    "for i in range(2, len(df_scaler)):\n",
    "    km = KMeans(n_clusters = i)\n",
    "    km.fit(df_scaler)\n",
    "    sil_avg = silhouette_score(df_scaler, km.labels_).round(4)\n",
    "    number_of_cluster.append([sil_avg , i])"
   ],
   "metadata": {
    "collapsed": false,
    "ExecuteTime": {
     "end_time": "2023-08-24T01:22:15.691217400Z",
     "start_time": "2023-08-24T01:22:10.812543500Z"
    }
   }
  },
  {
   "cell_type": "code",
   "execution_count": 8,
   "outputs": [
    {
     "name": "stdout",
     "output_type": "stream",
     "text": [
      "Optimum number of cluster: 9\n"
     ]
    }
   ],
   "source": [
    "print(f'Optimum number of cluster: {max(number_of_cluster)[1]}')"
   ],
   "metadata": {
    "collapsed": false,
    "ExecuteTime": {
     "end_time": "2023-08-24T01:22:15.726215300Z",
     "start_time": "2023-08-24T01:22:15.693217700Z"
    }
   }
  },
  {
   "cell_type": "code",
   "execution_count": 9,
   "outputs": [
    {
     "data": {
      "text/plain": "[[0.3062, 2],\n [0.3431, 3],\n [0.4059, 4],\n [0.4606, 5],\n [0.4821, 11],\n [0.4998, 10],\n [0.5, 12],\n [0.5, 13],\n [0.5, 14],\n [0.5, 15],\n [0.5254, 7],\n [0.5268, 6],\n [0.5461, 8],\n [0.551, 9]]"
     },
     "execution_count": 9,
     "metadata": {},
     "output_type": "execute_result"
    }
   ],
   "source": [
    "number_of_cluster.sort()\n",
    "number_of_cluster"
   ],
   "metadata": {
    "collapsed": false,
    "ExecuteTime": {
     "end_time": "2023-08-24T01:22:15.731214700Z",
     "start_time": "2023-08-24T01:22:15.708216100Z"
    }
   }
  },
  {
   "cell_type": "code",
   "execution_count": 10,
   "outputs": [],
   "source": [
    "num_clusters = max(number_of_cluster)[1]\n",
    "kmeans = KMeans(n_clusters=num_clusters)"
   ],
   "metadata": {
    "collapsed": false,
    "ExecuteTime": {
     "end_time": "2023-08-24T01:22:15.746216Z",
     "start_time": "2023-08-24T01:22:15.724215500Z"
    }
   }
  },
  {
   "cell_type": "code",
   "execution_count": 11,
   "outputs": [
    {
     "name": "stderr",
     "output_type": "stream",
     "text": [
      "C:\\Users\\patcharaprapa_k\\AppData\\Local\\anaconda3\\lib\\site-packages\\sklearn\\cluster\\_kmeans.py:870: FutureWarning: The default value of `n_init` will change from 10 to 'auto' in 1.4. Set the value of `n_init` explicitly to suppress the warning\n",
      "  warnings.warn(\n",
      "C:\\Users\\patcharaprapa_k\\AppData\\Local\\anaconda3\\lib\\site-packages\\sklearn\\cluster\\_kmeans.py:1382: UserWarning: KMeans is known to have a memory leak on Windows with MKL, when there are less chunks than available threads. You can avoid it by setting the environment variable OMP_NUM_THREADS=1.\n",
      "  warnings.warn(\n"
     ]
    }
   ],
   "source": [
    "cluster_labels = kmeans.fit_predict(X)"
   ],
   "metadata": {
    "collapsed": false,
    "ExecuteTime": {
     "end_time": "2023-08-24T01:22:16.050329200Z",
     "start_time": "2023-08-24T01:22:15.744216400Z"
    }
   }
  },
  {
   "cell_type": "code",
   "execution_count": 12,
   "outputs": [],
   "source": [
    "df['cluster'] = cluster_labels"
   ],
   "metadata": {
    "collapsed": false,
    "ExecuteTime": {
     "end_time": "2023-08-24T01:22:16.066453400Z",
     "start_time": "2023-08-24T01:22:16.051333400Z"
    }
   }
  },
  {
   "cell_type": "code",
   "execution_count": 13,
   "outputs": [],
   "source": [
    "df['timedelta'] = pd.to_timedelta(df['total_time'])"
   ],
   "metadata": {
    "collapsed": false,
    "ExecuteTime": {
     "end_time": "2023-08-24T01:22:16.095710Z",
     "start_time": "2023-08-24T01:22:16.066453400Z"
    }
   }
  },
  {
   "cell_type": "code",
   "execution_count": 14,
   "outputs": [
    {
     "data": {
      "text/plain": "Timedelta('7 days 15:29:07')"
     },
     "execution_count": 14,
     "metadata": {},
     "output_type": "execute_result"
    }
   ],
   "source": [
    "df['timedelta'][:int(0.7 * len(df))].median()"
   ],
   "metadata": {
    "collapsed": false,
    "ExecuteTime": {
     "end_time": "2023-08-24T01:22:16.097711Z",
     "start_time": "2023-08-24T01:22:16.088614800Z"
    }
   }
  },
  {
   "cell_type": "code",
   "execution_count": 15,
   "outputs": [
    {
     "data": {
      "text/plain": "                                  begin_sha  \\\n0  37bf55373ed5a739a388a720163cf51d1104537f   \n1  402375b9cc0a5bddac483a557e2d7253d0fc1b5d   \n2  7b1d9eaaacd747d78482a2bd7d94784cc7443cb0   \n\n                                    end_sha  commits  additions  deletions  \\\n0  96b6b3f67c5915bac9c77bcd81fe5529d9b9e06b        1          0          9   \n1  116c0c23629ab9f8b80befcf7f8f05bd15b0beeb        1         36         40   \n2  6256f8b8c4a147b676471ea96e26b33386b43f0f        1          2          0   \n\n   changed_files         total_time  begin_Dispensables  begin_Bloaters  \\\n0              8    522851000000000                1066              89   \n1              4   7097003000000000                1064              77   \n2              2  16947264000000000                1055              78   \n\n   begin_Change Preventers  begin_Couplers  begin_Object-Orientation Abusers  \\\n0                       89             234                               234   \n1                       77             183                               183   \n2                       78             188                               188   \n\n   end_Dispensables  end_Bloaters  end_Change Preventers  end_Couplers  \\\n0              1066            86                     86           234   \n1              1054            77                     77           183   \n2              1054            77                     77           183   \n\n   end_Object-Orientation Abusers               time  cluster  \\\n0                             461    522851000000000        1   \n1                             458   7097003000000000        2   \n2                             458  16947264000000000        0   \n\n          timedelta  \n0   6 days 01:14:11  \n1  82 days 03:23:23  \n2 196 days 03:34:24  ",
      "text/html": "<div>\n<style scoped>\n    .dataframe tbody tr th:only-of-type {\n        vertical-align: middle;\n    }\n\n    .dataframe tbody tr th {\n        vertical-align: top;\n    }\n\n    .dataframe thead th {\n        text-align: right;\n    }\n</style>\n<table border=\"1\" class=\"dataframe\">\n  <thead>\n    <tr style=\"text-align: right;\">\n      <th></th>\n      <th>begin_sha</th>\n      <th>end_sha</th>\n      <th>commits</th>\n      <th>additions</th>\n      <th>deletions</th>\n      <th>changed_files</th>\n      <th>total_time</th>\n      <th>begin_Dispensables</th>\n      <th>begin_Bloaters</th>\n      <th>begin_Change Preventers</th>\n      <th>begin_Couplers</th>\n      <th>begin_Object-Orientation Abusers</th>\n      <th>end_Dispensables</th>\n      <th>end_Bloaters</th>\n      <th>end_Change Preventers</th>\n      <th>end_Couplers</th>\n      <th>end_Object-Orientation Abusers</th>\n      <th>time</th>\n      <th>cluster</th>\n      <th>timedelta</th>\n    </tr>\n  </thead>\n  <tbody>\n    <tr>\n      <th>0</th>\n      <td>37bf55373ed5a739a388a720163cf51d1104537f</td>\n      <td>96b6b3f67c5915bac9c77bcd81fe5529d9b9e06b</td>\n      <td>1</td>\n      <td>0</td>\n      <td>9</td>\n      <td>8</td>\n      <td>522851000000000</td>\n      <td>1066</td>\n      <td>89</td>\n      <td>89</td>\n      <td>234</td>\n      <td>234</td>\n      <td>1066</td>\n      <td>86</td>\n      <td>86</td>\n      <td>234</td>\n      <td>461</td>\n      <td>522851000000000</td>\n      <td>1</td>\n      <td>6 days 01:14:11</td>\n    </tr>\n    <tr>\n      <th>1</th>\n      <td>402375b9cc0a5bddac483a557e2d7253d0fc1b5d</td>\n      <td>116c0c23629ab9f8b80befcf7f8f05bd15b0beeb</td>\n      <td>1</td>\n      <td>36</td>\n      <td>40</td>\n      <td>4</td>\n      <td>7097003000000000</td>\n      <td>1064</td>\n      <td>77</td>\n      <td>77</td>\n      <td>183</td>\n      <td>183</td>\n      <td>1054</td>\n      <td>77</td>\n      <td>77</td>\n      <td>183</td>\n      <td>458</td>\n      <td>7097003000000000</td>\n      <td>2</td>\n      <td>82 days 03:23:23</td>\n    </tr>\n    <tr>\n      <th>2</th>\n      <td>7b1d9eaaacd747d78482a2bd7d94784cc7443cb0</td>\n      <td>6256f8b8c4a147b676471ea96e26b33386b43f0f</td>\n      <td>1</td>\n      <td>2</td>\n      <td>0</td>\n      <td>2</td>\n      <td>16947264000000000</td>\n      <td>1055</td>\n      <td>78</td>\n      <td>78</td>\n      <td>188</td>\n      <td>188</td>\n      <td>1054</td>\n      <td>77</td>\n      <td>77</td>\n      <td>183</td>\n      <td>458</td>\n      <td>16947264000000000</td>\n      <td>0</td>\n      <td>196 days 03:34:24</td>\n    </tr>\n  </tbody>\n</table>\n</div>"
     },
     "execution_count": 15,
     "metadata": {},
     "output_type": "execute_result"
    }
   ],
   "source": [
    "df.head(3)"
   ],
   "metadata": {
    "collapsed": false,
    "ExecuteTime": {
     "end_time": "2023-08-24T01:22:16.115240Z",
     "start_time": "2023-08-24T01:22:16.098711800Z"
    }
   }
  },
  {
   "cell_type": "code",
   "execution_count": 16,
   "outputs": [
    {
     "data": {
      "text/plain": "(83, 20)"
     },
     "execution_count": 16,
     "metadata": {},
     "output_type": "execute_result"
    }
   ],
   "source": [
    "df.shape"
   ],
   "metadata": {
    "collapsed": false,
    "ExecuteTime": {
     "end_time": "2023-08-24T01:22:16.134382600Z",
     "start_time": "2023-08-24T01:22:16.115240Z"
    }
   }
  },
  {
   "cell_type": "code",
   "execution_count": 17,
   "outputs": [],
   "source": [
    "df['timedelta'] = pd.to_timedelta(df['time'])"
   ],
   "metadata": {
    "collapsed": false,
    "ExecuteTime": {
     "end_time": "2023-08-24T01:22:16.202156100Z",
     "start_time": "2023-08-24T01:22:16.133380800Z"
    }
   }
  },
  {
   "cell_type": "code",
   "execution_count": 18,
   "outputs": [
    {
     "name": "stdout",
     "output_type": "stream",
     "text": [
      "190 days 00:41:58\n",
      "197 days 22:09:25\n"
     ]
    },
    {
     "data": {
      "text/plain": "(3, 20)"
     },
     "execution_count": 18,
     "metadata": {},
     "output_type": "execute_result"
    }
   ],
   "source": [
    "cluster_0 = df[df['cluster'] == 0]\n",
    "print(cluster_0['timedelta'].min())\n",
    "print(cluster_0['timedelta'].max())\n",
    "cluster_0.shape"
   ],
   "metadata": {
    "collapsed": false,
    "ExecuteTime": {
     "end_time": "2023-08-24T01:22:16.305406100Z",
     "start_time": "2023-08-24T01:22:16.148543700Z"
    }
   }
  },
  {
   "cell_type": "code",
   "execution_count": 19,
   "outputs": [
    {
     "name": "stdout",
     "output_type": "stream",
     "text": [
      "5 days 14:02:05\n",
      "14 days 04:54:58\n"
     ]
    },
    {
     "data": {
      "text/plain": "(18, 20)"
     },
     "execution_count": 19,
     "metadata": {},
     "output_type": "execute_result"
    }
   ],
   "source": [
    "cluster_1 = df[df['cluster'] == 1]\n",
    "print(cluster_1['timedelta'].min())\n",
    "print(cluster_1['timedelta'].max())\n",
    "cluster_1.shape"
   ],
   "metadata": {
    "collapsed": false,
    "ExecuteTime": {
     "end_time": "2023-08-24T01:22:16.306407700Z",
     "start_time": "2023-08-24T01:22:16.163690500Z"
    }
   }
  },
  {
   "cell_type": "code",
   "execution_count": 20,
   "outputs": [
    {
     "name": "stdout",
     "output_type": "stream",
     "text": [
      "79 days 00:03:25\n",
      "86 days 02:25:46\n"
     ]
    },
    {
     "data": {
      "text/plain": "(3, 20)"
     },
     "execution_count": 20,
     "metadata": {},
     "output_type": "execute_result"
    }
   ],
   "source": [
    "cluster_2 = df[df['cluster'] == 2]\n",
    "print(cluster_2['timedelta'].min())\n",
    "print(cluster_2['timedelta'].max())\n",
    "cluster_2.shape"
   ],
   "metadata": {
    "collapsed": false,
    "ExecuteTime": {
     "end_time": "2023-08-24T01:22:16.307406400Z",
     "start_time": "2023-08-24T01:22:16.177876500Z"
    }
   }
  },
  {
   "cell_type": "code",
   "execution_count": 21,
   "outputs": [
    {
     "name": "stdout",
     "output_type": "stream",
     "text": [
      "280 days 00:57:41\n",
      "280 days 00:57:41\n"
     ]
    },
    {
     "data": {
      "text/plain": "(1, 20)"
     },
     "execution_count": 21,
     "metadata": {},
     "output_type": "execute_result"
    }
   ],
   "source": [
    "cluster_3 = df[df['cluster'] == 3]\n",
    "print(cluster_3['timedelta'].min())\n",
    "print(cluster_3['timedelta'].max())\n",
    "cluster_3.shape"
   ],
   "metadata": {
    "collapsed": false,
    "ExecuteTime": {
     "end_time": "2023-08-24T01:22:16.308455500Z",
     "start_time": "2023-08-24T01:22:16.191104500Z"
    }
   }
  },
  {
   "cell_type": "code",
   "execution_count": 22,
   "outputs": [
    {
     "name": "stdout",
     "output_type": "stream",
     "text": [
      "0 days 00:01:30\n",
      "5 days 04:28:32\n"
     ]
    },
    {
     "data": {
      "text/plain": "(43, 20)"
     },
     "execution_count": 22,
     "metadata": {},
     "output_type": "execute_result"
    }
   ],
   "source": [
    "cluster_4 = df[df['cluster'] == 4]\n",
    "print(cluster_4['timedelta'].min())\n",
    "print(cluster_4['timedelta'].max())\n",
    "cluster_4.shape"
   ],
   "metadata": {
    "collapsed": false,
    "ExecuteTime": {
     "end_time": "2023-08-24T01:22:16.308455500Z",
     "start_time": "2023-08-24T01:22:16.213297200Z"
    }
   }
  },
  {
   "cell_type": "code",
   "execution_count": 23,
   "outputs": [
    {
     "name": "stdout",
     "output_type": "stream",
     "text": [
      "43 days 06:43:09\n",
      "50 days 10:40:36\n"
     ]
    },
    {
     "data": {
      "text/plain": "(2, 20)"
     },
     "execution_count": 23,
     "metadata": {},
     "output_type": "execute_result"
    }
   ],
   "source": [
    "cluster_5 = df[df['cluster'] == 5]\n",
    "print(cluster_5['timedelta'].min())\n",
    "print(cluster_5['timedelta'].max())\n",
    "cluster_5.shape"
   ],
   "metadata": {
    "collapsed": false,
    "ExecuteTime": {
     "end_time": "2023-08-24T01:22:16.309457Z",
     "start_time": "2023-08-24T01:22:16.222480Z"
    }
   }
  },
  {
   "cell_type": "code",
   "execution_count": 24,
   "outputs": [
    {
     "name": "stdout",
     "output_type": "stream",
     "text": [
      "157 days 23:02:25\n",
      "168 days 22:03:58\n"
     ]
    },
    {
     "data": {
      "text/plain": "(2, 20)"
     },
     "execution_count": 24,
     "metadata": {},
     "output_type": "execute_result"
    }
   ],
   "source": [
    "cluster_6 = df[df['cluster'] == 6]\n",
    "print(cluster_6['timedelta'].min())\n",
    "print(cluster_6['timedelta'].max())\n",
    "cluster_6.shape"
   ],
   "metadata": {
    "collapsed": false,
    "ExecuteTime": {
     "end_time": "2023-08-24T01:22:16.310455600Z",
     "start_time": "2023-08-24T01:22:16.240637400Z"
    }
   }
  },
  {
   "cell_type": "code",
   "execution_count": 25,
   "outputs": [
    {
     "name": "stdout",
     "output_type": "stream",
     "text": [
      "16 days 17:54:11\n",
      "26 days 17:24:20\n"
     ]
    },
    {
     "data": {
      "text/plain": "(10, 20)"
     },
     "execution_count": 25,
     "metadata": {},
     "output_type": "execute_result"
    }
   ],
   "source": [
    "cluster_7 = df[df['cluster'] == 7]\n",
    "print(cluster_7['timedelta'].min())\n",
    "print(cluster_7['timedelta'].max())\n",
    "cluster_7.shape"
   ],
   "metadata": {
    "collapsed": false,
    "ExecuteTime": {
     "end_time": "2023-08-24T01:22:16.334757500Z",
     "start_time": "2023-08-24T01:22:16.254877600Z"
    }
   }
  },
  {
   "cell_type": "code",
   "execution_count": 26,
   "outputs": [
    {
     "name": "stdout",
     "output_type": "stream",
     "text": [
      "99 days 02:15:42\n",
      "99 days 02:15:42\n"
     ]
    },
    {
     "data": {
      "text/plain": "(1, 20)"
     },
     "execution_count": 26,
     "metadata": {},
     "output_type": "execute_result"
    }
   ],
   "source": [
    "cluster_8 = df[df['cluster'] == 8]\n",
    "print(cluster_8['timedelta'].min())\n",
    "print(cluster_8['timedelta'].max())\n",
    "cluster_8.shape"
   ],
   "metadata": {
    "collapsed": false,
    "ExecuteTime": {
     "end_time": "2023-08-24T01:22:16.334757500Z",
     "start_time": "2023-08-24T01:22:16.271037700Z"
    }
   }
  },
  {
   "cell_type": "code",
   "execution_count": 27,
   "outputs": [
    {
     "data": {
      "text/plain": "(83, 20)"
     },
     "execution_count": 27,
     "metadata": {},
     "output_type": "execute_result"
    }
   ],
   "source": [
    "df.shape"
   ],
   "metadata": {
    "collapsed": false,
    "ExecuteTime": {
     "end_time": "2023-08-24T01:22:16.335757Z",
     "start_time": "2023-08-24T01:22:16.284210900Z"
    }
   }
  },
  {
   "cell_type": "code",
   "execution_count": 28,
   "outputs": [],
   "source": [
    "def remove_outliers_madn(data, threshold=2.24):\n",
    "    median = np.median(data)\n",
    "    mad = np.median(np.abs(data - median))\n",
    "\n",
    "    # Calculate modified Z-score for each data point\n",
    "    modified_z_scores = 0.6745 * (data - median) / mad\n",
    "\n",
    "    # Identify and remove outliers based on the threshold\n",
    "    filtered_data = data[abs(modified_z_scores) < threshold]\n",
    "\n",
    "    return filtered_data"
   ],
   "metadata": {
    "collapsed": false,
    "ExecuteTime": {
     "end_time": "2023-08-24T01:22:16.337818300Z",
     "start_time": "2023-08-24T01:22:16.300362600Z"
    }
   }
  },
  {
   "cell_type": "code",
   "execution_count": 29,
   "outputs": [
    {
     "name": "stdout",
     "output_type": "stream",
     "text": [
      "Original data: [[-0.24997288 -0.24997288 -0.24997288 ... -0.24997288  2.34349573\n",
      "   1.47900619]\n",
      " [-0.31511574 -0.14023353 -0.30540006 ... -0.30054222 -0.16452272\n",
      "   0.02979085]\n",
      " [-0.25060098 -0.05425618 -0.30760431 ... -0.2886032  -0.13659432\n",
      "   0.11675381]\n",
      " ...\n",
      " [ 3.03745864  0.60185295  0.60185295 ...  0.98390875  0.98390875\n",
      "   0.98390875]\n",
      " [ 1.24211525  1.16990262  1.16990262 ... -0.53912964 -0.53912964\n",
      "  -0.53912964]\n",
      " [-0.35733759  1.07353796  3.21746429 ... -0.46528196 -0.28724982\n",
      "  -0.07620229]]\n",
      "Filtered data: [-0.24997288 -0.24997288 -0.24997288 ... -0.46528196 -0.28724982\n",
      " -0.07620229]\n"
     ]
    }
   ],
   "source": [
    "# Example usage\n",
    "filtered_data = remove_outliers_madn(df_scaler, threshold=2.24)\n",
    "print(\"Original data:\", df_scaler)\n",
    "print(\"Filtered data:\", filtered_data)"
   ],
   "metadata": {
    "collapsed": false,
    "ExecuteTime": {
     "end_time": "2023-08-24T01:22:16.338820300Z",
     "start_time": "2023-08-24T01:22:16.314511200Z"
    }
   }
  },
  {
   "cell_type": "code",
   "execution_count": 30,
   "outputs": [
    {
     "name": "stderr",
     "output_type": "stream",
     "text": [
      "C:\\Users\\patcharaprapa_k\\AppData\\Local\\anaconda3\\lib\\site-packages\\sklearn\\cluster\\_kmeans.py:870: FutureWarning: The default value of `n_init` will change from 10 to 'auto' in 1.4. Set the value of `n_init` explicitly to suppress the warning\n",
      "  warnings.warn(\n",
      "C:\\Users\\patcharaprapa_k\\AppData\\Local\\anaconda3\\lib\\site-packages\\sklearn\\cluster\\_kmeans.py:1382: UserWarning: KMeans is known to have a memory leak on Windows with MKL, when there are less chunks than available threads. You can avoid it by setting the environment variable OMP_NUM_THREADS=5.\n",
      "  warnings.warn(\n"
     ]
    },
    {
     "data": {
      "text/plain": "<Figure size 640x480 with 1 Axes>",
      "image/png": "[encoded data removed]"
     },
     "metadata": {},
     "output_type": "display_data"
    }
   ],
   "source": [
    "# Reshape the data to a 2D array if needed\n",
    "cleaned_data = filtered_data.reshape(-1, 1)\n",
    "\n",
    "# Specify the number of clusters you want to find\n",
    "n_clusters = 3\n",
    "\n",
    "# Initialize and fit K-Means model\n",
    "kmeans = KMeans(n_clusters=n_clusters)\n",
    "kmeans.fit(cleaned_data)\n",
    "\n",
    "# Get cluster assignments and cluster centers\n",
    "labels = kmeans.labels_\n",
    "cluster_centers = kmeans.cluster_centers_\n",
    "\n",
    "# Plot the clusters\n",
    "plt.scatter(cleaned_data, np.zeros_like(cleaned_data), c=labels, cmap='rainbow')\n",
    "plt.scatter(cluster_centers, np.zeros_like(cluster_centers), marker='X', color='black', s=100)\n",
    "plt.title('K-Means Clustering on Cleaned Data')\n",
    "plt.xlabel('Feature')\n",
    "plt.ylabel('Cluster')\n",
    "plt.show()"
   ],
   "metadata": {
    "collapsed": false,
    "ExecuteTime": {
     "end_time": "2023-08-24T01:22:16.920555600Z",
     "start_time": "2023-08-24T01:22:16.330709400Z"
    }
   }
  },
  {
   "cell_type": "code",
   "execution_count": 37,
   "outputs": [
    {
     "data": {
      "text/plain": "array([[-0.24997288],\n       [-0.24997288],\n       [-0.24997288],\n       ...,\n       [-0.46528196],\n       [-0.28724982],\n       [-0.07620229]])"
     },
     "execution_count": 37,
     "metadata": {},
     "output_type": "execute_result"
    }
   ],
   "source": [
    "cleaned_data"
   ],
   "metadata": {
    "collapsed": false,
    "ExecuteTime": {
     "end_time": "2023-08-24T01:35:58.339364400Z",
     "start_time": "2023-08-24T01:35:58.279349400Z"
    }
   }
  },
  {
   "cell_type": "code",
   "execution_count": 31,
   "outputs": [
    {
     "name": "stderr",
     "output_type": "stream",
     "text": [
      "C:\\Users\\patcharaprapa_k\\AppData\\Local\\anaconda3\\lib\\site-packages\\sklearn\\cluster\\_kmeans.py:870: FutureWarning: The default value of `n_init` will change from 10 to 'auto' in 1.4. Set the value of `n_init` explicitly to suppress the warning\n",
      "  warnings.warn(\n",
      "C:\\Users\\patcharaprapa_k\\AppData\\Local\\anaconda3\\lib\\site-packages\\sklearn\\cluster\\_kmeans.py:1382: UserWarning: KMeans is known to have a memory leak on Windows with MKL, when there are less chunks than available threads. You can avoid it by setting the environment variable OMP_NUM_THREADS=5.\n",
      "  warnings.warn(\n"
     ]
    }
   ],
   "source": [
    "cluster_labels_x = kmeans.fit_predict(cleaned_data)"
   ],
   "metadata": {
    "collapsed": false,
    "ExecuteTime": {
     "end_time": "2023-08-24T01:22:17.235856500Z",
     "start_time": "2023-08-24T01:22:16.919552900Z"
    }
   }
  },
  {
   "cell_type": "code",
   "execution_count": 32,
   "outputs": [
    {
     "data": {
      "text/plain": "                                  begin_sha  \\\n0  37bf55373ed5a739a388a720163cf51d1104537f   \n\n                                    end_sha  commits  additions  deletions  \\\n0  96b6b3f67c5915bac9c77bcd81fe5529d9b9e06b        1          0          9   \n\n   changed_files       total_time  begin_Dispensables  begin_Bloaters  \\\n0              8  522851000000000                1066              89   \n\n   begin_Change Preventers  begin_Couplers  begin_Object-Orientation Abusers  \\\n0                       89             234                               234   \n\n   end_Dispensables  end_Bloaters  end_Change Preventers  end_Couplers  \\\n0              1066            86                     86           234   \n\n   end_Object-Orientation Abusers             time  cluster       timedelta  \n0                             461  522851000000000        1 6 days 01:14:11  ",
      "text/html": "<div>\n<style scoped>\n    .dataframe tbody tr th:only-of-type {\n        vertical-align: middle;\n    }\n\n    .dataframe tbody tr th {\n        vertical-align: top;\n    }\n\n    .dataframe thead th {\n        text-align: right;\n    }\n</style>\n<table border=\"1\" class=\"dataframe\">\n  <thead>\n    <tr style=\"text-align: right;\">\n      <th></th>\n      <th>begin_sha</th>\n      <th>end_sha</th>\n      <th>commits</th>\n      <th>additions</th>\n      <th>deletions</th>\n      <th>changed_files</th>\n      <th>total_time</th>\n      <th>begin_Dispensables</th>\n      <th>begin_Bloaters</th>\n      <th>begin_Change Preventers</th>\n      <th>begin_Couplers</th>\n      <th>begin_Object-Orientation Abusers</th>\n      <th>end_Dispensables</th>\n      <th>end_Bloaters</th>\n      <th>end_Change Preventers</th>\n      <th>end_Couplers</th>\n      <th>end_Object-Orientation Abusers</th>\n      <th>time</th>\n      <th>cluster</th>\n      <th>timedelta</th>\n    </tr>\n  </thead>\n  <tbody>\n    <tr>\n      <th>0</th>\n      <td>37bf55373ed5a739a388a720163cf51d1104537f</td>\n      <td>96b6b3f67c5915bac9c77bcd81fe5529d9b9e06b</td>\n      <td>1</td>\n      <td>0</td>\n      <td>9</td>\n      <td>8</td>\n      <td>522851000000000</td>\n      <td>1066</td>\n      <td>89</td>\n      <td>89</td>\n      <td>234</td>\n      <td>234</td>\n      <td>1066</td>\n      <td>86</td>\n      <td>86</td>\n      <td>234</td>\n      <td>461</td>\n      <td>522851000000000</td>\n      <td>1</td>\n      <td>6 days 01:14:11</td>\n    </tr>\n  </tbody>\n</table>\n</div>"
     },
     "execution_count": 32,
     "metadata": {},
     "output_type": "execute_result"
    }
   ],
   "source": [
    "df.head(1)"
   ],
   "metadata": {
    "collapsed": false,
    "ExecuteTime": {
     "end_time": "2023-08-24T01:22:17.251497300Z",
     "start_time": "2023-08-24T01:22:17.245985700Z"
    }
   }
  },
  {
   "cell_type": "code",
   "execution_count": 39,
   "outputs": [
    {
     "data": {
      "text/plain": "                                  begin_sha  \\\n0  37bf55373ed5a739a388a720163cf51d1104537f   \n\n                                    end_sha  commits  additions  deletions  \\\n0  96b6b3f67c5915bac9c77bcd81fe5529d9b9e06b        1          0          9   \n\n   changed_files       total_time  begin_Dispensables  begin_Bloaters  \\\n0              8  522851000000000                1066              89   \n\n   begin_Change Preventers  begin_Couplers  begin_Object-Orientation Abusers  \\\n0                       89             234                               234   \n\n   end_Dispensables  end_Bloaters  end_Change Preventers  end_Couplers  \\\n0              1066            86                     86           234   \n\n   end_Object-Orientation Abusers             time  cluster       timedelta  \n0                             461  522851000000000        1 6 days 01:14:11  ",
      "text/html": "<div>\n<style scoped>\n    .dataframe tbody tr th:only-of-type {\n        vertical-align: middle;\n    }\n\n    .dataframe tbody tr th {\n        vertical-align: top;\n    }\n\n    .dataframe thead th {\n        text-align: right;\n    }\n</style>\n<table border=\"1\" class=\"dataframe\">\n  <thead>\n    <tr style=\"text-align: right;\">\n      <th></th>\n      <th>begin_sha</th>\n      <th>end_sha</th>\n      <th>commits</th>\n      <th>additions</th>\n      <th>deletions</th>\n      <th>changed_files</th>\n      <th>total_time</th>\n      <th>begin_Dispensables</th>\n      <th>begin_Bloaters</th>\n      <th>begin_Change Preventers</th>\n      <th>begin_Couplers</th>\n      <th>begin_Object-Orientation Abusers</th>\n      <th>end_Dispensables</th>\n      <th>end_Bloaters</th>\n      <th>end_Change Preventers</th>\n      <th>end_Couplers</th>\n      <th>end_Object-Orientation Abusers</th>\n      <th>time</th>\n      <th>cluster</th>\n      <th>timedelta</th>\n    </tr>\n  </thead>\n  <tbody>\n    <tr>\n      <th>0</th>\n      <td>37bf55373ed5a739a388a720163cf51d1104537f</td>\n      <td>96b6b3f67c5915bac9c77bcd81fe5529d9b9e06b</td>\n      <td>1</td>\n      <td>0</td>\n      <td>9</td>\n      <td>8</td>\n      <td>522851000000000</td>\n      <td>1066</td>\n      <td>89</td>\n      <td>89</td>\n      <td>234</td>\n      <td>234</td>\n      <td>1066</td>\n      <td>86</td>\n      <td>86</td>\n      <td>234</td>\n      <td>461</td>\n      <td>522851000000000</td>\n      <td>1</td>\n      <td>6 days 01:14:11</td>\n    </tr>\n  </tbody>\n</table>\n</div>"
     },
     "execution_count": 39,
     "metadata": {},
     "output_type": "execute_result"
    }
   ],
   "source": [
    "df.head(1)"
   ],
   "metadata": {
    "collapsed": false,
    "ExecuteTime": {
     "end_time": "2023-08-24T01:59:22.019026Z",
     "start_time": "2023-08-24T01:59:21.987817700Z"
    }
   }
  },
  {
   "cell_type": "code",
   "execution_count": 33,
   "outputs": [],
   "source": [
    "time_score = df['timedelta']\n",
    "time_score = pd.DataFrame(time_score)"
   ],
   "metadata": {
    "collapsed": false,
    "ExecuteTime": {
     "end_time": "2023-08-24T01:22:17.293862100Z",
     "start_time": "2023-08-24T01:22:17.252498200Z"
    }
   }
  },
  {
   "cell_type": "code",
   "execution_count": 41,
   "outputs": [
    {
     "data": {
      "text/plain": "           timedelta\n0    6 days 01:14:11\n1   82 days 03:23:23\n2  196 days 03:34:24\n3  190 days 00:41:58\n4  157 days 23:02:25\n..               ...\n78  17 days 12:35:30\n79  10 days 02:00:23\n80   0 days 07:28:21\n81   9 days 18:41:09\n82  21 days 00:02:06\n\n[83 rows x 1 columns]",
      "text/html": "<div>\n<style scoped>\n    .dataframe tbody tr th:only-of-type {\n        vertical-align: middle;\n    }\n\n    .dataframe tbody tr th {\n        vertical-align: top;\n    }\n\n    .dataframe thead th {\n        text-align: right;\n    }\n</style>\n<table border=\"1\" class=\"dataframe\">\n  <thead>\n    <tr style=\"text-align: right;\">\n      <th></th>\n      <th>timedelta</th>\n    </tr>\n  </thead>\n  <tbody>\n    <tr>\n      <th>0</th>\n      <td>6 days 01:14:11</td>\n    </tr>\n    <tr>\n      <th>1</th>\n      <td>82 days 03:23:23</td>\n    </tr>\n    <tr>\n      <th>2</th>\n      <td>196 days 03:34:24</td>\n    </tr>\n    <tr>\n      <th>3</th>\n      <td>190 days 00:41:58</td>\n    </tr>\n    <tr>\n      <th>4</th>\n      <td>157 days 23:02:25</td>\n    </tr>\n    <tr>\n      <th>...</th>\n      <td>...</td>\n    </tr>\n    <tr>\n      <th>78</th>\n      <td>17 days 12:35:30</td>\n    </tr>\n    <tr>\n      <th>79</th>\n      <td>10 days 02:00:23</td>\n    </tr>\n    <tr>\n      <th>80</th>\n      <td>0 days 07:28:21</td>\n    </tr>\n    <tr>\n      <th>81</th>\n      <td>9 days 18:41:09</td>\n    </tr>\n    <tr>\n      <th>82</th>\n      <td>21 days 00:02:06</td>\n    </tr>\n  </tbody>\n</table>\n<p>83 rows × 1 columns</p>\n</div>"
     },
     "execution_count": 41,
     "metadata": {},
     "output_type": "execute_result"
    }
   ],
   "source": [
    "time_score"
   ],
   "metadata": {
    "collapsed": false,
    "ExecuteTime": {
     "end_time": "2023-08-24T02:01:44.755194100Z",
     "start_time": "2023-08-24T02:01:44.739529200Z"
    }
   }
  },
  {
   "cell_type": "code",
   "execution_count": 35,
   "outputs": [],
   "source": [
    "def determine_outlier_thresholds_std(dataframe, col_name):\n",
    "    upper_boundary_1 = dataframe[col_name].mean() + 1 * dataframe[col_name].std()\n",
    "    lower_boundary_1 = dataframe[col_name].mean() - 1 * dataframe[col_name].std()\n",
    "    upper_boundary_2 = dataframe[col_name].mean() + 2 * dataframe[col_name].std()\n",
    "    lower_boundary_2 = dataframe[col_name].mean() - 2 * dataframe[col_name].std()\n",
    "    return upper_boundary_1, upper_boundary_2 , lower_boundary_1, lower_boundary_2"
   ],
   "metadata": {
    "collapsed": false,
    "ExecuteTime": {
     "end_time": "2023-08-24T01:22:17.363654Z",
     "start_time": "2023-08-24T01:22:17.284807100Z"
    }
   }
  },
  {
   "cell_type": "code",
   "execution_count": 36,
   "outputs": [
    {
     "data": {
      "text/plain": "(timedelta   78 days 13:17:43.474523061\n dtype: timedelta64[ns],\n timedelta   132 days 01:18:09.816516002\n dtype: timedelta64[ns],\n timedelta   -29 days +13:16:50.790537179\n dtype: timedelta64[ns],\n timedelta   -82 days +01:16:24.448544238\n dtype: timedelta64[ns])"
     },
     "execution_count": 36,
     "metadata": {},
     "output_type": "execute_result"
    }
   ],
   "source": [
    "determine_outlier_thresholds_std(time_score, time_score.columns)"
   ],
   "metadata": {
    "collapsed": false,
    "ExecuteTime": {
     "end_time": "2023-08-24T01:22:17.364653200Z",
     "start_time": "2023-08-24T01:22:17.309997800Z"
    }
   }
  }
 ],
 "metadata": {
  "kernelspec": {
   "display_name": "Python 3",
   "language": "python",
   "name": "python3"
  },
  "language_info": {
   "codemirror_mode": {
    "name": "ipython",
    "version": 2
   },
   "file_extension": ".py",
   "mimetype": "text/x-python",
   "name": "python",
   "nbconvert_exporter": "python",
   "pygments_lexer": "ipython2",
   "version": "2.7.6"
  }
 },
 "nbformat": 4,
 "nbformat_minor": 0
}
