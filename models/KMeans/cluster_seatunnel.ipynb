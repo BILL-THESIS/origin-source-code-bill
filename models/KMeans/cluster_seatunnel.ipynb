{
 "cells": [
  {
   "cell_type": "code",
   "execution_count": 1,
   "metadata": {
    "collapsed": true,
    "ExecuteTime": {
     "end_time": "2023-08-17T06:50:06.987076500Z",
     "start_time": "2023-08-17T06:50:05.845466700Z"
    }
   },
   "outputs": [],
   "source": [
    "import pandas as pd\n",
    "from datetime import timedelta\n",
    "#Data processing\n",
    "from sklearn import preprocessing"
   ]
  },
  {
   "cell_type": "code",
   "execution_count": 2,
   "metadata": {
    "collapsed": false,
    "ExecuteTime": {
     "end_time": "2023-08-17T06:50:07.276456Z",
     "start_time": "2023-08-17T06:50:06.990081500Z"
    }
   },
   "outputs": [],
   "source": [
    "df = pd.read_parquet('../../Sonar/seatunnel_all_information.parquet')"
   ]
  },
  {
   "cell_type": "code",
   "execution_count": 3,
   "metadata": {
    "collapsed": false,
    "ExecuteTime": {
     "end_time": "2023-08-17T06:50:07.277456700Z",
     "start_time": "2023-08-17T06:50:07.256423300Z"
    }
   },
   "outputs": [],
   "source": [
    "df['time'] = df['total_time'].astype('int64')"
   ]
  },
  {
   "cell_type": "code",
   "execution_count": 4,
   "metadata": {
    "ExecuteTime": {
     "end_time": "2023-08-17T06:50:07.343560Z",
     "start_time": "2023-08-17T06:50:07.271943900Z"
    }
   },
   "outputs": [
    {
     "data": {
      "text/plain": "0        264468000000000\n1        274510000000000\n2         19443000000000\n3        346946000000000\n4       1039167000000000\n              ...       \n1063       2590000000000\n1064      68499000000000\n1065        982000000000\n1066       2015000000000\n1067        554000000000\nName: time, Length: 1068, dtype: int64"
     },
     "execution_count": 4,
     "metadata": {},
     "output_type": "execute_result"
    }
   ],
   "source": [
    "df['time']"
   ]
  },
  {
   "cell_type": "code",
   "execution_count": 5,
   "metadata": {
    "collapsed": false,
    "ExecuteTime": {
     "end_time": "2023-08-17T06:50:07.344560300Z",
     "start_time": "2023-08-17T06:50:07.305485800Z"
    }
   },
   "outputs": [],
   "source": [
    "X = df.loc[:, ~df.columns.isin(['begin_sha', 'end_sha', 'begin_time', 'end_time', 'total_time', 'time'])]"
   ]
  },
  {
   "cell_type": "code",
   "execution_count": 30,
   "metadata": {
    "ExecuteTime": {
     "end_time": "2023-08-17T10:53:36.685665500Z",
     "start_time": "2023-08-17T10:53:36.638016Z"
    }
   },
   "outputs": [
    {
     "data": {
      "text/plain": "[Timedelta('3 days 01:27:48'),\n Timedelta('3 days 04:15:10'),\n Timedelta('0 days 05:24:03'),\n Timedelta('4 days 00:22:26'),\n Timedelta('12 days 00:39:27'),\n Timedelta('4 days 01:57:26'),\n Timedelta('4 days 04:35:26'),\n Timedelta('1 days 01:33:24'),\n Timedelta('6 days 00:56:00'),\n Timedelta('0 days 05:35:02'),\n Timedelta('1 days 18:01:36'),\n Timedelta('17 days 23:05:08'),\n Timedelta('4 days 00:29:57'),\n Timedelta('0 days 01:32:20'),\n Timedelta('3 days 19:59:57'),\n Timedelta('1 days 05:51:25'),\n Timedelta('1 days 09:17:27'),\n Timedelta('0 days 23:20:46'),\n Timedelta('5 days 18:16:01'),\n Timedelta('7 days 20:29:16'),\n Timedelta('0 days 17:23:43'),\n Timedelta('1 days 01:30:08'),\n Timedelta('1 days 01:19:47'),\n Timedelta('3 days 08:30:51'),\n Timedelta('0 days 04:36:49'),\n Timedelta('20 days 11:07:16'),\n Timedelta('1 days 09:16:22'),\n Timedelta('0 days 22:32:40'),\n Timedelta('0 days 18:06:59'),\n Timedelta('2 days 03:20:47'),\n Timedelta('7 days 18:10:04'),\n Timedelta('0 days 21:04:57'),\n Timedelta('6 days 13:42:47'),\n Timedelta('3 days 23:06:06'),\n Timedelta('1 days 22:40:54'),\n Timedelta('2 days 22:22:48'),\n Timedelta('9 days 22:50:15'),\n Timedelta('3 days 12:14:29'),\n Timedelta('2 days 09:24:49'),\n Timedelta('3 days 16:54:20'),\n Timedelta('5 days 10:34:38'),\n Timedelta('6 days 17:36:24'),\n Timedelta('8 days 05:14:07'),\n Timedelta('0 days 00:06:14'),\n Timedelta('9 days 01:06:54'),\n Timedelta('0 days 20:32:01'),\n Timedelta('25 days 00:47:32'),\n Timedelta('19 days 18:13:16'),\n Timedelta('21 days 13:17:21'),\n Timedelta('19 days 10:49:37'),\n Timedelta('0 days 16:35:01'),\n Timedelta('48 days 05:01:03'),\n Timedelta('4 days 13:08:01'),\n Timedelta('0 days 12:47:34'),\n Timedelta('25 days 11:08:47'),\n Timedelta('1 days 22:14:31'),\n Timedelta('0 days 01:09:49'),\n Timedelta('0 days 02:19:38'),\n Timedelta('8 days 08:43:33'),\n Timedelta('0 days 15:09:57'),\n Timedelta('1 days 23:42:02'),\n Timedelta('0 days 18:40:20'),\n Timedelta('3 days 05:49:39'),\n Timedelta('13 days 02:46:42'),\n Timedelta('7 days 06:51:27'),\n Timedelta('42 days 12:18:37'),\n Timedelta('0 days 00:26:02'),\n Timedelta('30 days 19:11:30'),\n Timedelta('0 days 16:20:45'),\n Timedelta('8 days 01:18:23'),\n Timedelta('0 days 05:46:10'),\n Timedelta('6 days 00:00:03'),\n Timedelta('1 days 22:56:01'),\n Timedelta('9 days 08:38:08'),\n Timedelta('2 days 03:11:05'),\n Timedelta('7 days 01:47:31'),\n Timedelta('3 days 06:44:43'),\n Timedelta('0 days 01:04:48'),\n Timedelta('2 days 15:43:51'),\n Timedelta('0 days 11:46:47'),\n Timedelta('1 days 20:49:07'),\n Timedelta('0 days 23:09:03'),\n Timedelta('0 days 23:03:54'),\n Timedelta('1 days 10:35:21'),\n Timedelta('2 days 20:32:56'),\n Timedelta('0 days 00:20:51'),\n Timedelta('0 days 01:51:50'),\n Timedelta('1 days 21:36:56'),\n Timedelta('5 days 18:42:33'),\n Timedelta('2 days 01:29:28'),\n Timedelta('0 days 00:56:48'),\n Timedelta('2 days 01:03:51'),\n Timedelta('0 days 19:37:33'),\n Timedelta('3 days 05:41:20'),\n Timedelta('3 days 16:53:23'),\n Timedelta('0 days 08:36:53'),\n Timedelta('7 days 08:10:28'),\n Timedelta('0 days 17:57:57'),\n Timedelta('5 days 14:50:13'),\n Timedelta('0 days 01:38:49'),\n Timedelta('0 days 00:48:35'),\n Timedelta('0 days 19:04:50'),\n Timedelta('11 days 06:40:25'),\n Timedelta('3 days 18:23:47'),\n Timedelta('0 days 14:58:47'),\n Timedelta('0 days 15:49:24'),\n Timedelta('0 days 15:49:24'),\n Timedelta('0 days 15:49:24'),\n Timedelta('0 days 15:49:24'),\n Timedelta('14 days 23:29:15'),\n Timedelta('0 days 01:49:16'),\n Timedelta('0 days 03:54:05'),\n Timedelta('4 days 05:15:48'),\n Timedelta('49 days 19:00:52'),\n Timedelta('0 days 02:48:18'),\n Timedelta('1 days 05:12:27'),\n Timedelta('8 days 21:07:44'),\n Timedelta('0 days 17:42:40'),\n Timedelta('2 days 07:25:15'),\n Timedelta('8 days 23:05:23'),\n Timedelta('5 days 10:21:37'),\n Timedelta('0 days 02:27:25'),\n Timedelta('9 days 19:37:33'),\n Timedelta('0 days 00:22:38'),\n Timedelta('0 days 21:46:29'),\n Timedelta('0 days 02:00:12'),\n Timedelta('0 days 00:41:07'),\n Timedelta('0 days 08:21:13'),\n Timedelta('0 days 00:06:14'),\n Timedelta('0 days 08:12:52'),\n Timedelta('0 days 02:32:37'),\n Timedelta('22 days 00:07:50'),\n Timedelta('8 days 18:50:33'),\n Timedelta('11 days 05:04:09'),\n Timedelta('0 days 00:00:09'),\n Timedelta('0 days 00:00:07'),\n Timedelta('0 days 00:00:06'),\n Timedelta('0 days 02:34:09'),\n Timedelta('0 days 00:00:06'),\n Timedelta('0 days 00:00:07'),\n Timedelta('0 days 00:00:08'),\n Timedelta('0 days 00:00:08'),\n Timedelta('0 days 00:14:02'),\n Timedelta('0 days 00:01:57'),\n Timedelta('0 days 01:07:34'),\n Timedelta('0 days 00:00:05'),\n Timedelta('22 days 03:42:26'),\n Timedelta('0 days 00:00:06'),\n Timedelta('0 days 00:00:32'),\n Timedelta('0 days 00:38:26'),\n Timedelta('0 days 12:37:19'),\n Timedelta('0 days 00:04:01'),\n Timedelta('0 days 02:24:38'),\n Timedelta('0 days 00:00:22'),\n Timedelta('0 days 22:04:16'),\n Timedelta('1 days 00:58:06'),\n Timedelta('0 days 00:00:45'),\n Timedelta('13 days 14:53:26'),\n Timedelta('16 days 00:48:52'),\n Timedelta('47 days 22:34:39'),\n Timedelta('2 days 15:40:41'),\n Timedelta('3 days 06:47:58'),\n Timedelta('3 days 22:35:04'),\n Timedelta('0 days 10:10:51'),\n Timedelta('6 days 12:37:20'),\n Timedelta('5 days 21:50:08'),\n Timedelta('0 days 03:38:06'),\n Timedelta('34 days 09:41:30'),\n Timedelta('0 days 00:00:06'),\n Timedelta('22 days 05:52:52'),\n Timedelta('0 days 00:00:29'),\n Timedelta('35 days 19:34:39'),\n Timedelta('2 days 03:14:51'),\n Timedelta('1 days 17:52:42'),\n Timedelta('0 days 14:29:54'),\n Timedelta('0 days 12:51:29'),\n Timedelta('0 days 17:11:12'),\n Timedelta('0 days 00:18:26'),\n Timedelta('0 days 01:15:44'),\n Timedelta('0 days 00:59:19'),\n Timedelta('0 days 01:36:42'),\n Timedelta('2 days 02:56:24'),\n Timedelta('0 days 13:25:50'),\n Timedelta('7 days 04:07:21'),\n Timedelta('2 days 20:25:25'),\n Timedelta('0 days 00:03:40'),\n Timedelta('0 days 06:43:33'),\n Timedelta('0 days 17:32:13'),\n Timedelta('4 days 20:55:54'),\n Timedelta('0 days 00:31:51'),\n Timedelta('11 days 06:13:30'),\n Timedelta('4 days 07:52:15'),\n Timedelta('0 days 02:29:13'),\n Timedelta('0 days 19:16:06'),\n Timedelta('0 days 15:45:31'),\n Timedelta('0 days 17:50:52'),\n Timedelta('0 days 00:22:14'),\n Timedelta('15 days 06:10:22'),\n Timedelta('0 days 23:04:24'),\n Timedelta('1 days 11:28:25'),\n Timedelta('2 days 10:19:53'),\n Timedelta('1 days 00:25:10'),\n Timedelta('3 days 23:18:20'),\n Timedelta('2 days 06:45:10'),\n Timedelta('11 days 16:06:02'),\n Timedelta('0 days 03:12:02'),\n Timedelta('11 days 04:05:55'),\n Timedelta('13 days 22:43:53'),\n Timedelta('12 days 10:06:31'),\n Timedelta('10 days 23:59:34'),\n Timedelta('14 days 16:44:23'),\n Timedelta('11 days 21:26:59'),\n Timedelta('0 days 05:56:20'),\n Timedelta('0 days 02:09:44'),\n Timedelta('0 days 10:16:07'),\n Timedelta('0 days 00:07:27'),\n Timedelta('36 days 20:18:51'),\n Timedelta('15 days 04:12:35'),\n Timedelta('0 days 07:06:16'),\n Timedelta('0 days 22:10:39'),\n Timedelta('3 days 10:11:11'),\n Timedelta('3 days 06:35:53'),\n Timedelta('0 days 00:03:16'),\n Timedelta('1 days 10:54:41'),\n Timedelta('4 days 02:30:11'),\n Timedelta('4 days 03:05:45'),\n Timedelta('0 days 21:26:06'),\n Timedelta('0 days 01:33:26'),\n Timedelta('0 days 00:09:07'),\n Timedelta('0 days 13:10:04'),\n Timedelta('1 days 15:30:29'),\n Timedelta('0 days 19:38:39'),\n Timedelta('7 days 12:45:24'),\n Timedelta('2 days 01:28:59'),\n Timedelta('2 days 17:09:07'),\n Timedelta('2 days 06:46:28'),\n Timedelta('8 days 03:50:59'),\n Timedelta('9 days 15:45:05'),\n Timedelta('56 days 09:12:45'),\n Timedelta('0 days 19:06:06'),\n Timedelta('3 days 14:31:53'),\n Timedelta('2 days 13:15:30'),\n Timedelta('10 days 18:28:30'),\n Timedelta('10 days 02:55:03'),\n Timedelta('0 days 05:05:51'),\n Timedelta('0 days 00:25:04'),\n Timedelta('2 days 18:22:24'),\n Timedelta('7 days 09:20:19'),\n Timedelta('0 days 00:10:01'),\n Timedelta('29 days 01:24:38'),\n Timedelta('16 days 22:37:01'),\n Timedelta('0 days 00:11:23'),\n Timedelta('4 days 19:25:31'),\n Timedelta('0 days 13:11:22'),\n Timedelta('0 days 03:31:11'),\n Timedelta('2 days 05:21:05'),\n Timedelta('0 days 02:51:26'),\n Timedelta('2 days 02:58:57'),\n Timedelta('10 days 03:11:59'),\n Timedelta('0 days 17:37:04'),\n Timedelta('1 days 00:16:50'),\n Timedelta('2 days 18:47:18'),\n Timedelta('0 days 00:08:34'),\n Timedelta('0 days 02:11:05'),\n Timedelta('0 days 00:13:00'),\n Timedelta('0 days 03:33:35'),\n Timedelta('5 days 06:56:13'),\n Timedelta('1 days 23:57:01'),\n Timedelta('8 days 15:36:45'),\n Timedelta('0 days 00:14:40'),\n Timedelta('52 days 17:08:12'),\n Timedelta('34 days 22:59:14'),\n Timedelta('0 days 00:52:18'),\n Timedelta('0 days 03:30:17'),\n Timedelta('0 days 00:01:26'),\n Timedelta('0 days 15:20:04'),\n Timedelta('0 days 02:49:35'),\n Timedelta('19 days 20:47:04'),\n Timedelta('0 days 00:02:31'),\n Timedelta('0 days 13:22:15'),\n Timedelta('0 days 13:37:15'),\n Timedelta('2 days 17:32:55'),\n Timedelta('0 days 13:20:14'),\n Timedelta('0 days 00:12:43'),\n Timedelta('0 days 02:45:02'),\n Timedelta('75 days 03:54:20'),\n Timedelta('34 days 20:44:39'),\n Timedelta('2 days 00:32:35'),\n Timedelta('1 days 22:29:20'),\n Timedelta('1 days 04:19:54'),\n Timedelta('0 days 00:52:58'),\n Timedelta('0 days 01:57:54'),\n Timedelta('0 days 09:37:30'),\n Timedelta('2 days 22:28:29'),\n Timedelta('0 days 05:17:37'),\n Timedelta('2 days 11:48:04'),\n Timedelta('11 days 19:33:30'),\n Timedelta('4 days 06:21:30'),\n Timedelta('6 days 08:19:41'),\n Timedelta('4 days 10:41:47'),\n Timedelta('0 days 11:51:23'),\n Timedelta('5 days 16:18:04'),\n Timedelta('5 days 06:37:44'),\n Timedelta('5 days 05:24:26'),\n Timedelta('1 days 03:14:14'),\n Timedelta('7 days 12:04:52'),\n Timedelta('6 days 18:11:29'),\n Timedelta('0 days 19:02:54'),\n Timedelta('1 days 09:46:17'),\n Timedelta('6 days 21:10:06'),\n Timedelta('1 days 00:54:41'),\n Timedelta('5 days 07:45:01'),\n Timedelta('1 days 09:00:01'),\n Timedelta('1 days 13:21:16'),\n Timedelta('0 days 19:28:04'),\n Timedelta('0 days 00:45:14'),\n Timedelta('4 days 18:26:13'),\n Timedelta('1 days 18:28:31'),\n Timedelta('0 days 02:42:55'),\n Timedelta('1 days 22:54:13'),\n Timedelta('4 days 21:58:10'),\n Timedelta('0 days 09:53:06'),\n Timedelta('2 days 18:19:10'),\n Timedelta('0 days 15:57:58'),\n Timedelta('0 days 21:04:08'),\n Timedelta('0 days 03:19:14'),\n Timedelta('0 days 21:01:45'),\n Timedelta('3 days 03:15:55'),\n Timedelta('0 days 05:26:40'),\n Timedelta('3 days 07:23:29'),\n Timedelta('1 days 03:31:52'),\n Timedelta('0 days 22:40:16'),\n Timedelta('1 days 00:27:48'),\n Timedelta('1 days 00:39:45'),\n Timedelta('5 days 21:24:01'),\n Timedelta('0 days 17:27:35'),\n Timedelta('7 days 20:27:52'),\n Timedelta('1 days 23:46:21'),\n Timedelta('0 days 14:35:59'),\n Timedelta('0 days 17:51:36'),\n Timedelta('0 days 02:35:04'),\n Timedelta('0 days 08:31:25'),\n Timedelta('0 days 09:39:50'),\n Timedelta('0 days 09:01:30'),\n Timedelta('2 days 10:44:05'),\n Timedelta('0 days 14:10:53'),\n Timedelta('0 days 01:05:47'),\n Timedelta('0 days 01:11:22'),\n Timedelta('0 days 19:36:20'),\n Timedelta('0 days 05:02:44'),\n Timedelta('0 days 19:33:46'),\n Timedelta('1 days 02:22:41'),\n Timedelta('4 days 17:58:05'),\n Timedelta('61 days 16:15:47'),\n Timedelta('0 days 00:45:23'),\n Timedelta('1 days 16:13:37'),\n Timedelta('0 days 17:20:18'),\n Timedelta('0 days 12:51:50'),\n Timedelta('1 days 14:50:18'),\n Timedelta('14 days 20:16:04'),\n Timedelta('1 days 10:48:50'),\n Timedelta('29 days 12:33:22'),\n Timedelta('0 days 00:41:36'),\n Timedelta('1 days 03:58:10'),\n Timedelta('10 days 18:29:05'),\n Timedelta('1 days 17:23:44'),\n Timedelta('1 days 17:37:47'),\n Timedelta('0 days 03:52:00'),\n Timedelta('0 days 00:01:38'),\n Timedelta('2 days 08:53:42'),\n Timedelta('2 days 16:42:28'),\n Timedelta('0 days 00:00:06'),\n Timedelta('0 days 11:34:06'),\n Timedelta('1 days 17:46:45'),\n Timedelta('52 days 15:00:52'),\n Timedelta('0 days 00:08:16'),\n Timedelta('38 days 21:28:38'),\n Timedelta('0 days 00:37:38'),\n Timedelta('1 days 12:02:59'),\n Timedelta('0 days 17:31:03'),\n Timedelta('12 days 18:34:05'),\n Timedelta('0 days 05:17:35'),\n Timedelta('0 days 21:29:56'),\n Timedelta('12 days 07:19:38'),\n Timedelta('7 days 05:05:12'),\n Timedelta('0 days 23:50:15'),\n Timedelta('0 days 18:39:45'),\n Timedelta('0 days 00:41:23'),\n Timedelta('0 days 17:11:14'),\n Timedelta('0 days 18:52:35'),\n Timedelta('0 days 03:42:32'),\n Timedelta('0 days 03:55:12'),\n Timedelta('1 days 23:39:01'),\n Timedelta('5 days 20:55:22'),\n Timedelta('6 days 21:02:48'),\n Timedelta('21 days 03:48:22'),\n Timedelta('17 days 18:38:28'),\n Timedelta('0 days 01:15:37'),\n Timedelta('3 days 14:24:03'),\n Timedelta('3 days 21:50:53'),\n Timedelta('0 days 01:03:39'),\n Timedelta('0 days 01:15:23'),\n Timedelta('0 days 00:01:36'),\n Timedelta('0 days 07:47:57'),\n Timedelta('1 days 01:29:22'),\n Timedelta('0 days 14:03:58'),\n Timedelta('0 days 00:57:06'),\n Timedelta('0 days 16:00:30'),\n Timedelta('0 days 00:03:37'),\n Timedelta('0 days 00:00:11'),\n Timedelta('0 days 00:00:07'),\n Timedelta('0 days 00:00:06'),\n Timedelta('0 days 00:00:52'),\n Timedelta('0 days 00:08:49'),\n Timedelta('1 days 06:33:28'),\n Timedelta('0 days 16:53:43'),\n Timedelta('0 days 01:49:43'),\n Timedelta('1 days 21:21:29'),\n Timedelta('0 days 01:44:36'),\n Timedelta('0 days 01:50:31'),\n Timedelta('2 days 10:00:14'),\n Timedelta('6 days 18:28:30'),\n Timedelta('0 days 12:03:33'),\n Timedelta('0 days 06:00:20'),\n Timedelta('3 days 18:17:03'),\n Timedelta('3 days 18:05:37'),\n Timedelta('3 days 20:07:30'),\n Timedelta('9 days 04:48:30'),\n Timedelta('0 days 19:05:53'),\n Timedelta('0 days 13:50:12'),\n Timedelta('0 days 04:23:07'),\n Timedelta('9 days 21:15:31'),\n Timedelta('10 days 02:29:54'),\n Timedelta('11 days 01:44:20'),\n Timedelta('0 days 00:10:03'),\n Timedelta('0 days 00:43:29'),\n Timedelta('0 days 13:25:29'),\n Timedelta('0 days 01:06:40'),\n Timedelta('0 days 07:54:19'),\n Timedelta('0 days 00:23:34'),\n Timedelta('0 days 02:56:11'),\n Timedelta('5 days 18:53:32'),\n Timedelta('15 days 00:56:42'),\n Timedelta('2 days 22:43:11'),\n Timedelta('1 days 05:56:56'),\n Timedelta('14 days 23:11:21'),\n Timedelta('11 days 01:28:28'),\n Timedelta('0 days 14:18:41'),\n Timedelta('3 days 19:20:03'),\n Timedelta('0 days 01:42:26'),\n Timedelta('0 days 03:08:44'),\n Timedelta('1 days 03:58:34'),\n Timedelta('0 days 17:51:18'),\n Timedelta('13 days 19:51:07'),\n Timedelta('0 days 00:58:38'),\n Timedelta('1 days 01:49:18'),\n Timedelta('0 days 12:39:04'),\n Timedelta('0 days 13:19:00'),\n Timedelta('7 days 20:50:10'),\n Timedelta('0 days 20:28:27'),\n Timedelta('14 days 07:00:51'),\n Timedelta('1 days 01:08:29'),\n Timedelta('4 days 22:52:41'),\n Timedelta('1 days 21:56:37'),\n Timedelta('1 days 20:44:34'),\n Timedelta('7 days 02:41:28'),\n Timedelta('48 days 10:46:47'),\n Timedelta('0 days 03:15:48'),\n Timedelta('0 days 19:04:03'),\n Timedelta('1 days 04:22:54'),\n Timedelta('0 days 08:02:13'),\n Timedelta('0 days 01:27:53'),\n Timedelta('0 days 09:51:56'),\n Timedelta('0 days 00:56:49'),\n Timedelta('0 days 07:55:00'),\n Timedelta('0 days 22:41:10'),\n Timedelta('0 days 15:44:04'),\n Timedelta('10 days 17:47:02'),\n Timedelta('24 days 17:33:01'),\n Timedelta('0 days 04:21:13'),\n Timedelta('0 days 17:41:51'),\n Timedelta('3 days 17:26:59'),\n Timedelta('0 days 15:06:33'),\n Timedelta('0 days 23:15:22'),\n Timedelta('27 days 14:19:24'),\n Timedelta('5 days 00:16:42'),\n Timedelta('6 days 06:47:47'),\n Timedelta('0 days 17:42:50'),\n Timedelta('3 days 05:04:58'),\n Timedelta('4 days 00:02:05'),\n Timedelta('4 days 01:31:40'),\n Timedelta('0 days 00:04:22'),\n Timedelta('0 days 15:56:17'),\n Timedelta('1 days 16:30:23'),\n Timedelta('9 days 11:33:16'),\n Timedelta('0 days 18:11:44'),\n Timedelta('0 days 05:38:20'),\n Timedelta('2 days 02:35:22'),\n Timedelta('0 days 08:52:29'),\n Timedelta('0 days 00:02:37'),\n Timedelta('1 days 01:52:30'),\n Timedelta('9 days 12:50:49'),\n Timedelta('0 days 01:25:17'),\n Timedelta('31 days 20:12:11'),\n Timedelta('1 days 16:02:13'),\n Timedelta('0 days 01:40:38'),\n Timedelta('1 days 21:25:05'),\n Timedelta('1 days 16:21:25'),\n Timedelta('2 days 04:15:13'),\n Timedelta('1 days 18:56:50'),\n Timedelta('0 days 01:48:22'),\n Timedelta('0 days 21:56:29'),\n Timedelta('4 days 23:36:25'),\n Timedelta('1 days 15:35:42'),\n Timedelta('0 days 20:11:28'),\n Timedelta('1 days 00:55:40'),\n Timedelta('4 days 21:49:06'),\n Timedelta('110 days 16:44:58'),\n Timedelta('3 days 22:16:28'),\n Timedelta('0 days 00:12:11'),\n Timedelta('0 days 17:58:39'),\n Timedelta('0 days 04:24:18'),\n Timedelta('6 days 06:48:47'),\n Timedelta('1 days 23:06:13'),\n Timedelta('32 days 19:01:36'),\n Timedelta('0 days 22:04:10'),\n Timedelta('4 days 03:08:49'),\n Timedelta('0 days 00:45:38'),\n Timedelta('5 days 09:00:26'),\n Timedelta('11 days 12:58:26'),\n Timedelta('0 days 06:17:17'),\n Timedelta('3 days 01:12:11'),\n Timedelta('3 days 14:29:05'),\n Timedelta('0 days 08:52:21'),\n Timedelta('2 days 13:07:51'),\n Timedelta('2 days 14:34:35'),\n Timedelta('0 days 11:06:00'),\n Timedelta('0 days 20:16:08'),\n Timedelta('0 days 15:32:15'),\n Timedelta('0 days 15:04:52'),\n Timedelta('0 days 18:04:51'),\n Timedelta('1 days 00:48:30'),\n Timedelta('0 days 07:55:40'),\n Timedelta('4 days 21:38:05'),\n Timedelta('0 days 18:16:31'),\n Timedelta('0 days 05:49:44'),\n Timedelta('2 days 14:03:28'),\n Timedelta('0 days 00:10:55'),\n Timedelta('5 days 00:20:24'),\n Timedelta('0 days 04:22:28'),\n Timedelta('0 days 12:15:57'),\n Timedelta('1 days 22:25:48'),\n Timedelta('0 days 00:10:33'),\n Timedelta('25 days 08:54:05'),\n Timedelta('0 days 08:32:31'),\n Timedelta('10 days 08:12:03'),\n Timedelta('1 days 17:01:06'),\n Timedelta('2 days 01:09:04'),\n Timedelta('1 days 22:58:44'),\n Timedelta('0 days 07:19:52'),\n Timedelta('3 days 19:41:32'),\n Timedelta('0 days 02:01:47'),\n Timedelta('2 days 13:12:51'),\n Timedelta('13 days 20:47:42'),\n Timedelta('0 days 21:54:10'),\n Timedelta('5 days 16:12:55'),\n Timedelta('0 days 02:55:49'),\n Timedelta('0 days 04:05:42'),\n Timedelta('0 days 15:57:52'),\n Timedelta('1 days 22:30:03'),\n Timedelta('4 days 05:42:24'),\n Timedelta('0 days 01:50:38'),\n Timedelta('41 days 19:17:00'),\n Timedelta('0 days 09:05:24'),\n Timedelta('2 days 01:43:08'),\n Timedelta('3 days 17:47:45'),\n Timedelta('2 days 00:49:09'),\n Timedelta('3 days 01:53:43'),\n Timedelta('0 days 06:06:56'),\n Timedelta('3 days 17:19:54'),\n Timedelta('0 days 02:39:23'),\n Timedelta('0 days 02:46:22'),\n Timedelta('5 days 22:07:09'),\n Timedelta('0 days 08:32:23'),\n Timedelta('0 days 00:01:57'),\n Timedelta('6 days 19:18:26'),\n Timedelta('0 days 00:28:23'),\n Timedelta('0 days 01:26:12'),\n Timedelta('1 days 17:50:43'),\n Timedelta('2 days 22:44:32'),\n Timedelta('13 days 04:24:10'),\n Timedelta('3 days 22:06:47'),\n Timedelta('3 days 23:14:42'),\n Timedelta('0 days 20:44:23'),\n Timedelta('0 days 15:02:14'),\n Timedelta('0 days 01:07:28'),\n Timedelta('0 days 16:25:55'),\n Timedelta('1 days 12:29:38'),\n Timedelta('0 days 00:08:24'),\n Timedelta('13 days 01:44:42'),\n Timedelta('0 days 00:17:54'),\n Timedelta('2 days 14:51:02'),\n Timedelta('7 days 15:40:06'),\n Timedelta('0 days 16:37:06'),\n Timedelta('0 days 09:08:27'),\n Timedelta('0 days 08:33:53'),\n Timedelta('2 days 02:59:20'),\n Timedelta('1 days 12:44:49'),\n Timedelta('9 days 11:27:31'),\n Timedelta('1 days 19:13:22'),\n Timedelta('2 days 20:50:35'),\n Timedelta('2 days 11:04:46'),\n Timedelta('0 days 20:49:59'),\n Timedelta('0 days 01:23:17'),\n Timedelta('1 days 11:54:13'),\n Timedelta('6 days 14:02:39'),\n Timedelta('0 days 14:13:08'),\n Timedelta('6 days 15:48:37'),\n Timedelta('0 days 18:10:45'),\n Timedelta('1 days 00:17:13'),\n Timedelta('0 days 19:05:41'),\n Timedelta('0 days 20:47:07'),\n Timedelta('1 days 03:46:51'),\n Timedelta('33 days 21:05:28'),\n Timedelta('1 days 01:09:31'),\n Timedelta('0 days 05:34:03'),\n Timedelta('5 days 23:36:24'),\n Timedelta('0 days 00:03:15'),\n Timedelta('0 days 01:19:32'),\n Timedelta('0 days 00:06:19'),\n Timedelta('0 days 00:19:18'),\n Timedelta('1 days 20:48:32'),\n Timedelta('0 days 00:14:02'),\n Timedelta('0 days 00:17:32'),\n Timedelta('0 days 00:04:28'),\n Timedelta('4 days 00:00:16'),\n Timedelta('1 days 15:56:06'),\n Timedelta('13 days 20:05:19'),\n Timedelta('0 days 01:26:15'),\n Timedelta('0 days 01:02:07'),\n Timedelta('2 days 06:24:22'),\n Timedelta('2 days 06:11:21'),\n Timedelta('0 days 06:21:22'),\n Timedelta('2 days 20:11:16'),\n Timedelta('0 days 01:26:38'),\n Timedelta('0 days 13:00:50'),\n Timedelta('0 days 12:30:49'),\n Timedelta('0 days 17:00:28'),\n Timedelta('3 days 17:22:34'),\n Timedelta('3 days 18:37:50'),\n Timedelta('5 days 02:43:20'),\n Timedelta('1 days 00:38:47'),\n Timedelta('0 days 10:48:11'),\n Timedelta('0 days 19:54:22'),\n Timedelta('0 days 16:30:55'),\n Timedelta('0 days 17:11:28'),\n Timedelta('0 days 20:16:05'),\n Timedelta('0 days 15:16:44'),\n Timedelta('8 days 20:43:18'),\n Timedelta('0 days 03:52:08'),\n Timedelta('3 days 17:46:17'),\n Timedelta('0 days 14:40:39'),\n Timedelta('0 days 01:27:48'),\n Timedelta('1 days 03:52:52'),\n Timedelta('0 days 04:35:32'),\n Timedelta('0 days 02:24:46'),\n Timedelta('6 days 23:11:59'),\n Timedelta('1 days 00:36:45'),\n Timedelta('0 days 00:54:04'),\n Timedelta('0 days 00:15:27'),\n Timedelta('0 days 01:08:45'),\n Timedelta('7 days 23:44:05'),\n Timedelta('0 days 05:49:29'),\n Timedelta('0 days 01:35:42'),\n Timedelta('0 days 11:45:11'),\n Timedelta('1 days 01:13:49'),\n Timedelta('3 days 02:05:24'),\n Timedelta('0 days 02:24:32'),\n Timedelta('0 days 09:00:20'),\n Timedelta('0 days 12:49:00'),\n Timedelta('0 days 19:33:11'),\n Timedelta('12 days 00:33:11'),\n Timedelta('0 days 12:02:03'),\n Timedelta('4 days 20:02:59'),\n Timedelta('7 days 15:50:05'),\n Timedelta('0 days 16:02:44'),\n Timedelta('0 days 17:44:52'),\n Timedelta('7 days 20:40:47'),\n Timedelta('0 days 02:15:45'),\n Timedelta('0 days 23:26:22'),\n Timedelta('0 days 00:55:53'),\n Timedelta('2 days 02:44:29'),\n Timedelta('0 days 13:54:59'),\n Timedelta('4 days 11:32:27'),\n Timedelta('0 days 16:05:41'),\n Timedelta('0 days 00:36:46'),\n Timedelta('0 days 04:33:37'),\n Timedelta('0 days 05:06:52'),\n Timedelta('0 days 00:32:17'),\n Timedelta('0 days 00:00:06'),\n Timedelta('0 days 00:01:03'),\n Timedelta('0 days 11:40:56'),\n Timedelta('0 days 01:06:12'),\n Timedelta('1 days 15:37:41'),\n Timedelta('0 days 16:04:09'),\n Timedelta('2 days 06:51:07'),\n Timedelta('0 days 01:37:10'),\n Timedelta('5 days 03:11:40'),\n Timedelta('0 days 00:00:24'),\n Timedelta('0 days 01:55:49'),\n Timedelta('5 days 17:41:22'),\n Timedelta('0 days 02:30:24'),\n Timedelta('6 days 03:24:38'),\n Timedelta('0 days 07:10:17'),\n Timedelta('3 days 16:12:45'),\n Timedelta('0 days 01:07:03'),\n Timedelta('10 days 19:17:32'),\n Timedelta('0 days 02:25:40'),\n Timedelta('0 days 11:17:12'),\n Timedelta('0 days 20:33:22'),\n Timedelta('1 days 01:36:17'),\n Timedelta('2 days 17:27:35'),\n Timedelta('4 days 17:02:03'),\n Timedelta('0 days 17:25:33'),\n Timedelta('0 days 22:42:49'),\n Timedelta('4 days 00:41:30'),\n Timedelta('0 days 21:01:05'),\n Timedelta('0 days 08:25:58'),\n Timedelta('1 days 07:15:14'),\n Timedelta('0 days 11:32:59'),\n Timedelta('0 days 16:49:05'),\n Timedelta('0 days 08:14:02'),\n Timedelta('22 days 22:30:02'),\n Timedelta('1 days 20:24:41'),\n Timedelta('3 days 01:26:06'),\n Timedelta('0 days 01:20:04'),\n Timedelta('2 days 18:15:46'),\n Timedelta('0 days 02:39:21'),\n Timedelta('0 days 01:14:54'),\n Timedelta('0 days 01:18:21'),\n Timedelta('0 days 03:39:11'),\n Timedelta('0 days 01:53:43'),\n Timedelta('1 days 13:45:52'),\n Timedelta('0 days 22:56:58'),\n Timedelta('0 days 00:44:27'),\n Timedelta('1 days 06:32:53'),\n Timedelta('0 days 00:57:28'),\n Timedelta('1 days 01:38:11'),\n Timedelta('0 days 00:18:20'),\n Timedelta('0 days 01:34:44'),\n Timedelta('0 days 00:27:58'),\n Timedelta('0 days 00:48:59'),\n Timedelta('0 days 01:13:59'),\n Timedelta('0 days 01:20:09'),\n Timedelta('0 days 04:40:42'),\n Timedelta('0 days 01:32:27'),\n Timedelta('0 days 09:48:25'),\n Timedelta('0 days 00:24:03'),\n Timedelta('0 days 01:48:56'),\n Timedelta('0 days 01:02:09'),\n Timedelta('0 days 02:49:12'),\n Timedelta('0 days 00:53:09'),\n Timedelta('0 days 00:38:03'),\n Timedelta('0 days 04:34:21'),\n Timedelta('1 days 16:59:13'),\n Timedelta('0 days 03:05:53'),\n Timedelta('0 days 02:12:54'),\n Timedelta('0 days 07:03:47'),\n Timedelta('0 days 06:12:20'),\n Timedelta('0 days 02:09:51'),\n Timedelta('0 days 18:37:20'),\n Timedelta('0 days 01:13:41'),\n Timedelta('0 days 01:07:31'),\n Timedelta('0 days 07:46:22'),\n Timedelta('0 days 09:39:43'),\n Timedelta('0 days 00:02:00'),\n Timedelta('0 days 08:18:36'),\n Timedelta('2 days 08:12:46'),\n Timedelta('1 days 00:15:39'),\n Timedelta('0 days 13:40:16'),\n Timedelta('0 days 00:56:41'),\n Timedelta('0 days 05:38:43'),\n Timedelta('0 days 17:35:44'),\n Timedelta('1 days 06:47:53'),\n Timedelta('0 days 06:01:58'),\n Timedelta('0 days 12:14:36'),\n Timedelta('3 days 14:13:12'),\n Timedelta('0 days 12:46:33'),\n Timedelta('1 days 12:20:36'),\n Timedelta('2 days 09:11:33'),\n Timedelta('5 days 21:06:57'),\n Timedelta('0 days 03:47:57'),\n Timedelta('0 days 01:20:53'),\n Timedelta('0 days 22:45:22'),\n Timedelta('0 days 00:37:35'),\n Timedelta('0 days 06:09:19'),\n Timedelta('0 days 01:40:11'),\n Timedelta('0 days 16:33:40'),\n Timedelta('8 days 15:19:39'),\n Timedelta('1 days 05:03:07'),\n Timedelta('0 days 03:32:10'),\n Timedelta('1 days 01:20:38'),\n Timedelta('6 days 02:02:22'),\n Timedelta('0 days 02:59:59'),\n Timedelta('0 days 01:47:06'),\n Timedelta('0 days 02:02:08'),\n Timedelta('1 days 04:52:36'),\n Timedelta('1 days 10:11:16'),\n Timedelta('0 days 06:00:36'),\n Timedelta('0 days 20:56:16'),\n Timedelta('12 days 13:08:16'),\n Timedelta('0 days 07:13:47'),\n Timedelta('0 days 15:58:23'),\n Timedelta('3 days 15:38:59'),\n Timedelta('0 days 00:49:34'),\n Timedelta('0 days 05:55:19'),\n Timedelta('0 days 03:09:42'),\n Timedelta('0 days 20:00:59'),\n Timedelta('0 days 20:43:46'),\n Timedelta('0 days 14:11:00'),\n Timedelta('1 days 23:59:44'),\n Timedelta('5 days 12:43:47'),\n Timedelta('0 days 00:20:12'),\n Timedelta('0 days 00:12:43'),\n Timedelta('0 days 00:22:10'),\n Timedelta('0 days 09:15:11'),\n Timedelta('0 days 10:09:18'),\n Timedelta('0 days 12:47:52'),\n Timedelta('0 days 01:40:36'),\n Timedelta('0 days 03:13:28'),\n Timedelta('0 days 00:57:59'),\n Timedelta('0 days 01:52:07'),\n Timedelta('0 days 00:49:53'),\n Timedelta('0 days 18:00:38'),\n Timedelta('0 days 15:30:50'),\n Timedelta('0 days 00:21:49'),\n Timedelta('0 days 00:16:51'),\n Timedelta('0 days 00:08:13'),\n Timedelta('0 days 05:45:13'),\n Timedelta('0 days 17:37:31'),\n Timedelta('0 days 00:20:11'),\n Timedelta('0 days 00:22:52'),\n Timedelta('0 days 00:34:10'),\n Timedelta('0 days 02:40:53'),\n Timedelta('2 days 23:53:24'),\n Timedelta('0 days 03:14:50'),\n Timedelta('0 days 00:27:38'),\n Timedelta('1 days 01:11:17'),\n Timedelta('0 days 05:07:12'),\n Timedelta('2 days 02:24:27'),\n Timedelta('1 days 17:05:16'),\n Timedelta('0 days 03:06:10'),\n Timedelta('0 days 17:08:14'),\n Timedelta('1 days 06:33:01'),\n Timedelta('0 days 00:49:08'),\n Timedelta('3 days 00:24:23'),\n Timedelta('0 days 00:02:54'),\n Timedelta('0 days 00:19:56'),\n Timedelta('1 days 03:57:56'),\n Timedelta('6 days 06:46:19'),\n Timedelta('0 days 19:07:09'),\n Timedelta('1 days 01:56:01'),\n Timedelta('1 days 02:21:11'),\n Timedelta('0 days 06:24:19'),\n Timedelta('0 days 18:53:43'),\n Timedelta('2 days 23:55:27'),\n Timedelta('0 days 03:22:18'),\n Timedelta('0 days 01:12:37'),\n Timedelta('20 days 19:22:43'),\n Timedelta('0 days 00:16:20'),\n Timedelta('0 days 13:09:02'),\n Timedelta('0 days 00:01:46'),\n Timedelta('16 days 07:45:01'),\n Timedelta('0 days 21:22:02'),\n Timedelta('2 days 09:46:48'),\n Timedelta('0 days 07:37:45'),\n Timedelta('0 days 07:57:17'),\n Timedelta('6 days 21:41:17'),\n Timedelta('18 days 04:11:58'),\n Timedelta('4 days 06:10:24'),\n Timedelta('0 days 21:01:10'),\n Timedelta('9 days 07:15:03'),\n Timedelta('0 days 03:35:04'),\n Timedelta('22 days 17:27:09'),\n Timedelta('4 days 04:55:08'),\n Timedelta('2 days 22:50:30'),\n Timedelta('3 days 08:51:17'),\n Timedelta('1 days 00:30:13'),\n Timedelta('14 days 05:22:25'),\n Timedelta('4 days 12:43:09'),\n Timedelta('0 days 04:29:11'),\n Timedelta('0 days 20:11:29'),\n Timedelta('0 days 03:32:58'),\n Timedelta('2 days 02:04:18'),\n Timedelta('0 days 13:33:10'),\n Timedelta('0 days 00:10:39'),\n Timedelta('0 days 00:00:46'),\n Timedelta('0 days 01:43:40'),\n Timedelta('0 days 11:27:33'),\n Timedelta('0 days 00:23:20'),\n Timedelta('2 days 02:42:12'),\n Timedelta('1 days 01:48:45'),\n Timedelta('0 days 00:20:27'),\n Timedelta('2 days 11:18:49'),\n Timedelta('11 days 01:16:38'),\n Timedelta('0 days 19:47:35'),\n Timedelta('4 days 03:11:42'),\n Timedelta('0 days 01:48:36'),\n Timedelta('0 days 00:44:56'),\n Timedelta('0 days 07:42:19'),\n Timedelta('0 days 02:00:41'),\n Timedelta('1 days 02:05:18'),\n Timedelta('9 days 03:51:11'),\n Timedelta('0 days 00:03:17'),\n Timedelta('0 days 11:06:42'),\n Timedelta('0 days 14:47:19'),\n Timedelta('0 days 00:01:25'),\n Timedelta('0 days 00:10:50'),\n Timedelta('0 days 00:17:54'),\n Timedelta('0 days 00:35:40'),\n Timedelta('8 days 16:54:18'),\n Timedelta('0 days 08:01:27'),\n Timedelta('1 days 10:47:55'),\n Timedelta('3 days 00:37:42'),\n Timedelta('18 days 05:11:10'),\n Timedelta('2 days 21:05:36'),\n Timedelta('1 days 17:13:22'),\n Timedelta('0 days 00:14:33'),\n Timedelta('0 days 00:01:44'),\n Timedelta('0 days 11:03:46'),\n Timedelta('1 days 03:16:18'),\n Timedelta('1 days 14:01:57'),\n Timedelta('15 days 00:01:57'),\n Timedelta('0 days 02:03:00'),\n Timedelta('2 days 00:36:01'),\n Timedelta('3 days 21:48:02'),\n Timedelta('5 days 03:44:54'),\n Timedelta('10 days 23:52:40'),\n Timedelta('0 days 01:14:09'),\n Timedelta('0 days 11:24:32'),\n Timedelta('0 days 19:40:33'),\n Timedelta('1 days 00:06:04'),\n Timedelta('2 days 10:38:15'),\n Timedelta('0 days 12:07:16'),\n Timedelta('31 days 04:24:03'),\n Timedelta('0 days 22:39:47'),\n Timedelta('0 days 00:18:50'),\n Timedelta('0 days 00:04:09'),\n Timedelta('1 days 17:15:01'),\n Timedelta('0 days 23:17:15'),\n Timedelta('0 days 10:11:49'),\n Timedelta('0 days 04:39:46'),\n Timedelta('0 days 08:48:06'),\n Timedelta('0 days 00:11:12'),\n Timedelta('0 days 20:19:30'),\n Timedelta('1 days 19:59:54'),\n Timedelta('3 days 08:50:36'),\n Timedelta('0 days 01:32:51'),\n Timedelta('0 days 01:35:12'),\n Timedelta('0 days 04:13:15'),\n Timedelta('0 days 13:35:17'),\n Timedelta('0 days 00:18:15'),\n Timedelta('0 days 09:40:59'),\n Timedelta('0 days 09:43:48'),\n Timedelta('0 days 05:24:42'),\n Timedelta('5 days 22:01:08'),\n Timedelta('0 days 00:06:17'),\n Timedelta('0 days 00:49:57'),\n Timedelta('0 days 11:25:34'),\n Timedelta('0 days 19:01:17'),\n Timedelta('0 days 00:25:06'),\n Timedelta('0 days 01:05:35'),\n Timedelta('0 days 01:02:42'),\n Timedelta('0 days 16:23:51'),\n Timedelta('9 days 05:50:40'),\n Timedelta('0 days 09:25:34'),\n Timedelta('0 days 10:18:02'),\n Timedelta('13 days 23:31:21'),\n Timedelta('5 days 04:26:06'),\n Timedelta('1 days 23:56:47'),\n Timedelta('4 days 12:22:47'),\n Timedelta('0 days 03:21:49'),\n Timedelta('0 days 04:13:11'),\n Timedelta('0 days 08:10:00'),\n Timedelta('1 days 07:22:34'),\n Timedelta('0 days 00:16:43'),\n Timedelta('0 days 00:01:49'),\n Timedelta('0 days 00:24:36'),\n Timedelta('0 days 03:26:41'),\n Timedelta('0 days 17:50:55'),\n Timedelta('3 days 22:54:39'),\n Timedelta('0 days 00:09:56'),\n Timedelta('4 days 09:51:25'),\n Timedelta('0 days 05:50:40'),\n Timedelta('7 days 23:59:44'),\n Timedelta('0 days 21:08:04'),\n Timedelta('0 days 07:28:54'),\n Timedelta('0 days 00:04:28'),\n Timedelta('0 days 00:08:20'),\n Timedelta('1 days 08:18:17'),\n ...]"
     },
     "execution_count": 30,
     "metadata": {},
     "output_type": "execute_result"
    }
   ],
   "source": [
    "cl = list(df['total_time'])\n",
    "cl\n"
   ]
  },
  {
   "cell_type": "code",
   "execution_count": 7,
   "outputs": [
    {
     "data": {
      "text/plain": "      commits  additions  deletions  changed_files begin_Dispensables  \\\n0           1         10          4              3              500.0   \n1           1          2          1              1              500.0   \n2           1         36         67              9              500.0   \n3           1         21          2              3              500.0   \n4           8        211        212             80              499.0   \n...       ...        ...        ...            ...                ...   \n1063        4        191         40             12               16.0   \n1064        6        470         42             16               14.0   \n1065        2         69         49              9               14.0   \n1066        1         11       1128             27                2.0   \n1067        1         36          0              1                2.0   \n\n      begin_Bloaters  begin_Change Preventers  begin_Couplers  \\\n0              262.0                    262.0           304.0   \n1              262.0                    262.0           304.0   \n2              262.0                    262.0           304.0   \n3              262.0                    262.0           304.0   \n4              261.0                    261.0           304.0   \n...              ...                      ...             ...   \n1063            14.0                     14.0             7.0   \n1064            12.0                     12.0             8.0   \n1065            12.0                     12.0             8.0   \n1066             3.0                      3.0             3.0   \n1067             3.0                      3.0             3.0   \n\n      begin_Object-Orientation Abusers  end_Dispensables  end_Bloaters  \\\n0                                304.0             500.0         261.0   \n1                                304.0             501.0         262.0   \n2                                304.0             499.0         261.0   \n3                                304.0             500.0         261.0   \n4                                304.0             500.0         262.0   \n...                                ...               ...           ...   \n1063                               7.0              16.0          15.0   \n1064                               8.0              16.0          14.0   \n1065                               8.0              16.0          14.0   \n1066                               3.0              16.0          14.0   \n1067                               3.0              14.0          12.0   \n\n      end_Change Preventers  end_Couplers  end_Object-Orientation Abusers  \n0                     261.0         304.0                           693.0  \n1                     262.0         304.0                           693.0  \n2                     261.0         304.0                           693.0  \n3                     261.0         304.0                           693.0  \n4                     262.0         304.0                           693.0  \n...                     ...           ...                             ...  \n1063                   15.0           7.0                           102.0  \n1064                   14.0           7.0                            89.0  \n1065                   14.0           7.0                            89.0  \n1066                   14.0           7.0                            89.0  \n1067                   12.0           8.0                            89.0  \n\n[1068 rows x 14 columns]",
      "text/html": "<div>\n<style scoped>\n    .dataframe tbody tr th:only-of-type {\n        vertical-align: middle;\n    }\n\n    .dataframe tbody tr th {\n        vertical-align: top;\n    }\n\n    .dataframe thead th {\n        text-align: right;\n    }\n</style>\n<table border=\"1\" class=\"dataframe\">\n  <thead>\n    <tr style=\"text-align: right;\">\n      <th></th>\n      <th>commits</th>\n      <th>additions</th>\n      <th>deletions</th>\n      <th>changed_files</th>\n      <th>begin_Dispensables</th>\n      <th>begin_Bloaters</th>\n      <th>begin_Change Preventers</th>\n      <th>begin_Couplers</th>\n      <th>begin_Object-Orientation Abusers</th>\n      <th>end_Dispensables</th>\n      <th>end_Bloaters</th>\n      <th>end_Change Preventers</th>\n      <th>end_Couplers</th>\n      <th>end_Object-Orientation Abusers</th>\n    </tr>\n  </thead>\n  <tbody>\n    <tr>\n      <th>0</th>\n      <td>1</td>\n      <td>10</td>\n      <td>4</td>\n      <td>3</td>\n      <td>500.0</td>\n      <td>262.0</td>\n      <td>262.0</td>\n      <td>304.0</td>\n      <td>304.0</td>\n      <td>500.0</td>\n      <td>261.0</td>\n      <td>261.0</td>\n      <td>304.0</td>\n      <td>693.0</td>\n    </tr>\n    <tr>\n      <th>1</th>\n      <td>1</td>\n      <td>2</td>\n      <td>1</td>\n      <td>1</td>\n      <td>500.0</td>\n      <td>262.0</td>\n      <td>262.0</td>\n      <td>304.0</td>\n      <td>304.0</td>\n      <td>501.0</td>\n      <td>262.0</td>\n      <td>262.0</td>\n      <td>304.0</td>\n      <td>693.0</td>\n    </tr>\n    <tr>\n      <th>2</th>\n      <td>1</td>\n      <td>36</td>\n      <td>67</td>\n      <td>9</td>\n      <td>500.0</td>\n      <td>262.0</td>\n      <td>262.0</td>\n      <td>304.0</td>\n      <td>304.0</td>\n      <td>499.0</td>\n      <td>261.0</td>\n      <td>261.0</td>\n      <td>304.0</td>\n      <td>693.0</td>\n    </tr>\n    <tr>\n      <th>3</th>\n      <td>1</td>\n      <td>21</td>\n      <td>2</td>\n      <td>3</td>\n      <td>500.0</td>\n      <td>262.0</td>\n      <td>262.0</td>\n      <td>304.0</td>\n      <td>304.0</td>\n      <td>500.0</td>\n      <td>261.0</td>\n      <td>261.0</td>\n      <td>304.0</td>\n      <td>693.0</td>\n    </tr>\n    <tr>\n      <th>4</th>\n      <td>8</td>\n      <td>211</td>\n      <td>212</td>\n      <td>80</td>\n      <td>499.0</td>\n      <td>261.0</td>\n      <td>261.0</td>\n      <td>304.0</td>\n      <td>304.0</td>\n      <td>500.0</td>\n      <td>262.0</td>\n      <td>262.0</td>\n      <td>304.0</td>\n      <td>693.0</td>\n    </tr>\n    <tr>\n      <th>...</th>\n      <td>...</td>\n      <td>...</td>\n      <td>...</td>\n      <td>...</td>\n      <td>...</td>\n      <td>...</td>\n      <td>...</td>\n      <td>...</td>\n      <td>...</td>\n      <td>...</td>\n      <td>...</td>\n      <td>...</td>\n      <td>...</td>\n      <td>...</td>\n    </tr>\n    <tr>\n      <th>1063</th>\n      <td>4</td>\n      <td>191</td>\n      <td>40</td>\n      <td>12</td>\n      <td>16.0</td>\n      <td>14.0</td>\n      <td>14.0</td>\n      <td>7.0</td>\n      <td>7.0</td>\n      <td>16.0</td>\n      <td>15.0</td>\n      <td>15.0</td>\n      <td>7.0</td>\n      <td>102.0</td>\n    </tr>\n    <tr>\n      <th>1064</th>\n      <td>6</td>\n      <td>470</td>\n      <td>42</td>\n      <td>16</td>\n      <td>14.0</td>\n      <td>12.0</td>\n      <td>12.0</td>\n      <td>8.0</td>\n      <td>8.0</td>\n      <td>16.0</td>\n      <td>14.0</td>\n      <td>14.0</td>\n      <td>7.0</td>\n      <td>89.0</td>\n    </tr>\n    <tr>\n      <th>1065</th>\n      <td>2</td>\n      <td>69</td>\n      <td>49</td>\n      <td>9</td>\n      <td>14.0</td>\n      <td>12.0</td>\n      <td>12.0</td>\n      <td>8.0</td>\n      <td>8.0</td>\n      <td>16.0</td>\n      <td>14.0</td>\n      <td>14.0</td>\n      <td>7.0</td>\n      <td>89.0</td>\n    </tr>\n    <tr>\n      <th>1066</th>\n      <td>1</td>\n      <td>11</td>\n      <td>1128</td>\n      <td>27</td>\n      <td>2.0</td>\n      <td>3.0</td>\n      <td>3.0</td>\n      <td>3.0</td>\n      <td>3.0</td>\n      <td>16.0</td>\n      <td>14.0</td>\n      <td>14.0</td>\n      <td>7.0</td>\n      <td>89.0</td>\n    </tr>\n    <tr>\n      <th>1067</th>\n      <td>1</td>\n      <td>36</td>\n      <td>0</td>\n      <td>1</td>\n      <td>2.0</td>\n      <td>3.0</td>\n      <td>3.0</td>\n      <td>3.0</td>\n      <td>3.0</td>\n      <td>14.0</td>\n      <td>12.0</td>\n      <td>12.0</td>\n      <td>8.0</td>\n      <td>89.0</td>\n    </tr>\n  </tbody>\n</table>\n<p>1068 rows × 14 columns</p>\n</div>"
     },
     "execution_count": 7,
     "metadata": {},
     "output_type": "execute_result"
    }
   ],
   "source": [
    "X"
   ],
   "metadata": {
    "collapsed": false,
    "ExecuteTime": {
     "end_time": "2023-08-17T06:50:07.365582800Z",
     "start_time": "2023-08-17T06:50:07.336553Z"
    }
   }
  },
  {
   "cell_type": "code",
   "execution_count": 8,
   "metadata": {
    "collapsed": false,
    "ExecuteTime": {
     "end_time": "2023-08-17T06:50:07.430694700Z",
     "start_time": "2023-08-17T06:50:07.365582800Z"
    }
   },
   "outputs": [],
   "source": [
    "scaler = preprocessing.MinMaxScaler()\n",
    "df_scaler = scaler.fit_transform(X)\n",
    "df_scaler_col = pd.DataFrame(df_scaler)\n",
    "df_scaler = df_scaler.T"
   ]
  },
  {
   "cell_type": "code",
   "execution_count": 9,
   "metadata": {
    "ExecuteTime": {
     "end_time": "2023-08-17T06:50:07.470753700Z",
     "start_time": "2023-08-17T06:50:07.397636900Z"
    }
   },
   "outputs": [
    {
     "data": {
      "text/plain": "(14, 1068)"
     },
     "execution_count": 9,
     "metadata": {},
     "output_type": "execute_result"
    }
   ],
   "source": [
    "df_scaler.shape"
   ]
  },
  {
   "cell_type": "code",
   "execution_count": 10,
   "metadata": {
    "collapsed": false,
    "ExecuteTime": {
     "end_time": "2023-08-17T06:50:07.597975400Z",
     "start_time": "2023-08-17T06:50:07.413660900Z"
    }
   },
   "outputs": [],
   "source": [
    "#Silhouette analysis\n",
    "from sklearn.cluster import KMeans\n",
    "from sklearn.metrics import silhouette_score"
   ]
  },
  {
   "cell_type": "code",
   "execution_count": 11,
   "metadata": {
    "collapsed": false,
    "ExecuteTime": {
     "end_time": "2023-08-17T06:50:11.734815800Z",
     "start_time": "2023-08-17T06:50:07.585454100Z"
    }
   },
   "outputs": [
    {
     "name": "stderr",
     "output_type": "stream",
     "text": [
      "C:\\Users\\patcharaprapa_k\\AppData\\Local\\anaconda3\\lib\\site-packages\\sklearn\\cluster\\_kmeans.py:870: FutureWarning: The default value of `n_init` will change from 10 to 'auto' in 1.4. Set the value of `n_init` explicitly to suppress the warning\n",
      "  warnings.warn(\n",
      "C:\\Users\\patcharaprapa_k\\AppData\\Local\\anaconda3\\lib\\site-packages\\sklearn\\cluster\\_kmeans.py:1382: UserWarning: KMeans is known to have a memory leak on Windows with MKL, when there are less chunks than available threads. You can avoid it by setting the environment variable OMP_NUM_THREADS=1.\n",
      "  warnings.warn(\n",
      "C:\\Users\\patcharaprapa_k\\AppData\\Local\\anaconda3\\lib\\site-packages\\sklearn\\cluster\\_kmeans.py:870: FutureWarning: The default value of `n_init` will change from 10 to 'auto' in 1.4. Set the value of `n_init` explicitly to suppress the warning\n",
      "  warnings.warn(\n",
      "C:\\Users\\patcharaprapa_k\\AppData\\Local\\anaconda3\\lib\\site-packages\\sklearn\\cluster\\_kmeans.py:1382: UserWarning: KMeans is known to have a memory leak on Windows with MKL, when there are less chunks than available threads. You can avoid it by setting the environment variable OMP_NUM_THREADS=1.\n",
      "  warnings.warn(\n",
      "C:\\Users\\patcharaprapa_k\\AppData\\Local\\anaconda3\\lib\\site-packages\\sklearn\\cluster\\_kmeans.py:870: FutureWarning: The default value of `n_init` will change from 10 to 'auto' in 1.4. Set the value of `n_init` explicitly to suppress the warning\n",
      "  warnings.warn(\n",
      "C:\\Users\\patcharaprapa_k\\AppData\\Local\\anaconda3\\lib\\site-packages\\sklearn\\cluster\\_kmeans.py:1382: UserWarning: KMeans is known to have a memory leak on Windows with MKL, when there are less chunks than available threads. You can avoid it by setting the environment variable OMP_NUM_THREADS=1.\n",
      "  warnings.warn(\n",
      "C:\\Users\\patcharaprapa_k\\AppData\\Local\\anaconda3\\lib\\site-packages\\sklearn\\cluster\\_kmeans.py:870: FutureWarning: The default value of `n_init` will change from 10 to 'auto' in 1.4. Set the value of `n_init` explicitly to suppress the warning\n",
      "  warnings.warn(\n",
      "C:\\Users\\patcharaprapa_k\\AppData\\Local\\anaconda3\\lib\\site-packages\\sklearn\\cluster\\_kmeans.py:1382: UserWarning: KMeans is known to have a memory leak on Windows with MKL, when there are less chunks than available threads. You can avoid it by setting the environment variable OMP_NUM_THREADS=1.\n",
      "  warnings.warn(\n",
      "C:\\Users\\patcharaprapa_k\\AppData\\Local\\anaconda3\\lib\\site-packages\\sklearn\\cluster\\_kmeans.py:870: FutureWarning: The default value of `n_init` will change from 10 to 'auto' in 1.4. Set the value of `n_init` explicitly to suppress the warning\n",
      "  warnings.warn(\n",
      "C:\\Users\\patcharaprapa_k\\AppData\\Local\\anaconda3\\lib\\site-packages\\sklearn\\cluster\\_kmeans.py:1382: UserWarning: KMeans is known to have a memory leak on Windows with MKL, when there are less chunks than available threads. You can avoid it by setting the environment variable OMP_NUM_THREADS=1.\n",
      "  warnings.warn(\n",
      "C:\\Users\\patcharaprapa_k\\AppData\\Local\\anaconda3\\lib\\site-packages\\sklearn\\cluster\\_kmeans.py:870: FutureWarning: The default value of `n_init` will change from 10 to 'auto' in 1.4. Set the value of `n_init` explicitly to suppress the warning\n",
      "  warnings.warn(\n",
      "C:\\Users\\patcharaprapa_k\\AppData\\Local\\anaconda3\\lib\\site-packages\\sklearn\\cluster\\_kmeans.py:1382: UserWarning: KMeans is known to have a memory leak on Windows with MKL, when there are less chunks than available threads. You can avoid it by setting the environment variable OMP_NUM_THREADS=1.\n",
      "  warnings.warn(\n",
      "C:\\Users\\patcharaprapa_k\\AppData\\Local\\anaconda3\\lib\\site-packages\\sklearn\\cluster\\_kmeans.py:870: FutureWarning: The default value of `n_init` will change from 10 to 'auto' in 1.4. Set the value of `n_init` explicitly to suppress the warning\n",
      "  warnings.warn(\n",
      "C:\\Users\\patcharaprapa_k\\AppData\\Local\\anaconda3\\lib\\site-packages\\sklearn\\cluster\\_kmeans.py:1382: UserWarning: KMeans is known to have a memory leak on Windows with MKL, when there are less chunks than available threads. You can avoid it by setting the environment variable OMP_NUM_THREADS=1.\n",
      "  warnings.warn(\n",
      "C:\\Users\\patcharaprapa_k\\AppData\\Local\\anaconda3\\lib\\site-packages\\sklearn\\cluster\\_kmeans.py:870: FutureWarning: The default value of `n_init` will change from 10 to 'auto' in 1.4. Set the value of `n_init` explicitly to suppress the warning\n",
      "  warnings.warn(\n",
      "C:\\Users\\patcharaprapa_k\\AppData\\Local\\anaconda3\\lib\\site-packages\\sklearn\\cluster\\_kmeans.py:1382: UserWarning: KMeans is known to have a memory leak on Windows with MKL, when there are less chunks than available threads. You can avoid it by setting the environment variable OMP_NUM_THREADS=1.\n",
      "  warnings.warn(\n",
      "C:\\Users\\patcharaprapa_k\\AppData\\Local\\anaconda3\\lib\\site-packages\\sklearn\\cluster\\_kmeans.py:870: FutureWarning: The default value of `n_init` will change from 10 to 'auto' in 1.4. Set the value of `n_init` explicitly to suppress the warning\n",
      "  warnings.warn(\n",
      "C:\\Users\\patcharaprapa_k\\AppData\\Local\\anaconda3\\lib\\site-packages\\sklearn\\cluster\\_kmeans.py:1382: UserWarning: KMeans is known to have a memory leak on Windows with MKL, when there are less chunks than available threads. You can avoid it by setting the environment variable OMP_NUM_THREADS=1.\n",
      "  warnings.warn(\n",
      "C:\\Users\\patcharaprapa_k\\AppData\\Local\\anaconda3\\lib\\site-packages\\sklearn\\cluster\\_kmeans.py:870: FutureWarning: The default value of `n_init` will change from 10 to 'auto' in 1.4. Set the value of `n_init` explicitly to suppress the warning\n",
      "  warnings.warn(\n",
      "C:\\Users\\patcharaprapa_k\\AppData\\Local\\anaconda3\\lib\\site-packages\\sklearn\\cluster\\_kmeans.py:1382: UserWarning: KMeans is known to have a memory leak on Windows with MKL, when there are less chunks than available threads. You can avoid it by setting the environment variable OMP_NUM_THREADS=1.\n",
      "  warnings.warn(\n",
      "C:\\Users\\patcharaprapa_k\\AppData\\Local\\anaconda3\\lib\\site-packages\\sklearn\\cluster\\_kmeans.py:870: FutureWarning: The default value of `n_init` will change from 10 to 'auto' in 1.4. Set the value of `n_init` explicitly to suppress the warning\n",
      "  warnings.warn(\n",
      "C:\\Users\\patcharaprapa_k\\AppData\\Local\\anaconda3\\lib\\site-packages\\sklearn\\cluster\\_kmeans.py:1382: UserWarning: KMeans is known to have a memory leak on Windows with MKL, when there are less chunks than available threads. You can avoid it by setting the environment variable OMP_NUM_THREADS=1.\n",
      "  warnings.warn(\n",
      "C:\\Users\\patcharaprapa_k\\AppData\\Local\\Temp\\ipykernel_13936\\1243137686.py:5: ConvergenceWarning: Number of distinct clusters (11) found smaller than n_clusters (12). Possibly due to duplicate points in X.\n",
      "  km.fit(df_scaler)\n",
      "C:\\Users\\patcharaprapa_k\\AppData\\Local\\anaconda3\\lib\\site-packages\\sklearn\\cluster\\_kmeans.py:870: FutureWarning: The default value of `n_init` will change from 10 to 'auto' in 1.4. Set the value of `n_init` explicitly to suppress the warning\n",
      "  warnings.warn(\n",
      "C:\\Users\\patcharaprapa_k\\AppData\\Local\\anaconda3\\lib\\site-packages\\sklearn\\cluster\\_kmeans.py:1382: UserWarning: KMeans is known to have a memory leak on Windows with MKL, when there are less chunks than available threads. You can avoid it by setting the environment variable OMP_NUM_THREADS=1.\n",
      "  warnings.warn(\n",
      "C:\\Users\\patcharaprapa_k\\AppData\\Local\\Temp\\ipykernel_13936\\1243137686.py:5: ConvergenceWarning: Number of distinct clusters (11) found smaller than n_clusters (13). Possibly due to duplicate points in X.\n",
      "  km.fit(df_scaler)\n"
     ]
    }
   ],
   "source": [
    "number_of_cluster = []\n",
    "\n",
    "for i in range(2, len(df_scaler)):\n",
    "    km = KMeans(n_clusters = i)\n",
    "    km.fit(df_scaler)\n",
    "    sil_avg = silhouette_score(df_scaler, km.labels_).round(4)\n",
    "    number_of_cluster.append([sil_avg , i])"
   ]
  },
  {
   "cell_type": "code",
   "execution_count": 12,
   "metadata": {
    "collapsed": false,
    "ExecuteTime": {
     "end_time": "2023-08-17T06:50:11.779399400Z",
     "start_time": "2023-08-17T06:50:11.736321500Z"
    }
   },
   "outputs": [
    {
     "name": "stdout",
     "output_type": "stream",
     "text": [
      "Optimum number of cluster: 2\n"
     ]
    }
   ],
   "source": [
    "print(f'Optimum number of cluster: {max(number_of_cluster)[1]}')"
   ]
  },
  {
   "cell_type": "code",
   "execution_count": 13,
   "outputs": [
    {
     "data": {
      "text/plain": "[[0.4286, 11],\n [0.4286, 12],\n [0.4286, 13],\n [0.4617, 10],\n [0.4794, 6],\n [0.5609, 3],\n [0.5637, 4],\n [0.5765, 9],\n [0.5909, 5],\n [0.6095, 7],\n [0.627, 8],\n [0.8785, 2]]"
     },
     "execution_count": 13,
     "metadata": {},
     "output_type": "execute_result"
    }
   ],
   "source": [
    "number_of_cluster.sort()\n",
    "number_of_cluster"
   ],
   "metadata": {
    "collapsed": false,
    "ExecuteTime": {
     "end_time": "2023-08-17T06:50:11.786910Z",
     "start_time": "2023-08-17T06:50:11.752866200Z"
    }
   }
  },
  {
   "cell_type": "markdown",
   "source": [],
   "metadata": {
    "collapsed": false
   }
  },
  {
   "cell_type": "code",
   "execution_count": 14,
   "metadata": {
    "ExecuteTime": {
     "end_time": "2023-08-17T06:50:11.786910Z",
     "start_time": "2023-08-17T06:50:11.779399400Z"
    }
   },
   "outputs": [],
   "source": [
    "# Perform KMeans clustering\n",
    "num_clusters = max(number_of_cluster)[1]\n",
    "kmeans = KMeans(n_clusters=num_clusters)"
   ]
  },
  {
   "cell_type": "code",
   "execution_count": 15,
   "metadata": {
    "ExecuteTime": {
     "end_time": "2023-08-17T06:50:12.052563100Z",
     "start_time": "2023-08-17T06:50:11.784401600Z"
    }
   },
   "outputs": [
    {
     "name": "stderr",
     "output_type": "stream",
     "text": [
      "C:\\Users\\patcharaprapa_k\\AppData\\Local\\anaconda3\\lib\\site-packages\\sklearn\\cluster\\_kmeans.py:870: FutureWarning: The default value of `n_init` will change from 10 to 'auto' in 1.4. Set the value of `n_init` explicitly to suppress the warning\n",
      "  warnings.warn(\n",
      "C:\\Users\\patcharaprapa_k\\AppData\\Local\\anaconda3\\lib\\site-packages\\sklearn\\cluster\\_kmeans.py:1382: UserWarning: KMeans is known to have a memory leak on Windows with MKL, when there are less chunks than available threads. You can avoid it by setting the environment variable OMP_NUM_THREADS=5.\n",
      "  warnings.warn(\n"
     ]
    }
   ],
   "source": [
    "cluster_labels = kmeans.fit_predict(X)"
   ]
  },
  {
   "cell_type": "code",
   "execution_count": 16,
   "metadata": {
    "ExecuteTime": {
     "end_time": "2023-08-17T06:50:12.064096500Z",
     "start_time": "2023-08-17T06:50:12.054563800Z"
    }
   },
   "outputs": [],
   "source": [
    "df['cluster'] = cluster_labels"
   ]
  },
  {
   "cell_type": "code",
   "execution_count": 17,
   "outputs": [
    {
     "data": {
      "text/plain": "                                     begin_sha  \\\n0     84be0f9fd057b1680d001de38802ce1c28d79f04   \n1     84be0f9fd057b1680d001de38802ce1c28d79f04   \n2     84be0f9fd057b1680d001de38802ce1c28d79f04   \n3     84be0f9fd057b1680d001de38802ce1c28d79f04   \n4     1b918160214a0b20ce1ae8f9e02f8e0dce243b53   \n...                                        ...   \n1063  1afed83b2c4ae750ee8159ae359924e6f8e471e4   \n1064  4bfd6cb1c97a0ffa75e0cd8a0ff8fc758de5f9d6   \n1065  5fa746466941d871d4b1246b451f398416952541   \n1066  04addef64bbd2567d47acbb7f434245fba7ac8a5   \n1067  79339df3455c88ba606847d79b3b3a1682c97a67   \n\n                                       end_sha  commits  additions  deletions  \\\n0     9a2efa51c7180b369ecfea17efaae813d9d0bfc5        1         10          4   \n1     5e03d22d6cb5bfdaf941b7749e0a313bd6ab2f86        1          2          1   \n2     e0d8519a9d7b6dfac29c1daf4199b6fe87781d0a        1         36         67   \n3     d0a47b9811a30f5de6d59334bb4fcc8c74ef640b        1         21          2   \n4     988d2f0c4ef3ba8db0e701ab2105555996def4f7        8        211        212   \n...                                        ...      ...        ...        ...   \n1063  28c87ce9911a7fc8d0fc50ff94d8351824056335        4        191         40   \n1064  e03ff8b09c54470023a87f9e615cf689fc9234da        6        470         42   \n1065  4bfd6cb1c97a0ffa75e0cd8a0ff8fc758de5f9d6        2         69         49   \n1066  3b6a8b4058593b1ff11c44560ebcc56142cda830        1         11       1128   \n1067  04addef64bbd2567d47acbb7f434245fba7ac8a5        1         36          0   \n\n      changed_files       total_time            begin_time  \\\n0                 3  3 days 01:27:48  2023-06-02T07:22:03Z   \n1                 1  3 days 04:15:10  2023-06-02T05:07:40Z   \n2                 9  0 days 05:24:03  2023-06-02T03:16:04Z   \n3                 3  4 days 00:22:26  2023-06-01T08:30:26Z   \n4                80 12 days 00:39:27  2023-06-01T07:45:26Z   \n...             ...              ...                   ...   \n1063             12  0 days 00:43:10  2019-10-30T01:18:36Z   \n1064             16  0 days 19:01:39  2019-09-19T11:01:45Z   \n1065              9  0 days 00:16:22  2019-09-19T09:50:27Z   \n1066             27  0 days 00:33:35  2019-08-13T15:14:02Z   \n1067              1  0 days 00:09:14  2019-08-13T02:16:57Z   \n\n                  end_time begin_Dispensables  ...  begin_Change Preventers  \\\n0     2023-06-05T08:49:51Z              500.0  ...                    262.0   \n1     2023-06-05T09:22:50Z              500.0  ...                    262.0   \n2     2023-06-02T08:40:07Z              500.0  ...                    262.0   \n3     2023-06-05T08:52:52Z              500.0  ...                    262.0   \n4     2023-06-13T08:24:53Z              499.0  ...                    261.0   \n...                    ...                ...  ...                      ...   \n1063  2019-10-30T02:01:46Z               16.0  ...                     14.0   \n1064  2019-09-20T06:03:24Z               14.0  ...                     12.0   \n1065  2019-09-19T10:06:49Z               14.0  ...                     12.0   \n1066  2019-08-13T15:47:37Z                2.0  ...                      3.0   \n1067  2019-08-13T02:26:11Z                2.0  ...                      3.0   \n\n      begin_Couplers  begin_Object-Orientation Abusers  end_Dispensables  \\\n0              304.0                             304.0             500.0   \n1              304.0                             304.0             501.0   \n2              304.0                             304.0             499.0   \n3              304.0                             304.0             500.0   \n4              304.0                             304.0             500.0   \n...              ...                               ...               ...   \n1063             7.0                               7.0              16.0   \n1064             8.0                               8.0              16.0   \n1065             8.0                               8.0              16.0   \n1066             3.0                               3.0              16.0   \n1067             3.0                               3.0              14.0   \n\n      end_Bloaters  end_Change Preventers  end_Couplers  \\\n0            261.0                  261.0         304.0   \n1            262.0                  262.0         304.0   \n2            261.0                  261.0         304.0   \n3            261.0                  261.0         304.0   \n4            262.0                  262.0         304.0   \n...            ...                    ...           ...   \n1063          15.0                   15.0           7.0   \n1064          14.0                   14.0           7.0   \n1065          14.0                   14.0           7.0   \n1066          14.0                   14.0           7.0   \n1067          12.0                   12.0           8.0   \n\n      end_Object-Orientation Abusers              time  cluster  \n0                              693.0   264468000000000        0  \n1                              693.0   274510000000000        0  \n2                              693.0    19443000000000        0  \n3                              693.0   346946000000000        0  \n4                              693.0  1039167000000000        0  \n...                              ...               ...      ...  \n1063                           102.0     2590000000000        0  \n1064                            89.0    68499000000000        0  \n1065                            89.0      982000000000        0  \n1066                            89.0     2015000000000        0  \n1067                            89.0      554000000000        0  \n\n[1068 rows x 21 columns]",
      "text/html": "<div>\n<style scoped>\n    .dataframe tbody tr th:only-of-type {\n        vertical-align: middle;\n    }\n\n    .dataframe tbody tr th {\n        vertical-align: top;\n    }\n\n    .dataframe thead th {\n        text-align: right;\n    }\n</style>\n<table border=\"1\" class=\"dataframe\">\n  <thead>\n    <tr style=\"text-align: right;\">\n      <th></th>\n      <th>begin_sha</th>\n      <th>end_sha</th>\n      <th>commits</th>\n      <th>additions</th>\n      <th>deletions</th>\n      <th>changed_files</th>\n      <th>total_time</th>\n      <th>begin_time</th>\n      <th>end_time</th>\n      <th>begin_Dispensables</th>\n      <th>...</th>\n      <th>begin_Change Preventers</th>\n      <th>begin_Couplers</th>\n      <th>begin_Object-Orientation Abusers</th>\n      <th>end_Dispensables</th>\n      <th>end_Bloaters</th>\n      <th>end_Change Preventers</th>\n      <th>end_Couplers</th>\n      <th>end_Object-Orientation Abusers</th>\n      <th>time</th>\n      <th>cluster</th>\n    </tr>\n  </thead>\n  <tbody>\n    <tr>\n      <th>0</th>\n      <td>84be0f9fd057b1680d001de38802ce1c28d79f04</td>\n      <td>9a2efa51c7180b369ecfea17efaae813d9d0bfc5</td>\n      <td>1</td>\n      <td>10</td>\n      <td>4</td>\n      <td>3</td>\n      <td>3 days 01:27:48</td>\n      <td>2023-06-02T07:22:03Z</td>\n      <td>2023-06-05T08:49:51Z</td>\n      <td>500.0</td>\n      <td>...</td>\n      <td>262.0</td>\n      <td>304.0</td>\n      <td>304.0</td>\n      <td>500.0</td>\n      <td>261.0</td>\n      <td>261.0</td>\n      <td>304.0</td>\n      <td>693.0</td>\n      <td>264468000000000</td>\n      <td>0</td>\n    </tr>\n    <tr>\n      <th>1</th>\n      <td>84be0f9fd057b1680d001de38802ce1c28d79f04</td>\n      <td>5e03d22d6cb5bfdaf941b7749e0a313bd6ab2f86</td>\n      <td>1</td>\n      <td>2</td>\n      <td>1</td>\n      <td>1</td>\n      <td>3 days 04:15:10</td>\n      <td>2023-06-02T05:07:40Z</td>\n      <td>2023-06-05T09:22:50Z</td>\n      <td>500.0</td>\n      <td>...</td>\n      <td>262.0</td>\n      <td>304.0</td>\n      <td>304.0</td>\n      <td>501.0</td>\n      <td>262.0</td>\n      <td>262.0</td>\n      <td>304.0</td>\n      <td>693.0</td>\n      <td>274510000000000</td>\n      <td>0</td>\n    </tr>\n    <tr>\n      <th>2</th>\n      <td>84be0f9fd057b1680d001de38802ce1c28d79f04</td>\n      <td>e0d8519a9d7b6dfac29c1daf4199b6fe87781d0a</td>\n      <td>1</td>\n      <td>36</td>\n      <td>67</td>\n      <td>9</td>\n      <td>0 days 05:24:03</td>\n      <td>2023-06-02T03:16:04Z</td>\n      <td>2023-06-02T08:40:07Z</td>\n      <td>500.0</td>\n      <td>...</td>\n      <td>262.0</td>\n      <td>304.0</td>\n      <td>304.0</td>\n      <td>499.0</td>\n      <td>261.0</td>\n      <td>261.0</td>\n      <td>304.0</td>\n      <td>693.0</td>\n      <td>19443000000000</td>\n      <td>0</td>\n    </tr>\n    <tr>\n      <th>3</th>\n      <td>84be0f9fd057b1680d001de38802ce1c28d79f04</td>\n      <td>d0a47b9811a30f5de6d59334bb4fcc8c74ef640b</td>\n      <td>1</td>\n      <td>21</td>\n      <td>2</td>\n      <td>3</td>\n      <td>4 days 00:22:26</td>\n      <td>2023-06-01T08:30:26Z</td>\n      <td>2023-06-05T08:52:52Z</td>\n      <td>500.0</td>\n      <td>...</td>\n      <td>262.0</td>\n      <td>304.0</td>\n      <td>304.0</td>\n      <td>500.0</td>\n      <td>261.0</td>\n      <td>261.0</td>\n      <td>304.0</td>\n      <td>693.0</td>\n      <td>346946000000000</td>\n      <td>0</td>\n    </tr>\n    <tr>\n      <th>4</th>\n      <td>1b918160214a0b20ce1ae8f9e02f8e0dce243b53</td>\n      <td>988d2f0c4ef3ba8db0e701ab2105555996def4f7</td>\n      <td>8</td>\n      <td>211</td>\n      <td>212</td>\n      <td>80</td>\n      <td>12 days 00:39:27</td>\n      <td>2023-06-01T07:45:26Z</td>\n      <td>2023-06-13T08:24:53Z</td>\n      <td>499.0</td>\n      <td>...</td>\n      <td>261.0</td>\n      <td>304.0</td>\n      <td>304.0</td>\n      <td>500.0</td>\n      <td>262.0</td>\n      <td>262.0</td>\n      <td>304.0</td>\n      <td>693.0</td>\n      <td>1039167000000000</td>\n      <td>0</td>\n    </tr>\n    <tr>\n      <th>...</th>\n      <td>...</td>\n      <td>...</td>\n      <td>...</td>\n      <td>...</td>\n      <td>...</td>\n      <td>...</td>\n      <td>...</td>\n      <td>...</td>\n      <td>...</td>\n      <td>...</td>\n      <td>...</td>\n      <td>...</td>\n      <td>...</td>\n      <td>...</td>\n      <td>...</td>\n      <td>...</td>\n      <td>...</td>\n      <td>...</td>\n      <td>...</td>\n      <td>...</td>\n      <td>...</td>\n    </tr>\n    <tr>\n      <th>1063</th>\n      <td>1afed83b2c4ae750ee8159ae359924e6f8e471e4</td>\n      <td>28c87ce9911a7fc8d0fc50ff94d8351824056335</td>\n      <td>4</td>\n      <td>191</td>\n      <td>40</td>\n      <td>12</td>\n      <td>0 days 00:43:10</td>\n      <td>2019-10-30T01:18:36Z</td>\n      <td>2019-10-30T02:01:46Z</td>\n      <td>16.0</td>\n      <td>...</td>\n      <td>14.0</td>\n      <td>7.0</td>\n      <td>7.0</td>\n      <td>16.0</td>\n      <td>15.0</td>\n      <td>15.0</td>\n      <td>7.0</td>\n      <td>102.0</td>\n      <td>2590000000000</td>\n      <td>0</td>\n    </tr>\n    <tr>\n      <th>1064</th>\n      <td>4bfd6cb1c97a0ffa75e0cd8a0ff8fc758de5f9d6</td>\n      <td>e03ff8b09c54470023a87f9e615cf689fc9234da</td>\n      <td>6</td>\n      <td>470</td>\n      <td>42</td>\n      <td>16</td>\n      <td>0 days 19:01:39</td>\n      <td>2019-09-19T11:01:45Z</td>\n      <td>2019-09-20T06:03:24Z</td>\n      <td>14.0</td>\n      <td>...</td>\n      <td>12.0</td>\n      <td>8.0</td>\n      <td>8.0</td>\n      <td>16.0</td>\n      <td>14.0</td>\n      <td>14.0</td>\n      <td>7.0</td>\n      <td>89.0</td>\n      <td>68499000000000</td>\n      <td>0</td>\n    </tr>\n    <tr>\n      <th>1065</th>\n      <td>5fa746466941d871d4b1246b451f398416952541</td>\n      <td>4bfd6cb1c97a0ffa75e0cd8a0ff8fc758de5f9d6</td>\n      <td>2</td>\n      <td>69</td>\n      <td>49</td>\n      <td>9</td>\n      <td>0 days 00:16:22</td>\n      <td>2019-09-19T09:50:27Z</td>\n      <td>2019-09-19T10:06:49Z</td>\n      <td>14.0</td>\n      <td>...</td>\n      <td>12.0</td>\n      <td>8.0</td>\n      <td>8.0</td>\n      <td>16.0</td>\n      <td>14.0</td>\n      <td>14.0</td>\n      <td>7.0</td>\n      <td>89.0</td>\n      <td>982000000000</td>\n      <td>0</td>\n    </tr>\n    <tr>\n      <th>1066</th>\n      <td>04addef64bbd2567d47acbb7f434245fba7ac8a5</td>\n      <td>3b6a8b4058593b1ff11c44560ebcc56142cda830</td>\n      <td>1</td>\n      <td>11</td>\n      <td>1128</td>\n      <td>27</td>\n      <td>0 days 00:33:35</td>\n      <td>2019-08-13T15:14:02Z</td>\n      <td>2019-08-13T15:47:37Z</td>\n      <td>2.0</td>\n      <td>...</td>\n      <td>3.0</td>\n      <td>3.0</td>\n      <td>3.0</td>\n      <td>16.0</td>\n      <td>14.0</td>\n      <td>14.0</td>\n      <td>7.0</td>\n      <td>89.0</td>\n      <td>2015000000000</td>\n      <td>0</td>\n    </tr>\n    <tr>\n      <th>1067</th>\n      <td>79339df3455c88ba606847d79b3b3a1682c97a67</td>\n      <td>04addef64bbd2567d47acbb7f434245fba7ac8a5</td>\n      <td>1</td>\n      <td>36</td>\n      <td>0</td>\n      <td>1</td>\n      <td>0 days 00:09:14</td>\n      <td>2019-08-13T02:16:57Z</td>\n      <td>2019-08-13T02:26:11Z</td>\n      <td>2.0</td>\n      <td>...</td>\n      <td>3.0</td>\n      <td>3.0</td>\n      <td>3.0</td>\n      <td>14.0</td>\n      <td>12.0</td>\n      <td>12.0</td>\n      <td>8.0</td>\n      <td>89.0</td>\n      <td>554000000000</td>\n      <td>0</td>\n    </tr>\n  </tbody>\n</table>\n<p>1068 rows × 21 columns</p>\n</div>"
     },
     "execution_count": 17,
     "metadata": {},
     "output_type": "execute_result"
    }
   ],
   "source": [
    "df"
   ],
   "metadata": {
    "collapsed": false,
    "ExecuteTime": {
     "end_time": "2023-08-17T06:50:12.097136200Z",
     "start_time": "2023-08-17T06:50:12.065600900Z"
    }
   }
  },
  {
   "cell_type": "code",
   "execution_count": 18,
   "metadata": {
    "ExecuteTime": {
     "end_time": "2023-08-17T06:50:12.132180100Z",
     "start_time": "2023-08-17T06:50:12.099141200Z"
    }
   },
   "outputs": [
    {
     "data": {
      "text/plain": "(1068, 21)"
     },
     "execution_count": 18,
     "metadata": {},
     "output_type": "execute_result"
    }
   ],
   "source": [
    "df.shape"
   ]
  },
  {
   "cell_type": "code",
   "execution_count": 19,
   "metadata": {
    "ExecuteTime": {
     "end_time": "2023-08-17T06:50:12.157718300Z",
     "start_time": "2023-08-17T06:50:12.113651Z"
    }
   },
   "outputs": [],
   "source": [
    "df['timedelta'] = pd.to_timedelta(df['time'])"
   ]
  },
  {
   "cell_type": "code",
   "execution_count": 20,
   "metadata": {
    "ExecuteTime": {
     "end_time": "2023-08-17T06:50:12.180742400Z",
     "start_time": "2023-08-17T06:50:12.130179700Z"
    }
   },
   "outputs": [],
   "source": [
    "# df['formatted_duration'] = df['timedelta'].apply(lambda x: f\"{x.days} days {x.seconds // 3600:02d}:{(x.seconds // 60) % 60:02d}:{x.seconds % 60:02d}\")"
   ]
  },
  {
   "cell_type": "code",
   "execution_count": 21,
   "outputs": [
    {
     "data": {
      "text/plain": "Timedelta('1 days 00:17:13')"
     },
     "execution_count": 21,
     "metadata": {},
     "output_type": "execute_result"
    }
   ],
   "source": [
    "df['timedelta'][:int(0.7 * len(df))].median()"
   ],
   "metadata": {
    "collapsed": false,
    "ExecuteTime": {
     "end_time": "2023-08-17T06:50:12.236697900Z",
     "start_time": "2023-08-17T06:50:12.146198100Z"
    }
   }
  },
  {
   "cell_type": "code",
   "execution_count": 22,
   "outputs": [
    {
     "data": {
      "text/plain": "Timedelta('0 days 00:00:05')"
     },
     "execution_count": 22,
     "metadata": {},
     "output_type": "execute_result"
    }
   ],
   "source": [
    "df['timedelta'].min()"
   ],
   "metadata": {
    "collapsed": false,
    "ExecuteTime": {
     "end_time": "2023-08-17T06:50:12.236697900Z",
     "start_time": "2023-08-17T06:50:12.161719Z"
    }
   }
  },
  {
   "cell_type": "code",
   "execution_count": 24,
   "outputs": [
    {
     "data": {
      "text/plain": "Timedelta('110 days 16:44:58')"
     },
     "execution_count": 24,
     "metadata": {},
     "output_type": "execute_result"
    }
   ],
   "source": [
    "df['timedelta'].max()"
   ],
   "metadata": {
    "collapsed": false,
    "ExecuteTime": {
     "end_time": "2023-08-17T06:50:12.238696100Z",
     "start_time": "2023-08-17T06:50:12.209106900Z"
    }
   }
  },
  {
   "cell_type": "code",
   "execution_count": 25,
   "metadata": {
    "ExecuteTime": {
     "end_time": "2023-08-17T06:50:12.241697700Z",
     "start_time": "2023-08-17T06:50:12.224715600Z"
    }
   },
   "outputs": [
    {
     "name": "stdout",
     "output_type": "stream",
     "text": [
      "0 days 00:00:05\n",
      "110 days 16:44:58\n"
     ]
    },
    {
     "data": {
      "text/plain": "(1066, 22)"
     },
     "execution_count": 25,
     "metadata": {},
     "output_type": "execute_result"
    }
   ],
   "source": [
    "cluster_0 = df[df['cluster'] == 0]\n",
    "print(cluster_0['timedelta'].min())\n",
    "print(cluster_0['timedelta'].max())\n",
    "cluster_0.shape"
   ]
  },
  {
   "cell_type": "code",
   "execution_count": 26,
   "outputs": [
    {
     "data": {
      "text/plain": "           total_time  begin_Bloaters  end_Bloaters\n0     3 days 01:27:48           262.0         261.0\n1     3 days 04:15:10           262.0         262.0\n2     0 days 05:24:03           262.0         261.0\n3     4 days 00:22:26           262.0         261.0\n4    12 days 00:39:27           261.0         262.0\n...               ...             ...           ...\n1063  0 days 00:43:10            14.0          15.0\n1064  0 days 19:01:39            12.0          14.0\n1065  0 days 00:16:22            12.0          14.0\n1066  0 days 00:33:35             3.0          14.0\n1067  0 days 00:09:14             3.0          12.0\n\n[1066 rows x 3 columns]",
      "text/html": "<div>\n<style scoped>\n    .dataframe tbody tr th:only-of-type {\n        vertical-align: middle;\n    }\n\n    .dataframe tbody tr th {\n        vertical-align: top;\n    }\n\n    .dataframe thead th {\n        text-align: right;\n    }\n</style>\n<table border=\"1\" class=\"dataframe\">\n  <thead>\n    <tr style=\"text-align: right;\">\n      <th></th>\n      <th>total_time</th>\n      <th>begin_Bloaters</th>\n      <th>end_Bloaters</th>\n    </tr>\n  </thead>\n  <tbody>\n    <tr>\n      <th>0</th>\n      <td>3 days 01:27:48</td>\n      <td>262.0</td>\n      <td>261.0</td>\n    </tr>\n    <tr>\n      <th>1</th>\n      <td>3 days 04:15:10</td>\n      <td>262.0</td>\n      <td>262.0</td>\n    </tr>\n    <tr>\n      <th>2</th>\n      <td>0 days 05:24:03</td>\n      <td>262.0</td>\n      <td>261.0</td>\n    </tr>\n    <tr>\n      <th>3</th>\n      <td>4 days 00:22:26</td>\n      <td>262.0</td>\n      <td>261.0</td>\n    </tr>\n    <tr>\n      <th>4</th>\n      <td>12 days 00:39:27</td>\n      <td>261.0</td>\n      <td>262.0</td>\n    </tr>\n    <tr>\n      <th>...</th>\n      <td>...</td>\n      <td>...</td>\n      <td>...</td>\n    </tr>\n    <tr>\n      <th>1063</th>\n      <td>0 days 00:43:10</td>\n      <td>14.0</td>\n      <td>15.0</td>\n    </tr>\n    <tr>\n      <th>1064</th>\n      <td>0 days 19:01:39</td>\n      <td>12.0</td>\n      <td>14.0</td>\n    </tr>\n    <tr>\n      <th>1065</th>\n      <td>0 days 00:16:22</td>\n      <td>12.0</td>\n      <td>14.0</td>\n    </tr>\n    <tr>\n      <th>1066</th>\n      <td>0 days 00:33:35</td>\n      <td>3.0</td>\n      <td>14.0</td>\n    </tr>\n    <tr>\n      <th>1067</th>\n      <td>0 days 00:09:14</td>\n      <td>3.0</td>\n      <td>12.0</td>\n    </tr>\n  </tbody>\n</table>\n<p>1066 rows × 3 columns</p>\n</div>"
     },
     "execution_count": 26,
     "metadata": {},
     "output_type": "execute_result"
    }
   ],
   "source": [
    "cluster_0[['total_time','begin_Bloaters', 'end_Bloaters']]"
   ],
   "metadata": {
    "collapsed": false,
    "ExecuteTime": {
     "end_time": "2023-08-17T06:50:12.258715200Z",
     "start_time": "2023-08-17T06:50:12.240699200Z"
    }
   }
  },
  {
   "cell_type": "code",
   "execution_count": 27,
   "outputs": [
    {
     "data": {
      "text/plain": "           total_time  begin_Couplers  end_Couplers\n0     3 days 01:27:48           304.0         304.0\n1     3 days 04:15:10           304.0         304.0\n2     0 days 05:24:03           304.0         304.0\n3     4 days 00:22:26           304.0         304.0\n4    12 days 00:39:27           304.0         304.0\n...               ...             ...           ...\n1063  0 days 00:43:10             7.0           7.0\n1064  0 days 19:01:39             8.0           7.0\n1065  0 days 00:16:22             8.0           7.0\n1066  0 days 00:33:35             3.0           7.0\n1067  0 days 00:09:14             3.0           8.0\n\n[1066 rows x 3 columns]",
      "text/html": "<div>\n<style scoped>\n    .dataframe tbody tr th:only-of-type {\n        vertical-align: middle;\n    }\n\n    .dataframe tbody tr th {\n        vertical-align: top;\n    }\n\n    .dataframe thead th {\n        text-align: right;\n    }\n</style>\n<table border=\"1\" class=\"dataframe\">\n  <thead>\n    <tr style=\"text-align: right;\">\n      <th></th>\n      <th>total_time</th>\n      <th>begin_Couplers</th>\n      <th>end_Couplers</th>\n    </tr>\n  </thead>\n  <tbody>\n    <tr>\n      <th>0</th>\n      <td>3 days 01:27:48</td>\n      <td>304.0</td>\n      <td>304.0</td>\n    </tr>\n    <tr>\n      <th>1</th>\n      <td>3 days 04:15:10</td>\n      <td>304.0</td>\n      <td>304.0</td>\n    </tr>\n    <tr>\n      <th>2</th>\n      <td>0 days 05:24:03</td>\n      <td>304.0</td>\n      <td>304.0</td>\n    </tr>\n    <tr>\n      <th>3</th>\n      <td>4 days 00:22:26</td>\n      <td>304.0</td>\n      <td>304.0</td>\n    </tr>\n    <tr>\n      <th>4</th>\n      <td>12 days 00:39:27</td>\n      <td>304.0</td>\n      <td>304.0</td>\n    </tr>\n    <tr>\n      <th>...</th>\n      <td>...</td>\n      <td>...</td>\n      <td>...</td>\n    </tr>\n    <tr>\n      <th>1063</th>\n      <td>0 days 00:43:10</td>\n      <td>7.0</td>\n      <td>7.0</td>\n    </tr>\n    <tr>\n      <th>1064</th>\n      <td>0 days 19:01:39</td>\n      <td>8.0</td>\n      <td>7.0</td>\n    </tr>\n    <tr>\n      <th>1065</th>\n      <td>0 days 00:16:22</td>\n      <td>8.0</td>\n      <td>7.0</td>\n    </tr>\n    <tr>\n      <th>1066</th>\n      <td>0 days 00:33:35</td>\n      <td>3.0</td>\n      <td>7.0</td>\n    </tr>\n    <tr>\n      <th>1067</th>\n      <td>0 days 00:09:14</td>\n      <td>3.0</td>\n      <td>8.0</td>\n    </tr>\n  </tbody>\n</table>\n<p>1066 rows × 3 columns</p>\n</div>"
     },
     "execution_count": 27,
     "metadata": {},
     "output_type": "execute_result"
    }
   ],
   "source": [
    "cluster_0[['total_time', 'begin_Couplers', 'end_Couplers']]"
   ],
   "metadata": {
    "collapsed": false,
    "ExecuteTime": {
     "end_time": "2023-08-17T06:50:12.329244100Z",
     "start_time": "2023-08-17T06:50:12.255710800Z"
    }
   }
  },
  {
   "cell_type": "code",
   "execution_count": 28,
   "metadata": {
    "ExecuteTime": {
     "end_time": "2023-08-17T06:50:12.360342400Z",
     "start_time": "2023-08-17T06:50:12.271238600Z"
    }
   },
   "outputs": [
    {
     "name": "stdout",
     "output_type": "stream",
     "text": [
      "0 days 12:51:29\n",
      "2 days 02:35:22\n"
     ]
    },
    {
     "data": {
      "text/plain": "(2, 22)"
     },
     "execution_count": 28,
     "metadata": {},
     "output_type": "execute_result"
    }
   ],
   "source": [
    "cluster_1 = df[df['cluster'] == 1]\n",
    "print(cluster_1['timedelta'].min())\n",
    "print(cluster_1['timedelta'].max())\n",
    "cluster_1.shape"
   ]
  },
  {
   "cell_type": "code",
   "execution_count": 29,
   "metadata": {
    "ExecuteTime": {
     "end_time": "2023-08-17T06:50:12.360342400Z",
     "start_time": "2023-08-17T06:50:12.288969800Z"
    }
   },
   "outputs": [
    {
     "name": "stdout",
     "output_type": "stream",
     "text": [
      "NaT\n",
      "NaT\n"
     ]
    },
    {
     "data": {
      "text/plain": "(0, 22)"
     },
     "execution_count": 29,
     "metadata": {},
     "output_type": "execute_result"
    }
   ],
   "source": [
    "cluster_2 = df[df['cluster'] == 2]\n",
    "print(cluster_2['timedelta'].min())\n",
    "print(cluster_2['timedelta'].max())\n",
    "cluster_2.shape"
   ]
  },
  {
   "cell_type": "code",
   "execution_count": 31,
   "outputs": [],
   "source": [
    "import numpy as np\n",
    "\n",
    "def remove_outliers_madn(data, threshold=2.24):\n",
    "    median = np.median(data)\n",
    "    mad = np.median(np.abs(data - median))\n",
    "\n",
    "    # Calculate modified Z-score for each data point\n",
    "    modified_z_scores = 0.6745 * (data - median) / mad\n",
    "\n",
    "    # Identify and remove outliers based on the threshold\n",
    "    filtered_data = data[abs(modified_z_scores) < threshold]\n",
    "\n",
    "    return filtered_data"
   ],
   "metadata": {
    "collapsed": false,
    "ExecuteTime": {
     "end_time": "2023-08-17T11:05:09.532495700Z",
     "start_time": "2023-08-17T11:05:09.509157200Z"
    }
   }
  }
 ],
 "metadata": {
  "kernelspec": {
   "display_name": "Python 3",
   "language": "python",
   "name": "python3"
  },
  "language_info": {
   "codemirror_mode": {
    "name": "ipython",
    "version": 3
   },
   "file_extension": ".py",
   "mimetype": "text/x-python",
   "name": "python",
   "nbconvert_exporter": "python",
   "pygments_lexer": "ipython3",
   "version": "3.10.9"
  }
 },
 "nbformat": 4,
 "nbformat_minor": 0
}
