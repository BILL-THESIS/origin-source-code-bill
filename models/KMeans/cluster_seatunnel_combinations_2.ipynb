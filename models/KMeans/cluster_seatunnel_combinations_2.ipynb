{
 "cells": [
  {
   "cell_type": "code",
   "execution_count": 1,
   "metadata": {
    "collapsed": true,
    "ExecuteTime": {
     "end_time": "2023-09-04T09:17:27.743915600Z",
     "start_time": "2023-09-04T09:17:26.616199900Z"
    }
   },
   "outputs": [],
   "source": [
    "from datetime import timedelta\n",
    "import pandas as pd\n",
    "from sklearn.preprocessing import MinMaxScaler\n",
    "from sklearn.cluster import KMeans\n",
    "from sklearn.metrics import silhouette_score\n",
    "from itertools import chain, combinations, permutations\n",
    "import numpy as np"
   ]
  },
  {
   "cell_type": "code",
   "execution_count": 2,
   "metadata": {
    "collapsed": false,
    "ExecuteTime": {
     "end_time": "2023-09-04T09:17:28.007745700Z",
     "start_time": "2023-09-04T09:17:27.741795700Z"
    }
   },
   "outputs": [],
   "source": [
    "df = pd.read_parquet('../../Sonar/seatunnel_all_information.parquet')"
   ]
  },
  {
   "cell_type": "code",
   "execution_count": 3,
   "metadata": {
    "collapsed": false,
    "ExecuteTime": {
     "end_time": "2023-09-04T09:17:28.023228500Z",
     "start_time": "2023-09-04T09:17:28.011212100Z"
    }
   },
   "outputs": [],
   "source": [
    "df['time'] = df['total_time'].astype('int64')"
   ]
  },
  {
   "cell_type": "code",
   "execution_count": 4,
   "metadata": {
    "collapsed": false,
    "ExecuteTime": {
     "end_time": "2023-09-04T09:17:28.051250100Z",
     "start_time": "2023-09-04T09:17:28.026222200Z"
    }
   },
   "outputs": [],
   "source": [
    "X = df.loc[:, ~df.columns.isin(['begin_sha', 'end_sha', 'begin_time', 'end_time',\n",
    "                                'total_time',\n",
    "                                'time'\n",
    "                                ])]"
   ]
  },
  {
   "cell_type": "code",
   "execution_count": 5,
   "metadata": {
    "collapsed": false,
    "ExecuteTime": {
     "end_time": "2023-09-04T09:17:28.073235600Z",
     "start_time": "2023-09-04T09:17:28.042222400Z"
    }
   },
   "outputs": [
    {
     "data": {
      "text/plain": "   commits  additions  deletions  changed_files begin_Dispensables  \\\n0        1         10          4              3              500.0   \n\n   begin_Bloaters  begin_Change Preventers  begin_Couplers  \\\n0           262.0                    262.0           304.0   \n\n   begin_Object-Orientation Abusers  end_Dispensables  end_Bloaters  \\\n0                             304.0             500.0         261.0   \n\n   end_Change Preventers  end_Couplers  end_Object-Orientation Abusers  \\\n0                  261.0         304.0                           693.0   \n\n              time  \n0  264468000000000  ",
      "text/html": "<div>\n<style scoped>\n    .dataframe tbody tr th:only-of-type {\n        vertical-align: middle;\n    }\n\n    .dataframe tbody tr th {\n        vertical-align: top;\n    }\n\n    .dataframe thead th {\n        text-align: right;\n    }\n</style>\n<table border=\"1\" class=\"dataframe\">\n  <thead>\n    <tr style=\"text-align: right;\">\n      <th></th>\n      <th>commits</th>\n      <th>additions</th>\n      <th>deletions</th>\n      <th>changed_files</th>\n      <th>begin_Dispensables</th>\n      <th>begin_Bloaters</th>\n      <th>begin_Change Preventers</th>\n      <th>begin_Couplers</th>\n      <th>begin_Object-Orientation Abusers</th>\n      <th>end_Dispensables</th>\n      <th>end_Bloaters</th>\n      <th>end_Change Preventers</th>\n      <th>end_Couplers</th>\n      <th>end_Object-Orientation Abusers</th>\n      <th>time</th>\n    </tr>\n  </thead>\n  <tbody>\n    <tr>\n      <th>0</th>\n      <td>1</td>\n      <td>10</td>\n      <td>4</td>\n      <td>3</td>\n      <td>500.0</td>\n      <td>262.0</td>\n      <td>262.0</td>\n      <td>304.0</td>\n      <td>304.0</td>\n      <td>500.0</td>\n      <td>261.0</td>\n      <td>261.0</td>\n      <td>304.0</td>\n      <td>693.0</td>\n      <td>264468000000000</td>\n    </tr>\n  </tbody>\n</table>\n</div>"
     },
     "execution_count": 5,
     "metadata": {},
     "output_type": "execute_result"
    }
   ],
   "source": [
    "X.head(1)"
   ]
  },
  {
   "cell_type": "code",
   "execution_count": 6,
   "metadata": {
    "collapsed": false,
    "ExecuteTime": {
     "end_time": "2023-09-04T09:17:28.227282500Z",
     "start_time": "2023-09-04T09:17:28.075234Z"
    }
   },
   "outputs": [
    {
     "name": "stderr",
     "output_type": "stream",
     "text": [
      "IOPub data rate exceeded.\n",
      "The notebook server will temporarily stop sending output\n",
      "to the client in order to avoid crashing it.\n",
      "To change this limit, set the config variable\n",
      "`--NotebookApp.iopub_data_rate_limit`.\n",
      "\n",
      "Current values:\n",
      "NotebookApp.iopub_data_rate_limit=1000000.0 (bytes/sec)\n",
      "NotebookApp.rate_limit_window=3.0 (secs)\n",
      "\n"
     ]
    }
   ],
   "source": [
    "# Step 1: Loop through combinations\n",
    "def column_combinations(data_frame):\n",
    "    columns = data_frame.columns\n",
    "    col_combinations = []\n",
    "\n",
    "    for r in range(1, len(columns) + 1):\n",
    "        for combo in combinations(columns, r):\n",
    "            col_combinations.append(combo)\n",
    "\n",
    "    return col_combinations\n",
    "\n",
    "# Example usage:\n",
    "data = pd.DataFrame({'A': [1, 2, 3], 'B': [4, 5, 6], 'C': [7, 8, 9]})\n",
    "combinations = column_combinations(X)\n",
    "print(combinations)\n"
   ]
  },
  {
   "cell_type": "code",
   "execution_count": 7,
   "metadata": {
    "collapsed": false,
    "ExecuteTime": {
     "end_time": "2023-09-04T09:17:28.230248800Z",
     "start_time": "2023-09-04T09:17:28.208250200Z"
    }
   },
   "outputs": [],
   "source": [
    "# # Step 2: Prepare the data set from loop combinations\n",
    "# def prepare_data_set(data_frame, combination):\n",
    "#     subset = data_frame[list(combination)]\n",
    "#     return subset"
   ]
  },
  {
   "cell_type": "code",
   "execution_count": 8,
   "metadata": {
    "collapsed": false,
    "ExecuteTime": {
     "end_time": "2023-09-04T09:17:28.230248800Z",
     "start_time": "2023-09-04T09:17:28.211249200Z"
    }
   },
   "outputs": [],
   "source": [
    "# Step 3: Use MinMaxScaler\n",
    "def scale_data(data,columns):\n",
    "    scaler = MinMaxScaler()\n",
    "    scaled_data = scaler.fit_transform(data[columns])\n",
    "\n",
    "    return pd.DataFrame(scaled_data)"
   ]
  },
  {
   "cell_type": "code",
   "execution_count": 9,
   "metadata": {
    "ExecuteTime": {
     "end_time": "2023-09-04T09:17:28.231249100Z",
     "start_time": "2023-09-04T09:17:28.214247900Z"
    }
   },
   "outputs": [],
   "source": [
    "# co = scale_data(X, X.columns)\n",
    "# co"
   ]
  },
  {
   "cell_type": "code",
   "execution_count": 10,
   "metadata": {
    "collapsed": false,
    "ExecuteTime": {
     "end_time": "2023-09-04T09:17:28.292766200Z",
     "start_time": "2023-09-04T09:17:28.218248Z"
    }
   },
   "outputs": [],
   "source": [
    "# Step 4: Calculate silhouette score and sort clusters\n",
    "def get_optimal_clusters(data):\n",
    "    scores = []\n",
    "    for n_clusters in range(2, len(data)):\n",
    "        km = KMeans(n_clusters = n_clusters)\n",
    "        km.fit(data)\n",
    "        sil_avg = silhouette_score(data, km.labels_).round(4)\n",
    "        scores.append([sil_avg , n_clusters])\n",
    "    # scores.sort(reverse=True)\n",
    "    # return scores[:5]\n",
    "    return scores"
   ]
  },
  {
   "cell_type": "code",
   "execution_count": 11,
   "metadata": {
    "collapsed": false,
    "ExecuteTime": {
     "end_time": "2023-09-04T09:17:28.305785200Z",
     "start_time": "2023-09-04T09:17:28.231249100Z"
    }
   },
   "outputs": [],
   "source": [
    "# # Step 5: Perform KMeans clustering\n",
    "# def perform_clustering(data_original, df_process,  num_clusters):\n",
    "#     kmeans = KMeans(n_clusters=num_clusters)\n",
    "#     # kmeans.fit_predict(df_process)\n",
    "#     cluster_labels = kmeans.fit_predict(df_process)\n",
    "#     data_original['cluster'] = cluster_labels\n",
    "#     return data_original"
   ]
  },
  {
   "cell_type": "code",
   "execution_count": 12,
   "metadata": {
    "ExecuteTime": {
     "end_time": "2023-09-04T09:17:28.306766300Z",
     "start_time": "2023-09-04T09:17:28.260248400Z"
    }
   },
   "outputs": [],
   "source": [
    "# data = X.iloc[:, [0,1,2]]"
   ]
  },
  {
   "cell_type": "code",
   "execution_count": 13,
   "metadata": {
    "ExecuteTime": {
     "end_time": "2023-09-04T09:17:28.307766300Z",
     "start_time": "2023-09-04T09:17:28.299769800Z"
    }
   },
   "outputs": [],
   "source": [
    "# num_clusters = get_optimal_clusters(data)"
   ]
  },
  {
   "cell_type": "code",
   "execution_count": 14,
   "metadata": {
    "ExecuteTime": {
     "end_time": "2023-09-04T09:17:28.351766400Z",
     "start_time": "2023-09-04T09:17:28.308766Z"
    }
   },
   "outputs": [],
   "source": [
    "# num_clusters"
   ]
  },
  {
   "cell_type": "code",
   "execution_count": 15,
   "metadata": {
    "ExecuteTime": {
     "end_time": "2023-09-04T09:17:28.361765900Z",
     "start_time": "2023-09-04T09:17:28.324767100Z"
    }
   },
   "outputs": [],
   "source": [
    "# num_clusters.sort()"
   ]
  },
  {
   "cell_type": "code",
   "execution_count": 16,
   "metadata": {
    "ExecuteTime": {
     "end_time": "2023-09-04T09:17:28.361765900Z",
     "start_time": "2023-09-04T09:17:28.340774200Z"
    }
   },
   "outputs": [],
   "source": [
    "# num_clusters = num_clusters[::-1]"
   ]
  },
  {
   "cell_type": "code",
   "execution_count": 17,
   "metadata": {
    "ExecuteTime": {
     "end_time": "2023-09-04T09:17:28.376768400Z",
     "start_time": "2023-09-04T09:17:28.356765700Z"
    }
   },
   "outputs": [],
   "source": [
    "# num_clusters[:5]"
   ]
  },
  {
   "cell_type": "code",
   "execution_count": 18,
   "metadata": {
    "ExecuteTime": {
     "end_time": "2023-09-04T09:17:28.401167300Z",
     "start_time": "2023-09-04T09:17:28.376768400Z"
    }
   },
   "outputs": [],
   "source": [
    "# from sklearn.cluster import KMeans\n",
    "\n",
    "# kmeans = KMeans(n_clusters=3)\n",
    "# kmeans"
   ]
  },
  {
   "cell_type": "code",
   "execution_count": 19,
   "metadata": {
    "ExecuteTime": {
     "end_time": "2023-09-04T09:17:28.414169300Z",
     "start_time": "2023-09-04T09:17:28.386776900Z"
    }
   },
   "outputs": [],
   "source": [
    "# cluster_labels = kmeans.fit_predict(X)"
   ]
  },
  {
   "cell_type": "code",
   "execution_count": 20,
   "metadata": {
    "ExecuteTime": {
     "end_time": "2023-09-04T09:17:28.418168200Z",
     "start_time": "2023-09-04T09:17:28.402169500Z"
    }
   },
   "outputs": [],
   "source": [
    "# cluster_labels"
   ]
  },
  {
   "cell_type": "code",
   "execution_count": 21,
   "metadata": {
    "ExecuteTime": {
     "end_time": "2023-09-04T09:17:28.445168Z",
     "start_time": "2023-09-04T09:17:28.418168200Z"
    }
   },
   "outputs": [],
   "source": [
    "# df['cluster'] = cluster_labels"
   ]
  },
  {
   "cell_type": "code",
   "execution_count": 22,
   "metadata": {
    "ExecuteTime": {
     "end_time": "2023-09-04T09:17:28.455166400Z",
     "start_time": "2023-09-04T09:17:28.433167300Z"
    }
   },
   "outputs": [],
   "source": [
    "# clustered_data = perform_clustering(df, X, num_clusters)"
   ]
  },
  {
   "cell_type": "code",
   "execution_count": 23,
   "metadata": {
    "collapsed": false,
    "ExecuteTime": {
     "end_time": "2023-09-04T09:17:28.465165300Z",
     "start_time": "2023-09-04T09:17:28.448169500Z"
    }
   },
   "outputs": [],
   "source": [
    "# Step 6, 7, and 8: Get cluster information\n",
    "def get_cluster_info(cluster_data):\n",
    "    cluster_info = []\n",
    "    # Replace with your time column name\n",
    "    time_column = 'total_time'\n",
    "\n",
    "    for cluster_num in cluster_data['cluster'].unique():\n",
    "        cluster_subset = cluster_data[cluster_data['cluster'] == cluster_num]\n",
    "        time_min = cluster_subset[time_column].min()\n",
    "        time_max = cluster_subset[time_column].max()\n",
    "        time_std = cluster_subset[time_column].std()\n",
    "        time_minus_2std = time_min - 2 * time_std\n",
    "        time_minus_1std = time_min - time_std\n",
    "        time_plus_1std = time_max + time_std\n",
    "        time_plus_2std = time_max + 2 * time_std\n",
    "        time_avg = cluster_subset[(cluster_subset[time_column] >= time_minus_1std) & (cluster_subset[time_column] <= time_plus_1std)][time_column].mean()\n",
    "\n",
    "        cluster_info.append({\n",
    "            'cluster_num': cluster_num,\n",
    "            'time_min': time_min,\n",
    "            'time_max': time_max,\n",
    "            'time_minus_2std': time_minus_2std,\n",
    "            'time_minus_1std': time_minus_1std,\n",
    "            'time_avg': time_avg,\n",
    "            'time_plus_1std': time_plus_1std,\n",
    "            'time_plus_2std': time_plus_2std\n",
    "        })\n",
    "\n",
    "    return cluster_info"
   ]
  },
  {
   "cell_type": "code",
   "execution_count": null,
   "metadata": {
    "collapsed": false,
    "is_executing": true
   },
   "outputs": [
    {
     "name": "stderr",
     "output_type": "stream",
     "text": [
      "C:\\Users\\patcharaprapa_k\\AppData\\Local\\anaconda3\\lib\\site-packages\\sklearn\\cluster\\_kmeans.py:870: FutureWarning: The default value of `n_init` will change from 10 to 'auto' in 1.4. Set the value of `n_init` explicitly to suppress the warning\n",
      "  warnings.warn(\n",
      "C:\\Users\\patcharaprapa_k\\AppData\\Local\\anaconda3\\lib\\site-packages\\sklearn\\cluster\\_kmeans.py:1382: UserWarning: KMeans is known to have a memory leak on Windows with MKL, when there are less chunks than available threads. You can avoid it by setting the environment variable OMP_NUM_THREADS=5.\n",
      "  warnings.warn(\n",
      "C:\\Users\\patcharaprapa_k\\AppData\\Local\\anaconda3\\lib\\site-packages\\sklearn\\cluster\\_kmeans.py:870: FutureWarning: The default value of `n_init` will change from 10 to 'auto' in 1.4. Set the value of `n_init` explicitly to suppress the warning\n",
      "  warnings.warn(\n",
      "C:\\Users\\patcharaprapa_k\\AppData\\Local\\anaconda3\\lib\\site-packages\\sklearn\\cluster\\_kmeans.py:1382: UserWarning: KMeans is known to have a memory leak on Windows with MKL, when there are less chunks than available threads. You can avoid it by setting the environment variable OMP_NUM_THREADS=5.\n",
      "  warnings.warn(\n",
      "C:\\Users\\patcharaprapa_k\\AppData\\Local\\anaconda3\\lib\\site-packages\\sklearn\\cluster\\_kmeans.py:870: FutureWarning: The default value of `n_init` will change from 10 to 'auto' in 1.4. Set the value of `n_init` explicitly to suppress the warning\n",
      "  warnings.warn(\n",
      "C:\\Users\\patcharaprapa_k\\AppData\\Local\\anaconda3\\lib\\site-packages\\sklearn\\cluster\\_kmeans.py:1382: UserWarning: KMeans is known to have a memory leak on Windows with MKL, when there are less chunks than available threads. You can avoid it by setting the environment variable OMP_NUM_THREADS=5.\n",
      "  warnings.warn(\n",
      "C:\\Users\\patcharaprapa_k\\AppData\\Local\\anaconda3\\lib\\site-packages\\sklearn\\cluster\\_kmeans.py:870: FutureWarning: The default value of `n_init` will change from 10 to 'auto' in 1.4. Set the value of `n_init` explicitly to suppress the warning\n",
      "  warnings.warn(\n",
      "C:\\Users\\patcharaprapa_k\\AppData\\Local\\anaconda3\\lib\\site-packages\\sklearn\\cluster\\_kmeans.py:1382: UserWarning: KMeans is known to have a memory leak on Windows with MKL, when there are less chunks than available threads. You can avoid it by setting the environment variable OMP_NUM_THREADS=5.\n",
      "  warnings.warn(\n",
      "C:\\Users\\patcharaprapa_k\\AppData\\Local\\anaconda3\\lib\\site-packages\\sklearn\\cluster\\_kmeans.py:870: FutureWarning: The default value of `n_init` will change from 10 to 'auto' in 1.4. Set the value of `n_init` explicitly to suppress the warning\n",
      "  warnings.warn(\n",
      "C:\\Users\\patcharaprapa_k\\AppData\\Local\\anaconda3\\lib\\site-packages\\sklearn\\cluster\\_kmeans.py:1382: UserWarning: KMeans is known to have a memory leak on Windows with MKL, when there are less chunks than available threads. You can avoid it by setting the environment variable OMP_NUM_THREADS=5.\n",
      "  warnings.warn(\n",
      "C:\\Users\\patcharaprapa_k\\AppData\\Local\\anaconda3\\lib\\site-packages\\sklearn\\cluster\\_kmeans.py:870: FutureWarning: The default value of `n_init` will change from 10 to 'auto' in 1.4. Set the value of `n_init` explicitly to suppress the warning\n",
      "  warnings.warn(\n",
      "C:\\Users\\patcharaprapa_k\\AppData\\Local\\anaconda3\\lib\\site-packages\\sklearn\\cluster\\_kmeans.py:1382: UserWarning: KMeans is known to have a memory leak on Windows with MKL, when there are less chunks than available threads. You can avoid it by setting the environment variable OMP_NUM_THREADS=5.\n",
      "  warnings.warn(\n",
      "C:\\Users\\patcharaprapa_k\\AppData\\Local\\anaconda3\\lib\\site-packages\\sklearn\\cluster\\_kmeans.py:870: FutureWarning: The default value of `n_init` will change from 10 to 'auto' in 1.4. Set the value of `n_init` explicitly to suppress the warning\n",
      "  warnings.warn(\n",
      "C:\\Users\\patcharaprapa_k\\AppData\\Local\\anaconda3\\lib\\site-packages\\sklearn\\cluster\\_kmeans.py:1382: UserWarning: KMeans is known to have a memory leak on Windows with MKL, when there are less chunks than available threads. You can avoid it by setting the environment variable OMP_NUM_THREADS=5.\n",
      "  warnings.warn(\n",
      "C:\\Users\\patcharaprapa_k\\AppData\\Local\\anaconda3\\lib\\site-packages\\sklearn\\cluster\\_kmeans.py:870: FutureWarning: The default value of `n_init` will change from 10 to 'auto' in 1.4. Set the value of `n_init` explicitly to suppress the warning\n",
      "  warnings.warn(\n",
      "C:\\Users\\patcharaprapa_k\\AppData\\Local\\anaconda3\\lib\\site-packages\\sklearn\\cluster\\_kmeans.py:1382: UserWarning: KMeans is known to have a memory leak on Windows with MKL, when there are less chunks than available threads. You can avoid it by setting the environment variable OMP_NUM_THREADS=5.\n",
      "  warnings.warn(\n",
      "C:\\Users\\patcharaprapa_k\\AppData\\Local\\anaconda3\\lib\\site-packages\\sklearn\\cluster\\_kmeans.py:870: FutureWarning: The default value of `n_init` will change from 10 to 'auto' in 1.4. Set the value of `n_init` explicitly to suppress the warning\n",
      "  warnings.warn(\n",
      "C:\\Users\\patcharaprapa_k\\AppData\\Local\\anaconda3\\lib\\site-packages\\sklearn\\cluster\\_kmeans.py:1382: UserWarning: KMeans is known to have a memory leak on Windows with MKL, when there are less chunks than available threads. You can avoid it by setting the environment variable OMP_NUM_THREADS=5.\n",
      "  warnings.warn(\n",
      "C:\\Users\\patcharaprapa_k\\AppData\\Local\\anaconda3\\lib\\site-packages\\sklearn\\cluster\\_kmeans.py:870: FutureWarning: The default value of `n_init` will change from 10 to 'auto' in 1.4. Set the value of `n_init` explicitly to suppress the warning\n",
      "  warnings.warn(\n",
      "C:\\Users\\patcharaprapa_k\\AppData\\Local\\anaconda3\\lib\\site-packages\\sklearn\\cluster\\_kmeans.py:1382: UserWarning: KMeans is known to have a memory leak on Windows with MKL, when there are less chunks than available threads. You can avoid it by setting the environment variable OMP_NUM_THREADS=5.\n",
      "  warnings.warn(\n",
      "C:\\Users\\patcharaprapa_k\\AppData\\Local\\anaconda3\\lib\\site-packages\\sklearn\\cluster\\_kmeans.py:870: FutureWarning: The default value of `n_init` will change from 10 to 'auto' in 1.4. Set the value of `n_init` explicitly to suppress the warning\n",
      "  warnings.warn(\n",
      "C:\\Users\\patcharaprapa_k\\AppData\\Local\\anaconda3\\lib\\site-packages\\sklearn\\cluster\\_kmeans.py:1382: UserWarning: KMeans is known to have a memory leak on Windows with MKL, when there are less chunks than available threads. You can avoid it by setting the environment variable OMP_NUM_THREADS=5.\n",
      "  warnings.warn(\n",
      "C:\\Users\\patcharaprapa_k\\AppData\\Local\\anaconda3\\lib\\site-packages\\sklearn\\cluster\\_kmeans.py:870: FutureWarning: The default value of `n_init` will change from 10 to 'auto' in 1.4. Set the value of `n_init` explicitly to suppress the warning\n",
      "  warnings.warn(\n",
      "C:\\Users\\patcharaprapa_k\\AppData\\Local\\anaconda3\\lib\\site-packages\\sklearn\\cluster\\_kmeans.py:1382: UserWarning: KMeans is known to have a memory leak on Windows with MKL, when there are less chunks than available threads. You can avoid it by setting the environment variable OMP_NUM_THREADS=5.\n",
      "  warnings.warn(\n",
      "C:\\Users\\patcharaprapa_k\\AppData\\Local\\anaconda3\\lib\\site-packages\\sklearn\\cluster\\_kmeans.py:870: FutureWarning: The default value of `n_init` will change from 10 to 'auto' in 1.4. Set the value of `n_init` explicitly to suppress the warning\n",
      "  warnings.warn(\n",
      "C:\\Users\\patcharaprapa_k\\AppData\\Local\\anaconda3\\lib\\site-packages\\sklearn\\cluster\\_kmeans.py:1382: UserWarning: KMeans is known to have a memory leak on Windows with MKL, when there are less chunks than available threads. You can avoid it by setting the environment variable OMP_NUM_THREADS=5.\n",
      "  warnings.warn(\n",
      "C:\\Users\\patcharaprapa_k\\AppData\\Local\\anaconda3\\lib\\site-packages\\sklearn\\cluster\\_kmeans.py:870: FutureWarning: The default value of `n_init` will change from 10 to 'auto' in 1.4. Set the value of `n_init` explicitly to suppress the warning\n",
      "  warnings.warn(\n",
      "C:\\Users\\patcharaprapa_k\\AppData\\Local\\anaconda3\\lib\\site-packages\\sklearn\\cluster\\_kmeans.py:1382: UserWarning: KMeans is known to have a memory leak on Windows with MKL, when there are less chunks than available threads. You can avoid it by setting the environment variable OMP_NUM_THREADS=5.\n",
      "  warnings.warn(\n",
      "C:\\Users\\patcharaprapa_k\\AppData\\Local\\anaconda3\\lib\\site-packages\\sklearn\\cluster\\_kmeans.py:870: FutureWarning: The default value of `n_init` will change from 10 to 'auto' in 1.4. Set the value of `n_init` explicitly to suppress the warning\n",
      "  warnings.warn(\n",
      "C:\\Users\\patcharaprapa_k\\AppData\\Local\\anaconda3\\lib\\site-packages\\sklearn\\cluster\\_kmeans.py:1382: UserWarning: KMeans is known to have a memory leak on Windows with MKL, when there are less chunks than available threads. You can avoid it by setting the environment variable OMP_NUM_THREADS=5.\n",
      "  warnings.warn(\n",
      "C:\\Users\\patcharaprapa_k\\AppData\\Local\\anaconda3\\lib\\site-packages\\sklearn\\cluster\\_kmeans.py:870: FutureWarning: The default value of `n_init` will change from 10 to 'auto' in 1.4. Set the value of `n_init` explicitly to suppress the warning\n",
      "  warnings.warn(\n",
      "C:\\Users\\patcharaprapa_k\\AppData\\Local\\anaconda3\\lib\\site-packages\\sklearn\\cluster\\_kmeans.py:1382: UserWarning: KMeans is known to have a memory leak on Windows with MKL, when there are less chunks than available threads. You can avoid it by setting the environment variable OMP_NUM_THREADS=5.\n",
      "  warnings.warn(\n",
      "C:\\Users\\patcharaprapa_k\\AppData\\Local\\anaconda3\\lib\\site-packages\\sklearn\\cluster\\_kmeans.py:870: FutureWarning: The default value of `n_init` will change from 10 to 'auto' in 1.4. Set the value of `n_init` explicitly to suppress the warning\n",
      "  warnings.warn(\n",
      "C:\\Users\\patcharaprapa_k\\AppData\\Local\\anaconda3\\lib\\site-packages\\sklearn\\cluster\\_kmeans.py:1382: UserWarning: KMeans is known to have a memory leak on Windows with MKL, when there are less chunks than available threads. You can avoid it by setting the environment variable OMP_NUM_THREADS=5.\n",
      "  warnings.warn(\n",
      "C:\\Users\\patcharaprapa_k\\AppData\\Local\\anaconda3\\lib\\site-packages\\sklearn\\cluster\\_kmeans.py:870: FutureWarning: The default value of `n_init` will change from 10 to 'auto' in 1.4. Set the value of `n_init` explicitly to suppress the warning\n",
      "  warnings.warn(\n",
      "C:\\Users\\patcharaprapa_k\\AppData\\Local\\anaconda3\\lib\\site-packages\\sklearn\\cluster\\_kmeans.py:1382: UserWarning: KMeans is known to have a memory leak on Windows with MKL, when there are less chunks than available threads. You can avoid it by setting the environment variable OMP_NUM_THREADS=5.\n",
      "  warnings.warn(\n",
      "C:\\Users\\patcharaprapa_k\\AppData\\Local\\anaconda3\\lib\\site-packages\\sklearn\\cluster\\_kmeans.py:870: FutureWarning: The default value of `n_init` will change from 10 to 'auto' in 1.4. Set the value of `n_init` explicitly to suppress the warning\n",
      "  warnings.warn(\n",
      "C:\\Users\\patcharaprapa_k\\AppData\\Local\\anaconda3\\lib\\site-packages\\sklearn\\cluster\\_kmeans.py:1382: UserWarning: KMeans is known to have a memory leak on Windows with MKL, when there are less chunks than available threads. You can avoid it by setting the environment variable OMP_NUM_THREADS=5.\n",
      "  warnings.warn(\n",
      "C:\\Users\\patcharaprapa_k\\AppData\\Local\\anaconda3\\lib\\site-packages\\sklearn\\cluster\\_kmeans.py:870: FutureWarning: The default value of `n_init` will change from 10 to 'auto' in 1.4. Set the value of `n_init` explicitly to suppress the warning\n",
      "  warnings.warn(\n",
      "C:\\Users\\patcharaprapa_k\\AppData\\Local\\anaconda3\\lib\\site-packages\\sklearn\\cluster\\_kmeans.py:1382: UserWarning: KMeans is known to have a memory leak on Windows with MKL, when there are less chunks than available threads. You can avoid it by setting the environment variable OMP_NUM_THREADS=5.\n",
      "  warnings.warn(\n",
      "C:\\Users\\patcharaprapa_k\\AppData\\Local\\anaconda3\\lib\\site-packages\\sklearn\\cluster\\_kmeans.py:870: FutureWarning: The default value of `n_init` will change from 10 to 'auto' in 1.4. Set the value of `n_init` explicitly to suppress the warning\n",
      "  warnings.warn(\n",
      "C:\\Users\\patcharaprapa_k\\AppData\\Local\\anaconda3\\lib\\site-packages\\sklearn\\cluster\\_kmeans.py:1382: UserWarning: KMeans is known to have a memory leak on Windows with MKL, when there are less chunks than available threads. You can avoid it by setting the environment variable OMP_NUM_THREADS=5.\n",
      "  warnings.warn(\n",
      "C:\\Users\\patcharaprapa_k\\AppData\\Local\\anaconda3\\lib\\site-packages\\sklearn\\cluster\\_kmeans.py:870: FutureWarning: The default value of `n_init` will change from 10 to 'auto' in 1.4. Set the value of `n_init` explicitly to suppress the warning\n",
      "  warnings.warn(\n",
      "C:\\Users\\patcharaprapa_k\\AppData\\Local\\anaconda3\\lib\\site-packages\\sklearn\\cluster\\_kmeans.py:1382: UserWarning: KMeans is known to have a memory leak on Windows with MKL, when there are less chunks than available threads. You can avoid it by setting the environment variable OMP_NUM_THREADS=5.\n",
      "  warnings.warn(\n",
      "C:\\Users\\patcharaprapa_k\\AppData\\Local\\anaconda3\\lib\\site-packages\\sklearn\\cluster\\_kmeans.py:870: FutureWarning: The default value of `n_init` will change from 10 to 'auto' in 1.4. Set the value of `n_init` explicitly to suppress the warning\n",
      "  warnings.warn(\n",
      "C:\\Users\\patcharaprapa_k\\AppData\\Local\\anaconda3\\lib\\site-packages\\sklearn\\cluster\\_kmeans.py:1382: UserWarning: KMeans is known to have a memory leak on Windows with MKL, when there are less chunks than available threads. You can avoid it by setting the environment variable OMP_NUM_THREADS=5.\n",
      "  warnings.warn(\n",
      "C:\\Users\\patcharaprapa_k\\AppData\\Local\\anaconda3\\lib\\site-packages\\sklearn\\cluster\\_kmeans.py:870: FutureWarning: The default value of `n_init` will change from 10 to 'auto' in 1.4. Set the value of `n_init` explicitly to suppress the warning\n",
      "  warnings.warn(\n",
      "C:\\Users\\patcharaprapa_k\\AppData\\Local\\anaconda3\\lib\\site-packages\\sklearn\\cluster\\_kmeans.py:1382: UserWarning: KMeans is known to have a memory leak on Windows with MKL, when there are less chunks than available threads. You can avoid it by setting the environment variable OMP_NUM_THREADS=5.\n",
      "  warnings.warn(\n"
     ]
    }
   ],
   "source": [
    "from itertools import combinations\n",
    "import pandas as pd\n",
    "\n",
    "# Step 1: Loop through combinations\n",
    "def column_combinations(data_frame):\n",
    "    columns = data_frame.columns\n",
    "    col_combinations = []\n",
    "\n",
    "    for r in range(1, len(columns) + 1):\n",
    "        for combo in combinations(columns, r):\n",
    "            col_combinations.append(combo)\n",
    "\n",
    "    return col_combinations\n",
    "\n",
    "# Main function\n",
    "# def main():\n",
    "    data = X\n",
    "    combinations_list = column_combinations(data)\n",
    "    print('Combinations_list ::::' , combinations_list)\n",
    "\n",
    "    results = []\n",
    "    for combination in combinations_list:\n",
    "        # print('DATA ::', data)\n",
    "        # print('=====================')\n",
    "\n",
    "        scaled_data = scale_data(data , data.columns)\n",
    "        # print('SCALED ::', scaled_data)\n",
    "        # print('====================')\n",
    "\n",
    "        num_clusters = get_optimal_clusters(scaled_data)\n",
    "        # print('NUM ::', num_clusters)\n",
    "        # print('====================')\n",
    "        #\n",
    "        num_clusters.sort()\n",
    "        num_clusters = num_clusters[::-1]\n",
    "        num_clusters = num_clusters[:3]\n",
    "\n",
    "        kmeans = KMeans(n_clusters=3)\n",
    "        cluster_labels = kmeans.fit_predict(X)\n",
    "        df['cluster'] = cluster_labels\n",
    "\n",
    "        clustered_data = df\n",
    "        # print(\"CLUSTERRED DATA ::\", clustered_data)\n",
    "        # print('====================')\n",
    "\n",
    "        cluster_info = get_cluster_info(clustered_data)\n",
    "        # print(\"CL cluster_info ::\" , cluster_info)\n",
    "        # print('====================')\n",
    "\n",
    "\n",
    "        for info in cluster_info:\n",
    "            result_dict = {\n",
    "                'combination': combination,\n",
    "                'cluster_best': max(num_clusters[0]),\n",
    "                'cluster_top_3' : num_clusters,\n",
    "                # 'cluster_num': info['cluster_num'],\n",
    "                # 'silhouette_score': get_optimal_clusters(scaled_data),\n",
    "                # 'cluster_sort': num_clusters,\n",
    "                'time_min': info['time_min'],\n",
    "                'time_max': info['time_max'],\n",
    "                'time_minus_2': info['time_minus_2std'],\n",
    "                'time_minus_1': info['time_minus_1std'],\n",
    "                'time_avg': info['time_avg'],\n",
    "                'time_plus_1': info['time_plus_1std'],\n",
    "                'time_plus_2': info['time_plus_2std']\n",
    "            }\n",
    "            results.append(result_dict)\n",
    "\n",
    "    results_df = pd.DataFrame(results)\n",
    "    results_df.to_csv('output_seatunnel.csv', index=False)  # Save results to CSV\n",
    "\n",
    "# if __name__ == \"__main__\":\n",
    "#     main()\n"
   ]
  },
  {
   "cell_type": "code",
   "execution_count": null,
   "metadata": {
    "collapsed": false,
    "is_executing": true
   },
   "outputs": [],
   "source": [
    "X.columns[:3]"
   ]
  },
  {
   "cell_type": "code",
   "execution_count": null,
   "metadata": {
    "collapsed": false,
    "is_executing": true
   },
   "outputs": [],
   "source": [
    "X.iloc[:, [0,1,2,14]]"
   ]
  },
  {
   "cell_type": "code",
   "execution_count": null,
   "metadata": {
    "collapsed": false,
    "is_executing": true
   },
   "outputs": [],
   "source": [
    "rf = pd.read_csv('output_results_2.csv')\n",
    "rf"
   ]
  },
  {
   "cell_type": "code",
   "execution_count": null,
   "metadata": {
    "collapsed": false,
    "is_executing": true
   },
   "outputs": [],
   "source": [
    "rf['time_min'] = pd.to_timedelta(rf['time_min'])\n",
    "rf['time_max'] = pd.to_timedelta(rf['time_max'])\n",
    "rf['time_minus_1std'] = pd.to_timedelta(rf['time_minus_1std'])\n",
    "rf['time_minus_2std'] = pd.to_timedelta(rf['time_minus_2std'])\n",
    "rf['time_plus_1std'] = pd.to_timedelta(rf['time_plus_1std'])\n",
    "rf['time_plus_2std'] = pd.to_timedelta(rf['time_plus_2std'])"
   ]
  },
  {
   "cell_type": "code",
   "execution_count": null,
   "metadata": {
    "collapsed": false,
    "is_executing": true
   },
   "outputs": [],
   "source": [
    "rf"
   ]
  }
 ],
 "metadata": {
  "kernelspec": {
   "display_name": "Python 3",
   "language": "python",
   "name": "python3"
  },
  "language_info": {
   "codemirror_mode": {
    "name": "ipython",
    "version": 3
   },
   "file_extension": ".py",
   "mimetype": "text/x-python",
   "name": "python",
   "nbconvert_exporter": "python",
   "pygments_lexer": "ipython3",
   "version": "3.10.9"
  }
 },
 "nbformat": 4,
 "nbformat_minor": 0
}
