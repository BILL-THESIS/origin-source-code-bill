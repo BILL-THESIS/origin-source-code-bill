{
 "cells": [
  {
   "cell_type": "code",
   "execution_count": 1,
   "metadata": {
    "collapsed": true,
    "ExecuteTime": {
     "end_time": "2023-08-23T05:41:21.609103400Z",
     "start_time": "2023-08-23T05:41:19.811384300Z"
    }
   },
   "outputs": [],
   "source": [
    "import pandas as pd\n",
    "from datetime import timedelta\n",
    "#Data processing\n",
    "from sklearn import preprocessing\n",
    "import numpy as np\n",
    "import matplotlib.pyplot as plt"
   ]
  },
  {
   "cell_type": "code",
   "execution_count": 2,
   "metadata": {
    "collapsed": false,
    "ExecuteTime": {
     "end_time": "2023-08-23T05:41:21.668799Z",
     "start_time": "2023-08-23T05:41:21.611611200Z"
    }
   },
   "outputs": [],
   "source": [
    "df = pd.read_parquet('../../Sonar/seatunnel_all_information.parquet')"
   ]
  },
  {
   "cell_type": "code",
   "execution_count": 3,
   "outputs": [
    {
     "data": {
      "text/plain": "           commits     additions     deletions  changed_files  \\\ncount  1068.000000   1068.000000   1068.000000    1068.000000   \nmean      4.382959    287.671348    121.042135      12.185393   \nstd       7.945596   1490.513171   1067.915207      59.274142   \nmin       1.000000      0.000000      0.000000       0.000000   \n25%       1.000000      4.000000      1.000000       1.000000   \n50%       2.000000     35.000000      6.000000       3.000000   \n75%       4.000000    183.000000     35.000000      10.000000   \nmax     116.000000  38117.000000  28002.000000    1787.000000   \n\n                      total_time  begin_Bloaters  begin_Change Preventers  \\\ncount                       1068     1068.000000              1068.000000   \nmean   3 days 14:42:45.272471910      138.331461               138.331461   \nstd    8 days 05:43:35.845727258       88.215818                88.215818   \nmin              0 days 00:00:05        3.000000                 3.000000   \n25%       0 days 02:48:58.500000       35.750000                35.750000   \n50%              0 days 19:24:12      130.000000               130.000000   \n75%       3 days 07:40:19.500000      203.000000               203.000000   \nmax            110 days 16:44:58      285.000000               285.000000   \n\n       begin_Couplers  begin_Object-Orientation Abusers  end_Dispensables  \\\ncount     1068.000000                       1068.000000       1068.000000   \nmean       138.044944                        138.044944        255.665730   \nstd        104.254464                        104.254464        145.561169   \nmin          3.000000                          3.000000         14.000000   \n25%         33.000000                         33.000000        102.000000   \n50%         97.500000                         97.500000        259.000000   \n75%        239.250000                        239.250000        373.000000   \nmax        307.000000                        307.000000        504.000000   \n\n       end_Bloaters  end_Change Preventers  end_Couplers  \\\ncount   1068.000000            1068.000000   1068.000000   \nmean     137.843633             137.843633    137.222846   \nstd       87.123644              87.123644    103.466655   \nmin       12.000000              12.000000      7.000000   \n25%       36.750000              36.750000     33.000000   \n50%      130.000000             130.000000     98.000000   \n75%      203.000000             203.000000    239.000000   \nmax      285.000000             285.000000    307.000000   \n\n       end_Object-Orientation Abusers  \ncount                     1068.000000  \nmean                       385.507491  \nstd                        205.910361  \nmin                         70.000000  \n25%                        142.000000  \n50%                        389.500000  \n75%                        545.000000  \nmax                        696.000000  ",
      "text/html": "<div>\n<style scoped>\n    .dataframe tbody tr th:only-of-type {\n        vertical-align: middle;\n    }\n\n    .dataframe tbody tr th {\n        vertical-align: top;\n    }\n\n    .dataframe thead th {\n        text-align: right;\n    }\n</style>\n<table border=\"1\" class=\"dataframe\">\n  <thead>\n    <tr style=\"text-align: right;\">\n      <th></th>\n      <th>commits</th>\n      <th>additions</th>\n      <th>deletions</th>\n      <th>changed_files</th>\n      <th>total_time</th>\n      <th>begin_Bloaters</th>\n      <th>begin_Change Preventers</th>\n      <th>begin_Couplers</th>\n      <th>begin_Object-Orientation Abusers</th>\n      <th>end_Dispensables</th>\n      <th>end_Bloaters</th>\n      <th>end_Change Preventers</th>\n      <th>end_Couplers</th>\n      <th>end_Object-Orientation Abusers</th>\n    </tr>\n  </thead>\n  <tbody>\n    <tr>\n      <th>count</th>\n      <td>1068.000000</td>\n      <td>1068.000000</td>\n      <td>1068.000000</td>\n      <td>1068.000000</td>\n      <td>1068</td>\n      <td>1068.000000</td>\n      <td>1068.000000</td>\n      <td>1068.000000</td>\n      <td>1068.000000</td>\n      <td>1068.000000</td>\n      <td>1068.000000</td>\n      <td>1068.000000</td>\n      <td>1068.000000</td>\n      <td>1068.000000</td>\n    </tr>\n    <tr>\n      <th>mean</th>\n      <td>4.382959</td>\n      <td>287.671348</td>\n      <td>121.042135</td>\n      <td>12.185393</td>\n      <td>3 days 14:42:45.272471910</td>\n      <td>138.331461</td>\n      <td>138.331461</td>\n      <td>138.044944</td>\n      <td>138.044944</td>\n      <td>255.665730</td>\n      <td>137.843633</td>\n      <td>137.843633</td>\n      <td>137.222846</td>\n      <td>385.507491</td>\n    </tr>\n    <tr>\n      <th>std</th>\n      <td>7.945596</td>\n      <td>1490.513171</td>\n      <td>1067.915207</td>\n      <td>59.274142</td>\n      <td>8 days 05:43:35.845727258</td>\n      <td>88.215818</td>\n      <td>88.215818</td>\n      <td>104.254464</td>\n      <td>104.254464</td>\n      <td>145.561169</td>\n      <td>87.123644</td>\n      <td>87.123644</td>\n      <td>103.466655</td>\n      <td>205.910361</td>\n    </tr>\n    <tr>\n      <th>min</th>\n      <td>1.000000</td>\n      <td>0.000000</td>\n      <td>0.000000</td>\n      <td>0.000000</td>\n      <td>0 days 00:00:05</td>\n      <td>3.000000</td>\n      <td>3.000000</td>\n      <td>3.000000</td>\n      <td>3.000000</td>\n      <td>14.000000</td>\n      <td>12.000000</td>\n      <td>12.000000</td>\n      <td>7.000000</td>\n      <td>70.000000</td>\n    </tr>\n    <tr>\n      <th>25%</th>\n      <td>1.000000</td>\n      <td>4.000000</td>\n      <td>1.000000</td>\n      <td>1.000000</td>\n      <td>0 days 02:48:58.500000</td>\n      <td>35.750000</td>\n      <td>35.750000</td>\n      <td>33.000000</td>\n      <td>33.000000</td>\n      <td>102.000000</td>\n      <td>36.750000</td>\n      <td>36.750000</td>\n      <td>33.000000</td>\n      <td>142.000000</td>\n    </tr>\n    <tr>\n      <th>50%</th>\n      <td>2.000000</td>\n      <td>35.000000</td>\n      <td>6.000000</td>\n      <td>3.000000</td>\n      <td>0 days 19:24:12</td>\n      <td>130.000000</td>\n      <td>130.000000</td>\n      <td>97.500000</td>\n      <td>97.500000</td>\n      <td>259.000000</td>\n      <td>130.000000</td>\n      <td>130.000000</td>\n      <td>98.000000</td>\n      <td>389.500000</td>\n    </tr>\n    <tr>\n      <th>75%</th>\n      <td>4.000000</td>\n      <td>183.000000</td>\n      <td>35.000000</td>\n      <td>10.000000</td>\n      <td>3 days 07:40:19.500000</td>\n      <td>203.000000</td>\n      <td>203.000000</td>\n      <td>239.250000</td>\n      <td>239.250000</td>\n      <td>373.000000</td>\n      <td>203.000000</td>\n      <td>203.000000</td>\n      <td>239.000000</td>\n      <td>545.000000</td>\n    </tr>\n    <tr>\n      <th>max</th>\n      <td>116.000000</td>\n      <td>38117.000000</td>\n      <td>28002.000000</td>\n      <td>1787.000000</td>\n      <td>110 days 16:44:58</td>\n      <td>285.000000</td>\n      <td>285.000000</td>\n      <td>307.000000</td>\n      <td>307.000000</td>\n      <td>504.000000</td>\n      <td>285.000000</td>\n      <td>285.000000</td>\n      <td>307.000000</td>\n      <td>696.000000</td>\n    </tr>\n  </tbody>\n</table>\n</div>"
     },
     "execution_count": 3,
     "metadata": {},
     "output_type": "execute_result"
    }
   ],
   "source": [
    "df.describe()"
   ],
   "metadata": {
    "collapsed": false,
    "ExecuteTime": {
     "end_time": "2023-08-23T05:41:21.731537800Z",
     "start_time": "2023-08-23T05:41:21.669799600Z"
    }
   }
  },
  {
   "cell_type": "code",
   "execution_count": 4,
   "metadata": {
    "collapsed": false,
    "ExecuteTime": {
     "end_time": "2023-08-23T05:41:21.759601200Z",
     "start_time": "2023-08-23T05:41:21.732544700Z"
    }
   },
   "outputs": [],
   "source": [
    "# df['time'] = df['total_time'].astype('int64')"
   ]
  },
  {
   "cell_type": "code",
   "execution_count": 5,
   "metadata": {
    "collapsed": false,
    "ExecuteTime": {
     "end_time": "2023-08-23T05:41:21.799195100Z",
     "start_time": "2023-08-23T05:41:21.750076800Z"
    }
   },
   "outputs": [],
   "source": [
    "X = df.loc[:, ~df.columns.isin(['begin_sha', 'end_sha', 'begin_time', 'end_time', 'total_time', 'time'])]"
   ]
  },
  {
   "cell_type": "code",
   "execution_count": 6,
   "metadata": {
    "ExecuteTime": {
     "end_time": "2023-08-23T05:41:25.848733400Z",
     "start_time": "2023-08-23T05:41:21.764122Z"
    }
   },
   "outputs": [],
   "source": [
    "cl = list(df['total_time'])"
   ]
  },
  {
   "cell_type": "markdown",
   "source": [],
   "metadata": {
    "collapsed": false
   }
  },
  {
   "cell_type": "code",
   "execution_count": 7,
   "metadata": {
    "collapsed": false,
    "ExecuteTime": {
     "end_time": "2023-08-23T05:41:25.905216800Z",
     "start_time": "2023-08-23T05:41:21.778649600Z"
    }
   },
   "outputs": [],
   "source": [
    "scaler = preprocessing.MinMaxScaler()\n",
    "df_scaler = scaler.fit_transform(X)\n",
    "df_scaler_col = pd.DataFrame(df_scaler)\n",
    "df_scaler = df_scaler.T"
   ]
  },
  {
   "cell_type": "code",
   "execution_count": 8,
   "metadata": {
    "collapsed": false,
    "ExecuteTime": {
     "end_time": "2023-08-23T05:41:25.905721300Z",
     "start_time": "2023-08-23T05:41:21.799195100Z"
    }
   },
   "outputs": [],
   "source": [
    "#Silhouette analysis\n",
    "from sklearn.cluster import KMeans\n",
    "from sklearn.metrics import silhouette_score"
   ]
  },
  {
   "cell_type": "code",
   "execution_count": 9,
   "metadata": {
    "collapsed": false,
    "ExecuteTime": {
     "end_time": "2023-08-23T05:41:28.141725900Z",
     "start_time": "2023-08-23T05:41:25.837217800Z"
    }
   },
   "outputs": [
    {
     "name": "stderr",
     "output_type": "stream",
     "text": [
      "C:\\Users\\patcharaprapa_k\\AppData\\Local\\anaconda3\\lib\\site-packages\\sklearn\\cluster\\_kmeans.py:870: FutureWarning: The default value of `n_init` will change from 10 to 'auto' in 1.4. Set the value of `n_init` explicitly to suppress the warning\n",
      "  warnings.warn(\n",
      "C:\\Users\\patcharaprapa_k\\AppData\\Local\\anaconda3\\lib\\site-packages\\sklearn\\cluster\\_kmeans.py:1382: UserWarning: KMeans is known to have a memory leak on Windows with MKL, when there are less chunks than available threads. You can avoid it by setting the environment variable OMP_NUM_THREADS=1.\n",
      "  warnings.warn(\n",
      "C:\\Users\\patcharaprapa_k\\AppData\\Local\\anaconda3\\lib\\site-packages\\sklearn\\cluster\\_kmeans.py:870: FutureWarning: The default value of `n_init` will change from 10 to 'auto' in 1.4. Set the value of `n_init` explicitly to suppress the warning\n",
      "  warnings.warn(\n",
      "C:\\Users\\patcharaprapa_k\\AppData\\Local\\anaconda3\\lib\\site-packages\\sklearn\\cluster\\_kmeans.py:1382: UserWarning: KMeans is known to have a memory leak on Windows with MKL, when there are less chunks than available threads. You can avoid it by setting the environment variable OMP_NUM_THREADS=1.\n",
      "  warnings.warn(\n",
      "C:\\Users\\patcharaprapa_k\\AppData\\Local\\anaconda3\\lib\\site-packages\\sklearn\\cluster\\_kmeans.py:870: FutureWarning: The default value of `n_init` will change from 10 to 'auto' in 1.4. Set the value of `n_init` explicitly to suppress the warning\n",
      "  warnings.warn(\n",
      "C:\\Users\\patcharaprapa_k\\AppData\\Local\\anaconda3\\lib\\site-packages\\sklearn\\cluster\\_kmeans.py:1382: UserWarning: KMeans is known to have a memory leak on Windows with MKL, when there are less chunks than available threads. You can avoid it by setting the environment variable OMP_NUM_THREADS=1.\n",
      "  warnings.warn(\n",
      "C:\\Users\\patcharaprapa_k\\AppData\\Local\\anaconda3\\lib\\site-packages\\sklearn\\cluster\\_kmeans.py:870: FutureWarning: The default value of `n_init` will change from 10 to 'auto' in 1.4. Set the value of `n_init` explicitly to suppress the warning\n",
      "  warnings.warn(\n",
      "C:\\Users\\patcharaprapa_k\\AppData\\Local\\anaconda3\\lib\\site-packages\\sklearn\\cluster\\_kmeans.py:1382: UserWarning: KMeans is known to have a memory leak on Windows with MKL, when there are less chunks than available threads. You can avoid it by setting the environment variable OMP_NUM_THREADS=1.\n",
      "  warnings.warn(\n",
      "C:\\Users\\patcharaprapa_k\\AppData\\Local\\anaconda3\\lib\\site-packages\\sklearn\\cluster\\_kmeans.py:870: FutureWarning: The default value of `n_init` will change from 10 to 'auto' in 1.4. Set the value of `n_init` explicitly to suppress the warning\n",
      "  warnings.warn(\n",
      "C:\\Users\\patcharaprapa_k\\AppData\\Local\\anaconda3\\lib\\site-packages\\sklearn\\cluster\\_kmeans.py:1382: UserWarning: KMeans is known to have a memory leak on Windows with MKL, when there are less chunks than available threads. You can avoid it by setting the environment variable OMP_NUM_THREADS=1.\n",
      "  warnings.warn(\n",
      "C:\\Users\\patcharaprapa_k\\AppData\\Local\\anaconda3\\lib\\site-packages\\sklearn\\cluster\\_kmeans.py:870: FutureWarning: The default value of `n_init` will change from 10 to 'auto' in 1.4. Set the value of `n_init` explicitly to suppress the warning\n",
      "  warnings.warn(\n",
      "C:\\Users\\patcharaprapa_k\\AppData\\Local\\anaconda3\\lib\\site-packages\\sklearn\\cluster\\_kmeans.py:1382: UserWarning: KMeans is known to have a memory leak on Windows with MKL, when there are less chunks than available threads. You can avoid it by setting the environment variable OMP_NUM_THREADS=1.\n",
      "  warnings.warn(\n",
      "C:\\Users\\patcharaprapa_k\\AppData\\Local\\anaconda3\\lib\\site-packages\\sklearn\\cluster\\_kmeans.py:870: FutureWarning: The default value of `n_init` will change from 10 to 'auto' in 1.4. Set the value of `n_init` explicitly to suppress the warning\n",
      "  warnings.warn(\n",
      "C:\\Users\\patcharaprapa_k\\AppData\\Local\\anaconda3\\lib\\site-packages\\sklearn\\cluster\\_kmeans.py:1382: UserWarning: KMeans is known to have a memory leak on Windows with MKL, when there are less chunks than available threads. You can avoid it by setting the environment variable OMP_NUM_THREADS=1.\n",
      "  warnings.warn(\n",
      "C:\\Users\\patcharaprapa_k\\AppData\\Local\\anaconda3\\lib\\site-packages\\sklearn\\cluster\\_kmeans.py:870: FutureWarning: The default value of `n_init` will change from 10 to 'auto' in 1.4. Set the value of `n_init` explicitly to suppress the warning\n",
      "  warnings.warn(\n",
      "C:\\Users\\patcharaprapa_k\\AppData\\Local\\anaconda3\\lib\\site-packages\\sklearn\\cluster\\_kmeans.py:1382: UserWarning: KMeans is known to have a memory leak on Windows with MKL, when there are less chunks than available threads. You can avoid it by setting the environment variable OMP_NUM_THREADS=1.\n",
      "  warnings.warn(\n",
      "C:\\Users\\patcharaprapa_k\\AppData\\Local\\anaconda3\\lib\\site-packages\\sklearn\\cluster\\_kmeans.py:870: FutureWarning: The default value of `n_init` will change from 10 to 'auto' in 1.4. Set the value of `n_init` explicitly to suppress the warning\n",
      "  warnings.warn(\n",
      "C:\\Users\\patcharaprapa_k\\AppData\\Local\\anaconda3\\lib\\site-packages\\sklearn\\cluster\\_kmeans.py:1382: UserWarning: KMeans is known to have a memory leak on Windows with MKL, when there are less chunks than available threads. You can avoid it by setting the environment variable OMP_NUM_THREADS=1.\n",
      "  warnings.warn(\n",
      "C:\\Users\\patcharaprapa_k\\AppData\\Local\\anaconda3\\lib\\site-packages\\sklearn\\cluster\\_kmeans.py:870: FutureWarning: The default value of `n_init` will change from 10 to 'auto' in 1.4. Set the value of `n_init` explicitly to suppress the warning\n",
      "  warnings.warn(\n",
      "C:\\Users\\patcharaprapa_k\\AppData\\Local\\anaconda3\\lib\\site-packages\\sklearn\\cluster\\_kmeans.py:1382: UserWarning: KMeans is known to have a memory leak on Windows with MKL, when there are less chunks than available threads. You can avoid it by setting the environment variable OMP_NUM_THREADS=1.\n",
      "  warnings.warn(\n",
      "C:\\Users\\patcharaprapa_k\\AppData\\Local\\anaconda3\\lib\\site-packages\\sklearn\\cluster\\_kmeans.py:870: FutureWarning: The default value of `n_init` will change from 10 to 'auto' in 1.4. Set the value of `n_init` explicitly to suppress the warning\n",
      "  warnings.warn(\n",
      "C:\\Users\\patcharaprapa_k\\AppData\\Local\\anaconda3\\lib\\site-packages\\sklearn\\cluster\\_kmeans.py:1382: UserWarning: KMeans is known to have a memory leak on Windows with MKL, when there are less chunks than available threads. You can avoid it by setting the environment variable OMP_NUM_THREADS=1.\n",
      "  warnings.warn(\n",
      "C:\\Users\\patcharaprapa_k\\AppData\\Local\\Temp\\ipykernel_2988\\3134697850.py:5: ConvergenceWarning: Number of distinct clusters (11) found smaller than n_clusters (12). Possibly due to duplicate points in X.\n",
      "  km.fit(df_scaler)\n",
      "C:\\Users\\patcharaprapa_k\\AppData\\Local\\anaconda3\\lib\\site-packages\\sklearn\\cluster\\_kmeans.py:870: FutureWarning: The default value of `n_init` will change from 10 to 'auto' in 1.4. Set the value of `n_init` explicitly to suppress the warning\n",
      "  warnings.warn(\n",
      "C:\\Users\\patcharaprapa_k\\AppData\\Local\\anaconda3\\lib\\site-packages\\sklearn\\cluster\\_kmeans.py:1382: UserWarning: KMeans is known to have a memory leak on Windows with MKL, when there are less chunks than available threads. You can avoid it by setting the environment variable OMP_NUM_THREADS=1.\n",
      "  warnings.warn(\n",
      "C:\\Users\\patcharaprapa_k\\AppData\\Local\\Temp\\ipykernel_2988\\3134697850.py:5: ConvergenceWarning: Number of distinct clusters (11) found smaller than n_clusters (13). Possibly due to duplicate points in X.\n",
      "  km.fit(df_scaler)\n"
     ]
    }
   ],
   "source": [
    "number_of_cluster = []\n",
    "\n",
    "for i in range(2, len(df_scaler)):\n",
    "    km = KMeans(n_clusters = i)\n",
    "    km.fit(df_scaler)\n",
    "    sil_avg = silhouette_score(df_scaler, km.labels_).round(4)\n",
    "    number_of_cluster.append([sil_avg , i])\n"
   ]
  },
  {
   "cell_type": "code",
   "execution_count": 10,
   "metadata": {
    "collapsed": false,
    "ExecuteTime": {
     "end_time": "2023-08-23T05:41:28.197868300Z",
     "start_time": "2023-08-23T05:41:28.142230Z"
    }
   },
   "outputs": [
    {
     "name": "stdout",
     "output_type": "stream",
     "text": [
      "Optimum number of cluster: 2\n"
     ]
    }
   ],
   "source": [
    "print(f'Optimum number of cluster: {max(number_of_cluster)[1]}')"
   ]
  },
  {
   "cell_type": "markdown",
   "source": [],
   "metadata": {
    "collapsed": false
   }
  },
  {
   "cell_type": "code",
   "execution_count": 11,
   "metadata": {
    "ExecuteTime": {
     "end_time": "2023-08-23T05:41:28.203387100Z",
     "start_time": "2023-08-23T05:41:28.158265800Z"
    }
   },
   "outputs": [],
   "source": [
    "# Perform KMeans clustering\n",
    "num_clusters = max(number_of_cluster)[1]\n",
    "kmeans = KMeans(n_clusters=num_clusters)"
   ]
  },
  {
   "cell_type": "code",
   "execution_count": 12,
   "metadata": {
    "ExecuteTime": {
     "end_time": "2023-08-23T05:41:28.472996600Z",
     "start_time": "2023-08-23T05:41:28.174810800Z"
    }
   },
   "outputs": [
    {
     "name": "stderr",
     "output_type": "stream",
     "text": [
      "C:\\Users\\patcharaprapa_k\\AppData\\Local\\anaconda3\\lib\\site-packages\\sklearn\\cluster\\_kmeans.py:870: FutureWarning: The default value of `n_init` will change from 10 to 'auto' in 1.4. Set the value of `n_init` explicitly to suppress the warning\n",
      "  warnings.warn(\n",
      "C:\\Users\\patcharaprapa_k\\AppData\\Local\\anaconda3\\lib\\site-packages\\sklearn\\cluster\\_kmeans.py:1382: UserWarning: KMeans is known to have a memory leak on Windows with MKL, when there are less chunks than available threads. You can avoid it by setting the environment variable OMP_NUM_THREADS=5.\n",
      "  warnings.warn(\n"
     ]
    }
   ],
   "source": [
    "cluster_labels = kmeans.fit_predict(X)"
   ]
  },
  {
   "cell_type": "code",
   "execution_count": 13,
   "metadata": {
    "ExecuteTime": {
     "end_time": "2023-08-23T05:41:28.488496900Z",
     "start_time": "2023-08-23T05:41:28.474003300Z"
    }
   },
   "outputs": [],
   "source": [
    "df['cluster'] = cluster_labels"
   ]
  },
  {
   "cell_type": "code",
   "execution_count": 14,
   "metadata": {
    "ExecuteTime": {
     "end_time": "2023-08-23T05:41:28.508559800Z",
     "start_time": "2023-08-23T05:41:28.491505800Z"
    }
   },
   "outputs": [
    {
     "data": {
      "text/plain": "(1068, 20)"
     },
     "execution_count": 14,
     "metadata": {},
     "output_type": "execute_result"
    }
   ],
   "source": [
    "df.shape"
   ]
  },
  {
   "cell_type": "code",
   "execution_count": 15,
   "outputs": [
    {
     "data": {
      "text/plain": "Timedelta('0 days 00:00:05')"
     },
     "execution_count": 15,
     "metadata": {},
     "output_type": "execute_result"
    }
   ],
   "source": [
    "df['total_time'].min()"
   ],
   "metadata": {
    "collapsed": false,
    "ExecuteTime": {
     "end_time": "2023-08-23T05:41:28.519102900Z",
     "start_time": "2023-08-23T05:41:28.504559100Z"
    }
   }
  },
  {
   "cell_type": "code",
   "execution_count": 16,
   "outputs": [
    {
     "data": {
      "text/plain": "Timedelta('110 days 16:44:58')"
     },
     "execution_count": 16,
     "metadata": {},
     "output_type": "execute_result"
    }
   ],
   "source": [
    "df['total_time'].max()"
   ],
   "metadata": {
    "collapsed": false,
    "ExecuteTime": {
     "end_time": "2023-08-23T05:41:28.594818400Z",
     "start_time": "2023-08-23T05:41:28.521609300Z"
    }
   }
  },
  {
   "cell_type": "code",
   "execution_count": 17,
   "metadata": {
    "ExecuteTime": {
     "end_time": "2023-08-23T05:41:28.604848400Z",
     "start_time": "2023-08-23T05:41:28.534652500Z"
    }
   },
   "outputs": [
    {
     "name": "stdout",
     "output_type": "stream",
     "text": [
      "0 days 00:00:05\n",
      "110 days 16:44:58\n"
     ]
    },
    {
     "data": {
      "text/plain": "(1066, 20)"
     },
     "execution_count": 17,
     "metadata": {},
     "output_type": "execute_result"
    }
   ],
   "source": [
    "cluster_0 = df[df['cluster'] == 0]\n",
    "print(cluster_0['total_time'].min())\n",
    "print(cluster_0['total_time'].max())\n",
    "cluster_0.shape"
   ]
  },
  {
   "cell_type": "code",
   "execution_count": 18,
   "outputs": [
    {
     "data": {
      "text/plain": "           total_time  begin_Bloaters  end_Bloaters\n0     3 days 01:27:48           262.0         261.0\n1     3 days 04:15:10           262.0         262.0\n2     0 days 05:24:03           262.0         261.0\n3     4 days 00:22:26           262.0         261.0\n4    12 days 00:39:27           261.0         262.0\n...               ...             ...           ...\n1063  0 days 00:43:10            14.0          15.0\n1064  0 days 19:01:39            12.0          14.0\n1065  0 days 00:16:22            12.0          14.0\n1066  0 days 00:33:35             3.0          14.0\n1067  0 days 00:09:14             3.0          12.0\n\n[1066 rows x 3 columns]",
      "text/html": "<div>\n<style scoped>\n    .dataframe tbody tr th:only-of-type {\n        vertical-align: middle;\n    }\n\n    .dataframe tbody tr th {\n        vertical-align: top;\n    }\n\n    .dataframe thead th {\n        text-align: right;\n    }\n</style>\n<table border=\"1\" class=\"dataframe\">\n  <thead>\n    <tr style=\"text-align: right;\">\n      <th></th>\n      <th>total_time</th>\n      <th>begin_Bloaters</th>\n      <th>end_Bloaters</th>\n    </tr>\n  </thead>\n  <tbody>\n    <tr>\n      <th>0</th>\n      <td>3 days 01:27:48</td>\n      <td>262.0</td>\n      <td>261.0</td>\n    </tr>\n    <tr>\n      <th>1</th>\n      <td>3 days 04:15:10</td>\n      <td>262.0</td>\n      <td>262.0</td>\n    </tr>\n    <tr>\n      <th>2</th>\n      <td>0 days 05:24:03</td>\n      <td>262.0</td>\n      <td>261.0</td>\n    </tr>\n    <tr>\n      <th>3</th>\n      <td>4 days 00:22:26</td>\n      <td>262.0</td>\n      <td>261.0</td>\n    </tr>\n    <tr>\n      <th>4</th>\n      <td>12 days 00:39:27</td>\n      <td>261.0</td>\n      <td>262.0</td>\n    </tr>\n    <tr>\n      <th>...</th>\n      <td>...</td>\n      <td>...</td>\n      <td>...</td>\n    </tr>\n    <tr>\n      <th>1063</th>\n      <td>0 days 00:43:10</td>\n      <td>14.0</td>\n      <td>15.0</td>\n    </tr>\n    <tr>\n      <th>1064</th>\n      <td>0 days 19:01:39</td>\n      <td>12.0</td>\n      <td>14.0</td>\n    </tr>\n    <tr>\n      <th>1065</th>\n      <td>0 days 00:16:22</td>\n      <td>12.0</td>\n      <td>14.0</td>\n    </tr>\n    <tr>\n      <th>1066</th>\n      <td>0 days 00:33:35</td>\n      <td>3.0</td>\n      <td>14.0</td>\n    </tr>\n    <tr>\n      <th>1067</th>\n      <td>0 days 00:09:14</td>\n      <td>3.0</td>\n      <td>12.0</td>\n    </tr>\n  </tbody>\n</table>\n<p>1066 rows × 3 columns</p>\n</div>"
     },
     "execution_count": 18,
     "metadata": {},
     "output_type": "execute_result"
    }
   ],
   "source": [
    "cluster_0[['total_time','begin_Bloaters', 'end_Bloaters']]"
   ],
   "metadata": {
    "collapsed": false,
    "ExecuteTime": {
     "end_time": "2023-08-23T05:41:28.605850400Z",
     "start_time": "2023-08-23T05:41:28.559712900Z"
    }
   }
  },
  {
   "cell_type": "code",
   "execution_count": 19,
   "outputs": [
    {
     "data": {
      "text/plain": "           total_time  begin_Couplers  end_Couplers\n0     3 days 01:27:48           304.0         304.0\n1     3 days 04:15:10           304.0         304.0\n2     0 days 05:24:03           304.0         304.0\n3     4 days 00:22:26           304.0         304.0\n4    12 days 00:39:27           304.0         304.0\n...               ...             ...           ...\n1063  0 days 00:43:10             7.0           7.0\n1064  0 days 19:01:39             8.0           7.0\n1065  0 days 00:16:22             8.0           7.0\n1066  0 days 00:33:35             3.0           7.0\n1067  0 days 00:09:14             3.0           8.0\n\n[1066 rows x 3 columns]",
      "text/html": "<div>\n<style scoped>\n    .dataframe tbody tr th:only-of-type {\n        vertical-align: middle;\n    }\n\n    .dataframe tbody tr th {\n        vertical-align: top;\n    }\n\n    .dataframe thead th {\n        text-align: right;\n    }\n</style>\n<table border=\"1\" class=\"dataframe\">\n  <thead>\n    <tr style=\"text-align: right;\">\n      <th></th>\n      <th>total_time</th>\n      <th>begin_Couplers</th>\n      <th>end_Couplers</th>\n    </tr>\n  </thead>\n  <tbody>\n    <tr>\n      <th>0</th>\n      <td>3 days 01:27:48</td>\n      <td>304.0</td>\n      <td>304.0</td>\n    </tr>\n    <tr>\n      <th>1</th>\n      <td>3 days 04:15:10</td>\n      <td>304.0</td>\n      <td>304.0</td>\n    </tr>\n    <tr>\n      <th>2</th>\n      <td>0 days 05:24:03</td>\n      <td>304.0</td>\n      <td>304.0</td>\n    </tr>\n    <tr>\n      <th>3</th>\n      <td>4 days 00:22:26</td>\n      <td>304.0</td>\n      <td>304.0</td>\n    </tr>\n    <tr>\n      <th>4</th>\n      <td>12 days 00:39:27</td>\n      <td>304.0</td>\n      <td>304.0</td>\n    </tr>\n    <tr>\n      <th>...</th>\n      <td>...</td>\n      <td>...</td>\n      <td>...</td>\n    </tr>\n    <tr>\n      <th>1063</th>\n      <td>0 days 00:43:10</td>\n      <td>7.0</td>\n      <td>7.0</td>\n    </tr>\n    <tr>\n      <th>1064</th>\n      <td>0 days 19:01:39</td>\n      <td>8.0</td>\n      <td>7.0</td>\n    </tr>\n    <tr>\n      <th>1065</th>\n      <td>0 days 00:16:22</td>\n      <td>8.0</td>\n      <td>7.0</td>\n    </tr>\n    <tr>\n      <th>1066</th>\n      <td>0 days 00:33:35</td>\n      <td>3.0</td>\n      <td>7.0</td>\n    </tr>\n    <tr>\n      <th>1067</th>\n      <td>0 days 00:09:14</td>\n      <td>3.0</td>\n      <td>8.0</td>\n    </tr>\n  </tbody>\n</table>\n<p>1066 rows × 3 columns</p>\n</div>"
     },
     "execution_count": 19,
     "metadata": {},
     "output_type": "execute_result"
    }
   ],
   "source": [
    "cluster_0[['total_time', 'begin_Couplers', 'end_Couplers']]"
   ],
   "metadata": {
    "collapsed": false,
    "ExecuteTime": {
     "end_time": "2023-08-23T05:41:28.605850400Z",
     "start_time": "2023-08-23T05:41:28.567237400Z"
    }
   }
  },
  {
   "cell_type": "code",
   "execution_count": 20,
   "outputs": [
    {
     "data": {
      "text/plain": "           commits    additions     deletions  changed_files  \\\ncount  1066.000000  1066.000000   1066.000000    1066.000000   \nmean      4.315197   228.612570     94.923077      10.208255   \nstd       7.607020   534.552419    641.869390      21.316391   \nmin       1.000000     0.000000      0.000000       0.000000   \n25%       1.000000     4.000000      1.000000       1.000000   \n50%       2.000000    35.000000      6.000000       3.000000   \n75%       4.000000   183.000000     34.750000       9.000000   \nmax     116.000000  5674.000000  17465.000000     258.000000   \n\n                      total_time  begin_Bloaters  begin_Change Preventers  \\\ncount                       1066     1066.000000              1066.000000   \nmean   3 days 14:48:56.679174484      138.257036               138.257036   \nstd    8 days 05:53:46.080651234       88.256304                88.256304   \nmin              0 days 00:00:05        3.000000                 3.000000   \n25%       0 days 02:48:31.500000       35.250000                35.250000   \n50%              0 days 19:24:12      130.000000               130.000000   \n75%       3 days 08:14:00.500000      203.000000               203.000000   \nmax            110 days 16:44:58      285.000000               285.000000   \n\n       begin_Couplers  begin_Object-Orientation Abusers  end_Dispensables  \\\ncount     1066.000000                       1066.000000       1066.000000   \nmean       137.922139                        137.922139        255.532833   \nstd        104.276225                        104.276225        145.618252   \nmin          3.000000                          3.000000         14.000000   \n25%         33.000000                         33.000000        102.000000   \n50%         97.000000                         97.000000        259.000000   \n75%        239.000000                        239.000000        373.000000   \nmax        307.000000                        307.000000        504.000000   \n\n       end_Bloaters  end_Change Preventers  end_Couplers  \\\ncount   1066.000000            1066.000000   1066.000000   \nmean     137.768293             137.768293    137.103189   \nstd       87.162154              87.162154    103.491936   \nmin       12.000000              12.000000      7.000000   \n25%       36.250000              36.250000     33.000000   \n50%      130.000000             130.000000     98.000000   \n75%      203.000000             203.000000    238.750000   \nmax      285.000000             285.000000    307.000000   \n\n       end_Object-Orientation Abusers  cluster  \ncount                     1066.000000   1066.0  \nmean                       385.274859      0.0  \nstd                        205.978777      0.0  \nmin                         70.000000      0.0  \n25%                        142.000000      0.0  \n50%                        388.500000      0.0  \n75%                        545.000000      0.0  \nmax                        696.000000      0.0  ",
      "text/html": "<div>\n<style scoped>\n    .dataframe tbody tr th:only-of-type {\n        vertical-align: middle;\n    }\n\n    .dataframe tbody tr th {\n        vertical-align: top;\n    }\n\n    .dataframe thead th {\n        text-align: right;\n    }\n</style>\n<table border=\"1\" class=\"dataframe\">\n  <thead>\n    <tr style=\"text-align: right;\">\n      <th></th>\n      <th>commits</th>\n      <th>additions</th>\n      <th>deletions</th>\n      <th>changed_files</th>\n      <th>total_time</th>\n      <th>begin_Bloaters</th>\n      <th>begin_Change Preventers</th>\n      <th>begin_Couplers</th>\n      <th>begin_Object-Orientation Abusers</th>\n      <th>end_Dispensables</th>\n      <th>end_Bloaters</th>\n      <th>end_Change Preventers</th>\n      <th>end_Couplers</th>\n      <th>end_Object-Orientation Abusers</th>\n      <th>cluster</th>\n    </tr>\n  </thead>\n  <tbody>\n    <tr>\n      <th>count</th>\n      <td>1066.000000</td>\n      <td>1066.000000</td>\n      <td>1066.000000</td>\n      <td>1066.000000</td>\n      <td>1066</td>\n      <td>1066.000000</td>\n      <td>1066.000000</td>\n      <td>1066.000000</td>\n      <td>1066.000000</td>\n      <td>1066.000000</td>\n      <td>1066.000000</td>\n      <td>1066.000000</td>\n      <td>1066.000000</td>\n      <td>1066.000000</td>\n      <td>1066.0</td>\n    </tr>\n    <tr>\n      <th>mean</th>\n      <td>4.315197</td>\n      <td>228.612570</td>\n      <td>94.923077</td>\n      <td>10.208255</td>\n      <td>3 days 14:48:56.679174484</td>\n      <td>138.257036</td>\n      <td>138.257036</td>\n      <td>137.922139</td>\n      <td>137.922139</td>\n      <td>255.532833</td>\n      <td>137.768293</td>\n      <td>137.768293</td>\n      <td>137.103189</td>\n      <td>385.274859</td>\n      <td>0.0</td>\n    </tr>\n    <tr>\n      <th>std</th>\n      <td>7.607020</td>\n      <td>534.552419</td>\n      <td>641.869390</td>\n      <td>21.316391</td>\n      <td>8 days 05:53:46.080651234</td>\n      <td>88.256304</td>\n      <td>88.256304</td>\n      <td>104.276225</td>\n      <td>104.276225</td>\n      <td>145.618252</td>\n      <td>87.162154</td>\n      <td>87.162154</td>\n      <td>103.491936</td>\n      <td>205.978777</td>\n      <td>0.0</td>\n    </tr>\n    <tr>\n      <th>min</th>\n      <td>1.000000</td>\n      <td>0.000000</td>\n      <td>0.000000</td>\n      <td>0.000000</td>\n      <td>0 days 00:00:05</td>\n      <td>3.000000</td>\n      <td>3.000000</td>\n      <td>3.000000</td>\n      <td>3.000000</td>\n      <td>14.000000</td>\n      <td>12.000000</td>\n      <td>12.000000</td>\n      <td>7.000000</td>\n      <td>70.000000</td>\n      <td>0.0</td>\n    </tr>\n    <tr>\n      <th>25%</th>\n      <td>1.000000</td>\n      <td>4.000000</td>\n      <td>1.000000</td>\n      <td>1.000000</td>\n      <td>0 days 02:48:31.500000</td>\n      <td>35.250000</td>\n      <td>35.250000</td>\n      <td>33.000000</td>\n      <td>33.000000</td>\n      <td>102.000000</td>\n      <td>36.250000</td>\n      <td>36.250000</td>\n      <td>33.000000</td>\n      <td>142.000000</td>\n      <td>0.0</td>\n    </tr>\n    <tr>\n      <th>50%</th>\n      <td>2.000000</td>\n      <td>35.000000</td>\n      <td>6.000000</td>\n      <td>3.000000</td>\n      <td>0 days 19:24:12</td>\n      <td>130.000000</td>\n      <td>130.000000</td>\n      <td>97.000000</td>\n      <td>97.000000</td>\n      <td>259.000000</td>\n      <td>130.000000</td>\n      <td>130.000000</td>\n      <td>98.000000</td>\n      <td>388.500000</td>\n      <td>0.0</td>\n    </tr>\n    <tr>\n      <th>75%</th>\n      <td>4.000000</td>\n      <td>183.000000</td>\n      <td>34.750000</td>\n      <td>9.000000</td>\n      <td>3 days 08:14:00.500000</td>\n      <td>203.000000</td>\n      <td>203.000000</td>\n      <td>239.000000</td>\n      <td>239.000000</td>\n      <td>373.000000</td>\n      <td>203.000000</td>\n      <td>203.000000</td>\n      <td>238.750000</td>\n      <td>545.000000</td>\n      <td>0.0</td>\n    </tr>\n    <tr>\n      <th>max</th>\n      <td>116.000000</td>\n      <td>5674.000000</td>\n      <td>17465.000000</td>\n      <td>258.000000</td>\n      <td>110 days 16:44:58</td>\n      <td>285.000000</td>\n      <td>285.000000</td>\n      <td>307.000000</td>\n      <td>307.000000</td>\n      <td>504.000000</td>\n      <td>285.000000</td>\n      <td>285.000000</td>\n      <td>307.000000</td>\n      <td>696.000000</td>\n      <td>0.0</td>\n    </tr>\n  </tbody>\n</table>\n</div>"
     },
     "execution_count": 20,
     "metadata": {},
     "output_type": "execute_result"
    }
   ],
   "source": [
    "cluster_0.describe()"
   ],
   "metadata": {
    "collapsed": false,
    "ExecuteTime": {
     "end_time": "2023-08-23T05:41:28.670041800Z",
     "start_time": "2023-08-23T05:41:28.594818400Z"
    }
   }
  },
  {
   "cell_type": "code",
   "execution_count": 21,
   "metadata": {
    "ExecuteTime": {
     "end_time": "2023-08-23T05:41:28.733733Z",
     "start_time": "2023-08-23T05:41:28.647439Z"
    }
   },
   "outputs": [
    {
     "name": "stdout",
     "output_type": "stream",
     "text": [
      "0 days 12:51:29\n",
      "2 days 02:35:22\n"
     ]
    },
    {
     "data": {
      "text/plain": "(2, 20)"
     },
     "execution_count": 21,
     "metadata": {},
     "output_type": "execute_result"
    }
   ],
   "source": [
    "cluster_1 = df[df['cluster'] == 1]\n",
    "print(cluster_1['total_time'].min())\n",
    "print(cluster_1['total_time'].max())\n",
    "cluster_1.shape"
   ]
  },
  {
   "cell_type": "code",
   "execution_count": 22,
   "metadata": {
    "ExecuteTime": {
     "end_time": "2023-08-23T05:41:28.735732500Z",
     "start_time": "2023-08-23T05:41:28.663528300Z"
    }
   },
   "outputs": [
    {
     "name": "stdout",
     "output_type": "stream",
     "text": [
      "NaT\n",
      "NaT\n"
     ]
    },
    {
     "data": {
      "text/plain": "(0, 20)"
     },
     "execution_count": 22,
     "metadata": {},
     "output_type": "execute_result"
    }
   ],
   "source": [
    "cluster_2 = df[df['cluster'] == 2]\n",
    "print(cluster_2['total_time'].min())\n",
    "print(cluster_2['total_time'].max())\n",
    "cluster_2.shape"
   ]
  },
  {
   "cell_type": "markdown",
   "source": [],
   "metadata": {
    "collapsed": false
   }
  },
  {
   "cell_type": "code",
   "execution_count": 23,
   "outputs": [],
   "source": [
    "def remove_outliers_madn(data, threshold=2.24):\n",
    "    median = np.median(data)\n",
    "    mad = np.median(np.abs(data - median))\n",
    "\n",
    "    # Calculate modified Z-score for each data point\n",
    "    modified_z_scores = 0.6745 * (data - median) / mad\n",
    "\n",
    "    # Identify and remove outliers based on the threshold\n",
    "    filtered_data = data[abs(modified_z_scores) < threshold]\n",
    "\n",
    "    return filtered_data"
   ],
   "metadata": {
    "collapsed": false,
    "ExecuteTime": {
     "end_time": "2023-08-23T05:41:28.843200400Z",
     "start_time": "2023-08-23T05:41:28.679069700Z"
    }
   }
  },
  {
   "cell_type": "code",
   "execution_count": 24,
   "outputs": [
    {
     "name": "stdout",
     "output_type": "stream",
     "text": [
      "Original data: [[0.00000000e+00 0.00000000e+00 0.00000000e+00 ... 8.69565217e-03\n",
      "  0.00000000e+00 0.00000000e+00]\n",
      " [2.62350132e-04 5.24700265e-05 9.44460477e-04 ... 1.81021591e-03\n",
      "  2.88585146e-04 9.44460477e-04]\n",
      " [1.42846940e-04 3.57117349e-05 2.39268624e-03 ... 1.74987501e-03\n",
      "  4.02828369e-02 0.00000000e+00]\n",
      " ...\n",
      " [9.12087912e-01 9.15750916e-01 9.12087912e-01 ... 7.32600733e-03\n",
      "  7.32600733e-03 0.00000000e+00]\n",
      " [9.90000000e-01 9.90000000e-01 9.90000000e-01 ... 0.00000000e+00\n",
      "  0.00000000e+00 3.33333333e-03]\n",
      " [9.95207668e-01 9.95207668e-01 9.95207668e-01 ... 3.03514377e-02\n",
      "  3.03514377e-02 3.03514377e-02]]\n",
      "Filtered data: [0.         0.         0.         ... 0.03035144 0.03035144 0.03035144]\n"
     ]
    }
   ],
   "source": [
    "# Example usage\n",
    "filtered_data = remove_outliers_madn(df_scaler, threshold=2.24)\n",
    "\n",
    "print(\"Original data:\", df_scaler)\n",
    "print(\"Filtered data:\", filtered_data)"
   ],
   "metadata": {
    "collapsed": false,
    "ExecuteTime": {
     "end_time": "2023-08-23T05:41:28.859723600Z",
     "start_time": "2023-08-23T05:41:28.694137600Z"
    }
   }
  },
  {
   "cell_type": "code",
   "execution_count": null,
   "outputs": [],
   "source": [],
   "metadata": {
    "collapsed": false
   }
  },
  {
   "cell_type": "code",
   "execution_count": 28,
   "outputs": [
    {
     "name": "stderr",
     "output_type": "stream",
     "text": [
      "C:\\Users\\patcharaprapa_k\\AppData\\Local\\anaconda3\\lib\\site-packages\\sklearn\\cluster\\_kmeans.py:870: FutureWarning: The default value of `n_init` will change from 10 to 'auto' in 1.4. Set the value of `n_init` explicitly to suppress the warning\n",
      "  warnings.warn(\n"
     ]
    },
    {
     "data": {
      "text/plain": "<Figure size 640x480 with 1 Axes>",
      "image/png": "[encoded data removed]"
     },
     "metadata": {},
     "output_type": "display_data"
    }
   ],
   "source": [
    "# Reshape the data to a 2D array if needed\n",
    "cleaned_data = filtered_data.reshape(-1, 1)\n",
    "\n",
    "# Specify the number of clusters you want to find\n",
    "n_clusters = 2\n",
    "\n",
    "# Initialize and fit K-Means model\n",
    "kmeans = KMeans(n_clusters=n_clusters)\n",
    "kmeans.fit(cleaned_data)\n",
    "\n",
    "# Get cluster assignments and cluster centers\n",
    "labels = kmeans.labels_\n",
    "cluster_centers = kmeans.cluster_centers_\n",
    "\n",
    "# Plot the clusters\n",
    "plt.scatter(cleaned_data, np.zeros_like(cleaned_data), c=labels, cmap='rainbow')\n",
    "plt.scatter(cluster_centers, np.zeros_like(cluster_centers), marker='X', color='black', s=100)\n",
    "plt.title('K-Means Clustering on Cleaned Data')\n",
    "plt.xlabel('Feature')\n",
    "plt.ylabel('Cluster')\n",
    "plt.show()"
   ],
   "metadata": {
    "collapsed": false,
    "ExecuteTime": {
     "end_time": "2023-08-23T05:44:20.948757800Z",
     "start_time": "2023-08-23T05:44:20.260899300Z"
    }
   }
  },
  {
   "cell_type": "code",
   "execution_count": 26,
   "outputs": [],
   "source": [
    "def determine_outlier_thresholds_std(dataframe, col_name):\n",
    "    upper_boundary = dataframe[col_name].mean() + 3 * dataframe[col_name].std()\n",
    "    lower_boundary = dataframe[col_name].mean() - 3 * dataframe[col_name].std()\n",
    "    return lower_boundary, upper_boundary"
   ],
   "metadata": {
    "collapsed": false,
    "ExecuteTime": {
     "end_time": "2023-08-23T05:41:29.440191200Z",
     "start_time": "2023-08-23T05:41:29.418179300Z"
    }
   }
  },
  {
   "cell_type": "code",
   "execution_count": 30,
   "outputs": [],
   "source": [
    "# determine_outlier_thresholds_std(df['total_time'], df.columns)"
   ],
   "metadata": {
    "collapsed": false,
    "ExecuteTime": {
     "end_time": "2023-08-23T05:48:19.069293300Z",
     "start_time": "2023-08-23T05:48:19.021869300Z"
    }
   }
  },
  {
   "cell_type": "code",
   "execution_count": 29,
   "outputs": [
    {
     "name": "stderr",
     "output_type": "stream",
     "text": [
      "C:\\Users\\patcharaprapa_k\\AppData\\Local\\anaconda3\\lib\\site-packages\\sklearn\\cluster\\_kmeans.py:870: FutureWarning: The default value of `n_init` will change from 10 to 'auto' in 1.4. Set the value of `n_init` explicitly to suppress the warning\n",
      "  warnings.warn(\n",
      "C:\\Users\\patcharaprapa_k\\AppData\\Local\\anaconda3\\lib\\site-packages\\sklearn\\cluster\\_kmeans.py:1382: UserWarning: KMeans is known to have a memory leak on Windows with MKL, when there are less chunks than available threads. You can avoid it by setting the environment variable OMP_NUM_THREADS=2.\n",
      "  warnings.warn(\n"
     ]
    },
    {
     "data": {
      "text/plain": "<Figure size 640x480 with 1 Axes>",
      "image/png": "[encoded data removed]"
     },
     "metadata": {},
     "output_type": "display_data"
    }
   ],
   "source": [
    "import numpy as np\n",
    "import matplotlib.pyplot as plt\n",
    "from sklearn.cluster import KMeans\n",
    "from sklearn.datasets import make_blobs\n",
    "from sklearn.preprocessing import StandardScaler\n",
    "from scipy import stats\n",
    "\n",
    "# Generate synthetic data with outliers\n",
    "data, _ = make_blobs(n_samples=300, centers=4, random_state=42, cluster_std=1.0)\n",
    "outliers = np.array([[0, 10], [0, 12]])\n",
    "data = np.vstack((data, outliers))\n",
    "\n",
    "# Remove outliers using Z-score\n",
    "z_scores = np.abs(stats.zscore(data))\n",
    "threshold = 2.5\n",
    "data = data[(z_scores < threshold).all(axis=1)]\n",
    "\n",
    "# Standardize the data\n",
    "scaler = StandardScaler()\n",
    "data_scaled = scaler.fit_transform(data)\n",
    "\n",
    "# Cluster the data using K-means\n",
    "num_clusters = 4\n",
    "kmeans = KMeans(n_clusters=num_clusters, random_state=42)\n",
    "cluster_labels = kmeans.fit_predict(data_scaled)\n",
    "\n",
    "# Plot the clusters\n",
    "plt.scatter(data_scaled[:, 0], data_scaled[:, 1], c=cluster_labels, cmap='viridis')\n",
    "plt.scatter(kmeans.cluster_centers_[:, 0], kmeans.cluster_centers_[:, 1], c='red', marker='X', s=200)\n",
    "plt.title('Clustered Data with Outliers Removed')\n",
    "plt.xlabel('Feature 1')\n",
    "plt.ylabel('Feature 2')\n",
    "plt.show()\n"
   ],
   "metadata": {
    "collapsed": false,
    "ExecuteTime": {
     "end_time": "2023-08-23T05:47:55.625650300Z",
     "start_time": "2023-08-23T05:47:54.969529400Z"
    }
   }
  },
  {
   "cell_type": "code",
   "execution_count": null,
   "outputs": [],
   "source": [],
   "metadata": {
    "collapsed": false
   }
  }
 ],
 "metadata": {
  "kernelspec": {
   "display_name": "Python 3",
   "language": "python",
   "name": "python3"
  },
  "language_info": {
   "codemirror_mode": {
    "name": "ipython",
    "version": 3
   },
   "file_extension": ".py",
   "mimetype": "text/x-python",
   "name": "python",
   "nbconvert_exporter": "python",
   "pygments_lexer": "ipython3",
   "version": "3.10.9"
  }
 },
 "nbformat": 4,
 "nbformat_minor": 0
}
