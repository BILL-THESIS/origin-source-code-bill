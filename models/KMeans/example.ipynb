{
 "cells": [
  {
   "cell_type": "code",
   "execution_count": 274,
   "outputs": [],
   "source": [
    "from datetime import timedelta\n",
    "import pandas as pd\n",
    "from sklearn.preprocessing import MinMaxScaler\n",
    "from sklearn.cluster import KMeans\n",
    "from sklearn.metrics import silhouette_score\n",
    "from itertools import chain, combinations, permutations\n",
    "import numpy as np\n",
    "import os"
   ],
   "metadata": {
    "collapsed": false,
    "ExecuteTime": {
     "end_time": "2023-09-24T17:26:58.096421800Z",
     "start_time": "2023-09-24T17:26:58.040157100Z"
    }
   }
  },
  {
   "cell_type": "code",
   "execution_count": 275,
   "outputs": [],
   "source": [
    "df = pd.read_parquet('../../Sonar/seatunnel_all_information.parquet')"
   ],
   "metadata": {
    "collapsed": false,
    "ExecuteTime": {
     "end_time": "2023-09-24T17:26:58.126223600Z",
     "start_time": "2023-09-24T17:26:58.047744700Z"
    }
   }
  },
  {
   "cell_type": "code",
   "execution_count": 276,
   "outputs": [],
   "source": [
    "X = df.loc[:, ~df.columns.isin(['begin_sha', 'end_sha', 'begin_time', 'end_time',\n",
    "                                'total_time',\n",
    "                                'time'\n",
    "                                ])]"
   ],
   "metadata": {
    "collapsed": false,
    "ExecuteTime": {
     "end_time": "2023-09-24T17:26:58.126223600Z",
     "start_time": "2023-09-24T17:26:58.090835700Z"
    }
   }
  },
  {
   "cell_type": "code",
   "execution_count": 277,
   "outputs": [],
   "source": [
    "# # Create a sample DataFrame\n",
    "# data = {\n",
    "#     'A': [1, 2, 3],\n",
    "#     'B': [4, 5, 6],\n",
    "#     'C': [7, 8, 9]\n",
    "# }\n",
    "#\n",
    "# df = pd.DataFrame(data)\n",
    "#\n",
    "# # Get column names from the original DataFrame\n",
    "# columns = df.columns\n",
    "# print(columns)"
   ],
   "metadata": {
    "collapsed": false,
    "ExecuteTime": {
     "end_time": "2023-09-24T17:26:58.126223600Z",
     "start_time": "2023-09-24T17:26:58.090835700Z"
    }
   }
  },
  {
   "cell_type": "code",
   "execution_count": 278,
   "outputs": [
    {
     "data": {
      "text/plain": "      commits  additions  deletions\n0           1         10          4\n1           1          2          1\n2           1         36         67\n3           1         21          2\n4           8        211        212\n...       ...        ...        ...\n1063        4        191         40\n1064        6        470         42\n1065        2         69         49\n1066        1         11       1128\n1067        1         36          0\n\n[1068 rows x 3 columns]",
      "text/html": "<div>\n<style scoped>\n    .dataframe tbody tr th:only-of-type {\n        vertical-align: middle;\n    }\n\n    .dataframe tbody tr th {\n        vertical-align: top;\n    }\n\n    .dataframe thead th {\n        text-align: right;\n    }\n</style>\n<table border=\"1\" class=\"dataframe\">\n  <thead>\n    <tr style=\"text-align: right;\">\n      <th></th>\n      <th>commits</th>\n      <th>additions</th>\n      <th>deletions</th>\n    </tr>\n  </thead>\n  <tbody>\n    <tr>\n      <th>0</th>\n      <td>1</td>\n      <td>10</td>\n      <td>4</td>\n    </tr>\n    <tr>\n      <th>1</th>\n      <td>1</td>\n      <td>2</td>\n      <td>1</td>\n    </tr>\n    <tr>\n      <th>2</th>\n      <td>1</td>\n      <td>36</td>\n      <td>67</td>\n    </tr>\n    <tr>\n      <th>3</th>\n      <td>1</td>\n      <td>21</td>\n      <td>2</td>\n    </tr>\n    <tr>\n      <th>4</th>\n      <td>8</td>\n      <td>211</td>\n      <td>212</td>\n    </tr>\n    <tr>\n      <th>...</th>\n      <td>...</td>\n      <td>...</td>\n      <td>...</td>\n    </tr>\n    <tr>\n      <th>1063</th>\n      <td>4</td>\n      <td>191</td>\n      <td>40</td>\n    </tr>\n    <tr>\n      <th>1064</th>\n      <td>6</td>\n      <td>470</td>\n      <td>42</td>\n    </tr>\n    <tr>\n      <th>1065</th>\n      <td>2</td>\n      <td>69</td>\n      <td>49</td>\n    </tr>\n    <tr>\n      <th>1066</th>\n      <td>1</td>\n      <td>11</td>\n      <td>1128</td>\n    </tr>\n    <tr>\n      <th>1067</th>\n      <td>1</td>\n      <td>36</td>\n      <td>0</td>\n    </tr>\n  </tbody>\n</table>\n<p>1068 rows × 3 columns</p>\n</div>"
     },
     "execution_count": 278,
     "metadata": {},
     "output_type": "execute_result"
    }
   ],
   "source": [
    "X.iloc[:, [0,1,2]]"
   ],
   "metadata": {
    "collapsed": false,
    "ExecuteTime": {
     "end_time": "2023-09-24T17:26:58.126223600Z",
     "start_time": "2023-09-24T17:26:58.106092900Z"
    }
   }
  },
  {
   "cell_type": "code",
   "execution_count": 279,
   "outputs": [],
   "source": [
    "df = pd.DataFrame(X.iloc[:, [0,1,2]])\n",
    "columns = df.columns"
   ],
   "metadata": {
    "collapsed": false,
    "ExecuteTime": {
     "end_time": "2023-09-24T17:26:58.137356300Z",
     "start_time": "2023-09-24T17:26:58.126223600Z"
    }
   }
  },
  {
   "cell_type": "code",
   "execution_count": 280,
   "outputs": [
    {
     "name": "stdout",
     "output_type": "stream",
     "text": [
      "      commits\n",
      "0           1\n",
      "1           1\n",
      "2           1\n",
      "3           1\n",
      "4           8\n",
      "...       ...\n",
      "1063        4\n",
      "1064        6\n",
      "1065        2\n",
      "1066        1\n",
      "1067        1\n",
      "\n",
      "[1068 rows x 1 columns]\n",
      "      additions\n",
      "0            10\n",
      "1             2\n",
      "2            36\n",
      "3            21\n",
      "4           211\n",
      "...         ...\n",
      "1063        191\n",
      "1064        470\n",
      "1065         69\n",
      "1066         11\n",
      "1067         36\n",
      "\n",
      "[1068 rows x 1 columns]\n",
      "      deletions\n",
      "0             4\n",
      "1             1\n",
      "2            67\n",
      "3             2\n",
      "4           212\n",
      "...         ...\n",
      "1063         40\n",
      "1064         42\n",
      "1065         49\n",
      "1066       1128\n",
      "1067          0\n",
      "\n",
      "[1068 rows x 1 columns]\n",
      "      commits  additions\n",
      "0           1         10\n",
      "1           1          2\n",
      "2           1         36\n",
      "3           1         21\n",
      "4           8        211\n",
      "...       ...        ...\n",
      "1063        4        191\n",
      "1064        6        470\n",
      "1065        2         69\n",
      "1066        1         11\n",
      "1067        1         36\n",
      "\n",
      "[1068 rows x 2 columns]\n",
      "      commits  deletions\n",
      "0           1          4\n",
      "1           1          1\n",
      "2           1         67\n",
      "3           1          2\n",
      "4           8        212\n",
      "...       ...        ...\n",
      "1063        4         40\n",
      "1064        6         42\n",
      "1065        2         49\n",
      "1066        1       1128\n",
      "1067        1          0\n",
      "\n",
      "[1068 rows x 2 columns]\n",
      "      additions  deletions\n",
      "0            10          4\n",
      "1             2          1\n",
      "2            36         67\n",
      "3            21          2\n",
      "4           211        212\n",
      "...         ...        ...\n",
      "1063        191         40\n",
      "1064        470         42\n",
      "1065         69         49\n",
      "1066         11       1128\n",
      "1067         36          0\n",
      "\n",
      "[1068 rows x 2 columns]\n",
      "      commits  additions  deletions\n",
      "0           1         10          4\n",
      "1           1          2          1\n",
      "2           1         36         67\n",
      "3           1         21          2\n",
      "4           8        211        212\n",
      "...       ...        ...        ...\n",
      "1063        4        191         40\n",
      "1064        6        470         42\n",
      "1065        2         69         49\n",
      "1066        1         11       1128\n",
      "1067        1         36          0\n",
      "\n",
      "[1068 rows x 3 columns]\n"
     ]
    }
   ],
   "source": [
    "for r in range(1, len(columns) + 1):\n",
    "    for column_combination in combinations(columns , r):\n",
    "        combined_df = df[list(column_combination)]\n",
    "        print(combined_df)\n",
    "        combined_df.to_csv(f\"{combined_df.columns.tolist()}.csv\", index=False)\n"
   ],
   "metadata": {
    "collapsed": false,
    "ExecuteTime": {
     "end_time": "2023-09-24T17:26:58.206417600Z",
     "start_time": "2023-09-24T17:26:58.137356300Z"
    }
   }
  },
  {
   "cell_type": "code",
   "execution_count": 281,
   "outputs": [],
   "source": [
    "directory_path = 'D:\\origin-source-code-bill\\models\\KMeans\\CSV'"
   ],
   "metadata": {
    "collapsed": false,
    "ExecuteTime": {
     "end_time": "2023-09-24T17:26:58.226325300Z",
     "start_time": "2023-09-24T17:26:58.169362200Z"
    }
   }
  },
  {
   "cell_type": "code",
   "execution_count": 282,
   "outputs": [],
   "source": [
    "csv_files = [f for f in os.listdir(directory_path) if f.endswith('.csv')]"
   ],
   "metadata": {
    "collapsed": false,
    "ExecuteTime": {
     "end_time": "2023-09-24T17:26:58.226325300Z",
     "start_time": "2023-09-24T17:26:58.201314600Z"
    }
   }
  },
  {
   "cell_type": "code",
   "execution_count": 283,
   "outputs": [
    {
     "data": {
      "text/plain": "[\"['additions', 'deletions'].csv\",\n \"['additions'].csv\",\n \"['commits', 'additions', 'deletions'].csv\",\n \"['commits', 'additions'].csv\",\n \"['commits', 'deletions'].csv\",\n \"['commits'].csv\",\n \"['deletions'].csv\"]"
     },
     "execution_count": 283,
     "metadata": {},
     "output_type": "execute_result"
    }
   ],
   "source": [
    "csv_files"
   ],
   "metadata": {
    "collapsed": false,
    "ExecuteTime": {
     "end_time": "2023-09-24T17:26:58.226325300Z",
     "start_time": "2023-09-24T17:26:58.201314600Z"
    }
   }
  },
  {
   "cell_type": "code",
   "execution_count": 323,
   "outputs": [
    {
     "name": "stdout",
     "output_type": "stream",
     "text": [
      "file ::: D:\\origin-source-code-bill\\models\\KMeans\\CSV\\['additions', 'deletions'].csv\n",
      "Var :: ['additions', 'deletions']\n",
      "DF ::       additions  deletions\n",
      "0            10          4\n",
      "1             2          1\n",
      "2            36         67\n",
      "3            21          2\n",
      "4           211        212\n",
      "...         ...        ...\n",
      "1063        191         40\n",
      "1064        470         42\n",
      "1065         69         49\n",
      "1066         11       1128\n",
      "1067         36          0\n",
      "\n",
      "[1068 rows x 2 columns]\n",
      "Scaled ::: [[2.62350132e-04 1.42846940e-04]\n",
      " [5.24700265e-05 3.57117349e-05]\n",
      " [9.44460477e-04 2.39268624e-03]\n",
      " ...\n",
      " [1.81021591e-03 1.74987501e-03]\n",
      " [2.88585146e-04 4.02828369e-02]\n",
      " [9.44460477e-04 0.00000000e+00]]\n",
      "scaled_df:::        0         1         2         3         4         5         6     \\\n",
      "0  0.000262  0.000052  0.000944  0.000551  0.005536  0.002912  0.000446   \n",
      "1  0.000143  0.000036  0.002393  0.000071  0.007571  0.000607  0.000214   \n",
      "\n",
      "       7         8         9     ...      1058      1059      1060      1061  \\\n",
      "0  0.000577  0.002256  0.008605  ...  0.026838  0.016239  0.002230  0.013065   \n",
      "1  0.000429  0.001714  0.005285  ...  0.004321  0.000321  0.000857  0.000107   \n",
      "\n",
      "       1062      1063     1064     1065      1066      1067  \n",
      "0  0.006742  0.005011  0.01233  0.00181  0.000289  0.000944  \n",
      "1  0.001821  0.001428  0.00150  0.00175  0.040283  0.000000  \n",
      "\n",
      "[2 rows x 1068 columns]\n",
      "file ::: D:\\origin-source-code-bill\\models\\KMeans\\CSV\\['additions'].csv\n",
      "Var :: ['additions']\n",
      "DF ::       additions\n",
      "0            10\n",
      "1             2\n",
      "2            36\n",
      "3            21\n",
      "4           211\n",
      "...         ...\n",
      "1063        191\n",
      "1064        470\n",
      "1065         69\n",
      "1066         11\n",
      "1067         36\n",
      "\n",
      "[1068 rows x 1 columns]\n",
      "Scaled ::: [[2.62350132e-04]\n",
      " [5.24700265e-05]\n",
      " [9.44460477e-04]\n",
      " ...\n",
      " [1.81021591e-03]\n",
      " [2.88585146e-04]\n",
      " [9.44460477e-04]]\n",
      "scaled_df:::        0         1         2         3         4         5         6     \\\n",
      "0  0.000262  0.000052  0.000944  0.000551  0.005536  0.002912  0.000446   \n",
      "\n",
      "       7         8         9     ...      1058      1059     1060      1061  \\\n",
      "0  0.000577  0.002256  0.008605  ...  0.026838  0.016239  0.00223  0.013065   \n",
      "\n",
      "       1062      1063     1064     1065      1066      1067  \n",
      "0  0.006742  0.005011  0.01233  0.00181  0.000289  0.000944  \n",
      "\n",
      "[1 rows x 1068 columns]\n",
      "file ::: D:\\origin-source-code-bill\\models\\KMeans\\CSV\\['commits', 'additions', 'deletions'].csv\n",
      "Var :: ['commits', 'additions', 'deletions']\n",
      "DF ::       commits  additions  deletions\n",
      "0           1         10          4\n",
      "1           1          2          1\n",
      "2           1         36         67\n",
      "3           1         21          2\n",
      "4           8        211        212\n",
      "...       ...        ...        ...\n",
      "1063        4        191         40\n",
      "1064        6        470         42\n",
      "1065        2         69         49\n",
      "1066        1         11       1128\n",
      "1067        1         36          0\n",
      "\n",
      "[1068 rows x 3 columns]\n",
      "Scaled ::: [[0.00000000e+00 2.62350132e-04 1.42846940e-04]\n",
      " [0.00000000e+00 5.24700265e-05 3.57117349e-05]\n",
      " [0.00000000e+00 9.44460477e-04 2.39268624e-03]\n",
      " ...\n",
      " [8.69565217e-03 1.81021591e-03 1.74987501e-03]\n",
      " [0.00000000e+00 2.88585146e-04 4.02828369e-02]\n",
      " [0.00000000e+00 9.44460477e-04 0.00000000e+00]]\n",
      "scaled_df:::        0         1         2         3         4         5         6     \\\n",
      "0  0.000000  0.000000  0.000000  0.000000  0.060870  0.008696  0.000000   \n",
      "1  0.000262  0.000052  0.000944  0.000551  0.005536  0.002912  0.000446   \n",
      "2  0.000143  0.000036  0.002393  0.000071  0.007571  0.000607  0.000214   \n",
      "\n",
      "       7         8         9     ...      1058      1059      1060      1061  \\\n",
      "0  0.000000  0.026087  0.043478  ...  0.008696  0.026087  0.034783  0.043478   \n",
      "1  0.000577  0.002256  0.008605  ...  0.026838  0.016239  0.002230  0.013065   \n",
      "2  0.000429  0.001714  0.005285  ...  0.004321  0.000321  0.000857  0.000107   \n",
      "\n",
      "       1062      1063      1064      1065      1066      1067  \n",
      "0  0.017391  0.026087  0.043478  0.008696  0.000000  0.000000  \n",
      "1  0.006742  0.005011  0.012330  0.001810  0.000289  0.000944  \n",
      "2  0.001821  0.001428  0.001500  0.001750  0.040283  0.000000  \n",
      "\n",
      "[3 rows x 1068 columns]\n",
      "file ::: D:\\origin-source-code-bill\\models\\KMeans\\CSV\\['commits', 'additions'].csv\n",
      "Var :: ['commits', 'additions']\n",
      "DF ::       commits  additions\n",
      "0           1         10\n",
      "1           1          2\n",
      "2           1         36\n",
      "3           1         21\n",
      "4           8        211\n",
      "...       ...        ...\n",
      "1063        4        191\n",
      "1064        6        470\n",
      "1065        2         69\n",
      "1066        1         11\n",
      "1067        1         36\n",
      "\n",
      "[1068 rows x 2 columns]\n",
      "Scaled ::: [[0.00000000e+00 2.62350132e-04]\n",
      " [0.00000000e+00 5.24700265e-05]\n",
      " [0.00000000e+00 9.44460477e-04]\n",
      " ...\n",
      " [8.69565217e-03 1.81021591e-03]\n",
      " [0.00000000e+00 2.88585146e-04]\n",
      " [0.00000000e+00 9.44460477e-04]]\n",
      "scaled_df:::        0         1         2         3         4         5         6     \\\n",
      "0  0.000000  0.000000  0.000000  0.000000  0.060870  0.008696  0.000000   \n",
      "1  0.000262  0.000052  0.000944  0.000551  0.005536  0.002912  0.000446   \n",
      "\n",
      "       7         8         9     ...      1058      1059      1060      1061  \\\n",
      "0  0.000000  0.026087  0.043478  ...  0.008696  0.026087  0.034783  0.043478   \n",
      "1  0.000577  0.002256  0.008605  ...  0.026838  0.016239  0.002230  0.013065   \n",
      "\n",
      "       1062      1063      1064      1065      1066      1067  \n",
      "0  0.017391  0.026087  0.043478  0.008696  0.000000  0.000000  \n",
      "1  0.006742  0.005011  0.012330  0.001810  0.000289  0.000944  \n",
      "\n",
      "[2 rows x 1068 columns]\n",
      "file ::: D:\\origin-source-code-bill\\models\\KMeans\\CSV\\['commits', 'deletions'].csv\n",
      "Var :: ['commits', 'deletions']\n",
      "DF ::       commits  deletions\n",
      "0           1          4\n",
      "1           1          1\n",
      "2           1         67\n",
      "3           1          2\n",
      "4           8        212\n",
      "...       ...        ...\n",
      "1063        4         40\n",
      "1064        6         42\n",
      "1065        2         49\n",
      "1066        1       1128\n",
      "1067        1          0\n",
      "\n",
      "[1068 rows x 2 columns]\n",
      "Scaled ::: [[0.00000000e+00 1.42846940e-04]\n",
      " [0.00000000e+00 3.57117349e-05]\n",
      " [0.00000000e+00 2.39268624e-03]\n",
      " ...\n",
      " [8.69565217e-03 1.74987501e-03]\n",
      " [0.00000000e+00 4.02828369e-02]\n",
      " [0.00000000e+00 0.00000000e+00]]\n",
      "scaled_df:::        0         1         2         3         4         5         6     \\\n",
      "0  0.000000  0.000000  0.000000  0.000000  0.060870  0.008696  0.000000   \n",
      "1  0.000143  0.000036  0.002393  0.000071  0.007571  0.000607  0.000214   \n",
      "\n",
      "       7         8         9     ...      1058      1059      1060      1061  \\\n",
      "0  0.000000  0.026087  0.043478  ...  0.008696  0.026087  0.034783  0.043478   \n",
      "1  0.000429  0.001714  0.005285  ...  0.004321  0.000321  0.000857  0.000107   \n",
      "\n",
      "       1062      1063      1064      1065      1066  1067  \n",
      "0  0.017391  0.026087  0.043478  0.008696  0.000000   0.0  \n",
      "1  0.001821  0.001428  0.001500  0.001750  0.040283   0.0  \n",
      "\n",
      "[2 rows x 1068 columns]\n",
      "file ::: D:\\origin-source-code-bill\\models\\KMeans\\CSV\\['commits'].csv\n",
      "Var :: ['commits']\n",
      "DF ::       commits\n",
      "0           1\n",
      "1           1\n",
      "2           1\n",
      "3           1\n",
      "4           8\n",
      "...       ...\n",
      "1063        4\n",
      "1064        6\n",
      "1065        2\n",
      "1066        1\n",
      "1067        1\n",
      "\n",
      "[1068 rows x 1 columns]\n",
      "Scaled ::: [[0.        ]\n",
      " [0.        ]\n",
      " [0.        ]\n",
      " ...\n",
      " [0.00869565]\n",
      " [0.        ]\n",
      " [0.        ]]\n",
      "scaled_df:::    0     1     2     3        4         5     6     7         8         9     \\\n",
      "0   0.0   0.0   0.0   0.0  0.06087  0.008696   0.0   0.0  0.026087  0.043478   \n",
      "\n",
      "   ...      1058      1059      1060      1061      1062      1063      1064  \\\n",
      "0  ...  0.008696  0.026087  0.034783  0.043478  0.017391  0.026087  0.043478   \n",
      "\n",
      "       1065  1066  1067  \n",
      "0  0.008696   0.0   0.0  \n",
      "\n",
      "[1 rows x 1068 columns]\n",
      "file ::: D:\\origin-source-code-bill\\models\\KMeans\\CSV\\['deletions'].csv\n",
      "Var :: ['deletions']\n",
      "DF ::       deletions\n",
      "0             4\n",
      "1             1\n",
      "2            67\n",
      "3             2\n",
      "4           212\n",
      "...         ...\n",
      "1063         40\n",
      "1064         42\n",
      "1065         49\n",
      "1066       1128\n",
      "1067          0\n",
      "\n",
      "[1068 rows x 1 columns]\n",
      "Scaled ::: [[1.42846940e-04]\n",
      " [3.57117349e-05]\n",
      " [2.39268624e-03]\n",
      " ...\n",
      " [1.74987501e-03]\n",
      " [4.02828369e-02]\n",
      " [0.00000000e+00]]\n",
      "scaled_df:::        0         1         2         3         4         5         6     \\\n",
      "0  0.000143  0.000036  0.002393  0.000071  0.007571  0.000607  0.000214   \n",
      "\n",
      "       7         8         9     ...      1058      1059      1060      1061  \\\n",
      "0  0.000429  0.001714  0.005285  ...  0.004321  0.000321  0.000857  0.000107   \n",
      "\n",
      "       1062      1063    1064     1065      1066  1067  \n",
      "0  0.001821  0.001428  0.0015  0.00175  0.040283   0.0  \n",
      "\n",
      "[1 rows x 1068 columns]\n"
     ]
    }
   ],
   "source": [
    "data_dict = {}\n",
    "scaler = MinMaxScaler()\n",
    "scaled_dataframes = []\n",
    "\n",
    "\n",
    "# Loop through the CSV files and read each file into a separate DataFrame\n",
    "for csv_file in csv_files:\n",
    "    file_path = os.path.join(directory_path, csv_file)\n",
    "    print(\"file :::\" , file_path)\n",
    "    variable_name = os.path.splitext(csv_file)[0]\n",
    "    print(\"Var ::\" , variable_name)\n",
    "    df_col_combined = pd.read_csv(file_path)\n",
    "    print(\"DF ::\" , df_col_combined)\n",
    "    # data_dict[variable_name] = df_col_combined\n",
    "    # print(\"Dict DF:::\",data_dict[variable_name])\n",
    "    scaled_data = scaler.fit_transform(df_col_combined)\n",
    "    print(\"Scaled :::\", scaled_data)\n",
    "    scaled_df = pd.DataFrame(scaled_data, columns=df_col_combined.columns)\n",
    "    scaled_df = scaled_df.T\n",
    "    scaled_df.columns = [i for i in range(len(scaled_df.columns))]\n",
    "    scaled_df.reset_index(drop=True, inplace=True)\n",
    "    scaled_dataframes.append(scaled_df)\n",
    "    print(\"scaled_df:::\" , scaled_df)\n"
   ],
   "metadata": {
    "collapsed": false,
    "ExecuteTime": {
     "end_time": "2023-09-24T17:47:09.379944800Z",
     "start_time": "2023-09-24T17:47:09.279926500Z"
    }
   }
  },
  {
   "cell_type": "code",
   "execution_count": 324,
   "outputs": [
    {
     "data": {
      "text/plain": "[       0         1         2         3         4         5         6     \\\n 0  0.000262  0.000052  0.000944  0.000551  0.005536  0.002912  0.000446   \n 1  0.000143  0.000036  0.002393  0.000071  0.007571  0.000607  0.000214   \n \n        7         8         9     ...      1058      1059      1060      1061  \\\n 0  0.000577  0.002256  0.008605  ...  0.026838  0.016239  0.002230  0.013065   \n 1  0.000429  0.001714  0.005285  ...  0.004321  0.000321  0.000857  0.000107   \n \n        1062      1063     1064     1065      1066      1067  \n 0  0.006742  0.005011  0.01233  0.00181  0.000289  0.000944  \n 1  0.001821  0.001428  0.00150  0.00175  0.040283  0.000000  \n \n [2 rows x 1068 columns],\n        0         1         2         3         4         5         6     \\\n 0  0.000262  0.000052  0.000944  0.000551  0.005536  0.002912  0.000446   \n \n        7         8         9     ...      1058      1059     1060      1061  \\\n 0  0.000577  0.002256  0.008605  ...  0.026838  0.016239  0.00223  0.013065   \n \n        1062      1063     1064     1065      1066      1067  \n 0  0.006742  0.005011  0.01233  0.00181  0.000289  0.000944  \n \n [1 rows x 1068 columns],\n        0         1         2         3         4         5         6     \\\n 0  0.000000  0.000000  0.000000  0.000000  0.060870  0.008696  0.000000   \n 1  0.000262  0.000052  0.000944  0.000551  0.005536  0.002912  0.000446   \n 2  0.000143  0.000036  0.002393  0.000071  0.007571  0.000607  0.000214   \n \n        7         8         9     ...      1058      1059      1060      1061  \\\n 0  0.000000  0.026087  0.043478  ...  0.008696  0.026087  0.034783  0.043478   \n 1  0.000577  0.002256  0.008605  ...  0.026838  0.016239  0.002230  0.013065   \n 2  0.000429  0.001714  0.005285  ...  0.004321  0.000321  0.000857  0.000107   \n \n        1062      1063      1064      1065      1066      1067  \n 0  0.017391  0.026087  0.043478  0.008696  0.000000  0.000000  \n 1  0.006742  0.005011  0.012330  0.001810  0.000289  0.000944  \n 2  0.001821  0.001428  0.001500  0.001750  0.040283  0.000000  \n \n [3 rows x 1068 columns],\n        0         1         2         3         4         5         6     \\\n 0  0.000000  0.000000  0.000000  0.000000  0.060870  0.008696  0.000000   \n 1  0.000262  0.000052  0.000944  0.000551  0.005536  0.002912  0.000446   \n \n        7         8         9     ...      1058      1059      1060      1061  \\\n 0  0.000000  0.026087  0.043478  ...  0.008696  0.026087  0.034783  0.043478   \n 1  0.000577  0.002256  0.008605  ...  0.026838  0.016239  0.002230  0.013065   \n \n        1062      1063      1064      1065      1066      1067  \n 0  0.017391  0.026087  0.043478  0.008696  0.000000  0.000000  \n 1  0.006742  0.005011  0.012330  0.001810  0.000289  0.000944  \n \n [2 rows x 1068 columns],\n        0         1         2         3         4         5         6     \\\n 0  0.000000  0.000000  0.000000  0.000000  0.060870  0.008696  0.000000   \n 1  0.000143  0.000036  0.002393  0.000071  0.007571  0.000607  0.000214   \n \n        7         8         9     ...      1058      1059      1060      1061  \\\n 0  0.000000  0.026087  0.043478  ...  0.008696  0.026087  0.034783  0.043478   \n 1  0.000429  0.001714  0.005285  ...  0.004321  0.000321  0.000857  0.000107   \n \n        1062      1063      1064      1065      1066  1067  \n 0  0.017391  0.026087  0.043478  0.008696  0.000000   0.0  \n 1  0.001821  0.001428  0.001500  0.001750  0.040283   0.0  \n \n [2 rows x 1068 columns],\n    0     1     2     3        4         5     6     7         8         9     \\\n 0   0.0   0.0   0.0   0.0  0.06087  0.008696   0.0   0.0  0.026087  0.043478   \n \n    ...      1058      1059      1060      1061      1062      1063      1064  \\\n 0  ...  0.008696  0.026087  0.034783  0.043478  0.017391  0.026087  0.043478   \n \n        1065  1066  1067  \n 0  0.008696   0.0   0.0  \n \n [1 rows x 1068 columns],\n        0         1         2         3         4         5         6     \\\n 0  0.000143  0.000036  0.002393  0.000071  0.007571  0.000607  0.000214   \n \n        7         8         9     ...      1058      1059      1060      1061  \\\n 0  0.000429  0.001714  0.005285  ...  0.004321  0.000321  0.000857  0.000107   \n \n        1062      1063    1064     1065      1066  1067  \n 0  0.001821  0.001428  0.0015  0.00175  0.040283   0.0  \n \n [1 rows x 1068 columns]]"
     },
     "execution_count": 324,
     "metadata": {},
     "output_type": "execute_result"
    }
   ],
   "source": [
    "scaled_dataframes"
   ],
   "metadata": {
    "collapsed": false,
    "ExecuteTime": {
     "end_time": "2023-09-24T17:47:16.861488200Z",
     "start_time": "2023-09-24T17:47:16.830046400Z"
    }
   }
  },
  {
   "cell_type": "code",
   "execution_count": 325,
   "outputs": [
    {
     "data": {
      "text/plain": "list"
     },
     "execution_count": 325,
     "metadata": {},
     "output_type": "execute_result"
    }
   ],
   "source": [
    "type(scaled_dataframes)"
   ],
   "metadata": {
    "collapsed": false,
    "ExecuteTime": {
     "end_time": "2023-09-24T17:47:21.490471500Z",
     "start_time": "2023-09-24T17:47:21.483530200Z"
    }
   }
  },
  {
   "cell_type": "code",
   "execution_count": 335,
   "outputs": [
    {
     "name": "stderr",
     "output_type": "stream",
     "text": [
      "C:\\Users\\patcharaprapa_k\\AppData\\Local\\anaconda3\\lib\\site-packages\\pandas\\core\\internals\\construction.py:568: VisibleDeprecationWarning: Creating an ndarray from ragged nested sequences (which is a list-or-tuple of lists-or-tuples-or ndarrays with different lengths or shapes) is deprecated. If you meant to do this, you must specify 'dtype=object' when creating the ndarray.\n",
      "  values = np.array([convert(v) for v in values])\n"
     ]
    },
    {
     "data": {
      "text/plain": "                                                   0\n0         0         1         2         3        ...\n1         0         1         2         3        ...\n2         0         1         2         3        ...\n3         0         1         2         3        ...\n4         0         1         2         3        ...\n5     0     1     2     3        4         5     ...\n6         0         1         2         3        ...",
      "text/html": "<div>\n<style scoped>\n    .dataframe tbody tr th:only-of-type {\n        vertical-align: middle;\n    }\n\n    .dataframe tbody tr th {\n        vertical-align: top;\n    }\n\n    .dataframe thead th {\n        text-align: right;\n    }\n</style>\n<table border=\"1\" class=\"dataframe\">\n  <thead>\n    <tr style=\"text-align: right;\">\n      <th></th>\n      <th>0</th>\n    </tr>\n  </thead>\n  <tbody>\n    <tr>\n      <th>0</th>\n      <td>0         1         2         3        ...</td>\n    </tr>\n    <tr>\n      <th>1</th>\n      <td>0         1         2         3        ...</td>\n    </tr>\n    <tr>\n      <th>2</th>\n      <td>0         1         2         3        ...</td>\n    </tr>\n    <tr>\n      <th>3</th>\n      <td>0         1         2         3        ...</td>\n    </tr>\n    <tr>\n      <th>4</th>\n      <td>0         1         2         3        ...</td>\n    </tr>\n    <tr>\n      <th>5</th>\n      <td>0     1     2     3        4         5     ...</td>\n    </tr>\n    <tr>\n      <th>6</th>\n      <td>0         1         2         3        ...</td>\n    </tr>\n  </tbody>\n</table>\n</div>"
     },
     "execution_count": 335,
     "metadata": {},
     "output_type": "execute_result"
    }
   ],
   "source": [
    "df_scal = pd.DataFrame(scaled_dataframes)\n",
    "pd.set_option('display.max_rows', None)\n",
    "df_scal"
   ],
   "metadata": {
    "collapsed": false,
    "ExecuteTime": {
     "end_time": "2023-09-24T17:52:41.985568300Z",
     "start_time": "2023-09-24T17:52:41.981423300Z"
    }
   }
  },
  {
   "cell_type": "code",
   "execution_count": 333,
   "outputs": [
    {
     "name": "stdout",
     "output_type": "stream",
     "text": [
      "I ::::: 2\n"
     ]
    },
    {
     "ename": "ValueError",
     "evalue": "setting an array element with a sequence.",
     "output_type": "error",
     "traceback": [
      "\u001B[1;31m---------------------------------------------------------------------------\u001B[0m",
      "\u001B[1;31mTypeError\u001B[0m                                 Traceback (most recent call last)",
      "\u001B[1;31mTypeError\u001B[0m: float() argument must be a string or a real number, not 'DataFrame'",
      "\nThe above exception was the direct cause of the following exception:\n",
      "\u001B[1;31mValueError\u001B[0m                                Traceback (most recent call last)",
      "Cell \u001B[1;32mIn[333], line 9\u001B[0m\n\u001B[0;32m      7\u001B[0m \u001B[38;5;28mprint\u001B[39m(\u001B[38;5;124m\"\u001B[39m\u001B[38;5;124mI :::::\u001B[39m\u001B[38;5;124m\"\u001B[39m , i)\n\u001B[0;32m      8\u001B[0m km \u001B[38;5;241m=\u001B[39m KMeans(n_clusters\u001B[38;5;241m=\u001B[39mi)\n\u001B[1;32m----> 9\u001B[0m labels \u001B[38;5;241m=\u001B[39m \u001B[43mkm\u001B[49m\u001B[38;5;241;43m.\u001B[39;49m\u001B[43mfit_predict\u001B[49m\u001B[43m(\u001B[49m\u001B[43mdf_scal\u001B[49m\u001B[43m)\u001B[49m\n\u001B[0;32m     10\u001B[0m silhouette_avg \u001B[38;5;241m=\u001B[39m silhouette_score(df_scal, km\u001B[38;5;241m.\u001B[39mlabels_)\u001B[38;5;241m.\u001B[39mround(\u001B[38;5;241m4\u001B[39m)\n\u001B[0;32m     11\u001B[0m silhouette_scores\u001B[38;5;241m.\u001B[39mappend(silhouette_avg)\n",
      "File \u001B[1;32m~\\AppData\\Local\\anaconda3\\lib\\site-packages\\sklearn\\cluster\\_kmeans.py:1033\u001B[0m, in \u001B[0;36m_BaseKMeans.fit_predict\u001B[1;34m(self, X, y, sample_weight)\u001B[0m\n\u001B[0;32m   1010\u001B[0m \u001B[38;5;28;01mdef\u001B[39;00m \u001B[38;5;21mfit_predict\u001B[39m(\u001B[38;5;28mself\u001B[39m, X, y\u001B[38;5;241m=\u001B[39m\u001B[38;5;28;01mNone\u001B[39;00m, sample_weight\u001B[38;5;241m=\u001B[39m\u001B[38;5;28;01mNone\u001B[39;00m):\n\u001B[0;32m   1011\u001B[0m \u001B[38;5;250m    \u001B[39m\u001B[38;5;124;03m\"\"\"Compute cluster centers and predict cluster index for each sample.\u001B[39;00m\n\u001B[0;32m   1012\u001B[0m \n\u001B[0;32m   1013\u001B[0m \u001B[38;5;124;03m    Convenience method; equivalent to calling fit(X) followed by\u001B[39;00m\n\u001B[1;32m   (...)\u001B[0m\n\u001B[0;32m   1031\u001B[0m \u001B[38;5;124;03m        Index of the cluster each sample belongs to.\u001B[39;00m\n\u001B[0;32m   1032\u001B[0m \u001B[38;5;124;03m    \"\"\"\u001B[39;00m\n\u001B[1;32m-> 1033\u001B[0m     \u001B[38;5;28;01mreturn\u001B[39;00m \u001B[38;5;28;43mself\u001B[39;49m\u001B[38;5;241;43m.\u001B[39;49m\u001B[43mfit\u001B[49m\u001B[43m(\u001B[49m\u001B[43mX\u001B[49m\u001B[43m,\u001B[49m\u001B[43m \u001B[49m\u001B[43msample_weight\u001B[49m\u001B[38;5;241;43m=\u001B[39;49m\u001B[43msample_weight\u001B[49m\u001B[43m)\u001B[49m\u001B[38;5;241m.\u001B[39mlabels_\n",
      "File \u001B[1;32m~\\AppData\\Local\\anaconda3\\lib\\site-packages\\sklearn\\cluster\\_kmeans.py:1417\u001B[0m, in \u001B[0;36mKMeans.fit\u001B[1;34m(self, X, y, sample_weight)\u001B[0m\n\u001B[0;32m   1390\u001B[0m \u001B[38;5;250m\u001B[39m\u001B[38;5;124;03m\"\"\"Compute k-means clustering.\u001B[39;00m\n\u001B[0;32m   1391\u001B[0m \n\u001B[0;32m   1392\u001B[0m \u001B[38;5;124;03mParameters\u001B[39;00m\n\u001B[1;32m   (...)\u001B[0m\n\u001B[0;32m   1413\u001B[0m \u001B[38;5;124;03m    Fitted estimator.\u001B[39;00m\n\u001B[0;32m   1414\u001B[0m \u001B[38;5;124;03m\"\"\"\u001B[39;00m\n\u001B[0;32m   1415\u001B[0m \u001B[38;5;28mself\u001B[39m\u001B[38;5;241m.\u001B[39m_validate_params()\n\u001B[1;32m-> 1417\u001B[0m X \u001B[38;5;241m=\u001B[39m \u001B[38;5;28;43mself\u001B[39;49m\u001B[38;5;241;43m.\u001B[39;49m\u001B[43m_validate_data\u001B[49m\u001B[43m(\u001B[49m\n\u001B[0;32m   1418\u001B[0m \u001B[43m    \u001B[49m\u001B[43mX\u001B[49m\u001B[43m,\u001B[49m\n\u001B[0;32m   1419\u001B[0m \u001B[43m    \u001B[49m\u001B[43maccept_sparse\u001B[49m\u001B[38;5;241;43m=\u001B[39;49m\u001B[38;5;124;43m\"\u001B[39;49m\u001B[38;5;124;43mcsr\u001B[39;49m\u001B[38;5;124;43m\"\u001B[39;49m\u001B[43m,\u001B[49m\n\u001B[0;32m   1420\u001B[0m \u001B[43m    \u001B[49m\u001B[43mdtype\u001B[49m\u001B[38;5;241;43m=\u001B[39;49m\u001B[43m[\u001B[49m\u001B[43mnp\u001B[49m\u001B[38;5;241;43m.\u001B[39;49m\u001B[43mfloat64\u001B[49m\u001B[43m,\u001B[49m\u001B[43m \u001B[49m\u001B[43mnp\u001B[49m\u001B[38;5;241;43m.\u001B[39;49m\u001B[43mfloat32\u001B[49m\u001B[43m]\u001B[49m\u001B[43m,\u001B[49m\n\u001B[0;32m   1421\u001B[0m \u001B[43m    \u001B[49m\u001B[43morder\u001B[49m\u001B[38;5;241;43m=\u001B[39;49m\u001B[38;5;124;43m\"\u001B[39;49m\u001B[38;5;124;43mC\u001B[39;49m\u001B[38;5;124;43m\"\u001B[39;49m\u001B[43m,\u001B[49m\n\u001B[0;32m   1422\u001B[0m \u001B[43m    \u001B[49m\u001B[43mcopy\u001B[49m\u001B[38;5;241;43m=\u001B[39;49m\u001B[38;5;28;43mself\u001B[39;49m\u001B[38;5;241;43m.\u001B[39;49m\u001B[43mcopy_x\u001B[49m\u001B[43m,\u001B[49m\n\u001B[0;32m   1423\u001B[0m \u001B[43m    \u001B[49m\u001B[43maccept_large_sparse\u001B[49m\u001B[38;5;241;43m=\u001B[39;49m\u001B[38;5;28;43;01mFalse\u001B[39;49;00m\u001B[43m,\u001B[49m\n\u001B[0;32m   1424\u001B[0m \u001B[43m\u001B[49m\u001B[43m)\u001B[49m\n\u001B[0;32m   1426\u001B[0m \u001B[38;5;28mself\u001B[39m\u001B[38;5;241m.\u001B[39m_check_params_vs_input(X)\n\u001B[0;32m   1428\u001B[0m random_state \u001B[38;5;241m=\u001B[39m check_random_state(\u001B[38;5;28mself\u001B[39m\u001B[38;5;241m.\u001B[39mrandom_state)\n",
      "File \u001B[1;32m~\\AppData\\Local\\anaconda3\\lib\\site-packages\\sklearn\\base.py:546\u001B[0m, in \u001B[0;36mBaseEstimator._validate_data\u001B[1;34m(self, X, y, reset, validate_separately, **check_params)\u001B[0m\n\u001B[0;32m    544\u001B[0m     \u001B[38;5;28;01mraise\u001B[39;00m \u001B[38;5;167;01mValueError\u001B[39;00m(\u001B[38;5;124m\"\u001B[39m\u001B[38;5;124mValidation should be done on X, y or both.\u001B[39m\u001B[38;5;124m\"\u001B[39m)\n\u001B[0;32m    545\u001B[0m \u001B[38;5;28;01melif\u001B[39;00m \u001B[38;5;129;01mnot\u001B[39;00m no_val_X \u001B[38;5;129;01mand\u001B[39;00m no_val_y:\n\u001B[1;32m--> 546\u001B[0m     X \u001B[38;5;241m=\u001B[39m check_array(X, input_name\u001B[38;5;241m=\u001B[39m\u001B[38;5;124m\"\u001B[39m\u001B[38;5;124mX\u001B[39m\u001B[38;5;124m\"\u001B[39m, \u001B[38;5;241m*\u001B[39m\u001B[38;5;241m*\u001B[39mcheck_params)\n\u001B[0;32m    547\u001B[0m     out \u001B[38;5;241m=\u001B[39m X\n\u001B[0;32m    548\u001B[0m \u001B[38;5;28;01melif\u001B[39;00m no_val_X \u001B[38;5;129;01mand\u001B[39;00m \u001B[38;5;129;01mnot\u001B[39;00m no_val_y:\n",
      "File \u001B[1;32m~\\AppData\\Local\\anaconda3\\lib\\site-packages\\sklearn\\utils\\validation.py:879\u001B[0m, in \u001B[0;36mcheck_array\u001B[1;34m(array, accept_sparse, accept_large_sparse, dtype, order, copy, force_all_finite, ensure_2d, allow_nd, ensure_min_samples, ensure_min_features, estimator, input_name)\u001B[0m\n\u001B[0;32m    877\u001B[0m         array \u001B[38;5;241m=\u001B[39m xp\u001B[38;5;241m.\u001B[39mastype(array, dtype, copy\u001B[38;5;241m=\u001B[39m\u001B[38;5;28;01mFalse\u001B[39;00m)\n\u001B[0;32m    878\u001B[0m     \u001B[38;5;28;01melse\u001B[39;00m:\n\u001B[1;32m--> 879\u001B[0m         array \u001B[38;5;241m=\u001B[39m \u001B[43m_asarray_with_order\u001B[49m\u001B[43m(\u001B[49m\u001B[43marray\u001B[49m\u001B[43m,\u001B[49m\u001B[43m \u001B[49m\u001B[43morder\u001B[49m\u001B[38;5;241;43m=\u001B[39;49m\u001B[43morder\u001B[49m\u001B[43m,\u001B[49m\u001B[43m \u001B[49m\u001B[43mdtype\u001B[49m\u001B[38;5;241;43m=\u001B[39;49m\u001B[43mdtype\u001B[49m\u001B[43m,\u001B[49m\u001B[43m \u001B[49m\u001B[43mxp\u001B[49m\u001B[38;5;241;43m=\u001B[39;49m\u001B[43mxp\u001B[49m\u001B[43m)\u001B[49m\n\u001B[0;32m    880\u001B[0m \u001B[38;5;28;01mexcept\u001B[39;00m ComplexWarning \u001B[38;5;28;01mas\u001B[39;00m complex_warning:\n\u001B[0;32m    881\u001B[0m     \u001B[38;5;28;01mraise\u001B[39;00m \u001B[38;5;167;01mValueError\u001B[39;00m(\n\u001B[0;32m    882\u001B[0m         \u001B[38;5;124m\"\u001B[39m\u001B[38;5;124mComplex data not supported\u001B[39m\u001B[38;5;130;01m\\n\u001B[39;00m\u001B[38;5;132;01m{}\u001B[39;00m\u001B[38;5;130;01m\\n\u001B[39;00m\u001B[38;5;124m\"\u001B[39m\u001B[38;5;241m.\u001B[39mformat(array)\n\u001B[0;32m    883\u001B[0m     ) \u001B[38;5;28;01mfrom\u001B[39;00m \u001B[38;5;21;01mcomplex_warning\u001B[39;00m\n",
      "File \u001B[1;32m~\\AppData\\Local\\anaconda3\\lib\\site-packages\\sklearn\\utils\\_array_api.py:185\u001B[0m, in \u001B[0;36m_asarray_with_order\u001B[1;34m(array, dtype, order, copy, xp)\u001B[0m\n\u001B[0;32m    182\u001B[0m     xp, _ \u001B[38;5;241m=\u001B[39m get_namespace(array)\n\u001B[0;32m    183\u001B[0m \u001B[38;5;28;01mif\u001B[39;00m xp\u001B[38;5;241m.\u001B[39m\u001B[38;5;18m__name__\u001B[39m \u001B[38;5;129;01min\u001B[39;00m {\u001B[38;5;124m\"\u001B[39m\u001B[38;5;124mnumpy\u001B[39m\u001B[38;5;124m\"\u001B[39m, \u001B[38;5;124m\"\u001B[39m\u001B[38;5;124mnumpy.array_api\u001B[39m\u001B[38;5;124m\"\u001B[39m}:\n\u001B[0;32m    184\u001B[0m     \u001B[38;5;66;03m# Use NumPy API to support order\u001B[39;00m\n\u001B[1;32m--> 185\u001B[0m     array \u001B[38;5;241m=\u001B[39m \u001B[43mnumpy\u001B[49m\u001B[38;5;241;43m.\u001B[39;49m\u001B[43masarray\u001B[49m\u001B[43m(\u001B[49m\u001B[43marray\u001B[49m\u001B[43m,\u001B[49m\u001B[43m \u001B[49m\u001B[43morder\u001B[49m\u001B[38;5;241;43m=\u001B[39;49m\u001B[43morder\u001B[49m\u001B[43m,\u001B[49m\u001B[43m \u001B[49m\u001B[43mdtype\u001B[49m\u001B[38;5;241;43m=\u001B[39;49m\u001B[43mdtype\u001B[49m\u001B[43m)\u001B[49m\n\u001B[0;32m    186\u001B[0m     \u001B[38;5;28;01mreturn\u001B[39;00m xp\u001B[38;5;241m.\u001B[39masarray(array, copy\u001B[38;5;241m=\u001B[39mcopy)\n\u001B[0;32m    187\u001B[0m \u001B[38;5;28;01melse\u001B[39;00m:\n",
      "File \u001B[1;32m~\\AppData\\Local\\anaconda3\\lib\\site-packages\\pandas\\core\\generic.py:2070\u001B[0m, in \u001B[0;36mNDFrame.__array__\u001B[1;34m(self, dtype)\u001B[0m\n\u001B[0;32m   2069\u001B[0m \u001B[38;5;28;01mdef\u001B[39;00m \u001B[38;5;21m__array__\u001B[39m(\u001B[38;5;28mself\u001B[39m, dtype: npt\u001B[38;5;241m.\u001B[39mDTypeLike \u001B[38;5;241m|\u001B[39m \u001B[38;5;28;01mNone\u001B[39;00m \u001B[38;5;241m=\u001B[39m \u001B[38;5;28;01mNone\u001B[39;00m) \u001B[38;5;241m-\u001B[39m\u001B[38;5;241m>\u001B[39m np\u001B[38;5;241m.\u001B[39mndarray:\n\u001B[1;32m-> 2070\u001B[0m     \u001B[38;5;28;01mreturn\u001B[39;00m \u001B[43mnp\u001B[49m\u001B[38;5;241;43m.\u001B[39;49m\u001B[43masarray\u001B[49m\u001B[43m(\u001B[49m\u001B[38;5;28;43mself\u001B[39;49m\u001B[38;5;241;43m.\u001B[39;49m\u001B[43m_values\u001B[49m\u001B[43m,\u001B[49m\u001B[43m \u001B[49m\u001B[43mdtype\u001B[49m\u001B[38;5;241;43m=\u001B[39;49m\u001B[43mdtype\u001B[49m\u001B[43m)\u001B[49m\n",
      "\u001B[1;31mValueError\u001B[0m: setting an array element with a sequence."
     ]
    }
   ],
   "source": [
    "from sklearn.cluster import KMeans\n",
    "from sklearn.metrics import silhouette_score\n",
    "\n",
    "silhouette_scores = []\n",
    "\n",
    "for i in range(2,10):\n",
    "    print(\"I :::::\" , i)\n",
    "    km = KMeans(n_clusters=i)\n",
    "    labels = km.fit_predict(df_scal)\n",
    "    silhouette_avg = silhouette_score(df_scal, km.labels_).round(4)\n",
    "    silhouette_scores.append(silhouette_avg)\n",
    "    # km = KMeans(n_clusters=i)\n",
    "    # print(km)\n",
    "    # km.fit(df_scal)\n",
    "    # labels = km.predict(df_scal)\n",
    "    # print(labels)\n",
    "    # sil_avg = silhouette_score(df_scal, km.labels_).round(4)\n",
    "    # print(sil_avg)\n",
    "    # silhouette_scores.append(sil_avg)\n",
    "    # print(silhouette_scores)\n",
    "\n",
    "    # Create an empty list to store silhouette scores\n",
    "# silhouette_scores = []\n",
    "#\n",
    "# # Loop through different numbers of clusters\n",
    "# for n_clusters in n_clusters_range:\n",
    "#     km = KMeans(n_clusters=n_clusters)\n",
    "#     labels = km.fit_predict(df)\n",
    "#     silhouette_avg = silhouette_score(df, km.labels_).round(4)\n",
    "#     silhouette_scores.append(silhouette_avg)"
   ],
   "metadata": {
    "collapsed": false,
    "ExecuteTime": {
     "end_time": "2023-09-24T17:50:17.140832200Z",
     "start_time": "2023-09-24T17:50:17.057642200Z"
    }
   }
  },
  {
   "cell_type": "code",
   "execution_count": 321,
   "outputs": [
    {
     "name": "stdout",
     "output_type": "stream",
     "text": [
      "<class 'pandas.core.frame.DataFrame'>\n"
     ]
    },
    {
     "name": "stderr",
     "output_type": "stream",
     "text": [
      "C:\\Users\\patcharaprapa_k\\AppData\\Local\\anaconda3\\lib\\site-packages\\sklearn\\cluster\\_kmeans.py:870: FutureWarning: The default value of `n_init` will change from 10 to 'auto' in 1.4. Set the value of `n_init` explicitly to suppress the warning\n",
      "  warnings.warn(\n",
      "C:\\Users\\patcharaprapa_k\\AppData\\Local\\anaconda3\\lib\\site-packages\\sklearn\\cluster\\_kmeans.py:1382: UserWarning: KMeans is known to have a memory leak on Windows with MKL, when there are less chunks than available threads. You can avoid it by setting the environment variable OMP_NUM_THREADS=1.\n",
      "  warnings.warn(\n",
      "C:\\Users\\patcharaprapa_k\\AppData\\Local\\anaconda3\\lib\\site-packages\\sklearn\\cluster\\_kmeans.py:870: FutureWarning: The default value of `n_init` will change from 10 to 'auto' in 1.4. Set the value of `n_init` explicitly to suppress the warning\n",
      "  warnings.warn(\n",
      "C:\\Users\\patcharaprapa_k\\AppData\\Local\\anaconda3\\lib\\site-packages\\sklearn\\cluster\\_kmeans.py:1382: UserWarning: KMeans is known to have a memory leak on Windows with MKL, when there are less chunks than available threads. You can avoid it by setting the environment variable OMP_NUM_THREADS=1.\n",
      "  warnings.warn(\n",
      "C:\\Users\\patcharaprapa_k\\AppData\\Local\\anaconda3\\lib\\site-packages\\sklearn\\cluster\\_kmeans.py:870: FutureWarning: The default value of `n_init` will change from 10 to 'auto' in 1.4. Set the value of `n_init` explicitly to suppress the warning\n",
      "  warnings.warn(\n",
      "C:\\Users\\patcharaprapa_k\\AppData\\Local\\anaconda3\\lib\\site-packages\\sklearn\\cluster\\_kmeans.py:1382: UserWarning: KMeans is known to have a memory leak on Windows with MKL, when there are less chunks than available threads. You can avoid it by setting the environment variable OMP_NUM_THREADS=1.\n",
      "  warnings.warn(\n",
      "C:\\Users\\patcharaprapa_k\\AppData\\Local\\anaconda3\\lib\\site-packages\\sklearn\\cluster\\_kmeans.py:870: FutureWarning: The default value of `n_init` will change from 10 to 'auto' in 1.4. Set the value of `n_init` explicitly to suppress the warning\n",
      "  warnings.warn(\n",
      "C:\\Users\\patcharaprapa_k\\AppData\\Local\\anaconda3\\lib\\site-packages\\sklearn\\cluster\\_kmeans.py:1382: UserWarning: KMeans is known to have a memory leak on Windows with MKL, when there are less chunks than available threads. You can avoid it by setting the environment variable OMP_NUM_THREADS=1.\n",
      "  warnings.warn(\n",
      "C:\\Users\\patcharaprapa_k\\AppData\\Local\\anaconda3\\lib\\site-packages\\sklearn\\cluster\\_kmeans.py:870: FutureWarning: The default value of `n_init` will change from 10 to 'auto' in 1.4. Set the value of `n_init` explicitly to suppress the warning\n",
      "  warnings.warn(\n",
      "C:\\Users\\patcharaprapa_k\\AppData\\Local\\anaconda3\\lib\\site-packages\\sklearn\\cluster\\_kmeans.py:1382: UserWarning: KMeans is known to have a memory leak on Windows with MKL, when there are less chunks than available threads. You can avoid it by setting the environment variable OMP_NUM_THREADS=1.\n",
      "  warnings.warn(\n"
     ]
    },
    {
     "data": {
      "text/plain": "<Figure size 800x600 with 1 Axes>",
      "image/png": "[encoded data removed]"
     },
     "metadata": {},
     "output_type": "display_data"
    }
   ],
   "source": [
    "import pandas as pd\n",
    "from sklearn.cluster import KMeans\n",
    "from sklearn.metrics import silhouette_score\n",
    "import matplotlib.pyplot as plt\n",
    "\n",
    "# Create a sample DataFrame with one column (replace with your data)\n",
    "# data = {\n",
    "#     'Value': [0         1         2         3         4         5     \\\n",
    "# deletions  0.000143  0.000036  0.002393  0.000071  0.007571  0.000607\n",
    "#                6         7         8         9 ]\n",
    "# }\n",
    "print(type(df))\n",
    "df = pd.DataFrame(data)\n",
    "\n",
    "# Initialize KMeans parameters\n",
    "n_clusters_range = range(2, len(df))  # Adjust the range of clusters you want to try\n",
    "\n",
    "# Create an empty list to store silhouette scores\n",
    "silhouette_scores = []\n",
    "\n",
    "# Loop through different numbers of clusters\n",
    "for n_clusters in n_clusters_range:\n",
    "    km = KMeans(n_clusters=n_clusters)\n",
    "    labels = km.fit_predict(df)\n",
    "    silhouette_avg = silhouette_score(df, km.labels_).round(4)\n",
    "    silhouette_scores.append(silhouette_avg)\n",
    "\n",
    "# Plot the silhouette scores\n",
    "plt.figure(figsize=(8, 6))\n",
    "plt.plot(n_clusters_range, silhouette_scores, marker='o', linestyle='-', color='b')\n",
    "plt.xlabel('Number of Clusters')\n",
    "plt.ylabel('Silhouette Score')\n",
    "plt.title('Silhouette Score vs. Number of Clusters')\n",
    "plt.grid(True)\n",
    "plt.show()\n"
   ],
   "metadata": {
    "collapsed": false,
    "ExecuteTime": {
     "end_time": "2023-09-24T17:42:53.550181900Z",
     "start_time": "2023-09-24T17:42:51.988290300Z"
    }
   }
  },
  {
   "cell_type": "code",
   "execution_count": null,
   "outputs": [],
   "source": [],
   "metadata": {
    "collapsed": false
   }
  }
 ],
 "metadata": {
  "kernelspec": {
   "display_name": "Python 3",
   "language": "python",
   "name": "python3"
  },
  "language_info": {
   "codemirror_mode": {
    "name": "ipython",
    "version": 2
   },
   "file_extension": ".py",
   "mimetype": "text/x-python",
   "name": "python",
   "nbconvert_exporter": "python",
   "pygments_lexer": "ipython2",
   "version": "2.7.6"
  }
 },
 "nbformat": 4,
 "nbformat_minor": 0
}
