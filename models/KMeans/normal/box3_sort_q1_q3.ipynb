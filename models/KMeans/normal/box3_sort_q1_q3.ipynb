{
 "cells": [
  {
   "cell_type": "code",
   "id": "initial_id",
   "metadata": {
    "collapsed": true,
    "ExecuteTime": {
     "end_time": "2024-05-07T07:39:11.945774Z",
     "start_time": "2024-05-07T07:39:11.926561Z"
    }
   },
   "source": [
    "import numpy as np\n",
    "import pandas as pd\n",
    "import matplotlib.pyplot as plt\n",
    "import os\n",
    "import seaborn as sns\n",
    "import seaborn.objects as so"
   ],
   "execution_count": 1,
   "outputs": []
  },
  {
   "cell_type": "markdown",
   "source": [],
   "metadata": {
    "collapsed": false
   },
   "id": "f9be23d76cc1257c"
  },
  {
   "cell_type": "code",
   "source": [
    "directory_path_box_max = r'../../models/Box/3/max'\n",
    "directory_path_box_min = r'../../models/Box/3/min'"
   ],
   "metadata": {
    "collapsed": false,
    "ExecuteTime": {
     "end_time": "2024-05-07T07:39:11.948234Z",
     "start_time": "2024-05-07T07:39:11.946848Z"
    }
   },
   "id": "b65114ee6c9db99c",
   "execution_count": 2,
   "outputs": []
  },
  {
   "cell_type": "code",
   "source": [
    "directory_path_min = r'../../../models/KMeans/output/q3_c3/q3_c3_top_10_normal2024-04-30 04:57:39.parquet'\n",
    "directory_path_max = r'../../../models/KMeans/output/q3_c3/q3_c3_top_10_normal2024-04-30 04:57:39.parquet'\n",
    "df_20_col = pd.read_parquet('../../../models/KMeans/output/seatunnal_20col.parquet')\n",
    "df_original = pd.read_parquet('../../../Sonar/seatunnel_all_information.parquet')"
   ],
   "metadata": {
    "collapsed": false,
    "ExecuteTime": {
     "end_time": "2024-05-07T07:41:58.345902Z",
     "start_time": "2024-05-07T07:41:58.312650Z"
    }
   },
   "id": "a2562a59f96603ad",
   "execution_count": 7,
   "outputs": []
  },
  {
   "cell_type": "code",
   "source": [
    "df_min = pd.read_parquet(directory_path_min)\n",
    "df_max = pd.read_parquet(directory_path_max)"
   ],
   "metadata": {
    "collapsed": false,
    "ExecuteTime": {
     "end_time": "2024-05-07T07:41:58.974471Z",
     "start_time": "2024-05-07T07:41:58.960854Z"
    }
   },
   "id": "f34bd5dbf312184e",
   "execution_count": 8,
   "outputs": []
  },
  {
   "metadata": {
    "ExecuteTime": {
     "end_time": "2024-05-07T07:42:00.060873Z",
     "start_time": "2024-05-07T07:42:00.054478Z"
    }
   },
   "cell_type": "code",
   "source": "df_min.columns",
   "id": "ade59532a850c99e",
   "execution_count": 9,
   "outputs": []
  },
  {
   "metadata": {},
   "cell_type": "markdown",
   "source": "เรียงลำดับมากไปน้อย q3",
   "id": "2e37aa76e87fdf56"
  },
  {
   "metadata": {
    "ExecuteTime": {
     "end_time": "2024-05-07T07:42:05.660246Z",
     "start_time": "2024-05-07T07:42:05.656361Z"
    }
   },
   "cell_type": "code",
   "source": [
    "df_max_sort = df_max[\n",
    "    ['col', 'cluter0_q3', 'cluter1_q3', 'cluter2_q3', 'cluter0_q1', 'cluter1_q1', 'cluter2_q1', 'label']]"
   ],
   "id": "312d03855c51cbb0",
   "execution_count": 10,
   "outputs": []
  },
  {
   "metadata": {
    "ExecuteTime": {
     "end_time": "2024-05-07T07:42:07.582845Z",
     "start_time": "2024-05-07T07:42:07.550180Z"
    }
   },
   "cell_type": "code",
   "source": "df_max_sort",
   "id": "37b2ded73bd12f57",
   "execution_count": 11,
   "outputs": []
  },
  {
   "metadata": {},
   "cell_type": "markdown",
   "source": "loop sort values of q3 minimux",
   "id": "e5196391d66a2f54"
  },
  {
   "metadata": {
    "ExecuteTime": {
     "end_time": "2024-05-07T07:42:22.061284Z",
     "start_time": "2024-05-07T07:42:22.045445Z"
    }
   },
   "cell_type": "code",
   "source": [
    "q3 = df_max_sort.iloc[:, [1, 2, 3]]\n",
    "q3"
   ],
   "id": "1c0da0b009aead9d",
   "execution_count": 13,
   "outputs": []
  },
  {
   "metadata": {},
   "cell_type": "code",
   "source": "q1 = df_max_sort.iloc[:, [4, 5, 6]]",
   "id": "e12fff34e3220547",
   "execution_count": null,
   "outputs": []
  },
  {
   "metadata": {},
   "cell_type": "code",
   "source": [
    "def loop_check_value_q(df):\n",
    "    index_list = []\n",
    "    min_values_list = []\n",
    "    max_values_list = []\n",
    "    for i in range(len(df)):\n",
    "        x = df.iloc[i].sort_values()\n",
    "        print('index:', df.index[i])\n",
    "        # print('value:', x)\n",
    "        min = x[0]\n",
    "        max = x[2]\n",
    "        print('min:', x[0])\n",
    "        print('max:', x[2])\n",
    "        index_list.append(df.index[i])\n",
    "        min_values_list.append(min)\n",
    "        max_values_list.append(max)\n",
    "    \n",
    "    return index_list, min_values_list, max_values_list"
   ],
   "id": "73aa88b7c20c26dc",
   "execution_count": null,
   "outputs": []
  },
  {
   "metadata": {},
   "cell_type": "code",
   "source": "index, min_q3 , max_q3 = loop_check_value_q(q3)",
   "id": "947c0fdc8fbcb197",
   "execution_count": null,
   "outputs": []
  },
  {
   "metadata": {},
   "cell_type": "code",
   "source": "min_q3",
   "id": "a6b4aba5edbbeaff",
   "execution_count": null,
   "outputs": []
  },
  {
   "metadata": {},
   "cell_type": "code",
   "source": "max_q3",
   "id": "6e099abfadd3e8a",
   "execution_count": null,
   "outputs": []
  },
  {
   "metadata": {},
   "cell_type": "markdown",
   "source": "",
   "id": "109d127f6f21934c"
  },
  {
   "metadata": {},
   "cell_type": "markdown",
   "source": "min and max value of q1",
   "id": "b702984f1ccf2fb2"
  },
  {
   "metadata": {},
   "cell_type": "code",
   "source": "index, min_q1 , max_q1 = loop_check_value_q(q1)",
   "id": "33d558d1b8d86877",
   "execution_count": null,
   "outputs": []
  },
  {
   "metadata": {},
   "cell_type": "markdown",
   "source": "min and max value of q3",
   "id": "e1354d2caf1b31aa"
  },
  {
   "metadata": {},
   "cell_type": "code",
   "source": "concat_col = pd.concat([pd.DataFrame(index, columns=['index']), pd.DataFrame(min_q1, columns=['min']), pd.DataFrame(max_q3, columns=['max'])], axis=1) ",
   "id": "b656e0f2447eefd",
   "execution_count": null,
   "outputs": []
  },
  {
   "metadata": {},
   "cell_type": "code",
   "source": [
    "concat_col = pd.DataFrame(concat_col)\n",
    "concat_col.set_index('index', inplace=True)\n",
    "concat_col"
   ],
   "id": "9a65969ff3502cc9",
   "execution_count": null,
   "outputs": []
  },
  {
   "metadata": {},
   "cell_type": "code",
   "source": "df_max_sort",
   "id": "2b2b71f72fba254d",
   "execution_count": null,
   "outputs": []
  },
  {
   "metadata": {},
   "cell_type": "code",
   "source": "df_max_class = pd.merge(df_max_sort, concat_col, left_index=True, right_index=True)",
   "id": "37ef5d118b7b61d",
   "execution_count": null,
   "outputs": []
  },
  {
   "metadata": {},
   "cell_type": "code",
   "source": "df_max_class",
   "id": "8d969d1b5b3644f2",
   "execution_count": null,
   "outputs": []
  },
  {
   "metadata": {},
   "cell_type": "code",
   "source": "df_max_class.to_parquet('../../models/KMeans/output/q3_c3/df_max_time_class.parquet')",
   "id": "a315b2761bc2736b",
   "execution_count": null,
   "outputs": []
  },
  {
   "metadata": {},
   "cell_type": "markdown",
   "source": "Model classification of q3 SVM",
   "id": "5e78db5e66994db"
  },
  {
   "metadata": {},
   "cell_type": "code",
   "source": [
    "for i in df_max_class.iloc:\n",
    "    # print(\"I ::\", i)\n",
    "    \n",
    "    df_compare = df_20_col[list(i['col'])]\n",
    "    # print(\"DF ::\", df_compare)\n",
    "    \n",
    "    arr = np.array(i['label'])\n",
    "    # print(\"Arr ::\", arr)\n",
    "    \n",
    "    df_arr = pd.DataFrame(arr.reshape(-1,1), columns=['label'])\n",
    "    # print(\"DF Arr ::\", df_arr)\n",
    "    \n",
    "    df_col_combined = pd.concat([df_compare, df_arr], axis=1)\n",
    "    df_col_combined = pd.concat([df_col_combined, df_original['total_time']], axis=1)\n",
    "    \n",
    "    date = pd.to_timedelta(df_col_combined['total_time'])\n",
    "    time_hours = date.dt.total_seconds() / 3600\n",
    "\n",
    "    df_col_combined['hours'] = time_hours\n",
    "    df_col_combined['min'] = [i['min']] * len(df_col_combined)\n",
    "    df_col_combined['max'] = [i['max']] * len(df_col_combined)\n",
    "    \n",
    "    print(\"DF Combined ::\", df_col_combined)"
   ],
   "id": "f26c5b8060b95045",
   "execution_count": null,
   "outputs": []
  },
  {
   "metadata": {},
   "cell_type": "code",
   "source": "",
   "id": "c08989a884c664f9",
   "execution_count": null,
   "outputs": []
  }
 ],
 "metadata": {
  "kernelspec": {
   "display_name": "Python 3",
   "language": "python",
   "name": "python3"
  },
  "language_info": {
   "codemirror_mode": {
    "name": "ipython",
    "version": 2
   },
   "file_extension": ".py",
   "mimetype": "text/x-python",
   "name": "python",
   "nbconvert_exporter": "python",
   "pygments_lexer": "ipython2",
   "version": "2.7.6"
  }
 },
 "nbformat": 4,
 "nbformat_minor": 5
}
