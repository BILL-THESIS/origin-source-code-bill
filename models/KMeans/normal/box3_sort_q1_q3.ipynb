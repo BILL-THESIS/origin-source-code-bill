{
 "cells": [
  {
   "cell_type": "code",
   "id": "initial_id",
   "metadata": {
    "collapsed": true,
    "ExecuteTime": {
     "end_time": "2024-05-07T07:39:11.945774Z",
     "start_time": "2024-05-07T07:39:11.926561Z"
    }
   },
   "source": [
    "import numpy as np\n",
    "import pandas as pd\n",
    "import matplotlib.pyplot as plt\n",
    "import os\n",
    "import seaborn as sns\n",
    "import seaborn.objects as so"
   ],
   "outputs": [],
   "execution_count": 1
  },
  {
   "cell_type": "markdown",
   "source": [],
   "metadata": {
    "collapsed": false
   },
   "id": "f9be23d76cc1257c"
  },
  {
   "cell_type": "code",
   "source": [
    "directory_path_box_max = r'../../models/Box/3/max'\n",
    "directory_path_box_min = r'../../models/Box/3/min'"
   ],
   "metadata": {
    "collapsed": false,
    "ExecuteTime": {
     "end_time": "2024-05-07T07:39:11.948234Z",
     "start_time": "2024-05-07T07:39:11.946848Z"
    }
   },
   "id": "b65114ee6c9db99c",
   "outputs": [],
   "execution_count": 2
  },
  {
   "cell_type": "code",
   "source": [
    "directory_path_min = r'../../../models/KMeans/output/q3_c3/q3_c3_top_10_normal2024-04-30 04:57:39.parquet'\n",
    "directory_path_max = r'../../../models/KMeans/output/q3_c3/q3_c3_top_10_normal2024-04-30 04:57:39.parquet'\n",
    "df_20_col = pd.read_parquet('../../../models/KMeans/output/seatunnal_20col.parquet')\n",
    "df_original = pd.read_parquet('../../../Sonar/seatunnel_all_information.parquet')"
   ],
   "metadata": {
    "collapsed": false,
    "ExecuteTime": {
     "end_time": "2024-05-07T07:41:58.345902Z",
     "start_time": "2024-05-07T07:41:58.312650Z"
    }
   },
   "id": "a2562a59f96603ad",
   "outputs": [],
   "execution_count": 7
  },
  {
   "cell_type": "code",
   "source": [
    "df_min = pd.read_parquet(directory_path_min)\n",
    "df_max = pd.read_parquet(directory_path_max)"
   ],
   "metadata": {
    "collapsed": false,
    "ExecuteTime": {
     "end_time": "2024-05-07T07:41:58.974471Z",
     "start_time": "2024-05-07T07:41:58.960854Z"
    }
   },
   "id": "f34bd5dbf312184e",
   "outputs": [],
   "execution_count": 8
  },
  {
   "metadata": {
    "ExecuteTime": {
     "end_time": "2024-05-07T07:42:00.060873Z",
     "start_time": "2024-05-07T07:42:00.054478Z"
    }
   },
   "cell_type": "code",
   "source": "df_min.columns",
   "id": "ade59532a850c99e",
   "outputs": [
    {
     "data": {
      "text/plain": [
       "Index(['col', 'cluter0_q3', 'cluter0_q1', 'shape_c0_q3', 'shape_c0_q1',\n",
       "       'cv_q3_c0', 'cv_q1_c0', 'label', 'median_0', 'cluter2_q3', 'cluter2_q1',\n",
       "       'shape_c2_q3', 'shape_c2_q1', 'cv_q3_c2', 'cv_q1_c2', 'median_2',\n",
       "       'cluter1_q3', 'cluter1_q1', 'shape_c1_q3', 'shape_c1_q1', 'cv_q3_c1',\n",
       "       'cv_q1_c1', 'median_1', 'Q3', 'Q1', 'max_q3_equa', 'min_q3_equa',\n",
       "       'max_q1_equa', 'min_q1_equa'],\n",
       "      dtype='object')"
      ]
     },
     "execution_count": 9,
     "metadata": {},
     "output_type": "execute_result"
    }
   ],
   "execution_count": 9
  },
  {
   "metadata": {},
   "cell_type": "markdown",
   "source": "เรียงลำดับมากไปน้อย q3",
   "id": "2e37aa76e87fdf56"
  },
  {
   "metadata": {
    "ExecuteTime": {
     "end_time": "2024-05-07T07:42:05.660246Z",
     "start_time": "2024-05-07T07:42:05.656361Z"
    }
   },
   "cell_type": "code",
   "source": [
    "df_max_sort = df_max[\n",
    "    ['col', 'cluter0_q3', 'cluter1_q3', 'cluter2_q3', 'cluter0_q1', 'cluter1_q1', 'cluter2_q1', 'label']]"
   ],
   "id": "312d03855c51cbb0",
   "outputs": [],
   "execution_count": 10
  },
  {
   "metadata": {
    "ExecuteTime": {
     "end_time": "2024-05-07T07:42:07.582845Z",
     "start_time": "2024-05-07T07:42:07.550180Z"
    }
   },
   "cell_type": "code",
   "source": "df_max_sort",
   "id": "37b2ded73bd12f57",
   "outputs": [
    {
     "data": {
      "text/plain": [
       "                                                      col  \\\n",
       "17240   [D_change, C_change, D_percent, B_percent, CP_...   \n",
       "19                                  [D_change, C_percent]   \n",
       "154                      [D_change, D_percent, C_percent]   \n",
       "2688    [D_change, CP_change, D_percent, B_percent, OO...   \n",
       "18                                  [D_change, D_percent]   \n",
       "80004   [begin_D, begin_B, begin_CP, end_CP, end_C, D_...   \n",
       "107720  [begin_B, begin_CP, begin_C, begin_OOA, end_D,...   \n",
       "236                [begin_D, end_D, D_change, OOA_change]   \n",
       "2953    [begin_D, begin_B, end_D, D_change, CP_change,...   \n",
       "3250    [begin_D, begin_CP, end_D, D_change, B_change,...   \n",
       "\n",
       "                  cluter0_q3            cluter1_q3            cluter2_q3  \\\n",
       "17240    [78.63486111111112]  [19.405555555555555]   [348.2376388888889]   \n",
       "19      [31.253888888888888]   [78.63486111111112]  [308.30875000000003]   \n",
       "154      [78.63486111111112]  [31.253888888888888]  [308.30875000000003]   \n",
       "2688     [299.3045833333333]   [23.01451388888889]   [80.51416666666667]   \n",
       "18       [75.51215277777779]  [0.4582638888888889]  [267.04340277777777]   \n",
       "80004    [90.09361111111112]  [37.306805555555556]  [156.89493055555556]   \n",
       "107720  [156.89493055555556]   [37.76444444444444]   [90.80916666666667]   \n",
       "236      [35.09194444444445]  [146.78201388888888]   [70.74222222222222]   \n",
       "2953    [35.646388888888886]  [146.78201388888888]   [71.35743055555555]   \n",
       "3250     [71.35743055555555]  [35.646388888888886]  [146.78201388888888]   \n",
       "\n",
       "                  cluter0_q1            cluter1_q1            cluter2_q1  \\\n",
       "17240    [2.944722222222222]             [1.98875]  [1.7270833333333333]   \n",
       "19      [2.4277777777777776]   [2.912013888888889]  [1.8347222222222221]   \n",
       "154      [2.912013888888889]  [2.4277777777777776]  [1.8347222222222221]   \n",
       "2688     [1.437638888888889]  [2.1056944444444445]              [2.9475]   \n",
       "18      [2.8247916666666666]  [0.2553472222222222]   [5.258194444444444]   \n",
       "80004    [7.331111111111111]  [1.5184722222222222]   [4.976527777777778]   \n",
       "107720   [4.435555555555555]   [1.443888888888889]   [7.982361111111111]   \n",
       "236     [1.2305555555555556]   [6.529097222222222]   [5.293055555555555]   \n",
       "2953    [1.2914583333333334]   [5.896527777777778]  [5.4065972222222225]   \n",
       "3250    [5.4065972222222225]  [1.2914583333333334]   [5.896527777777778]   \n",
       "\n",
       "                                                    label  \n",
       "17240   [0, 0, 0, 0, 0, 0, 0, 0, 0, 0, 0, 0, 0, 0, 0, ...  \n",
       "19      [1, 1, 1, 1, 1, 1, 1, 1, 1, 1, 1, 1, 1, 1, 1, ...  \n",
       "154     [0, 0, 0, 0, 0, 0, 0, 0, 0, 0, 0, 0, 0, 0, 0, ...  \n",
       "2688    [2, 2, 2, 2, 2, 2, 2, 2, 2, 2, 2, 2, 2, 2, 2, ...  \n",
       "18      [0, 0, 0, 0, 0, 0, 0, 0, 0, 0, 0, 0, 0, 0, 0, ...  \n",
       "80004   [2, 2, 2, 2, 2, 2, 2, 2, 2, 2, 2, 2, 2, 2, 2, ...  \n",
       "107720  [0, 0, 0, 0, 0, 0, 0, 0, 0, 0, 0, 0, 0, 0, 0, ...  \n",
       "236     [1, 1, 1, 1, 1, 1, 1, 1, 1, 1, 1, 1, 1, 1, 1, ...  \n",
       "2953    [1, 1, 1, 1, 1, 1, 1, 1, 1, 1, 1, 1, 1, 1, 1, ...  \n",
       "3250    [2, 2, 2, 2, 2, 2, 2, 2, 2, 2, 2, 2, 2, 2, 2, ...  "
      ],
      "text/html": [
       "<div>\n",
       "<style scoped>\n",
       "    .dataframe tbody tr th:only-of-type {\n",
       "        vertical-align: middle;\n",
       "    }\n",
       "\n",
       "    .dataframe tbody tr th {\n",
       "        vertical-align: top;\n",
       "    }\n",
       "\n",
       "    .dataframe thead th {\n",
       "        text-align: right;\n",
       "    }\n",
       "</style>\n",
       "<table border=\"1\" class=\"dataframe\">\n",
       "  <thead>\n",
       "    <tr style=\"text-align: right;\">\n",
       "      <th></th>\n",
       "      <th>col</th>\n",
       "      <th>cluter0_q3</th>\n",
       "      <th>cluter1_q3</th>\n",
       "      <th>cluter2_q3</th>\n",
       "      <th>cluter0_q1</th>\n",
       "      <th>cluter1_q1</th>\n",
       "      <th>cluter2_q1</th>\n",
       "      <th>label</th>\n",
       "    </tr>\n",
       "  </thead>\n",
       "  <tbody>\n",
       "    <tr>\n",
       "      <th>17240</th>\n",
       "      <td>[D_change, C_change, D_percent, B_percent, CP_...</td>\n",
       "      <td>[78.63486111111112]</td>\n",
       "      <td>[19.405555555555555]</td>\n",
       "      <td>[348.2376388888889]</td>\n",
       "      <td>[2.944722222222222]</td>\n",
       "      <td>[1.98875]</td>\n",
       "      <td>[1.7270833333333333]</td>\n",
       "      <td>[0, 0, 0, 0, 0, 0, 0, 0, 0, 0, 0, 0, 0, 0, 0, ...</td>\n",
       "    </tr>\n",
       "    <tr>\n",
       "      <th>19</th>\n",
       "      <td>[D_change, C_percent]</td>\n",
       "      <td>[31.253888888888888]</td>\n",
       "      <td>[78.63486111111112]</td>\n",
       "      <td>[308.30875000000003]</td>\n",
       "      <td>[2.4277777777777776]</td>\n",
       "      <td>[2.912013888888889]</td>\n",
       "      <td>[1.8347222222222221]</td>\n",
       "      <td>[1, 1, 1, 1, 1, 1, 1, 1, 1, 1, 1, 1, 1, 1, 1, ...</td>\n",
       "    </tr>\n",
       "    <tr>\n",
       "      <th>154</th>\n",
       "      <td>[D_change, D_percent, C_percent]</td>\n",
       "      <td>[78.63486111111112]</td>\n",
       "      <td>[31.253888888888888]</td>\n",
       "      <td>[308.30875000000003]</td>\n",
       "      <td>[2.912013888888889]</td>\n",
       "      <td>[2.4277777777777776]</td>\n",
       "      <td>[1.8347222222222221]</td>\n",
       "      <td>[0, 0, 0, 0, 0, 0, 0, 0, 0, 0, 0, 0, 0, 0, 0, ...</td>\n",
       "    </tr>\n",
       "    <tr>\n",
       "      <th>2688</th>\n",
       "      <td>[D_change, CP_change, D_percent, B_percent, OO...</td>\n",
       "      <td>[299.3045833333333]</td>\n",
       "      <td>[23.01451388888889]</td>\n",
       "      <td>[80.51416666666667]</td>\n",
       "      <td>[1.437638888888889]</td>\n",
       "      <td>[2.1056944444444445]</td>\n",
       "      <td>[2.9475]</td>\n",
       "      <td>[2, 2, 2, 2, 2, 2, 2, 2, 2, 2, 2, 2, 2, 2, 2, ...</td>\n",
       "    </tr>\n",
       "    <tr>\n",
       "      <th>18</th>\n",
       "      <td>[D_change, D_percent]</td>\n",
       "      <td>[75.51215277777779]</td>\n",
       "      <td>[0.4582638888888889]</td>\n",
       "      <td>[267.04340277777777]</td>\n",
       "      <td>[2.8247916666666666]</td>\n",
       "      <td>[0.2553472222222222]</td>\n",
       "      <td>[5.258194444444444]</td>\n",
       "      <td>[0, 0, 0, 0, 0, 0, 0, 0, 0, 0, 0, 0, 0, 0, 0, ...</td>\n",
       "    </tr>\n",
       "    <tr>\n",
       "      <th>80004</th>\n",
       "      <td>[begin_D, begin_B, begin_CP, end_CP, end_C, D_...</td>\n",
       "      <td>[90.09361111111112]</td>\n",
       "      <td>[37.306805555555556]</td>\n",
       "      <td>[156.89493055555556]</td>\n",
       "      <td>[7.331111111111111]</td>\n",
       "      <td>[1.5184722222222222]</td>\n",
       "      <td>[4.976527777777778]</td>\n",
       "      <td>[2, 2, 2, 2, 2, 2, 2, 2, 2, 2, 2, 2, 2, 2, 2, ...</td>\n",
       "    </tr>\n",
       "    <tr>\n",
       "      <th>107720</th>\n",
       "      <td>[begin_B, begin_CP, begin_C, begin_OOA, end_D,...</td>\n",
       "      <td>[156.89493055555556]</td>\n",
       "      <td>[37.76444444444444]</td>\n",
       "      <td>[90.80916666666667]</td>\n",
       "      <td>[4.435555555555555]</td>\n",
       "      <td>[1.443888888888889]</td>\n",
       "      <td>[7.982361111111111]</td>\n",
       "      <td>[0, 0, 0, 0, 0, 0, 0, 0, 0, 0, 0, 0, 0, 0, 0, ...</td>\n",
       "    </tr>\n",
       "    <tr>\n",
       "      <th>236</th>\n",
       "      <td>[begin_D, end_D, D_change, OOA_change]</td>\n",
       "      <td>[35.09194444444445]</td>\n",
       "      <td>[146.78201388888888]</td>\n",
       "      <td>[70.74222222222222]</td>\n",
       "      <td>[1.2305555555555556]</td>\n",
       "      <td>[6.529097222222222]</td>\n",
       "      <td>[5.293055555555555]</td>\n",
       "      <td>[1, 1, 1, 1, 1, 1, 1, 1, 1, 1, 1, 1, 1, 1, 1, ...</td>\n",
       "    </tr>\n",
       "    <tr>\n",
       "      <th>2953</th>\n",
       "      <td>[begin_D, begin_B, end_D, D_change, CP_change,...</td>\n",
       "      <td>[35.646388888888886]</td>\n",
       "      <td>[146.78201388888888]</td>\n",
       "      <td>[71.35743055555555]</td>\n",
       "      <td>[1.2914583333333334]</td>\n",
       "      <td>[5.896527777777778]</td>\n",
       "      <td>[5.4065972222222225]</td>\n",
       "      <td>[1, 1, 1, 1, 1, 1, 1, 1, 1, 1, 1, 1, 1, 1, 1, ...</td>\n",
       "    </tr>\n",
       "    <tr>\n",
       "      <th>3250</th>\n",
       "      <td>[begin_D, begin_CP, end_D, D_change, B_change,...</td>\n",
       "      <td>[71.35743055555555]</td>\n",
       "      <td>[35.646388888888886]</td>\n",
       "      <td>[146.78201388888888]</td>\n",
       "      <td>[5.4065972222222225]</td>\n",
       "      <td>[1.2914583333333334]</td>\n",
       "      <td>[5.896527777777778]</td>\n",
       "      <td>[2, 2, 2, 2, 2, 2, 2, 2, 2, 2, 2, 2, 2, 2, 2, ...</td>\n",
       "    </tr>\n",
       "  </tbody>\n",
       "</table>\n",
       "</div>"
      ]
     },
     "execution_count": 11,
     "metadata": {},
     "output_type": "execute_result"
    }
   ],
   "execution_count": 11
  },
  {
   "metadata": {},
   "cell_type": "markdown",
   "source": "loop sort values of q3 minimux",
   "id": "e5196391d66a2f54"
  },
  {
   "metadata": {
    "ExecuteTime": {
     "end_time": "2024-05-07T07:42:22.061284Z",
     "start_time": "2024-05-07T07:42:22.045445Z"
    }
   },
   "cell_type": "code",
   "source": [
    "q3 = df_max_sort.iloc[:, [1, 2, 3]]\n",
    "q3"
   ],
   "id": "1c0da0b009aead9d",
   "outputs": [
    {
     "data": {
      "text/plain": [
       "                  cluter0_q3            cluter1_q3            cluter2_q3\n",
       "17240    [78.63486111111112]  [19.405555555555555]   [348.2376388888889]\n",
       "19      [31.253888888888888]   [78.63486111111112]  [308.30875000000003]\n",
       "154      [78.63486111111112]  [31.253888888888888]  [308.30875000000003]\n",
       "2688     [299.3045833333333]   [23.01451388888889]   [80.51416666666667]\n",
       "18       [75.51215277777779]  [0.4582638888888889]  [267.04340277777777]\n",
       "80004    [90.09361111111112]  [37.306805555555556]  [156.89493055555556]\n",
       "107720  [156.89493055555556]   [37.76444444444444]   [90.80916666666667]\n",
       "236      [35.09194444444445]  [146.78201388888888]   [70.74222222222222]\n",
       "2953    [35.646388888888886]  [146.78201388888888]   [71.35743055555555]\n",
       "3250     [71.35743055555555]  [35.646388888888886]  [146.78201388888888]"
      ],
      "text/html": [
       "<div>\n",
       "<style scoped>\n",
       "    .dataframe tbody tr th:only-of-type {\n",
       "        vertical-align: middle;\n",
       "    }\n",
       "\n",
       "    .dataframe tbody tr th {\n",
       "        vertical-align: top;\n",
       "    }\n",
       "\n",
       "    .dataframe thead th {\n",
       "        text-align: right;\n",
       "    }\n",
       "</style>\n",
       "<table border=\"1\" class=\"dataframe\">\n",
       "  <thead>\n",
       "    <tr style=\"text-align: right;\">\n",
       "      <th></th>\n",
       "      <th>cluter0_q3</th>\n",
       "      <th>cluter1_q3</th>\n",
       "      <th>cluter2_q3</th>\n",
       "    </tr>\n",
       "  </thead>\n",
       "  <tbody>\n",
       "    <tr>\n",
       "      <th>17240</th>\n",
       "      <td>[78.63486111111112]</td>\n",
       "      <td>[19.405555555555555]</td>\n",
       "      <td>[348.2376388888889]</td>\n",
       "    </tr>\n",
       "    <tr>\n",
       "      <th>19</th>\n",
       "      <td>[31.253888888888888]</td>\n",
       "      <td>[78.63486111111112]</td>\n",
       "      <td>[308.30875000000003]</td>\n",
       "    </tr>\n",
       "    <tr>\n",
       "      <th>154</th>\n",
       "      <td>[78.63486111111112]</td>\n",
       "      <td>[31.253888888888888]</td>\n",
       "      <td>[308.30875000000003]</td>\n",
       "    </tr>\n",
       "    <tr>\n",
       "      <th>2688</th>\n",
       "      <td>[299.3045833333333]</td>\n",
       "      <td>[23.01451388888889]</td>\n",
       "      <td>[80.51416666666667]</td>\n",
       "    </tr>\n",
       "    <tr>\n",
       "      <th>18</th>\n",
       "      <td>[75.51215277777779]</td>\n",
       "      <td>[0.4582638888888889]</td>\n",
       "      <td>[267.04340277777777]</td>\n",
       "    </tr>\n",
       "    <tr>\n",
       "      <th>80004</th>\n",
       "      <td>[90.09361111111112]</td>\n",
       "      <td>[37.306805555555556]</td>\n",
       "      <td>[156.89493055555556]</td>\n",
       "    </tr>\n",
       "    <tr>\n",
       "      <th>107720</th>\n",
       "      <td>[156.89493055555556]</td>\n",
       "      <td>[37.76444444444444]</td>\n",
       "      <td>[90.80916666666667]</td>\n",
       "    </tr>\n",
       "    <tr>\n",
       "      <th>236</th>\n",
       "      <td>[35.09194444444445]</td>\n",
       "      <td>[146.78201388888888]</td>\n",
       "      <td>[70.74222222222222]</td>\n",
       "    </tr>\n",
       "    <tr>\n",
       "      <th>2953</th>\n",
       "      <td>[35.646388888888886]</td>\n",
       "      <td>[146.78201388888888]</td>\n",
       "      <td>[71.35743055555555]</td>\n",
       "    </tr>\n",
       "    <tr>\n",
       "      <th>3250</th>\n",
       "      <td>[71.35743055555555]</td>\n",
       "      <td>[35.646388888888886]</td>\n",
       "      <td>[146.78201388888888]</td>\n",
       "    </tr>\n",
       "  </tbody>\n",
       "</table>\n",
       "</div>"
      ]
     },
     "execution_count": 13,
     "metadata": {},
     "output_type": "execute_result"
    }
   ],
   "execution_count": 13
  },
  {
   "metadata": {},
   "cell_type": "code",
   "source": "q1 = df_max_sort.iloc[:, [4, 5, 6]]",
   "id": "e12fff34e3220547",
   "outputs": [],
   "execution_count": null
  },
  {
   "metadata": {},
   "cell_type": "code",
   "source": [
    "def loop_check_value_q(df):\n",
    "    index_list = []\n",
    "    min_values_list = []\n",
    "    max_values_list = []\n",
    "    for i in range(len(df)):\n",
    "        x = df.iloc[i].sort_values()\n",
    "        print('index:', df.index[i])\n",
    "        # print('value:', x)\n",
    "        min = x[0]\n",
    "        max = x[2]\n",
    "        print('min:', x[0])\n",
    "        print('max:', x[2])\n",
    "        index_list.append(df.index[i])\n",
    "        min_values_list.append(min)\n",
    "        max_values_list.append(max)\n",
    "    \n",
    "    return index_list, min_values_list, max_values_list"
   ],
   "id": "73aa88b7c20c26dc",
   "outputs": [],
   "execution_count": null
  },
  {
   "metadata": {},
   "cell_type": "code",
   "source": "index, min_q3 , max_q3 = loop_check_value_q(q3)",
   "id": "947c0fdc8fbcb197",
   "outputs": [],
   "execution_count": null
  },
  {
   "metadata": {},
   "cell_type": "code",
   "source": "min_q3",
   "id": "a6b4aba5edbbeaff",
   "outputs": [],
   "execution_count": null
  },
  {
   "metadata": {},
   "cell_type": "code",
   "source": "max_q3",
   "id": "6e099abfadd3e8a",
   "outputs": [],
   "execution_count": null
  },
  {
   "metadata": {},
   "cell_type": "markdown",
   "source": "",
   "id": "109d127f6f21934c"
  },
  {
   "metadata": {},
   "cell_type": "markdown",
   "source": "min and max value of q1",
   "id": "b702984f1ccf2fb2"
  },
  {
   "metadata": {},
   "cell_type": "code",
   "source": "index, min_q1 , max_q1 = loop_check_value_q(q1)",
   "id": "33d558d1b8d86877",
   "outputs": [],
   "execution_count": null
  },
  {
   "metadata": {},
   "cell_type": "markdown",
   "source": "min and max value of q3",
   "id": "e1354d2caf1b31aa"
  },
  {
   "metadata": {},
   "cell_type": "code",
   "source": "concat_col = pd.concat([pd.DataFrame(index, columns=['index']), pd.DataFrame(min_q1, columns=['min']), pd.DataFrame(max_q3, columns=['max'])], axis=1) ",
   "id": "b656e0f2447eefd",
   "outputs": [],
   "execution_count": null
  },
  {
   "metadata": {},
   "cell_type": "code",
   "source": [
    "concat_col = pd.DataFrame(concat_col)\n",
    "concat_col.set_index('index', inplace=True)\n",
    "concat_col"
   ],
   "id": "9a65969ff3502cc9",
   "outputs": [],
   "execution_count": null
  },
  {
   "metadata": {},
   "cell_type": "code",
   "source": "df_max_sort",
   "id": "2b2b71f72fba254d",
   "outputs": [],
   "execution_count": null
  },
  {
   "metadata": {},
   "cell_type": "code",
   "source": "df_max_class = pd.merge(df_max_sort, concat_col, left_index=True, right_index=True)",
   "id": "37ef5d118b7b61d",
   "outputs": [],
   "execution_count": null
  },
  {
   "metadata": {},
   "cell_type": "code",
   "source": "df_max_class",
   "id": "8d969d1b5b3644f2",
   "outputs": [],
   "execution_count": null
  },
  {
   "metadata": {},
   "cell_type": "code",
   "source": "df_max_class.to_parquet('../../models/KMeans/output/q3_c3/df_max_time_class.parquet')",
   "id": "a315b2761bc2736b",
   "outputs": [],
   "execution_count": null
  },
  {
   "metadata": {},
   "cell_type": "markdown",
   "source": "Model classification of q3 SVM",
   "id": "5e78db5e66994db"
  },
  {
   "metadata": {},
   "cell_type": "code",
   "source": [
    "for i in df_max_class.iloc:\n",
    "    # print(\"I ::\", i)\n",
    "    \n",
    "    df_compare = df_20_col[list(i['col'])]\n",
    "    # print(\"DF ::\", df_compare)\n",
    "    \n",
    "    arr = np.array(i['label'])\n",
    "    # print(\"Arr ::\", arr)\n",
    "    \n",
    "    df_arr = pd.DataFrame(arr.reshape(-1,1), columns=['label'])\n",
    "    # print(\"DF Arr ::\", df_arr)\n",
    "    \n",
    "    df_col_combined = pd.concat([df_compare, df_arr], axis=1)\n",
    "    df_col_combined = pd.concat([df_col_combined, df_original['total_time']], axis=1)\n",
    "    \n",
    "    date = pd.to_timedelta(df_col_combined['total_time'])\n",
    "    time_hours = date.dt.total_seconds() / 3600\n",
    "\n",
    "    df_col_combined['hours'] = time_hours\n",
    "    df_col_combined['min'] = [i['min']] * len(df_col_combined)\n",
    "    df_col_combined['max'] = [i['max']] * len(df_col_combined)\n",
    "    \n",
    "    print(\"DF Combined ::\", df_col_combined)"
   ],
   "id": "f26c5b8060b95045",
   "outputs": [],
   "execution_count": null
  },
  {
   "metadata": {},
   "cell_type": "code",
   "source": "",
   "id": "c08989a884c664f9",
   "outputs": [],
   "execution_count": null
  }
 ],
 "metadata": {
  "kernelspec": {
   "display_name": "Python 3",
   "language": "python",
   "name": "python3"
  },
  "language_info": {
   "codemirror_mode": {
    "name": "ipython",
    "version": 2
   },
   "file_extension": ".py",
   "mimetype": "text/x-python",
   "name": "python",
   "nbconvert_exporter": "python",
   "pygments_lexer": "ipython2",
   "version": "2.7.6"
  }
 },
 "nbformat": 4,
 "nbformat_minor": 5
}
