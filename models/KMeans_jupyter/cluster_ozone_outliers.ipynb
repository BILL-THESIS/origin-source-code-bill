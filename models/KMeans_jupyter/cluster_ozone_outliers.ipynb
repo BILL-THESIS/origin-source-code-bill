{
 "cells": [
  {
   "cell_type": "code",
   "execution_count": 1,
   "metadata": {
    "collapsed": true,
    "ExecuteTime": {
     "end_time": "2023-09-18T15:57:39.424671400Z",
     "start_time": "2023-09-18T15:57:36.921977800Z"
    }
   },
   "outputs": [],
   "source": [
    "import pandas as pd\n",
    "import sklearn.datasets\n",
    "from sklearn import preprocessing\n",
    "import numpy as np\n",
    "import matplotlib.pyplot as plt"
   ]
  },
  {
   "cell_type": "code",
   "execution_count": 2,
   "metadata": {
    "collapsed": false,
    "ExecuteTime": {
     "end_time": "2023-09-18T15:57:39.471859100Z",
     "start_time": "2023-09-18T15:57:39.425677400Z"
    }
   },
   "outputs": [],
   "source": [
    "df = pd.read_csv('ozone_cluster_0.csv')"
   ]
  },
  {
   "cell_type": "code",
   "execution_count": 3,
   "outputs": [
    {
     "data": {
      "text/plain": "                                     begin_sha  \\\n0     e950ecee512fd87a9c20c233ba6ed224acd2c6e4   \n1     6035a8b7df6b622eb5bebe7814f81e349bbe7eb3   \n2     b9496f9eaf0b9239fcd8b0084d859b4501ccc192   \n3     e950ecee512fd87a9c20c233ba6ed224acd2c6e4   \n4     55de3fb7e9ca2ba9c2f7b854aa09fcc3c2224532   \n...                                        ...   \n1795  d6cbb15f7a29221fcbd8f2c3bc9f5073c12c12d7   \n1796  fe7f5b4ecad81dfff7d7703b69e2eec1907a4a95   \n1797  af4730a54bd2bbc63d556936292ae760701b7e7f   \n1798  334c6ee65bdc41d0150ad381bbed024a82ea0081   \n1799  a1951003ddeac174c889212682c9c207604c19ac   \n\n                                       end_sha  commits  additions  deletions  \\\n0     a01251c8113aee036fd7f229612a33c33cb5e558        1          6          3   \n1     534160f96c5dae071192ddb809261ec7905ddbcd        4         60          0   \n2     9b59ade990a87a5b8034dcc18be1e997b4f59578        3         72          3   \n3     152cbea1bce867709afb498d55cc4f609aa3f98d        3        393        107   \n4     a6ed346744c69d19c1000cb0c3ad75d9dd4fe669       38        132         23   \n...                                        ...      ...        ...        ...   \n1795  c04c01d85452e969ea81d1f8486271e85bff72a9        3          3          2   \n1796  e01b47184818365dcb7baf528fb2d874209b6b47        7        428         47   \n1797  3eb7235ca879498c2d8ebcd5fd228d6e4cb16891       20         39         35   \n1798  3b89d4daac8747652ee360bac9a0ba1556f12c4f        7         69          0   \n1799  7310491af7389cd391da09b2cfee7feb68f7261e        3        166          4   \n\n      changed_files         total_time  begin_Dispensables  begin_Bloaters  \\\n0                 1     24978000000000                2006          1130.0   \n1                 6     27174000000000                1002           565.0   \n2                 2     43727000000000                1001           565.0   \n3                 7    116274000000000                2006          1130.0   \n4                 7    193769000000000                 996           563.0   \n...             ...                ...                 ...             ...   \n1795              1   9439818000000000                 734           428.0   \n1796              8   5353469000000000                1462           854.0   \n1797             21  10442829000000000                 727           427.0   \n1798              1  29549932000000000                 886           506.0   \n1799             16  25333529000000000                 751           428.0   \n\n      begin_Change Preventers  begin_Couplers  \\\n0                      1130.0           734.0   \n1                       565.0           367.0   \n2                       565.0           365.0   \n3                      1130.0           734.0   \n4                       563.0           365.0   \n...                       ...             ...   \n1795                    428.0           241.0   \n1796                    854.0           482.0   \n1797                    427.0           233.0   \n1798                    506.0           298.0   \n1799                    428.0           241.0   \n\n      begin_Object-Orientation Abusers  end_Dispensables  end_Bloaters  \\\n0                                734.0            1003.0         566.0   \n1                                367.0             990.0         563.0   \n2                                365.0             983.0         568.0   \n3                                734.0             998.0         565.0   \n4                                365.0             990.0         563.0   \n...                                ...               ...           ...   \n1795                             241.0               0.0           0.0   \n1796                             482.0               0.0           0.0   \n1797                             233.0               0.0           0.0   \n1798                             298.0               0.0           0.0   \n1799                             241.0               0.0           0.0   \n\n      end_Change Preventers  end_Couplers  end_Object-Orientation Abusers  \\\n0                     566.0         367.0                           910.0   \n1                     563.0         365.0                           891.0   \n2                     568.0         366.0                           900.0   \n3                     565.0         365.0                           907.0   \n4                     563.0         365.0                           891.0   \n...                     ...           ...                             ...   \n1795                    0.0           0.0                             0.0   \n1796                    0.0           0.0                             0.0   \n1797                    0.0           0.0                             0.0   \n1798                    0.0           0.0                             0.0   \n1799                    0.0           0.0                             0.0   \n\n      cluster          timedelta formatted_duration  \n0           0    0 days 06:56:18    0 days 06:56:18  \n1           0    0 days 07:32:54    0 days 07:32:54  \n2           0    0 days 12:08:47    0 days 12:08:47  \n3           0    1 days 08:17:54    1 days 08:17:54  \n4           0    2 days 05:49:29    2 days 05:49:29  \n...       ...                ...                ...  \n1795        0  109 days 06:10:18  109 days 06:10:18  \n1796        0   61 days 23:04:29   61 days 23:04:29  \n1797        0  120 days 20:47:09  120 days 20:47:09  \n1798        0  342 days 00:18:52  342 days 00:18:52  \n1799        0  293 days 05:05:29  293 days 05:05:29  \n\n[1800 rows x 20 columns]",
      "text/html": "<div>\n<style scoped>\n    .dataframe tbody tr th:only-of-type {\n        vertical-align: middle;\n    }\n\n    .dataframe tbody tr th {\n        vertical-align: top;\n    }\n\n    .dataframe thead th {\n        text-align: right;\n    }\n</style>\n<table border=\"1\" class=\"dataframe\">\n  <thead>\n    <tr style=\"text-align: right;\">\n      <th></th>\n      <th>begin_sha</th>\n      <th>end_sha</th>\n      <th>commits</th>\n      <th>additions</th>\n      <th>deletions</th>\n      <th>changed_files</th>\n      <th>total_time</th>\n      <th>begin_Dispensables</th>\n      <th>begin_Bloaters</th>\n      <th>begin_Change Preventers</th>\n      <th>begin_Couplers</th>\n      <th>begin_Object-Orientation Abusers</th>\n      <th>end_Dispensables</th>\n      <th>end_Bloaters</th>\n      <th>end_Change Preventers</th>\n      <th>end_Couplers</th>\n      <th>end_Object-Orientation Abusers</th>\n      <th>cluster</th>\n      <th>timedelta</th>\n      <th>formatted_duration</th>\n    </tr>\n  </thead>\n  <tbody>\n    <tr>\n      <th>0</th>\n      <td>e950ecee512fd87a9c20c233ba6ed224acd2c6e4</td>\n      <td>a01251c8113aee036fd7f229612a33c33cb5e558</td>\n      <td>1</td>\n      <td>6</td>\n      <td>3</td>\n      <td>1</td>\n      <td>24978000000000</td>\n      <td>2006</td>\n      <td>1130.0</td>\n      <td>1130.0</td>\n      <td>734.0</td>\n      <td>734.0</td>\n      <td>1003.0</td>\n      <td>566.0</td>\n      <td>566.0</td>\n      <td>367.0</td>\n      <td>910.0</td>\n      <td>0</td>\n      <td>0 days 06:56:18</td>\n      <td>0 days 06:56:18</td>\n    </tr>\n    <tr>\n      <th>1</th>\n      <td>6035a8b7df6b622eb5bebe7814f81e349bbe7eb3</td>\n      <td>534160f96c5dae071192ddb809261ec7905ddbcd</td>\n      <td>4</td>\n      <td>60</td>\n      <td>0</td>\n      <td>6</td>\n      <td>27174000000000</td>\n      <td>1002</td>\n      <td>565.0</td>\n      <td>565.0</td>\n      <td>367.0</td>\n      <td>367.0</td>\n      <td>990.0</td>\n      <td>563.0</td>\n      <td>563.0</td>\n      <td>365.0</td>\n      <td>891.0</td>\n      <td>0</td>\n      <td>0 days 07:32:54</td>\n      <td>0 days 07:32:54</td>\n    </tr>\n    <tr>\n      <th>2</th>\n      <td>b9496f9eaf0b9239fcd8b0084d859b4501ccc192</td>\n      <td>9b59ade990a87a5b8034dcc18be1e997b4f59578</td>\n      <td>3</td>\n      <td>72</td>\n      <td>3</td>\n      <td>2</td>\n      <td>43727000000000</td>\n      <td>1001</td>\n      <td>565.0</td>\n      <td>565.0</td>\n      <td>365.0</td>\n      <td>365.0</td>\n      <td>983.0</td>\n      <td>568.0</td>\n      <td>568.0</td>\n      <td>366.0</td>\n      <td>900.0</td>\n      <td>0</td>\n      <td>0 days 12:08:47</td>\n      <td>0 days 12:08:47</td>\n    </tr>\n    <tr>\n      <th>3</th>\n      <td>e950ecee512fd87a9c20c233ba6ed224acd2c6e4</td>\n      <td>152cbea1bce867709afb498d55cc4f609aa3f98d</td>\n      <td>3</td>\n      <td>393</td>\n      <td>107</td>\n      <td>7</td>\n      <td>116274000000000</td>\n      <td>2006</td>\n      <td>1130.0</td>\n      <td>1130.0</td>\n      <td>734.0</td>\n      <td>734.0</td>\n      <td>998.0</td>\n      <td>565.0</td>\n      <td>565.0</td>\n      <td>365.0</td>\n      <td>907.0</td>\n      <td>0</td>\n      <td>1 days 08:17:54</td>\n      <td>1 days 08:17:54</td>\n    </tr>\n    <tr>\n      <th>4</th>\n      <td>55de3fb7e9ca2ba9c2f7b854aa09fcc3c2224532</td>\n      <td>a6ed346744c69d19c1000cb0c3ad75d9dd4fe669</td>\n      <td>38</td>\n      <td>132</td>\n      <td>23</td>\n      <td>7</td>\n      <td>193769000000000</td>\n      <td>996</td>\n      <td>563.0</td>\n      <td>563.0</td>\n      <td>365.0</td>\n      <td>365.0</td>\n      <td>990.0</td>\n      <td>563.0</td>\n      <td>563.0</td>\n      <td>365.0</td>\n      <td>891.0</td>\n      <td>0</td>\n      <td>2 days 05:49:29</td>\n      <td>2 days 05:49:29</td>\n    </tr>\n    <tr>\n      <th>...</th>\n      <td>...</td>\n      <td>...</td>\n      <td>...</td>\n      <td>...</td>\n      <td>...</td>\n      <td>...</td>\n      <td>...</td>\n      <td>...</td>\n      <td>...</td>\n      <td>...</td>\n      <td>...</td>\n      <td>...</td>\n      <td>...</td>\n      <td>...</td>\n      <td>...</td>\n      <td>...</td>\n      <td>...</td>\n      <td>...</td>\n      <td>...</td>\n      <td>...</td>\n    </tr>\n    <tr>\n      <th>1795</th>\n      <td>d6cbb15f7a29221fcbd8f2c3bc9f5073c12c12d7</td>\n      <td>c04c01d85452e969ea81d1f8486271e85bff72a9</td>\n      <td>3</td>\n      <td>3</td>\n      <td>2</td>\n      <td>1</td>\n      <td>9439818000000000</td>\n      <td>734</td>\n      <td>428.0</td>\n      <td>428.0</td>\n      <td>241.0</td>\n      <td>241.0</td>\n      <td>0.0</td>\n      <td>0.0</td>\n      <td>0.0</td>\n      <td>0.0</td>\n      <td>0.0</td>\n      <td>0</td>\n      <td>109 days 06:10:18</td>\n      <td>109 days 06:10:18</td>\n    </tr>\n    <tr>\n      <th>1796</th>\n      <td>fe7f5b4ecad81dfff7d7703b69e2eec1907a4a95</td>\n      <td>e01b47184818365dcb7baf528fb2d874209b6b47</td>\n      <td>7</td>\n      <td>428</td>\n      <td>47</td>\n      <td>8</td>\n      <td>5353469000000000</td>\n      <td>1462</td>\n      <td>854.0</td>\n      <td>854.0</td>\n      <td>482.0</td>\n      <td>482.0</td>\n      <td>0.0</td>\n      <td>0.0</td>\n      <td>0.0</td>\n      <td>0.0</td>\n      <td>0.0</td>\n      <td>0</td>\n      <td>61 days 23:04:29</td>\n      <td>61 days 23:04:29</td>\n    </tr>\n    <tr>\n      <th>1797</th>\n      <td>af4730a54bd2bbc63d556936292ae760701b7e7f</td>\n      <td>3eb7235ca879498c2d8ebcd5fd228d6e4cb16891</td>\n      <td>20</td>\n      <td>39</td>\n      <td>35</td>\n      <td>21</td>\n      <td>10442829000000000</td>\n      <td>727</td>\n      <td>427.0</td>\n      <td>427.0</td>\n      <td>233.0</td>\n      <td>233.0</td>\n      <td>0.0</td>\n      <td>0.0</td>\n      <td>0.0</td>\n      <td>0.0</td>\n      <td>0.0</td>\n      <td>0</td>\n      <td>120 days 20:47:09</td>\n      <td>120 days 20:47:09</td>\n    </tr>\n    <tr>\n      <th>1798</th>\n      <td>334c6ee65bdc41d0150ad381bbed024a82ea0081</td>\n      <td>3b89d4daac8747652ee360bac9a0ba1556f12c4f</td>\n      <td>7</td>\n      <td>69</td>\n      <td>0</td>\n      <td>1</td>\n      <td>29549932000000000</td>\n      <td>886</td>\n      <td>506.0</td>\n      <td>506.0</td>\n      <td>298.0</td>\n      <td>298.0</td>\n      <td>0.0</td>\n      <td>0.0</td>\n      <td>0.0</td>\n      <td>0.0</td>\n      <td>0.0</td>\n      <td>0</td>\n      <td>342 days 00:18:52</td>\n      <td>342 days 00:18:52</td>\n    </tr>\n    <tr>\n      <th>1799</th>\n      <td>a1951003ddeac174c889212682c9c207604c19ac</td>\n      <td>7310491af7389cd391da09b2cfee7feb68f7261e</td>\n      <td>3</td>\n      <td>166</td>\n      <td>4</td>\n      <td>16</td>\n      <td>25333529000000000</td>\n      <td>751</td>\n      <td>428.0</td>\n      <td>428.0</td>\n      <td>241.0</td>\n      <td>241.0</td>\n      <td>0.0</td>\n      <td>0.0</td>\n      <td>0.0</td>\n      <td>0.0</td>\n      <td>0.0</td>\n      <td>0</td>\n      <td>293 days 05:05:29</td>\n      <td>293 days 05:05:29</td>\n    </tr>\n  </tbody>\n</table>\n<p>1800 rows × 20 columns</p>\n</div>"
     },
     "execution_count": 3,
     "metadata": {},
     "output_type": "execute_result"
    }
   ],
   "source": [
    "df"
   ],
   "metadata": {
    "collapsed": false,
    "ExecuteTime": {
     "end_time": "2023-09-18T15:57:39.520162Z",
     "start_time": "2023-09-18T15:57:39.477371800Z"
    }
   }
  },
  {
   "cell_type": "code",
   "execution_count": 4,
   "metadata": {
    "collapsed": false,
    "ExecuteTime": {
     "end_time": "2023-09-18T15:57:39.521170400Z",
     "start_time": "2023-09-18T15:57:39.503143800Z"
    }
   },
   "outputs": [],
   "source": [
    "X = df.loc[:, ~df.columns.isin(['begin_sha', 'end_sha', 'begin_time', 'end_time', 'total_time' , 'timedelta' , 'formatted_duration'])]"
   ]
  },
  {
   "cell_type": "code",
   "execution_count": 5,
   "metadata": {
    "collapsed": false,
    "ExecuteTime": {
     "end_time": "2023-09-18T15:57:39.532709700Z",
     "start_time": "2023-09-18T15:57:39.520162Z"
    }
   },
   "outputs": [],
   "source": [
    "scaler = preprocessing.MinMaxScaler()\n",
    "df_scaler = scaler.fit_transform(X)\n",
    "df_scaler_col = pd.DataFrame(df_scaler)\n",
    "df_scaler = df_scaler.T"
   ]
  },
  {
   "cell_type": "code",
   "execution_count": 6,
   "metadata": {
    "collapsed": false,
    "ExecuteTime": {
     "end_time": "2023-09-18T15:57:39.577842500Z",
     "start_time": "2023-09-18T15:57:39.534687100Z"
    }
   },
   "outputs": [
    {
     "data": {
      "text/plain": "(15, 1800)"
     },
     "execution_count": 6,
     "metadata": {},
     "output_type": "execute_result"
    }
   ],
   "source": [
    "df_scaler.shape"
   ]
  },
  {
   "cell_type": "code",
   "execution_count": 7,
   "outputs": [
    {
     "data": {
      "text/plain": "array([[7.69230769e-03, 3.07692308e-02, 2.30769231e-02, ...,\n        1.53846154e-01, 5.38461538e-02, 2.30769231e-02],\n       [4.67398925e-04, 4.67398925e-03, 5.60878710e-03, ...,\n        3.03809301e-03, 5.37508764e-03, 1.29313703e-02],\n       [4.05734379e-04, 0.00000000e+00, 4.05734379e-04, ...,\n        4.73356776e-03, 0.00000000e+00, 5.40979172e-04],\n       ...,\n       [4.95945946e-01, 4.93243243e-01, 4.94594595e-01, ...,\n        0.00000000e+00, 0.00000000e+00, 0.00000000e+00],\n       [4.96183206e-01, 4.85823337e-01, 4.90730643e-01, ...,\n        0.00000000e+00, 0.00000000e+00, 0.00000000e+00],\n       [0.00000000e+00, 0.00000000e+00, 0.00000000e+00, ...,\n        0.00000000e+00, 0.00000000e+00, 0.00000000e+00]])"
     },
     "execution_count": 7,
     "metadata": {},
     "output_type": "execute_result"
    }
   ],
   "source": [
    "df_scaler"
   ],
   "metadata": {
    "collapsed": false,
    "ExecuteTime": {
     "end_time": "2023-09-18T15:57:39.602868500Z",
     "start_time": "2023-09-18T15:57:39.550781100Z"
    }
   }
  },
  {
   "cell_type": "code",
   "execution_count": 8,
   "metadata": {
    "collapsed": false,
    "ExecuteTime": {
     "end_time": "2023-09-18T15:57:40.525980200Z",
     "start_time": "2023-09-18T15:57:39.566810500Z"
    }
   },
   "outputs": [],
   "source": [
    "#Silhouette analysis\n",
    "from sklearn.cluster import KMeans\n",
    "from sklearn.metrics import silhouette_score"
   ]
  },
  {
   "cell_type": "code",
   "execution_count": 9,
   "metadata": {
    "collapsed": false,
    "ExecuteTime": {
     "end_time": "2023-09-18T15:57:46.453777600Z",
     "start_time": "2023-09-18T15:57:40.529987100Z"
    }
   },
   "outputs": [
    {
     "name": "stderr",
     "output_type": "stream",
     "text": [
      "C:\\Users\\patcharaprapa_k\\AppData\\Local\\anaconda3\\lib\\site-packages\\sklearn\\cluster\\_kmeans.py:870: FutureWarning: The default value of `n_init` will change from 10 to 'auto' in 1.4. Set the value of `n_init` explicitly to suppress the warning\n",
      "  warnings.warn(\n",
      "C:\\Users\\patcharaprapa_k\\AppData\\Local\\anaconda3\\lib\\site-packages\\sklearn\\cluster\\_kmeans.py:1382: UserWarning: KMeans is known to have a memory leak on Windows with MKL, when there are less chunks than available threads. You can avoid it by setting the environment variable OMP_NUM_THREADS=1.\n",
      "  warnings.warn(\n",
      "C:\\Users\\patcharaprapa_k\\AppData\\Local\\anaconda3\\lib\\site-packages\\sklearn\\cluster\\_kmeans.py:870: FutureWarning: The default value of `n_init` will change from 10 to 'auto' in 1.4. Set the value of `n_init` explicitly to suppress the warning\n",
      "  warnings.warn(\n",
      "C:\\Users\\patcharaprapa_k\\AppData\\Local\\anaconda3\\lib\\site-packages\\sklearn\\cluster\\_kmeans.py:1382: UserWarning: KMeans is known to have a memory leak on Windows with MKL, when there are less chunks than available threads. You can avoid it by setting the environment variable OMP_NUM_THREADS=1.\n",
      "  warnings.warn(\n",
      "C:\\Users\\patcharaprapa_k\\AppData\\Local\\anaconda3\\lib\\site-packages\\sklearn\\cluster\\_kmeans.py:870: FutureWarning: The default value of `n_init` will change from 10 to 'auto' in 1.4. Set the value of `n_init` explicitly to suppress the warning\n",
      "  warnings.warn(\n",
      "C:\\Users\\patcharaprapa_k\\AppData\\Local\\anaconda3\\lib\\site-packages\\sklearn\\cluster\\_kmeans.py:1382: UserWarning: KMeans is known to have a memory leak on Windows with MKL, when there are less chunks than available threads. You can avoid it by setting the environment variable OMP_NUM_THREADS=1.\n",
      "  warnings.warn(\n",
      "C:\\Users\\patcharaprapa_k\\AppData\\Local\\anaconda3\\lib\\site-packages\\sklearn\\cluster\\_kmeans.py:870: FutureWarning: The default value of `n_init` will change from 10 to 'auto' in 1.4. Set the value of `n_init` explicitly to suppress the warning\n",
      "  warnings.warn(\n",
      "C:\\Users\\patcharaprapa_k\\AppData\\Local\\anaconda3\\lib\\site-packages\\sklearn\\cluster\\_kmeans.py:1382: UserWarning: KMeans is known to have a memory leak on Windows with MKL, when there are less chunks than available threads. You can avoid it by setting the environment variable OMP_NUM_THREADS=1.\n",
      "  warnings.warn(\n",
      "C:\\Users\\patcharaprapa_k\\AppData\\Local\\anaconda3\\lib\\site-packages\\sklearn\\cluster\\_kmeans.py:870: FutureWarning: The default value of `n_init` will change from 10 to 'auto' in 1.4. Set the value of `n_init` explicitly to suppress the warning\n",
      "  warnings.warn(\n",
      "C:\\Users\\patcharaprapa_k\\AppData\\Local\\anaconda3\\lib\\site-packages\\sklearn\\cluster\\_kmeans.py:1382: UserWarning: KMeans is known to have a memory leak on Windows with MKL, when there are less chunks than available threads. You can avoid it by setting the environment variable OMP_NUM_THREADS=1.\n",
      "  warnings.warn(\n",
      "C:\\Users\\patcharaprapa_k\\AppData\\Local\\anaconda3\\lib\\site-packages\\sklearn\\cluster\\_kmeans.py:870: FutureWarning: The default value of `n_init` will change from 10 to 'auto' in 1.4. Set the value of `n_init` explicitly to suppress the warning\n",
      "  warnings.warn(\n",
      "C:\\Users\\patcharaprapa_k\\AppData\\Local\\anaconda3\\lib\\site-packages\\sklearn\\cluster\\_kmeans.py:1382: UserWarning: KMeans is known to have a memory leak on Windows with MKL, when there are less chunks than available threads. You can avoid it by setting the environment variable OMP_NUM_THREADS=1.\n",
      "  warnings.warn(\n",
      "C:\\Users\\patcharaprapa_k\\AppData\\Local\\anaconda3\\lib\\site-packages\\sklearn\\cluster\\_kmeans.py:870: FutureWarning: The default value of `n_init` will change from 10 to 'auto' in 1.4. Set the value of `n_init` explicitly to suppress the warning\n",
      "  warnings.warn(\n",
      "C:\\Users\\patcharaprapa_k\\AppData\\Local\\anaconda3\\lib\\site-packages\\sklearn\\cluster\\_kmeans.py:1382: UserWarning: KMeans is known to have a memory leak on Windows with MKL, when there are less chunks than available threads. You can avoid it by setting the environment variable OMP_NUM_THREADS=1.\n",
      "  warnings.warn(\n",
      "C:\\Users\\patcharaprapa_k\\AppData\\Local\\anaconda3\\lib\\site-packages\\sklearn\\cluster\\_kmeans.py:870: FutureWarning: The default value of `n_init` will change from 10 to 'auto' in 1.4. Set the value of `n_init` explicitly to suppress the warning\n",
      "  warnings.warn(\n",
      "C:\\Users\\patcharaprapa_k\\AppData\\Local\\anaconda3\\lib\\site-packages\\sklearn\\cluster\\_kmeans.py:1382: UserWarning: KMeans is known to have a memory leak on Windows with MKL, when there are less chunks than available threads. You can avoid it by setting the environment variable OMP_NUM_THREADS=1.\n",
      "  warnings.warn(\n",
      "C:\\Users\\patcharaprapa_k\\AppData\\Local\\anaconda3\\lib\\site-packages\\sklearn\\cluster\\_kmeans.py:870: FutureWarning: The default value of `n_init` will change from 10 to 'auto' in 1.4. Set the value of `n_init` explicitly to suppress the warning\n",
      "  warnings.warn(\n",
      "C:\\Users\\patcharaprapa_k\\AppData\\Local\\anaconda3\\lib\\site-packages\\sklearn\\cluster\\_kmeans.py:1382: UserWarning: KMeans is known to have a memory leak on Windows with MKL, when there are less chunks than available threads. You can avoid it by setting the environment variable OMP_NUM_THREADS=1.\n",
      "  warnings.warn(\n",
      "C:\\Users\\patcharaprapa_k\\AppData\\Local\\anaconda3\\lib\\site-packages\\sklearn\\cluster\\_kmeans.py:870: FutureWarning: The default value of `n_init` will change from 10 to 'auto' in 1.4. Set the value of `n_init` explicitly to suppress the warning\n",
      "  warnings.warn(\n",
      "C:\\Users\\patcharaprapa_k\\AppData\\Local\\anaconda3\\lib\\site-packages\\sklearn\\cluster\\_kmeans.py:1382: UserWarning: KMeans is known to have a memory leak on Windows with MKL, when there are less chunks than available threads. You can avoid it by setting the environment variable OMP_NUM_THREADS=1.\n",
      "  warnings.warn(\n",
      "C:\\Users\\patcharaprapa_k\\AppData\\Local\\anaconda3\\lib\\site-packages\\sklearn\\cluster\\_kmeans.py:870: FutureWarning: The default value of `n_init` will change from 10 to 'auto' in 1.4. Set the value of `n_init` explicitly to suppress the warning\n",
      "  warnings.warn(\n",
      "C:\\Users\\patcharaprapa_k\\AppData\\Local\\anaconda3\\lib\\site-packages\\sklearn\\cluster\\_kmeans.py:1382: UserWarning: KMeans is known to have a memory leak on Windows with MKL, when there are less chunks than available threads. You can avoid it by setting the environment variable OMP_NUM_THREADS=1.\n",
      "  warnings.warn(\n",
      "C:\\Users\\patcharaprapa_k\\AppData\\Local\\anaconda3\\lib\\site-packages\\sklearn\\cluster\\_kmeans.py:870: FutureWarning: The default value of `n_init` will change from 10 to 'auto' in 1.4. Set the value of `n_init` explicitly to suppress the warning\n",
      "  warnings.warn(\n",
      "C:\\Users\\patcharaprapa_k\\AppData\\Local\\anaconda3\\lib\\site-packages\\sklearn\\cluster\\_kmeans.py:1382: UserWarning: KMeans is known to have a memory leak on Windows with MKL, when there are less chunks than available threads. You can avoid it by setting the environment variable OMP_NUM_THREADS=1.\n",
      "  warnings.warn(\n",
      "C:\\Users\\patcharaprapa_k\\AppData\\Local\\Temp\\ipykernel_12888\\1243137686.py:5: ConvergenceWarning: Number of distinct clusters (12) found smaller than n_clusters (13). Possibly due to duplicate points in X.\n",
      "  km.fit(df_scaler)\n",
      "C:\\Users\\patcharaprapa_k\\AppData\\Local\\anaconda3\\lib\\site-packages\\sklearn\\cluster\\_kmeans.py:870: FutureWarning: The default value of `n_init` will change from 10 to 'auto' in 1.4. Set the value of `n_init` explicitly to suppress the warning\n",
      "  warnings.warn(\n",
      "C:\\Users\\patcharaprapa_k\\AppData\\Local\\anaconda3\\lib\\site-packages\\sklearn\\cluster\\_kmeans.py:1382: UserWarning: KMeans is known to have a memory leak on Windows with MKL, when there are less chunks than available threads. You can avoid it by setting the environment variable OMP_NUM_THREADS=1.\n",
      "  warnings.warn(\n",
      "C:\\Users\\patcharaprapa_k\\AppData\\Local\\Temp\\ipykernel_12888\\1243137686.py:5: ConvergenceWarning: Number of distinct clusters (12) found smaller than n_clusters (14). Possibly due to duplicate points in X.\n",
      "  km.fit(df_scaler)\n"
     ]
    }
   ],
   "source": [
    "number_of_cluster = []\n",
    "\n",
    "for i in range(2, len(df_scaler)):\n",
    "    km = KMeans(n_clusters = i)\n",
    "    km.fit(df_scaler)\n",
    "    sil_avg = silhouette_score(df_scaler, km.labels_).round(4)\n",
    "    number_of_cluster.append([sil_avg , i])"
   ]
  },
  {
   "cell_type": "code",
   "execution_count": 10,
   "metadata": {
    "collapsed": false,
    "ExecuteTime": {
     "end_time": "2023-09-18T15:57:46.465650Z",
     "start_time": "2023-09-18T15:57:46.456288300Z"
    }
   },
   "outputs": [
    {
     "name": "stdout",
     "output_type": "stream",
     "text": [
      "Optimum number of cluster: 3\n"
     ]
    }
   ],
   "source": [
    "print(f'Optimum number of cluster: {max(number_of_cluster)[1]}')"
   ]
  },
  {
   "cell_type": "code",
   "execution_count": 32,
   "outputs": [
    {
     "data": {
      "text/plain": "[[0.8774, 3],\n [0.8077, 4],\n [0.6274, 7],\n [0.6221, 5],\n [0.5921, 8],\n [0.5818, 6],\n [0.5761, 2],\n [0.5754, 9],\n [0.4068, 10],\n [0.4, 14],\n [0.4, 13],\n [0.4, 12],\n [0.3743, 11]]"
     },
     "execution_count": 32,
     "metadata": {},
     "output_type": "execute_result"
    }
   ],
   "source": [
    "number_of_cluster"
   ],
   "metadata": {
    "collapsed": false,
    "ExecuteTime": {
     "end_time": "2023-09-18T16:05:15.921224700Z",
     "start_time": "2023-09-18T16:05:15.897194400Z"
    }
   }
  },
  {
   "cell_type": "code",
   "execution_count": 11,
   "outputs": [
    {
     "data": {
      "text/plain": "[0.5761, 2]"
     },
     "execution_count": 11,
     "metadata": {},
     "output_type": "execute_result"
    }
   ],
   "source": [
    "number_of_cluster[0]"
   ],
   "metadata": {
    "collapsed": false,
    "ExecuteTime": {
     "end_time": "2023-09-18T15:57:46.510208500Z",
     "start_time": "2023-09-18T15:57:46.466655100Z"
    }
   }
  },
  {
   "cell_type": "code",
   "execution_count": 12,
   "outputs": [],
   "source": [
    "number_of_cluster.sort()"
   ],
   "metadata": {
    "collapsed": false,
    "ExecuteTime": {
     "end_time": "2023-09-18T15:57:46.511209400Z",
     "start_time": "2023-09-18T15:57:46.483672700Z"
    }
   }
  },
  {
   "cell_type": "code",
   "execution_count": 13,
   "outputs": [],
   "source": [
    "number_of_cluster = number_of_cluster[::-1]"
   ],
   "metadata": {
    "collapsed": false,
    "ExecuteTime": {
     "end_time": "2023-09-18T15:57:46.520729Z",
     "start_time": "2023-09-18T15:57:46.499698500Z"
    }
   }
  },
  {
   "cell_type": "code",
   "execution_count": 14,
   "outputs": [
    {
     "data": {
      "text/plain": "[[0.8774, 3], [0.8077, 4], [0.6274, 7], [0.6221, 5], [0.5921, 8]]"
     },
     "execution_count": 14,
     "metadata": {},
     "output_type": "execute_result"
    }
   ],
   "source": [
    "number_of_cluster[:5]"
   ],
   "metadata": {
    "collapsed": false,
    "ExecuteTime": {
     "end_time": "2023-09-18T15:57:46.531456100Z",
     "start_time": "2023-09-18T15:57:46.516731200Z"
    }
   }
  },
  {
   "cell_type": "code",
   "execution_count": 15,
   "outputs": [
    {
     "data": {
      "text/plain": "(1800, 20)"
     },
     "execution_count": 15,
     "metadata": {},
     "output_type": "execute_result"
    }
   ],
   "source": [
    "df.shape"
   ],
   "metadata": {
    "collapsed": false,
    "ExecuteTime": {
     "end_time": "2023-09-18T15:57:46.579675Z",
     "start_time": "2023-09-18T15:57:46.527712Z"
    }
   }
  },
  {
   "cell_type": "code",
   "execution_count": 16,
   "metadata": {
    "ExecuteTime": {
     "end_time": "2023-09-18T15:57:46.587188200Z",
     "start_time": "2023-09-18T15:57:46.552995300Z"
    }
   },
   "outputs": [],
   "source": [
    "# Perform KMeans clustering\n",
    "num_clusters = max(number_of_cluster)[1]\n",
    "kmeans = KMeans(n_clusters=num_clusters)"
   ]
  },
  {
   "cell_type": "code",
   "execution_count": 17,
   "metadata": {
    "ExecuteTime": {
     "end_time": "2023-09-18T15:57:46.829676700Z",
     "start_time": "2023-09-18T15:57:46.567030300Z"
    }
   },
   "outputs": [
    {
     "name": "stderr",
     "output_type": "stream",
     "text": [
      "C:\\Users\\patcharaprapa_k\\AppData\\Local\\anaconda3\\lib\\site-packages\\sklearn\\cluster\\_kmeans.py:870: FutureWarning: The default value of `n_init` will change from 10 to 'auto' in 1.4. Set the value of `n_init` explicitly to suppress the warning\n",
      "  warnings.warn(\n"
     ]
    }
   ],
   "source": [
    "cluster_labels = kmeans.fit_predict(X)"
   ]
  },
  {
   "cell_type": "code",
   "execution_count": 18,
   "metadata": {
    "ExecuteTime": {
     "end_time": "2023-09-18T15:57:46.846730700Z",
     "start_time": "2023-09-18T15:57:46.829676700Z"
    }
   },
   "outputs": [],
   "source": [
    "df['cluster'] = cluster_labels"
   ]
  },
  {
   "cell_type": "code",
   "execution_count": 19,
   "outputs": [
    {
     "data": {
      "text/plain": "'98 days 16:13:30'"
     },
     "execution_count": 19,
     "metadata": {},
     "output_type": "execute_result"
    }
   ],
   "source": [
    "df['timedelta'].max()"
   ],
   "metadata": {
    "collapsed": false,
    "ExecuteTime": {
     "end_time": "2023-09-18T15:57:46.893539600Z",
     "start_time": "2023-09-18T15:57:46.845724500Z"
    }
   }
  },
  {
   "cell_type": "code",
   "execution_count": 20,
   "outputs": [
    {
     "data": {
      "text/plain": "'0 days 00:00:09'"
     },
     "execution_count": 20,
     "metadata": {},
     "output_type": "execute_result"
    }
   ],
   "source": [
    "df['timedelta'].min()"
   ],
   "metadata": {
    "collapsed": false,
    "ExecuteTime": {
     "end_time": "2023-09-18T15:57:46.898054400Z",
     "start_time": "2023-09-18T15:57:46.862245700Z"
    }
   }
  },
  {
   "cell_type": "code",
   "execution_count": 21,
   "metadata": {
    "ExecuteTime": {
     "end_time": "2023-09-18T15:57:46.899053600Z",
     "start_time": "2023-09-18T15:57:46.879018900Z"
    }
   },
   "outputs": [
    {
     "name": "stdout",
     "output_type": "stream",
     "text": [
      "0 days 00:00:09\n",
      "97 days 20:11:40\n"
     ]
    },
    {
     "data": {
      "text/plain": "(890, 20)"
     },
     "execution_count": 21,
     "metadata": {},
     "output_type": "execute_result"
    }
   ],
   "source": [
    "cluster_0 = df[df['cluster'] == 0]\n",
    "print(cluster_0['timedelta'].min())\n",
    "print(cluster_0['timedelta'].max())\n",
    "cluster_0.shape"
   ]
  },
  {
   "cell_type": "code",
   "execution_count": 22,
   "metadata": {
    "ExecuteTime": {
     "end_time": "2023-09-18T15:57:46.912567300Z",
     "start_time": "2023-09-18T15:57:46.896048300Z"
    }
   },
   "outputs": [
    {
     "name": "stdout",
     "output_type": "stream",
     "text": [
      "0 days 00:02:23\n",
      "98 days 16:13:30\n"
     ]
    },
    {
     "data": {
      "text/plain": "(902, 20)"
     },
     "execution_count": 22,
     "metadata": {},
     "output_type": "execute_result"
    }
   ],
   "source": [
    "cluster_1 = df[df['cluster'] == 1]\n",
    "print(cluster_1['timedelta'].min())\n",
    "print(cluster_1['timedelta'].max())\n",
    "cluster_1.shape"
   ]
  },
  {
   "cell_type": "code",
   "execution_count": 23,
   "metadata": {
    "ExecuteTime": {
     "end_time": "2023-09-18T15:57:46.993808100Z",
     "start_time": "2023-09-18T15:57:46.913566700Z"
    }
   },
   "outputs": [
    {
     "name": "stdout",
     "output_type": "stream",
     "text": [
      "0 days 00:13:10\n",
      "6 days 17:35:37\n"
     ]
    },
    {
     "data": {
      "text/plain": "(8, 20)"
     },
     "execution_count": 23,
     "metadata": {},
     "output_type": "execute_result"
    }
   ],
   "source": [
    "cluster_2 = df[df['cluster'] == 2]\n",
    "print(cluster_2['timedelta'].min())\n",
    "print(cluster_2['timedelta'].max())\n",
    "cluster_2.shape"
   ]
  },
  {
   "cell_type": "code",
   "execution_count": 24,
   "outputs": [
    {
     "data": {
      "text/plain": "(15, 1800)"
     },
     "execution_count": 24,
     "metadata": {},
     "output_type": "execute_result"
    }
   ],
   "source": [
    "df_scaler.shape"
   ],
   "metadata": {
    "collapsed": false,
    "ExecuteTime": {
     "end_time": "2023-09-18T15:57:47.008511Z",
     "start_time": "2023-09-18T15:57:46.928287400Z"
    }
   }
  },
  {
   "cell_type": "code",
   "execution_count": 25,
   "outputs": [],
   "source": [
    "def remove_outliers_madn(data, threshold=2.24):\n",
    "    median = np.median(data)\n",
    "    mad = np.median(np.abs(data - median))\n",
    "\n",
    "    # Calculate modified Z-score for each data point\n",
    "    modified_z_scores = 0.6745 * (data - median) / mad\n",
    "\n",
    "    # Identify and remove outliers based on the threshold\n",
    "    filtered_data = data[abs(modified_z_scores) < threshold]\n",
    "\n",
    "    return filtered_data"
   ],
   "metadata": {
    "collapsed": false,
    "ExecuteTime": {
     "end_time": "2023-09-18T15:57:47.008511Z",
     "start_time": "2023-09-18T15:57:46.945306200Z"
    }
   }
  },
  {
   "cell_type": "code",
   "execution_count": 26,
   "outputs": [
    {
     "data": {
      "text/plain": "array([[7.69230769e-03, 3.07692308e-02, 2.30769231e-02, ...,\n        1.53846154e-01, 5.38461538e-02, 2.30769231e-02],\n       [4.67398925e-04, 4.67398925e-03, 5.60878710e-03, ...,\n        3.03809301e-03, 5.37508764e-03, 1.29313703e-02],\n       [4.05734379e-04, 0.00000000e+00, 4.05734379e-04, ...,\n        4.73356776e-03, 0.00000000e+00, 5.40979172e-04],\n       ...,\n       [4.95945946e-01, 4.93243243e-01, 4.94594595e-01, ...,\n        0.00000000e+00, 0.00000000e+00, 0.00000000e+00],\n       [4.96183206e-01, 4.85823337e-01, 4.90730643e-01, ...,\n        0.00000000e+00, 0.00000000e+00, 0.00000000e+00],\n       [0.00000000e+00, 0.00000000e+00, 0.00000000e+00, ...,\n        0.00000000e+00, 0.00000000e+00, 0.00000000e+00]])"
     },
     "execution_count": 26,
     "metadata": {},
     "output_type": "execute_result"
    }
   ],
   "source": [
    "df_scaler"
   ],
   "metadata": {
    "collapsed": false,
    "ExecuteTime": {
     "end_time": "2023-09-18T15:57:47.009510300Z",
     "start_time": "2023-09-18T15:57:46.958835100Z"
    }
   }
  },
  {
   "cell_type": "code",
   "execution_count": 27,
   "outputs": [
    {
     "name": "stdout",
     "output_type": "stream",
     "text": [
      "Original data: [[7.69230769e-03 3.07692308e-02 2.30769231e-02 ... 1.53846154e-01\n",
      "  5.38461538e-02 2.30769231e-02]\n",
      " [4.67398925e-04 4.67398925e-03 5.60878710e-03 ... 3.03809301e-03\n",
      "  5.37508764e-03 1.29313703e-02]\n",
      " [4.05734379e-04 0.00000000e+00 4.05734379e-04 ... 4.73356776e-03\n",
      "  0.00000000e+00 5.40979172e-04]\n",
      " ...\n",
      " [4.95945946e-01 4.93243243e-01 4.94594595e-01 ... 0.00000000e+00\n",
      "  0.00000000e+00 0.00000000e+00]\n",
      " [4.96183206e-01 4.85823337e-01 4.90730643e-01 ... 0.00000000e+00\n",
      "  0.00000000e+00 0.00000000e+00]\n",
      " [0.00000000e+00 0.00000000e+00 0.00000000e+00 ... 0.00000000e+00\n",
      "  0.00000000e+00 0.00000000e+00]]\n",
      "Filtered data: [0.00769231 0.03076923 0.02307692 ... 0.         0.         0.        ]\n"
     ]
    }
   ],
   "source": [
    "# Example usage\n",
    "filtered_data = remove_outliers_madn(df_scaler, threshold=2.24)\n",
    "print(\"Original data:\", df_scaler)\n",
    "print(\"Filtered data:\", filtered_data)"
   ],
   "metadata": {
    "collapsed": false,
    "ExecuteTime": {
     "end_time": "2023-09-18T15:57:47.010511500Z",
     "start_time": "2023-09-18T15:57:46.974865100Z"
    }
   }
  },
  {
   "cell_type": "code",
   "execution_count": 28,
   "outputs": [
    {
     "name": "stderr",
     "output_type": "stream",
     "text": [
      "C:\\Users\\patcharaprapa_k\\AppData\\Local\\anaconda3\\lib\\site-packages\\sklearn\\cluster\\_kmeans.py:870: FutureWarning: The default value of `n_init` will change from 10 to 'auto' in 1.4. Set the value of `n_init` explicitly to suppress the warning\n",
      "  warnings.warn(\n"
     ]
    },
    {
     "data": {
      "text/plain": "<Figure size 640x480 with 1 Axes>",
      "image/png": "[encoded data removed]"
     },
     "metadata": {},
     "output_type": "display_data"
    }
   ],
   "source": [
    "# Reshape the data to a 2D array if needed\n",
    "cleaned_data = filtered_data.reshape(-1, 1)\n",
    "\n",
    "# Specify the number of clusters you want to find\n",
    "n_clusters = 3\n",
    "\n",
    "# Initialize and fit K-Means model\n",
    "kmeans = KMeans(n_clusters=n_clusters)\n",
    "kmeans.fit(cleaned_data)\n",
    "\n",
    "# Get cluster assignments and cluster centers\n",
    "labels = kmeans.labels_\n",
    "cluster_centers = kmeans.cluster_centers_\n",
    "\n",
    "# Plot the clusters\n",
    "plt.scatter(cleaned_data, np.zeros_like(cleaned_data), c=labels, cmap='rainbow')\n",
    "plt.scatter(cluster_centers, np.zeros_like(cluster_centers), marker='X', color='black', s=100)\n",
    "plt.title('K-Means Clustering on Cleaned Data')\n",
    "plt.xlabel('Feature')\n",
    "plt.ylabel('Cluster')\n",
    "plt.show()"
   ],
   "metadata": {
    "collapsed": false,
    "ExecuteTime": {
     "end_time": "2023-09-18T15:57:47.685461600Z",
     "start_time": "2023-09-18T15:57:46.998989900Z"
    }
   }
  },
  {
   "cell_type": "code",
   "execution_count": 29,
   "outputs": [],
   "source": [
    "time_score = df['timedelta']\n",
    "time_score = pd.DataFrame(time_score)"
   ],
   "metadata": {
    "collapsed": false,
    "ExecuteTime": {
     "end_time": "2023-09-18T15:57:47.700002Z",
     "start_time": "2023-09-18T15:57:47.688445800Z"
    }
   }
  },
  {
   "cell_type": "code",
   "execution_count": 30,
   "outputs": [],
   "source": [
    "def determine_outlier_thresholds_std(dataframe, col_name):\n",
    "    upper_boundary_1 = dataframe[col_name].mean() + 1 * dataframe[col_name].std()\n",
    "    lower_boundary_1 = dataframe[col_name].mean() - 1 * dataframe[col_name].std()\n",
    "    upper_boundary_2 = dataframe[col_name].mean() + 2 * dataframe[col_name].std()\n",
    "    lower_boundary_2 = dataframe[col_name].mean() - 2 * dataframe[col_name].std()\n",
    "    return upper_boundary_1, upper_boundary_2 , lower_boundary_1, lower_boundary_2"
   ],
   "metadata": {
    "collapsed": false,
    "ExecuteTime": {
     "end_time": "2023-09-18T15:57:47.740774Z",
     "start_time": "2023-09-18T15:57:47.703004600Z"
    }
   }
  },
  {
   "cell_type": "code",
   "execution_count": 31,
   "outputs": [
    {
     "name": "stderr",
     "output_type": "stream",
     "text": [
      "C:\\Users\\patcharaprapa_k\\AppData\\Local\\Temp\\ipykernel_12888\\3803180365.py:2: FutureWarning: The default value of numeric_only in DataFrame.mean is deprecated. In a future version, it will default to False. In addition, specifying 'numeric_only=None' is deprecated. Select only valid columns or specify the value of numeric_only to silence this warning.\n",
      "  upper_boundary_1 = dataframe[col_name].mean() + 1 * dataframe[col_name].std()\n",
      "C:\\Users\\patcharaprapa_k\\AppData\\Local\\Temp\\ipykernel_12888\\3803180365.py:2: FutureWarning: The default value of numeric_only in DataFrame.std is deprecated. In a future version, it will default to False. In addition, specifying 'numeric_only=None' is deprecated. Select only valid columns or specify the value of numeric_only to silence this warning.\n",
      "  upper_boundary_1 = dataframe[col_name].mean() + 1 * dataframe[col_name].std()\n",
      "C:\\Users\\patcharaprapa_k\\AppData\\Local\\Temp\\ipykernel_12888\\3803180365.py:3: FutureWarning: The default value of numeric_only in DataFrame.mean is deprecated. In a future version, it will default to False. In addition, specifying 'numeric_only=None' is deprecated. Select only valid columns or specify the value of numeric_only to silence this warning.\n",
      "  lower_boundary_1 = dataframe[col_name].mean() - 1 * dataframe[col_name].std()\n",
      "C:\\Users\\patcharaprapa_k\\AppData\\Local\\Temp\\ipykernel_12888\\3803180365.py:3: FutureWarning: The default value of numeric_only in DataFrame.std is deprecated. In a future version, it will default to False. In addition, specifying 'numeric_only=None' is deprecated. Select only valid columns or specify the value of numeric_only to silence this warning.\n",
      "  lower_boundary_1 = dataframe[col_name].mean() - 1 * dataframe[col_name].std()\n",
      "C:\\Users\\patcharaprapa_k\\AppData\\Local\\Temp\\ipykernel_12888\\3803180365.py:4: FutureWarning: The default value of numeric_only in DataFrame.mean is deprecated. In a future version, it will default to False. In addition, specifying 'numeric_only=None' is deprecated. Select only valid columns or specify the value of numeric_only to silence this warning.\n",
      "  upper_boundary_2 = dataframe[col_name].mean() + 2 * dataframe[col_name].std()\n",
      "C:\\Users\\patcharaprapa_k\\AppData\\Local\\Temp\\ipykernel_12888\\3803180365.py:4: FutureWarning: The default value of numeric_only in DataFrame.std is deprecated. In a future version, it will default to False. In addition, specifying 'numeric_only=None' is deprecated. Select only valid columns or specify the value of numeric_only to silence this warning.\n",
      "  upper_boundary_2 = dataframe[col_name].mean() + 2 * dataframe[col_name].std()\n",
      "C:\\Users\\patcharaprapa_k\\AppData\\Local\\Temp\\ipykernel_12888\\3803180365.py:5: FutureWarning: The default value of numeric_only in DataFrame.mean is deprecated. In a future version, it will default to False. In addition, specifying 'numeric_only=None' is deprecated. Select only valid columns or specify the value of numeric_only to silence this warning.\n",
      "  lower_boundary_2 = dataframe[col_name].mean() - 2 * dataframe[col_name].std()\n",
      "C:\\Users\\patcharaprapa_k\\AppData\\Local\\Temp\\ipykernel_12888\\3803180365.py:5: FutureWarning: The default value of numeric_only in DataFrame.std is deprecated. In a future version, it will default to False. In addition, specifying 'numeric_only=None' is deprecated. Select only valid columns or specify the value of numeric_only to silence this warning.\n",
      "  lower_boundary_2 = dataframe[col_name].mean() - 2 * dataframe[col_name].std()\n"
     ]
    },
    {
     "data": {
      "text/plain": "(Series([], dtype: float64),\n Series([], dtype: float64),\n Series([], dtype: float64),\n Series([], dtype: float64))"
     },
     "execution_count": 31,
     "metadata": {},
     "output_type": "execute_result"
    }
   ],
   "source": [
    "determine_outlier_thresholds_std(time_score, time_score.columns)"
   ],
   "metadata": {
    "collapsed": false,
    "ExecuteTime": {
     "end_time": "2023-09-18T15:57:47.748287100Z",
     "start_time": "2023-09-18T15:57:47.732271900Z"
    }
   }
  },
  {
   "cell_type": "code",
   "execution_count": 31,
   "outputs": [],
   "source": [],
   "metadata": {
    "collapsed": false,
    "ExecuteTime": {
     "end_time": "2023-09-18T15:57:47.762797700Z",
     "start_time": "2023-09-18T15:57:47.749287100Z"
    }
   }
  }
 ],
 "metadata": {
  "kernelspec": {
   "display_name": "Python 3",
   "language": "python",
   "name": "python3"
  },
  "language_info": {
   "codemirror_mode": {
    "name": "ipython",
    "version": 3
   },
   "file_extension": ".py",
   "mimetype": "text/x-python",
   "name": "python",
   "nbconvert_exporter": "python",
   "pygments_lexer": "ipython3",
   "version": "3.10.9"
  }
 },
 "nbformat": 4,
 "nbformat_minor": 0
}
