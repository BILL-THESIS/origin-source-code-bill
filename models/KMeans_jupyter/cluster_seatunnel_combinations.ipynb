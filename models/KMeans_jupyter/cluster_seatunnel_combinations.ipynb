{
 "cells": [
  {
   "cell_type": "code",
   "execution_count": 1,
   "metadata": {
    "collapsed": true,
    "ExecuteTime": {
     "end_time": "2023-08-29T05:02:47.671939600Z",
     "start_time": "2023-08-29T05:02:47.298426300Z"
    }
   },
   "outputs": [],
   "source": [
    "import pandas as pd\n",
    "from datetime import timedelta\n",
    "#Data processing\n",
    "from sklearn import preprocessing"
   ]
  },
  {
   "cell_type": "code",
   "execution_count": 2,
   "metadata": {
    "collapsed": false,
    "ExecuteTime": {
     "end_time": "2023-08-29T05:02:48.015503600Z",
     "start_time": "2023-08-29T05:02:47.672940400Z"
    }
   },
   "outputs": [],
   "source": [
    "df = pd.read_parquet('../../Sonar/seatunnel_all_information.parquet')"
   ]
  },
  {
   "cell_type": "code",
   "execution_count": 3,
   "metadata": {
    "collapsed": false,
    "ExecuteTime": {
     "end_time": "2023-08-29T05:02:48.032051400Z",
     "start_time": "2023-08-29T05:02:48.019029Z"
    }
   },
   "outputs": [],
   "source": [
    "df['time'] = df['total_time'].astype('int64')"
   ]
  },
  {
   "cell_type": "code",
   "execution_count": 4,
   "metadata": {
    "collapsed": false,
    "ExecuteTime": {
     "end_time": "2023-08-29T05:02:48.052799300Z",
     "start_time": "2023-08-29T05:02:48.033569600Z"
    }
   },
   "outputs": [],
   "source": [
    "X = df.loc[:, ~df.columns.isin(['begin_sha', 'end_sha', 'begin_time', 'end_time', 'total_time', 'time'])]"
   ]
  },
  {
   "cell_type": "code",
   "execution_count": 5,
   "outputs": [
    {
     "data": {
      "text/plain": "   commits  additions  deletions  changed_files begin_Dispensables  \\\n0        1         10          4              3              500.0   \n\n   begin_Bloaters  begin_Change Preventers  begin_Couplers  \\\n0           262.0                    262.0           304.0   \n\n   begin_Object-Orientation Abusers  end_Dispensables  end_Bloaters  \\\n0                             304.0             500.0         261.0   \n\n   end_Change Preventers  end_Couplers  end_Object-Orientation Abusers  \n0                  261.0         304.0                           693.0  ",
      "text/html": "<div>\n<style scoped>\n    .dataframe tbody tr th:only-of-type {\n        vertical-align: middle;\n    }\n\n    .dataframe tbody tr th {\n        vertical-align: top;\n    }\n\n    .dataframe thead th {\n        text-align: right;\n    }\n</style>\n<table border=\"1\" class=\"dataframe\">\n  <thead>\n    <tr style=\"text-align: right;\">\n      <th></th>\n      <th>commits</th>\n      <th>additions</th>\n      <th>deletions</th>\n      <th>changed_files</th>\n      <th>begin_Dispensables</th>\n      <th>begin_Bloaters</th>\n      <th>begin_Change Preventers</th>\n      <th>begin_Couplers</th>\n      <th>begin_Object-Orientation Abusers</th>\n      <th>end_Dispensables</th>\n      <th>end_Bloaters</th>\n      <th>end_Change Preventers</th>\n      <th>end_Couplers</th>\n      <th>end_Object-Orientation Abusers</th>\n    </tr>\n  </thead>\n  <tbody>\n    <tr>\n      <th>0</th>\n      <td>1</td>\n      <td>10</td>\n      <td>4</td>\n      <td>3</td>\n      <td>500.0</td>\n      <td>262.0</td>\n      <td>262.0</td>\n      <td>304.0</td>\n      <td>304.0</td>\n      <td>500.0</td>\n      <td>261.0</td>\n      <td>261.0</td>\n      <td>304.0</td>\n      <td>693.0</td>\n    </tr>\n  </tbody>\n</table>\n</div>"
     },
     "execution_count": 5,
     "metadata": {},
     "output_type": "execute_result"
    }
   ],
   "source": [
    "X.head(1)"
   ],
   "metadata": {
    "collapsed": false,
    "ExecuteTime": {
     "end_time": "2023-08-29T05:02:48.091424600Z",
     "start_time": "2023-08-29T05:02:48.049282800Z"
    }
   }
  },
  {
   "cell_type": "code",
   "execution_count": null,
   "outputs": [],
   "source": [],
   "metadata": {
    "collapsed": false
   }
  },
  {
   "cell_type": "code",
   "execution_count": 96,
   "outputs": [
    {
     "name": "stdout",
     "output_type": "stream",
     "text": [
      "SUBSET : ()\n"
     ]
    },
    {
     "ename": "ValueError",
     "evalue": "Expected 2D array, got 1D array instead:\narray=[].\nReshape your data either using array.reshape(-1, 1) if your data has a single feature or array.reshape(1, -1) if it contains a single sample.",
     "output_type": "error",
     "traceback": [
      "\u001B[1;31m---------------------------------------------------------------------------\u001B[0m",
      "\u001B[1;31mValueError\u001B[0m                                Traceback (most recent call last)",
      "Cell \u001B[1;32mIn[96], line 28\u001B[0m\n\u001B[0;32m     25\u001B[0m \u001B[38;5;28mprint\u001B[39m(\u001B[38;5;124m\"\u001B[39m\u001B[38;5;124mSUBSET :\u001B[39m\u001B[38;5;124m\"\u001B[39m , subset)\n\u001B[0;32m     27\u001B[0m scaler \u001B[38;5;241m=\u001B[39m MinMaxScaler()\n\u001B[1;32m---> 28\u001B[0m scaled_data \u001B[38;5;241m=\u001B[39m \u001B[43mscaler\u001B[49m\u001B[38;5;241;43m.\u001B[39;49m\u001B[43mfit_transform\u001B[49m\u001B[43m(\u001B[49m\u001B[43msubset\u001B[49m\u001B[43m)\u001B[49m\n\u001B[0;32m     30\u001B[0m \u001B[38;5;66;03m# Step 3: Calculate silhouette score for different cluster counts\u001B[39;00m\n\u001B[0;32m     31\u001B[0m silhouette_scores \u001B[38;5;241m=\u001B[39m []\n",
      "File \u001B[1;32m~\\AppData\\Local\\anaconda3\\lib\\site-packages\\sklearn\\utils\\_set_output.py:142\u001B[0m, in \u001B[0;36m_wrap_method_output.<locals>.wrapped\u001B[1;34m(self, X, *args, **kwargs)\u001B[0m\n\u001B[0;32m    140\u001B[0m \u001B[38;5;129m@wraps\u001B[39m(f)\n\u001B[0;32m    141\u001B[0m \u001B[38;5;28;01mdef\u001B[39;00m \u001B[38;5;21mwrapped\u001B[39m(\u001B[38;5;28mself\u001B[39m, X, \u001B[38;5;241m*\u001B[39margs, \u001B[38;5;241m*\u001B[39m\u001B[38;5;241m*\u001B[39mkwargs):\n\u001B[1;32m--> 142\u001B[0m     data_to_wrap \u001B[38;5;241m=\u001B[39m f(\u001B[38;5;28mself\u001B[39m, X, \u001B[38;5;241m*\u001B[39margs, \u001B[38;5;241m*\u001B[39m\u001B[38;5;241m*\u001B[39mkwargs)\n\u001B[0;32m    143\u001B[0m     \u001B[38;5;28;01mif\u001B[39;00m \u001B[38;5;28misinstance\u001B[39m(data_to_wrap, \u001B[38;5;28mtuple\u001B[39m):\n\u001B[0;32m    144\u001B[0m         \u001B[38;5;66;03m# only wrap the first output for cross decomposition\u001B[39;00m\n\u001B[0;32m    145\u001B[0m         \u001B[38;5;28;01mreturn\u001B[39;00m (\n\u001B[0;32m    146\u001B[0m             _wrap_data_with_container(method, data_to_wrap[\u001B[38;5;241m0\u001B[39m], X, \u001B[38;5;28mself\u001B[39m),\n\u001B[0;32m    147\u001B[0m             \u001B[38;5;241m*\u001B[39mdata_to_wrap[\u001B[38;5;241m1\u001B[39m:],\n\u001B[0;32m    148\u001B[0m         )\n",
      "File \u001B[1;32m~\\AppData\\Local\\anaconda3\\lib\\site-packages\\sklearn\\base.py:859\u001B[0m, in \u001B[0;36mTransformerMixin.fit_transform\u001B[1;34m(self, X, y, **fit_params)\u001B[0m\n\u001B[0;32m    855\u001B[0m \u001B[38;5;66;03m# non-optimized default implementation; override when a better\u001B[39;00m\n\u001B[0;32m    856\u001B[0m \u001B[38;5;66;03m# method is possible for a given clustering algorithm\u001B[39;00m\n\u001B[0;32m    857\u001B[0m \u001B[38;5;28;01mif\u001B[39;00m y \u001B[38;5;129;01mis\u001B[39;00m \u001B[38;5;28;01mNone\u001B[39;00m:\n\u001B[0;32m    858\u001B[0m     \u001B[38;5;66;03m# fit method of arity 1 (unsupervised transformation)\u001B[39;00m\n\u001B[1;32m--> 859\u001B[0m     \u001B[38;5;28;01mreturn\u001B[39;00m \u001B[38;5;28mself\u001B[39m\u001B[38;5;241m.\u001B[39mfit(X, \u001B[38;5;241m*\u001B[39m\u001B[38;5;241m*\u001B[39mfit_params)\u001B[38;5;241m.\u001B[39mtransform(X)\n\u001B[0;32m    860\u001B[0m \u001B[38;5;28;01melse\u001B[39;00m:\n\u001B[0;32m    861\u001B[0m     \u001B[38;5;66;03m# fit method of arity 2 (supervised transformation)\u001B[39;00m\n\u001B[0;32m    862\u001B[0m     \u001B[38;5;28;01mreturn\u001B[39;00m \u001B[38;5;28mself\u001B[39m\u001B[38;5;241m.\u001B[39mfit(X, y, \u001B[38;5;241m*\u001B[39m\u001B[38;5;241m*\u001B[39mfit_params)\u001B[38;5;241m.\u001B[39mtransform(X)\n",
      "File \u001B[1;32m~\\AppData\\Local\\anaconda3\\lib\\site-packages\\sklearn\\preprocessing\\_data.py:427\u001B[0m, in \u001B[0;36mMinMaxScaler.fit\u001B[1;34m(self, X, y)\u001B[0m\n\u001B[0;32m    425\u001B[0m \u001B[38;5;66;03m# Reset internal state before fitting\u001B[39;00m\n\u001B[0;32m    426\u001B[0m \u001B[38;5;28mself\u001B[39m\u001B[38;5;241m.\u001B[39m_reset()\n\u001B[1;32m--> 427\u001B[0m \u001B[38;5;28;01mreturn\u001B[39;00m \u001B[38;5;28;43mself\u001B[39;49m\u001B[38;5;241;43m.\u001B[39;49m\u001B[43mpartial_fit\u001B[49m\u001B[43m(\u001B[49m\u001B[43mX\u001B[49m\u001B[43m,\u001B[49m\u001B[43m \u001B[49m\u001B[43my\u001B[49m\u001B[43m)\u001B[49m\n",
      "File \u001B[1;32m~\\AppData\\Local\\anaconda3\\lib\\site-packages\\sklearn\\preprocessing\\_data.py:466\u001B[0m, in \u001B[0;36mMinMaxScaler.partial_fit\u001B[1;34m(self, X, y)\u001B[0m\n\u001B[0;32m    460\u001B[0m     \u001B[38;5;28;01mraise\u001B[39;00m \u001B[38;5;167;01mTypeError\u001B[39;00m(\n\u001B[0;32m    461\u001B[0m         \u001B[38;5;124m\"\u001B[39m\u001B[38;5;124mMinMaxScaler does not support sparse input. \u001B[39m\u001B[38;5;124m\"\u001B[39m\n\u001B[0;32m    462\u001B[0m         \u001B[38;5;124m\"\u001B[39m\u001B[38;5;124mConsider using MaxAbsScaler instead.\u001B[39m\u001B[38;5;124m\"\u001B[39m\n\u001B[0;32m    463\u001B[0m     )\n\u001B[0;32m    465\u001B[0m first_pass \u001B[38;5;241m=\u001B[39m \u001B[38;5;129;01mnot\u001B[39;00m \u001B[38;5;28mhasattr\u001B[39m(\u001B[38;5;28mself\u001B[39m, \u001B[38;5;124m\"\u001B[39m\u001B[38;5;124mn_samples_seen_\u001B[39m\u001B[38;5;124m\"\u001B[39m)\n\u001B[1;32m--> 466\u001B[0m X \u001B[38;5;241m=\u001B[39m \u001B[38;5;28;43mself\u001B[39;49m\u001B[38;5;241;43m.\u001B[39;49m\u001B[43m_validate_data\u001B[49m\u001B[43m(\u001B[49m\n\u001B[0;32m    467\u001B[0m \u001B[43m    \u001B[49m\u001B[43mX\u001B[49m\u001B[43m,\u001B[49m\n\u001B[0;32m    468\u001B[0m \u001B[43m    \u001B[49m\u001B[43mreset\u001B[49m\u001B[38;5;241;43m=\u001B[39;49m\u001B[43mfirst_pass\u001B[49m\u001B[43m,\u001B[49m\n\u001B[0;32m    469\u001B[0m \u001B[43m    \u001B[49m\u001B[43mdtype\u001B[49m\u001B[38;5;241;43m=\u001B[39;49m\u001B[43mFLOAT_DTYPES\u001B[49m\u001B[43m,\u001B[49m\n\u001B[0;32m    470\u001B[0m \u001B[43m    \u001B[49m\u001B[43mforce_all_finite\u001B[49m\u001B[38;5;241;43m=\u001B[39;49m\u001B[38;5;124;43m\"\u001B[39;49m\u001B[38;5;124;43mallow-nan\u001B[39;49m\u001B[38;5;124;43m\"\u001B[39;49m\u001B[43m,\u001B[49m\n\u001B[0;32m    471\u001B[0m \u001B[43m\u001B[49m\u001B[43m)\u001B[49m\n\u001B[0;32m    473\u001B[0m data_min \u001B[38;5;241m=\u001B[39m np\u001B[38;5;241m.\u001B[39mnanmin(X, axis\u001B[38;5;241m=\u001B[39m\u001B[38;5;241m0\u001B[39m)\n\u001B[0;32m    474\u001B[0m data_max \u001B[38;5;241m=\u001B[39m np\u001B[38;5;241m.\u001B[39mnanmax(X, axis\u001B[38;5;241m=\u001B[39m\u001B[38;5;241m0\u001B[39m)\n",
      "File \u001B[1;32m~\\AppData\\Local\\anaconda3\\lib\\site-packages\\sklearn\\base.py:546\u001B[0m, in \u001B[0;36mBaseEstimator._validate_data\u001B[1;34m(self, X, y, reset, validate_separately, **check_params)\u001B[0m\n\u001B[0;32m    544\u001B[0m     \u001B[38;5;28;01mraise\u001B[39;00m \u001B[38;5;167;01mValueError\u001B[39;00m(\u001B[38;5;124m\"\u001B[39m\u001B[38;5;124mValidation should be done on X, y or both.\u001B[39m\u001B[38;5;124m\"\u001B[39m)\n\u001B[0;32m    545\u001B[0m \u001B[38;5;28;01melif\u001B[39;00m \u001B[38;5;129;01mnot\u001B[39;00m no_val_X \u001B[38;5;129;01mand\u001B[39;00m no_val_y:\n\u001B[1;32m--> 546\u001B[0m     X \u001B[38;5;241m=\u001B[39m check_array(X, input_name\u001B[38;5;241m=\u001B[39m\u001B[38;5;124m\"\u001B[39m\u001B[38;5;124mX\u001B[39m\u001B[38;5;124m\"\u001B[39m, \u001B[38;5;241m*\u001B[39m\u001B[38;5;241m*\u001B[39mcheck_params)\n\u001B[0;32m    547\u001B[0m     out \u001B[38;5;241m=\u001B[39m X\n\u001B[0;32m    548\u001B[0m \u001B[38;5;28;01melif\u001B[39;00m no_val_X \u001B[38;5;129;01mand\u001B[39;00m \u001B[38;5;129;01mnot\u001B[39;00m no_val_y:\n",
      "File \u001B[1;32m~\\AppData\\Local\\anaconda3\\lib\\site-packages\\sklearn\\utils\\validation.py:902\u001B[0m, in \u001B[0;36mcheck_array\u001B[1;34m(array, accept_sparse, accept_large_sparse, dtype, order, copy, force_all_finite, ensure_2d, allow_nd, ensure_min_samples, ensure_min_features, estimator, input_name)\u001B[0m\n\u001B[0;32m    900\u001B[0m     \u001B[38;5;66;03m# If input is 1D raise error\u001B[39;00m\n\u001B[0;32m    901\u001B[0m     \u001B[38;5;28;01mif\u001B[39;00m array\u001B[38;5;241m.\u001B[39mndim \u001B[38;5;241m==\u001B[39m \u001B[38;5;241m1\u001B[39m:\n\u001B[1;32m--> 902\u001B[0m         \u001B[38;5;28;01mraise\u001B[39;00m \u001B[38;5;167;01mValueError\u001B[39;00m(\n\u001B[0;32m    903\u001B[0m             \u001B[38;5;124m\"\u001B[39m\u001B[38;5;124mExpected 2D array, got 1D array instead:\u001B[39m\u001B[38;5;130;01m\\n\u001B[39;00m\u001B[38;5;124marray=\u001B[39m\u001B[38;5;132;01m{}\u001B[39;00m\u001B[38;5;124m.\u001B[39m\u001B[38;5;130;01m\\n\u001B[39;00m\u001B[38;5;124m\"\u001B[39m\n\u001B[0;32m    904\u001B[0m             \u001B[38;5;124m\"\u001B[39m\u001B[38;5;124mReshape your data either using array.reshape(-1, 1) if \u001B[39m\u001B[38;5;124m\"\u001B[39m\n\u001B[0;32m    905\u001B[0m             \u001B[38;5;124m\"\u001B[39m\u001B[38;5;124myour data has a single feature or array.reshape(1, -1) \u001B[39m\u001B[38;5;124m\"\u001B[39m\n\u001B[0;32m    906\u001B[0m             \u001B[38;5;124m\"\u001B[39m\u001B[38;5;124mif it contains a single sample.\u001B[39m\u001B[38;5;124m\"\u001B[39m\u001B[38;5;241m.\u001B[39mformat(array)\n\u001B[0;32m    907\u001B[0m         )\n\u001B[0;32m    909\u001B[0m \u001B[38;5;28;01mif\u001B[39;00m dtype_numeric \u001B[38;5;129;01mand\u001B[39;00m array\u001B[38;5;241m.\u001B[39mdtype\u001B[38;5;241m.\u001B[39mkind \u001B[38;5;129;01min\u001B[39;00m \u001B[38;5;124m\"\u001B[39m\u001B[38;5;124mUSV\u001B[39m\u001B[38;5;124m\"\u001B[39m:\n\u001B[0;32m    910\u001B[0m     \u001B[38;5;28;01mraise\u001B[39;00m \u001B[38;5;167;01mValueError\u001B[39;00m(\n\u001B[0;32m    911\u001B[0m         \u001B[38;5;124m\"\u001B[39m\u001B[38;5;124mdtype=\u001B[39m\u001B[38;5;124m'\u001B[39m\u001B[38;5;124mnumeric\u001B[39m\u001B[38;5;124m'\u001B[39m\u001B[38;5;124m is not compatible with arrays of bytes/strings.\u001B[39m\u001B[38;5;124m\"\u001B[39m\n\u001B[0;32m    912\u001B[0m         \u001B[38;5;124m\"\u001B[39m\u001B[38;5;124mConvert your data to numeric values explicitly instead.\u001B[39m\u001B[38;5;124m\"\u001B[39m\n\u001B[0;32m    913\u001B[0m     )\n",
      "\u001B[1;31mValueError\u001B[0m: Expected 2D array, got 1D array instead:\narray=[].\nReshape your data either using array.reshape(-1, 1) if your data has a single feature or array.reshape(1, -1) if it contains a single sample."
     ]
    }
   ],
   "source": [
    "import pandas as pd\n",
    "from sklearn.preprocessing import MinMaxScaler\n",
    "from sklearn.cluster import KMeans\n",
    "from sklearn.metrics import silhouette_score\n",
    "import numpy as np\n",
    "import itertools\n",
    "from itertools import chain, combinations\n",
    "\n",
    "# Step 1: Prepare the data set\n",
    "# data = X\n",
    "\n",
    "# Step 2: Use MinMaxScaler\n",
    "# scaler = MinMaxScaler()\n",
    "# scaled_data = scaler.fit_transform(data)\n",
    "\n",
    "# Step 6: Loop through combinations\n",
    "lst = X.columns[:14]\n",
    "combinations_to_check = chain.from_iterable(combinations(lst, r) for r in range(len(lst) + 1))\n",
    "\n",
    "results = []\n",
    "\n",
    "for subset in combinations_to_check:\n",
    "\n",
    "    # Step 1: Prepare the data set\n",
    "    print(\"SUBSET :\" , subset)\n",
    "\n",
    "    data = subset\n",
    "\n",
    "    scaler = MinMaxScaler()\n",
    "    scaled_data = scaler.fit_transform(subset)\n",
    "\n",
    "    # Step 3: Calculate silhouette score for different cluster counts\n",
    "    silhouette_scores = []\n",
    "    for n_clusters in range(2, 10):  # You can adjust the range as needed\n",
    "        kmeans = KMeans(n_clusters=n_clusters)\n",
    "        cluster_labels = kmeans.fit_predict(scaled_data)\n",
    "        silhouette_scores.append(silhouette_score(scaled_data, cluster_labels))\n",
    "\n",
    "    # Step 4: Sort and determine optimal cluster count\n",
    "    optimal_clusters = silhouette_scores.index(max(silhouette_scores)) + 2\n",
    "    # Adding 2 due to range start\n",
    "\n",
    "    # Step 5: Perform KMeans clustering\n",
    "    kmeans = KMeans(n_clusters=optimal_clusters)\n",
    "    df['cluster'] = kmeans.fit_predict(scaled_data)\n",
    "\n",
    "    for cluster_num in range(optimal_clusters):\n",
    "        sort = cluster_num\n",
    "        cluster_data = df[df['cluster'] == cluster_num]\n",
    "        time_min = cluster_data['total_time'].min()\n",
    "        time_max = cluster_data['total_time'].max()\n",
    "        time_std = cluster_data['total_time'].std()\n",
    "        time_minus_2std = cluster_data['total_time'].mean() - 2 * time_std\n",
    "        time_minus_1std = cluster_data['total_time'].mean() - 1 * time_std\n",
    "        time_plus_1std = cluster_data['total_time'].mean() + 1 * time_std\n",
    "        time_plus_2std = cluster_data['total_time'].mean() + 2 * time_std\n",
    "\n",
    "# # check cluster  1 = 1 in DF\n",
    "# for cluster_num in range(optimal_clusters):\n",
    "#     cluster_data = df[df['cluster'] == cluster_num]\n",
    "#     for subset in combinations_to_check:\n",
    "#         # Steps 7 and 8: Get time min, time max, and time STDs\n",
    "#         time_min = cluster_data['total_time'].min()\n",
    "#         time_max = cluster_data['total_time'].max()\n",
    "#         time_std = cluster_data['total_time'].std()\n",
    "#         time_minus_2std = cluster_data['total_time'].mean() - 2 * time_std\n",
    "#         time_minus_1std = cluster_data['total_time'].mean() - 1 * time_std\n",
    "#         time_plus_1std = cluster_data['total_time'].mean() + 1 * time_std\n",
    "#         time_plus_2std = cluster_data['total_time'].mean() + 2 * time_std\n",
    "\n",
    "        # Step 9: Store results in a dictionary\n",
    "        result_dict = {\n",
    "            'combination': subset,\n",
    "            'cluster_num': cluster_num,\n",
    "            'silhouette_score': max(silhouette_scores),\n",
    "            'cluster_sort': optimal_clusters,\n",
    "            'time_min': time_min,\n",
    "            'time_max': time_max,\n",
    "            'time_-2std': time_minus_2std,\n",
    "            'time_-1std': time_minus_1std,\n",
    "            'time_+1std': time_plus_1std,\n",
    "            'time_+2std': time_plus_2std\n",
    "        }\n",
    "        results.append(result_dict)\n",
    "\n",
    "# Create a new DataFrame from the results\n",
    "results_df = pd.DataFrame(results)\n",
    "\n",
    "# Display the results\n",
    "print(results_df)"
   ],
   "metadata": {
    "collapsed": false,
    "ExecuteTime": {
     "end_time": "2023-08-29T09:16:51.907991500Z",
     "start_time": "2023-08-29T09:16:51.893154200Z"
    }
   }
  },
  {
   "cell_type": "code",
   "execution_count": 90,
   "outputs": [
    {
     "data": {
      "text/plain": "('commits',\n 'additions',\n 'deletions',\n 'changed_files',\n 'begin_Dispensables',\n 'begin_Bloaters')"
     },
     "execution_count": 90,
     "metadata": {},
     "output_type": "execute_result"
    }
   ],
   "source": [
    "subset"
   ],
   "metadata": {
    "collapsed": false,
    "ExecuteTime": {
     "end_time": "2023-08-29T06:06:09.945786600Z",
     "start_time": "2023-08-29T06:06:09.928500800Z"
    }
   }
  },
  {
   "cell_type": "code",
   "execution_count": 77,
   "outputs": [
    {
     "data": {
      "text/plain": "Timedelta('4 days 12:35:56.283149884')"
     },
     "execution_count": 77,
     "metadata": {},
     "output_type": "execute_result"
    }
   ],
   "source": [
    "time_std"
   ],
   "metadata": {
    "collapsed": false,
    "ExecuteTime": {
     "end_time": "2023-08-29T05:57:53.651477800Z",
     "start_time": "2023-08-29T05:57:53.636220900Z"
    }
   }
  },
  {
   "cell_type": "code",
   "execution_count": 78,
   "outputs": [
    {
     "data": {
      "text/plain": "1"
     },
     "execution_count": 78,
     "metadata": {},
     "output_type": "execute_result"
    }
   ],
   "source": [
    "cluster_num"
   ],
   "metadata": {
    "collapsed": false,
    "ExecuteTime": {
     "end_time": "2023-08-29T05:57:54.460474500Z",
     "start_time": "2023-08-29T05:57:54.439077100Z"
    }
   }
  },
  {
   "cell_type": "code",
   "execution_count": 79,
   "outputs": [
    {
     "data": {
      "text/plain": "2"
     },
     "execution_count": 79,
     "metadata": {},
     "output_type": "execute_result"
    }
   ],
   "source": [
    "optimal_clusters"
   ],
   "metadata": {
    "collapsed": false,
    "ExecuteTime": {
     "end_time": "2023-08-29T05:57:55.072197100Z",
     "start_time": "2023-08-29T05:57:55.061545200Z"
    }
   }
  },
  {
   "cell_type": "code",
   "execution_count": 80,
   "outputs": [
    {
     "data": {
      "text/plain": "                                    begin_sha  \\\n0    84be0f9fd057b1680d001de38802ce1c28d79f04   \n1    84be0f9fd057b1680d001de38802ce1c28d79f04   \n2    84be0f9fd057b1680d001de38802ce1c28d79f04   \n3    84be0f9fd057b1680d001de38802ce1c28d79f04   \n4    1b918160214a0b20ce1ae8f9e02f8e0dce243b53   \n..                                        ...   \n493  15636bdea1580196118b942d2d3587e0262d2b8f   \n494  05d105dea3ee53b9d001adbfcf2ec87ea06f8aba   \n517  41751d8b636064d73ffb66ab07cea0c7e3091e47   \n524  4969ffae88494b69de694f03a9c534f25dd5d242   \n572  590b47884b4995a55a8cd290733d3e7f6df07088   \n\n                                      end_sha  commits  additions  deletions  \\\n0    9a2efa51c7180b369ecfea17efaae813d9d0bfc5        1         10          4   \n1    5e03d22d6cb5bfdaf941b7749e0a313bd6ab2f86        1          2          1   \n2    e0d8519a9d7b6dfac29c1daf4199b6fe87781d0a        1         36         67   \n3    d0a47b9811a30f5de6d59334bb4fcc8c74ef640b        1         21          2   \n4    988d2f0c4ef3ba8db0e701ab2105555996def4f7        8        211        212   \n..                                        ...      ...        ...        ...   \n493  044f62ef32cd0d195bc4bb6c8492d48d15379ff4        9        412        287   \n494  8fd966394b66ef83dca4635a9c278f655903a9bf       16        478        110   \n517  acf4d5b1b469adf383b06266ef2e9815f472cd25       15       1601          1   \n524  38b0daf8b7ba723f2ee18d1e0ab55073701c1b74       39       1164         97   \n572  384ece19130faafcfdbc52d715871bdef686c739       23        687         14   \n\n     changed_files        total_time            begin_time  \\\n0                3   3 days 01:27:48  2023-06-02T07:22:03Z   \n1                1   3 days 04:15:10  2023-06-02T05:07:40Z   \n2                9   0 days 05:24:03  2023-06-02T03:16:04Z   \n3                3   4 days 00:22:26  2023-06-01T08:30:26Z   \n4               80  12 days 00:39:27  2023-06-01T07:45:26Z   \n..             ...               ...                   ...   \n493             12   1 days 16:30:23  2022-09-28T17:53:03Z   \n494             19   9 days 11:33:16  2022-09-28T15:15:23Z   \n517             22 110 days 16:44:58  2022-09-21T09:21:12Z   \n524             22  32 days 19:01:36  2022-09-18T11:31:28Z   \n572             12  41 days 19:17:00  2022-08-28T10:53:09Z   \n\n                 end_time begin_Dispensables  ...  begin_Change Preventers  \\\n0    2023-06-05T08:49:51Z              500.0  ...                    262.0   \n1    2023-06-05T09:22:50Z              500.0  ...                    262.0   \n2    2023-06-02T08:40:07Z              500.0  ...                    262.0   \n3    2023-06-05T08:52:52Z              500.0  ...                    262.0   \n4    2023-06-13T08:24:53Z              499.0  ...                    261.0   \n..                    ...                ...  ...                      ...   \n493  2022-09-30T10:23:26Z              241.0  ...                    129.0   \n494  2022-10-08T02:48:39Z              290.0  ...                    175.0   \n517  2023-01-10T02:06:10Z              384.0  ...                    213.0   \n524  2022-10-21T06:33:04Z              299.0  ...                    176.0   \n572  2022-10-09T06:10:09Z              308.0  ...                    176.0   \n\n     begin_Couplers  begin_Object-Orientation Abusers  end_Dispensables  \\\n0             304.0                             304.0             500.0   \n1             304.0                             304.0             501.0   \n2             304.0                             304.0             499.0   \n3             304.0                             304.0             500.0   \n4             304.0                             304.0             500.0   \n..              ...                               ...               ...   \n493           139.0                             139.0             290.0   \n494           194.0                             194.0             290.0   \n517           238.0                             238.0             386.0   \n524           163.0                             163.0             303.0   \n572           171.0                             171.0             309.0   \n\n     end_Bloaters  end_Change Preventers  end_Couplers  \\\n0           261.0                  261.0         304.0   \n1           262.0                  262.0         304.0   \n2           261.0                  261.0         304.0   \n3           261.0                  261.0         304.0   \n4           262.0                  262.0         304.0   \n..            ...                    ...           ...   \n493         175.0                  175.0         194.0   \n494         175.0                  175.0         194.0   \n517         214.0                  214.0         243.0   \n524         183.0                  183.0         180.0   \n572         188.0                  188.0         180.0   \n\n     end_Object-Orientation Abusers              time  cluster  \n0                             693.0   264468000000000        1  \n1                             693.0   274510000000000        1  \n2                             693.0    19443000000000        1  \n3                             693.0   346946000000000        1  \n4                             693.0  1039167000000000        1  \n..                              ...               ...      ...  \n493                           497.0   145823000000000        1  \n494                           500.0   819196000000000        1  \n517                           546.0  9564298000000000        1  \n524                           484.0  2833296000000000        1  \n572                           493.0  3611820000000000        1  \n\n[494 rows x 21 columns]",
      "text/html": "<div>\n<style scoped>\n    .dataframe tbody tr th:only-of-type {\n        vertical-align: middle;\n    }\n\n    .dataframe tbody tr th {\n        vertical-align: top;\n    }\n\n    .dataframe thead th {\n        text-align: right;\n    }\n</style>\n<table border=\"1\" class=\"dataframe\">\n  <thead>\n    <tr style=\"text-align: right;\">\n      <th></th>\n      <th>begin_sha</th>\n      <th>end_sha</th>\n      <th>commits</th>\n      <th>additions</th>\n      <th>deletions</th>\n      <th>changed_files</th>\n      <th>total_time</th>\n      <th>begin_time</th>\n      <th>end_time</th>\n      <th>begin_Dispensables</th>\n      <th>...</th>\n      <th>begin_Change Preventers</th>\n      <th>begin_Couplers</th>\n      <th>begin_Object-Orientation Abusers</th>\n      <th>end_Dispensables</th>\n      <th>end_Bloaters</th>\n      <th>end_Change Preventers</th>\n      <th>end_Couplers</th>\n      <th>end_Object-Orientation Abusers</th>\n      <th>time</th>\n      <th>cluster</th>\n    </tr>\n  </thead>\n  <tbody>\n    <tr>\n      <th>0</th>\n      <td>84be0f9fd057b1680d001de38802ce1c28d79f04</td>\n      <td>9a2efa51c7180b369ecfea17efaae813d9d0bfc5</td>\n      <td>1</td>\n      <td>10</td>\n      <td>4</td>\n      <td>3</td>\n      <td>3 days 01:27:48</td>\n      <td>2023-06-02T07:22:03Z</td>\n      <td>2023-06-05T08:49:51Z</td>\n      <td>500.0</td>\n      <td>...</td>\n      <td>262.0</td>\n      <td>304.0</td>\n      <td>304.0</td>\n      <td>500.0</td>\n      <td>261.0</td>\n      <td>261.0</td>\n      <td>304.0</td>\n      <td>693.0</td>\n      <td>264468000000000</td>\n      <td>1</td>\n    </tr>\n    <tr>\n      <th>1</th>\n      <td>84be0f9fd057b1680d001de38802ce1c28d79f04</td>\n      <td>5e03d22d6cb5bfdaf941b7749e0a313bd6ab2f86</td>\n      <td>1</td>\n      <td>2</td>\n      <td>1</td>\n      <td>1</td>\n      <td>3 days 04:15:10</td>\n      <td>2023-06-02T05:07:40Z</td>\n      <td>2023-06-05T09:22:50Z</td>\n      <td>500.0</td>\n      <td>...</td>\n      <td>262.0</td>\n      <td>304.0</td>\n      <td>304.0</td>\n      <td>501.0</td>\n      <td>262.0</td>\n      <td>262.0</td>\n      <td>304.0</td>\n      <td>693.0</td>\n      <td>274510000000000</td>\n      <td>1</td>\n    </tr>\n    <tr>\n      <th>2</th>\n      <td>84be0f9fd057b1680d001de38802ce1c28d79f04</td>\n      <td>e0d8519a9d7b6dfac29c1daf4199b6fe87781d0a</td>\n      <td>1</td>\n      <td>36</td>\n      <td>67</td>\n      <td>9</td>\n      <td>0 days 05:24:03</td>\n      <td>2023-06-02T03:16:04Z</td>\n      <td>2023-06-02T08:40:07Z</td>\n      <td>500.0</td>\n      <td>...</td>\n      <td>262.0</td>\n      <td>304.0</td>\n      <td>304.0</td>\n      <td>499.0</td>\n      <td>261.0</td>\n      <td>261.0</td>\n      <td>304.0</td>\n      <td>693.0</td>\n      <td>19443000000000</td>\n      <td>1</td>\n    </tr>\n    <tr>\n      <th>3</th>\n      <td>84be0f9fd057b1680d001de38802ce1c28d79f04</td>\n      <td>d0a47b9811a30f5de6d59334bb4fcc8c74ef640b</td>\n      <td>1</td>\n      <td>21</td>\n      <td>2</td>\n      <td>3</td>\n      <td>4 days 00:22:26</td>\n      <td>2023-06-01T08:30:26Z</td>\n      <td>2023-06-05T08:52:52Z</td>\n      <td>500.0</td>\n      <td>...</td>\n      <td>262.0</td>\n      <td>304.0</td>\n      <td>304.0</td>\n      <td>500.0</td>\n      <td>261.0</td>\n      <td>261.0</td>\n      <td>304.0</td>\n      <td>693.0</td>\n      <td>346946000000000</td>\n      <td>1</td>\n    </tr>\n    <tr>\n      <th>4</th>\n      <td>1b918160214a0b20ce1ae8f9e02f8e0dce243b53</td>\n      <td>988d2f0c4ef3ba8db0e701ab2105555996def4f7</td>\n      <td>8</td>\n      <td>211</td>\n      <td>212</td>\n      <td>80</td>\n      <td>12 days 00:39:27</td>\n      <td>2023-06-01T07:45:26Z</td>\n      <td>2023-06-13T08:24:53Z</td>\n      <td>499.0</td>\n      <td>...</td>\n      <td>261.0</td>\n      <td>304.0</td>\n      <td>304.0</td>\n      <td>500.0</td>\n      <td>262.0</td>\n      <td>262.0</td>\n      <td>304.0</td>\n      <td>693.0</td>\n      <td>1039167000000000</td>\n      <td>1</td>\n    </tr>\n    <tr>\n      <th>...</th>\n      <td>...</td>\n      <td>...</td>\n      <td>...</td>\n      <td>...</td>\n      <td>...</td>\n      <td>...</td>\n      <td>...</td>\n      <td>...</td>\n      <td>...</td>\n      <td>...</td>\n      <td>...</td>\n      <td>...</td>\n      <td>...</td>\n      <td>...</td>\n      <td>...</td>\n      <td>...</td>\n      <td>...</td>\n      <td>...</td>\n      <td>...</td>\n      <td>...</td>\n      <td>...</td>\n    </tr>\n    <tr>\n      <th>493</th>\n      <td>15636bdea1580196118b942d2d3587e0262d2b8f</td>\n      <td>044f62ef32cd0d195bc4bb6c8492d48d15379ff4</td>\n      <td>9</td>\n      <td>412</td>\n      <td>287</td>\n      <td>12</td>\n      <td>1 days 16:30:23</td>\n      <td>2022-09-28T17:53:03Z</td>\n      <td>2022-09-30T10:23:26Z</td>\n      <td>241.0</td>\n      <td>...</td>\n      <td>129.0</td>\n      <td>139.0</td>\n      <td>139.0</td>\n      <td>290.0</td>\n      <td>175.0</td>\n      <td>175.0</td>\n      <td>194.0</td>\n      <td>497.0</td>\n      <td>145823000000000</td>\n      <td>1</td>\n    </tr>\n    <tr>\n      <th>494</th>\n      <td>05d105dea3ee53b9d001adbfcf2ec87ea06f8aba</td>\n      <td>8fd966394b66ef83dca4635a9c278f655903a9bf</td>\n      <td>16</td>\n      <td>478</td>\n      <td>110</td>\n      <td>19</td>\n      <td>9 days 11:33:16</td>\n      <td>2022-09-28T15:15:23Z</td>\n      <td>2022-10-08T02:48:39Z</td>\n      <td>290.0</td>\n      <td>...</td>\n      <td>175.0</td>\n      <td>194.0</td>\n      <td>194.0</td>\n      <td>290.0</td>\n      <td>175.0</td>\n      <td>175.0</td>\n      <td>194.0</td>\n      <td>500.0</td>\n      <td>819196000000000</td>\n      <td>1</td>\n    </tr>\n    <tr>\n      <th>517</th>\n      <td>41751d8b636064d73ffb66ab07cea0c7e3091e47</td>\n      <td>acf4d5b1b469adf383b06266ef2e9815f472cd25</td>\n      <td>15</td>\n      <td>1601</td>\n      <td>1</td>\n      <td>22</td>\n      <td>110 days 16:44:58</td>\n      <td>2022-09-21T09:21:12Z</td>\n      <td>2023-01-10T02:06:10Z</td>\n      <td>384.0</td>\n      <td>...</td>\n      <td>213.0</td>\n      <td>238.0</td>\n      <td>238.0</td>\n      <td>386.0</td>\n      <td>214.0</td>\n      <td>214.0</td>\n      <td>243.0</td>\n      <td>546.0</td>\n      <td>9564298000000000</td>\n      <td>1</td>\n    </tr>\n    <tr>\n      <th>524</th>\n      <td>4969ffae88494b69de694f03a9c534f25dd5d242</td>\n      <td>38b0daf8b7ba723f2ee18d1e0ab55073701c1b74</td>\n      <td>39</td>\n      <td>1164</td>\n      <td>97</td>\n      <td>22</td>\n      <td>32 days 19:01:36</td>\n      <td>2022-09-18T11:31:28Z</td>\n      <td>2022-10-21T06:33:04Z</td>\n      <td>299.0</td>\n      <td>...</td>\n      <td>176.0</td>\n      <td>163.0</td>\n      <td>163.0</td>\n      <td>303.0</td>\n      <td>183.0</td>\n      <td>183.0</td>\n      <td>180.0</td>\n      <td>484.0</td>\n      <td>2833296000000000</td>\n      <td>1</td>\n    </tr>\n    <tr>\n      <th>572</th>\n      <td>590b47884b4995a55a8cd290733d3e7f6df07088</td>\n      <td>384ece19130faafcfdbc52d715871bdef686c739</td>\n      <td>23</td>\n      <td>687</td>\n      <td>14</td>\n      <td>12</td>\n      <td>41 days 19:17:00</td>\n      <td>2022-08-28T10:53:09Z</td>\n      <td>2022-10-09T06:10:09Z</td>\n      <td>308.0</td>\n      <td>...</td>\n      <td>176.0</td>\n      <td>171.0</td>\n      <td>171.0</td>\n      <td>309.0</td>\n      <td>188.0</td>\n      <td>188.0</td>\n      <td>180.0</td>\n      <td>493.0</td>\n      <td>3611820000000000</td>\n      <td>1</td>\n    </tr>\n  </tbody>\n</table>\n<p>494 rows × 21 columns</p>\n</div>"
     },
     "execution_count": 80,
     "metadata": {},
     "output_type": "execute_result"
    }
   ],
   "source": [
    "cluster_data"
   ],
   "metadata": {
    "collapsed": false,
    "ExecuteTime": {
     "end_time": "2023-08-29T05:57:55.772819Z",
     "start_time": "2023-08-29T05:57:55.736289200Z"
    }
   }
  },
  {
   "cell_type": "code",
   "execution_count": 80,
   "outputs": [],
   "source": [],
   "metadata": {
    "collapsed": false,
    "ExecuteTime": {
     "end_time": "2023-08-29T05:57:56.745566700Z",
     "start_time": "2023-08-29T05:57:56.727646900Z"
    }
   }
  },
  {
   "cell_type": "code",
   "execution_count": 81,
   "outputs": [
    {
     "data": {
      "text/plain": "Timedelta('0 days 00:00:06')"
     },
     "execution_count": 81,
     "metadata": {},
     "output_type": "execute_result"
    }
   ],
   "source": [
    "time_min"
   ],
   "metadata": {
    "collapsed": false,
    "ExecuteTime": {
     "end_time": "2023-08-29T05:57:57.662695300Z",
     "start_time": "2023-08-29T05:57:57.636137900Z"
    }
   }
  },
  {
   "cell_type": "code",
   "execution_count": 82,
   "outputs": [
    {
     "data": {
      "text/plain": "                                    begin_sha  \\\n0    84be0f9fd057b1680d001de38802ce1c28d79f04   \n1    84be0f9fd057b1680d001de38802ce1c28d79f04   \n2    84be0f9fd057b1680d001de38802ce1c28d79f04   \n3    84be0f9fd057b1680d001de38802ce1c28d79f04   \n4    1b918160214a0b20ce1ae8f9e02f8e0dce243b53   \n..                                        ...   \n493  15636bdea1580196118b942d2d3587e0262d2b8f   \n494  05d105dea3ee53b9d001adbfcf2ec87ea06f8aba   \n517  41751d8b636064d73ffb66ab07cea0c7e3091e47   \n524  4969ffae88494b69de694f03a9c534f25dd5d242   \n572  590b47884b4995a55a8cd290733d3e7f6df07088   \n\n                                      end_sha  commits  additions  deletions  \\\n0    9a2efa51c7180b369ecfea17efaae813d9d0bfc5        1         10          4   \n1    5e03d22d6cb5bfdaf941b7749e0a313bd6ab2f86        1          2          1   \n2    e0d8519a9d7b6dfac29c1daf4199b6fe87781d0a        1         36         67   \n3    d0a47b9811a30f5de6d59334bb4fcc8c74ef640b        1         21          2   \n4    988d2f0c4ef3ba8db0e701ab2105555996def4f7        8        211        212   \n..                                        ...      ...        ...        ...   \n493  044f62ef32cd0d195bc4bb6c8492d48d15379ff4        9        412        287   \n494  8fd966394b66ef83dca4635a9c278f655903a9bf       16        478        110   \n517  acf4d5b1b469adf383b06266ef2e9815f472cd25       15       1601          1   \n524  38b0daf8b7ba723f2ee18d1e0ab55073701c1b74       39       1164         97   \n572  384ece19130faafcfdbc52d715871bdef686c739       23        687         14   \n\n     changed_files        total_time            begin_time  \\\n0                3   3 days 01:27:48  2023-06-02T07:22:03Z   \n1                1   3 days 04:15:10  2023-06-02T05:07:40Z   \n2                9   0 days 05:24:03  2023-06-02T03:16:04Z   \n3                3   4 days 00:22:26  2023-06-01T08:30:26Z   \n4               80  12 days 00:39:27  2023-06-01T07:45:26Z   \n..             ...               ...                   ...   \n493             12   1 days 16:30:23  2022-09-28T17:53:03Z   \n494             19   9 days 11:33:16  2022-09-28T15:15:23Z   \n517             22 110 days 16:44:58  2022-09-21T09:21:12Z   \n524             22  32 days 19:01:36  2022-09-18T11:31:28Z   \n572             12  41 days 19:17:00  2022-08-28T10:53:09Z   \n\n                 end_time begin_Dispensables  ...  begin_Change Preventers  \\\n0    2023-06-05T08:49:51Z              500.0  ...                    262.0   \n1    2023-06-05T09:22:50Z              500.0  ...                    262.0   \n2    2023-06-02T08:40:07Z              500.0  ...                    262.0   \n3    2023-06-05T08:52:52Z              500.0  ...                    262.0   \n4    2023-06-13T08:24:53Z              499.0  ...                    261.0   \n..                    ...                ...  ...                      ...   \n493  2022-09-30T10:23:26Z              241.0  ...                    129.0   \n494  2022-10-08T02:48:39Z              290.0  ...                    175.0   \n517  2023-01-10T02:06:10Z              384.0  ...                    213.0   \n524  2022-10-21T06:33:04Z              299.0  ...                    176.0   \n572  2022-10-09T06:10:09Z              308.0  ...                    176.0   \n\n     begin_Couplers  begin_Object-Orientation Abusers  end_Dispensables  \\\n0             304.0                             304.0             500.0   \n1             304.0                             304.0             501.0   \n2             304.0                             304.0             499.0   \n3             304.0                             304.0             500.0   \n4             304.0                             304.0             500.0   \n..              ...                               ...               ...   \n493           139.0                             139.0             290.0   \n494           194.0                             194.0             290.0   \n517           238.0                             238.0             386.0   \n524           163.0                             163.0             303.0   \n572           171.0                             171.0             309.0   \n\n     end_Bloaters  end_Change Preventers  end_Couplers  \\\n0           261.0                  261.0         304.0   \n1           262.0                  262.0         304.0   \n2           261.0                  261.0         304.0   \n3           261.0                  261.0         304.0   \n4           262.0                  262.0         304.0   \n..            ...                    ...           ...   \n493         175.0                  175.0         194.0   \n494         175.0                  175.0         194.0   \n517         214.0                  214.0         243.0   \n524         183.0                  183.0         180.0   \n572         188.0                  188.0         180.0   \n\n     end_Object-Orientation Abusers              time  cluster  \n0                             693.0   264468000000000        1  \n1                             693.0   274510000000000        1  \n2                             693.0    19443000000000        1  \n3                             693.0   346946000000000        1  \n4                             693.0  1039167000000000        1  \n..                              ...               ...      ...  \n493                           497.0   145823000000000        1  \n494                           500.0   819196000000000        1  \n517                           546.0  9564298000000000        1  \n524                           484.0  2833296000000000        1  \n572                           493.0  3611820000000000        1  \n\n[494 rows x 21 columns]",
      "text/html": "<div>\n<style scoped>\n    .dataframe tbody tr th:only-of-type {\n        vertical-align: middle;\n    }\n\n    .dataframe tbody tr th {\n        vertical-align: top;\n    }\n\n    .dataframe thead th {\n        text-align: right;\n    }\n</style>\n<table border=\"1\" class=\"dataframe\">\n  <thead>\n    <tr style=\"text-align: right;\">\n      <th></th>\n      <th>begin_sha</th>\n      <th>end_sha</th>\n      <th>commits</th>\n      <th>additions</th>\n      <th>deletions</th>\n      <th>changed_files</th>\n      <th>total_time</th>\n      <th>begin_time</th>\n      <th>end_time</th>\n      <th>begin_Dispensables</th>\n      <th>...</th>\n      <th>begin_Change Preventers</th>\n      <th>begin_Couplers</th>\n      <th>begin_Object-Orientation Abusers</th>\n      <th>end_Dispensables</th>\n      <th>end_Bloaters</th>\n      <th>end_Change Preventers</th>\n      <th>end_Couplers</th>\n      <th>end_Object-Orientation Abusers</th>\n      <th>time</th>\n      <th>cluster</th>\n    </tr>\n  </thead>\n  <tbody>\n    <tr>\n      <th>0</th>\n      <td>84be0f9fd057b1680d001de38802ce1c28d79f04</td>\n      <td>9a2efa51c7180b369ecfea17efaae813d9d0bfc5</td>\n      <td>1</td>\n      <td>10</td>\n      <td>4</td>\n      <td>3</td>\n      <td>3 days 01:27:48</td>\n      <td>2023-06-02T07:22:03Z</td>\n      <td>2023-06-05T08:49:51Z</td>\n      <td>500.0</td>\n      <td>...</td>\n      <td>262.0</td>\n      <td>304.0</td>\n      <td>304.0</td>\n      <td>500.0</td>\n      <td>261.0</td>\n      <td>261.0</td>\n      <td>304.0</td>\n      <td>693.0</td>\n      <td>264468000000000</td>\n      <td>1</td>\n    </tr>\n    <tr>\n      <th>1</th>\n      <td>84be0f9fd057b1680d001de38802ce1c28d79f04</td>\n      <td>5e03d22d6cb5bfdaf941b7749e0a313bd6ab2f86</td>\n      <td>1</td>\n      <td>2</td>\n      <td>1</td>\n      <td>1</td>\n      <td>3 days 04:15:10</td>\n      <td>2023-06-02T05:07:40Z</td>\n      <td>2023-06-05T09:22:50Z</td>\n      <td>500.0</td>\n      <td>...</td>\n      <td>262.0</td>\n      <td>304.0</td>\n      <td>304.0</td>\n      <td>501.0</td>\n      <td>262.0</td>\n      <td>262.0</td>\n      <td>304.0</td>\n      <td>693.0</td>\n      <td>274510000000000</td>\n      <td>1</td>\n    </tr>\n    <tr>\n      <th>2</th>\n      <td>84be0f9fd057b1680d001de38802ce1c28d79f04</td>\n      <td>e0d8519a9d7b6dfac29c1daf4199b6fe87781d0a</td>\n      <td>1</td>\n      <td>36</td>\n      <td>67</td>\n      <td>9</td>\n      <td>0 days 05:24:03</td>\n      <td>2023-06-02T03:16:04Z</td>\n      <td>2023-06-02T08:40:07Z</td>\n      <td>500.0</td>\n      <td>...</td>\n      <td>262.0</td>\n      <td>304.0</td>\n      <td>304.0</td>\n      <td>499.0</td>\n      <td>261.0</td>\n      <td>261.0</td>\n      <td>304.0</td>\n      <td>693.0</td>\n      <td>19443000000000</td>\n      <td>1</td>\n    </tr>\n    <tr>\n      <th>3</th>\n      <td>84be0f9fd057b1680d001de38802ce1c28d79f04</td>\n      <td>d0a47b9811a30f5de6d59334bb4fcc8c74ef640b</td>\n      <td>1</td>\n      <td>21</td>\n      <td>2</td>\n      <td>3</td>\n      <td>4 days 00:22:26</td>\n      <td>2023-06-01T08:30:26Z</td>\n      <td>2023-06-05T08:52:52Z</td>\n      <td>500.0</td>\n      <td>...</td>\n      <td>262.0</td>\n      <td>304.0</td>\n      <td>304.0</td>\n      <td>500.0</td>\n      <td>261.0</td>\n      <td>261.0</td>\n      <td>304.0</td>\n      <td>693.0</td>\n      <td>346946000000000</td>\n      <td>1</td>\n    </tr>\n    <tr>\n      <th>4</th>\n      <td>1b918160214a0b20ce1ae8f9e02f8e0dce243b53</td>\n      <td>988d2f0c4ef3ba8db0e701ab2105555996def4f7</td>\n      <td>8</td>\n      <td>211</td>\n      <td>212</td>\n      <td>80</td>\n      <td>12 days 00:39:27</td>\n      <td>2023-06-01T07:45:26Z</td>\n      <td>2023-06-13T08:24:53Z</td>\n      <td>499.0</td>\n      <td>...</td>\n      <td>261.0</td>\n      <td>304.0</td>\n      <td>304.0</td>\n      <td>500.0</td>\n      <td>262.0</td>\n      <td>262.0</td>\n      <td>304.0</td>\n      <td>693.0</td>\n      <td>1039167000000000</td>\n      <td>1</td>\n    </tr>\n    <tr>\n      <th>...</th>\n      <td>...</td>\n      <td>...</td>\n      <td>...</td>\n      <td>...</td>\n      <td>...</td>\n      <td>...</td>\n      <td>...</td>\n      <td>...</td>\n      <td>...</td>\n      <td>...</td>\n      <td>...</td>\n      <td>...</td>\n      <td>...</td>\n      <td>...</td>\n      <td>...</td>\n      <td>...</td>\n      <td>...</td>\n      <td>...</td>\n      <td>...</td>\n      <td>...</td>\n      <td>...</td>\n    </tr>\n    <tr>\n      <th>493</th>\n      <td>15636bdea1580196118b942d2d3587e0262d2b8f</td>\n      <td>044f62ef32cd0d195bc4bb6c8492d48d15379ff4</td>\n      <td>9</td>\n      <td>412</td>\n      <td>287</td>\n      <td>12</td>\n      <td>1 days 16:30:23</td>\n      <td>2022-09-28T17:53:03Z</td>\n      <td>2022-09-30T10:23:26Z</td>\n      <td>241.0</td>\n      <td>...</td>\n      <td>129.0</td>\n      <td>139.0</td>\n      <td>139.0</td>\n      <td>290.0</td>\n      <td>175.0</td>\n      <td>175.0</td>\n      <td>194.0</td>\n      <td>497.0</td>\n      <td>145823000000000</td>\n      <td>1</td>\n    </tr>\n    <tr>\n      <th>494</th>\n      <td>05d105dea3ee53b9d001adbfcf2ec87ea06f8aba</td>\n      <td>8fd966394b66ef83dca4635a9c278f655903a9bf</td>\n      <td>16</td>\n      <td>478</td>\n      <td>110</td>\n      <td>19</td>\n      <td>9 days 11:33:16</td>\n      <td>2022-09-28T15:15:23Z</td>\n      <td>2022-10-08T02:48:39Z</td>\n      <td>290.0</td>\n      <td>...</td>\n      <td>175.0</td>\n      <td>194.0</td>\n      <td>194.0</td>\n      <td>290.0</td>\n      <td>175.0</td>\n      <td>175.0</td>\n      <td>194.0</td>\n      <td>500.0</td>\n      <td>819196000000000</td>\n      <td>1</td>\n    </tr>\n    <tr>\n      <th>517</th>\n      <td>41751d8b636064d73ffb66ab07cea0c7e3091e47</td>\n      <td>acf4d5b1b469adf383b06266ef2e9815f472cd25</td>\n      <td>15</td>\n      <td>1601</td>\n      <td>1</td>\n      <td>22</td>\n      <td>110 days 16:44:58</td>\n      <td>2022-09-21T09:21:12Z</td>\n      <td>2023-01-10T02:06:10Z</td>\n      <td>384.0</td>\n      <td>...</td>\n      <td>213.0</td>\n      <td>238.0</td>\n      <td>238.0</td>\n      <td>386.0</td>\n      <td>214.0</td>\n      <td>214.0</td>\n      <td>243.0</td>\n      <td>546.0</td>\n      <td>9564298000000000</td>\n      <td>1</td>\n    </tr>\n    <tr>\n      <th>524</th>\n      <td>4969ffae88494b69de694f03a9c534f25dd5d242</td>\n      <td>38b0daf8b7ba723f2ee18d1e0ab55073701c1b74</td>\n      <td>39</td>\n      <td>1164</td>\n      <td>97</td>\n      <td>22</td>\n      <td>32 days 19:01:36</td>\n      <td>2022-09-18T11:31:28Z</td>\n      <td>2022-10-21T06:33:04Z</td>\n      <td>299.0</td>\n      <td>...</td>\n      <td>176.0</td>\n      <td>163.0</td>\n      <td>163.0</td>\n      <td>303.0</td>\n      <td>183.0</td>\n      <td>183.0</td>\n      <td>180.0</td>\n      <td>484.0</td>\n      <td>2833296000000000</td>\n      <td>1</td>\n    </tr>\n    <tr>\n      <th>572</th>\n      <td>590b47884b4995a55a8cd290733d3e7f6df07088</td>\n      <td>384ece19130faafcfdbc52d715871bdef686c739</td>\n      <td>23</td>\n      <td>687</td>\n      <td>14</td>\n      <td>12</td>\n      <td>41 days 19:17:00</td>\n      <td>2022-08-28T10:53:09Z</td>\n      <td>2022-10-09T06:10:09Z</td>\n      <td>308.0</td>\n      <td>...</td>\n      <td>176.0</td>\n      <td>171.0</td>\n      <td>171.0</td>\n      <td>309.0</td>\n      <td>188.0</td>\n      <td>188.0</td>\n      <td>180.0</td>\n      <td>493.0</td>\n      <td>3611820000000000</td>\n      <td>1</td>\n    </tr>\n  </tbody>\n</table>\n<p>494 rows × 21 columns</p>\n</div>"
     },
     "execution_count": 82,
     "metadata": {},
     "output_type": "execute_result"
    }
   ],
   "source": [
    "cluster_data"
   ],
   "metadata": {
    "collapsed": false,
    "ExecuteTime": {
     "end_time": "2023-08-29T05:57:58.402109300Z",
     "start_time": "2023-08-29T05:57:58.367360400Z"
    }
   }
  },
  {
   "cell_type": "code",
   "execution_count": 83,
   "outputs": [
    {
     "data": {
      "text/plain": "Index(['commits', 'additions', 'deletions'], dtype='object')"
     },
     "execution_count": 83,
     "metadata": {},
     "output_type": "execute_result"
    }
   ],
   "source": [
    "X.columns[:3]"
   ],
   "metadata": {
    "collapsed": false,
    "ExecuteTime": {
     "end_time": "2023-08-29T05:58:00.021264100Z",
     "start_time": "2023-08-29T05:58:00.008784300Z"
    }
   }
  },
  {
   "cell_type": "code",
   "execution_count": 92,
   "outputs": [
    {
     "data": {
      "text/plain": "                                             combination  cluster_num  \\\n0                                                     ()            0   \n1                                                     ()            1   \n2                                             (commits,)            0   \n3                                             (commits,)            1   \n4                                           (additions,)            0   \n...                                                  ...          ...   \n32763  (commits, deletions, changed_files, begin_Disp...            1   \n32764  (additions, deletions, changed_files, begin_Di...            0   \n32765  (additions, deletions, changed_files, begin_Di...            1   \n32766  (commits, additions, deletions, changed_files,...            0   \n32767  (commits, additions, deletions, changed_files,...            1   \n\n       silhouette_score  cluster_sort        time_min          time_max  \\\n0              0.729828             2 0 days 00:00:05 110 days 16:44:58   \n1              0.729828             2 0 days 00:00:06  41 days 21:36:58   \n2              0.729828             2 0 days 00:00:05 110 days 16:44:58   \n3              0.729828             2 0 days 00:00:06  41 days 21:36:58   \n4              0.729828             2 0 days 00:00:05 110 days 16:44:58   \n...                 ...           ...             ...               ...   \n32763          0.729828             2 0 days 00:00:06  41 days 21:36:58   \n32764          0.729828             2 0 days 00:00:05 110 days 16:44:58   \n32765          0.729828             2 0 days 00:00:06  41 days 21:36:58   \n32766          0.729828             2 0 days 00:00:05 110 days 16:44:58   \n32767          0.729828             2 0 days 00:00:06  41 days 21:36:58   \n\n                        time_-2std                  time_-1std  \\\n0     -17 days +13:23:06.703155716 -6 days +10:01:23.543885550   \n1      -7 days +03:08:01.512097444 -3 days +15:43:57.795247328   \n2     -17 days +13:23:06.703155716 -6 days +10:01:23.543885550   \n3      -7 days +03:08:01.512097444 -3 days +15:43:57.795247328   \n4     -17 days +13:23:06.703155716 -6 days +10:01:23.543885550   \n...                            ...                         ...   \n32763  -7 days +03:08:01.512097444 -3 days +15:43:57.795247328   \n32764 -17 days +13:23:06.703155716 -6 days +10:01:23.543885550   \n32765  -7 days +03:08:01.512097444 -3 days +15:43:57.795247328   \n32766 -17 days +13:23:06.703155716 -6 days +10:01:23.543885550   \n32767  -7 days +03:08:01.512097444 -3 days +15:43:57.795247328   \n\n                      time_+1std                 time_+2std  \n0     16 days 03:17:57.225345218 26 days 23:56:14.066075052  \n1      6 days 16:55:50.361547096 11 days 05:31:46.644696980  \n2     16 days 03:17:57.225345218 26 days 23:56:14.066075052  \n3      6 days 16:55:50.361547096 11 days 05:31:46.644696980  \n4     16 days 03:17:57.225345218 26 days 23:56:14.066075052  \n...                          ...                        ...  \n32763  6 days 16:55:50.361547096 11 days 05:31:46.644696980  \n32764 16 days 03:17:57.225345218 26 days 23:56:14.066075052  \n32765  6 days 16:55:50.361547096 11 days 05:31:46.644696980  \n32766 16 days 03:17:57.225345218 26 days 23:56:14.066075052  \n32767  6 days 16:55:50.361547096 11 days 05:31:46.644696980  \n\n[32768 rows x 10 columns]",
      "text/html": "<div>\n<style scoped>\n    .dataframe tbody tr th:only-of-type {\n        vertical-align: middle;\n    }\n\n    .dataframe tbody tr th {\n        vertical-align: top;\n    }\n\n    .dataframe thead th {\n        text-align: right;\n    }\n</style>\n<table border=\"1\" class=\"dataframe\">\n  <thead>\n    <tr style=\"text-align: right;\">\n      <th></th>\n      <th>combination</th>\n      <th>cluster_num</th>\n      <th>silhouette_score</th>\n      <th>cluster_sort</th>\n      <th>time_min</th>\n      <th>time_max</th>\n      <th>time_-2std</th>\n      <th>time_-1std</th>\n      <th>time_+1std</th>\n      <th>time_+2std</th>\n    </tr>\n  </thead>\n  <tbody>\n    <tr>\n      <th>0</th>\n      <td>()</td>\n      <td>0</td>\n      <td>0.729828</td>\n      <td>2</td>\n      <td>0 days 00:00:05</td>\n      <td>110 days 16:44:58</td>\n      <td>-17 days +13:23:06.703155716</td>\n      <td>-6 days +10:01:23.543885550</td>\n      <td>16 days 03:17:57.225345218</td>\n      <td>26 days 23:56:14.066075052</td>\n    </tr>\n    <tr>\n      <th>1</th>\n      <td>()</td>\n      <td>1</td>\n      <td>0.729828</td>\n      <td>2</td>\n      <td>0 days 00:00:06</td>\n      <td>41 days 21:36:58</td>\n      <td>-7 days +03:08:01.512097444</td>\n      <td>-3 days +15:43:57.795247328</td>\n      <td>6 days 16:55:50.361547096</td>\n      <td>11 days 05:31:46.644696980</td>\n    </tr>\n    <tr>\n      <th>2</th>\n      <td>(commits,)</td>\n      <td>0</td>\n      <td>0.729828</td>\n      <td>2</td>\n      <td>0 days 00:00:05</td>\n      <td>110 days 16:44:58</td>\n      <td>-17 days +13:23:06.703155716</td>\n      <td>-6 days +10:01:23.543885550</td>\n      <td>16 days 03:17:57.225345218</td>\n      <td>26 days 23:56:14.066075052</td>\n    </tr>\n    <tr>\n      <th>3</th>\n      <td>(commits,)</td>\n      <td>1</td>\n      <td>0.729828</td>\n      <td>2</td>\n      <td>0 days 00:00:06</td>\n      <td>41 days 21:36:58</td>\n      <td>-7 days +03:08:01.512097444</td>\n      <td>-3 days +15:43:57.795247328</td>\n      <td>6 days 16:55:50.361547096</td>\n      <td>11 days 05:31:46.644696980</td>\n    </tr>\n    <tr>\n      <th>4</th>\n      <td>(additions,)</td>\n      <td>0</td>\n      <td>0.729828</td>\n      <td>2</td>\n      <td>0 days 00:00:05</td>\n      <td>110 days 16:44:58</td>\n      <td>-17 days +13:23:06.703155716</td>\n      <td>-6 days +10:01:23.543885550</td>\n      <td>16 days 03:17:57.225345218</td>\n      <td>26 days 23:56:14.066075052</td>\n    </tr>\n    <tr>\n      <th>...</th>\n      <td>...</td>\n      <td>...</td>\n      <td>...</td>\n      <td>...</td>\n      <td>...</td>\n      <td>...</td>\n      <td>...</td>\n      <td>...</td>\n      <td>...</td>\n      <td>...</td>\n    </tr>\n    <tr>\n      <th>32763</th>\n      <td>(commits, deletions, changed_files, begin_Disp...</td>\n      <td>1</td>\n      <td>0.729828</td>\n      <td>2</td>\n      <td>0 days 00:00:06</td>\n      <td>41 days 21:36:58</td>\n      <td>-7 days +03:08:01.512097444</td>\n      <td>-3 days +15:43:57.795247328</td>\n      <td>6 days 16:55:50.361547096</td>\n      <td>11 days 05:31:46.644696980</td>\n    </tr>\n    <tr>\n      <th>32764</th>\n      <td>(additions, deletions, changed_files, begin_Di...</td>\n      <td>0</td>\n      <td>0.729828</td>\n      <td>2</td>\n      <td>0 days 00:00:05</td>\n      <td>110 days 16:44:58</td>\n      <td>-17 days +13:23:06.703155716</td>\n      <td>-6 days +10:01:23.543885550</td>\n      <td>16 days 03:17:57.225345218</td>\n      <td>26 days 23:56:14.066075052</td>\n    </tr>\n    <tr>\n      <th>32765</th>\n      <td>(additions, deletions, changed_files, begin_Di...</td>\n      <td>1</td>\n      <td>0.729828</td>\n      <td>2</td>\n      <td>0 days 00:00:06</td>\n      <td>41 days 21:36:58</td>\n      <td>-7 days +03:08:01.512097444</td>\n      <td>-3 days +15:43:57.795247328</td>\n      <td>6 days 16:55:50.361547096</td>\n      <td>11 days 05:31:46.644696980</td>\n    </tr>\n    <tr>\n      <th>32766</th>\n      <td>(commits, additions, deletions, changed_files,...</td>\n      <td>0</td>\n      <td>0.729828</td>\n      <td>2</td>\n      <td>0 days 00:00:05</td>\n      <td>110 days 16:44:58</td>\n      <td>-17 days +13:23:06.703155716</td>\n      <td>-6 days +10:01:23.543885550</td>\n      <td>16 days 03:17:57.225345218</td>\n      <td>26 days 23:56:14.066075052</td>\n    </tr>\n    <tr>\n      <th>32767</th>\n      <td>(commits, additions, deletions, changed_files,...</td>\n      <td>1</td>\n      <td>0.729828</td>\n      <td>2</td>\n      <td>0 days 00:00:06</td>\n      <td>41 days 21:36:58</td>\n      <td>-7 days +03:08:01.512097444</td>\n      <td>-3 days +15:43:57.795247328</td>\n      <td>6 days 16:55:50.361547096</td>\n      <td>11 days 05:31:46.644696980</td>\n    </tr>\n  </tbody>\n</table>\n<p>32768 rows × 10 columns</p>\n</div>"
     },
     "execution_count": 92,
     "metadata": {},
     "output_type": "execute_result"
    }
   ],
   "source": [
    "results_df"
   ],
   "metadata": {
    "collapsed": false,
    "ExecuteTime": {
     "end_time": "2023-08-29T06:12:15.081713700Z",
     "start_time": "2023-08-29T06:12:14.598902200Z"
    }
   }
  },
  {
   "cell_type": "code",
   "execution_count": 92,
   "outputs": [],
   "source": [],
   "metadata": {
    "collapsed": false,
    "ExecuteTime": {
     "end_time": "2023-08-29T06:12:15.115860400Z",
     "start_time": "2023-08-29T06:12:15.058727600Z"
    }
   }
  },
  {
   "cell_type": "code",
   "execution_count": null,
   "outputs": [],
   "source": [],
   "metadata": {
    "collapsed": false
   }
  }
 ],
 "metadata": {
  "kernelspec": {
   "display_name": "Python 3",
   "language": "python",
   "name": "python3"
  },
  "language_info": {
   "codemirror_mode": {
    "name": "ipython",
    "version": 3
   },
   "file_extension": ".py",
   "mimetype": "text/x-python",
   "name": "python",
   "nbconvert_exporter": "python",
   "pygments_lexer": "ipython3",
   "version": "3.10.9"
  }
 },
 "nbformat": 4,
 "nbformat_minor": 0
}
