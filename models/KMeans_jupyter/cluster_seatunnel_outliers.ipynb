{
 "cells": [
  {
   "cell_type": "code",
   "execution_count": 1,
   "metadata": {
    "ExecuteTime": {
     "end_time": "2023-08-28T03:35:24.105642700Z",
     "start_time": "2023-08-28T03:35:23.935858300Z"
    },
    "collapsed": true
   },
   "outputs": [],
   "source": [
    "import pandas as pd\n",
    "from datetime import timedelta\n",
    "#Data processing\n",
    "from sklearn import preprocessing\n",
    "import numpy as np\n",
    "import matplotlib.pyplot as plt"
   ]
  },
  {
   "cell_type": "code",
   "execution_count": 2,
   "metadata": {
    "ExecuteTime": {
     "end_time": "2023-08-28T03:36:09.058896600Z",
     "start_time": "2023-08-28T03:35:24.105642700Z"
    },
    "collapsed": false
   },
   "outputs": [],
   "source": [
    "df = pd.read_csv('seatunnel_cluster_0.csv')"
   ]
  },
  {
   "cell_type": "code",
   "execution_count": 3,
   "metadata": {
    "ExecuteTime": {
     "end_time": "2023-08-28T03:36:09.155589100Z",
     "start_time": "2023-08-28T03:36:09.025608300Z"
    },
    "collapsed": false
   },
   "outputs": [
    {
     "data": {
      "text/html": [
       "<div>\n",
       "<style scoped>\n",
       "    .dataframe tbody tr th:only-of-type {\n",
       "        vertical-align: middle;\n",
       "    }\n",
       "\n",
       "    .dataframe tbody tr th {\n",
       "        vertical-align: top;\n",
       "    }\n",
       "\n",
       "    .dataframe thead th {\n",
       "        text-align: right;\n",
       "    }\n",
       "</style>\n",
       "<table border=\"1\" class=\"dataframe\">\n",
       "  <thead>\n",
       "    <tr style=\"text-align: right;\">\n",
       "      <th></th>\n",
       "      <th>commits</th>\n",
       "      <th>additions</th>\n",
       "      <th>deletions</th>\n",
       "      <th>changed_files</th>\n",
       "      <th>begin_Dispensables</th>\n",
       "      <th>begin_Bloaters</th>\n",
       "      <th>begin_Change Preventers</th>\n",
       "      <th>begin_Couplers</th>\n",
       "      <th>begin_Object-Orientation Abusers</th>\n",
       "      <th>end_Dispensables</th>\n",
       "      <th>end_Bloaters</th>\n",
       "      <th>end_Change Preventers</th>\n",
       "      <th>end_Couplers</th>\n",
       "      <th>end_Object-Orientation Abusers</th>\n",
       "      <th>cluster</th>\n",
       "    </tr>\n",
       "  </thead>\n",
       "  <tbody>\n",
       "    <tr>\n",
       "      <th>count</th>\n",
       "      <td>1066.000000</td>\n",
       "      <td>1066.000000</td>\n",
       "      <td>1066.000000</td>\n",
       "      <td>1066.000000</td>\n",
       "      <td>1066.000000</td>\n",
       "      <td>1066.000000</td>\n",
       "      <td>1066.000000</td>\n",
       "      <td>1066.000000</td>\n",
       "      <td>1066.000000</td>\n",
       "      <td>1066.000000</td>\n",
       "      <td>1066.000000</td>\n",
       "      <td>1066.000000</td>\n",
       "      <td>1066.000000</td>\n",
       "      <td>1066.000000</td>\n",
       "      <td>1066.0</td>\n",
       "    </tr>\n",
       "    <tr>\n",
       "      <th>mean</th>\n",
       "      <td>4.315197</td>\n",
       "      <td>228.612570</td>\n",
       "      <td>94.923077</td>\n",
       "      <td>10.208255</td>\n",
       "      <td>256.231707</td>\n",
       "      <td>138.257036</td>\n",
       "      <td>138.257036</td>\n",
       "      <td>137.922139</td>\n",
       "      <td>137.922139</td>\n",
       "      <td>255.532833</td>\n",
       "      <td>137.768293</td>\n",
       "      <td>137.768293</td>\n",
       "      <td>137.103189</td>\n",
       "      <td>385.274859</td>\n",
       "      <td>0.0</td>\n",
       "    </tr>\n",
       "    <tr>\n",
       "      <th>std</th>\n",
       "      <td>7.607020</td>\n",
       "      <td>534.552419</td>\n",
       "      <td>641.869390</td>\n",
       "      <td>21.316391</td>\n",
       "      <td>146.308722</td>\n",
       "      <td>88.256304</td>\n",
       "      <td>88.256304</td>\n",
       "      <td>104.276225</td>\n",
       "      <td>104.276225</td>\n",
       "      <td>145.618252</td>\n",
       "      <td>87.162154</td>\n",
       "      <td>87.162154</td>\n",
       "      <td>103.491936</td>\n",
       "      <td>205.978777</td>\n",
       "      <td>0.0</td>\n",
       "    </tr>\n",
       "    <tr>\n",
       "      <th>min</th>\n",
       "      <td>1.000000</td>\n",
       "      <td>0.000000</td>\n",
       "      <td>0.000000</td>\n",
       "      <td>0.000000</td>\n",
       "      <td>2.000000</td>\n",
       "      <td>3.000000</td>\n",
       "      <td>3.000000</td>\n",
       "      <td>3.000000</td>\n",
       "      <td>3.000000</td>\n",
       "      <td>14.000000</td>\n",
       "      <td>12.000000</td>\n",
       "      <td>12.000000</td>\n",
       "      <td>7.000000</td>\n",
       "      <td>70.000000</td>\n",
       "      <td>0.0</td>\n",
       "    </tr>\n",
       "    <tr>\n",
       "      <th>25%</th>\n",
       "      <td>1.000000</td>\n",
       "      <td>4.000000</td>\n",
       "      <td>1.000000</td>\n",
       "      <td>1.000000</td>\n",
       "      <td>102.000000</td>\n",
       "      <td>35.250000</td>\n",
       "      <td>35.250000</td>\n",
       "      <td>33.000000</td>\n",
       "      <td>33.000000</td>\n",
       "      <td>102.000000</td>\n",
       "      <td>36.250000</td>\n",
       "      <td>36.250000</td>\n",
       "      <td>33.000000</td>\n",
       "      <td>142.000000</td>\n",
       "      <td>0.0</td>\n",
       "    </tr>\n",
       "    <tr>\n",
       "      <th>50%</th>\n",
       "      <td>2.000000</td>\n",
       "      <td>35.000000</td>\n",
       "      <td>6.000000</td>\n",
       "      <td>3.000000</td>\n",
       "      <td>257.000000</td>\n",
       "      <td>130.000000</td>\n",
       "      <td>130.000000</td>\n",
       "      <td>97.000000</td>\n",
       "      <td>97.000000</td>\n",
       "      <td>259.000000</td>\n",
       "      <td>130.000000</td>\n",
       "      <td>130.000000</td>\n",
       "      <td>98.000000</td>\n",
       "      <td>388.500000</td>\n",
       "      <td>0.0</td>\n",
       "    </tr>\n",
       "    <tr>\n",
       "      <th>75%</th>\n",
       "      <td>4.000000</td>\n",
       "      <td>183.000000</td>\n",
       "      <td>34.750000</td>\n",
       "      <td>9.000000</td>\n",
       "      <td>374.500000</td>\n",
       "      <td>203.000000</td>\n",
       "      <td>203.000000</td>\n",
       "      <td>239.000000</td>\n",
       "      <td>239.000000</td>\n",
       "      <td>373.000000</td>\n",
       "      <td>203.000000</td>\n",
       "      <td>203.000000</td>\n",
       "      <td>238.750000</td>\n",
       "      <td>545.000000</td>\n",
       "      <td>0.0</td>\n",
       "    </tr>\n",
       "    <tr>\n",
       "      <th>max</th>\n",
       "      <td>116.000000</td>\n",
       "      <td>5674.000000</td>\n",
       "      <td>17465.000000</td>\n",
       "      <td>258.000000</td>\n",
       "      <td>504.000000</td>\n",
       "      <td>285.000000</td>\n",
       "      <td>285.000000</td>\n",
       "      <td>307.000000</td>\n",
       "      <td>307.000000</td>\n",
       "      <td>504.000000</td>\n",
       "      <td>285.000000</td>\n",
       "      <td>285.000000</td>\n",
       "      <td>307.000000</td>\n",
       "      <td>696.000000</td>\n",
       "      <td>0.0</td>\n",
       "    </tr>\n",
       "  </tbody>\n",
       "</table>\n",
       "</div>"
      ],
      "text/plain": [
       "           commits    additions     deletions  changed_files  \\\n",
       "count  1066.000000  1066.000000   1066.000000    1066.000000   \n",
       "mean      4.315197   228.612570     94.923077      10.208255   \n",
       "std       7.607020   534.552419    641.869390      21.316391   \n",
       "min       1.000000     0.000000      0.000000       0.000000   \n",
       "25%       1.000000     4.000000      1.000000       1.000000   \n",
       "50%       2.000000    35.000000      6.000000       3.000000   \n",
       "75%       4.000000   183.000000     34.750000       9.000000   \n",
       "max     116.000000  5674.000000  17465.000000     258.000000   \n",
       "\n",
       "       begin_Dispensables  begin_Bloaters  begin_Change Preventers  \\\n",
       "count         1066.000000     1066.000000              1066.000000   \n",
       "mean           256.231707      138.257036               138.257036   \n",
       "std            146.308722       88.256304                88.256304   \n",
       "min              2.000000        3.000000                 3.000000   \n",
       "25%            102.000000       35.250000                35.250000   \n",
       "50%            257.000000      130.000000               130.000000   \n",
       "75%            374.500000      203.000000               203.000000   \n",
       "max            504.000000      285.000000               285.000000   \n",
       "\n",
       "       begin_Couplers  begin_Object-Orientation Abusers  end_Dispensables  \\\n",
       "count     1066.000000                       1066.000000       1066.000000   \n",
       "mean       137.922139                        137.922139        255.532833   \n",
       "std        104.276225                        104.276225        145.618252   \n",
       "min          3.000000                          3.000000         14.000000   \n",
       "25%         33.000000                         33.000000        102.000000   \n",
       "50%         97.000000                         97.000000        259.000000   \n",
       "75%        239.000000                        239.000000        373.000000   \n",
       "max        307.000000                        307.000000        504.000000   \n",
       "\n",
       "       end_Bloaters  end_Change Preventers  end_Couplers  \\\n",
       "count   1066.000000            1066.000000   1066.000000   \n",
       "mean     137.768293             137.768293    137.103189   \n",
       "std       87.162154              87.162154    103.491936   \n",
       "min       12.000000              12.000000      7.000000   \n",
       "25%       36.250000              36.250000     33.000000   \n",
       "50%      130.000000             130.000000     98.000000   \n",
       "75%      203.000000             203.000000    238.750000   \n",
       "max      285.000000             285.000000    307.000000   \n",
       "\n",
       "       end_Object-Orientation Abusers  cluster  \n",
       "count                     1066.000000   1066.0  \n",
       "mean                       385.274859      0.0  \n",
       "std                        205.978777      0.0  \n",
       "min                         70.000000      0.0  \n",
       "25%                        142.000000      0.0  \n",
       "50%                        388.500000      0.0  \n",
       "75%                        545.000000      0.0  \n",
       "max                        696.000000      0.0  "
      ]
     },
     "execution_count": 3,
     "metadata": {},
     "output_type": "execute_result"
    }
   ],
   "source": [
    "df.describe()"
   ]
  },
  {
   "cell_type": "code",
   "execution_count": 4,
   "metadata": {
    "ExecuteTime": {
     "end_time": "2023-08-28T03:36:09.155589100Z",
     "start_time": "2023-08-28T03:36:09.027321Z"
    },
    "collapsed": false
   },
   "outputs": [
    {
     "data": {
      "text/html": [
       "<div>\n",
       "<style scoped>\n",
       "    .dataframe tbody tr th:only-of-type {\n",
       "        vertical-align: middle;\n",
       "    }\n",
       "\n",
       "    .dataframe tbody tr th {\n",
       "        vertical-align: top;\n",
       "    }\n",
       "\n",
       "    .dataframe thead th {\n",
       "        text-align: right;\n",
       "    }\n",
       "</style>\n",
       "<table border=\"1\" class=\"dataframe\">\n",
       "  <thead>\n",
       "    <tr style=\"text-align: right;\">\n",
       "      <th></th>\n",
       "      <th>begin_sha</th>\n",
       "      <th>end_sha</th>\n",
       "      <th>commits</th>\n",
       "      <th>additions</th>\n",
       "      <th>deletions</th>\n",
       "      <th>changed_files</th>\n",
       "      <th>total_time</th>\n",
       "      <th>begin_time</th>\n",
       "      <th>end_time</th>\n",
       "      <th>begin_Dispensables</th>\n",
       "      <th>begin_Bloaters</th>\n",
       "      <th>begin_Change Preventers</th>\n",
       "      <th>begin_Couplers</th>\n",
       "      <th>begin_Object-Orientation Abusers</th>\n",
       "      <th>end_Dispensables</th>\n",
       "      <th>end_Bloaters</th>\n",
       "      <th>end_Change Preventers</th>\n",
       "      <th>end_Couplers</th>\n",
       "      <th>end_Object-Orientation Abusers</th>\n",
       "      <th>cluster</th>\n",
       "    </tr>\n",
       "  </thead>\n",
       "  <tbody>\n",
       "    <tr>\n",
       "      <th>0</th>\n",
       "      <td>84be0f9fd057b1680d001de38802ce1c28d79f04</td>\n",
       "      <td>9a2efa51c7180b369ecfea17efaae813d9d0bfc5</td>\n",
       "      <td>1</td>\n",
       "      <td>10</td>\n",
       "      <td>4</td>\n",
       "      <td>3</td>\n",
       "      <td>3 days 01:27:48</td>\n",
       "      <td>2023-06-02T07:22:03Z</td>\n",
       "      <td>2023-06-05T08:49:51Z</td>\n",
       "      <td>500.0</td>\n",
       "      <td>262.0</td>\n",
       "      <td>262.0</td>\n",
       "      <td>304.0</td>\n",
       "      <td>304.0</td>\n",
       "      <td>500.0</td>\n",
       "      <td>261.0</td>\n",
       "      <td>261.0</td>\n",
       "      <td>304.0</td>\n",
       "      <td>693.0</td>\n",
       "      <td>0</td>\n",
       "    </tr>\n",
       "  </tbody>\n",
       "</table>\n",
       "</div>"
      ],
      "text/plain": [
       "                                  begin_sha  \\\n",
       "0  84be0f9fd057b1680d001de38802ce1c28d79f04   \n",
       "\n",
       "                                    end_sha  commits  additions  deletions  \\\n",
       "0  9a2efa51c7180b369ecfea17efaae813d9d0bfc5        1         10          4   \n",
       "\n",
       "   changed_files       total_time            begin_time              end_time  \\\n",
       "0              3  3 days 01:27:48  2023-06-02T07:22:03Z  2023-06-05T08:49:51Z   \n",
       "\n",
       "   begin_Dispensables  begin_Bloaters  begin_Change Preventers  \\\n",
       "0               500.0           262.0                    262.0   \n",
       "\n",
       "   begin_Couplers  begin_Object-Orientation Abusers  end_Dispensables  \\\n",
       "0           304.0                             304.0             500.0   \n",
       "\n",
       "   end_Bloaters  end_Change Preventers  end_Couplers  \\\n",
       "0         261.0                  261.0         304.0   \n",
       "\n",
       "   end_Object-Orientation Abusers  cluster  \n",
       "0                           693.0        0  "
      ]
     },
     "execution_count": 4,
     "metadata": {},
     "output_type": "execute_result"
    }
   ],
   "source": [
    "df.head(1)"
   ]
  },
  {
   "cell_type": "code",
   "execution_count": 5,
   "metadata": {
    "ExecuteTime": {
     "end_time": "2023-08-28T03:36:09.155589100Z",
     "start_time": "2023-08-28T03:36:09.027321Z"
    },
    "collapsed": false
   },
   "outputs": [],
   "source": [
    "X = df.loc[:, ~df.columns.isin(['begin_sha', 'end_sha', 'begin_time', 'end_time', 'total_time' , 'commits', 'additions' , 'deletions', 'changed_files'])]"
   ]
  },
  {
   "cell_type": "code",
   "execution_count": 6,
   "metadata": {
    "ExecuteTime": {
     "end_time": "2023-08-28T03:36:09.155589100Z",
     "start_time": "2023-08-28T03:36:09.028326400Z"
    },
    "collapsed": false
   },
   "outputs": [
    {
     "data": {
      "text/html": [
       "<div>\n",
       "<style scoped>\n",
       "    .dataframe tbody tr th:only-of-type {\n",
       "        vertical-align: middle;\n",
       "    }\n",
       "\n",
       "    .dataframe tbody tr th {\n",
       "        vertical-align: top;\n",
       "    }\n",
       "\n",
       "    .dataframe thead th {\n",
       "        text-align: right;\n",
       "    }\n",
       "</style>\n",
       "<table border=\"1\" class=\"dataframe\">\n",
       "  <thead>\n",
       "    <tr style=\"text-align: right;\">\n",
       "      <th></th>\n",
       "      <th>begin_Dispensables</th>\n",
       "      <th>begin_Bloaters</th>\n",
       "      <th>begin_Change Preventers</th>\n",
       "      <th>begin_Couplers</th>\n",
       "      <th>begin_Object-Orientation Abusers</th>\n",
       "      <th>end_Dispensables</th>\n",
       "      <th>end_Bloaters</th>\n",
       "      <th>end_Change Preventers</th>\n",
       "      <th>end_Couplers</th>\n",
       "      <th>end_Object-Orientation Abusers</th>\n",
       "      <th>cluster</th>\n",
       "    </tr>\n",
       "  </thead>\n",
       "  <tbody>\n",
       "    <tr>\n",
       "      <th>0</th>\n",
       "      <td>500.0</td>\n",
       "      <td>262.0</td>\n",
       "      <td>262.0</td>\n",
       "      <td>304.0</td>\n",
       "      <td>304.0</td>\n",
       "      <td>500.0</td>\n",
       "      <td>261.0</td>\n",
       "      <td>261.0</td>\n",
       "      <td>304.0</td>\n",
       "      <td>693.0</td>\n",
       "      <td>0</td>\n",
       "    </tr>\n",
       "    <tr>\n",
       "      <th>1</th>\n",
       "      <td>500.0</td>\n",
       "      <td>262.0</td>\n",
       "      <td>262.0</td>\n",
       "      <td>304.0</td>\n",
       "      <td>304.0</td>\n",
       "      <td>501.0</td>\n",
       "      <td>262.0</td>\n",
       "      <td>262.0</td>\n",
       "      <td>304.0</td>\n",
       "      <td>693.0</td>\n",
       "      <td>0</td>\n",
       "    </tr>\n",
       "    <tr>\n",
       "      <th>2</th>\n",
       "      <td>500.0</td>\n",
       "      <td>262.0</td>\n",
       "      <td>262.0</td>\n",
       "      <td>304.0</td>\n",
       "      <td>304.0</td>\n",
       "      <td>499.0</td>\n",
       "      <td>261.0</td>\n",
       "      <td>261.0</td>\n",
       "      <td>304.0</td>\n",
       "      <td>693.0</td>\n",
       "      <td>0</td>\n",
       "    </tr>\n",
       "    <tr>\n",
       "      <th>3</th>\n",
       "      <td>500.0</td>\n",
       "      <td>262.0</td>\n",
       "      <td>262.0</td>\n",
       "      <td>304.0</td>\n",
       "      <td>304.0</td>\n",
       "      <td>500.0</td>\n",
       "      <td>261.0</td>\n",
       "      <td>261.0</td>\n",
       "      <td>304.0</td>\n",
       "      <td>693.0</td>\n",
       "      <td>0</td>\n",
       "    </tr>\n",
       "    <tr>\n",
       "      <th>4</th>\n",
       "      <td>499.0</td>\n",
       "      <td>261.0</td>\n",
       "      <td>261.0</td>\n",
       "      <td>304.0</td>\n",
       "      <td>304.0</td>\n",
       "      <td>500.0</td>\n",
       "      <td>262.0</td>\n",
       "      <td>262.0</td>\n",
       "      <td>304.0</td>\n",
       "      <td>693.0</td>\n",
       "      <td>0</td>\n",
       "    </tr>\n",
       "    <tr>\n",
       "      <th>...</th>\n",
       "      <td>...</td>\n",
       "      <td>...</td>\n",
       "      <td>...</td>\n",
       "      <td>...</td>\n",
       "      <td>...</td>\n",
       "      <td>...</td>\n",
       "      <td>...</td>\n",
       "      <td>...</td>\n",
       "      <td>...</td>\n",
       "      <td>...</td>\n",
       "      <td>...</td>\n",
       "    </tr>\n",
       "    <tr>\n",
       "      <th>1061</th>\n",
       "      <td>16.0</td>\n",
       "      <td>14.0</td>\n",
       "      <td>14.0</td>\n",
       "      <td>7.0</td>\n",
       "      <td>7.0</td>\n",
       "      <td>16.0</td>\n",
       "      <td>15.0</td>\n",
       "      <td>15.0</td>\n",
       "      <td>7.0</td>\n",
       "      <td>102.0</td>\n",
       "      <td>0</td>\n",
       "    </tr>\n",
       "    <tr>\n",
       "      <th>1062</th>\n",
       "      <td>14.0</td>\n",
       "      <td>12.0</td>\n",
       "      <td>12.0</td>\n",
       "      <td>8.0</td>\n",
       "      <td>8.0</td>\n",
       "      <td>16.0</td>\n",
       "      <td>14.0</td>\n",
       "      <td>14.0</td>\n",
       "      <td>7.0</td>\n",
       "      <td>89.0</td>\n",
       "      <td>0</td>\n",
       "    </tr>\n",
       "    <tr>\n",
       "      <th>1063</th>\n",
       "      <td>14.0</td>\n",
       "      <td>12.0</td>\n",
       "      <td>12.0</td>\n",
       "      <td>8.0</td>\n",
       "      <td>8.0</td>\n",
       "      <td>16.0</td>\n",
       "      <td>14.0</td>\n",
       "      <td>14.0</td>\n",
       "      <td>7.0</td>\n",
       "      <td>89.0</td>\n",
       "      <td>0</td>\n",
       "    </tr>\n",
       "    <tr>\n",
       "      <th>1064</th>\n",
       "      <td>2.0</td>\n",
       "      <td>3.0</td>\n",
       "      <td>3.0</td>\n",
       "      <td>3.0</td>\n",
       "      <td>3.0</td>\n",
       "      <td>16.0</td>\n",
       "      <td>14.0</td>\n",
       "      <td>14.0</td>\n",
       "      <td>7.0</td>\n",
       "      <td>89.0</td>\n",
       "      <td>0</td>\n",
       "    </tr>\n",
       "    <tr>\n",
       "      <th>1065</th>\n",
       "      <td>2.0</td>\n",
       "      <td>3.0</td>\n",
       "      <td>3.0</td>\n",
       "      <td>3.0</td>\n",
       "      <td>3.0</td>\n",
       "      <td>14.0</td>\n",
       "      <td>12.0</td>\n",
       "      <td>12.0</td>\n",
       "      <td>8.0</td>\n",
       "      <td>89.0</td>\n",
       "      <td>0</td>\n",
       "    </tr>\n",
       "  </tbody>\n",
       "</table>\n",
       "<p>1066 rows × 11 columns</p>\n",
       "</div>"
      ],
      "text/plain": [
       "      begin_Dispensables  begin_Bloaters  begin_Change Preventers  \\\n",
       "0                  500.0           262.0                    262.0   \n",
       "1                  500.0           262.0                    262.0   \n",
       "2                  500.0           262.0                    262.0   \n",
       "3                  500.0           262.0                    262.0   \n",
       "4                  499.0           261.0                    261.0   \n",
       "...                  ...             ...                      ...   \n",
       "1061                16.0            14.0                     14.0   \n",
       "1062                14.0            12.0                     12.0   \n",
       "1063                14.0            12.0                     12.0   \n",
       "1064                 2.0             3.0                      3.0   \n",
       "1065                 2.0             3.0                      3.0   \n",
       "\n",
       "      begin_Couplers  begin_Object-Orientation Abusers  end_Dispensables  \\\n",
       "0              304.0                             304.0             500.0   \n",
       "1              304.0                             304.0             501.0   \n",
       "2              304.0                             304.0             499.0   \n",
       "3              304.0                             304.0             500.0   \n",
       "4              304.0                             304.0             500.0   \n",
       "...              ...                               ...               ...   \n",
       "1061             7.0                               7.0              16.0   \n",
       "1062             8.0                               8.0              16.0   \n",
       "1063             8.0                               8.0              16.0   \n",
       "1064             3.0                               3.0              16.0   \n",
       "1065             3.0                               3.0              14.0   \n",
       "\n",
       "      end_Bloaters  end_Change Preventers  end_Couplers  \\\n",
       "0            261.0                  261.0         304.0   \n",
       "1            262.0                  262.0         304.0   \n",
       "2            261.0                  261.0         304.0   \n",
       "3            261.0                  261.0         304.0   \n",
       "4            262.0                  262.0         304.0   \n",
       "...            ...                    ...           ...   \n",
       "1061          15.0                   15.0           7.0   \n",
       "1062          14.0                   14.0           7.0   \n",
       "1063          14.0                   14.0           7.0   \n",
       "1064          14.0                   14.0           7.0   \n",
       "1065          12.0                   12.0           8.0   \n",
       "\n",
       "      end_Object-Orientation Abusers  cluster  \n",
       "0                              693.0        0  \n",
       "1                              693.0        0  \n",
       "2                              693.0        0  \n",
       "3                              693.0        0  \n",
       "4                              693.0        0  \n",
       "...                              ...      ...  \n",
       "1061                           102.0        0  \n",
       "1062                            89.0        0  \n",
       "1063                            89.0        0  \n",
       "1064                            89.0        0  \n",
       "1065                            89.0        0  \n",
       "\n",
       "[1066 rows x 11 columns]"
      ]
     },
     "execution_count": 6,
     "metadata": {},
     "output_type": "execute_result"
    }
   ],
   "source": [
    "X"
   ]
  },
  {
   "cell_type": "markdown",
   "metadata": {
    "collapsed": false
   },
   "source": []
  },
  {
   "cell_type": "code",
   "execution_count": 7,
   "metadata": {
    "ExecuteTime": {
     "end_time": "2023-08-28T03:36:09.155589100Z",
     "start_time": "2023-08-28T03:36:09.028326400Z"
    },
    "collapsed": false
   },
   "outputs": [],
   "source": [
    "scaler = preprocessing.MinMaxScaler()\n",
    "df_scaler = scaler.fit_transform(X)\n",
    "df_scaler_col = pd.DataFrame(df_scaler)\n",
    "df_scaler = df_scaler.T"
   ]
  },
  {
   "cell_type": "code",
   "execution_count": 8,
   "metadata": {
    "ExecuteTime": {
     "end_time": "2023-08-28T03:36:09.155589100Z",
     "start_time": "2023-08-28T03:36:09.028326400Z"
    },
    "collapsed": false
   },
   "outputs": [],
   "source": [
    "#Silhouette analysis\n",
    "from sklearn.cluster import KMeans\n",
    "from sklearn.metrics import silhouette_score"
   ]
  },
  {
   "cell_type": "code",
   "execution_count": 9,
   "metadata": {
    "ExecuteTime": {
     "end_time": "2023-08-28T03:36:58.133013800Z",
     "start_time": "2023-08-28T03:36:09.028326400Z"
    },
    "collapsed": false
   },
   "outputs": [
    {
     "name": "stderr",
     "output_type": "stream",
     "text": [
      "c:\\Users\\patcharaprapa_k\\AppData\\Local\\anaconda3\\lib\\site-packages\\sklearn\\cluster\\_kmeans.py:870: FutureWarning: The default value of `n_init` will change from 10 to 'auto' in 1.4. Set the value of `n_init` explicitly to suppress the warning\n",
      "  warnings.warn(\n",
      "c:\\Users\\patcharaprapa_k\\AppData\\Local\\anaconda3\\lib\\site-packages\\sklearn\\cluster\\_kmeans.py:1382: UserWarning: KMeans is known to have a memory leak on Windows with MKL, when there are less chunks than available threads. You can avoid it by setting the environment variable OMP_NUM_THREADS=1.\n",
      "  warnings.warn(\n",
      "c:\\Users\\patcharaprapa_k\\AppData\\Local\\anaconda3\\lib\\site-packages\\sklearn\\cluster\\_kmeans.py:870: FutureWarning: The default value of `n_init` will change from 10 to 'auto' in 1.4. Set the value of `n_init` explicitly to suppress the warning\n",
      "  warnings.warn(\n",
      "c:\\Users\\patcharaprapa_k\\AppData\\Local\\anaconda3\\lib\\site-packages\\sklearn\\cluster\\_kmeans.py:1382: UserWarning: KMeans is known to have a memory leak on Windows with MKL, when there are less chunks than available threads. You can avoid it by setting the environment variable OMP_NUM_THREADS=1.\n",
      "  warnings.warn(\n",
      "c:\\Users\\patcharaprapa_k\\AppData\\Local\\anaconda3\\lib\\site-packages\\sklearn\\cluster\\_kmeans.py:870: FutureWarning: The default value of `n_init` will change from 10 to 'auto' in 1.4. Set the value of `n_init` explicitly to suppress the warning\n",
      "  warnings.warn(\n",
      "c:\\Users\\patcharaprapa_k\\AppData\\Local\\anaconda3\\lib\\site-packages\\sklearn\\cluster\\_kmeans.py:1382: UserWarning: KMeans is known to have a memory leak on Windows with MKL, when there are less chunks than available threads. You can avoid it by setting the environment variable OMP_NUM_THREADS=1.\n",
      "  warnings.warn(\n",
      "c:\\Users\\patcharaprapa_k\\AppData\\Local\\anaconda3\\lib\\site-packages\\sklearn\\cluster\\_kmeans.py:870: FutureWarning: The default value of `n_init` will change from 10 to 'auto' in 1.4. Set the value of `n_init` explicitly to suppress the warning\n",
      "  warnings.warn(\n",
      "c:\\Users\\patcharaprapa_k\\AppData\\Local\\anaconda3\\lib\\site-packages\\sklearn\\cluster\\_kmeans.py:1382: UserWarning: KMeans is known to have a memory leak on Windows with MKL, when there are less chunks than available threads. You can avoid it by setting the environment variable OMP_NUM_THREADS=1.\n",
      "  warnings.warn(\n",
      "c:\\Users\\patcharaprapa_k\\AppData\\Local\\anaconda3\\lib\\site-packages\\sklearn\\cluster\\_kmeans.py:870: FutureWarning: The default value of `n_init` will change from 10 to 'auto' in 1.4. Set the value of `n_init` explicitly to suppress the warning\n",
      "  warnings.warn(\n",
      "c:\\Users\\patcharaprapa_k\\AppData\\Local\\anaconda3\\lib\\site-packages\\sklearn\\cluster\\_kmeans.py:1382: UserWarning: KMeans is known to have a memory leak on Windows with MKL, when there are less chunks than available threads. You can avoid it by setting the environment variable OMP_NUM_THREADS=1.\n",
      "  warnings.warn(\n",
      "c:\\Users\\patcharaprapa_k\\AppData\\Local\\anaconda3\\lib\\site-packages\\sklearn\\cluster\\_kmeans.py:870: FutureWarning: The default value of `n_init` will change from 10 to 'auto' in 1.4. Set the value of `n_init` explicitly to suppress the warning\n",
      "  warnings.warn(\n",
      "c:\\Users\\patcharaprapa_k\\AppData\\Local\\anaconda3\\lib\\site-packages\\sklearn\\cluster\\_kmeans.py:1382: UserWarning: KMeans is known to have a memory leak on Windows with MKL, when there are less chunks than available threads. You can avoid it by setting the environment variable OMP_NUM_THREADS=1.\n",
      "  warnings.warn(\n",
      "c:\\Users\\patcharaprapa_k\\AppData\\Local\\anaconda3\\lib\\site-packages\\sklearn\\cluster\\_kmeans.py:870: FutureWarning: The default value of `n_init` will change from 10 to 'auto' in 1.4. Set the value of `n_init` explicitly to suppress the warning\n",
      "  warnings.warn(\n",
      "c:\\Users\\patcharaprapa_k\\AppData\\Local\\anaconda3\\lib\\site-packages\\sklearn\\cluster\\_kmeans.py:1382: UserWarning: KMeans is known to have a memory leak on Windows with MKL, when there are less chunks than available threads. You can avoid it by setting the environment variable OMP_NUM_THREADS=1.\n",
      "  warnings.warn(\n",
      "c:\\Users\\patcharaprapa_k\\AppData\\Local\\anaconda3\\lib\\site-packages\\sklearn\\cluster\\_kmeans.py:870: FutureWarning: The default value of `n_init` will change from 10 to 'auto' in 1.4. Set the value of `n_init` explicitly to suppress the warning\n",
      "  warnings.warn(\n",
      "c:\\Users\\patcharaprapa_k\\AppData\\Local\\anaconda3\\lib\\site-packages\\sklearn\\cluster\\_kmeans.py:1382: UserWarning: KMeans is known to have a memory leak on Windows with MKL, when there are less chunks than available threads. You can avoid it by setting the environment variable OMP_NUM_THREADS=1.\n",
      "  warnings.warn(\n",
      "C:\\Users\\patcharaprapa_k\\AppData\\Local\\Temp\\ipykernel_15808\\1243137686.py:5: ConvergenceWarning: Number of distinct clusters (8) found smaller than n_clusters (9). Possibly due to duplicate points in X.\n",
      "  km.fit(df_scaler)\n",
      "c:\\Users\\patcharaprapa_k\\AppData\\Local\\anaconda3\\lib\\site-packages\\sklearn\\cluster\\_kmeans.py:870: FutureWarning: The default value of `n_init` will change from 10 to 'auto' in 1.4. Set the value of `n_init` explicitly to suppress the warning\n",
      "  warnings.warn(\n",
      "c:\\Users\\patcharaprapa_k\\AppData\\Local\\anaconda3\\lib\\site-packages\\sklearn\\cluster\\_kmeans.py:1382: UserWarning: KMeans is known to have a memory leak on Windows with MKL, when there are less chunks than available threads. You can avoid it by setting the environment variable OMP_NUM_THREADS=1.\n",
      "  warnings.warn(\n",
      "C:\\Users\\patcharaprapa_k\\AppData\\Local\\Temp\\ipykernel_15808\\1243137686.py:5: ConvergenceWarning: Number of distinct clusters (8) found smaller than n_clusters (10). Possibly due to duplicate points in X.\n",
      "  km.fit(df_scaler)\n"
     ]
    }
   ],
   "source": [
    "number_of_cluster = []\n",
    "\n",
    "for i in range(2, len(df_scaler)):\n",
    "    km = KMeans(n_clusters = i)\n",
    "    km.fit(df_scaler)\n",
    "    sil_avg = silhouette_score(df_scaler, km.labels_).round(4)\n",
    "    number_of_cluster.append([sil_avg , i])\n"
   ]
  },
  {
   "cell_type": "code",
   "execution_count": 10,
   "metadata": {
    "ExecuteTime": {
     "end_time": "2023-08-28T03:36:58.134004300Z",
     "start_time": "2023-08-28T03:36:58.036296100Z"
    },
    "collapsed": false
   },
   "outputs": [
    {
     "name": "stdout",
     "output_type": "stream",
     "text": [
      "Optimum number of cluster: 2\n"
     ]
    }
   ],
   "source": [
    "print(f'Optimum number of cluster: {max(number_of_cluster)[1]}')"
   ]
  },
  {
   "cell_type": "code",
   "execution_count": 11,
   "metadata": {
    "ExecuteTime": {
     "end_time": "2023-08-28T03:36:58.134004300Z",
     "start_time": "2023-08-28T03:36:58.036296100Z"
    },
    "collapsed": false
   },
   "outputs": [],
   "source": [
    "number_of_cluster.sort()"
   ]
  },
  {
   "cell_type": "code",
   "execution_count": 12,
   "metadata": {
    "ExecuteTime": {
     "end_time": "2023-08-28T03:36:58.134613200Z",
     "start_time": "2023-08-28T03:36:58.036296100Z"
    },
    "collapsed": false
   },
   "outputs": [],
   "source": [
    "number_of_cluster = number_of_cluster[::-1]"
   ]
  },
  {
   "cell_type": "code",
   "execution_count": 41,
   "metadata": {},
   "outputs": [
    {
     "data": {
      "text/plain": [
       "[[0.7889, 2],\n",
       " [0.6096, 7],\n",
       " [0.5873, 6],\n",
       " [0.5455, 10],\n",
       " [0.5455, 9],\n",
       " [0.5455, 8],\n",
       " [0.4217, 5],\n",
       " [0.3872, 4],\n",
       " [0.3836, 3]]"
      ]
     },
     "execution_count": 41,
     "metadata": {},
     "output_type": "execute_result"
    }
   ],
   "source": [
    "number_of_cluster"
   ]
  },
  {
   "cell_type": "code",
   "execution_count": 13,
   "metadata": {
    "ExecuteTime": {
     "end_time": "2023-08-28T03:36:58.134613200Z",
     "start_time": "2023-08-28T03:36:58.036296100Z"
    },
    "collapsed": false
   },
   "outputs": [
    {
     "data": {
      "text/plain": [
       "[[0.7889, 2], [0.6096, 7], [0.5873, 6], [0.5455, 10], [0.5455, 9]]"
      ]
     },
     "execution_count": 13,
     "metadata": {},
     "output_type": "execute_result"
    }
   ],
   "source": [
    "number_of_cluster[:5]"
   ]
  },
  {
   "cell_type": "code",
   "execution_count": 14,
   "metadata": {
    "ExecuteTime": {
     "end_time": "2023-08-28T03:36:58.135116800Z",
     "start_time": "2023-08-28T03:36:58.036296100Z"
    },
    "collapsed": false
   },
   "outputs": [
    {
     "data": {
      "text/plain": [
       "(1066, 20)"
      ]
     },
     "execution_count": 14,
     "metadata": {},
     "output_type": "execute_result"
    }
   ],
   "source": [
    "df.shape"
   ]
  },
  {
   "cell_type": "markdown",
   "metadata": {
    "collapsed": false
   },
   "source": []
  },
  {
   "cell_type": "code",
   "execution_count": 15,
   "metadata": {
    "ExecuteTime": {
     "end_time": "2023-08-28T03:36:58.135116800Z",
     "start_time": "2023-08-28T03:36:58.036296100Z"
    }
   },
   "outputs": [],
   "source": [
    "# Perform KMeans clustering\n",
    "num_clusters = max(number_of_cluster)[1]\n",
    "kmeans = KMeans(n_clusters=num_clusters)"
   ]
  },
  {
   "cell_type": "code",
   "execution_count": 40,
   "metadata": {},
   "outputs": [
    {
     "data": {
      "text/html": [
       "<style>#sk-container-id-1 {color: black;background-color: white;}#sk-container-id-1 pre{padding: 0;}#sk-container-id-1 div.sk-toggleable {background-color: white;}#sk-container-id-1 label.sk-toggleable__label {cursor: pointer;display: block;width: 100%;margin-bottom: 0;padding: 0.3em;box-sizing: border-box;text-align: center;}#sk-container-id-1 label.sk-toggleable__label-arrow:before {content: \"▸\";float: left;margin-right: 0.25em;color: #696969;}#sk-container-id-1 label.sk-toggleable__label-arrow:hover:before {color: black;}#sk-container-id-1 div.sk-estimator:hover label.sk-toggleable__label-arrow:before {color: black;}#sk-container-id-1 div.sk-toggleable__content {max-height: 0;max-width: 0;overflow: hidden;text-align: left;background-color: #f0f8ff;}#sk-container-id-1 div.sk-toggleable__content pre {margin: 0.2em;color: black;border-radius: 0.25em;background-color: #f0f8ff;}#sk-container-id-1 input.sk-toggleable__control:checked~div.sk-toggleable__content {max-height: 200px;max-width: 100%;overflow: auto;}#sk-container-id-1 input.sk-toggleable__control:checked~label.sk-toggleable__label-arrow:before {content: \"▾\";}#sk-container-id-1 div.sk-estimator input.sk-toggleable__control:checked~label.sk-toggleable__label {background-color: #d4ebff;}#sk-container-id-1 div.sk-label input.sk-toggleable__control:checked~label.sk-toggleable__label {background-color: #d4ebff;}#sk-container-id-1 input.sk-hidden--visually {border: 0;clip: rect(1px 1px 1px 1px);clip: rect(1px, 1px, 1px, 1px);height: 1px;margin: -1px;overflow: hidden;padding: 0;position: absolute;width: 1px;}#sk-container-id-1 div.sk-estimator {font-family: monospace;background-color: #f0f8ff;border: 1px dotted black;border-radius: 0.25em;box-sizing: border-box;margin-bottom: 0.5em;}#sk-container-id-1 div.sk-estimator:hover {background-color: #d4ebff;}#sk-container-id-1 div.sk-parallel-item::after {content: \"\";width: 100%;border-bottom: 1px solid gray;flex-grow: 1;}#sk-container-id-1 div.sk-label:hover label.sk-toggleable__label {background-color: #d4ebff;}#sk-container-id-1 div.sk-serial::before {content: \"\";position: absolute;border-left: 1px solid gray;box-sizing: border-box;top: 0;bottom: 0;left: 50%;z-index: 0;}#sk-container-id-1 div.sk-serial {display: flex;flex-direction: column;align-items: center;background-color: white;padding-right: 0.2em;padding-left: 0.2em;position: relative;}#sk-container-id-1 div.sk-item {position: relative;z-index: 1;}#sk-container-id-1 div.sk-parallel {display: flex;align-items: stretch;justify-content: center;background-color: white;position: relative;}#sk-container-id-1 div.sk-item::before, #sk-container-id-1 div.sk-parallel-item::before {content: \"\";position: absolute;border-left: 1px solid gray;box-sizing: border-box;top: 0;bottom: 0;left: 50%;z-index: -1;}#sk-container-id-1 div.sk-parallel-item {display: flex;flex-direction: column;z-index: 1;position: relative;background-color: white;}#sk-container-id-1 div.sk-parallel-item:first-child::after {align-self: flex-end;width: 50%;}#sk-container-id-1 div.sk-parallel-item:last-child::after {align-self: flex-start;width: 50%;}#sk-container-id-1 div.sk-parallel-item:only-child::after {width: 0;}#sk-container-id-1 div.sk-dashed-wrapped {border: 1px dashed gray;margin: 0 0.4em 0.5em 0.4em;box-sizing: border-box;padding-bottom: 0.4em;background-color: white;}#sk-container-id-1 div.sk-label label {font-family: monospace;font-weight: bold;display: inline-block;line-height: 1.2em;}#sk-container-id-1 div.sk-label-container {text-align: center;}#sk-container-id-1 div.sk-container {/* jupyter's `normalize.less` sets `[hidden] { display: none; }` but bootstrap.min.css set `[hidden] { display: none !important; }` so we also need the `!important` here to be able to override the default hidden behavior on the sphinx rendered scikit-learn.org. See: https://github.com/scikit-learn/scikit-learn/issues/21755 */display: inline-block !important;position: relative;}#sk-container-id-1 div.sk-text-repr-fallback {display: none;}</style><div id=\"sk-container-id-1\" class=\"sk-top-container\"><div class=\"sk-text-repr-fallback\"><pre>KMeans(n_clusters=2)</pre><b>In a Jupyter environment, please rerun this cell to show the HTML representation or trust the notebook. <br />On GitHub, the HTML representation is unable to render, please try loading this page with nbviewer.org.</b></div><div class=\"sk-container\" hidden><div class=\"sk-item\"><div class=\"sk-estimator sk-toggleable\"><input class=\"sk-toggleable__control sk-hidden--visually\" id=\"sk-estimator-id-1\" type=\"checkbox\" checked><label for=\"sk-estimator-id-1\" class=\"sk-toggleable__label sk-toggleable__label-arrow\">KMeans</label><div class=\"sk-toggleable__content\"><pre>KMeans(n_clusters=2)</pre></div></div></div></div></div>"
      ],
      "text/plain": [
       "KMeans(n_clusters=2)"
      ]
     },
     "execution_count": 40,
     "metadata": {},
     "output_type": "execute_result"
    }
   ],
   "source": [
    "kmeans"
   ]
  },
  {
   "cell_type": "code",
   "execution_count": 16,
   "metadata": {
    "ExecuteTime": {
     "end_time": "2023-08-28T03:36:58.135665Z",
     "start_time": "2023-08-28T03:36:58.036296100Z"
    }
   },
   "outputs": [
    {
     "name": "stderr",
     "output_type": "stream",
     "text": [
      "c:\\Users\\patcharaprapa_k\\AppData\\Local\\anaconda3\\lib\\site-packages\\sklearn\\cluster\\_kmeans.py:870: FutureWarning: The default value of `n_init` will change from 10 to 'auto' in 1.4. Set the value of `n_init` explicitly to suppress the warning\n",
      "  warnings.warn(\n",
      "c:\\Users\\patcharaprapa_k\\AppData\\Local\\anaconda3\\lib\\site-packages\\sklearn\\cluster\\_kmeans.py:1382: UserWarning: KMeans is known to have a memory leak on Windows with MKL, when there are less chunks than available threads. You can avoid it by setting the environment variable OMP_NUM_THREADS=5.\n",
      "  warnings.warn(\n"
     ]
    }
   ],
   "source": [
    "cluster_labels = kmeans.fit_predict(X)"
   ]
  },
  {
   "cell_type": "code",
   "execution_count": 17,
   "metadata": {
    "ExecuteTime": {
     "end_time": "2023-08-28T03:36:58.135731Z",
     "start_time": "2023-08-28T03:36:58.036296100Z"
    }
   },
   "outputs": [],
   "source": [
    "df['cluster'] = cluster_labels"
   ]
  },
  {
   "cell_type": "code",
   "execution_count": 18,
   "metadata": {
    "ExecuteTime": {
     "end_time": "2023-08-28T03:36:58.135731Z",
     "start_time": "2023-08-28T03:36:58.036296100Z"
    }
   },
   "outputs": [
    {
     "data": {
      "text/plain": [
       "(1066, 20)"
      ]
     },
     "execution_count": 18,
     "metadata": {},
     "output_type": "execute_result"
    }
   ],
   "source": [
    "df.shape"
   ]
  },
  {
   "cell_type": "code",
   "execution_count": 19,
   "metadata": {
    "ExecuteTime": {
     "end_time": "2023-08-28T03:36:58.136365900Z",
     "start_time": "2023-08-28T03:36:58.036296100Z"
    },
    "collapsed": false
   },
   "outputs": [
    {
     "data": {
      "text/plain": [
       "'0 days 00:00:05'"
      ]
     },
     "execution_count": 19,
     "metadata": {},
     "output_type": "execute_result"
    }
   ],
   "source": [
    "df['total_time'].min()"
   ]
  },
  {
   "cell_type": "code",
   "execution_count": 20,
   "metadata": {
    "ExecuteTime": {
     "end_time": "2023-08-28T03:36:58.136648300Z",
     "start_time": "2023-08-28T03:36:58.036296100Z"
    },
    "collapsed": false
   },
   "outputs": [
    {
     "data": {
      "text/plain": [
       "'9 days 22:50:15'"
      ]
     },
     "execution_count": 20,
     "metadata": {},
     "output_type": "execute_result"
    }
   ],
   "source": [
    "df['total_time'].max()"
   ]
  },
  {
   "cell_type": "code",
   "execution_count": 21,
   "metadata": {
    "ExecuteTime": {
     "end_time": "2023-08-28T03:36:58.136719400Z",
     "start_time": "2023-08-28T03:36:58.036296100Z"
    },
    "collapsed": false
   },
   "outputs": [
    {
     "name": "stdout",
     "output_type": "stream",
     "text": [
      "0 days 00:00:05\n",
      "9 days 22:50:15\n"
     ]
    },
    {
     "data": {
      "text/plain": [
       "(493, 20)"
      ]
     },
     "execution_count": 21,
     "metadata": {},
     "output_type": "execute_result"
    }
   ],
   "source": [
    "cluster_0 = df[df['cluster'] == 0]\n",
    "print(cluster_0['total_time'].min())\n",
    "print(cluster_0['total_time'].max())\n",
    "cluster_0.shape"
   ]
  },
  {
   "cell_type": "code",
   "execution_count": 22,
   "metadata": {
    "ExecuteTime": {
     "end_time": "2023-08-28T03:36:58.143668600Z",
     "start_time": "2023-08-28T03:36:58.036296100Z"
    },
    "collapsed": false
   },
   "outputs": [
    {
     "name": "stdout",
     "output_type": "stream",
     "text": [
      "0 days 00:00:06\n",
      "9 days 12:50:49\n"
     ]
    },
    {
     "data": {
      "text/plain": [
       "(573, 20)"
      ]
     },
     "execution_count": 22,
     "metadata": {},
     "output_type": "execute_result"
    }
   ],
   "source": [
    "cluster_1 = df[df['cluster'] == 1]\n",
    "print(cluster_1['total_time'].min())\n",
    "print(cluster_1['total_time'].max())\n",
    "cluster_1.shape"
   ]
  },
  {
   "cell_type": "code",
   "execution_count": 23,
   "metadata": {
    "ExecuteTime": {
     "end_time": "2023-08-28T03:36:58.143668600Z",
     "start_time": "2023-08-28T03:36:58.036296100Z"
    },
    "collapsed": false
   },
   "outputs": [],
   "source": [
    "# data_cluster = cluster_0.loc[:, ~cluster_0.columns.isin(['begin_sha', 'end_sha', 'begin_time', 'end_time', 'total_time'])]"
   ]
  },
  {
   "cell_type": "code",
   "execution_count": 24,
   "metadata": {
    "ExecuteTime": {
     "end_time": "2023-08-28T03:36:58.144219400Z",
     "start_time": "2023-08-28T03:36:58.036296100Z"
    },
    "collapsed": false
   },
   "outputs": [],
   "source": [
    "# scaler_cluster = preprocessing.MinMaxScaler()\n",
    "# df_scaler_cluster = scaler.fit_transform(data_cluster)\n",
    "# df_scaler_col_cluster = pd.DataFrame(df_scaler_cluster)\n",
    "# df_scaler_cluster = df_scaler_cluster.T"
   ]
  },
  {
   "cell_type": "code",
   "execution_count": 25,
   "metadata": {
    "ExecuteTime": {
     "end_time": "2023-08-28T03:36:58.144219400Z",
     "start_time": "2023-08-28T03:36:58.036296100Z"
    },
    "collapsed": false
   },
   "outputs": [],
   "source": [
    "# df_scaler_cluster"
   ]
  },
  {
   "cell_type": "code",
   "execution_count": 26,
   "metadata": {
    "ExecuteTime": {
     "end_time": "2023-08-28T03:36:58.144219400Z",
     "start_time": "2023-08-28T03:36:58.046357700Z"
    },
    "collapsed": false
   },
   "outputs": [],
   "source": [
    "# cluster = []\n",
    "#\n",
    "# for i in range(2, len(df_scaler_cluster)):\n",
    "#     km = KMeans(n_clusters = i)\n",
    "#     km.fit(df_scaler_cluster)\n",
    "#     sil_avg = silhouette_score(df_scaler_cluster, km.labels_).round(4)\n",
    "#     cluster.append([sil_avg , i])"
   ]
  },
  {
   "cell_type": "code",
   "execution_count": 27,
   "metadata": {
    "ExecuteTime": {
     "end_time": "2023-08-28T03:36:58.144219400Z",
     "start_time": "2023-08-28T03:36:58.046357700Z"
    },
    "collapsed": false
   },
   "outputs": [],
   "source": [
    "# print(f'Optimum number of cluster: {max(cluster)[1]}')"
   ]
  },
  {
   "cell_type": "code",
   "execution_count": 28,
   "metadata": {
    "ExecuteTime": {
     "end_time": "2023-08-28T03:36:58.144769100Z",
     "start_time": "2023-08-28T03:36:58.046357700Z"
    },
    "collapsed": false
   },
   "outputs": [],
   "source": [
    "# Perform KMeans clustering\n",
    "# num_clusters = max(cluster)[1]\n",
    "# kmeans = KMeans(n_clusters=num_clusters)\n",
    "# cluster_labels_2 = kmeans.fit_predict(data_cluster)"
   ]
  },
  {
   "cell_type": "code",
   "execution_count": 29,
   "metadata": {
    "ExecuteTime": {
     "end_time": "2023-08-28T03:36:58.144769100Z",
     "start_time": "2023-08-28T03:36:58.046357700Z"
    },
    "collapsed": false
   },
   "outputs": [],
   "source": [
    "# cluster_0['cluster2'] = cluster_labels_2"
   ]
  },
  {
   "cell_type": "code",
   "execution_count": 30,
   "metadata": {
    "ExecuteTime": {
     "end_time": "2023-08-28T03:36:58.144769100Z",
     "start_time": "2023-08-28T03:36:58.046357700Z"
    },
    "collapsed": false
   },
   "outputs": [],
   "source": [
    "# cluster_0_1 = cluster_0[cluster_0['cluster2'] == 1]\n",
    "# print(cluster_0['total_time'].min())\n",
    "# print(cluster_0['total_time'].max())\n",
    "# cluster_0_1.shape"
   ]
  },
  {
   "cell_type": "markdown",
   "metadata": {
    "collapsed": false
   },
   "source": []
  },
  {
   "cell_type": "code",
   "execution_count": 31,
   "metadata": {
    "ExecuteTime": {
     "end_time": "2023-08-28T03:36:58.144769100Z",
     "start_time": "2023-08-28T03:36:58.046357700Z"
    },
    "collapsed": false
   },
   "outputs": [],
   "source": [
    "def remove_outliers_madn(data, threshold=2.24):\n",
    "    median = np.median(data)\n",
    "    mad = np.median(np.abs(data - median))\n",
    "\n",
    "    # Calculate modified Z-score for each data point\n",
    "    modified_z_scores = 0.6745 * (data - median) / mad\n",
    "\n",
    "    # Identify and remove outliers based on the threshold\n",
    "    filtered_data = data[abs(modified_z_scores) < threshold]\n",
    "\n",
    "    return filtered_data"
   ]
  },
  {
   "cell_type": "code",
   "execution_count": 32,
   "metadata": {
    "ExecuteTime": {
     "end_time": "2023-08-28T03:36:58.145317800Z",
     "start_time": "2023-08-28T03:36:58.046357700Z"
    },
    "collapsed": false
   },
   "outputs": [
    {
     "name": "stdout",
     "output_type": "stream",
     "text": [
      "Original data: [[0.99203187 0.99203187 0.99203187 ... 0.02390438 0.         0.        ]\n",
      " [0.91843972 0.91843972 0.91843972 ... 0.03191489 0.         0.        ]\n",
      " [0.91843972 0.91843972 0.91843972 ... 0.03191489 0.         0.        ]\n",
      " ...\n",
      " [0.99       0.99       0.99       ... 0.         0.         0.00333333]\n",
      " [0.99520767 0.99520767 0.99520767 ... 0.03035144 0.03035144 0.03035144]\n",
      " [0.         0.         0.         ... 0.         0.         0.        ]]\n",
      "Filtered data: [0.99203187 0.99203187 0.99203187 ... 0.         0.         0.        ]\n"
     ]
    }
   ],
   "source": [
    "# Example usage\n",
    "filtered_data = remove_outliers_madn(df_scaler, threshold=2.24)\n",
    "print(\"Original data:\", df_scaler)\n",
    "print(\"Filtered data:\", filtered_data)"
   ]
  },
  {
   "cell_type": "code",
   "execution_count": 33,
   "metadata": {
    "ExecuteTime": {
     "end_time": "2023-08-28T03:36:59.560938Z",
     "start_time": "2023-08-28T03:36:58.046357700Z"
    },
    "collapsed": false
   },
   "outputs": [
    {
     "name": "stderr",
     "output_type": "stream",
     "text": [
      "c:\\Users\\patcharaprapa_k\\AppData\\Local\\anaconda3\\lib\\site-packages\\sklearn\\cluster\\_kmeans.py:870: FutureWarning: The default value of `n_init` will change from 10 to 'auto' in 1.4. Set the value of `n_init` explicitly to suppress the warning\n",
      "  warnings.warn(\n"
     ]
    },
    {
     "data": {
      "image/png": "[encoded data removed]",
      "text/plain": [
       "<Figure size 640x480 with 1 Axes>"
      ]
     },
     "metadata": {},
     "output_type": "display_data"
    }
   ],
   "source": [
    "# Reshape the data to a 2D array if needed\n",
    "cleaned_data = filtered_data.reshape(-1, 1)\n",
    "\n",
    "# Specify the number of clusters you want to find\n",
    "n_clusters = 2\n",
    "\n",
    "# Initialize and fit K-Means model\n",
    "kmeans = KMeans(n_clusters=n_clusters)\n",
    "kmeans.fit(cleaned_data)\n",
    "\n",
    "# Get cluster assignments and cluster centers\n",
    "labels = kmeans.labels_\n",
    "cluster_centers = kmeans.cluster_centers_\n",
    "\n",
    "# Plot the clusters\n",
    "plt.scatter(cleaned_data, np.zeros_like(cleaned_data), c=labels, cmap='rainbow')\n",
    "plt.scatter(cluster_centers, np.zeros_like(cluster_centers), marker='X', color='black', s=100)\n",
    "plt.title('K-Means Clustering on Cleaned Data')\n",
    "plt.xlabel('Feature')\n",
    "plt.ylabel('Cluster')\n",
    "plt.show()"
   ]
  },
  {
   "cell_type": "markdown",
   "metadata": {
    "collapsed": false
   },
   "source": []
  },
  {
   "cell_type": "code",
   "execution_count": 34,
   "metadata": {
    "ExecuteTime": {
     "end_time": "2023-08-28T03:36:59.561937Z",
     "start_time": "2023-08-28T03:36:59.557936100Z"
    },
    "collapsed": false
   },
   "outputs": [],
   "source": [
    "time_score = df['total_time']\n",
    "time_score = pd.DataFrame(time_score)"
   ]
  },
  {
   "cell_type": "code",
   "execution_count": 35,
   "metadata": {
    "ExecuteTime": {
     "end_time": "2023-08-28T03:36:59.562938100Z",
     "start_time": "2023-08-28T03:36:59.558937300Z"
    },
    "collapsed": false
   },
   "outputs": [
    {
     "data": {
      "text/html": [
       "<div>\n",
       "<style scoped>\n",
       "    .dataframe tbody tr th:only-of-type {\n",
       "        vertical-align: middle;\n",
       "    }\n",
       "\n",
       "    .dataframe tbody tr th {\n",
       "        vertical-align: top;\n",
       "    }\n",
       "\n",
       "    .dataframe thead th {\n",
       "        text-align: right;\n",
       "    }\n",
       "</style>\n",
       "<table border=\"1\" class=\"dataframe\">\n",
       "  <thead>\n",
       "    <tr style=\"text-align: right;\">\n",
       "      <th></th>\n",
       "      <th>total_time</th>\n",
       "    </tr>\n",
       "  </thead>\n",
       "  <tbody>\n",
       "    <tr>\n",
       "      <th>0</th>\n",
       "      <td>3 days 01:27:48</td>\n",
       "    </tr>\n",
       "    <tr>\n",
       "      <th>1</th>\n",
       "      <td>3 days 04:15:10</td>\n",
       "    </tr>\n",
       "    <tr>\n",
       "      <th>2</th>\n",
       "      <td>0 days 05:24:03</td>\n",
       "    </tr>\n",
       "    <tr>\n",
       "      <th>3</th>\n",
       "      <td>4 days 00:22:26</td>\n",
       "    </tr>\n",
       "    <tr>\n",
       "      <th>4</th>\n",
       "      <td>12 days 00:39:27</td>\n",
       "    </tr>\n",
       "    <tr>\n",
       "      <th>...</th>\n",
       "      <td>...</td>\n",
       "    </tr>\n",
       "    <tr>\n",
       "      <th>1061</th>\n",
       "      <td>0 days 00:43:10</td>\n",
       "    </tr>\n",
       "    <tr>\n",
       "      <th>1062</th>\n",
       "      <td>0 days 19:01:39</td>\n",
       "    </tr>\n",
       "    <tr>\n",
       "      <th>1063</th>\n",
       "      <td>0 days 00:16:22</td>\n",
       "    </tr>\n",
       "    <tr>\n",
       "      <th>1064</th>\n",
       "      <td>0 days 00:33:35</td>\n",
       "    </tr>\n",
       "    <tr>\n",
       "      <th>1065</th>\n",
       "      <td>0 days 00:09:14</td>\n",
       "    </tr>\n",
       "  </tbody>\n",
       "</table>\n",
       "<p>1066 rows × 1 columns</p>\n",
       "</div>"
      ],
      "text/plain": [
       "            total_time\n",
       "0      3 days 01:27:48\n",
       "1      3 days 04:15:10\n",
       "2      0 days 05:24:03\n",
       "3      4 days 00:22:26\n",
       "4     12 days 00:39:27\n",
       "...                ...\n",
       "1061   0 days 00:43:10\n",
       "1062   0 days 19:01:39\n",
       "1063   0 days 00:16:22\n",
       "1064   0 days 00:33:35\n",
       "1065   0 days 00:09:14\n",
       "\n",
       "[1066 rows x 1 columns]"
      ]
     },
     "execution_count": 35,
     "metadata": {},
     "output_type": "execute_result"
    }
   ],
   "source": [
    "time_score"
   ]
  },
  {
   "cell_type": "code",
   "execution_count": 36,
   "metadata": {
    "ExecuteTime": {
     "end_time": "2023-08-28T03:36:59.562938100Z",
     "start_time": "2023-08-28T03:36:59.558937300Z"
    },
    "collapsed": false
   },
   "outputs": [
    {
     "data": {
      "text/html": [
       "<div>\n",
       "<style scoped>\n",
       "    .dataframe tbody tr th:only-of-type {\n",
       "        vertical-align: middle;\n",
       "    }\n",
       "\n",
       "    .dataframe tbody tr th {\n",
       "        vertical-align: top;\n",
       "    }\n",
       "\n",
       "    .dataframe thead th {\n",
       "        text-align: right;\n",
       "    }\n",
       "</style>\n",
       "<table border=\"1\" class=\"dataframe\">\n",
       "  <thead>\n",
       "    <tr style=\"text-align: right;\">\n",
       "      <th></th>\n",
       "      <th>begin_sha</th>\n",
       "      <th>end_sha</th>\n",
       "      <th>commits</th>\n",
       "      <th>additions</th>\n",
       "      <th>deletions</th>\n",
       "      <th>changed_files</th>\n",
       "      <th>total_time</th>\n",
       "      <th>begin_time</th>\n",
       "      <th>end_time</th>\n",
       "      <th>begin_Dispensables</th>\n",
       "      <th>begin_Bloaters</th>\n",
       "      <th>begin_Change Preventers</th>\n",
       "      <th>begin_Couplers</th>\n",
       "      <th>begin_Object-Orientation Abusers</th>\n",
       "      <th>end_Dispensables</th>\n",
       "      <th>end_Bloaters</th>\n",
       "      <th>end_Change Preventers</th>\n",
       "      <th>end_Couplers</th>\n",
       "      <th>end_Object-Orientation Abusers</th>\n",
       "      <th>cluster</th>\n",
       "    </tr>\n",
       "  </thead>\n",
       "  <tbody>\n",
       "    <tr>\n",
       "      <th>0</th>\n",
       "      <td>84be0f9fd057b1680d001de38802ce1c28d79f04</td>\n",
       "      <td>9a2efa51c7180b369ecfea17efaae813d9d0bfc5</td>\n",
       "      <td>1</td>\n",
       "      <td>10</td>\n",
       "      <td>4</td>\n",
       "      <td>3</td>\n",
       "      <td>3 days 01:27:48</td>\n",
       "      <td>2023-06-02T07:22:03Z</td>\n",
       "      <td>2023-06-05T08:49:51Z</td>\n",
       "      <td>500.0</td>\n",
       "      <td>262.0</td>\n",
       "      <td>262.0</td>\n",
       "      <td>304.0</td>\n",
       "      <td>304.0</td>\n",
       "      <td>500.0</td>\n",
       "      <td>261.0</td>\n",
       "      <td>261.0</td>\n",
       "      <td>304.0</td>\n",
       "      <td>693.0</td>\n",
       "      <td>0</td>\n",
       "    </tr>\n",
       "  </tbody>\n",
       "</table>\n",
       "</div>"
      ],
      "text/plain": [
       "                                  begin_sha  \\\n",
       "0  84be0f9fd057b1680d001de38802ce1c28d79f04   \n",
       "\n",
       "                                    end_sha  commits  additions  deletions  \\\n",
       "0  9a2efa51c7180b369ecfea17efaae813d9d0bfc5        1         10          4   \n",
       "\n",
       "   changed_files       total_time            begin_time              end_time  \\\n",
       "0              3  3 days 01:27:48  2023-06-02T07:22:03Z  2023-06-05T08:49:51Z   \n",
       "\n",
       "   begin_Dispensables  begin_Bloaters  begin_Change Preventers  \\\n",
       "0               500.0           262.0                    262.0   \n",
       "\n",
       "   begin_Couplers  begin_Object-Orientation Abusers  end_Dispensables  \\\n",
       "0           304.0                             304.0             500.0   \n",
       "\n",
       "   end_Bloaters  end_Change Preventers  end_Couplers  \\\n",
       "0         261.0                  261.0         304.0   \n",
       "\n",
       "   end_Object-Orientation Abusers  cluster  \n",
       "0                           693.0        0  "
      ]
     },
     "execution_count": 36,
     "metadata": {},
     "output_type": "execute_result"
    }
   ],
   "source": [
    "df.head(1)"
   ]
  },
  {
   "cell_type": "code",
   "execution_count": 37,
   "metadata": {
    "ExecuteTime": {
     "end_time": "2023-08-28T03:36:59.562938100Z",
     "start_time": "2023-08-28T03:36:59.558937300Z"
    },
    "collapsed": false
   },
   "outputs": [],
   "source": [
    "def determine_outlier_thresholds_std(dataframe, col_name):\n",
    "    upper_boundary_1 = dataframe[col_name].mean() + 1 * dataframe[col_name].std()\n",
    "    lower_boundary_1 = dataframe[col_name].mean() - 1 * dataframe[col_name].std()\n",
    "    upper_boundary_2 = dataframe[col_name].mean() + 2 * dataframe[col_name].std()\n",
    "    lower_boundary_2 = dataframe[col_name].mean() - 2 * dataframe[col_name].std()\n",
    "    return upper_boundary_1, upper_boundary_2 , lower_boundary_1, lower_boundary_2"
   ]
  },
  {
   "cell_type": "code",
   "execution_count": 38,
   "metadata": {
    "ExecuteTime": {
     "end_time": "2023-08-28T03:36:59.562938100Z",
     "start_time": "2023-08-28T03:36:59.559939200Z"
    },
    "collapsed": false
   },
   "outputs": [
    {
     "name": "stderr",
     "output_type": "stream",
     "text": [
      "C:\\Users\\patcharaprapa_k\\AppData\\Local\\Temp\\ipykernel_15808\\3125237276.py:2: FutureWarning: The default value of numeric_only in DataFrame.mean is deprecated. In a future version, it will default to False. In addition, specifying 'numeric_only=None' is deprecated. Select only valid columns or specify the value of numeric_only to silence this warning.\n",
      "  upper_boundary_1 = dataframe[col_name].mean() + 1 * dataframe[col_name].std()\n",
      "C:\\Users\\patcharaprapa_k\\AppData\\Local\\Temp\\ipykernel_15808\\3125237276.py:2: FutureWarning: The default value of numeric_only in DataFrame.std is deprecated. In a future version, it will default to False. In addition, specifying 'numeric_only=None' is deprecated. Select only valid columns or specify the value of numeric_only to silence this warning.\n",
      "  upper_boundary_1 = dataframe[col_name].mean() + 1 * dataframe[col_name].std()\n",
      "C:\\Users\\patcharaprapa_k\\AppData\\Local\\Temp\\ipykernel_15808\\3125237276.py:3: FutureWarning: The default value of numeric_only in DataFrame.mean is deprecated. In a future version, it will default to False. In addition, specifying 'numeric_only=None' is deprecated. Select only valid columns or specify the value of numeric_only to silence this warning.\n",
      "  lower_boundary_1 = dataframe[col_name].mean() - 1 * dataframe[col_name].std()\n",
      "C:\\Users\\patcharaprapa_k\\AppData\\Local\\Temp\\ipykernel_15808\\3125237276.py:3: FutureWarning: The default value of numeric_only in DataFrame.std is deprecated. In a future version, it will default to False. In addition, specifying 'numeric_only=None' is deprecated. Select only valid columns or specify the value of numeric_only to silence this warning.\n",
      "  lower_boundary_1 = dataframe[col_name].mean() - 1 * dataframe[col_name].std()\n",
      "C:\\Users\\patcharaprapa_k\\AppData\\Local\\Temp\\ipykernel_15808\\3125237276.py:4: FutureWarning: The default value of numeric_only in DataFrame.mean is deprecated. In a future version, it will default to False. In addition, specifying 'numeric_only=None' is deprecated. Select only valid columns or specify the value of numeric_only to silence this warning.\n",
      "  upper_boundary_2 = dataframe[col_name].mean() + 2 * dataframe[col_name].std()\n",
      "C:\\Users\\patcharaprapa_k\\AppData\\Local\\Temp\\ipykernel_15808\\3125237276.py:4: FutureWarning: The default value of numeric_only in DataFrame.std is deprecated. In a future version, it will default to False. In addition, specifying 'numeric_only=None' is deprecated. Select only valid columns or specify the value of numeric_only to silence this warning.\n",
      "  upper_boundary_2 = dataframe[col_name].mean() + 2 * dataframe[col_name].std()\n",
      "C:\\Users\\patcharaprapa_k\\AppData\\Local\\Temp\\ipykernel_15808\\3125237276.py:5: FutureWarning: The default value of numeric_only in DataFrame.mean is deprecated. In a future version, it will default to False. In addition, specifying 'numeric_only=None' is deprecated. Select only valid columns or specify the value of numeric_only to silence this warning.\n",
      "  lower_boundary_2 = dataframe[col_name].mean() - 2 * dataframe[col_name].std()\n",
      "C:\\Users\\patcharaprapa_k\\AppData\\Local\\Temp\\ipykernel_15808\\3125237276.py:5: FutureWarning: The default value of numeric_only in DataFrame.std is deprecated. In a future version, it will default to False. In addition, specifying 'numeric_only=None' is deprecated. Select only valid columns or specify the value of numeric_only to silence this warning.\n",
      "  lower_boundary_2 = dataframe[col_name].mean() - 2 * dataframe[col_name].std()\n"
     ]
    },
    {
     "data": {
      "text/plain": [
       "(Series([], dtype: float64),\n",
       " Series([], dtype: float64),\n",
       " Series([], dtype: float64),\n",
       " Series([], dtype: float64))"
      ]
     },
     "execution_count": 38,
     "metadata": {},
     "output_type": "execute_result"
    }
   ],
   "source": [
    "determine_outlier_thresholds_std(time_score, time_score.columns)"
   ]
  },
  {
   "cell_type": "code",
   "execution_count": 39,
   "metadata": {
    "ExecuteTime": {
     "end_time": "2023-09-02T08:41:10.395748700Z",
     "start_time": "2023-09-02T08:41:10.348070400Z"
    },
    "collapsed": false
   },
   "outputs": [
    {
     "ename": "KeyError",
     "evalue": "\"None of [Index([('A',), ('B',), ('C',), ('A', 'B'), ('A', 'C'), ('B', 'C'),\\n       ('A', 'B', 'C')],\\n      dtype='object')] are in the [columns]\"",
     "output_type": "error",
     "traceback": [
      "\u001b[1;31m---------------------------------------------------------------------------\u001b[0m",
      "\u001b[1;31mKeyError\u001b[0m                                  Traceback (most recent call last)",
      "Cell \u001b[1;32mIn[39], line 59\u001b[0m\n\u001b[0;32m     57\u001b[0m data \u001b[39m=\u001b[39m pd\u001b[39m.\u001b[39mDataFrame({\u001b[39m'\u001b[39m\u001b[39mA\u001b[39m\u001b[39m'\u001b[39m: [\u001b[39m1\u001b[39m, \u001b[39m2\u001b[39m, \u001b[39m3\u001b[39m], \u001b[39m'\u001b[39m\u001b[39mB\u001b[39m\u001b[39m'\u001b[39m: [\u001b[39m4\u001b[39m, \u001b[39m5\u001b[39m, \u001b[39m6\u001b[39m], \u001b[39m'\u001b[39m\u001b[39mC\u001b[39m\u001b[39m'\u001b[39m: [\u001b[39m7\u001b[39m, \u001b[39m8\u001b[39m, \u001b[39m9\u001b[39m]})\n\u001b[0;32m     58\u001b[0m column_combinations \u001b[39m=\u001b[39m get_column_combinations(data)\n\u001b[1;32m---> 59\u001b[0m scaled_data \u001b[39m=\u001b[39m scale_data(data, column_combinations)\n\u001b[0;32m     60\u001b[0m optimal_clusters \u001b[39m=\u001b[39m get_optimal_num_clusters(scaled_data)\n\u001b[0;32m     61\u001b[0m kmeans \u001b[39m=\u001b[39m KMeans(n_clusters\u001b[39m=\u001b[39moptimal_clusters[\u001b[39m0\u001b[39m][\u001b[39m1\u001b[39m])\n",
      "Cell \u001b[1;32mIn[39], line 21\u001b[0m, in \u001b[0;36mscale_data\u001b[1;34m(data, columns)\u001b[0m\n\u001b[0;32m     19\u001b[0m \u001b[39mdef\u001b[39;00m \u001b[39mscale_data\u001b[39m(data, columns):\n\u001b[0;32m     20\u001b[0m     scaler \u001b[39m=\u001b[39m MinMaxScaler()\n\u001b[1;32m---> 21\u001b[0m     scaled_data \u001b[39m=\u001b[39m scaler\u001b[39m.\u001b[39mfit_transform(data[columns])\n\u001b[0;32m     22\u001b[0m     \u001b[39mreturn\u001b[39;00m pd\u001b[39m.\u001b[39mDataFrame(scaled_data, columns\u001b[39m=\u001b[39mcolumns)\n",
      "File \u001b[1;32mc:\\Users\\patcharaprapa_k\\AppData\\Local\\anaconda3\\lib\\site-packages\\pandas\\core\\frame.py:3813\u001b[0m, in \u001b[0;36mDataFrame.__getitem__\u001b[1;34m(self, key)\u001b[0m\n\u001b[0;32m   3811\u001b[0m     \u001b[39mif\u001b[39;00m is_iterator(key):\n\u001b[0;32m   3812\u001b[0m         key \u001b[39m=\u001b[39m \u001b[39mlist\u001b[39m(key)\n\u001b[1;32m-> 3813\u001b[0m     indexer \u001b[39m=\u001b[39m \u001b[39mself\u001b[39;49m\u001b[39m.\u001b[39;49mcolumns\u001b[39m.\u001b[39;49m_get_indexer_strict(key, \u001b[39m\"\u001b[39;49m\u001b[39mcolumns\u001b[39;49m\u001b[39m\"\u001b[39;49m)[\u001b[39m1\u001b[39m]\n\u001b[0;32m   3815\u001b[0m \u001b[39m# take() does not accept boolean indexers\u001b[39;00m\n\u001b[0;32m   3816\u001b[0m \u001b[39mif\u001b[39;00m \u001b[39mgetattr\u001b[39m(indexer, \u001b[39m\"\u001b[39m\u001b[39mdtype\u001b[39m\u001b[39m\"\u001b[39m, \u001b[39mNone\u001b[39;00m) \u001b[39m==\u001b[39m \u001b[39mbool\u001b[39m:\n",
      "File \u001b[1;32mc:\\Users\\patcharaprapa_k\\AppData\\Local\\anaconda3\\lib\\site-packages\\pandas\\core\\indexes\\base.py:6070\u001b[0m, in \u001b[0;36mIndex._get_indexer_strict\u001b[1;34m(self, key, axis_name)\u001b[0m\n\u001b[0;32m   6067\u001b[0m \u001b[39melse\u001b[39;00m:\n\u001b[0;32m   6068\u001b[0m     keyarr, indexer, new_indexer \u001b[39m=\u001b[39m \u001b[39mself\u001b[39m\u001b[39m.\u001b[39m_reindex_non_unique(keyarr)\n\u001b[1;32m-> 6070\u001b[0m \u001b[39mself\u001b[39;49m\u001b[39m.\u001b[39;49m_raise_if_missing(keyarr, indexer, axis_name)\n\u001b[0;32m   6072\u001b[0m keyarr \u001b[39m=\u001b[39m \u001b[39mself\u001b[39m\u001b[39m.\u001b[39mtake(indexer)\n\u001b[0;32m   6073\u001b[0m \u001b[39mif\u001b[39;00m \u001b[39misinstance\u001b[39m(key, Index):\n\u001b[0;32m   6074\u001b[0m     \u001b[39m# GH 42790 - Preserve name from an Index\u001b[39;00m\n",
      "File \u001b[1;32mc:\\Users\\patcharaprapa_k\\AppData\\Local\\anaconda3\\lib\\site-packages\\pandas\\core\\indexes\\base.py:6130\u001b[0m, in \u001b[0;36mIndex._raise_if_missing\u001b[1;34m(self, key, indexer, axis_name)\u001b[0m\n\u001b[0;32m   6128\u001b[0m     \u001b[39mif\u001b[39;00m use_interval_msg:\n\u001b[0;32m   6129\u001b[0m         key \u001b[39m=\u001b[39m \u001b[39mlist\u001b[39m(key)\n\u001b[1;32m-> 6130\u001b[0m     \u001b[39mraise\u001b[39;00m \u001b[39mKeyError\u001b[39;00m(\u001b[39mf\u001b[39m\u001b[39m\"\u001b[39m\u001b[39mNone of [\u001b[39m\u001b[39m{\u001b[39;00mkey\u001b[39m}\u001b[39;00m\u001b[39m] are in the [\u001b[39m\u001b[39m{\u001b[39;00maxis_name\u001b[39m}\u001b[39;00m\u001b[39m]\u001b[39m\u001b[39m\"\u001b[39m)\n\u001b[0;32m   6132\u001b[0m not_found \u001b[39m=\u001b[39m \u001b[39mlist\u001b[39m(ensure_index(key)[missing_mask\u001b[39m.\u001b[39mnonzero()[\u001b[39m0\u001b[39m]]\u001b[39m.\u001b[39munique())\n\u001b[0;32m   6133\u001b[0m \u001b[39mraise\u001b[39;00m \u001b[39mKeyError\u001b[39;00m(\u001b[39mf\u001b[39m\u001b[39m\"\u001b[39m\u001b[39m{\u001b[39;00mnot_found\u001b[39m}\u001b[39;00m\u001b[39m not in index\u001b[39m\u001b[39m\"\u001b[39m)\n",
      "\u001b[1;31mKeyError\u001b[0m: \"None of [Index([('A',), ('B',), ('C',), ('A', 'B'), ('A', 'C'), ('B', 'C'),\\n       ('A', 'B', 'C')],\\n      dtype='object')] are in the [columns]\""
     ]
    }
   ],
   "source": [
    "import pandas as pd\n",
    "from itertools import combinations\n",
    "from sklearn.preprocessing import MinMaxScaler\n",
    "from sklearn.cluster import KMeans\n",
    "from sklearn.metrics import silhouette_score\n",
    "\n",
    "# Step 1: Loop through combinations of columns in the data frame\n",
    "def get_column_combinations(data_frame):\n",
    "    columns = data_frame.columns\n",
    "    col_combinations = []\n",
    "\n",
    "    for r in range(1, len(columns) + 1):\n",
    "        for combo in combinations(columns, r):\n",
    "            col_combinations.append(combo)\n",
    "\n",
    "    return col_combinations\n",
    "\n",
    "# Step 3: Scale the data using MinMaxScaler\n",
    "def scale_data(data, columns):\n",
    "    scaler = MinMaxScaler()\n",
    "    scaled_data = scaler.fit_transform(data[columns])\n",
    "    return pd.DataFrame(scaled_data, columns=columns)\n",
    "\n",
    "# Step 4: Determine the optimal number of clusters using silhouette score\n",
    "def get_optimal_num_clusters(data):\n",
    "    scores = []\n",
    "    for num_clusters in range(2, len(data) + 1):\n",
    "        km = KMeans(n_clusters=num_clusters)\n",
    "        km.fit(data)\n",
    "        sil_avg = silhouette_score(data, km.labels_).round(4)\n",
    "        scores.append((sil_avg, num_clusters))\n",
    "\n",
    "    scores.sort(reverse=True)\n",
    "    return scores[:5]\n",
    "\n",
    "# Step 7: Get cluster statistics\n",
    "def get_cluster_statistics(data, cluster_labels):\n",
    "    cluster_info = {}\n",
    "    for cluster_num in range(max(cluster_labels) + 1):\n",
    "        cluster_data = data[cluster_labels == cluster_num]\n",
    "        cluster_info[cluster_num] = {\n",
    "            'min_time': cluster_data['total_time'].min(),\n",
    "            'max_time': cluster_data['total_time'].max(),\n",
    "            'shape': cluster_data.shape\n",
    "        }\n",
    "    return cluster_info\n",
    "\n",
    "# Step 9: Check for outliers using standard deviation thresholds\n",
    "def determine_outlier_thresholds_std(dataframe, col_name):\n",
    "    upper_boundary_1 = dataframe[col_name].mean() + 1 * dataframe[col_name].std()\n",
    "    lower_boundary_1 = dataframe[col_name].mean() - 1 * dataframe[col_name].std()\n",
    "    upper_boundary_2 = dataframe[col_name].mean() + 2 * dataframe[col_name].std()\n",
    "    lower_boundary_2 = dataframe[col_name].mean() - 2 * dataframe[col_name].std()\n",
    "    return upper_boundary_1, upper_boundary_2, lower_boundary_1, lower_boundary_2\n",
    "\n",
    "# Example usage:\n",
    "data = pd.DataFrame({'A': [1, 2, 3], 'B': [4, 5, 6], 'C': [7, 8, 9]})\n",
    "column_combinations = get_column_combinations(data)\n",
    "scaled_data = scale_data(data, column_combinations)\n",
    "optimal_clusters = get_optimal_num_clusters(scaled_data)\n",
    "kmeans = KMeans(n_clusters=optimal_clusters[0][1])\n",
    "cluster_labels = kmeans.fit_predict(scaled_data)\n",
    "cluster_info = get_cluster_statistics(data, cluster_labels)\n",
    "outlier_thresholds = determine_outlier_thresholds_std(data, 'total_time')\n",
    "\n",
    "# Print cluster information\n",
    "for cluster_num, info in cluster_info.items():\n",
    "    print(f\"Cluster {cluster_num}:\")\n",
    "    print(f\"Min Time: {info['min_time']}\")\n",
    "    print(f\"Max Time: {info['max_time']}\")\n",
    "    print(f\"Shape: {info['shape']}\")\n"
   ]
  },
  {
   "cell_type": "code",
   "execution_count": null,
   "metadata": {
    "collapsed": false
   },
   "outputs": [],
   "source": []
  }
 ],
 "metadata": {
  "kernelspec": {
   "display_name": "Python 3",
   "language": "python",
   "name": "python3"
  },
  "language_info": {
   "codemirror_mode": {
    "name": "ipython",
    "version": 3
   },
   "file_extension": ".py",
   "mimetype": "text/x-python",
   "name": "python",
   "nbconvert_exporter": "python",
   "pygments_lexer": "ipython3",
   "version": "3.10.9"
  }
 },
 "nbformat": 4,
 "nbformat_minor": 0
}
