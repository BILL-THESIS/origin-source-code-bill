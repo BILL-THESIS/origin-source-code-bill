{
 "cells": [
  {
   "cell_type": "code",
   "execution_count": 1,
   "metadata": {
    "ExecuteTime": {
     "end_time": "2023-06-27T05:34:57.095942500Z",
     "start_time": "2023-06-27T05:34:55.732611900Z"
    }
   },
   "outputs": [],
   "source": [
    "import pandas as pd\n",
    "import numpy as np\n",
    "from pandas import Timedelta\n",
    "from datetime import timedelta\n",
    "from sklearn.datasets import load_wine\n",
    "from sklearn.ensemble import GradientBoostingClassifier"
   ]
  },
  {
   "cell_type": "code",
   "execution_count": 2,
   "metadata": {
    "ExecuteTime": {
     "end_time": "2023-06-27T05:34:57.174800300Z",
     "start_time": "2023-06-27T05:34:57.098941700Z"
    }
   },
   "outputs": [],
   "source": [
    "df = pd.read_pickle(\"../seatunnel.pkl\")\n",
    "df = df.drop_duplicates()"
   ]
  },
  {
   "cell_type": "code",
   "execution_count": 3,
   "metadata": {
    "ExecuteTime": {
     "end_time": "2023-06-27T05:34:57.219617200Z",
     "start_time": "2023-06-27T05:34:57.181334400Z"
    }
   },
   "outputs": [
    {
     "data": {
      "text/plain": "                                     begin_sha  \\\n0     c203ef5f8d6ad8bfb7f284e32a9ce5f2bc1fe142   \n1     c203ef5f8d6ad8bfb7f284e32a9ce5f2bc1fe142   \n2     c203ef5f8d6ad8bfb7f284e32a9ce5f2bc1fe142   \n3     c203ef5f8d6ad8bfb7f284e32a9ce5f2bc1fe142   \n4     bde19b6377f7b2fb7a34b94bd06d6ce0cc44f348   \n...                                        ...   \n5215  04addef64bbd2567d47acbb7f434245fba7ac8a5   \n5216  79339df3455c88ba606847d79b3b3a1682c97a67   \n5217  a475a8082b030af51a03e61457ed78b7cf17ab56   \n5218  96d0637c8471ec9370f15a522db0b23ff5dc7669   \n5219  b35ec02811bf7ef58bc8d831418c468ecc0a36b6   \n\n                                       end_sha  commits  additions  deletions  \\\n0     4d429cab55482986b4d8a24c699d315631c8242a        1         64          1   \n1     4d429cab55482986b4d8a24c699d315631c8242a        1         64          1   \n2     c30a2a1b1c989d71082e7d501752f0d2d2c3601f        2         11         19   \n3     c30a2a1b1c989d71082e7d501752f0d2d2c3601f        2         11         19   \n4     c7745e63373c0fc92884982844bf55e22dd38af5        1          6          2   \n...                                        ...      ...        ...        ...   \n5215  3b6a8b4058593b1ff11c44560ebcc56142cda830        1         11       1128   \n5216  04addef64bbd2567d47acbb7f434245fba7ac8a5        1         36          0   \n5217  a26d21b7d28704facbfbbecfb501b958dd59d826        6        997       1045   \n5218  5fa746466941d871d4b1246b451f398416952541       14        964        122   \n5219  305ec511da05ba519fe4b04b46f7898b650b06c5        1         97         28   \n\n      changed_files       total_time            begin_time  \\\n0                 1  0 days 00:33:23  2023-06-06T08:28:39Z   \n1                 1  0 days 00:33:23  2023-06-02T07:23:42Z   \n2                 3  4 days 01:37:00  2023-06-06T08:28:39Z   \n3                 3  4 days 01:37:00  2023-06-02T07:23:42Z   \n4                 1  0 days 17:17:51  2023-06-05T08:59:42Z   \n...             ...              ...                   ...   \n5215             27  0 days 00:33:35  2019-08-13T15:14:02Z   \n5216              1  0 days 00:09:14  2019-08-13T02:16:57Z   \n5217             81  0 days 23:14:31  2019-08-13T01:54:31Z   \n5218             64 31 days 01:05:35  2019-08-10T13:15:19Z   \n5219             56  0 days 17:01:00  2019-07-19T10:36:13Z   \n\n                                              begin_key  \\\n0     seatunnel-c203ef5f8d6ad8bfb7f284e32a9ce5f2bc1f...   \n1     seatunnel-c203ef5f8d6ad8bfb7f284e32a9ce5f2bc1f...   \n2     seatunnel-c203ef5f8d6ad8bfb7f284e32a9ce5f2bc1f...   \n3     seatunnel-c203ef5f8d6ad8bfb7f284e32a9ce5f2bc1f...   \n4     seatunnel-bde19b6377f7b2fb7a34b94bd06d6ce0cc44...   \n...                                                 ...   \n5215  seatunnel-04addef64bbd2567d47acbb7f434245fba7a...   \n5216  seatunnel-79339df3455c88ba606847d79b3b3a1682c9...   \n5217  seatunnel-a475a8082b030af51a03e61457ed78b7cf17...   \n5218  seatunnel-96d0637c8471ec9370f15a522db0b23ff5dc...   \n5219  seatunnel-b35ec02811bf7ef58bc8d831418c468ecc0a...   \n\n                                begin_revision  ...  end_java:S5411  \\\n0     c203ef5f8d6ad8bfb7f284e32a9ce5f2bc1fe142  ...              13   \n1     c203ef5f8d6ad8bfb7f284e32a9ce5f2bc1fe142  ...              13   \n2     c203ef5f8d6ad8bfb7f284e32a9ce5f2bc1fe142  ...              13   \n3     c203ef5f8d6ad8bfb7f284e32a9ce5f2bc1fe142  ...              13   \n4     bde19b6377f7b2fb7a34b94bd06d6ce0cc44f348  ...              13   \n...                                        ...  ...             ...   \n5215  04addef64bbd2567d47acbb7f434245fba7ac8a5  ...               0   \n5216  79339df3455c88ba606847d79b3b3a1682c97a67  ...               0   \n5217  a475a8082b030af51a03e61457ed78b7cf17ab56  ...               0   \n5218  96d0637c8471ec9370f15a522db0b23ff5dc7669  ...               0   \n5219  b35ec02811bf7ef58bc8d831418c468ecc0a36b6  ...               0   \n\n      end_java:S5413  end_java:S5803  end_java:S5869  end_java:S5993  \\\n0                  0               1               2              42   \n1                  0               1               2              42   \n2                  0               1               2              42   \n3                  0               1               2              42   \n4                  0               1               2              42   \n...              ...             ...             ...             ...   \n5215               0               0               0               0   \n5216               0               0               0               0   \n5217               0               0               0               0   \n5218               0               0               0               0   \n5219               0               0               0               0   \n\n      end_java:S6202  end_java:S6213  end_java:S6244  end_java:S6353  \\\n0                  0             106               1               0   \n1                  0             106               1               0   \n2                  0             106               1               0   \n3                  0             106               1               0   \n4                  0             106               1               0   \n...              ...             ...             ...             ...   \n5215               0               0               0               0   \n5216               0               0               0               0   \n5217               0               0               0               0   \n5218               0               3               0               0   \n5219               0               1               0               0   \n\n      end_java:S6355  \n0                  0  \n1                  0  \n2                  0  \n3                  0  \n4                  0  \n...              ...  \n5215               0  \n5216               0  \n5217               0  \n5218               0  \n5219               0  \n\n[5208 rows x 321 columns]",
      "text/html": "<div>\n<style scoped>\n    .dataframe tbody tr th:only-of-type {\n        vertical-align: middle;\n    }\n\n    .dataframe tbody tr th {\n        vertical-align: top;\n    }\n\n    .dataframe thead th {\n        text-align: right;\n    }\n</style>\n<table border=\"1\" class=\"dataframe\">\n  <thead>\n    <tr style=\"text-align: right;\">\n      <th></th>\n      <th>begin_sha</th>\n      <th>end_sha</th>\n      <th>commits</th>\n      <th>additions</th>\n      <th>deletions</th>\n      <th>changed_files</th>\n      <th>total_time</th>\n      <th>begin_time</th>\n      <th>begin_key</th>\n      <th>begin_revision</th>\n      <th>...</th>\n      <th>end_java:S5411</th>\n      <th>end_java:S5413</th>\n      <th>end_java:S5803</th>\n      <th>end_java:S5869</th>\n      <th>end_java:S5993</th>\n      <th>end_java:S6202</th>\n      <th>end_java:S6213</th>\n      <th>end_java:S6244</th>\n      <th>end_java:S6353</th>\n      <th>end_java:S6355</th>\n    </tr>\n  </thead>\n  <tbody>\n    <tr>\n      <th>0</th>\n      <td>c203ef5f8d6ad8bfb7f284e32a9ce5f2bc1fe142</td>\n      <td>4d429cab55482986b4d8a24c699d315631c8242a</td>\n      <td>1</td>\n      <td>64</td>\n      <td>1</td>\n      <td>1</td>\n      <td>0 days 00:33:23</td>\n      <td>2023-06-06T08:28:39Z</td>\n      <td>seatunnel-c203ef5f8d6ad8bfb7f284e32a9ce5f2bc1f...</td>\n      <td>c203ef5f8d6ad8bfb7f284e32a9ce5f2bc1fe142</td>\n      <td>...</td>\n      <td>13</td>\n      <td>0</td>\n      <td>1</td>\n      <td>2</td>\n      <td>42</td>\n      <td>0</td>\n      <td>106</td>\n      <td>1</td>\n      <td>0</td>\n      <td>0</td>\n    </tr>\n    <tr>\n      <th>1</th>\n      <td>c203ef5f8d6ad8bfb7f284e32a9ce5f2bc1fe142</td>\n      <td>4d429cab55482986b4d8a24c699d315631c8242a</td>\n      <td>1</td>\n      <td>64</td>\n      <td>1</td>\n      <td>1</td>\n      <td>0 days 00:33:23</td>\n      <td>2023-06-02T07:23:42Z</td>\n      <td>seatunnel-c203ef5f8d6ad8bfb7f284e32a9ce5f2bc1f...</td>\n      <td>c203ef5f8d6ad8bfb7f284e32a9ce5f2bc1fe142</td>\n      <td>...</td>\n      <td>13</td>\n      <td>0</td>\n      <td>1</td>\n      <td>2</td>\n      <td>42</td>\n      <td>0</td>\n      <td>106</td>\n      <td>1</td>\n      <td>0</td>\n      <td>0</td>\n    </tr>\n    <tr>\n      <th>2</th>\n      <td>c203ef5f8d6ad8bfb7f284e32a9ce5f2bc1fe142</td>\n      <td>c30a2a1b1c989d71082e7d501752f0d2d2c3601f</td>\n      <td>2</td>\n      <td>11</td>\n      <td>19</td>\n      <td>3</td>\n      <td>4 days 01:37:00</td>\n      <td>2023-06-06T08:28:39Z</td>\n      <td>seatunnel-c203ef5f8d6ad8bfb7f284e32a9ce5f2bc1f...</td>\n      <td>c203ef5f8d6ad8bfb7f284e32a9ce5f2bc1fe142</td>\n      <td>...</td>\n      <td>13</td>\n      <td>0</td>\n      <td>1</td>\n      <td>2</td>\n      <td>42</td>\n      <td>0</td>\n      <td>106</td>\n      <td>1</td>\n      <td>0</td>\n      <td>0</td>\n    </tr>\n    <tr>\n      <th>3</th>\n      <td>c203ef5f8d6ad8bfb7f284e32a9ce5f2bc1fe142</td>\n      <td>c30a2a1b1c989d71082e7d501752f0d2d2c3601f</td>\n      <td>2</td>\n      <td>11</td>\n      <td>19</td>\n      <td>3</td>\n      <td>4 days 01:37:00</td>\n      <td>2023-06-02T07:23:42Z</td>\n      <td>seatunnel-c203ef5f8d6ad8bfb7f284e32a9ce5f2bc1f...</td>\n      <td>c203ef5f8d6ad8bfb7f284e32a9ce5f2bc1fe142</td>\n      <td>...</td>\n      <td>13</td>\n      <td>0</td>\n      <td>1</td>\n      <td>2</td>\n      <td>42</td>\n      <td>0</td>\n      <td>106</td>\n      <td>1</td>\n      <td>0</td>\n      <td>0</td>\n    </tr>\n    <tr>\n      <th>4</th>\n      <td>bde19b6377f7b2fb7a34b94bd06d6ce0cc44f348</td>\n      <td>c7745e63373c0fc92884982844bf55e22dd38af5</td>\n      <td>1</td>\n      <td>6</td>\n      <td>2</td>\n      <td>1</td>\n      <td>0 days 17:17:51</td>\n      <td>2023-06-05T08:59:42Z</td>\n      <td>seatunnel-bde19b6377f7b2fb7a34b94bd06d6ce0cc44...</td>\n      <td>bde19b6377f7b2fb7a34b94bd06d6ce0cc44f348</td>\n      <td>...</td>\n      <td>13</td>\n      <td>0</td>\n      <td>1</td>\n      <td>2</td>\n      <td>42</td>\n      <td>0</td>\n      <td>106</td>\n      <td>1</td>\n      <td>0</td>\n      <td>0</td>\n    </tr>\n    <tr>\n      <th>...</th>\n      <td>...</td>\n      <td>...</td>\n      <td>...</td>\n      <td>...</td>\n      <td>...</td>\n      <td>...</td>\n      <td>...</td>\n      <td>...</td>\n      <td>...</td>\n      <td>...</td>\n      <td>...</td>\n      <td>...</td>\n      <td>...</td>\n      <td>...</td>\n      <td>...</td>\n      <td>...</td>\n      <td>...</td>\n      <td>...</td>\n      <td>...</td>\n      <td>...</td>\n      <td>...</td>\n    </tr>\n    <tr>\n      <th>5215</th>\n      <td>04addef64bbd2567d47acbb7f434245fba7ac8a5</td>\n      <td>3b6a8b4058593b1ff11c44560ebcc56142cda830</td>\n      <td>1</td>\n      <td>11</td>\n      <td>1128</td>\n      <td>27</td>\n      <td>0 days 00:33:35</td>\n      <td>2019-08-13T15:14:02Z</td>\n      <td>seatunnel-04addef64bbd2567d47acbb7f434245fba7a...</td>\n      <td>04addef64bbd2567d47acbb7f434245fba7ac8a5</td>\n      <td>...</td>\n      <td>0</td>\n      <td>0</td>\n      <td>0</td>\n      <td>0</td>\n      <td>0</td>\n      <td>0</td>\n      <td>0</td>\n      <td>0</td>\n      <td>0</td>\n      <td>0</td>\n    </tr>\n    <tr>\n      <th>5216</th>\n      <td>79339df3455c88ba606847d79b3b3a1682c97a67</td>\n      <td>04addef64bbd2567d47acbb7f434245fba7ac8a5</td>\n      <td>1</td>\n      <td>36</td>\n      <td>0</td>\n      <td>1</td>\n      <td>0 days 00:09:14</td>\n      <td>2019-08-13T02:16:57Z</td>\n      <td>seatunnel-79339df3455c88ba606847d79b3b3a1682c9...</td>\n      <td>79339df3455c88ba606847d79b3b3a1682c97a67</td>\n      <td>...</td>\n      <td>0</td>\n      <td>0</td>\n      <td>0</td>\n      <td>0</td>\n      <td>0</td>\n      <td>0</td>\n      <td>0</td>\n      <td>0</td>\n      <td>0</td>\n      <td>0</td>\n    </tr>\n    <tr>\n      <th>5217</th>\n      <td>a475a8082b030af51a03e61457ed78b7cf17ab56</td>\n      <td>a26d21b7d28704facbfbbecfb501b958dd59d826</td>\n      <td>6</td>\n      <td>997</td>\n      <td>1045</td>\n      <td>81</td>\n      <td>0 days 23:14:31</td>\n      <td>2019-08-13T01:54:31Z</td>\n      <td>seatunnel-a475a8082b030af51a03e61457ed78b7cf17...</td>\n      <td>a475a8082b030af51a03e61457ed78b7cf17ab56</td>\n      <td>...</td>\n      <td>0</td>\n      <td>0</td>\n      <td>0</td>\n      <td>0</td>\n      <td>0</td>\n      <td>0</td>\n      <td>0</td>\n      <td>0</td>\n      <td>0</td>\n      <td>0</td>\n    </tr>\n    <tr>\n      <th>5218</th>\n      <td>96d0637c8471ec9370f15a522db0b23ff5dc7669</td>\n      <td>5fa746466941d871d4b1246b451f398416952541</td>\n      <td>14</td>\n      <td>964</td>\n      <td>122</td>\n      <td>64</td>\n      <td>31 days 01:05:35</td>\n      <td>2019-08-10T13:15:19Z</td>\n      <td>seatunnel-96d0637c8471ec9370f15a522db0b23ff5dc...</td>\n      <td>96d0637c8471ec9370f15a522db0b23ff5dc7669</td>\n      <td>...</td>\n      <td>0</td>\n      <td>0</td>\n      <td>0</td>\n      <td>0</td>\n      <td>0</td>\n      <td>0</td>\n      <td>3</td>\n      <td>0</td>\n      <td>0</td>\n      <td>0</td>\n    </tr>\n    <tr>\n      <th>5219</th>\n      <td>b35ec02811bf7ef58bc8d831418c468ecc0a36b6</td>\n      <td>305ec511da05ba519fe4b04b46f7898b650b06c5</td>\n      <td>1</td>\n      <td>97</td>\n      <td>28</td>\n      <td>56</td>\n      <td>0 days 17:01:00</td>\n      <td>2019-07-19T10:36:13Z</td>\n      <td>seatunnel-b35ec02811bf7ef58bc8d831418c468ecc0a...</td>\n      <td>b35ec02811bf7ef58bc8d831418c468ecc0a36b6</td>\n      <td>...</td>\n      <td>0</td>\n      <td>0</td>\n      <td>0</td>\n      <td>0</td>\n      <td>0</td>\n      <td>0</td>\n      <td>1</td>\n      <td>0</td>\n      <td>0</td>\n      <td>0</td>\n    </tr>\n  </tbody>\n</table>\n<p>5208 rows × 321 columns</p>\n</div>"
     },
     "execution_count": 3,
     "metadata": {},
     "output_type": "execute_result"
    }
   ],
   "source": [
    "df"
   ]
  },
  {
   "cell_type": "code",
   "execution_count": 4,
   "metadata": {
    "ExecuteTime": {
     "end_time": "2023-06-27T05:34:57.250358900Z",
     "start_time": "2023-06-27T05:34:57.208096900Z"
    }
   },
   "outputs": [],
   "source": [
    "# time_median= df['total_time'].median()\n",
    "# time_median\n",
    "# Timedelta('1 days 00:38:47')"
   ]
  },
  {
   "cell_type": "code",
   "execution_count": 5,
   "metadata": {
    "ExecuteTime": {
     "end_time": "2023-06-27T05:34:57.306490400Z",
     "start_time": "2023-06-27T05:34:57.225679900Z"
    }
   },
   "outputs": [
    {
     "data": {
      "text/plain": "Timedelta('3 days 01:27:48')"
     },
     "execution_count": 5,
     "metadata": {},
     "output_type": "execute_result"
    }
   ],
   "source": [
    "df['total_time'][0:30].median()"
   ]
  },
  {
   "cell_type": "code",
   "execution_count": 6,
   "metadata": {
    "ExecuteTime": {
     "end_time": "2023-06-27T05:34:57.342523500Z",
     "start_time": "2023-06-27T05:34:57.250358900Z"
    }
   },
   "outputs": [],
   "source": [
    "df['total_time'] = pd.to_datetime(df['end_time']) - pd.to_datetime(df['begin_time'])"
   ]
  },
  {
   "cell_type": "code",
   "execution_count": 7,
   "metadata": {
    "ExecuteTime": {
     "end_time": "2023-06-27T05:34:57.354050Z",
     "start_time": "2023-06-27T05:34:57.253831200Z"
    }
   },
   "outputs": [
    {
     "data": {
      "text/plain": "0       False\n1       False\n2       False\n3       False\n4       False\n        ...  \n5215    False\n5216    False\n5217    False\n5218    False\n5219    False\nName: total_time, Length: 5208, dtype: bool"
     },
     "execution_count": 7,
     "metadata": {},
     "output_type": "execute_result"
    }
   ],
   "source": [
    "df['total_time'] < timedelta(minutes=1)"
   ]
  },
  {
   "cell_type": "code",
   "execution_count": 8,
   "metadata": {
    "ExecuteTime": {
     "end_time": "2023-06-27T05:34:57.354050Z",
     "start_time": "2023-06-27T05:34:57.277817100Z"
    }
   },
   "outputs": [],
   "source": [
    "# time_median > timedelta(minutes=0)"
   ]
  },
  {
   "cell_type": "code",
   "execution_count": 9,
   "metadata": {
    "ExecuteTime": {
     "end_time": "2023-06-27T05:34:57.355066600Z",
     "start_time": "2023-06-27T05:34:57.285415900Z"
    }
   },
   "outputs": [],
   "source": [
    "df['time_binary'] = df['total_time'].apply(lambda x:  0 if x < timedelta (days = 3) else 1)"
   ]
  },
  {
   "cell_type": "code",
   "execution_count": 10,
   "metadata": {
    "ExecuteTime": {
     "end_time": "2023-06-27T05:34:57.404363Z",
     "start_time": "2023-06-27T05:34:57.346547800Z"
    }
   },
   "outputs": [
    {
     "data": {
      "text/plain": "                                     begin_sha  \\\n0     c203ef5f8d6ad8bfb7f284e32a9ce5f2bc1fe142   \n1     c203ef5f8d6ad8bfb7f284e32a9ce5f2bc1fe142   \n2     c203ef5f8d6ad8bfb7f284e32a9ce5f2bc1fe142   \n3     c203ef5f8d6ad8bfb7f284e32a9ce5f2bc1fe142   \n4     bde19b6377f7b2fb7a34b94bd06d6ce0cc44f348   \n...                                        ...   \n5215  04addef64bbd2567d47acbb7f434245fba7ac8a5   \n5216  79339df3455c88ba606847d79b3b3a1682c97a67   \n5217  a475a8082b030af51a03e61457ed78b7cf17ab56   \n5218  96d0637c8471ec9370f15a522db0b23ff5dc7669   \n5219  b35ec02811bf7ef58bc8d831418c468ecc0a36b6   \n\n                                       end_sha  commits  additions  deletions  \\\n0     4d429cab55482986b4d8a24c699d315631c8242a        1         64          1   \n1     4d429cab55482986b4d8a24c699d315631c8242a        1         64          1   \n2     c30a2a1b1c989d71082e7d501752f0d2d2c3601f        2         11         19   \n3     c30a2a1b1c989d71082e7d501752f0d2d2c3601f        2         11         19   \n4     c7745e63373c0fc92884982844bf55e22dd38af5        1          6          2   \n...                                        ...      ...        ...        ...   \n5215  3b6a8b4058593b1ff11c44560ebcc56142cda830        1         11       1128   \n5216  04addef64bbd2567d47acbb7f434245fba7ac8a5        1         36          0   \n5217  a26d21b7d28704facbfbbecfb501b958dd59d826        6        997       1045   \n5218  5fa746466941d871d4b1246b451f398416952541       14        964        122   \n5219  305ec511da05ba519fe4b04b46f7898b650b06c5        1         97         28   \n\n      changed_files       total_time            begin_time  \\\n0                 1  0 days 00:33:23  2023-06-06T08:28:39Z   \n1                 1  4 days 01:38:20  2023-06-02T07:23:42Z   \n2                 3  0 days 00:32:03  2023-06-06T08:28:39Z   \n3                 3  4 days 01:37:00  2023-06-02T07:23:42Z   \n4                 1  0 days 17:17:51  2023-06-05T08:59:42Z   \n...             ...              ...                   ...   \n5215             27  0 days 00:33:35  2019-08-13T15:14:02Z   \n5216              1  0 days 00:09:14  2019-08-13T02:16:57Z   \n5217             81  0 days 23:14:31  2019-08-13T01:54:31Z   \n5218             64 31 days 01:05:35  2019-08-10T13:15:19Z   \n5219             56  0 days 17:01:00  2019-07-19T10:36:13Z   \n\n                                              begin_key  \\\n0     seatunnel-c203ef5f8d6ad8bfb7f284e32a9ce5f2bc1f...   \n1     seatunnel-c203ef5f8d6ad8bfb7f284e32a9ce5f2bc1f...   \n2     seatunnel-c203ef5f8d6ad8bfb7f284e32a9ce5f2bc1f...   \n3     seatunnel-c203ef5f8d6ad8bfb7f284e32a9ce5f2bc1f...   \n4     seatunnel-bde19b6377f7b2fb7a34b94bd06d6ce0cc44...   \n...                                                 ...   \n5215  seatunnel-04addef64bbd2567d47acbb7f434245fba7a...   \n5216  seatunnel-79339df3455c88ba606847d79b3b3a1682c9...   \n5217  seatunnel-a475a8082b030af51a03e61457ed78b7cf17...   \n5218  seatunnel-96d0637c8471ec9370f15a522db0b23ff5dc...   \n5219  seatunnel-b35ec02811bf7ef58bc8d831418c468ecc0a...   \n\n                                begin_revision  ...  end_java:S5413  \\\n0     c203ef5f8d6ad8bfb7f284e32a9ce5f2bc1fe142  ...               0   \n1     c203ef5f8d6ad8bfb7f284e32a9ce5f2bc1fe142  ...               0   \n2     c203ef5f8d6ad8bfb7f284e32a9ce5f2bc1fe142  ...               0   \n3     c203ef5f8d6ad8bfb7f284e32a9ce5f2bc1fe142  ...               0   \n4     bde19b6377f7b2fb7a34b94bd06d6ce0cc44f348  ...               0   \n...                                        ...  ...             ...   \n5215  04addef64bbd2567d47acbb7f434245fba7ac8a5  ...               0   \n5216  79339df3455c88ba606847d79b3b3a1682c97a67  ...               0   \n5217  a475a8082b030af51a03e61457ed78b7cf17ab56  ...               0   \n5218  96d0637c8471ec9370f15a522db0b23ff5dc7669  ...               0   \n5219  b35ec02811bf7ef58bc8d831418c468ecc0a36b6  ...               0   \n\n      end_java:S5803  end_java:S5869  end_java:S5993  end_java:S6202  \\\n0                  1               2              42               0   \n1                  1               2              42               0   \n2                  1               2              42               0   \n3                  1               2              42               0   \n4                  1               2              42               0   \n...              ...             ...             ...             ...   \n5215               0               0               0               0   \n5216               0               0               0               0   \n5217               0               0               0               0   \n5218               0               0               0               0   \n5219               0               0               0               0   \n\n      end_java:S6213  end_java:S6244  end_java:S6353  end_java:S6355  \\\n0                106               1               0               0   \n1                106               1               0               0   \n2                106               1               0               0   \n3                106               1               0               0   \n4                106               1               0               0   \n...              ...             ...             ...             ...   \n5215               0               0               0               0   \n5216               0               0               0               0   \n5217               0               0               0               0   \n5218               3               0               0               0   \n5219               1               0               0               0   \n\n      time_binary  \n0               0  \n1               1  \n2               0  \n3               1  \n4               0  \n...           ...  \n5215            0  \n5216            0  \n5217            0  \n5218            1  \n5219            0  \n\n[5208 rows x 322 columns]",
      "text/html": "<div>\n<style scoped>\n    .dataframe tbody tr th:only-of-type {\n        vertical-align: middle;\n    }\n\n    .dataframe tbody tr th {\n        vertical-align: top;\n    }\n\n    .dataframe thead th {\n        text-align: right;\n    }\n</style>\n<table border=\"1\" class=\"dataframe\">\n  <thead>\n    <tr style=\"text-align: right;\">\n      <th></th>\n      <th>begin_sha</th>\n      <th>end_sha</th>\n      <th>commits</th>\n      <th>additions</th>\n      <th>deletions</th>\n      <th>changed_files</th>\n      <th>total_time</th>\n      <th>begin_time</th>\n      <th>begin_key</th>\n      <th>begin_revision</th>\n      <th>...</th>\n      <th>end_java:S5413</th>\n      <th>end_java:S5803</th>\n      <th>end_java:S5869</th>\n      <th>end_java:S5993</th>\n      <th>end_java:S6202</th>\n      <th>end_java:S6213</th>\n      <th>end_java:S6244</th>\n      <th>end_java:S6353</th>\n      <th>end_java:S6355</th>\n      <th>time_binary</th>\n    </tr>\n  </thead>\n  <tbody>\n    <tr>\n      <th>0</th>\n      <td>c203ef5f8d6ad8bfb7f284e32a9ce5f2bc1fe142</td>\n      <td>4d429cab55482986b4d8a24c699d315631c8242a</td>\n      <td>1</td>\n      <td>64</td>\n      <td>1</td>\n      <td>1</td>\n      <td>0 days 00:33:23</td>\n      <td>2023-06-06T08:28:39Z</td>\n      <td>seatunnel-c203ef5f8d6ad8bfb7f284e32a9ce5f2bc1f...</td>\n      <td>c203ef5f8d6ad8bfb7f284e32a9ce5f2bc1fe142</td>\n      <td>...</td>\n      <td>0</td>\n      <td>1</td>\n      <td>2</td>\n      <td>42</td>\n      <td>0</td>\n      <td>106</td>\n      <td>1</td>\n      <td>0</td>\n      <td>0</td>\n      <td>0</td>\n    </tr>\n    <tr>\n      <th>1</th>\n      <td>c203ef5f8d6ad8bfb7f284e32a9ce5f2bc1fe142</td>\n      <td>4d429cab55482986b4d8a24c699d315631c8242a</td>\n      <td>1</td>\n      <td>64</td>\n      <td>1</td>\n      <td>1</td>\n      <td>4 days 01:38:20</td>\n      <td>2023-06-02T07:23:42Z</td>\n      <td>seatunnel-c203ef5f8d6ad8bfb7f284e32a9ce5f2bc1f...</td>\n      <td>c203ef5f8d6ad8bfb7f284e32a9ce5f2bc1fe142</td>\n      <td>...</td>\n      <td>0</td>\n      <td>1</td>\n      <td>2</td>\n      <td>42</td>\n      <td>0</td>\n      <td>106</td>\n      <td>1</td>\n      <td>0</td>\n      <td>0</td>\n      <td>1</td>\n    </tr>\n    <tr>\n      <th>2</th>\n      <td>c203ef5f8d6ad8bfb7f284e32a9ce5f2bc1fe142</td>\n      <td>c30a2a1b1c989d71082e7d501752f0d2d2c3601f</td>\n      <td>2</td>\n      <td>11</td>\n      <td>19</td>\n      <td>3</td>\n      <td>0 days 00:32:03</td>\n      <td>2023-06-06T08:28:39Z</td>\n      <td>seatunnel-c203ef5f8d6ad8bfb7f284e32a9ce5f2bc1f...</td>\n      <td>c203ef5f8d6ad8bfb7f284e32a9ce5f2bc1fe142</td>\n      <td>...</td>\n      <td>0</td>\n      <td>1</td>\n      <td>2</td>\n      <td>42</td>\n      <td>0</td>\n      <td>106</td>\n      <td>1</td>\n      <td>0</td>\n      <td>0</td>\n      <td>0</td>\n    </tr>\n    <tr>\n      <th>3</th>\n      <td>c203ef5f8d6ad8bfb7f284e32a9ce5f2bc1fe142</td>\n      <td>c30a2a1b1c989d71082e7d501752f0d2d2c3601f</td>\n      <td>2</td>\n      <td>11</td>\n      <td>19</td>\n      <td>3</td>\n      <td>4 days 01:37:00</td>\n      <td>2023-06-02T07:23:42Z</td>\n      <td>seatunnel-c203ef5f8d6ad8bfb7f284e32a9ce5f2bc1f...</td>\n      <td>c203ef5f8d6ad8bfb7f284e32a9ce5f2bc1fe142</td>\n      <td>...</td>\n      <td>0</td>\n      <td>1</td>\n      <td>2</td>\n      <td>42</td>\n      <td>0</td>\n      <td>106</td>\n      <td>1</td>\n      <td>0</td>\n      <td>0</td>\n      <td>1</td>\n    </tr>\n    <tr>\n      <th>4</th>\n      <td>bde19b6377f7b2fb7a34b94bd06d6ce0cc44f348</td>\n      <td>c7745e63373c0fc92884982844bf55e22dd38af5</td>\n      <td>1</td>\n      <td>6</td>\n      <td>2</td>\n      <td>1</td>\n      <td>0 days 17:17:51</td>\n      <td>2023-06-05T08:59:42Z</td>\n      <td>seatunnel-bde19b6377f7b2fb7a34b94bd06d6ce0cc44...</td>\n      <td>bde19b6377f7b2fb7a34b94bd06d6ce0cc44f348</td>\n      <td>...</td>\n      <td>0</td>\n      <td>1</td>\n      <td>2</td>\n      <td>42</td>\n      <td>0</td>\n      <td>106</td>\n      <td>1</td>\n      <td>0</td>\n      <td>0</td>\n      <td>0</td>\n    </tr>\n    <tr>\n      <th>...</th>\n      <td>...</td>\n      <td>...</td>\n      <td>...</td>\n      <td>...</td>\n      <td>...</td>\n      <td>...</td>\n      <td>...</td>\n      <td>...</td>\n      <td>...</td>\n      <td>...</td>\n      <td>...</td>\n      <td>...</td>\n      <td>...</td>\n      <td>...</td>\n      <td>...</td>\n      <td>...</td>\n      <td>...</td>\n      <td>...</td>\n      <td>...</td>\n      <td>...</td>\n      <td>...</td>\n    </tr>\n    <tr>\n      <th>5215</th>\n      <td>04addef64bbd2567d47acbb7f434245fba7ac8a5</td>\n      <td>3b6a8b4058593b1ff11c44560ebcc56142cda830</td>\n      <td>1</td>\n      <td>11</td>\n      <td>1128</td>\n      <td>27</td>\n      <td>0 days 00:33:35</td>\n      <td>2019-08-13T15:14:02Z</td>\n      <td>seatunnel-04addef64bbd2567d47acbb7f434245fba7a...</td>\n      <td>04addef64bbd2567d47acbb7f434245fba7ac8a5</td>\n      <td>...</td>\n      <td>0</td>\n      <td>0</td>\n      <td>0</td>\n      <td>0</td>\n      <td>0</td>\n      <td>0</td>\n      <td>0</td>\n      <td>0</td>\n      <td>0</td>\n      <td>0</td>\n    </tr>\n    <tr>\n      <th>5216</th>\n      <td>79339df3455c88ba606847d79b3b3a1682c97a67</td>\n      <td>04addef64bbd2567d47acbb7f434245fba7ac8a5</td>\n      <td>1</td>\n      <td>36</td>\n      <td>0</td>\n      <td>1</td>\n      <td>0 days 00:09:14</td>\n      <td>2019-08-13T02:16:57Z</td>\n      <td>seatunnel-79339df3455c88ba606847d79b3b3a1682c9...</td>\n      <td>79339df3455c88ba606847d79b3b3a1682c97a67</td>\n      <td>...</td>\n      <td>0</td>\n      <td>0</td>\n      <td>0</td>\n      <td>0</td>\n      <td>0</td>\n      <td>0</td>\n      <td>0</td>\n      <td>0</td>\n      <td>0</td>\n      <td>0</td>\n    </tr>\n    <tr>\n      <th>5217</th>\n      <td>a475a8082b030af51a03e61457ed78b7cf17ab56</td>\n      <td>a26d21b7d28704facbfbbecfb501b958dd59d826</td>\n      <td>6</td>\n      <td>997</td>\n      <td>1045</td>\n      <td>81</td>\n      <td>0 days 23:14:31</td>\n      <td>2019-08-13T01:54:31Z</td>\n      <td>seatunnel-a475a8082b030af51a03e61457ed78b7cf17...</td>\n      <td>a475a8082b030af51a03e61457ed78b7cf17ab56</td>\n      <td>...</td>\n      <td>0</td>\n      <td>0</td>\n      <td>0</td>\n      <td>0</td>\n      <td>0</td>\n      <td>0</td>\n      <td>0</td>\n      <td>0</td>\n      <td>0</td>\n      <td>0</td>\n    </tr>\n    <tr>\n      <th>5218</th>\n      <td>96d0637c8471ec9370f15a522db0b23ff5dc7669</td>\n      <td>5fa746466941d871d4b1246b451f398416952541</td>\n      <td>14</td>\n      <td>964</td>\n      <td>122</td>\n      <td>64</td>\n      <td>31 days 01:05:35</td>\n      <td>2019-08-10T13:15:19Z</td>\n      <td>seatunnel-96d0637c8471ec9370f15a522db0b23ff5dc...</td>\n      <td>96d0637c8471ec9370f15a522db0b23ff5dc7669</td>\n      <td>...</td>\n      <td>0</td>\n      <td>0</td>\n      <td>0</td>\n      <td>0</td>\n      <td>0</td>\n      <td>3</td>\n      <td>0</td>\n      <td>0</td>\n      <td>0</td>\n      <td>1</td>\n    </tr>\n    <tr>\n      <th>5219</th>\n      <td>b35ec02811bf7ef58bc8d831418c468ecc0a36b6</td>\n      <td>305ec511da05ba519fe4b04b46f7898b650b06c5</td>\n      <td>1</td>\n      <td>97</td>\n      <td>28</td>\n      <td>56</td>\n      <td>0 days 17:01:00</td>\n      <td>2019-07-19T10:36:13Z</td>\n      <td>seatunnel-b35ec02811bf7ef58bc8d831418c468ecc0a...</td>\n      <td>b35ec02811bf7ef58bc8d831418c468ecc0a36b6</td>\n      <td>...</td>\n      <td>0</td>\n      <td>0</td>\n      <td>0</td>\n      <td>0</td>\n      <td>0</td>\n      <td>1</td>\n      <td>0</td>\n      <td>0</td>\n      <td>0</td>\n      <td>0</td>\n    </tr>\n  </tbody>\n</table>\n<p>5208 rows × 322 columns</p>\n</div>"
     },
     "execution_count": 10,
     "metadata": {},
     "output_type": "execute_result"
    }
   ],
   "source": [
    "df"
   ]
  },
  {
   "cell_type": "code",
   "execution_count": 11,
   "metadata": {
    "ExecuteTime": {
     "end_time": "2023-06-27T05:34:57.436234300Z",
     "start_time": "2023-06-27T05:34:57.379499500Z"
    }
   },
   "outputs": [],
   "source": [
    "X = df.loc[:, ~df.columns.isin(['time_binary', 'total_time' ,'begin_sha', 'end_sha', 'begin_time' , 'begin_key', 'begin_revision', 'end_time', 'end_key', 'end_revision'])]\n",
    "y = df['time_binary']"
   ]
  },
  {
   "cell_type": "code",
   "execution_count": 12,
   "metadata": {
    "ExecuteTime": {
     "end_time": "2023-06-27T05:34:57.500429200Z",
     "start_time": "2023-06-27T05:34:57.409368500Z"
    }
   },
   "outputs": [
    {
     "data": {
      "text/plain": "      commits  additions  deletions  changed_files  begin_java:S100  \\\n0           1         64          1              1                0   \n1           1         64          1              1                0   \n2           2         11         19              3                0   \n3           2         11         19              3                0   \n4           1          6          2              1                0   \n...       ...        ...        ...            ...              ...   \n5215        1         11       1128             27                0   \n5216        1         36          0              1                0   \n5217        6        997       1045             81                0   \n5218       14        964        122             64                0   \n5219        1         97         28             56                0   \n\n      begin_java:S101  begin_java:S106  begin_java:S1066  begin_java:S1068  \\\n0                   0                8                16                64   \n1                   0                8                16                64   \n2                   0                8                16                64   \n3                   0                8                16                64   \n4                   0                8                16                64   \n...               ...              ...               ...               ...   \n5215                0                0                 0                 2   \n5216                0                0                 0                 2   \n5217                0                0                 0                 0   \n5218                0                1                 0                 0   \n5219                0                0                 0                 0   \n\n      begin_java:S107  ...  end_java:S5411  end_java:S5413  end_java:S5803  \\\n0                  27  ...              13               0               1   \n1                  27  ...              13               0               1   \n2                  27  ...              13               0               1   \n3                  27  ...              13               0               1   \n4                  27  ...              13               0               1   \n...               ...  ...             ...             ...             ...   \n5215                0  ...               0               0               0   \n5216                0  ...               0               0               0   \n5217                0  ...               0               0               0   \n5218                0  ...               0               0               0   \n5219                0  ...               0               0               0   \n\n      end_java:S5869  end_java:S5993  end_java:S6202  end_java:S6213  \\\n0                  2              42               0             106   \n1                  2              42               0             106   \n2                  2              42               0             106   \n3                  2              42               0             106   \n4                  2              42               0             106   \n...              ...             ...             ...             ...   \n5215               0               0               0               0   \n5216               0               0               0               0   \n5217               0               0               0               0   \n5218               0               0               0               3   \n5219               0               0               0               1   \n\n      end_java:S6244  end_java:S6353  end_java:S6355  \n0                  1               0               0  \n1                  1               0               0  \n2                  1               0               0  \n3                  1               0               0  \n4                  1               0               0  \n...              ...             ...             ...  \n5215               0               0               0  \n5216               0               0               0  \n5217               0               0               0  \n5218               0               0               0  \n5219               0               0               0  \n\n[5208 rows x 312 columns]",
      "text/html": "<div>\n<style scoped>\n    .dataframe tbody tr th:only-of-type {\n        vertical-align: middle;\n    }\n\n    .dataframe tbody tr th {\n        vertical-align: top;\n    }\n\n    .dataframe thead th {\n        text-align: right;\n    }\n</style>\n<table border=\"1\" class=\"dataframe\">\n  <thead>\n    <tr style=\"text-align: right;\">\n      <th></th>\n      <th>commits</th>\n      <th>additions</th>\n      <th>deletions</th>\n      <th>changed_files</th>\n      <th>begin_java:S100</th>\n      <th>begin_java:S101</th>\n      <th>begin_java:S106</th>\n      <th>begin_java:S1066</th>\n      <th>begin_java:S1068</th>\n      <th>begin_java:S107</th>\n      <th>...</th>\n      <th>end_java:S5411</th>\n      <th>end_java:S5413</th>\n      <th>end_java:S5803</th>\n      <th>end_java:S5869</th>\n      <th>end_java:S5993</th>\n      <th>end_java:S6202</th>\n      <th>end_java:S6213</th>\n      <th>end_java:S6244</th>\n      <th>end_java:S6353</th>\n      <th>end_java:S6355</th>\n    </tr>\n  </thead>\n  <tbody>\n    <tr>\n      <th>0</th>\n      <td>1</td>\n      <td>64</td>\n      <td>1</td>\n      <td>1</td>\n      <td>0</td>\n      <td>0</td>\n      <td>8</td>\n      <td>16</td>\n      <td>64</td>\n      <td>27</td>\n      <td>...</td>\n      <td>13</td>\n      <td>0</td>\n      <td>1</td>\n      <td>2</td>\n      <td>42</td>\n      <td>0</td>\n      <td>106</td>\n      <td>1</td>\n      <td>0</td>\n      <td>0</td>\n    </tr>\n    <tr>\n      <th>1</th>\n      <td>1</td>\n      <td>64</td>\n      <td>1</td>\n      <td>1</td>\n      <td>0</td>\n      <td>0</td>\n      <td>8</td>\n      <td>16</td>\n      <td>64</td>\n      <td>27</td>\n      <td>...</td>\n      <td>13</td>\n      <td>0</td>\n      <td>1</td>\n      <td>2</td>\n      <td>42</td>\n      <td>0</td>\n      <td>106</td>\n      <td>1</td>\n      <td>0</td>\n      <td>0</td>\n    </tr>\n    <tr>\n      <th>2</th>\n      <td>2</td>\n      <td>11</td>\n      <td>19</td>\n      <td>3</td>\n      <td>0</td>\n      <td>0</td>\n      <td>8</td>\n      <td>16</td>\n      <td>64</td>\n      <td>27</td>\n      <td>...</td>\n      <td>13</td>\n      <td>0</td>\n      <td>1</td>\n      <td>2</td>\n      <td>42</td>\n      <td>0</td>\n      <td>106</td>\n      <td>1</td>\n      <td>0</td>\n      <td>0</td>\n    </tr>\n    <tr>\n      <th>3</th>\n      <td>2</td>\n      <td>11</td>\n      <td>19</td>\n      <td>3</td>\n      <td>0</td>\n      <td>0</td>\n      <td>8</td>\n      <td>16</td>\n      <td>64</td>\n      <td>27</td>\n      <td>...</td>\n      <td>13</td>\n      <td>0</td>\n      <td>1</td>\n      <td>2</td>\n      <td>42</td>\n      <td>0</td>\n      <td>106</td>\n      <td>1</td>\n      <td>0</td>\n      <td>0</td>\n    </tr>\n    <tr>\n      <th>4</th>\n      <td>1</td>\n      <td>6</td>\n      <td>2</td>\n      <td>1</td>\n      <td>0</td>\n      <td>0</td>\n      <td>8</td>\n      <td>16</td>\n      <td>64</td>\n      <td>27</td>\n      <td>...</td>\n      <td>13</td>\n      <td>0</td>\n      <td>1</td>\n      <td>2</td>\n      <td>42</td>\n      <td>0</td>\n      <td>106</td>\n      <td>1</td>\n      <td>0</td>\n      <td>0</td>\n    </tr>\n    <tr>\n      <th>...</th>\n      <td>...</td>\n      <td>...</td>\n      <td>...</td>\n      <td>...</td>\n      <td>...</td>\n      <td>...</td>\n      <td>...</td>\n      <td>...</td>\n      <td>...</td>\n      <td>...</td>\n      <td>...</td>\n      <td>...</td>\n      <td>...</td>\n      <td>...</td>\n      <td>...</td>\n      <td>...</td>\n      <td>...</td>\n      <td>...</td>\n      <td>...</td>\n      <td>...</td>\n      <td>...</td>\n    </tr>\n    <tr>\n      <th>5215</th>\n      <td>1</td>\n      <td>11</td>\n      <td>1128</td>\n      <td>27</td>\n      <td>0</td>\n      <td>0</td>\n      <td>0</td>\n      <td>0</td>\n      <td>2</td>\n      <td>0</td>\n      <td>...</td>\n      <td>0</td>\n      <td>0</td>\n      <td>0</td>\n      <td>0</td>\n      <td>0</td>\n      <td>0</td>\n      <td>0</td>\n      <td>0</td>\n      <td>0</td>\n      <td>0</td>\n    </tr>\n    <tr>\n      <th>5216</th>\n      <td>1</td>\n      <td>36</td>\n      <td>0</td>\n      <td>1</td>\n      <td>0</td>\n      <td>0</td>\n      <td>0</td>\n      <td>0</td>\n      <td>2</td>\n      <td>0</td>\n      <td>...</td>\n      <td>0</td>\n      <td>0</td>\n      <td>0</td>\n      <td>0</td>\n      <td>0</td>\n      <td>0</td>\n      <td>0</td>\n      <td>0</td>\n      <td>0</td>\n      <td>0</td>\n    </tr>\n    <tr>\n      <th>5217</th>\n      <td>6</td>\n      <td>997</td>\n      <td>1045</td>\n      <td>81</td>\n      <td>0</td>\n      <td>0</td>\n      <td>0</td>\n      <td>0</td>\n      <td>0</td>\n      <td>0</td>\n      <td>...</td>\n      <td>0</td>\n      <td>0</td>\n      <td>0</td>\n      <td>0</td>\n      <td>0</td>\n      <td>0</td>\n      <td>0</td>\n      <td>0</td>\n      <td>0</td>\n      <td>0</td>\n    </tr>\n    <tr>\n      <th>5218</th>\n      <td>14</td>\n      <td>964</td>\n      <td>122</td>\n      <td>64</td>\n      <td>0</td>\n      <td>0</td>\n      <td>1</td>\n      <td>0</td>\n      <td>0</td>\n      <td>0</td>\n      <td>...</td>\n      <td>0</td>\n      <td>0</td>\n      <td>0</td>\n      <td>0</td>\n      <td>0</td>\n      <td>0</td>\n      <td>3</td>\n      <td>0</td>\n      <td>0</td>\n      <td>0</td>\n    </tr>\n    <tr>\n      <th>5219</th>\n      <td>1</td>\n      <td>97</td>\n      <td>28</td>\n      <td>56</td>\n      <td>0</td>\n      <td>0</td>\n      <td>0</td>\n      <td>0</td>\n      <td>0</td>\n      <td>0</td>\n      <td>...</td>\n      <td>0</td>\n      <td>0</td>\n      <td>0</td>\n      <td>0</td>\n      <td>0</td>\n      <td>0</td>\n      <td>1</td>\n      <td>0</td>\n      <td>0</td>\n      <td>0</td>\n    </tr>\n  </tbody>\n</table>\n<p>5208 rows × 312 columns</p>\n</div>"
     },
     "execution_count": 12,
     "metadata": {},
     "output_type": "execute_result"
    }
   ],
   "source": [
    "X"
   ]
  },
  {
   "cell_type": "code",
   "execution_count": 13,
   "metadata": {
    "ExecuteTime": {
     "end_time": "2023-06-27T05:34:57.500429200Z",
     "start_time": "2023-06-27T05:34:57.443771Z"
    }
   },
   "outputs": [
    {
     "data": {
      "text/plain": "0       0\n1       1\n2       0\n3       1\n4       0\n       ..\n5215    0\n5216    0\n5217    0\n5218    1\n5219    0\nName: time_binary, Length: 5208, dtype: int64"
     },
     "execution_count": 13,
     "metadata": {},
     "output_type": "execute_result"
    }
   ],
   "source": [
    "y"
   ]
  },
  {
   "cell_type": "code",
   "execution_count": 14,
   "metadata": {
    "ExecuteTime": {
     "end_time": "2023-06-27T05:34:57.501428900Z",
     "start_time": "2023-06-27T05:34:57.459717400Z"
    }
   },
   "outputs": [],
   "source": [
    "X_train, X_test = X[:30], X[30:]\n",
    "y_train, y_test = y[:30], y[30:]"
   ]
  },
  {
   "cell_type": "code",
   "execution_count": 31,
   "outputs": [
    {
     "data": {
      "text/plain": "    commits  additions  deletions  changed_files  begin_java:S100  \\\n0         1         64          1              1                0   \n1         1         64          1              1                0   \n2         2         11         19              3                0   \n3         2         11         19              3                0   \n4         1          6          2              1                0   \n5         1          7          7              1                0   \n6         1          7          7              1                0   \n7         1          7          7              1                0   \n8         1          3          2              1                0   \n9         1          3          2              1                0   \n10        1          3          2              1                0   \n11        1          1          0              1                0   \n12        1          1          0              1                0   \n13        1          1          0              1                0   \n14        1         10          4              3                0   \n15        1         10          4              3                0   \n16        1         10          4              3                0   \n17        1         10          4              3                0   \n18        1         10          4              3                0   \n19        1         10          4              3                0   \n20        1          2          1              1                0   \n21        1          2          1              1                0   \n22        1          2          1              1                0   \n23        1          2          1              1                0   \n24        1          2          1              1                0   \n25        1          2          1              1                0   \n26        1         36         67              9                0   \n27        1         36         67              9                0   \n28        1         36         67              9                0   \n29        1         36         67              9                0   \n\n    begin_java:S101  begin_java:S106  begin_java:S1066  begin_java:S1068  \\\n0                 0                8                16                64   \n1                 0                8                16                64   \n2                 0                8                16                64   \n3                 0                8                16                64   \n4                 0                8                16                64   \n5                 0                8                16                64   \n6                 0                8                16                64   \n7                 0                8                16                64   \n8                 0                8                16                64   \n9                 0                8                16                64   \n10                0                8                16                64   \n11                0                8                16                64   \n12                0                8                16                64   \n13                0                8                16                64   \n14                0                8                16                64   \n15                0                8                16                64   \n16                0                8                16                64   \n17                0                8                16                64   \n18                0                8                16                64   \n19                0                8                16                64   \n20                0                8                16                64   \n21                0                8                16                64   \n22                0                8                16                64   \n23                0                8                16                64   \n24                0                8                16                64   \n25                0                8                16                64   \n26                0                8                16                64   \n27                0                8                16                64   \n28                0                8                16                64   \n29                0                8                16                64   \n\n    begin_java:S107  ...  end_java:S5411  end_java:S5413  end_java:S5803  \\\n0                27  ...              13               0               1   \n1                27  ...              13               0               1   \n2                27  ...              13               0               1   \n3                27  ...              13               0               1   \n4                27  ...              13               0               1   \n5                26  ...              13               0               1   \n6                26  ...              13               0               1   \n7                26  ...              13               0               1   \n8                26  ...              13               0               1   \n9                26  ...              13               0               1   \n10               26  ...              13               0               1   \n11               26  ...              13               0               1   \n12               26  ...              13               0               1   \n13               26  ...              13               0               1   \n14               26  ...              13               0               1   \n15               26  ...              13               0               1   \n16               26  ...              13               0               1   \n17               26  ...              13               0               1   \n18               26  ...              13               0               1   \n19               26  ...              13               0               1   \n20               26  ...              13               0               1   \n21               26  ...              13               0               1   \n22               26  ...              13               0               1   \n23               26  ...              13               0               1   \n24               26  ...              13               0               1   \n25               26  ...              13               0               1   \n26               26  ...              13               0               1   \n27               26  ...              13               0               1   \n28               26  ...              13               0               1   \n29               26  ...              13               0               1   \n\n    end_java:S5869  end_java:S5993  end_java:S6202  end_java:S6213  \\\n0                2              42               0             106   \n1                2              42               0             106   \n2                2              42               0             106   \n3                2              42               0             106   \n4                2              42               0             106   \n5                2              42               0             106   \n6                2              42               0             106   \n7                2              42               0             106   \n8                2              42               0             106   \n9                2              42               0             106   \n10               2              42               0             106   \n11               2              42               0             106   \n12               2              42               0             106   \n13               2              42               0             106   \n14               2              42               0             106   \n15               2              42               0             106   \n16               2              42               0             106   \n17               2              42               0             106   \n18               2              42               0             106   \n19               2              42               0             106   \n20               2              42               0             106   \n21               2              42               0             106   \n22               2              42               0             106   \n23               2              42               0             106   \n24               2              42               0             106   \n25               2              42               0             106   \n26               2              42               0             106   \n27               2              42               0             106   \n28               2              42               0             106   \n29               2              42               0             106   \n\n    end_java:S6244  end_java:S6353  end_java:S6355  \n0                1               0               0  \n1                1               0               0  \n2                1               0               0  \n3                1               0               0  \n4                1               0               0  \n5                1               0               0  \n6                1               0               0  \n7                1               0               0  \n8                1               0               0  \n9                1               0               0  \n10               1               0               0  \n11               1               0               0  \n12               1               0               0  \n13               1               0               0  \n14               1               0               0  \n15               1               0               0  \n16               1               0               0  \n17               1               0               0  \n18               1               0               0  \n19               1               0               0  \n20               1               0               0  \n21               1               0               0  \n22               1               0               0  \n23               1               0               0  \n24               1               0               0  \n25               1               0               0  \n26               1               0               0  \n27               1               0               0  \n28               1               0               0  \n29               1               0               0  \n\n[30 rows x 312 columns]",
      "text/html": "<div>\n<style scoped>\n    .dataframe tbody tr th:only-of-type {\n        vertical-align: middle;\n    }\n\n    .dataframe tbody tr th {\n        vertical-align: top;\n    }\n\n    .dataframe thead th {\n        text-align: right;\n    }\n</style>\n<table border=\"1\" class=\"dataframe\">\n  <thead>\n    <tr style=\"text-align: right;\">\n      <th></th>\n      <th>commits</th>\n      <th>additions</th>\n      <th>deletions</th>\n      <th>changed_files</th>\n      <th>begin_java:S100</th>\n      <th>begin_java:S101</th>\n      <th>begin_java:S106</th>\n      <th>begin_java:S1066</th>\n      <th>begin_java:S1068</th>\n      <th>begin_java:S107</th>\n      <th>...</th>\n      <th>end_java:S5411</th>\n      <th>end_java:S5413</th>\n      <th>end_java:S5803</th>\n      <th>end_java:S5869</th>\n      <th>end_java:S5993</th>\n      <th>end_java:S6202</th>\n      <th>end_java:S6213</th>\n      <th>end_java:S6244</th>\n      <th>end_java:S6353</th>\n      <th>end_java:S6355</th>\n    </tr>\n  </thead>\n  <tbody>\n    <tr>\n      <th>0</th>\n      <td>1</td>\n      <td>64</td>\n      <td>1</td>\n      <td>1</td>\n      <td>0</td>\n      <td>0</td>\n      <td>8</td>\n      <td>16</td>\n      <td>64</td>\n      <td>27</td>\n      <td>...</td>\n      <td>13</td>\n      <td>0</td>\n      <td>1</td>\n      <td>2</td>\n      <td>42</td>\n      <td>0</td>\n      <td>106</td>\n      <td>1</td>\n      <td>0</td>\n      <td>0</td>\n    </tr>\n    <tr>\n      <th>1</th>\n      <td>1</td>\n      <td>64</td>\n      <td>1</td>\n      <td>1</td>\n      <td>0</td>\n      <td>0</td>\n      <td>8</td>\n      <td>16</td>\n      <td>64</td>\n      <td>27</td>\n      <td>...</td>\n      <td>13</td>\n      <td>0</td>\n      <td>1</td>\n      <td>2</td>\n      <td>42</td>\n      <td>0</td>\n      <td>106</td>\n      <td>1</td>\n      <td>0</td>\n      <td>0</td>\n    </tr>\n    <tr>\n      <th>2</th>\n      <td>2</td>\n      <td>11</td>\n      <td>19</td>\n      <td>3</td>\n      <td>0</td>\n      <td>0</td>\n      <td>8</td>\n      <td>16</td>\n      <td>64</td>\n      <td>27</td>\n      <td>...</td>\n      <td>13</td>\n      <td>0</td>\n      <td>1</td>\n      <td>2</td>\n      <td>42</td>\n      <td>0</td>\n      <td>106</td>\n      <td>1</td>\n      <td>0</td>\n      <td>0</td>\n    </tr>\n    <tr>\n      <th>3</th>\n      <td>2</td>\n      <td>11</td>\n      <td>19</td>\n      <td>3</td>\n      <td>0</td>\n      <td>0</td>\n      <td>8</td>\n      <td>16</td>\n      <td>64</td>\n      <td>27</td>\n      <td>...</td>\n      <td>13</td>\n      <td>0</td>\n      <td>1</td>\n      <td>2</td>\n      <td>42</td>\n      <td>0</td>\n      <td>106</td>\n      <td>1</td>\n      <td>0</td>\n      <td>0</td>\n    </tr>\n    <tr>\n      <th>4</th>\n      <td>1</td>\n      <td>6</td>\n      <td>2</td>\n      <td>1</td>\n      <td>0</td>\n      <td>0</td>\n      <td>8</td>\n      <td>16</td>\n      <td>64</td>\n      <td>27</td>\n      <td>...</td>\n      <td>13</td>\n      <td>0</td>\n      <td>1</td>\n      <td>2</td>\n      <td>42</td>\n      <td>0</td>\n      <td>106</td>\n      <td>1</td>\n      <td>0</td>\n      <td>0</td>\n    </tr>\n    <tr>\n      <th>5</th>\n      <td>1</td>\n      <td>7</td>\n      <td>7</td>\n      <td>1</td>\n      <td>0</td>\n      <td>0</td>\n      <td>8</td>\n      <td>16</td>\n      <td>64</td>\n      <td>26</td>\n      <td>...</td>\n      <td>13</td>\n      <td>0</td>\n      <td>1</td>\n      <td>2</td>\n      <td>42</td>\n      <td>0</td>\n      <td>106</td>\n      <td>1</td>\n      <td>0</td>\n      <td>0</td>\n    </tr>\n    <tr>\n      <th>6</th>\n      <td>1</td>\n      <td>7</td>\n      <td>7</td>\n      <td>1</td>\n      <td>0</td>\n      <td>0</td>\n      <td>8</td>\n      <td>16</td>\n      <td>64</td>\n      <td>26</td>\n      <td>...</td>\n      <td>13</td>\n      <td>0</td>\n      <td>1</td>\n      <td>2</td>\n      <td>42</td>\n      <td>0</td>\n      <td>106</td>\n      <td>1</td>\n      <td>0</td>\n      <td>0</td>\n    </tr>\n    <tr>\n      <th>7</th>\n      <td>1</td>\n      <td>7</td>\n      <td>7</td>\n      <td>1</td>\n      <td>0</td>\n      <td>0</td>\n      <td>8</td>\n      <td>16</td>\n      <td>64</td>\n      <td>26</td>\n      <td>...</td>\n      <td>13</td>\n      <td>0</td>\n      <td>1</td>\n      <td>2</td>\n      <td>42</td>\n      <td>0</td>\n      <td>106</td>\n      <td>1</td>\n      <td>0</td>\n      <td>0</td>\n    </tr>\n    <tr>\n      <th>8</th>\n      <td>1</td>\n      <td>3</td>\n      <td>2</td>\n      <td>1</td>\n      <td>0</td>\n      <td>0</td>\n      <td>8</td>\n      <td>16</td>\n      <td>64</td>\n      <td>26</td>\n      <td>...</td>\n      <td>13</td>\n      <td>0</td>\n      <td>1</td>\n      <td>2</td>\n      <td>42</td>\n      <td>0</td>\n      <td>106</td>\n      <td>1</td>\n      <td>0</td>\n      <td>0</td>\n    </tr>\n    <tr>\n      <th>9</th>\n      <td>1</td>\n      <td>3</td>\n      <td>2</td>\n      <td>1</td>\n      <td>0</td>\n      <td>0</td>\n      <td>8</td>\n      <td>16</td>\n      <td>64</td>\n      <td>26</td>\n      <td>...</td>\n      <td>13</td>\n      <td>0</td>\n      <td>1</td>\n      <td>2</td>\n      <td>42</td>\n      <td>0</td>\n      <td>106</td>\n      <td>1</td>\n      <td>0</td>\n      <td>0</td>\n    </tr>\n    <tr>\n      <th>10</th>\n      <td>1</td>\n      <td>3</td>\n      <td>2</td>\n      <td>1</td>\n      <td>0</td>\n      <td>0</td>\n      <td>8</td>\n      <td>16</td>\n      <td>64</td>\n      <td>26</td>\n      <td>...</td>\n      <td>13</td>\n      <td>0</td>\n      <td>1</td>\n      <td>2</td>\n      <td>42</td>\n      <td>0</td>\n      <td>106</td>\n      <td>1</td>\n      <td>0</td>\n      <td>0</td>\n    </tr>\n    <tr>\n      <th>11</th>\n      <td>1</td>\n      <td>1</td>\n      <td>0</td>\n      <td>1</td>\n      <td>0</td>\n      <td>0</td>\n      <td>8</td>\n      <td>16</td>\n      <td>64</td>\n      <td>26</td>\n      <td>...</td>\n      <td>13</td>\n      <td>0</td>\n      <td>1</td>\n      <td>2</td>\n      <td>42</td>\n      <td>0</td>\n      <td>106</td>\n      <td>1</td>\n      <td>0</td>\n      <td>0</td>\n    </tr>\n    <tr>\n      <th>12</th>\n      <td>1</td>\n      <td>1</td>\n      <td>0</td>\n      <td>1</td>\n      <td>0</td>\n      <td>0</td>\n      <td>8</td>\n      <td>16</td>\n      <td>64</td>\n      <td>26</td>\n      <td>...</td>\n      <td>13</td>\n      <td>0</td>\n      <td>1</td>\n      <td>2</td>\n      <td>42</td>\n      <td>0</td>\n      <td>106</td>\n      <td>1</td>\n      <td>0</td>\n      <td>0</td>\n    </tr>\n    <tr>\n      <th>13</th>\n      <td>1</td>\n      <td>1</td>\n      <td>0</td>\n      <td>1</td>\n      <td>0</td>\n      <td>0</td>\n      <td>8</td>\n      <td>16</td>\n      <td>64</td>\n      <td>26</td>\n      <td>...</td>\n      <td>13</td>\n      <td>0</td>\n      <td>1</td>\n      <td>2</td>\n      <td>42</td>\n      <td>0</td>\n      <td>106</td>\n      <td>1</td>\n      <td>0</td>\n      <td>0</td>\n    </tr>\n    <tr>\n      <th>14</th>\n      <td>1</td>\n      <td>10</td>\n      <td>4</td>\n      <td>3</td>\n      <td>0</td>\n      <td>0</td>\n      <td>8</td>\n      <td>16</td>\n      <td>64</td>\n      <td>26</td>\n      <td>...</td>\n      <td>13</td>\n      <td>0</td>\n      <td>1</td>\n      <td>2</td>\n      <td>42</td>\n      <td>0</td>\n      <td>106</td>\n      <td>1</td>\n      <td>0</td>\n      <td>0</td>\n    </tr>\n    <tr>\n      <th>15</th>\n      <td>1</td>\n      <td>10</td>\n      <td>4</td>\n      <td>3</td>\n      <td>0</td>\n      <td>0</td>\n      <td>8</td>\n      <td>16</td>\n      <td>64</td>\n      <td>26</td>\n      <td>...</td>\n      <td>13</td>\n      <td>0</td>\n      <td>1</td>\n      <td>2</td>\n      <td>42</td>\n      <td>0</td>\n      <td>106</td>\n      <td>1</td>\n      <td>0</td>\n      <td>0</td>\n    </tr>\n    <tr>\n      <th>16</th>\n      <td>1</td>\n      <td>10</td>\n      <td>4</td>\n      <td>3</td>\n      <td>0</td>\n      <td>0</td>\n      <td>8</td>\n      <td>16</td>\n      <td>64</td>\n      <td>26</td>\n      <td>...</td>\n      <td>13</td>\n      <td>0</td>\n      <td>1</td>\n      <td>2</td>\n      <td>42</td>\n      <td>0</td>\n      <td>106</td>\n      <td>1</td>\n      <td>0</td>\n      <td>0</td>\n    </tr>\n    <tr>\n      <th>17</th>\n      <td>1</td>\n      <td>10</td>\n      <td>4</td>\n      <td>3</td>\n      <td>0</td>\n      <td>0</td>\n      <td>8</td>\n      <td>16</td>\n      <td>64</td>\n      <td>26</td>\n      <td>...</td>\n      <td>13</td>\n      <td>0</td>\n      <td>1</td>\n      <td>2</td>\n      <td>42</td>\n      <td>0</td>\n      <td>106</td>\n      <td>1</td>\n      <td>0</td>\n      <td>0</td>\n    </tr>\n    <tr>\n      <th>18</th>\n      <td>1</td>\n      <td>10</td>\n      <td>4</td>\n      <td>3</td>\n      <td>0</td>\n      <td>0</td>\n      <td>8</td>\n      <td>16</td>\n      <td>64</td>\n      <td>26</td>\n      <td>...</td>\n      <td>13</td>\n      <td>0</td>\n      <td>1</td>\n      <td>2</td>\n      <td>42</td>\n      <td>0</td>\n      <td>106</td>\n      <td>1</td>\n      <td>0</td>\n      <td>0</td>\n    </tr>\n    <tr>\n      <th>19</th>\n      <td>1</td>\n      <td>10</td>\n      <td>4</td>\n      <td>3</td>\n      <td>0</td>\n      <td>0</td>\n      <td>8</td>\n      <td>16</td>\n      <td>64</td>\n      <td>26</td>\n      <td>...</td>\n      <td>13</td>\n      <td>0</td>\n      <td>1</td>\n      <td>2</td>\n      <td>42</td>\n      <td>0</td>\n      <td>106</td>\n      <td>1</td>\n      <td>0</td>\n      <td>0</td>\n    </tr>\n    <tr>\n      <th>20</th>\n      <td>1</td>\n      <td>2</td>\n      <td>1</td>\n      <td>1</td>\n      <td>0</td>\n      <td>0</td>\n      <td>8</td>\n      <td>16</td>\n      <td>64</td>\n      <td>26</td>\n      <td>...</td>\n      <td>13</td>\n      <td>0</td>\n      <td>1</td>\n      <td>2</td>\n      <td>42</td>\n      <td>0</td>\n      <td>106</td>\n      <td>1</td>\n      <td>0</td>\n      <td>0</td>\n    </tr>\n    <tr>\n      <th>21</th>\n      <td>1</td>\n      <td>2</td>\n      <td>1</td>\n      <td>1</td>\n      <td>0</td>\n      <td>0</td>\n      <td>8</td>\n      <td>16</td>\n      <td>64</td>\n      <td>26</td>\n      <td>...</td>\n      <td>13</td>\n      <td>0</td>\n      <td>1</td>\n      <td>2</td>\n      <td>42</td>\n      <td>0</td>\n      <td>106</td>\n      <td>1</td>\n      <td>0</td>\n      <td>0</td>\n    </tr>\n    <tr>\n      <th>22</th>\n      <td>1</td>\n      <td>2</td>\n      <td>1</td>\n      <td>1</td>\n      <td>0</td>\n      <td>0</td>\n      <td>8</td>\n      <td>16</td>\n      <td>64</td>\n      <td>26</td>\n      <td>...</td>\n      <td>13</td>\n      <td>0</td>\n      <td>1</td>\n      <td>2</td>\n      <td>42</td>\n      <td>0</td>\n      <td>106</td>\n      <td>1</td>\n      <td>0</td>\n      <td>0</td>\n    </tr>\n    <tr>\n      <th>23</th>\n      <td>1</td>\n      <td>2</td>\n      <td>1</td>\n      <td>1</td>\n      <td>0</td>\n      <td>0</td>\n      <td>8</td>\n      <td>16</td>\n      <td>64</td>\n      <td>26</td>\n      <td>...</td>\n      <td>13</td>\n      <td>0</td>\n      <td>1</td>\n      <td>2</td>\n      <td>42</td>\n      <td>0</td>\n      <td>106</td>\n      <td>1</td>\n      <td>0</td>\n      <td>0</td>\n    </tr>\n    <tr>\n      <th>24</th>\n      <td>1</td>\n      <td>2</td>\n      <td>1</td>\n      <td>1</td>\n      <td>0</td>\n      <td>0</td>\n      <td>8</td>\n      <td>16</td>\n      <td>64</td>\n      <td>26</td>\n      <td>...</td>\n      <td>13</td>\n      <td>0</td>\n      <td>1</td>\n      <td>2</td>\n      <td>42</td>\n      <td>0</td>\n      <td>106</td>\n      <td>1</td>\n      <td>0</td>\n      <td>0</td>\n    </tr>\n    <tr>\n      <th>25</th>\n      <td>1</td>\n      <td>2</td>\n      <td>1</td>\n      <td>1</td>\n      <td>0</td>\n      <td>0</td>\n      <td>8</td>\n      <td>16</td>\n      <td>64</td>\n      <td>26</td>\n      <td>...</td>\n      <td>13</td>\n      <td>0</td>\n      <td>1</td>\n      <td>2</td>\n      <td>42</td>\n      <td>0</td>\n      <td>106</td>\n      <td>1</td>\n      <td>0</td>\n      <td>0</td>\n    </tr>\n    <tr>\n      <th>26</th>\n      <td>1</td>\n      <td>36</td>\n      <td>67</td>\n      <td>9</td>\n      <td>0</td>\n      <td>0</td>\n      <td>8</td>\n      <td>16</td>\n      <td>64</td>\n      <td>26</td>\n      <td>...</td>\n      <td>13</td>\n      <td>0</td>\n      <td>1</td>\n      <td>2</td>\n      <td>42</td>\n      <td>0</td>\n      <td>106</td>\n      <td>1</td>\n      <td>0</td>\n      <td>0</td>\n    </tr>\n    <tr>\n      <th>27</th>\n      <td>1</td>\n      <td>36</td>\n      <td>67</td>\n      <td>9</td>\n      <td>0</td>\n      <td>0</td>\n      <td>8</td>\n      <td>16</td>\n      <td>64</td>\n      <td>26</td>\n      <td>...</td>\n      <td>13</td>\n      <td>0</td>\n      <td>1</td>\n      <td>2</td>\n      <td>42</td>\n      <td>0</td>\n      <td>106</td>\n      <td>1</td>\n      <td>0</td>\n      <td>0</td>\n    </tr>\n    <tr>\n      <th>28</th>\n      <td>1</td>\n      <td>36</td>\n      <td>67</td>\n      <td>9</td>\n      <td>0</td>\n      <td>0</td>\n      <td>8</td>\n      <td>16</td>\n      <td>64</td>\n      <td>26</td>\n      <td>...</td>\n      <td>13</td>\n      <td>0</td>\n      <td>1</td>\n      <td>2</td>\n      <td>42</td>\n      <td>0</td>\n      <td>106</td>\n      <td>1</td>\n      <td>0</td>\n      <td>0</td>\n    </tr>\n    <tr>\n      <th>29</th>\n      <td>1</td>\n      <td>36</td>\n      <td>67</td>\n      <td>9</td>\n      <td>0</td>\n      <td>0</td>\n      <td>8</td>\n      <td>16</td>\n      <td>64</td>\n      <td>26</td>\n      <td>...</td>\n      <td>13</td>\n      <td>0</td>\n      <td>1</td>\n      <td>2</td>\n      <td>42</td>\n      <td>0</td>\n      <td>106</td>\n      <td>1</td>\n      <td>0</td>\n      <td>0</td>\n    </tr>\n  </tbody>\n</table>\n<p>30 rows × 312 columns</p>\n</div>"
     },
     "execution_count": 31,
     "metadata": {},
     "output_type": "execute_result"
    }
   ],
   "source": [
    "X_train"
   ],
   "metadata": {
    "collapsed": false,
    "ExecuteTime": {
     "end_time": "2023-06-27T07:33:08.119959700Z",
     "start_time": "2023-06-27T07:33:08.079598300Z"
    }
   }
  },
  {
   "cell_type": "code",
   "execution_count": 15,
   "metadata": {
    "ExecuteTime": {
     "end_time": "2023-06-27T05:34:57.501428900Z",
     "start_time": "2023-06-27T05:34:57.473324400Z"
    }
   },
   "outputs": [],
   "source": [
    "from sklearn.svm import SVC\n",
    "from sklearn.preprocessing import StandardScaler\n",
    "from sklearn.pipeline import make_pipeline\n",
    "clf = make_pipeline(StandardScaler(), SVC(gamma='auto' , random_state = 2))"
   ]
  },
  {
   "cell_type": "code",
   "execution_count": 16,
   "metadata": {
    "ExecuteTime": {
     "end_time": "2023-06-27T05:35:10.875674300Z",
     "start_time": "2023-06-27T05:34:57.490867900Z"
    }
   },
   "outputs": [
    {
     "data": {
      "text/plain": "array([0.29174664, 0.11900192, 0.0547025 , 0.27089337, 0.7079731 ])"
     },
     "execution_count": 16,
     "metadata": {},
     "output_type": "execute_result"
    }
   ],
   "source": [
    "from sklearn.model_selection import cross_val_score\n",
    "cross_val_score(clf , X , y , cv=5 , scoring= \"accuracy\")"
   ]
  },
  {
   "cell_type": "code",
   "execution_count": 17,
   "metadata": {
    "ExecuteTime": {
     "end_time": "2023-06-27T05:35:26.676954800Z",
     "start_time": "2023-06-27T05:35:10.876675200Z"
    }
   },
   "outputs": [
    {
     "data": {
      "text/plain": "array([1, 1, 1, ..., 0, 0, 0], dtype=int64)"
     },
     "execution_count": 17,
     "metadata": {},
     "output_type": "execute_result"
    }
   ],
   "source": [
    "from sklearn.metrics import confusion_matrix\n",
    "from sklearn.model_selection import cross_val_predict\n",
    "y_pred = cross_val_predict(clf,X,y,cv=5)\n",
    "y_pred"
   ]
  },
  {
   "cell_type": "code",
   "execution_count": 18,
   "metadata": {
    "ExecuteTime": {
     "end_time": "2023-06-27T05:35:26.708574800Z",
     "start_time": "2023-06-27T05:35:26.679955300Z"
    }
   },
   "outputs": [
    {
     "data": {
      "text/plain": "array([[1160, 2526],\n       [1178,  344]], dtype=int64)"
     },
     "execution_count": 18,
     "metadata": {},
     "output_type": "execute_result"
    }
   ],
   "source": [
    "confusion_matrix(y,y_pred)"
   ]
  },
  {
   "cell_type": "code",
   "execution_count": 19,
   "metadata": {
    "ExecuteTime": {
     "end_time": "2023-06-27T05:35:26.725184200Z",
     "start_time": "2023-06-27T05:35:26.696536600Z"
    }
   },
   "outputs": [
    {
     "name": "stdout",
     "output_type": "stream",
     "text": [
      "precision =  0.11986062717770035\n",
      "recall_score =  0.22601839684625494\n",
      "f1_score 0.15664845173041891\n"
     ]
    }
   ],
   "source": [
    "from sklearn.metrics import precision_score, recall_score, f1_score\n",
    "print('precision = ', precision_score(y,y_pred))\n",
    "print('recall_score = ', recall_score(y,y_pred))\n",
    "print('f1_score',f1_score(y,y_pred))"
   ]
  },
  {
   "cell_type": "code",
   "execution_count": 20,
   "metadata": {
    "ExecuteTime": {
     "end_time": "2023-06-27T05:35:26.785079700Z",
     "start_time": "2023-06-27T05:35:26.725184200Z"
    }
   },
   "outputs": [
    {
     "data": {
      "text/plain": "y         1522\ny_pred    2870\ndtype: int64"
     },
     "execution_count": 20,
     "metadata": {},
     "output_type": "execute_result"
    }
   ],
   "source": [
    "frame={\"y\":y,\"y_pred\": y_pred}\n",
    "pd.DataFrame(frame).sum()"
   ]
  },
  {
   "cell_type": "code",
   "execution_count": 21,
   "metadata": {
    "ExecuteTime": {
     "end_time": "2023-06-27T05:36:13.152890300Z",
     "start_time": "2023-06-27T05:35:26.742813300Z"
    }
   },
   "outputs": [
    {
     "data": {
      "text/plain": "GridSearchCV(cv=3, estimator=SVC(),\n             param_grid={'C': [0.01, 0.1, 1], 'gamma': ['scale', 'auto'],\n                         'random_state': [2]},\n             scoring='f1_macro')",
      "text/html": "<style>#sk-container-id-1 {color: black;background-color: white;}#sk-container-id-1 pre{padding: 0;}#sk-container-id-1 div.sk-toggleable {background-color: white;}#sk-container-id-1 label.sk-toggleable__label {cursor: pointer;display: block;width: 100%;margin-bottom: 0;padding: 0.3em;box-sizing: border-box;text-align: center;}#sk-container-id-1 label.sk-toggleable__label-arrow:before {content: \"▸\";float: left;margin-right: 0.25em;color: #696969;}#sk-container-id-1 label.sk-toggleable__label-arrow:hover:before {color: black;}#sk-container-id-1 div.sk-estimator:hover label.sk-toggleable__label-arrow:before {color: black;}#sk-container-id-1 div.sk-toggleable__content {max-height: 0;max-width: 0;overflow: hidden;text-align: left;background-color: #f0f8ff;}#sk-container-id-1 div.sk-toggleable__content pre {margin: 0.2em;color: black;border-radius: 0.25em;background-color: #f0f8ff;}#sk-container-id-1 input.sk-toggleable__control:checked~div.sk-toggleable__content {max-height: 200px;max-width: 100%;overflow: auto;}#sk-container-id-1 input.sk-toggleable__control:checked~label.sk-toggleable__label-arrow:before {content: \"▾\";}#sk-container-id-1 div.sk-estimator input.sk-toggleable__control:checked~label.sk-toggleable__label {background-color: #d4ebff;}#sk-container-id-1 div.sk-label input.sk-toggleable__control:checked~label.sk-toggleable__label {background-color: #d4ebff;}#sk-container-id-1 input.sk-hidden--visually {border: 0;clip: rect(1px 1px 1px 1px);clip: rect(1px, 1px, 1px, 1px);height: 1px;margin: -1px;overflow: hidden;padding: 0;position: absolute;width: 1px;}#sk-container-id-1 div.sk-estimator {font-family: monospace;background-color: #f0f8ff;border: 1px dotted black;border-radius: 0.25em;box-sizing: border-box;margin-bottom: 0.5em;}#sk-container-id-1 div.sk-estimator:hover {background-color: #d4ebff;}#sk-container-id-1 div.sk-parallel-item::after {content: \"\";width: 100%;border-bottom: 1px solid gray;flex-grow: 1;}#sk-container-id-1 div.sk-label:hover label.sk-toggleable__label {background-color: #d4ebff;}#sk-container-id-1 div.sk-serial::before {content: \"\";position: absolute;border-left: 1px solid gray;box-sizing: border-box;top: 0;bottom: 0;left: 50%;z-index: 0;}#sk-container-id-1 div.sk-serial {display: flex;flex-direction: column;align-items: center;background-color: white;padding-right: 0.2em;padding-left: 0.2em;position: relative;}#sk-container-id-1 div.sk-item {position: relative;z-index: 1;}#sk-container-id-1 div.sk-parallel {display: flex;align-items: stretch;justify-content: center;background-color: white;position: relative;}#sk-container-id-1 div.sk-item::before, #sk-container-id-1 div.sk-parallel-item::before {content: \"\";position: absolute;border-left: 1px solid gray;box-sizing: border-box;top: 0;bottom: 0;left: 50%;z-index: -1;}#sk-container-id-1 div.sk-parallel-item {display: flex;flex-direction: column;z-index: 1;position: relative;background-color: white;}#sk-container-id-1 div.sk-parallel-item:first-child::after {align-self: flex-end;width: 50%;}#sk-container-id-1 div.sk-parallel-item:last-child::after {align-self: flex-start;width: 50%;}#sk-container-id-1 div.sk-parallel-item:only-child::after {width: 0;}#sk-container-id-1 div.sk-dashed-wrapped {border: 1px dashed gray;margin: 0 0.4em 0.5em 0.4em;box-sizing: border-box;padding-bottom: 0.4em;background-color: white;}#sk-container-id-1 div.sk-label label {font-family: monospace;font-weight: bold;display: inline-block;line-height: 1.2em;}#sk-container-id-1 div.sk-label-container {text-align: center;}#sk-container-id-1 div.sk-container {/* jupyter's `normalize.less` sets `[hidden] { display: none; }` but bootstrap.min.css set `[hidden] { display: none !important; }` so we also need the `!important` here to be able to override the default hidden behavior on the sphinx rendered scikit-learn.org. See: https://github.com/scikit-learn/scikit-learn/issues/21755 */display: inline-block !important;position: relative;}#sk-container-id-1 div.sk-text-repr-fallback {display: none;}</style><div id=\"sk-container-id-1\" class=\"sk-top-container\"><div class=\"sk-text-repr-fallback\"><pre>GridSearchCV(cv=3, estimator=SVC(),\n             param_grid={&#x27;C&#x27;: [0.01, 0.1, 1], &#x27;gamma&#x27;: [&#x27;scale&#x27;, &#x27;auto&#x27;],\n                         &#x27;random_state&#x27;: [2]},\n             scoring=&#x27;f1_macro&#x27;)</pre><b>In a Jupyter environment, please rerun this cell to show the HTML representation or trust the notebook. <br />On GitHub, the HTML representation is unable to render, please try loading this page with nbviewer.org.</b></div><div class=\"sk-container\" hidden><div class=\"sk-item sk-dashed-wrapped\"><div class=\"sk-label-container\"><div class=\"sk-label sk-toggleable\"><input class=\"sk-toggleable__control sk-hidden--visually\" id=\"sk-estimator-id-1\" type=\"checkbox\" ><label for=\"sk-estimator-id-1\" class=\"sk-toggleable__label sk-toggleable__label-arrow\">GridSearchCV</label><div class=\"sk-toggleable__content\"><pre>GridSearchCV(cv=3, estimator=SVC(),\n             param_grid={&#x27;C&#x27;: [0.01, 0.1, 1], &#x27;gamma&#x27;: [&#x27;scale&#x27;, &#x27;auto&#x27;],\n                         &#x27;random_state&#x27;: [2]},\n             scoring=&#x27;f1_macro&#x27;)</pre></div></div></div><div class=\"sk-parallel\"><div class=\"sk-parallel-item\"><div class=\"sk-item\"><div class=\"sk-label-container\"><div class=\"sk-label sk-toggleable\"><input class=\"sk-toggleable__control sk-hidden--visually\" id=\"sk-estimator-id-2\" type=\"checkbox\" ><label for=\"sk-estimator-id-2\" class=\"sk-toggleable__label sk-toggleable__label-arrow\">estimator: SVC</label><div class=\"sk-toggleable__content\"><pre>SVC()</pre></div></div></div><div class=\"sk-serial\"><div class=\"sk-item\"><div class=\"sk-estimator sk-toggleable\"><input class=\"sk-toggleable__control sk-hidden--visually\" id=\"sk-estimator-id-3\" type=\"checkbox\" ><label for=\"sk-estimator-id-3\" class=\"sk-toggleable__label sk-toggleable__label-arrow\">SVC</label><div class=\"sk-toggleable__content\"><pre>SVC()</pre></div></div></div></div></div></div></div></div></div></div>"
     },
     "execution_count": 21,
     "metadata": {},
     "output_type": "execute_result"
    }
   ],
   "source": [
    "from sklearn.model_selection import GridSearchCV\n",
    "\n",
    "parameters = {\n",
    "\n",
    "    'C': [0.01 , 0.1 ,1],\n",
    "    'gamma' : ['scale' , 'auto'],\n",
    "    'random_state':[2]\n",
    "\n",
    "}\n",
    "svc = SVC()\n",
    "clf = GridSearchCV(svc , parameters , cv=3 , scoring='f1_macro')\n",
    "clf.fit(X,y)"
   ]
  },
  {
   "cell_type": "code",
   "execution_count": 22,
   "metadata": {
    "ExecuteTime": {
     "end_time": "2023-06-27T05:36:17.575926Z",
     "start_time": "2023-06-27T05:36:13.156404400Z"
    }
   },
   "outputs": [
    {
     "data": {
      "text/plain": "array([0, 0, 0, ..., 0, 0, 0], dtype=int64)"
     },
     "execution_count": 22,
     "metadata": {},
     "output_type": "execute_result"
    }
   ],
   "source": [
    "clf.predict(X_test)"
   ]
  },
  {
   "cell_type": "code",
   "execution_count": 23,
   "metadata": {
    "ExecuteTime": {
     "end_time": "2023-06-27T05:36:17.609561300Z",
     "start_time": "2023-06-27T05:36:17.579894700Z"
    }
   },
   "outputs": [
    {
     "data": {
      "text/plain": "SVC(C=1, random_state=2)",
      "text/html": "<style>#sk-container-id-2 {color: black;background-color: white;}#sk-container-id-2 pre{padding: 0;}#sk-container-id-2 div.sk-toggleable {background-color: white;}#sk-container-id-2 label.sk-toggleable__label {cursor: pointer;display: block;width: 100%;margin-bottom: 0;padding: 0.3em;box-sizing: border-box;text-align: center;}#sk-container-id-2 label.sk-toggleable__label-arrow:before {content: \"▸\";float: left;margin-right: 0.25em;color: #696969;}#sk-container-id-2 label.sk-toggleable__label-arrow:hover:before {color: black;}#sk-container-id-2 div.sk-estimator:hover label.sk-toggleable__label-arrow:before {color: black;}#sk-container-id-2 div.sk-toggleable__content {max-height: 0;max-width: 0;overflow: hidden;text-align: left;background-color: #f0f8ff;}#sk-container-id-2 div.sk-toggleable__content pre {margin: 0.2em;color: black;border-radius: 0.25em;background-color: #f0f8ff;}#sk-container-id-2 input.sk-toggleable__control:checked~div.sk-toggleable__content {max-height: 200px;max-width: 100%;overflow: auto;}#sk-container-id-2 input.sk-toggleable__control:checked~label.sk-toggleable__label-arrow:before {content: \"▾\";}#sk-container-id-2 div.sk-estimator input.sk-toggleable__control:checked~label.sk-toggleable__label {background-color: #d4ebff;}#sk-container-id-2 div.sk-label input.sk-toggleable__control:checked~label.sk-toggleable__label {background-color: #d4ebff;}#sk-container-id-2 input.sk-hidden--visually {border: 0;clip: rect(1px 1px 1px 1px);clip: rect(1px, 1px, 1px, 1px);height: 1px;margin: -1px;overflow: hidden;padding: 0;position: absolute;width: 1px;}#sk-container-id-2 div.sk-estimator {font-family: monospace;background-color: #f0f8ff;border: 1px dotted black;border-radius: 0.25em;box-sizing: border-box;margin-bottom: 0.5em;}#sk-container-id-2 div.sk-estimator:hover {background-color: #d4ebff;}#sk-container-id-2 div.sk-parallel-item::after {content: \"\";width: 100%;border-bottom: 1px solid gray;flex-grow: 1;}#sk-container-id-2 div.sk-label:hover label.sk-toggleable__label {background-color: #d4ebff;}#sk-container-id-2 div.sk-serial::before {content: \"\";position: absolute;border-left: 1px solid gray;box-sizing: border-box;top: 0;bottom: 0;left: 50%;z-index: 0;}#sk-container-id-2 div.sk-serial {display: flex;flex-direction: column;align-items: center;background-color: white;padding-right: 0.2em;padding-left: 0.2em;position: relative;}#sk-container-id-2 div.sk-item {position: relative;z-index: 1;}#sk-container-id-2 div.sk-parallel {display: flex;align-items: stretch;justify-content: center;background-color: white;position: relative;}#sk-container-id-2 div.sk-item::before, #sk-container-id-2 div.sk-parallel-item::before {content: \"\";position: absolute;border-left: 1px solid gray;box-sizing: border-box;top: 0;bottom: 0;left: 50%;z-index: -1;}#sk-container-id-2 div.sk-parallel-item {display: flex;flex-direction: column;z-index: 1;position: relative;background-color: white;}#sk-container-id-2 div.sk-parallel-item:first-child::after {align-self: flex-end;width: 50%;}#sk-container-id-2 div.sk-parallel-item:last-child::after {align-self: flex-start;width: 50%;}#sk-container-id-2 div.sk-parallel-item:only-child::after {width: 0;}#sk-container-id-2 div.sk-dashed-wrapped {border: 1px dashed gray;margin: 0 0.4em 0.5em 0.4em;box-sizing: border-box;padding-bottom: 0.4em;background-color: white;}#sk-container-id-2 div.sk-label label {font-family: monospace;font-weight: bold;display: inline-block;line-height: 1.2em;}#sk-container-id-2 div.sk-label-container {text-align: center;}#sk-container-id-2 div.sk-container {/* jupyter's `normalize.less` sets `[hidden] { display: none; }` but bootstrap.min.css set `[hidden] { display: none !important; }` so we also need the `!important` here to be able to override the default hidden behavior on the sphinx rendered scikit-learn.org. See: https://github.com/scikit-learn/scikit-learn/issues/21755 */display: inline-block !important;position: relative;}#sk-container-id-2 div.sk-text-repr-fallback {display: none;}</style><div id=\"sk-container-id-2\" class=\"sk-top-container\"><div class=\"sk-text-repr-fallback\"><pre>SVC(C=1, random_state=2)</pre><b>In a Jupyter environment, please rerun this cell to show the HTML representation or trust the notebook. <br />On GitHub, the HTML representation is unable to render, please try loading this page with nbviewer.org.</b></div><div class=\"sk-container\" hidden><div class=\"sk-item\"><div class=\"sk-estimator sk-toggleable\"><input class=\"sk-toggleable__control sk-hidden--visually\" id=\"sk-estimator-id-4\" type=\"checkbox\" checked><label for=\"sk-estimator-id-4\" class=\"sk-toggleable__label sk-toggleable__label-arrow\">SVC</label><div class=\"sk-toggleable__content\"><pre>SVC(C=1, random_state=2)</pre></div></div></div></div></div>"
     },
     "execution_count": 23,
     "metadata": {},
     "output_type": "execute_result"
    }
   ],
   "source": [
    "clf.best_estimator_"
   ]
  },
  {
   "cell_type": "code",
   "execution_count": 24,
   "metadata": {
    "ExecuteTime": {
     "end_time": "2023-06-27T05:36:21.792598300Z",
     "start_time": "2023-06-27T05:36:17.592464500Z"
    }
   },
   "outputs": [
    {
     "data": {
      "text/plain": "array([0, 0, 0, ..., 0, 0, 0], dtype=int64)"
     },
     "execution_count": 24,
     "metadata": {},
     "output_type": "execute_result"
    }
   ],
   "source": [
    "y_pred = clf.predict(X)\n",
    "y_pred"
   ]
  },
  {
   "cell_type": "code",
   "execution_count": 25,
   "metadata": {
    "ExecuteTime": {
     "end_time": "2023-06-27T05:36:25.741983600Z",
     "start_time": "2023-06-27T05:36:21.795114600Z"
    }
   },
   "outputs": [
    {
     "data": {
      "text/plain": "array([0, 0, 0, ..., 0, 0, 0], dtype=int64)"
     },
     "execution_count": 25,
     "metadata": {},
     "output_type": "execute_result"
    }
   ],
   "source": [
    "clf.predict(X_test)"
   ]
  },
  {
   "cell_type": "code",
   "execution_count": 26,
   "metadata": {
    "ExecuteTime": {
     "end_time": "2023-06-27T05:36:29.753693400Z",
     "start_time": "2023-06-27T05:36:25.749547300Z"
    }
   },
   "outputs": [
    {
     "data": {
      "text/plain": "array([0, 0, 0, ..., 0, 0, 0], dtype=int64)"
     },
     "execution_count": 26,
     "metadata": {},
     "output_type": "execute_result"
    }
   ],
   "source": [
    "y_pred_clf = clf.best_estimator_.predict(X)\n",
    "y_pred_clf"
   ]
  },
  {
   "cell_type": "code",
   "execution_count": 27,
   "metadata": {
    "ExecuteTime": {
     "end_time": "2023-06-27T05:36:29.769905600Z",
     "start_time": "2023-06-27T05:36:29.755207400Z"
    }
   },
   "outputs": [
    {
     "name": "stdout",
     "output_type": "stream",
     "text": [
      "precision =  0.6115702479338843\n",
      "recall_score =  0.04862023653088042\n",
      "f1_score 0.09007912355447352\n"
     ]
    }
   ],
   "source": [
    "from sklearn.metrics import precision_score, recall_score, f1_score\n",
    "print('precision = ', precision_score(y,y_pred_clf ))\n",
    "print('recall_score = ', recall_score(y,y_pred_clf ))\n",
    "print('f1_score',f1_score(y,y_pred_clf ))"
   ]
  },
  {
   "cell_type": "code",
   "execution_count": 28,
   "metadata": {
    "ExecuteTime": {
     "end_time": "2023-06-27T05:36:33.661542400Z",
     "start_time": "2023-06-27T05:36:29.775020100Z"
    }
   },
   "outputs": [
    {
     "data": {
      "text/plain": "array([0, 0, 0, ..., 0, 0, 0], dtype=int64)"
     },
     "execution_count": 28,
     "metadata": {},
     "output_type": "execute_result"
    }
   ],
   "source": [
    "clf.predict(X_test)"
   ]
  },
  {
   "cell_type": "code",
   "execution_count": 29,
   "metadata": {
    "ExecuteTime": {
     "end_time": "2023-06-27T07:33:07.966803100Z",
     "start_time": "2023-06-27T05:36:33.667864Z"
    }
   },
   "outputs": [
    {
     "data": {
      "text/plain": "SVC(C=1, kernel='linear')",
      "text/html": "<style>#sk-container-id-3 {color: black;background-color: white;}#sk-container-id-3 pre{padding: 0;}#sk-container-id-3 div.sk-toggleable {background-color: white;}#sk-container-id-3 label.sk-toggleable__label {cursor: pointer;display: block;width: 100%;margin-bottom: 0;padding: 0.3em;box-sizing: border-box;text-align: center;}#sk-container-id-3 label.sk-toggleable__label-arrow:before {content: \"▸\";float: left;margin-right: 0.25em;color: #696969;}#sk-container-id-3 label.sk-toggleable__label-arrow:hover:before {color: black;}#sk-container-id-3 div.sk-estimator:hover label.sk-toggleable__label-arrow:before {color: black;}#sk-container-id-3 div.sk-toggleable__content {max-height: 0;max-width: 0;overflow: hidden;text-align: left;background-color: #f0f8ff;}#sk-container-id-3 div.sk-toggleable__content pre {margin: 0.2em;color: black;border-radius: 0.25em;background-color: #f0f8ff;}#sk-container-id-3 input.sk-toggleable__control:checked~div.sk-toggleable__content {max-height: 200px;max-width: 100%;overflow: auto;}#sk-container-id-3 input.sk-toggleable__control:checked~label.sk-toggleable__label-arrow:before {content: \"▾\";}#sk-container-id-3 div.sk-estimator input.sk-toggleable__control:checked~label.sk-toggleable__label {background-color: #d4ebff;}#sk-container-id-3 div.sk-label input.sk-toggleable__control:checked~label.sk-toggleable__label {background-color: #d4ebff;}#sk-container-id-3 input.sk-hidden--visually {border: 0;clip: rect(1px 1px 1px 1px);clip: rect(1px, 1px, 1px, 1px);height: 1px;margin: -1px;overflow: hidden;padding: 0;position: absolute;width: 1px;}#sk-container-id-3 div.sk-estimator {font-family: monospace;background-color: #f0f8ff;border: 1px dotted black;border-radius: 0.25em;box-sizing: border-box;margin-bottom: 0.5em;}#sk-container-id-3 div.sk-estimator:hover {background-color: #d4ebff;}#sk-container-id-3 div.sk-parallel-item::after {content: \"\";width: 100%;border-bottom: 1px solid gray;flex-grow: 1;}#sk-container-id-3 div.sk-label:hover label.sk-toggleable__label {background-color: #d4ebff;}#sk-container-id-3 div.sk-serial::before {content: \"\";position: absolute;border-left: 1px solid gray;box-sizing: border-box;top: 0;bottom: 0;left: 50%;z-index: 0;}#sk-container-id-3 div.sk-serial {display: flex;flex-direction: column;align-items: center;background-color: white;padding-right: 0.2em;padding-left: 0.2em;position: relative;}#sk-container-id-3 div.sk-item {position: relative;z-index: 1;}#sk-container-id-3 div.sk-parallel {display: flex;align-items: stretch;justify-content: center;background-color: white;position: relative;}#sk-container-id-3 div.sk-item::before, #sk-container-id-3 div.sk-parallel-item::before {content: \"\";position: absolute;border-left: 1px solid gray;box-sizing: border-box;top: 0;bottom: 0;left: 50%;z-index: -1;}#sk-container-id-3 div.sk-parallel-item {display: flex;flex-direction: column;z-index: 1;position: relative;background-color: white;}#sk-container-id-3 div.sk-parallel-item:first-child::after {align-self: flex-end;width: 50%;}#sk-container-id-3 div.sk-parallel-item:last-child::after {align-self: flex-start;width: 50%;}#sk-container-id-3 div.sk-parallel-item:only-child::after {width: 0;}#sk-container-id-3 div.sk-dashed-wrapped {border: 1px dashed gray;margin: 0 0.4em 0.5em 0.4em;box-sizing: border-box;padding-bottom: 0.4em;background-color: white;}#sk-container-id-3 div.sk-label label {font-family: monospace;font-weight: bold;display: inline-block;line-height: 1.2em;}#sk-container-id-3 div.sk-label-container {text-align: center;}#sk-container-id-3 div.sk-container {/* jupyter's `normalize.less` sets `[hidden] { display: none; }` but bootstrap.min.css set `[hidden] { display: none !important; }` so we also need the `!important` here to be able to override the default hidden behavior on the sphinx rendered scikit-learn.org. See: https://github.com/scikit-learn/scikit-learn/issues/21755 */display: inline-block !important;position: relative;}#sk-container-id-3 div.sk-text-repr-fallback {display: none;}</style><div id=\"sk-container-id-3\" class=\"sk-top-container\"><div class=\"sk-text-repr-fallback\"><pre>SVC(C=1, kernel=&#x27;linear&#x27;)</pre><b>In a Jupyter environment, please rerun this cell to show the HTML representation or trust the notebook. <br />On GitHub, the HTML representation is unable to render, please try loading this page with nbviewer.org.</b></div><div class=\"sk-container\" hidden><div class=\"sk-item\"><div class=\"sk-estimator sk-toggleable\"><input class=\"sk-toggleable__control sk-hidden--visually\" id=\"sk-estimator-id-5\" type=\"checkbox\" checked><label for=\"sk-estimator-id-5\" class=\"sk-toggleable__label sk-toggleable__label-arrow\">SVC</label><div class=\"sk-toggleable__content\"><pre>SVC(C=1, kernel=&#x27;linear&#x27;)</pre></div></div></div></div></div>"
     },
     "execution_count": 29,
     "metadata": {},
     "output_type": "execute_result"
    }
   ],
   "source": [
    "from matplotlib import pyplot as plt\n",
    "from sklearn import svm\n",
    "import numpy as np\n",
    "\n",
    "def f_importances(coef, names):\n",
    "\n",
    "    names = np.arange(1)\n",
    "    imp = coef\n",
    "    imp,names = zip(*sorted(zip(imp,names)))\n",
    "    plt.barh(range(len(names)), imp, align='center')\n",
    "    plt.yticks(range(len(names)), names)\n",
    "    plt.show()\n",
    "\n",
    "features_names = X.columns\n",
    "svm1 = svm.SVC(kernel='linear',C=1)\n",
    "svm1.fit(X, y)"
   ]
  },
  {
   "cell_type": "code",
   "execution_count": 30,
   "metadata": {
    "ExecuteTime": {
     "end_time": "2023-06-27T07:33:08.025858300Z",
     "start_time": "2023-06-27T07:33:08.015136600Z"
    }
   },
   "outputs": [
    {
     "data": {
      "text/plain": "array([[ 4.94582183e-02, -6.01160136e-04, -1.00632329e-03,\n         5.01354307e-04,  4.43481348e-01,  1.77392539e-01,\n         5.84774469e-02, -3.71104162e-01,  1.08907191e-01,\n        -3.12704166e-01,  1.06544058e+00, -1.54267502e+00,\n        -3.79745999e-01,  8.91096184e-02, -3.43149439e-01,\n         1.82688137e+00, -6.80957134e-02,  2.35237677e-02,\n        -1.26496718e-01,  4.25620234e-02, -1.31507900e-01,\n        -2.02999682e-03, -2.63503748e-02, -3.16147257e-01,\n         1.49729824e-01,  4.58099795e-01,  2.01652549e-01,\n        -2.86892165e-01, -1.83113454e-01,  1.43683429e-01,\n        -1.51563383e+00, -2.30944782e-01, -6.80023560e-01,\n        -6.35248386e-01, -4.21032887e-01, -1.13387044e+00,\n        -1.50250633e+00,  2.44999554e-01,  2.45399366e-01,\n        -1.31456493e+00,  5.97616263e-01,  1.24090136e+00,\n         1.23671421e-01,  4.93644078e-01, -2.51096177e-01,\n        -5.73158170e-02,  1.02090649e+00, -8.08470063e-02,\n         6.89114547e-02, -2.16388290e-01,  3.48424571e-01,\n         0.00000000e+00,  4.01116475e-01, -4.39985304e-01,\n        -6.32483589e-02,  0.00000000e+00,  4.38580981e-01,\n        -1.31873062e-01, -5.50542125e-01, -3.79813205e-01,\n         1.36329899e+00, -1.71030369e-01,  1.28979532e+00,\n         4.02771896e-01, -1.50876496e-01, -4.48759120e-01,\n        -6.32483589e-02,  3.56498407e-01, -9.62853228e-02,\n         1.26875750e-01, -1.38292588e-01,  4.25875865e-02,\n         9.39335842e-02, -3.03732532e-02,  4.81840507e-02,\n        -1.14672424e-01, -8.25596226e-01, -6.32483589e-02,\n         1.10621529e+00, -1.30973778e-01, -2.89434684e-01,\n        -2.72787863e-01, -3.21767001e-02,  1.63213889e+00,\n         7.65299480e-01,  2.61662733e-02,  2.29333892e-01,\n        -7.84897609e-01, -9.43502387e-01,  5.55976369e-01,\n         3.15612206e-01, -1.01209915e+00, -6.54750839e-01,\n         3.74283493e-01, -1.00642049e+00,  1.65658087e+00,\n         6.65880685e-02,  2.00558238e-01,  5.24226905e-01,\n        -1.38710438e-01, -2.34957865e-02,  9.39335842e-02,\n         1.74575621e-02, -5.60986200e-01, -3.11792522e-01,\n        -1.39168567e-01,  0.00000000e+00, -2.34957865e-02,\n        -6.32483589e-02, -5.65147689e-01, -2.77696710e-01,\n        -1.10768533e-01,  6.91634752e-01, -6.62167910e-02,\n        -1.53470635e-01, -3.38513633e-01, -1.82134483e-01,\n         5.63665586e-01,  6.53315192e-01, -9.22586756e-01,\n        -4.14691262e-01, -4.82673465e-02,  1.28285567e+00,\n         9.17335566e-01, -1.48094359e+00,  1.95179499e-01,\n         2.64824024e-01,  2.35396601e-01,  1.63647919e-02,\n        -2.43860304e-01, -3.72626971e-01, -1.54763894e+00,\n         8.74167079e-01, -1.10768533e-01,  1.55704845e-01,\n         1.50963314e-01,  2.29333892e-01,  2.67528640e-01,\n         7.51215017e-02,  7.31810308e-01,  3.15314670e-01,\n        -1.38710438e-01,  0.00000000e+00,  9.01174398e-02,\n         5.70977619e-01, -3.58689073e-01,  1.33046691e-01,\n        -2.75782206e-03,  8.93650755e-01, -6.25970925e-01,\n         9.88838076e-01, -4.46574865e-01, -7.26831829e-01,\n         0.00000000e+00, -8.08827597e-02, -6.07289179e-01,\n         2.62353933e+00,  0.00000000e+00, -1.17107088e+00,\n        -4.68428353e-01,  4.18706739e-02,  4.81038979e-01,\n        -9.87876234e-03,  6.86186943e-01, -3.83466251e-01,\n         1.18327439e+00, -3.22886692e-01, -2.57812744e-02,\n         1.41545392e+00, -1.21707431e-01, -6.03246644e-02,\n         2.86912826e-03, -5.25801107e-01, -4.68086991e-02,\n         2.06141818e-01, -8.45028316e-01,  9.55186636e-02,\n        -8.58012823e-02, -2.04609771e+00, -9.81634749e-01,\n         1.85785507e-02,  1.60846093e+00, -8.93240893e-01,\n        -1.35804738e-01,  1.03502527e+00,  3.06441561e-01,\n         4.57207873e-01,  8.89487109e-02,  2.16267583e-01,\n        -1.79149579e-01,  5.94659843e-02, -1.42504609e-01,\n         9.96569866e-02,  1.25751289e+00, -2.92375403e-01,\n        -1.13209756e+00,  4.79282220e-02, -1.96793746e-01,\n        -7.56832267e-02,  2.15078776e-01, -6.24322851e-01,\n         5.98965104e-02, -9.83995335e-02,  4.10538711e-01,\n         1.38843410e-01,  0.00000000e+00,  4.58287709e-01,\n         2.96758953e-01, -2.62900554e-01,  0.00000000e+00,\n        -3.07697750e-01,  7.45206539e-01,  5.50708010e-01,\n         2.47680338e-01, -1.00837984e+00,  3.19100194e-01,\n        -1.12186606e+00,  2.74498902e-01,  4.26539497e-02,\n         3.32935069e-02, -2.62900554e-01, -3.37641684e-01,\n         9.16917428e-02, -4.24212713e-01,  8.69963011e-02,\n        -9.28984962e-03, -1.90606642e+00,  1.07929413e+00,\n        -2.17333264e-03,  9.76696943e-01,  7.83266844e-01,\n        -2.62900554e-01, -1.11160922e-02,  1.64140573e-01,\n         2.50275974e-01, -2.31823505e-01,  3.60165889e-02,\n        -9.10792997e-01, -1.51135791e+00, -5.02171487e-02,\n        -1.37106350e-01,  5.57968231e-02,  1.32851971e+00,\n        -7.70329531e-01,  2.39575829e-01,  1.01537486e+00,\n         6.61301615e-02, -3.95679613e-01, -6.96459884e-01,\n        -8.29235059e-01,  9.72769717e-01,  2.29143855e-01,\n        -4.31160710e-01, -1.15593273e-01, -4.25338522e-01,\n        -1.90606642e+00, -5.15445156e-02,  1.67922809e-01,\n         2.30254063e-02, -6.55333685e-01,  0.00000000e+00,\n        -4.25338522e-01, -2.62900554e-01,  1.31737268e-01,\n         9.95477212e-02, -1.10768533e-01,  4.68621192e-01,\n        -1.03494813e+00, -4.77725098e-02, -1.47802618e-01,\n         2.71960981e-01, -2.65112537e-01, -6.02905637e-02,\n         2.75648724e+00, -9.74469701e-01,  3.87762502e-02,\n        -7.30943358e-01, -5.48425399e-01,  1.35015106e+00,\n        -4.50606866e-02, -4.61925807e-02, -1.41848677e+00,\n        -3.54834284e-02,  8.70689127e-02,  3.96864155e-01,\n         1.46502540e+00,  8.74167079e-01, -1.10768533e-01,\n        -2.10735396e-01, -4.67714552e-01, -1.37106350e-01,\n         3.00962357e-01, -7.25245326e-01, -9.84384390e-01,\n         1.19374433e+00, -1.15593273e-01,  0.00000000e+00,\n        -1.98806851e-01,  2.49100692e+00,  5.27579669e-01,\n         1.91120378e-01, -4.37553567e-02, -5.82117406e-01,\n         5.07293503e-01, -4.76667576e-01,  8.93141836e-02,\n         4.82502306e-01,  0.00000000e+00,  2.10780043e-01,\n        -2.25566674e-01, -2.10934115e+00,  0.00000000e+00]])"
     },
     "execution_count": 30,
     "metadata": {},
     "output_type": "execute_result"
    }
   ],
   "source": [
    "svm1.coef_"
   ]
  },
  {
   "cell_type": "code",
   "execution_count": 30,
   "metadata": {
    "ExecuteTime": {
     "end_time": "2023-06-27T07:33:08.040695800Z",
     "start_time": "2023-06-27T07:33:08.027859600Z"
    }
   },
   "outputs": [],
   "source": []
  },
  {
   "cell_type": "code",
   "execution_count": 30,
   "metadata": {
    "ExecuteTime": {
     "end_time": "2023-06-27T07:33:08.058706500Z",
     "start_time": "2023-06-27T07:33:08.042689400Z"
    }
   },
   "outputs": [],
   "source": []
  },
  {
   "cell_type": "code",
   "execution_count": 30,
   "metadata": {
    "ExecuteTime": {
     "end_time": "2023-06-27T07:33:08.072240700Z",
     "start_time": "2023-06-27T07:33:08.056713700Z"
    }
   },
   "outputs": [],
   "source": []
  }
 ],
 "metadata": {
  "kernelspec": {
   "display_name": "Python 3 (ipykernel)",
   "language": "python",
   "name": "python3"
  },
  "language_info": {
   "codemirror_mode": {
    "name": "ipython",
    "version": 3
   },
   "file_extension": ".py",
   "mimetype": "text/x-python",
   "name": "python",
   "nbconvert_exporter": "python",
   "pygments_lexer": "ipython3",
   "version": "3.10.9"
  }
 },
 "nbformat": 4,
 "nbformat_minor": 1
}
